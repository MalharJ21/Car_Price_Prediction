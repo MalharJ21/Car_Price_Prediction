{
 "cells": [
  {
   "cell_type": "markdown",
   "id": "3b426d5b",
   "metadata": {},
   "source": [
    "# Importing the Libraries"
   ]
  },
  {
   "cell_type": "code",
   "execution_count": 1,
   "id": "b46930a9",
   "metadata": {},
   "outputs": [],
   "source": [
    "import random\n",
    "import numpy as np\n",
    "import pandas as pd\n",
    "from matplotlib import pyplot as plt\n",
    "from sklearn.preprocessing import StandardScaler\n",
    "from sklearn.linear_model import LinearRegression\n",
    "from sklearn.neighbors import KNeighborsRegressor\n",
    "from sklearn.preprocessing import OneHotEncoder\n",
    "from sklearn.ensemble import RandomForestRegressor\n",
    "from sklearn.metrics import mean_squared_error, r2_score\n",
    "from sklearn.model_selection import train_test_split\n",
    "import matplotlib.pyplot as plt\n",
    "import seaborn as sns\n",
    "import numpy as np\n",
    "import pandas as pd "
   ]
  },
  {
   "cell_type": "markdown",
   "id": "04e3a6da",
   "metadata": {},
   "source": [
    "# Loading the data "
   ]
  },
  {
   "cell_type": "code",
   "execution_count": 2,
   "id": "87c1748a",
   "metadata": {},
   "outputs": [],
   "source": [
    "df = pd.read_csv('D:\\Malhar H Jadhav\\Zep Intern\\Task 2\\Web Scrapping of Cars24\\Data\\Cars24_Scrapped_Data.csv')"
   ]
  },
  {
   "cell_type": "code",
   "execution_count": 3,
   "id": "6022dd5e",
   "metadata": {},
   "outputs": [
    {
     "data": {
      "text/html": [
       "<div>\n",
       "<style scoped>\n",
       "    .dataframe tbody tr th:only-of-type {\n",
       "        vertical-align: middle;\n",
       "    }\n",
       "\n",
       "    .dataframe tbody tr th {\n",
       "        vertical-align: top;\n",
       "    }\n",
       "\n",
       "    .dataframe thead th {\n",
       "        text-align: right;\n",
       "    }\n",
       "</style>\n",
       "<table border=\"1\" class=\"dataframe\">\n",
       "  <thead>\n",
       "    <tr style=\"text-align: right;\">\n",
       "      <th></th>\n",
       "      <th>City</th>\n",
       "      <th>Year</th>\n",
       "      <th>Brand</th>\n",
       "      <th>Car Name</th>\n",
       "      <th>Car model</th>\n",
       "      <th>Car Price</th>\n",
       "      <th>Car km</th>\n",
       "      <th>Owner</th>\n",
       "      <th>Car Type</th>\n",
       "      <th>Car link</th>\n",
       "    </tr>\n",
       "  </thead>\n",
       "  <tbody>\n",
       "    <tr>\n",
       "      <th>0</th>\n",
       "      <td>Pune</td>\n",
       "      <td>2021</td>\n",
       "      <td>Nissan</td>\n",
       "      <td>MAGNITE</td>\n",
       "      <td>NaN</td>\n",
       "      <td>963799</td>\n",
       "      <td>16,049</td>\n",
       "      <td>1</td>\n",
       "      <td>Petrol</td>\n",
       "      <td>https://www.cars24.com/buy-used-nissan-magnite...</td>\n",
       "    </tr>\n",
       "    <tr>\n",
       "      <th>1</th>\n",
       "      <td>Pune</td>\n",
       "      <td>2014</td>\n",
       "      <td>Volkswagen</td>\n",
       "      <td>Vento</td>\n",
       "      <td>Manual</td>\n",
       "      <td>513399</td>\n",
       "      <td>41,569</td>\n",
       "      <td>1</td>\n",
       "      <td>Petrol</td>\n",
       "      <td>https://www.cars24.com/buy-used-volkswagen-ven...</td>\n",
       "    </tr>\n",
       "    <tr>\n",
       "      <th>2</th>\n",
       "      <td>Pune</td>\n",
       "      <td>2020</td>\n",
       "      <td>Tata</td>\n",
       "      <td>Tiago</td>\n",
       "      <td>Manual</td>\n",
       "      <td>680399</td>\n",
       "      <td>8,118</td>\n",
       "      <td>1</td>\n",
       "      <td>Petrol</td>\n",
       "      <td>https://www.cars24.com/buy-used-tata-tiago-202...</td>\n",
       "    </tr>\n",
       "    <tr>\n",
       "      <th>3</th>\n",
       "      <td>Pune</td>\n",
       "      <td>2015</td>\n",
       "      <td>Renault</td>\n",
       "      <td>Duster</td>\n",
       "      <td>Manual</td>\n",
       "      <td>676799</td>\n",
       "      <td>63,143</td>\n",
       "      <td>1</td>\n",
       "      <td>Diesel</td>\n",
       "      <td>https://www.cars24.com/buy-used-renault-duster...</td>\n",
       "    </tr>\n",
       "    <tr>\n",
       "      <th>4</th>\n",
       "      <td>Pune</td>\n",
       "      <td>2020</td>\n",
       "      <td>Maruti</td>\n",
       "      <td>Alto</td>\n",
       "      <td>Manual</td>\n",
       "      <td>395099</td>\n",
       "      <td>2,530</td>\n",
       "      <td>1</td>\n",
       "      <td>Petrol</td>\n",
       "      <td>https://www.cars24.com/buy-used-maruti-alto-20...</td>\n",
       "    </tr>\n",
       "  </tbody>\n",
       "</table>\n",
       "</div>"
      ],
      "text/plain": [
       "   City  Year       Brand   Car Name Car model  Car Price  Car km  Owner  \\\n",
       "0  Pune  2021      Nissan  MAGNITE         NaN     963799  16,049      1   \n",
       "1  Pune  2014  Volkswagen    Vento      Manual     513399  41,569      1   \n",
       "2  Pune  2020        Tata    Tiago      Manual     680399   8,118      1   \n",
       "3  Pune  2015     Renault   Duster      Manual     676799  63,143      1   \n",
       "4  Pune  2020      Maruti     Alto      Manual     395099   2,530      1   \n",
       "\n",
       "  Car Type                                           Car link  \n",
       "0   Petrol  https://www.cars24.com/buy-used-nissan-magnite...  \n",
       "1   Petrol  https://www.cars24.com/buy-used-volkswagen-ven...  \n",
       "2   Petrol  https://www.cars24.com/buy-used-tata-tiago-202...  \n",
       "3   Diesel  https://www.cars24.com/buy-used-renault-duster...  \n",
       "4   Petrol  https://www.cars24.com/buy-used-maruti-alto-20...  "
      ]
     },
     "execution_count": 3,
     "metadata": {},
     "output_type": "execute_result"
    }
   ],
   "source": [
    "df.head()"
   ]
  },
  {
   "cell_type": "code",
   "execution_count": 4,
   "id": "110e9217",
   "metadata": {},
   "outputs": [
    {
     "data": {
      "text/plain": [
       "0    16049\n",
       "1    41569\n",
       "2     8118\n",
       "3    63143\n",
       "4     2530\n",
       "Name: Car km, dtype: int32"
      ]
     },
     "execution_count": 4,
     "metadata": {},
     "output_type": "execute_result"
    }
   ],
   "source": [
    "df['Car km']=df['Car km'].replace(\",\",\"\",regex=True)\n",
    "df['Car km']=df['Car km'].astype(int)\n",
    "df['Car km'].head()"
   ]
  },
  {
   "cell_type": "code",
   "execution_count": 5,
   "id": "4d2d83a1",
   "metadata": {},
   "outputs": [
    {
     "data": {
      "text/html": [
       "<style type=\"text/css\">\n",
       "#T_cf01f_row0_col1, #T_cf01f_row0_col7, #T_cf01f_row1_col1, #T_cf01f_row1_col7, #T_cf01f_row2_col1, #T_cf01f_row2_col7, #T_cf01f_row3_col1, #T_cf01f_row3_col7, #T_cf01f_row4_col1, #T_cf01f_row4_col6, #T_cf01f_row4_col7 {\n",
       "  background-color: #f7fcf5;\n",
       "  color: #000000;\n",
       "}\n",
       "#T_cf01f_row0_col5 {\n",
       "  background-color: #00441b;\n",
       "  color: #f1f1f1;\n",
       "}\n",
       "#T_cf01f_row0_col6 {\n",
       "  background-color: #f5fbf2;\n",
       "  color: #000000;\n",
       "}\n",
       "#T_cf01f_row1_col5 {\n",
       "  background-color: #66bd6f;\n",
       "  color: #f1f1f1;\n",
       "}\n",
       "#T_cf01f_row1_col6 {\n",
       "  background-color: #f1faee;\n",
       "  color: #000000;\n",
       "}\n",
       "#T_cf01f_row2_col5 {\n",
       "  background-color: #2e964d;\n",
       "  color: #f1f1f1;\n",
       "}\n",
       "#T_cf01f_row2_col6 {\n",
       "  background-color: #f6fcf4;\n",
       "  color: #000000;\n",
       "}\n",
       "#T_cf01f_row3_col5 {\n",
       "  background-color: #2f974e;\n",
       "  color: #f1f1f1;\n",
       "}\n",
       "#T_cf01f_row3_col6 {\n",
       "  background-color: #eef8ea;\n",
       "  color: #000000;\n",
       "}\n",
       "#T_cf01f_row4_col5 {\n",
       "  background-color: #95d391;\n",
       "  color: #000000;\n",
       "}\n",
       "</style>\n",
       "<table id=\"T_cf01f_\">\n",
       "  <thead>\n",
       "    <tr>\n",
       "      <th class=\"blank level0\" >&nbsp;</th>\n",
       "      <th class=\"col_heading level0 col0\" >City</th>\n",
       "      <th class=\"col_heading level0 col1\" >Year</th>\n",
       "      <th class=\"col_heading level0 col2\" >Brand</th>\n",
       "      <th class=\"col_heading level0 col3\" >Car Name</th>\n",
       "      <th class=\"col_heading level0 col4\" >Car model</th>\n",
       "      <th class=\"col_heading level0 col5\" >Car Price</th>\n",
       "      <th class=\"col_heading level0 col6\" >Car km</th>\n",
       "      <th class=\"col_heading level0 col7\" >Owner</th>\n",
       "      <th class=\"col_heading level0 col8\" >Car Type</th>\n",
       "      <th class=\"col_heading level0 col9\" >Car link</th>\n",
       "    </tr>\n",
       "  </thead>\n",
       "  <tbody>\n",
       "    <tr>\n",
       "      <th id=\"T_cf01f_level0_row0\" class=\"row_heading level0 row0\" >0</th>\n",
       "      <td id=\"T_cf01f_row0_col0\" class=\"data row0 col0\" >Pune</td>\n",
       "      <td id=\"T_cf01f_row0_col1\" class=\"data row0 col1\" >2021</td>\n",
       "      <td id=\"T_cf01f_row0_col2\" class=\"data row0 col2\" >Nissan</td>\n",
       "      <td id=\"T_cf01f_row0_col3\" class=\"data row0 col3\" >MAGNITE  </td>\n",
       "      <td id=\"T_cf01f_row0_col4\" class=\"data row0 col4\" >nan</td>\n",
       "      <td id=\"T_cf01f_row0_col5\" class=\"data row0 col5\" >963799</td>\n",
       "      <td id=\"T_cf01f_row0_col6\" class=\"data row0 col6\" >16049</td>\n",
       "      <td id=\"T_cf01f_row0_col7\" class=\"data row0 col7\" >1</td>\n",
       "      <td id=\"T_cf01f_row0_col8\" class=\"data row0 col8\" >Petrol</td>\n",
       "      <td id=\"T_cf01f_row0_col9\" class=\"data row0 col9\" >https://www.cars24.com/buy-used-nissan-magnite-2021-cars-mumbai-10351699795/</td>\n",
       "    </tr>\n",
       "    <tr>\n",
       "      <th id=\"T_cf01f_level0_row1\" class=\"row_heading level0 row1\" >1</th>\n",
       "      <td id=\"T_cf01f_row1_col0\" class=\"data row1 col0\" >Pune</td>\n",
       "      <td id=\"T_cf01f_row1_col1\" class=\"data row1 col1\" >2014</td>\n",
       "      <td id=\"T_cf01f_row1_col2\" class=\"data row1 col2\" >Volkswagen</td>\n",
       "      <td id=\"T_cf01f_row1_col3\" class=\"data row1 col3\" >Vento  </td>\n",
       "      <td id=\"T_cf01f_row1_col4\" class=\"data row1 col4\" >Manual</td>\n",
       "      <td id=\"T_cf01f_row1_col5\" class=\"data row1 col5\" >513399</td>\n",
       "      <td id=\"T_cf01f_row1_col6\" class=\"data row1 col6\" >41569</td>\n",
       "      <td id=\"T_cf01f_row1_col7\" class=\"data row1 col7\" >1</td>\n",
       "      <td id=\"T_cf01f_row1_col8\" class=\"data row1 col8\" >Petrol</td>\n",
       "      <td id=\"T_cf01f_row1_col9\" class=\"data row1 col9\" >https://www.cars24.com/buy-used-volkswagen-vento-2014-cars-mumbai-10371992797/</td>\n",
       "    </tr>\n",
       "    <tr>\n",
       "      <th id=\"T_cf01f_level0_row2\" class=\"row_heading level0 row2\" >2</th>\n",
       "      <td id=\"T_cf01f_row2_col0\" class=\"data row2 col0\" >Pune</td>\n",
       "      <td id=\"T_cf01f_row2_col1\" class=\"data row2 col1\" >2020</td>\n",
       "      <td id=\"T_cf01f_row2_col2\" class=\"data row2 col2\" >Tata</td>\n",
       "      <td id=\"T_cf01f_row2_col3\" class=\"data row2 col3\" >Tiago  </td>\n",
       "      <td id=\"T_cf01f_row2_col4\" class=\"data row2 col4\" >Manual</td>\n",
       "      <td id=\"T_cf01f_row2_col5\" class=\"data row2 col5\" >680399</td>\n",
       "      <td id=\"T_cf01f_row2_col6\" class=\"data row2 col6\" >8118</td>\n",
       "      <td id=\"T_cf01f_row2_col7\" class=\"data row2 col7\" >1</td>\n",
       "      <td id=\"T_cf01f_row2_col8\" class=\"data row2 col8\" >Petrol</td>\n",
       "      <td id=\"T_cf01f_row2_col9\" class=\"data row2 col9\" >https://www.cars24.com/buy-used-tata-tiago-2020-cars-pune-1037521668/</td>\n",
       "    </tr>\n",
       "    <tr>\n",
       "      <th id=\"T_cf01f_level0_row3\" class=\"row_heading level0 row3\" >3</th>\n",
       "      <td id=\"T_cf01f_row3_col0\" class=\"data row3 col0\" >Pune</td>\n",
       "      <td id=\"T_cf01f_row3_col1\" class=\"data row3 col1\" >2015</td>\n",
       "      <td id=\"T_cf01f_row3_col2\" class=\"data row3 col2\" >Renault</td>\n",
       "      <td id=\"T_cf01f_row3_col3\" class=\"data row3 col3\" >Duster  </td>\n",
       "      <td id=\"T_cf01f_row3_col4\" class=\"data row3 col4\" >Manual</td>\n",
       "      <td id=\"T_cf01f_row3_col5\" class=\"data row3 col5\" >676799</td>\n",
       "      <td id=\"T_cf01f_row3_col6\" class=\"data row3 col6\" >63143</td>\n",
       "      <td id=\"T_cf01f_row3_col7\" class=\"data row3 col7\" >1</td>\n",
       "      <td id=\"T_cf01f_row3_col8\" class=\"data row3 col8\" >Diesel</td>\n",
       "      <td id=\"T_cf01f_row3_col9\" class=\"data row3 col9\" >https://www.cars24.com/buy-used-renault-duster-2015-cars-mumbai-1034180265/</td>\n",
       "    </tr>\n",
       "    <tr>\n",
       "      <th id=\"T_cf01f_level0_row4\" class=\"row_heading level0 row4\" >4</th>\n",
       "      <td id=\"T_cf01f_row4_col0\" class=\"data row4 col0\" >Pune</td>\n",
       "      <td id=\"T_cf01f_row4_col1\" class=\"data row4 col1\" >2020</td>\n",
       "      <td id=\"T_cf01f_row4_col2\" class=\"data row4 col2\" >Maruti</td>\n",
       "      <td id=\"T_cf01f_row4_col3\" class=\"data row4 col3\" >Alto  </td>\n",
       "      <td id=\"T_cf01f_row4_col4\" class=\"data row4 col4\" >Manual</td>\n",
       "      <td id=\"T_cf01f_row4_col5\" class=\"data row4 col5\" >395099</td>\n",
       "      <td id=\"T_cf01f_row4_col6\" class=\"data row4 col6\" >2530</td>\n",
       "      <td id=\"T_cf01f_row4_col7\" class=\"data row4 col7\" >1</td>\n",
       "      <td id=\"T_cf01f_row4_col8\" class=\"data row4 col8\" >Petrol</td>\n",
       "      <td id=\"T_cf01f_row4_col9\" class=\"data row4 col9\" >https://www.cars24.com/buy-used-maruti-alto-2020-cars-pune-1240687206/</td>\n",
       "    </tr>\n",
       "  </tbody>\n",
       "</table>\n"
      ],
      "text/plain": [
       "<pandas.io.formats.style.Styler at 0x2b288efba90>"
      ]
     },
     "execution_count": 5,
     "metadata": {},
     "output_type": "execute_result"
    }
   ],
   "source": [
    "df.head(5).style.background_gradient(cmap='Greens',axis=None)"
   ]
  },
  {
   "cell_type": "code",
   "execution_count": 6,
   "id": "4571c5ab",
   "metadata": {},
   "outputs": [
    {
     "data": {
      "text/plain": [
       "City         object\n",
       "Year          int64\n",
       "Brand        object\n",
       "Car Name     object\n",
       "Car model    object\n",
       "Car Price     int64\n",
       "Car km        int32\n",
       "Owner         int64\n",
       "Car Type     object\n",
       "Car link     object\n",
       "dtype: object"
      ]
     },
     "execution_count": 6,
     "metadata": {},
     "output_type": "execute_result"
    }
   ],
   "source": [
    "df.dtypes "
   ]
  },
  {
   "cell_type": "markdown",
   "id": "0b6170d2",
   "metadata": {},
   "source": [
    "**`Observation:`**\n",
    "Here we can understand what are the datatypes of columns present"
   ]
  },
  {
   "cell_type": "markdown",
   "id": "160a0acd",
   "metadata": {},
   "source": [
    "**`Observation`**: Rows and Columns present in the data, we have 3437 Rows and 10 Columns present in the data "
   ]
  },
  {
   "cell_type": "code",
   "execution_count": 7,
   "id": "1a16ea84",
   "metadata": {},
   "outputs": [
    {
     "data": {
      "text/html": [
       "<style type=\"text/css\">\n",
       "#T_3e6ba_row0_col0, #T_3e6ba_row0_col1, #T_3e6ba_row0_col2, #T_3e6ba_row0_col3, #T_3e6ba_row1_col0, #T_3e6ba_row1_col3, #T_3e6ba_row2_col0, #T_3e6ba_row2_col3, #T_3e6ba_row3_col0, #T_3e6ba_row3_col2, #T_3e6ba_row3_col3, #T_3e6ba_row4_col0, #T_3e6ba_row4_col3, #T_3e6ba_row5_col0, #T_3e6ba_row5_col3, #T_3e6ba_row6_col0, #T_3e6ba_row6_col3, #T_3e6ba_row7_col0, #T_3e6ba_row7_col3 {\n",
       "  background-color: #f7fcf5;\n",
       "  color: #000000;\n",
       "}\n",
       "#T_3e6ba_row1_col1 {\n",
       "  background-color: #d3eecd;\n",
       "  color: #000000;\n",
       "}\n",
       "#T_3e6ba_row1_col2 {\n",
       "  background-color: #f5fbf3;\n",
       "  color: #000000;\n",
       "}\n",
       "#T_3e6ba_row2_col1 {\n",
       "  background-color: #e8f6e4;\n",
       "  color: #000000;\n",
       "}\n",
       "#T_3e6ba_row2_col2, #T_3e6ba_row4_col2, #T_3e6ba_row5_col2 {\n",
       "  background-color: #f6fcf4;\n",
       "  color: #000000;\n",
       "}\n",
       "#T_3e6ba_row3_col1 {\n",
       "  background-color: #eff9eb;\n",
       "  color: #000000;\n",
       "}\n",
       "#T_3e6ba_row4_col1 {\n",
       "  background-color: #e4f5df;\n",
       "  color: #000000;\n",
       "}\n",
       "#T_3e6ba_row5_col1 {\n",
       "  background-color: #daf0d4;\n",
       "  color: #000000;\n",
       "}\n",
       "#T_3e6ba_row6_col1 {\n",
       "  background-color: #cbeac4;\n",
       "  color: #000000;\n",
       "}\n",
       "#T_3e6ba_row6_col2 {\n",
       "  background-color: #f5fbf2;\n",
       "  color: #000000;\n",
       "}\n",
       "#T_3e6ba_row7_col1 {\n",
       "  background-color: #00441b;\n",
       "  color: #f1f1f1;\n",
       "}\n",
       "#T_3e6ba_row7_col2 {\n",
       "  background-color: #ebf7e7;\n",
       "  color: #000000;\n",
       "}\n",
       "</style>\n",
       "<table id=\"T_3e6ba_\">\n",
       "  <thead>\n",
       "    <tr>\n",
       "      <th class=\"blank level0\" >&nbsp;</th>\n",
       "      <th class=\"col_heading level0 col0\" >Year</th>\n",
       "      <th class=\"col_heading level0 col1\" >Car Price</th>\n",
       "      <th class=\"col_heading level0 col2\" >Car km</th>\n",
       "      <th class=\"col_heading level0 col3\" >Owner</th>\n",
       "    </tr>\n",
       "  </thead>\n",
       "  <tbody>\n",
       "    <tr>\n",
       "      <th id=\"T_3e6ba_level0_row0\" class=\"row_heading level0 row0\" >count</th>\n",
       "      <td id=\"T_3e6ba_row0_col0\" class=\"data row0 col0\" >3437.000000</td>\n",
       "      <td id=\"T_3e6ba_row0_col1\" class=\"data row0 col1\" >3437.000000</td>\n",
       "      <td id=\"T_3e6ba_row0_col2\" class=\"data row0 col2\" >3437.000000</td>\n",
       "      <td id=\"T_3e6ba_row0_col3\" class=\"data row0 col3\" >3437.000000</td>\n",
       "    </tr>\n",
       "    <tr>\n",
       "      <th id=\"T_3e6ba_level0_row1\" class=\"row_heading level0 row1\" >mean</th>\n",
       "      <td id=\"T_3e6ba_row1_col0\" class=\"data row1 col0\" >2017.121909</td>\n",
       "      <td id=\"T_3e6ba_row1_col1\" class=\"data row1 col1\" >676535.634274</td>\n",
       "      <td id=\"T_3e6ba_row1_col2\" class=\"data row1 col2\" >42477.444574</td>\n",
       "      <td id=\"T_3e6ba_row1_col3\" class=\"data row1 col3\" >1.231015</td>\n",
       "    </tr>\n",
       "    <tr>\n",
       "      <th id=\"T_3e6ba_level0_row2\" class=\"row_heading level0 row2\" >std</th>\n",
       "      <td id=\"T_3e6ba_row2_col0\" class=\"data row2 col0\" >2.226149</td>\n",
       "      <td id=\"T_3e6ba_row2_col1\" class=\"data row2 col1\" >352650.445748</td>\n",
       "      <td id=\"T_3e6ba_row2_col2\" class=\"data row2 col2\" >29501.251251</td>\n",
       "      <td id=\"T_3e6ba_row2_col3\" class=\"data row2 col3\" >0.466757</td>\n",
       "    </tr>\n",
       "    <tr>\n",
       "      <th id=\"T_3e6ba_level0_row3\" class=\"row_heading level0 row3\" >min</th>\n",
       "      <td id=\"T_3e6ba_row3_col0\" class=\"data row3 col0\" >2008.000000</td>\n",
       "      <td id=\"T_3e6ba_row3_col1\" class=\"data row3 col1\" >198399.000000</td>\n",
       "      <td id=\"T_3e6ba_row3_col2\" class=\"data row3 col2\" >71.000000</td>\n",
       "      <td id=\"T_3e6ba_row3_col3\" class=\"data row3 col3\" >1.000000</td>\n",
       "    </tr>\n",
       "    <tr>\n",
       "      <th id=\"T_3e6ba_level0_row4\" class=\"row_heading level0 row4\" >25%</th>\n",
       "      <td id=\"T_3e6ba_row4_col0\" class=\"data row4 col0\" >2016.000000</td>\n",
       "      <td id=\"T_3e6ba_row4_col1\" class=\"data row4 col1\" >440299.000000</td>\n",
       "      <td id=\"T_3e6ba_row4_col2\" class=\"data row4 col2\" >20478.000000</td>\n",
       "      <td id=\"T_3e6ba_row4_col3\" class=\"data row4 col3\" >1.000000</td>\n",
       "    </tr>\n",
       "    <tr>\n",
       "      <th id=\"T_3e6ba_level0_row5\" class=\"row_heading level0 row5\" >50%</th>\n",
       "      <td id=\"T_3e6ba_row5_col0\" class=\"data row5 col0\" >2017.000000</td>\n",
       "      <td id=\"T_3e6ba_row5_col1\" class=\"data row5 col1\" >579499.000000</td>\n",
       "      <td id=\"T_3e6ba_row5_col2\" class=\"data row5 col2\" >37774.000000</td>\n",
       "      <td id=\"T_3e6ba_row5_col3\" class=\"data row5 col3\" >1.000000</td>\n",
       "    </tr>\n",
       "    <tr>\n",
       "      <th id=\"T_3e6ba_level0_row6\" class=\"row_heading level0 row6\" >75%</th>\n",
       "      <td id=\"T_3e6ba_row6_col0\" class=\"data row6 col0\" >2019.000000</td>\n",
       "      <td id=\"T_3e6ba_row6_col1\" class=\"data row6 col1\" >790799.000000</td>\n",
       "      <td id=\"T_3e6ba_row6_col2\" class=\"data row6 col2\" >58498.000000</td>\n",
       "      <td id=\"T_3e6ba_row6_col3\" class=\"data row6 col3\" >1.000000</td>\n",
       "    </tr>\n",
       "    <tr>\n",
       "      <th id=\"T_3e6ba_level0_row7\" class=\"row_heading level0 row7\" >max</th>\n",
       "      <td id=\"T_3e6ba_row7_col0\" class=\"data row7 col0\" >2022.000000</td>\n",
       "      <td id=\"T_3e6ba_row7_col1\" class=\"data row7 col1\" >3353899.000000</td>\n",
       "      <td id=\"T_3e6ba_row7_col2\" class=\"data row7 col2\" >281380.000000</td>\n",
       "      <td id=\"T_3e6ba_row7_col3\" class=\"data row7 col3\" >4.000000</td>\n",
       "    </tr>\n",
       "  </tbody>\n",
       "</table>\n"
      ],
      "text/plain": [
       "<pandas.io.formats.style.Styler at 0x2b288f47ac0>"
      ]
     },
     "execution_count": 7,
     "metadata": {},
     "output_type": "execute_result"
    }
   ],
   "source": [
    "df.describe().style.background_gradient(cmap='Greens',axis=None)"
   ]
  },
  {
   "cell_type": "code",
   "execution_count": 8,
   "id": "2973624a",
   "metadata": {},
   "outputs": [
    {
     "name": "stdout",
     "output_type": "stream",
     "text": [
      "<class 'pandas.core.frame.DataFrame'>\n",
      "RangeIndex: 3437 entries, 0 to 3436\n",
      "Data columns (total 10 columns):\n",
      " #   Column     Non-Null Count  Dtype \n",
      "---  ------     --------------  ----- \n",
      " 0   City       3437 non-null   object\n",
      " 1   Year       3437 non-null   int64 \n",
      " 2   Brand      3437 non-null   object\n",
      " 3   Car Name   3437 non-null   object\n",
      " 4   Car model  3390 non-null   object\n",
      " 5   Car Price  3437 non-null   int64 \n",
      " 6   Car km     3437 non-null   int32 \n",
      " 7   Owner      3437 non-null   int64 \n",
      " 8   Car Type   3437 non-null   object\n",
      " 9   Car link   3437 non-null   object\n",
      "dtypes: int32(1), int64(3), object(6)\n",
      "memory usage: 255.2+ KB\n"
     ]
    }
   ],
   "source": [
    "df.info() "
   ]
  },
  {
   "cell_type": "code",
   "execution_count": 9,
   "id": "c83fe14b",
   "metadata": {},
   "outputs": [
    {
     "data": {
      "text/plain": [
       "Index(['City', 'Year', 'Brand', 'Car Name', 'Car model', 'Car Price', 'Car km',\n",
       "       'Owner', 'Car Type', 'Car link'],\n",
       "      dtype='object')"
      ]
     },
     "execution_count": 9,
     "metadata": {},
     "output_type": "execute_result"
    }
   ],
   "source": [
    "df.columns"
   ]
  },
  {
   "cell_type": "code",
   "execution_count": 10,
   "id": "ba9db884",
   "metadata": {},
   "outputs": [
    {
     "data": {
      "text/plain": [
       "(3437, 10)"
      ]
     },
     "execution_count": 10,
     "metadata": {},
     "output_type": "execute_result"
    }
   ],
   "source": [
    "df.shape "
   ]
  },
  {
   "cell_type": "code",
   "execution_count": 11,
   "id": "de6355fe",
   "metadata": {},
   "outputs": [
    {
     "data": {
      "text/plain": [
       "City          0\n",
       "Year          0\n",
       "Brand         0\n",
       "Car Name      0\n",
       "Car model    47\n",
       "Car Price     0\n",
       "Car km        0\n",
       "Owner         0\n",
       "Car Type      0\n",
       "Car link      0\n",
       "dtype: int64"
      ]
     },
     "execution_count": 11,
     "metadata": {},
     "output_type": "execute_result"
    }
   ],
   "source": [
    "df.isnull().sum() "
   ]
  },
  {
   "cell_type": "code",
   "execution_count": 12,
   "id": "0987cec7",
   "metadata": {},
   "outputs": [
    {
     "data": {
      "text/plain": [
       "3390"
      ]
     },
     "execution_count": 12,
     "metadata": {},
     "output_type": "execute_result"
    }
   ],
   "source": [
    "df=df.dropna()\n",
    "len(df)"
   ]
  },
  {
   "cell_type": "code",
   "execution_count": 13,
   "id": "d2c120d1",
   "metadata": {},
   "outputs": [
    {
     "data": {
      "text/plain": [
       "0"
      ]
     },
     "execution_count": 13,
     "metadata": {},
     "output_type": "execute_result"
    }
   ],
   "source": [
    "df.duplicated().sum() #Checking for Duplicate values"
   ]
  },
  {
   "cell_type": "code",
   "execution_count": 14,
   "id": "087ee99a",
   "metadata": {},
   "outputs": [
    {
     "data": {
      "text/html": [
       "<div>\n",
       "<style scoped>\n",
       "    .dataframe tbody tr th:only-of-type {\n",
       "        vertical-align: middle;\n",
       "    }\n",
       "\n",
       "    .dataframe tbody tr th {\n",
       "        vertical-align: top;\n",
       "    }\n",
       "\n",
       "    .dataframe thead th {\n",
       "        text-align: right;\n",
       "    }\n",
       "</style>\n",
       "<table border=\"1\" class=\"dataframe\">\n",
       "  <thead>\n",
       "    <tr style=\"text-align: right;\">\n",
       "      <th></th>\n",
       "      <th>City</th>\n",
       "      <th>Year</th>\n",
       "      <th>Brand</th>\n",
       "      <th>Car Name</th>\n",
       "      <th>Car model</th>\n",
       "      <th>Car Price</th>\n",
       "      <th>Car km</th>\n",
       "      <th>Owner</th>\n",
       "      <th>Car Type</th>\n",
       "      <th>Car link</th>\n",
       "    </tr>\n",
       "  </thead>\n",
       "  <tbody>\n",
       "    <tr>\n",
       "      <th>1</th>\n",
       "      <td>Pune</td>\n",
       "      <td>2014</td>\n",
       "      <td>Volkswagen</td>\n",
       "      <td>Vento</td>\n",
       "      <td>Manual</td>\n",
       "      <td>513399</td>\n",
       "      <td>41569</td>\n",
       "      <td>1</td>\n",
       "      <td>Petrol</td>\n",
       "      <td>https://www.cars24.com/buy-used-volkswagen-ven...</td>\n",
       "    </tr>\n",
       "    <tr>\n",
       "      <th>2</th>\n",
       "      <td>Pune</td>\n",
       "      <td>2020</td>\n",
       "      <td>Tata</td>\n",
       "      <td>Tiago</td>\n",
       "      <td>Manual</td>\n",
       "      <td>680399</td>\n",
       "      <td>8118</td>\n",
       "      <td>1</td>\n",
       "      <td>Petrol</td>\n",
       "      <td>https://www.cars24.com/buy-used-tata-tiago-202...</td>\n",
       "    </tr>\n",
       "    <tr>\n",
       "      <th>3</th>\n",
       "      <td>Pune</td>\n",
       "      <td>2015</td>\n",
       "      <td>Renault</td>\n",
       "      <td>Duster</td>\n",
       "      <td>Manual</td>\n",
       "      <td>676799</td>\n",
       "      <td>63143</td>\n",
       "      <td>1</td>\n",
       "      <td>Diesel</td>\n",
       "      <td>https://www.cars24.com/buy-used-renault-duster...</td>\n",
       "    </tr>\n",
       "    <tr>\n",
       "      <th>4</th>\n",
       "      <td>Pune</td>\n",
       "      <td>2020</td>\n",
       "      <td>Maruti</td>\n",
       "      <td>Alto</td>\n",
       "      <td>Manual</td>\n",
       "      <td>395099</td>\n",
       "      <td>2530</td>\n",
       "      <td>1</td>\n",
       "      <td>Petrol</td>\n",
       "      <td>https://www.cars24.com/buy-used-maruti-alto-20...</td>\n",
       "    </tr>\n",
       "    <tr>\n",
       "      <th>6</th>\n",
       "      <td>Pune</td>\n",
       "      <td>2019</td>\n",
       "      <td>Jeep</td>\n",
       "      <td>Compass</td>\n",
       "      <td>Manual</td>\n",
       "      <td>1370199</td>\n",
       "      <td>27193</td>\n",
       "      <td>1</td>\n",
       "      <td>Petrol</td>\n",
       "      <td>https://www.cars24.com/buy-used-jeep-compass-2...</td>\n",
       "    </tr>\n",
       "    <tr>\n",
       "      <th>...</th>\n",
       "      <td>...</td>\n",
       "      <td>...</td>\n",
       "      <td>...</td>\n",
       "      <td>...</td>\n",
       "      <td>...</td>\n",
       "      <td>...</td>\n",
       "      <td>...</td>\n",
       "      <td>...</td>\n",
       "      <td>...</td>\n",
       "      <td>...</td>\n",
       "    </tr>\n",
       "    <tr>\n",
       "      <th>3432</th>\n",
       "      <td>Hyderabad</td>\n",
       "      <td>2021</td>\n",
       "      <td>Hyundai</td>\n",
       "      <td>VENUE</td>\n",
       "      <td>Automatic</td>\n",
       "      <td>1201799</td>\n",
       "      <td>16964</td>\n",
       "      <td>1</td>\n",
       "      <td>Petrol</td>\n",
       "      <td>https://www.cars24.com/buy-used-hyundai-venue-...</td>\n",
       "    </tr>\n",
       "    <tr>\n",
       "      <th>3433</th>\n",
       "      <td>Hyderabad</td>\n",
       "      <td>2017</td>\n",
       "      <td>Maruti</td>\n",
       "      <td>S Cross</td>\n",
       "      <td>Manual</td>\n",
       "      <td>734599</td>\n",
       "      <td>99312</td>\n",
       "      <td>2</td>\n",
       "      <td>Diesel</td>\n",
       "      <td>https://www.cars24.com/buy-used-maruti-s-cross...</td>\n",
       "    </tr>\n",
       "    <tr>\n",
       "      <th>3434</th>\n",
       "      <td>Hyderabad</td>\n",
       "      <td>2014</td>\n",
       "      <td>Hyundai</td>\n",
       "      <td>Grand i10</td>\n",
       "      <td>Manual</td>\n",
       "      <td>443999</td>\n",
       "      <td>65018</td>\n",
       "      <td>1</td>\n",
       "      <td>Petrol</td>\n",
       "      <td>https://www.cars24.com/buy-used-hyundai-grand-...</td>\n",
       "    </tr>\n",
       "    <tr>\n",
       "      <th>3435</th>\n",
       "      <td>Hyderabad</td>\n",
       "      <td>2019</td>\n",
       "      <td>Maruti</td>\n",
       "      <td>Dzire</td>\n",
       "      <td>Manual</td>\n",
       "      <td>752199</td>\n",
       "      <td>84773</td>\n",
       "      <td>1</td>\n",
       "      <td>Diesel</td>\n",
       "      <td>https://www.cars24.com/buy-used-maruti-dzire-2...</td>\n",
       "    </tr>\n",
       "    <tr>\n",
       "      <th>3436</th>\n",
       "      <td>Hyderabad</td>\n",
       "      <td>2021</td>\n",
       "      <td>Volkswagen</td>\n",
       "      <td>Polo</td>\n",
       "      <td>Manual</td>\n",
       "      <td>661299</td>\n",
       "      <td>9891</td>\n",
       "      <td>1</td>\n",
       "      <td>Petrol</td>\n",
       "      <td>https://www.cars24.com/buy-used-volkswagen-pol...</td>\n",
       "    </tr>\n",
       "  </tbody>\n",
       "</table>\n",
       "<p>3390 rows × 10 columns</p>\n",
       "</div>"
      ],
      "text/plain": [
       "           City  Year       Brand    Car Name  Car model  Car Price  Car km  \\\n",
       "1          Pune  2014  Volkswagen     Vento       Manual     513399   41569   \n",
       "2          Pune  2020        Tata     Tiago       Manual     680399    8118   \n",
       "3          Pune  2015     Renault    Duster       Manual     676799   63143   \n",
       "4          Pune  2020      Maruti      Alto       Manual     395099    2530   \n",
       "6          Pune  2019        Jeep   Compass       Manual    1370199   27193   \n",
       "...         ...   ...         ...         ...        ...        ...     ...   \n",
       "3432  Hyderabad  2021     Hyundai     VENUE    Automatic    1201799   16964   \n",
       "3433  Hyderabad  2017      Maruti    S Cross      Manual     734599   99312   \n",
       "3434  Hyderabad  2014     Hyundai  Grand i10      Manual     443999   65018   \n",
       "3435  Hyderabad  2019      Maruti     Dzire       Manual     752199   84773   \n",
       "3436  Hyderabad  2021  Volkswagen      Polo       Manual     661299    9891   \n",
       "\n",
       "      Owner Car Type                                           Car link  \n",
       "1         1   Petrol  https://www.cars24.com/buy-used-volkswagen-ven...  \n",
       "2         1   Petrol  https://www.cars24.com/buy-used-tata-tiago-202...  \n",
       "3         1   Diesel  https://www.cars24.com/buy-used-renault-duster...  \n",
       "4         1   Petrol  https://www.cars24.com/buy-used-maruti-alto-20...  \n",
       "6         1   Petrol  https://www.cars24.com/buy-used-jeep-compass-2...  \n",
       "...     ...      ...                                                ...  \n",
       "3432      1   Petrol  https://www.cars24.com/buy-used-hyundai-venue-...  \n",
       "3433      2   Diesel  https://www.cars24.com/buy-used-maruti-s-cross...  \n",
       "3434      1   Petrol  https://www.cars24.com/buy-used-hyundai-grand-...  \n",
       "3435      1   Diesel  https://www.cars24.com/buy-used-maruti-dzire-2...  \n",
       "3436      1   Petrol  https://www.cars24.com/buy-used-volkswagen-pol...  \n",
       "\n",
       "[3390 rows x 10 columns]"
      ]
     },
     "execution_count": 14,
     "metadata": {},
     "output_type": "execute_result"
    }
   ],
   "source": [
    "df"
   ]
  },
  {
   "cell_type": "code",
   "execution_count": 15,
   "id": "916568cf",
   "metadata": {},
   "outputs": [
    {
     "data": {
      "text/plain": [
       "19"
      ]
     },
     "execution_count": 15,
     "metadata": {},
     "output_type": "execute_result"
    }
   ],
   "source": [
    "df['Brand'].nunique()"
   ]
  },
  {
   "cell_type": "code",
   "execution_count": 16,
   "id": "e22d5c05",
   "metadata": {},
   "outputs": [],
   "source": [
    "top5Brands=df['Brand'].value_counts().head() "
   ]
  },
  {
   "cell_type": "code",
   "execution_count": 17,
   "id": "31e7dfb7",
   "metadata": {
    "scrolled": true
   },
   "outputs": [
    {
     "data": {
      "text/plain": [
       "Text(0.5, 0, 'Most Number of Brands ')"
      ]
     },
     "execution_count": 17,
     "metadata": {},
     "output_type": "execute_result"
    },
    {
     "data": {
      "image/png": "[encoded data removed]",
      "text/plain": [
       "<Figure size 792x504 with 1 Axes>"
      ]
     },
     "metadata": {
      "needs_background": "light"
     },
     "output_type": "display_data"
    }
   ],
   "source": [
    "height = top5Brands.values\n",
    "bars = top5Brands.index\n",
    "y_pos = np.arange(len(bars))\n",
    "\n",
    "fig = plt.figure(figsize=[11,7], frameon=False)\n",
    "ax = fig.gca()\n",
    "ax.spines[\"top\"].set_visible(\"#424242\")\n",
    "ax.spines[\"right\"].set_visible(False)\n",
    "ax.spines[\"left\"].set_color(\"#424242\")\n",
    "ax.spines[\"bottom\"].set_color(\"#424242\")\n",
    "\n",
    "#colors = [\"green\",\"blue\",\"magenta\",\"cyan\",\"gray\"]\n",
    "#random.shuffle(colors)\n",
    "colors = [\"#f9cdac\",\"#f2a49f\",\"#ec7c92\",\"#e65586\",\"#bc438b\"]\n",
    "plt.barh(y_pos, height, color=colors)\n",
    "\n",
    "plt.xticks(color=\"#424242\")\n",
    "\n",
    "plt.yticks(y_pos, bars, color=\"#424242\")\n",
    "plt.xlabel(\"Most Number of Brands \")"
   ]
  },
  {
   "cell_type": "code",
   "execution_count": 18,
   "id": "d8c183f5",
   "metadata": {},
   "outputs": [],
   "source": [
    "top5City=df['City'].value_counts().head() "
   ]
  },
  {
   "cell_type": "code",
   "execution_count": 19,
   "id": "372745a2",
   "metadata": {},
   "outputs": [
    {
     "data": {
      "text/plain": [
       "Text(0.5, 0, 'Most Number of Brands ')"
      ]
     },
     "execution_count": 19,
     "metadata": {},
     "output_type": "execute_result"
    },
    {
     "data": {
      "image/png": "[encoded data removed]",
      "text/plain": [
       "<Figure size 792x504 with 1 Axes>"
      ]
     },
     "metadata": {
      "needs_background": "light"
     },
     "output_type": "display_data"
    }
   ],
   "source": [
    "height = top5City.values\n",
    "bars = top5City.index\n",
    "y_pos = np.arange(len(bars))\n",
    "\n",
    "fig = plt.figure(figsize=[11,7], frameon=False)\n",
    "ax = fig.gca()\n",
    "ax.spines[\"top\"].set_visible(\"#424242\")\n",
    "ax.spines[\"right\"].set_visible(False)\n",
    "ax.spines[\"left\"].set_color(\"#424242\")\n",
    "ax.spines[\"bottom\"].set_color(\"#424242\")\n",
    "\n",
    "#colors = [\"green\",\"blue\",\"magenta\",\"cyan\",\"gray\"]\n",
    "#random.shuffle(colors)\n",
    "colors = [\"#f9cdac\",\"#f2a49f\",\"#ec7c92\",\"#e65586\",\"#bc438b\"]\n",
    "plt.barh(y_pos, height, color=colors)\n",
    "\n",
    "plt.xticks(color=\"#424242\")\n",
    "\n",
    "plt.yticks(y_pos, bars, color=\"#424242\")\n",
    "plt.xlabel(\"Most Number of Brands \")"
   ]
  },
  {
   "cell_type": "code",
   "execution_count": 20,
   "id": "121e95ab",
   "metadata": {},
   "outputs": [
    {
     "data": {
      "text/plain": [
       "198399"
      ]
     },
     "execution_count": 20,
     "metadata": {},
     "output_type": "execute_result"
    }
   ],
   "source": [
    "df['Car Price'].min()"
   ]
  },
  {
   "cell_type": "code",
   "execution_count": 21,
   "id": "ed807979",
   "metadata": {},
   "outputs": [
    {
     "data": {
      "text/plain": [
       "3353899"
      ]
     },
     "execution_count": 21,
     "metadata": {},
     "output_type": "execute_result"
    }
   ],
   "source": [
    "df['Car Price'].max()"
   ]
  },
  {
   "cell_type": "code",
   "execution_count": 22,
   "id": "a0832799",
   "metadata": {},
   "outputs": [
    {
     "data": {
      "text/plain": [
       "<matplotlib.patches.Circle at 0x2b2898af7c0>"
      ]
     },
     "execution_count": 22,
     "metadata": {},
     "output_type": "execute_result"
    },
    {
     "data": {
      "image/png": "[encoded data removed]",
      "text/plain": [
       "<Figure size 432x288 with 1 Axes>"
      ]
     },
     "metadata": {},
     "output_type": "display_data"
    }
   ],
   "source": [
    "values=df['Car Type'].value_counts()\n",
    "labels=df['Car Type'].unique().tolist()\n",
    "explode=(0.1,0,0,0)\n",
    "plt.pie(values, labels=labels, explode=explode, radius=2, autopct='%.2f')\n",
    "my_circle=plt.Circle( (0,0), 1.0, color='white')\n",
    "p=plt.gcf()\n",
    "p.gca().add_artist(my_circle)"
   ]
  },
  {
   "cell_type": "code",
   "execution_count": 23,
   "id": "cb5b190b",
   "metadata": {},
   "outputs": [
    {
     "data": {
      "text/plain": [
       "([<matplotlib.patches.Wedge at 0x2b2899fbdc0>,\n",
       "  <matplotlib.patches.Wedge at 0x2b2899cc460>],\n",
       " [Text(-1.0203982508442198, 0.6314961675846158, 'Manual'),\n",
       "  Text(0.9353650361749368, -0.5788715307401626, 'Automatic')],\n",
       " [Text(-0.5952323129924614, 0.3683727644243592, '82.36'),\n",
       "  Text(0.5101991106408746, -0.31574810767645234, '17.64')])"
      ]
     },
     "execution_count": 23,
     "metadata": {},
     "output_type": "execute_result"
    },
    {
     "data": {
      "image/png": "[encoded data removed]",
      "text/plain": [
       "<Figure size 432x288 with 1 Axes>"
      ]
     },
     "metadata": {},
     "output_type": "display_data"
    }
   ],
   "source": [
    "x=df[\"Car model\"].value_counts()\n",
    "label=['Manual','Automatic']\n",
    "explode=(0.1,0)\n",
    "plt.pie(x,labels=label,autopct='%.2f',explode=explode)"
   ]
  },
  {
   "cell_type": "code",
   "execution_count": 24,
   "id": "80e66443",
   "metadata": {},
   "outputs": [
    {
     "data": {
      "text/plain": [
       "2008"
      ]
     },
     "execution_count": 24,
     "metadata": {},
     "output_type": "execute_result"
    }
   ],
   "source": [
    "df['Year'].min()"
   ]
  },
  {
   "cell_type": "code",
   "execution_count": 25,
   "id": "8f3e928d",
   "metadata": {},
   "outputs": [
    {
     "data": {
      "text/plain": [
       "2022"
      ]
     },
     "execution_count": 25,
     "metadata": {},
     "output_type": "execute_result"
    }
   ],
   "source": [
    "df['Year'].max()"
   ]
  },
  {
   "cell_type": "code",
   "execution_count": 26,
   "id": "b6d6a91d",
   "metadata": {},
   "outputs": [
    {
     "data": {
      "text/plain": [
       "<matplotlib.patches.Circle at 0x2b2899587c0>"
      ]
     },
     "execution_count": 26,
     "metadata": {},
     "output_type": "execute_result"
    },
    {
     "data": {
      "image/png": "[encoded data removed]",
      "text/plain": [
       "<Figure size 432x288 with 1 Axes>"
      ]
     },
     "metadata": {},
     "output_type": "display_data"
    }
   ],
   "source": [
    "values=df['Year'].value_counts()\n",
    "labels=df['Year'].unique().tolist()\n",
    "explode=(0.1,0,0,0,0,0,0,0,0,0,0,0,0,0,0)\n",
    "plt.pie(values, labels=labels, explode=explode, radius=2, autopct='%.2f')\n",
    "my_circle=plt.Circle( (0,0), 1.0, color='white')\n",
    "p=plt.gcf()\n",
    "p.gca().add_artist(my_circle)"
   ]
  },
  {
   "cell_type": "code",
   "execution_count": 27,
   "id": "96152f96",
   "metadata": {},
   "outputs": [
    {
     "data": {
      "text/html": [
       "<div>\n",
       "<style scoped>\n",
       "    .dataframe tbody tr th:only-of-type {\n",
       "        vertical-align: middle;\n",
       "    }\n",
       "\n",
       "    .dataframe tbody tr th {\n",
       "        vertical-align: top;\n",
       "    }\n",
       "\n",
       "    .dataframe thead th {\n",
       "        text-align: right;\n",
       "    }\n",
       "</style>\n",
       "<table border=\"1\" class=\"dataframe\">\n",
       "  <thead>\n",
       "    <tr style=\"text-align: right;\">\n",
       "      <th></th>\n",
       "      <th>City</th>\n",
       "      <th>Year</th>\n",
       "      <th>Brand</th>\n",
       "      <th>Car Name</th>\n",
       "      <th>Car model</th>\n",
       "      <th>Car Price</th>\n",
       "      <th>Car km</th>\n",
       "      <th>Owner</th>\n",
       "      <th>Car Type</th>\n",
       "    </tr>\n",
       "  </thead>\n",
       "  <tbody>\n",
       "    <tr>\n",
       "      <th>1</th>\n",
       "      <td>Pune</td>\n",
       "      <td>2014</td>\n",
       "      <td>Volkswagen</td>\n",
       "      <td>Vento</td>\n",
       "      <td>Manual</td>\n",
       "      <td>513399</td>\n",
       "      <td>41569</td>\n",
       "      <td>1</td>\n",
       "      <td>Petrol</td>\n",
       "    </tr>\n",
       "    <tr>\n",
       "      <th>2</th>\n",
       "      <td>Pune</td>\n",
       "      <td>2020</td>\n",
       "      <td>Tata</td>\n",
       "      <td>Tiago</td>\n",
       "      <td>Manual</td>\n",
       "      <td>680399</td>\n",
       "      <td>8118</td>\n",
       "      <td>1</td>\n",
       "      <td>Petrol</td>\n",
       "    </tr>\n",
       "    <tr>\n",
       "      <th>3</th>\n",
       "      <td>Pune</td>\n",
       "      <td>2015</td>\n",
       "      <td>Renault</td>\n",
       "      <td>Duster</td>\n",
       "      <td>Manual</td>\n",
       "      <td>676799</td>\n",
       "      <td>63143</td>\n",
       "      <td>1</td>\n",
       "      <td>Diesel</td>\n",
       "    </tr>\n",
       "    <tr>\n",
       "      <th>4</th>\n",
       "      <td>Pune</td>\n",
       "      <td>2020</td>\n",
       "      <td>Maruti</td>\n",
       "      <td>Alto</td>\n",
       "      <td>Manual</td>\n",
       "      <td>395099</td>\n",
       "      <td>2530</td>\n",
       "      <td>1</td>\n",
       "      <td>Petrol</td>\n",
       "    </tr>\n",
       "    <tr>\n",
       "      <th>6</th>\n",
       "      <td>Pune</td>\n",
       "      <td>2019</td>\n",
       "      <td>Jeep</td>\n",
       "      <td>Compass</td>\n",
       "      <td>Manual</td>\n",
       "      <td>1370199</td>\n",
       "      <td>27193</td>\n",
       "      <td>1</td>\n",
       "      <td>Petrol</td>\n",
       "    </tr>\n",
       "  </tbody>\n",
       "</table>\n",
       "</div>"
      ],
      "text/plain": [
       "   City  Year       Brand   Car Name Car model  Car Price  Car km  Owner  \\\n",
       "1  Pune  2014  Volkswagen    Vento      Manual     513399   41569      1   \n",
       "2  Pune  2020        Tata    Tiago      Manual     680399    8118      1   \n",
       "3  Pune  2015     Renault   Duster      Manual     676799   63143      1   \n",
       "4  Pune  2020      Maruti     Alto      Manual     395099    2530      1   \n",
       "6  Pune  2019        Jeep  Compass      Manual    1370199   27193      1   \n",
       "\n",
       "  Car Type  \n",
       "1   Petrol  \n",
       "2   Petrol  \n",
       "3   Diesel  \n",
       "4   Petrol  \n",
       "6   Petrol  "
      ]
     },
     "execution_count": 27,
     "metadata": {},
     "output_type": "execute_result"
    }
   ],
   "source": [
    "New_df=df.drop(['Car link'], axis=1)\n",
    "New_df.head()"
   ]
  },
  {
   "cell_type": "code",
   "execution_count": 28,
   "id": "c85c729e",
   "metadata": {},
   "outputs": [
    {
     "data": {
      "text/plain": [
       "3390"
      ]
     },
     "execution_count": 28,
     "metadata": {},
     "output_type": "execute_result"
    }
   ],
   "source": [
    "len(New_df)"
   ]
  },
  {
   "cell_type": "code",
   "execution_count": 29,
   "id": "0fc9b92a",
   "metadata": {},
   "outputs": [
    {
     "data": {
      "text/html": [
       "<div>\n",
       "<style scoped>\n",
       "    .dataframe tbody tr th:only-of-type {\n",
       "        vertical-align: middle;\n",
       "    }\n",
       "\n",
       "    .dataframe tbody tr th {\n",
       "        vertical-align: top;\n",
       "    }\n",
       "\n",
       "    .dataframe thead th {\n",
       "        text-align: right;\n",
       "    }\n",
       "</style>\n",
       "<table border=\"1\" class=\"dataframe\">\n",
       "  <thead>\n",
       "    <tr style=\"text-align: right;\">\n",
       "      <th></th>\n",
       "      <th>City</th>\n",
       "      <th>Year</th>\n",
       "      <th>Brand</th>\n",
       "      <th>Car Name</th>\n",
       "      <th>Car model</th>\n",
       "      <th>Car Price</th>\n",
       "      <th>Car km</th>\n",
       "      <th>Owner</th>\n",
       "      <th>Car Type</th>\n",
       "    </tr>\n",
       "  </thead>\n",
       "  <tbody>\n",
       "    <tr>\n",
       "      <th>1</th>\n",
       "      <td>Pune</td>\n",
       "      <td>2014</td>\n",
       "      <td>Volkswagen</td>\n",
       "      <td>Volkswagen Vento</td>\n",
       "      <td>Manual</td>\n",
       "      <td>513399</td>\n",
       "      <td>41569</td>\n",
       "      <td>1</td>\n",
       "      <td>Petrol</td>\n",
       "    </tr>\n",
       "    <tr>\n",
       "      <th>2</th>\n",
       "      <td>Pune</td>\n",
       "      <td>2020</td>\n",
       "      <td>Tata</td>\n",
       "      <td>Tata Tiago</td>\n",
       "      <td>Manual</td>\n",
       "      <td>680399</td>\n",
       "      <td>8118</td>\n",
       "      <td>1</td>\n",
       "      <td>Petrol</td>\n",
       "    </tr>\n",
       "    <tr>\n",
       "      <th>3</th>\n",
       "      <td>Pune</td>\n",
       "      <td>2015</td>\n",
       "      <td>Renault</td>\n",
       "      <td>Renault Duster</td>\n",
       "      <td>Manual</td>\n",
       "      <td>676799</td>\n",
       "      <td>63143</td>\n",
       "      <td>1</td>\n",
       "      <td>Diesel</td>\n",
       "    </tr>\n",
       "    <tr>\n",
       "      <th>4</th>\n",
       "      <td>Pune</td>\n",
       "      <td>2020</td>\n",
       "      <td>Maruti</td>\n",
       "      <td>Maruti Alto</td>\n",
       "      <td>Manual</td>\n",
       "      <td>395099</td>\n",
       "      <td>2530</td>\n",
       "      <td>1</td>\n",
       "      <td>Petrol</td>\n",
       "    </tr>\n",
       "    <tr>\n",
       "      <th>6</th>\n",
       "      <td>Pune</td>\n",
       "      <td>2019</td>\n",
       "      <td>Jeep</td>\n",
       "      <td>Jeep Compass</td>\n",
       "      <td>Manual</td>\n",
       "      <td>1370199</td>\n",
       "      <td>27193</td>\n",
       "      <td>1</td>\n",
       "      <td>Petrol</td>\n",
       "    </tr>\n",
       "    <tr>\n",
       "      <th>...</th>\n",
       "      <td>...</td>\n",
       "      <td>...</td>\n",
       "      <td>...</td>\n",
       "      <td>...</td>\n",
       "      <td>...</td>\n",
       "      <td>...</td>\n",
       "      <td>...</td>\n",
       "      <td>...</td>\n",
       "      <td>...</td>\n",
       "    </tr>\n",
       "    <tr>\n",
       "      <th>3432</th>\n",
       "      <td>Hyderabad</td>\n",
       "      <td>2021</td>\n",
       "      <td>Hyundai</td>\n",
       "      <td>Hyundai VENUE</td>\n",
       "      <td>Automatic</td>\n",
       "      <td>1201799</td>\n",
       "      <td>16964</td>\n",
       "      <td>1</td>\n",
       "      <td>Petrol</td>\n",
       "    </tr>\n",
       "    <tr>\n",
       "      <th>3433</th>\n",
       "      <td>Hyderabad</td>\n",
       "      <td>2017</td>\n",
       "      <td>Maruti</td>\n",
       "      <td>Maruti S Cross</td>\n",
       "      <td>Manual</td>\n",
       "      <td>734599</td>\n",
       "      <td>99312</td>\n",
       "      <td>2</td>\n",
       "      <td>Diesel</td>\n",
       "    </tr>\n",
       "    <tr>\n",
       "      <th>3434</th>\n",
       "      <td>Hyderabad</td>\n",
       "      <td>2014</td>\n",
       "      <td>Hyundai</td>\n",
       "      <td>Hyundai Grand i10</td>\n",
       "      <td>Manual</td>\n",
       "      <td>443999</td>\n",
       "      <td>65018</td>\n",
       "      <td>1</td>\n",
       "      <td>Petrol</td>\n",
       "    </tr>\n",
       "    <tr>\n",
       "      <th>3435</th>\n",
       "      <td>Hyderabad</td>\n",
       "      <td>2019</td>\n",
       "      <td>Maruti</td>\n",
       "      <td>Maruti Dzire</td>\n",
       "      <td>Manual</td>\n",
       "      <td>752199</td>\n",
       "      <td>84773</td>\n",
       "      <td>1</td>\n",
       "      <td>Diesel</td>\n",
       "    </tr>\n",
       "    <tr>\n",
       "      <th>3436</th>\n",
       "      <td>Hyderabad</td>\n",
       "      <td>2021</td>\n",
       "      <td>Volkswagen</td>\n",
       "      <td>Volkswagen Polo</td>\n",
       "      <td>Manual</td>\n",
       "      <td>661299</td>\n",
       "      <td>9891</td>\n",
       "      <td>1</td>\n",
       "      <td>Petrol</td>\n",
       "    </tr>\n",
       "  </tbody>\n",
       "</table>\n",
       "<p>3390 rows × 9 columns</p>\n",
       "</div>"
      ],
      "text/plain": [
       "           City  Year       Brand            Car Name  Car model  Car Price  \\\n",
       "1          Pune  2014  Volkswagen  Volkswagen Vento       Manual     513399   \n",
       "2          Pune  2020        Tata        Tata Tiago       Manual     680399   \n",
       "3          Pune  2015     Renault    Renault Duster       Manual     676799   \n",
       "4          Pune  2020      Maruti       Maruti Alto       Manual     395099   \n",
       "6          Pune  2019        Jeep      Jeep Compass       Manual    1370199   \n",
       "...         ...   ...         ...                 ...        ...        ...   \n",
       "3432  Hyderabad  2021     Hyundai     Hyundai VENUE    Automatic    1201799   \n",
       "3433  Hyderabad  2017      Maruti     Maruti S Cross      Manual     734599   \n",
       "3434  Hyderabad  2014     Hyundai  Hyundai Grand i10      Manual     443999   \n",
       "3435  Hyderabad  2019      Maruti      Maruti Dzire       Manual     752199   \n",
       "3436  Hyderabad  2021  Volkswagen   Volkswagen Polo       Manual     661299   \n",
       "\n",
       "      Car km  Owner Car Type  \n",
       "1      41569      1   Petrol  \n",
       "2       8118      1   Petrol  \n",
       "3      63143      1   Diesel  \n",
       "4       2530      1   Petrol  \n",
       "6      27193      1   Petrol  \n",
       "...      ...    ...      ...  \n",
       "3432   16964      1   Petrol  \n",
       "3433   99312      2   Diesel  \n",
       "3434   65018      1   Petrol  \n",
       "3435   84773      1   Diesel  \n",
       "3436    9891      1   Petrol  \n",
       "\n",
       "[3390 rows x 9 columns]"
      ]
     },
     "execution_count": 29,
     "metadata": {},
     "output_type": "execute_result"
    }
   ],
   "source": [
    "New_df['Car Name'] = New_df['Brand'].str.cat(New_df['Car Name'],sep=\" \")\n",
    "New_df"
   ]
  },
  {
   "cell_type": "code",
   "execution_count": 30,
   "id": "491a2946",
   "metadata": {},
   "outputs": [],
   "source": [
    "New_df.to_csv('Cars24_Cleaned.csv')"
   ]
  },
  {
   "cell_type": "markdown",
   "id": "6d5a3b89",
   "metadata": {},
   "source": [
    "# Modeling"
   ]
  },
  {
   "cell_type": "code",
   "execution_count": 31,
   "id": "1f71b9b2",
   "metadata": {},
   "outputs": [],
   "source": [
    "New_df=pd.read_csv(\"Cars24_Cleaned.csv\")"
   ]
  },
  {
   "cell_type": "code",
   "execution_count": 32,
   "id": "5bf49cf9",
   "metadata": {},
   "outputs": [],
   "source": [
    "X=New_df.drop(columns=['Car Price','Unnamed: 0'])\n",
    "Y=New_df['Car Price']"
   ]
  },
  {
   "cell_type": "code",
   "execution_count": 33,
   "id": "a1330ba9",
   "metadata": {},
   "outputs": [
    {
     "data": {
      "text/html": [
       "<div>\n",
       "<style scoped>\n",
       "    .dataframe tbody tr th:only-of-type {\n",
       "        vertical-align: middle;\n",
       "    }\n",
       "\n",
       "    .dataframe tbody tr th {\n",
       "        vertical-align: top;\n",
       "    }\n",
       "\n",
       "    .dataframe thead th {\n",
       "        text-align: right;\n",
       "    }\n",
       "</style>\n",
       "<table border=\"1\" class=\"dataframe\">\n",
       "  <thead>\n",
       "    <tr style=\"text-align: right;\">\n",
       "      <th></th>\n",
       "      <th>City</th>\n",
       "      <th>Year</th>\n",
       "      <th>Brand</th>\n",
       "      <th>Car Name</th>\n",
       "      <th>Car model</th>\n",
       "      <th>Car km</th>\n",
       "      <th>Owner</th>\n",
       "      <th>Car Type</th>\n",
       "    </tr>\n",
       "  </thead>\n",
       "  <tbody>\n",
       "    <tr>\n",
       "      <th>0</th>\n",
       "      <td>Pune</td>\n",
       "      <td>2014</td>\n",
       "      <td>Volkswagen</td>\n",
       "      <td>Volkswagen Vento</td>\n",
       "      <td>Manual</td>\n",
       "      <td>41569</td>\n",
       "      <td>1</td>\n",
       "      <td>Petrol</td>\n",
       "    </tr>\n",
       "    <tr>\n",
       "      <th>1</th>\n",
       "      <td>Pune</td>\n",
       "      <td>2020</td>\n",
       "      <td>Tata</td>\n",
       "      <td>Tata Tiago</td>\n",
       "      <td>Manual</td>\n",
       "      <td>8118</td>\n",
       "      <td>1</td>\n",
       "      <td>Petrol</td>\n",
       "    </tr>\n",
       "    <tr>\n",
       "      <th>2</th>\n",
       "      <td>Pune</td>\n",
       "      <td>2015</td>\n",
       "      <td>Renault</td>\n",
       "      <td>Renault Duster</td>\n",
       "      <td>Manual</td>\n",
       "      <td>63143</td>\n",
       "      <td>1</td>\n",
       "      <td>Diesel</td>\n",
       "    </tr>\n",
       "    <tr>\n",
       "      <th>3</th>\n",
       "      <td>Pune</td>\n",
       "      <td>2020</td>\n",
       "      <td>Maruti</td>\n",
       "      <td>Maruti Alto</td>\n",
       "      <td>Manual</td>\n",
       "      <td>2530</td>\n",
       "      <td>1</td>\n",
       "      <td>Petrol</td>\n",
       "    </tr>\n",
       "    <tr>\n",
       "      <th>4</th>\n",
       "      <td>Pune</td>\n",
       "      <td>2019</td>\n",
       "      <td>Jeep</td>\n",
       "      <td>Jeep Compass</td>\n",
       "      <td>Manual</td>\n",
       "      <td>27193</td>\n",
       "      <td>1</td>\n",
       "      <td>Petrol</td>\n",
       "    </tr>\n",
       "    <tr>\n",
       "      <th>...</th>\n",
       "      <td>...</td>\n",
       "      <td>...</td>\n",
       "      <td>...</td>\n",
       "      <td>...</td>\n",
       "      <td>...</td>\n",
       "      <td>...</td>\n",
       "      <td>...</td>\n",
       "      <td>...</td>\n",
       "    </tr>\n",
       "    <tr>\n",
       "      <th>3385</th>\n",
       "      <td>Hyderabad</td>\n",
       "      <td>2021</td>\n",
       "      <td>Hyundai</td>\n",
       "      <td>Hyundai VENUE</td>\n",
       "      <td>Automatic</td>\n",
       "      <td>16964</td>\n",
       "      <td>1</td>\n",
       "      <td>Petrol</td>\n",
       "    </tr>\n",
       "    <tr>\n",
       "      <th>3386</th>\n",
       "      <td>Hyderabad</td>\n",
       "      <td>2017</td>\n",
       "      <td>Maruti</td>\n",
       "      <td>Maruti S Cross</td>\n",
       "      <td>Manual</td>\n",
       "      <td>99312</td>\n",
       "      <td>2</td>\n",
       "      <td>Diesel</td>\n",
       "    </tr>\n",
       "    <tr>\n",
       "      <th>3387</th>\n",
       "      <td>Hyderabad</td>\n",
       "      <td>2014</td>\n",
       "      <td>Hyundai</td>\n",
       "      <td>Hyundai Grand i10</td>\n",
       "      <td>Manual</td>\n",
       "      <td>65018</td>\n",
       "      <td>1</td>\n",
       "      <td>Petrol</td>\n",
       "    </tr>\n",
       "    <tr>\n",
       "      <th>3388</th>\n",
       "      <td>Hyderabad</td>\n",
       "      <td>2019</td>\n",
       "      <td>Maruti</td>\n",
       "      <td>Maruti Dzire</td>\n",
       "      <td>Manual</td>\n",
       "      <td>84773</td>\n",
       "      <td>1</td>\n",
       "      <td>Diesel</td>\n",
       "    </tr>\n",
       "    <tr>\n",
       "      <th>3389</th>\n",
       "      <td>Hyderabad</td>\n",
       "      <td>2021</td>\n",
       "      <td>Volkswagen</td>\n",
       "      <td>Volkswagen Polo</td>\n",
       "      <td>Manual</td>\n",
       "      <td>9891</td>\n",
       "      <td>1</td>\n",
       "      <td>Petrol</td>\n",
       "    </tr>\n",
       "  </tbody>\n",
       "</table>\n",
       "<p>3390 rows × 8 columns</p>\n",
       "</div>"
      ],
      "text/plain": [
       "           City  Year       Brand            Car Name  Car model  Car km  \\\n",
       "0          Pune  2014  Volkswagen  Volkswagen Vento       Manual   41569   \n",
       "1          Pune  2020        Tata        Tata Tiago       Manual    8118   \n",
       "2          Pune  2015     Renault    Renault Duster       Manual   63143   \n",
       "3          Pune  2020      Maruti       Maruti Alto       Manual    2530   \n",
       "4          Pune  2019        Jeep      Jeep Compass       Manual   27193   \n",
       "...         ...   ...         ...                 ...        ...     ...   \n",
       "3385  Hyderabad  2021     Hyundai     Hyundai VENUE    Automatic   16964   \n",
       "3386  Hyderabad  2017      Maruti     Maruti S Cross      Manual   99312   \n",
       "3387  Hyderabad  2014     Hyundai  Hyundai Grand i10      Manual   65018   \n",
       "3388  Hyderabad  2019      Maruti      Maruti Dzire       Manual   84773   \n",
       "3389  Hyderabad  2021  Volkswagen   Volkswagen Polo       Manual    9891   \n",
       "\n",
       "      Owner Car Type  \n",
       "0         1   Petrol  \n",
       "1         1   Petrol  \n",
       "2         1   Diesel  \n",
       "3         1   Petrol  \n",
       "4         1   Petrol  \n",
       "...     ...      ...  \n",
       "3385      1   Petrol  \n",
       "3386      2   Diesel  \n",
       "3387      1   Petrol  \n",
       "3388      1   Diesel  \n",
       "3389      1   Petrol  \n",
       "\n",
       "[3390 rows x 8 columns]"
      ]
     },
     "execution_count": 33,
     "metadata": {},
     "output_type": "execute_result"
    }
   ],
   "source": [
    "X"
   ]
  },
  {
   "cell_type": "code",
   "execution_count": 34,
   "id": "cd895750",
   "metadata": {},
   "outputs": [
    {
     "name": "stdout",
     "output_type": "stream",
     "text": [
      "<class 'pandas.core.frame.DataFrame'>\n",
      "RangeIndex: 3390 entries, 0 to 3389\n",
      "Data columns (total 8 columns):\n",
      " #   Column     Non-Null Count  Dtype \n",
      "---  ------     --------------  ----- \n",
      " 0   City       3390 non-null   object\n",
      " 1   Year       3390 non-null   int64 \n",
      " 2   Brand      3390 non-null   object\n",
      " 3   Car Name   3390 non-null   object\n",
      " 4   Car model  3390 non-null   object\n",
      " 5   Car km     3390 non-null   int64 \n",
      " 6   Owner      3390 non-null   int64 \n",
      " 7   Car Type   3390 non-null   object\n",
      "dtypes: int64(3), object(5)\n",
      "memory usage: 212.0+ KB\n"
     ]
    }
   ],
   "source": [
    "X.info()"
   ]
  },
  {
   "cell_type": "code",
   "execution_count": 35,
   "id": "65897ce1",
   "metadata": {},
   "outputs": [
    {
     "data": {
      "text/plain": [
       "0        513399\n",
       "1        680399\n",
       "2        676799\n",
       "3        395099\n",
       "4       1370199\n",
       "         ...   \n",
       "3385    1201799\n",
       "3386     734599\n",
       "3387     443999\n",
       "3388     752199\n",
       "3389     661299\n",
       "Name: Car Price, Length: 3390, dtype: int64"
      ]
     },
     "execution_count": 35,
     "metadata": {},
     "output_type": "execute_result"
    }
   ],
   "source": [
    "Y"
   ]
  },
  {
   "cell_type": "code",
   "execution_count": null,
   "id": "c00ba206",
   "metadata": {},
   "outputs": [],
   "source": []
  },
  {
   "cell_type": "code",
   "execution_count": null,
   "id": "5b814ed4",
   "metadata": {},
   "outputs": [],
   "source": []
  },
  {
   "cell_type": "code",
   "execution_count": null,
   "id": "ebc2fa34",
   "metadata": {},
   "outputs": [],
   "source": []
  },
  {
   "cell_type": "code",
   "execution_count": 36,
   "id": "a8a54b07",
   "metadata": {},
   "outputs": [],
   "source": [
    "X_train, X_test, y_train, y_test=train_test_split(X,Y,test_size=0.2,random_state=0)"
   ]
  },
  {
   "cell_type": "code",
   "execution_count": 37,
   "id": "0a24f75f",
   "metadata": {},
   "outputs": [
    {
     "data": {
      "text/plain": [
       "OneHotEncoder(sparse=False)"
      ]
     },
     "execution_count": 37,
     "metadata": {},
     "output_type": "execute_result"
    }
   ],
   "source": [
    "ohe=OneHotEncoder(sparse=False, handle_unknown='error')\n",
    "ohe.fit(X[['City','Brand','Car Name','Car model','Car Type']])"
   ]
  },
  {
   "cell_type": "code",
   "execution_count": 38,
   "id": "5c58aa25",
   "metadata": {},
   "outputs": [
    {
     "data": {
      "text/plain": [
       "[array(['Ahmedabad', 'Bengaluru', 'Chennai', 'Hyderabad', 'Mumbai',\n",
       "        'New_Delhi', 'Pune'], dtype=object),\n",
       " array(['Audi', 'BMW', 'Datsun', 'Ford', 'Honda', 'Hyundai', 'Jaguar',\n",
       "        'Jeep', 'KIA', 'MG', 'Mahindra', 'Maruti', 'Mercedes', 'Nissan',\n",
       "        'Renault', 'Skoda', 'Tata', 'Toyota', 'Volkswagen'], dtype=object),\n",
       " array(['Audi A3  ', 'Audi A4  ', 'Audi A6  ', 'Audi Q3  ', 'Audi Q5  ',\n",
       "        'BMW 3 Series ', 'BMW 5 Series ', 'Datsun Go  ', 'Datsun Redi Go ',\n",
       "        'Ford Ecosport  ', 'Ford Endeavour  ', 'Ford FREESTYLE  ',\n",
       "        'Ford Figo  ', 'Ford Figo Aspire ', 'Ford New Figo ',\n",
       "        'Honda Amaze  ', 'Honda BR-V  ', 'Honda Brio  ', 'Honda CRV  ',\n",
       "        'Honda City  ', 'Honda Civic  ', 'Honda Jazz  ', 'Honda WR-V  ',\n",
       "        'Hyundai AURA  ', 'Hyundai Creta  ', 'Hyundai Elite i20 ',\n",
       "        'Hyundai Eon  ', 'Hyundai GRAND I10 NIOS', 'Hyundai Grand i10 ',\n",
       "        'Hyundai NEW I20 ', 'Hyundai NEW SANTRO ', 'Hyundai New Elantra ',\n",
       "        'Hyundai Santro Xing ', 'Hyundai Sonata  ', 'Hyundai Tucson New ',\n",
       "        'Hyundai VENUE  ', 'Hyundai Verna  ', 'Hyundai Xcent  ',\n",
       "        'Hyundai i10  ', 'Hyundai i20  ', 'Hyundai i20 Active ',\n",
       "        'Jaguar XF  ', 'Jeep Compass  ', 'KIA SELTOS  ', 'MG HECTOR  ',\n",
       "        'MG HECTOR PLUS ', 'Mahindra Bolero  ', 'Mahindra Kuv100  ',\n",
       "        'Mahindra MARAZZO  ', 'Mahindra Scorpio  ', 'Mahindra TUV300  ',\n",
       "        'Mahindra Thar  ', 'Mahindra XUV 3OO ', 'Mahindra XUV500  ',\n",
       "        'Maruti A Star ', 'Maruti Alto  ', 'Maruti Alto 800 ',\n",
       "        'Maruti Alto K10 ', 'Maruti Baleno  ', 'Maruti Celerio  ',\n",
       "        'Maruti Celerio X ', 'Maruti Ciaz  ', 'Maruti Dzire  ',\n",
       "        'Maruti Eeco  ', 'Maruti Ertiga  ', 'Maruti IGNIS  ',\n",
       "        'Maruti New Wagon-R ', 'Maruti Ritz  ', 'Maruti S Cross ',\n",
       "        'Maruti S PRESSO ', 'Maruti Swift  ', 'Maruti Swift Dzire ',\n",
       "        'Maruti Vitara Brezza ', 'Maruti Wagon R ', 'Maruti Wagon R 1.0',\n",
       "        'Maruti Wagon R Duo', 'Maruti XL6  ', 'Maruti Zen Estilo ',\n",
       "        'Mercedes Benz B Class', 'Mercedes Benz C Class',\n",
       "        'Mercedes Benz CLA Class', 'Mercedes Benz E Class',\n",
       "        'Mercedes Benz GLC CLASS', 'Nissan Micra  ',\n",
       "        'Nissan Micra Active ', 'Nissan Terrano  ', 'Renault Duster  ',\n",
       "        'Renault Kiger  ', 'Renault Kwid  ', 'Renault TRIBER  ',\n",
       "        'Skoda Octavia  ', 'Skoda Rapid  ', 'Skoda Superb  ',\n",
       "        'Tata ALTROZ  ', 'Tata Harrier  ', 'Tata Hexa  ', 'Tata NEXON  ',\n",
       "        'Tata Nano  ', 'Tata Safari  ', 'Tata TIGOR  ', 'Tata Tiago  ',\n",
       "        'Toyota Camry  ', 'Toyota Corolla Altis ', 'Toyota Etios  ',\n",
       "        'Toyota Etios Liva ', 'Toyota Fortuner  ', 'Toyota Glanza  ',\n",
       "        'Toyota Innova  ', 'Toyota Innova Crysta ', 'Toyota YARIS  ',\n",
       "        'Volkswagen Ameo  ', 'Volkswagen Jetta  ', 'Volkswagen Polo  ',\n",
       "        'Volkswagen Vento  '], dtype=object),\n",
       " array(['Automatic', 'Manual'], dtype=object),\n",
       " array(['Diesel', 'Petrol', 'Petrol + CNG', 'Petrol + LPG'], dtype=object)]"
      ]
     },
     "execution_count": 38,
     "metadata": {},
     "output_type": "execute_result"
    }
   ],
   "source": [
    "ohe.categories_"
   ]
  },
  {
   "cell_type": "code",
   "execution_count": 39,
   "id": "9dd77dec",
   "metadata": {},
   "outputs": [],
   "source": [
    "from sklearn.compose import make_column_transformer\n",
    "from sklearn.pipeline import make_pipeline"
   ]
  },
  {
   "cell_type": "code",
   "execution_count": 40,
   "id": "0410f2c6",
   "metadata": {},
   "outputs": [],
   "source": [
    "column_trans = make_column_transformer((OneHotEncoder(categories=ohe.categories_ ),['City','Brand','Car Name','Car model','Car Type']),\n",
    "                                      remainder='passthrough')"
   ]
  },
  {
   "cell_type": "code",
   "execution_count": 41,
   "id": "76edf416",
   "metadata": {},
   "outputs": [],
   "source": [
    "lr=LinearRegression()"
   ]
  },
  {
   "cell_type": "code",
   "execution_count": 42,
   "id": "dd8475eb",
   "metadata": {},
   "outputs": [],
   "source": [
    "pipe=make_pipeline(column_trans,lr)"
   ]
  },
  {
   "cell_type": "code",
   "execution_count": 43,
   "id": "4400e5ec",
   "metadata": {},
   "outputs": [
    {
     "name": "stdout",
     "output_type": "stream",
     "text": [
      "X_train =  (2712, 8)\n",
      "y_train =  (2712,)\n",
      "X_test =  (678, 8)\n",
      "y_test =  (678,)\n"
     ]
    }
   ],
   "source": [
    "print(\"X_train = \",X_train.shape)\n",
    "print(\"y_train = \",y_train.shape)\n",
    "print(\"X_test = \",X_test.shape)\n",
    "print(\"y_test = \",y_test.shape)"
   ]
  },
  {
   "cell_type": "code",
   "execution_count": null,
   "id": "455d9957",
   "metadata": {},
   "outputs": [],
   "source": []
  },
  {
   "cell_type": "code",
   "execution_count": 44,
   "id": "d0fa7a70",
   "metadata": {},
   "outputs": [
    {
     "data": {
      "text/plain": [
       "Pipeline(steps=[('columntransformer',\n",
       "                 ColumnTransformer(remainder='passthrough',\n",
       "                                   transformers=[('onehotencoder',\n",
       "                                                  OneHotEncoder(categories=[array(['Ahmedabad', 'Bengaluru', 'Chennai', 'Hyderabad', 'Mumbai',\n",
       "       'New_Delhi', 'Pune'], dtype=object),\n",
       "                                                                            array(['Audi', 'BMW', 'Datsun', 'Ford', 'Honda', 'Hyundai', 'Jaguar',\n",
       "       'Jeep', 'KIA', 'MG', 'Mahindra', 'Maruti', 'Mercedes', 'Nissa...\n",
       "       'Toyota Etios Liva ', 'Toyota Fortuner  ', 'Toyota Glanza  ',\n",
       "       'Toyota Innova  ', 'Toyota Innova Crysta ', 'Toyota YARIS  ',\n",
       "       'Volkswagen Ameo  ', 'Volkswagen Jetta  ', 'Volkswagen Polo  ',\n",
       "       'Volkswagen Vento  '], dtype=object),\n",
       "                                                                            array(['Automatic', 'Manual'], dtype=object),\n",
       "                                                                            array(['Diesel', 'Petrol', 'Petrol + CNG', 'Petrol + LPG'], dtype=object)]),\n",
       "                                                  ['City', 'Brand', 'Car Name',\n",
       "                                                   'Car model',\n",
       "                                                   'Car Type'])])),\n",
       "                ('linearregression', LinearRegression())])"
      ]
     },
     "execution_count": 44,
     "metadata": {},
     "output_type": "execute_result"
    }
   ],
   "source": [
    "pipe.fit(X_train,y_train)"
   ]
  },
  {
   "cell_type": "code",
   "execution_count": 45,
   "id": "c5c8d879",
   "metadata": {},
   "outputs": [],
   "source": [
    "y_pred=pipe.predict(X_test)"
   ]
  },
  {
   "cell_type": "code",
   "execution_count": 46,
   "id": "17a0ca73",
   "metadata": {},
   "outputs": [
    {
     "data": {
      "text/plain": [
       "0.8987347550080531"
      ]
     },
     "execution_count": 46,
     "metadata": {},
     "output_type": "execute_result"
    }
   ],
   "source": [
    "r2_score(y_test,y_pred)"
   ]
  },
  {
   "cell_type": "code",
   "execution_count": 47,
   "id": "d6c4b27e",
   "metadata": {},
   "outputs": [],
   "source": [
    "scores=[]\n",
    "for i in range(1000):\n",
    "    X_train, X_test, y_train, y_test=train_test_split(X,Y,test_size=0.2,random_state=i)\n",
    "    lr=LinearRegression()\n",
    "    pipe=make_pipeline(column_trans,lr)\n",
    "    pipe.fit(X_train,y_train)\n",
    "    y_pred=pipe.predict(X_test)\n",
    "    scores.append(r2_score(y_test,y_pred))"
   ]
  },
  {
   "cell_type": "code",
   "execution_count": 48,
   "id": "e73aca46",
   "metadata": {},
   "outputs": [
    {
     "data": {
      "text/plain": [
       "3"
      ]
     },
     "execution_count": 48,
     "metadata": {},
     "output_type": "execute_result"
    }
   ],
   "source": [
    "np.argmax(scores)"
   ]
  },
  {
   "cell_type": "code",
   "execution_count": 49,
   "id": "9fe016c2",
   "metadata": {},
   "outputs": [
    {
     "data": {
      "text/plain": [
       "0.9386024273258946"
      ]
     },
     "execution_count": 49,
     "metadata": {},
     "output_type": "execute_result"
    }
   ],
   "source": [
    "scores[3]"
   ]
  },
  {
   "cell_type": "code",
   "execution_count": 50,
   "id": "5b63ca0c",
   "metadata": {},
   "outputs": [
    {
     "data": {
      "text/plain": [
       "0.9386024273258946"
      ]
     },
     "execution_count": 50,
     "metadata": {},
     "output_type": "execute_result"
    }
   ],
   "source": [
    "X_train, X_test, y_train, y_test=train_test_split(X,Y,test_size=0.2,random_state=np.argmax(scores))\n",
    "lr=LinearRegression()\n",
    "pipe=make_pipeline(column_trans,lr)\n",
    "pipe.fit(X_train,y_train)\n",
    "y_pred=pipe.predict(X_test)\n",
    "r2_score(y_test,y_pred)"
   ]
  },
  {
   "cell_type": "code",
   "execution_count": 51,
   "id": "e0218f27",
   "metadata": {},
   "outputs": [],
   "source": [
    "import pickle"
   ]
  },
  {
   "cell_type": "code",
   "execution_count": 52,
   "id": "168b8295",
   "metadata": {},
   "outputs": [],
   "source": [
    "pickle.dump(pipe,open('LinearRegressionModel.pkl','wb'))"
   ]
  },
  {
   "cell_type": "code",
   "execution_count": 53,
   "id": "c88a1d47",
   "metadata": {},
   "outputs": [
    {
     "data": {
      "text/plain": [
       "array([440345.78191456])"
      ]
     },
     "execution_count": 53,
     "metadata": {},
     "output_type": "execute_result"
    }
   ],
   "source": [
    "pipe.predict(pd.DataFrame([['Chennai',2015,'Tata','Tata Tiago  ','Automatic',66756,2,'Diesel']], columns=['City','Year','Brand','Car Name','Car model','Car km','Owner','Car Type']))"
   ]
  },
  {
   "cell_type": "code",
   "execution_count": null,
   "id": "a1b4f15c",
   "metadata": {},
   "outputs": [],
   "source": []
  },
  {
   "cell_type": "code",
   "execution_count": null,
   "id": "09831702",
   "metadata": {},
   "outputs": [],
   "source": []
  },
  {
   "cell_type": "code",
   "execution_count": 54,
   "id": "31aed023",
   "metadata": {},
   "outputs": [],
   "source": [
    "rf=RandomForestRegressor(n_estimators=120)\n"
   ]
  },
  {
   "cell_type": "code",
   "execution_count": 55,
   "id": "60044620",
   "metadata": {},
   "outputs": [],
   "source": [
    "pipe_rf= make_pipeline(column_trans,rf)"
   ]
  },
  {
   "cell_type": "code",
   "execution_count": 56,
   "id": "27e299ab",
   "metadata": {
    "scrolled": true
   },
   "outputs": [
    {
     "data": {
      "text/plain": [
       "Pipeline(steps=[('columntransformer',\n",
       "                 ColumnTransformer(remainder='passthrough',\n",
       "                                   transformers=[('onehotencoder',\n",
       "                                                  OneHotEncoder(categories=[array(['Ahmedabad', 'Bengaluru', 'Chennai', 'Hyderabad', 'Mumbai',\n",
       "       'New_Delhi', 'Pune'], dtype=object),\n",
       "                                                                            array(['Audi', 'BMW', 'Datsun', 'Ford', 'Honda', 'Hyundai', 'Jaguar',\n",
       "       'Jeep', 'KIA', 'MG', 'Mahindra', 'Maruti', 'Mercedes', 'Nissa...\n",
       "       'Toyota Innova  ', 'Toyota Innova Crysta ', 'Toyota YARIS  ',\n",
       "       'Volkswagen Ameo  ', 'Volkswagen Jetta  ', 'Volkswagen Polo  ',\n",
       "       'Volkswagen Vento  '], dtype=object),\n",
       "                                                                            array(['Automatic', 'Manual'], dtype=object),\n",
       "                                                                            array(['Diesel', 'Petrol', 'Petrol + CNG', 'Petrol + LPG'], dtype=object)]),\n",
       "                                                  ['City', 'Brand', 'Car Name',\n",
       "                                                   'Car model',\n",
       "                                                   'Car Type'])])),\n",
       "                ('randomforestregressor',\n",
       "                 RandomForestRegressor(n_estimators=120))])"
      ]
     },
     "execution_count": 56,
     "metadata": {},
     "output_type": "execute_result"
    }
   ],
   "source": [
    "pipe_rf.fit(X_train,y_train)"
   ]
  },
  {
   "cell_type": "code",
   "execution_count": 57,
   "id": "e12baa9c",
   "metadata": {},
   "outputs": [],
   "source": [
    "ypred=pipe_rf.predict(X_test)"
   ]
  },
  {
   "cell_type": "code",
   "execution_count": 58,
   "id": "a231c8ce",
   "metadata": {},
   "outputs": [
    {
     "data": {
      "text/plain": [
       "0.9253257856389936"
      ]
     },
     "execution_count": 58,
     "metadata": {},
     "output_type": "execute_result"
    }
   ],
   "source": [
    "r2_score(y_test,ypred)"
   ]
  },
  {
   "cell_type": "code",
   "execution_count": 59,
   "id": "a621e579",
   "metadata": {},
   "outputs": [],
   "source": [
    "scores=[]\n",
    "for i in range(100):\n",
    "    X_train, X_test, y_train, y_test=train_test_split(X,Y,test_size=0.2,random_state=i)\n",
    "    rf=RandomForestRegressor(n_estimators=120)\n",
    "    pipe_rf= make_pipeline(column_trans,rf)\n",
    "    pipe_rf.fit(X_train,y_train)\n",
    "    ypred=pipe_rf.predict(X_test)\n",
    "    scores.append(r2_score(y_test,ypred))"
   ]
  },
  {
   "cell_type": "code",
   "execution_count": 60,
   "id": "46255e8d",
   "metadata": {},
   "outputs": [
    {
     "data": {
      "text/plain": [
       "22"
      ]
     },
     "execution_count": 60,
     "metadata": {},
     "output_type": "execute_result"
    }
   ],
   "source": [
    "np.argmax(scores)"
   ]
  },
  {
   "cell_type": "code",
   "execution_count": 61,
   "id": "1fed2632",
   "metadata": {},
   "outputs": [
    {
     "data": {
      "text/plain": [
       "0.9304717653550482"
      ]
     },
     "execution_count": 61,
     "metadata": {},
     "output_type": "execute_result"
    }
   ],
   "source": [
    "scores[22]"
   ]
  },
  {
   "cell_type": "markdown",
   "id": "6d8f13e6",
   "metadata": {},
   "source": [
    "As we can see Random Forest Regressor and Linear Regression Works Equally on our data so we will be using Linear Regression as our model"
   ]
  },
  {
   "cell_type": "code",
   "execution_count": null,
   "id": "0be6453e",
   "metadata": {},
   "outputs": [],
   "source": []
  }
 ],
 "metadata": {
  "kernelspec": {
   "display_name": "Python 3 (ipykernel)",
   "language": "python",
   "name": "python3"
  },
  "language_info": {
   "codemirror_mode": {
    "name": "ipython",
    "version": 3
   },
   "file_extension": ".py",
   "mimetype": "text/x-python",
   "name": "python",
   "nbconvert_exporter": "python",
   "pygments_lexer": "ipython3",
   "version": "3.9.7"
  }
 },
 "nbformat": 4,
 "nbformat_minor": 5
}
