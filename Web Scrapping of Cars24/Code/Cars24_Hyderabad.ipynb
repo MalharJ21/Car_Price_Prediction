{
 "cells": [
  {
   "cell_type": "markdown",
   "id": "a0647529",
   "metadata": {},
   "source": [
    "<h3>Importing the Libraries Required </h3>"
   ]
  },
  {
   "cell_type": "code",
   "execution_count": 1,
   "id": "0c5c40ca",
   "metadata": {},
   "outputs": [],
   "source": [
    "import urllib\n",
    "import time\n",
    "import json\n",
    "import numpy as np\n",
    "import pandas as pd\n",
    "from tqdm import tqdm\n",
    "from time import sleep\n",
    "from selenium import webdriver\n",
    "from selenium.webdriver.common.by import By\n",
    "from selenium.webdriver.support.ui import WebDriverWait\n",
    "from selenium.webdriver.support import expected_conditions as EC\n",
    "from selenium.common.exceptions import TimeoutException\n",
    "from bs4 import BeautifulSoup\n",
    "from selenium.common.exceptions import ElementClickInterceptedException\n",
    "from selenium.common.exceptions import NoSuchElementException\n"
   ]
  },
  {
   "cell_type": "markdown",
   "id": "e57b890a",
   "metadata": {},
   "source": [
    "<h3>Using Selenium For Auto Scrolling the Web-Page and Extracting the The Page Source</h3>"
   ]
  },
  {
   "cell_type": "code",
   "execution_count": 2,
   "id": "6c96f183",
   "metadata": {
    "scrolled": true
   },
   "outputs": [
    {
     "name": "stderr",
     "output_type": "stream",
     "text": [
      "C:\\Users\\jadha\\AppData\\Local\\Temp/ipykernel_13084/2285893684.py:1: DeprecationWarning: executable_path has been deprecated, please pass in a Service object\n",
      "  driver = webdriver.Chrome(executable_path=r'D:\\\\Malhar H Jadhav\\\\Devlopment\\\\chromedriver_win32\\\\chromedriver.exe')\n"
     ]
    }
   ],
   "source": [
    "driver = webdriver.Chrome(executable_path=r'D:\\\\Malhar H Jadhav\\\\Devlopment\\\\chromedriver_win32\\\\chromedriver.exe')\n",
    "driver.wait = WebDriverWait(driver, 5)\n",
    "driver.maximize_window()\n",
    "driver.get(\"https://www.cars24.com/buy-used-car?sort=P&storeCityId=3686&pinId=500001\")\n",
    "time.sleep(7)\n",
    "\n",
    "\n",
    "height = driver.execute_script(\"return document.documentElement.scrollHeight\")\n",
    "lastheight = 0\n",
    "while True:\n",
    "    if lastheight == height:\n",
    "        break\n",
    "    lastheight = height\n",
    "    driver.execute_script(\"window.scrollTo(0, \" + str(height) + \");\")\n",
    "    time.sleep(10)\n",
    "    height = driver.execute_script(\"return document.documentElement.scrollHeight\")\n",
    "    \n",
    "    \n",
    "# Using BeautifulSoup To Store the Page Source in Object Called Soup\n",
    "\n",
    "soup = BeautifulSoup(driver.page_source)\n",
    "driver.quit()"
   ]
  },
  {
   "cell_type": "markdown",
   "id": "9dbcafd3",
   "metadata": {},
   "source": [
    "<h3>Storing the page source in object called Soup and viewing the text</h3>"
   ]
  },
  {
   "cell_type": "code",
   "execution_count": 3,
   "id": "fe63b43f",
   "metadata": {},
   "outputs": [
    {
     "data": {
      "text/plain": [
       "\"\\n\\n\\n\\n\\n\\n\\n\\n\\n\\n\\nUsed Cars in Hyderabad - Second Hand Cars in Hyderabad for Sale\\nHyderabad  Popular CitiesUsed cars in BengaluruPopular CarsUsed Hyundai carsUsed Renault carsUsed Mahindra carsUsed Toyota carsUsed Audi carsUsed Honda carsUsed Maruti carsUsed Tata carsUsed Ford carsUsed Skoda carsAll used cars in BengaluruUsed cars in ChennaiPopular CarsUsed Hyundai carsUsed Renault carsUsed Mahindra carsUsed Toyota carsUsed Audi carsUsed Honda carsUsed Maruti carsUsed Tata carsUsed Ford carsUsed Skoda carsAll used cars in ChennaiUsed cars in New DelhiPopular CarsUsed Hyundai carsUsed Renault carsUsed Mahindra carsUsed Toyota carsUsed Audi carsUsed Honda carsUsed Maruti carsUsed Tata carsUsed Ford carsUsed Skoda carsAll used cars in New DelhiUsed cars in MumbaiPopular CarsUsed Hyundai carsUsed Renault carsUsed Mahindra carsUsed Toyota carsUsed Audi carsUsed Honda carsUsed Maruti carsUsed Tata carsUsed Ford carsUsed Skoda carsAll used cars in MumbaiUsed cars in PunePopular CarsUsed Hyundai carsUsed Renault carsUsed Mahindra carsUsed Toyota carsUsed Audi carsUsed Honda carsUsed Maruti carsUsed Tata carsUsed Ford carsUsed Skoda carsAll used cars in PuneUsed cars in HyderabadPopular CarsUsed Hyundai carsUsed Renault carsUsed Mahindra carsUsed Toyota carsUsed Audi carsUsed Honda carsUsed Maruti carsUsed Tata carsUsed Ford carsUsed Skoda carsAll used cars in HyderabadUsed cars in KolkataPopular CarsUsed Hyundai carsUsed Renault carsUsed Mahindra carsUsed Toyota carsUsed Audi carsUsed Honda carsUsed Maruti carsUsed Tata carsUsed Ford carsUsed Skoda carsAll used cars in KolkataUsed cars in AhmedabadPopular CarsUsed Hyundai carsUsed Renault carsUsed Mahindra carsUsed Toyota carsUsed Audi carsUsed Honda carsUsed Maruti carsUsed Tata carsUsed Ford carsUsed Skoda carsAll used cars in AhmedabadUsed cars in JaipurPopular CarsUsed Hyundai carsUsed Renault carsUsed Mahindra carsUsed Toyota carsUsed Audi carsUsed Honda carsUsed Maruti carsUsed Tata carsUsed Ford carsUsed Skoda carsAll used cars in JaipurUsed cars in ChandigarhPopular CarsUsed Hyundai carsUsed Renault carsUsed Mahindra carsUsed Toyota carsUsed Audi carsUsed Honda carsUsed Maruti carsUsed Tata carsUsed Ford carsUsed Skoda carsAll used cars in ChandigarhBuy used carSell used carLoginRC Transfers StatusFAQBecome a partnerBuy Car: 9 AM - 9 PM1800 258 5656HomeUsed CarsHyderabadFind your dream car with usSort By:Best Match  PriceModel YearKMs DrivenMake & ModelRTOMore FiltersUsed Cars in Hyderabad2012 Hyundai i10ERA 1.1 IRDE Manual45,261 km3rd OwnerPetrol₹7,330/month₹3,29,499Zero downpayment2021 KIA SONETHTX 1.0 IMT 21,260 km1st OwnerPetrol₹24,585/month₹11,05,199Zero downpayment2015 Maruti Swift DzireVDI BS IV Manual98,487 km1st OwnerDiesel₹11,985/month₹5,38,799Zero downpayment2016 Honda Jazz1.2 S MT Manual46,757 km1st OwnerPetrol₹13,215/month₹5,94,099Zero downpayment2018 Maruti Eeco7 STR Manual13,241 km1st OwnerPetrol₹8,929/month₹4,01,399Zero downpaymentFilter By Popular BrandMarutiHyundaiHondaTataToyota2019 Maruti CelerioVXI Manual16,550 km1st OwnerPetrol₹11,936/month₹5,36,599Zero downpayment2021 Mahindra XUV500W11 Manual15,339 km1st OwnerDiesel₹48,833/month₹21,95,299Zero downpayment2015 Hyundai Grand i10SPORTZ 1.2 KAPPA VTVT Manual22,344 km1st OwnerPetrol₹11,438/month₹5,14,199Zero downpayment2016 Hyundai Elite i20ASTA 1.2 (O) Manual90,741 km1st OwnerPetrol₹14,717/month₹6,61,599Zero downpayment2019 Maruti S PRESSOVXI Manual23,377 km1st OwnerPetrol₹9,977/month₹4,48,499Zero downpayment2019 Maruti Eeco5 STR WITH AC PLUSHTR Manual11,909 km1st OwnerPetrol₹10,824/month₹4,86,599Zero downpaymentFilter By BudgetCars under 2 lakhCars between 2 lakh - 5 lakhCars between 5 lakh - 10 lakhCars above 10 lakh2012 Hyundai i10MAGNA 1.2 KAPPA2 Manual66,786 km2nd OwnerPetrol₹7,263/month₹3,26,499Zero downpayment2019 Ford Ecosport1.5TITANIUM TDCI Manual25,668 km2nd OwnerDiesel₹20,440/month₹9,18,899Zero downpayment2020 Renault DusterRXZ Manual7,033 km1st OwnerPetrol₹23,504/month₹10,56,623Zero downpayment2018 Hyundai EonERA PLUS Manual51,790 km1st OwnerPetrol₹8,135/month₹3,65,699Zero downpayment2019 Maruti S PRESSOVXI Manual46,934 km2nd OwnerPetrol₹9,772/month₹4,39,299Zero downpayment2021 Volkswagen PoloHIGHLINE PLUS 1.0 TSI AT Automatic21,719 km1st OwnerPetrol₹22,580/month₹10,15,099Zero downpaymentFilter By Fuel TypePetrolDieselCNGLPGElectricHybrid2020 Maruti AltoLXI Manual18,490 km1st OwnerPetrol₹8,835/month₹3,97,199Zero downpayment2021 Hyundai VENUE1.0 TURBO GDI S IMT Manual3,273 km1st OwnerPetrol₹23,392/month₹10,51,599Zero downpayment2021 Hyundai VENUESX(O) CRDi Manual30,995 km1st OwnerDiesel₹29,861/month₹13,42,399Zero downpayment2016 Hyundai Grand i10ASTA 1.2 KAPPA VTVT Manual47,886 km2nd OwnerPetrol₹11,225/month₹5,04,599Zero downpayment2019 KIA SELTOSGTX + AT PETROL Automatic45,343 km1st OwnerPetrol₹36,014/month₹16,18,999Zero downpayment2016 Honda Jazz1.2 V AT Automatic87,510 km1st OwnerPetrol₹14,588/month₹6,55,799Zero downpaymentFilter By Body TypeHatchbackSedanSUVLuxury SedanLuxury SUV2018 Maruti S CrossALPHA 1.3 Manual45,849 km1st OwnerDiesel₹18,042/month₹8,11,099Zero downpayment2018 Maruti Wagon R 1.0VXI Manual64,715 km2nd OwnerPetrol₹9,993/month₹4,49,249Zero downpayment2021 Renault TRIBER1.0 RXL PETROL Manual41,079 km1st OwnerPetrol₹14,679/month₹6,59,899Zero downpayment2018 Maruti Alto 800LXI Manual20,555 km2nd OwnerPetrol₹7,490/month₹3,36,699Zero downpayment12-Months Free Warranty!Free 12 months warranty on all cars to safeguard you from unforeseen repair and maintenance costsKNOW MORE2013 Maruti Wagon R 1.0VXI Manual59,000 km1st OwnerPetrol₹7,572/month₹3,40,399Zero downpayment2014 Maruti Wagon R 1.0VXI Manual48,338 km1st OwnerPetrol₹9,027/month₹4,05,799Zero downpayment2017 Honda CityZX CVT Automatic43,858 km1st OwnerPetrol₹23,477/month₹10,55,399Zero downpayment2017 Maruti Alto K10VXI Manual16,104 km1st OwnerPetrol₹8,831/month₹3,96,999Zero downpayment2009 Toyota Corolla AltisVL AT Automatic95,761 km2nd OwnerPetrol₹13,651/month₹6,13,699Zero downpayment2017 Maruti Alto K10VXI Manual52,011 km1st OwnerPetrol₹8,101/month₹3,64,199Zero downpayment2019 Maruti Alto K10VXI Manual46,722 km1st OwnerPetrol₹9,636/month₹4,33,199Zero downpayment2020 Ford Ecosport1.5 TITANIUM PLUS TI VCT AT Automatic5,998 km1st OwnerPetrol₹26,186/month₹11,77,199Zero downpayment2021 Mahindra XUV 3OOW8(O) Manual29,763 km1st OwnerDiesel₹30,504/month₹13,71,299Zero downpayment2018 Maruti IGNISDELTA 1.2 K12 Manual33,355 km1st OwnerPetrol₹12,065/month₹5,42,399Zero downpayment2021 Maruti AltoVXI Manual11,190 km1st OwnerPetrol₹9,874/month₹4,43,899Zero downpayment2020 Maruti CiazALPHA 1.5 AT VTVT SHVS 35,246 km1st OwnerPetrol₹23,624/month₹10,61,999Zero downpayment2018 Hyundai XcentSX 1.2 CRDI OPT Manual46,923 km2nd OwnerDiesel₹16,423/month₹7,38,299Zero downpayment2017 Maruti Alto K10VXI Manual62,118 km1st OwnerPetrol₹8,735/month₹3,92,699Zero downpayment2020 Toyota YARISJ CVT Automatic9,875 km1st OwnerPetrol₹23,205/month₹10,43,199Zero downpayment2018 Ford Ecosport1.5 TITANIUM TI VCT AT Automatic42,166 km1st OwnerPetrol₹20,151/month₹9,05,899Zero downpayment2021 Maruti CelerioZXI Manual2,072 km1st OwnerPetrol₹15,965/month₹7,17,699Zero downpayment2010 Honda CityS MT PETROL Manual70,658 km2nd OwnerPetrol₹10,224/month₹4,59,599Zero downpayment2015 Maruti Alto K10VXI Manual2,35,314 km1st OwnerPetrol₹5,990/month₹2,69,299Zero downpayment2016 Renault KwidRXL Manual53,358 km2nd OwnerPetrol₹7,305/month₹3,28,399Zero downpayment2016 Renault Kwid1.0 RXT Manual69,209 km2nd OwnerPetrol₹7,423/month₹3,33,699Zero downpayment2013 Maruti Alto 800VXI Manual65,343 km1st OwnerPetrol₹5,593/month₹2,51,455Zero downpayment2013 Maruti Alto 800LXI Manual54,468 km2nd OwnerPetrol₹5,910/month₹2,65,699Zero downpayment2014 Maruti Alto K10VXI Manual33,556 km3rd OwnerPetrol₹6,518/month₹2,92,999Zero downpayment2013 Hyundai EonERA PLUS Manual62,018 km2nd OwnerPetrol₹6,313/month₹2,83,799Zero downpayment2013 Hyundai i10MAGNA 1.2 KAPPA2 Manual55,357 km1st OwnerPetrol₹8,424/month₹3,78,699Zero downpayment2018 Maruti Eeco7 STR Manual40,217 km2nd OwnerPetrol₹8,929/month₹4,01,399Zero downpayment2016 Maruti Vitara BrezzaZDI PLUS DUAL TONE Manual75,010 km1st OwnerDiesel₹18,082/month₹8,12,899Zero downpayment2016 Maruti Wagon R 1.0VXI Manual78,918 km1st OwnerPetrol₹8,789/month₹3,95,099Zero downpayment2019 Hyundai Elite i201.2 SPORTS PLUS VTVT Manual25,708 km1st OwnerPetrol₹15,938/month₹7,16,499Zero downpayment2016 Maruti BalenoZETA 1.2 K12 Manual1,03,616 km1st OwnerPetrol₹13,476/month₹6,05,799Zero downpayment2020 Hyundai VENUE1.5 SX CRDI MT Manual41,512 km1st OwnerDiesel₹22,647/month₹10,18,099Zero downpayment2017 Hyundai Creta1.6 CRDI SX PLUS AUTO Automatic77,868 km1st OwnerDiesel₹26,395/month₹11,86,599Zero downpayment2018 Ford Ecosport1.5 TREND+ TDCI Manual50,449 km1st OwnerDiesel₹17,033/month₹7,65,699Zero downpayment2018 Maruti Alto 800LXI Manual32,293 km1st OwnerPetrol₹7,490/month₹3,36,699Zero downpayment2017 Hyundai VernaFLUIDIC 1.6 SX VTVT Manual71,379 km1st OwnerPetrol₹18,071/month₹8,12,399Zero downpayment2019 Maruti Vitara BrezzaZDI + AMT Automatic74,283 km2nd OwnerDiesel₹20,983/month₹9,43,299Zero downpayment2018 Maruti S CrossZETA 1.3 SHVS Manual69,768 km2nd OwnerDiesel₹19,586/month₹8,80,499Zero downpayment2018 Maruti SwiftVXI Manual38,117 km1st OwnerPetrol₹11,965/month₹5,37,899Zero downpayment2016 Hyundai Creta1.6 SX CRDI Manual44,442 km1st OwnerDiesel₹24,462/month₹10,99,699Zero downpayment2019 Maruti SwiftVXI AMT Automatic44,790 km1st OwnerPetrol₹15,558/month₹6,99,399Zero downpayment2014 Maruti Alto 800LXI Manual28,092 km1st OwnerPetrol₹6,193/month₹2,78,399Zero downpayment2021 Mahindra TharLX D 4*4 MT HT Manual13,569 km1st OwnerDiesel₹39,553/month₹17,78,099Zero downpayment2013 Hyundai EonMAGNA PLUS Manual18,394 km1st OwnerPetrol₹6,918/month₹3,10,999Zero downpayment2019 Mahindra XUV 3OOW8(O) Manual96,605 km1st OwnerDiesel₹24,649/month₹11,08,099Zero downpayment2020 Mahindra XUV500W9 Manual11,082 km1st OwnerDiesel₹39,353/month₹17,69,099Zero downpayment2017 Datsun Redi GoT (O) Manual41,155 km1st OwnerPetrol₹6,649/month₹2,98,899Zero downpayment2017 Volkswagen PoloHIGHLINE1.5L DIESEL Manual60,513 km1st OwnerDiesel₹15,487/month₹6,96,199Zero downpayment2021 Volkswagen PoloHighline 1.0 AT Petrol Automatic7,945 km1st OwnerPetrol₹23,862/month₹10,72,699Zero downpayment2019 Tata TiagoXZ+ 1.2 Revotron Manual27,586 km1st OwnerPetrol₹14,023/month₹6,30,399Zero downpayment2013 Honda CityV MT PETROL Manual64,907 km1st OwnerPetrol₹12,877/month₹5,78,899Zero downpayment2017 Maruti Alto 800LXI Manual76,694 km2nd OwnerPetrol₹6,673/month₹2,99,999Zero downpayment2019 Maruti CelerioVXI Manual23,887 km1st OwnerPetrol₹11,814/month₹5,31,099Zero downpayment2012 Honda CityV MT PETROL Manual70,794 km2nd OwnerPetrol₹11,816/month₹5,31,199Zero downpayment2017 Honda CityVX CVT PETROL Automatic27,106 km1st OwnerPetrol₹22,974/month₹10,32,799Zero downpayment2020 Maruti CelerioZXI OPT Manual19,182 km1st OwnerPetrol₹13,186/month₹5,92,799Zero downpayment2017 Maruti Alto 800LXI Manual86,914 km1st OwnerPetrol₹7,043/month₹3,16,599Zero downpayment2018 Maruti CiazZETA 1.4 VVT AMT Automatic79,223 km2nd OwnerPetrol₹17,184/month₹7,72,499Zero downpayment2019 Maruti S PRESSOVXI Manual26,493 km1st OwnerPetrol₹9,868/month₹4,43,599Zero downpayment2014 Honda Brio1.2 S MT I VTEC Manual35,224 km2nd OwnerPetrol₹9,031/month₹4,05,999Zero downpayment2017 Hyundai Verna1.6 CRDI SX + AT Automatic93,390 km1st OwnerDiesel₹23,321/month₹10,48,399Zero downpayment2017 Maruti Alto 800LXI OPT Manual32,881 km1st OwnerPetrol₹7,385/month₹3,31,999Zero downpayment2021 Volkswagen PoloHIGH LINE PLUS 1.0 Manual11,259 km1st OwnerPetrol₹21,826/month₹9,81,199Zero downpayment2016 Honda Jazz1.2 V AT Automatic31,638 km2nd OwnerPetrol₹14,890/month₹6,69,399Zero downpayment2014 Maruti Wagon R 1.0VXI Manual34,760 km2nd OwnerPetrol₹8,744/month₹3,93,099Zero downpayment2017 Hyundai Grand i10SPORTZ 1.2 KAPPA VTVT Manual86,781 km1st OwnerPetrol₹11,494/month₹5,16,699Zero downpayment2017 Honda Brio1.2 VX MT I VTEC Manual28,491 km1st OwnerPetrol₹11,701/month₹5,25,999Zero downpayment2018 Hyundai EonERA PLUS Manual69,748 km1st OwnerPetrol₹7,706/month₹3,46,407Zero downpayment2018 Maruti Alto 800LXI Manual79,156 km1st OwnerPetrol₹7,490/month₹3,36,699Zero downpayment2017 Maruti CiazSIGMA 1.4 VVT Manual75,324 km2nd OwnerPetrol₹15,431/month₹6,93,699Zero downpayment2018 Maruti Alto 800LXI Manual36,510 km1st OwnerPetrol₹7,490/month₹3,36,699Zero downpayment2018 Maruti Alto 800LXI Manual67,110 km1st OwnerPetrol₹7,490/month₹3,36,699Zero downpayment2017 Maruti Alto K10VXI Manual13,707 km1st OwnerPetrol₹8,735/month₹3,92,699Zero downpayment2013 Honda Amaze1.5 EXMT I DTEC Manual93,791 km1st OwnerDiesel₹9,203/month₹4,13,699Zero downpayment2016 Maruti Wagon R 1.0VXI Manual72,772 km1st OwnerPetrol₹9,045/month₹4,06,599Zero downpayment2018 Maruti Alto 800LXI Manual41,552 km2nd OwnerPetrol₹7,490/month₹3,36,699Zero downpayment2014 Ford Ecosport1.0 ECOBOOST TITANIUM OPT Manual83,306 km1st OwnerPetrol₹15,037/month₹6,75,999Zero downpayment2017 Honda Jazz1.2 V AT Automatic65,990 km2nd OwnerPetrol₹14,245/month₹6,40,399Zero downpayment2021 MG HECTORSHARP CVT Automatic13,107 km1st OwnerPetrol₹44,378/month₹19,94,999Zero downpayment2017 Honda Jazz1.2 V AT Automatic30,858 km2nd OwnerPetrol₹15,580/month₹7,00,399Zero downpayment2017 Maruti Alto K10VXI Manual89,968 km2nd OwnerPetrol₹8,339/month₹3,74,899Zero downpayment2019 Maruti S PRESSOVXI Manual7,036 km1st OwnerPetrol₹9,977/month₹4,48,499Zero downpayment2018 Maruti Wagon R 1.0VXI Manual18,299 km2nd OwnerPetrol₹10,860/month₹4,88,199Zero downpayment2019 Hyundai NEW SANTROSPORTZ 1.1 Manual42,627 km2nd OwnerPetrol₹11,881/month₹5,34,099Zero downpayment2020 Maruti S PRESSOVXI PLUS Manual75,863 km1st OwnerPetrol₹10,535/month₹4,73,599Zero downpayment2017 Maruti IGNISDELTA 1.2 K12 Manual60,066 km2nd OwnerPetrol₹11,107/month₹4,99,299Zero downpayment2017 Maruti Alto K10VXI Manual24,300 km1st OwnerPetrol₹8,640/month₹3,88,399Zero downpayment2017 Honda Jazz1.2 V AT Automatic21,271 km1st OwnerPetrol₹16,034/month₹7,20,799Zero downpayment2017 Maruti IGNISALPHA 1.2 K12 Manual83,526 km2nd OwnerPetrol₹11,058/month₹4,97,099Zero downpayment2021 Datsun Redi Go1.0 T(O) Manual25,837 km1st OwnerPetrol₹10,755/month₹4,83,499Zero downpayment2017 Honda CityV MT PETROL Manual79,119 km1st OwnerPetrol₹17,698/month₹7,95,599Zero downpayment2019 Hyundai Elite i20ASTA 1.2 (O) Manual59,869 km1st OwnerPetrol₹17,248/month₹7,75,399Zero downpayment2018 Ford Ecosport1.5 TITANIUM TI VCT Manual35,760 km1st OwnerPetrol₹18,338/month₹8,24,399Zero downpayment2017 Maruti IGNISDELTA 1.2 K12 Manual41,628 km2nd OwnerPetrol₹11,485/month₹5,16,299Zero downpayment2017 Maruti IGNISZETA 1.2 K12 Manual68,055 km2nd OwnerPetrol₹11,418/month₹5,13,299Zero downpayment2021 Maruti AltoVXI Manual13,496 km1st OwnerPetrol₹9,585/month₹4,30,899Zero downpayment2021 Hyundai GRAND I10 NIOSSPORTZ 1.2 AT Automatic11,891 km1st OwnerPetrol₹17,998/month₹8,09,099Zero downpayment2018 Ford Ecosport1.5 TITANIUM TI VCT Manual25,637 km1st OwnerPetrol₹18,338/month₹8,24,399Zero downpayment2017 Maruti S CrossZETA 1.3 Manual69,783 km1st OwnerDiesel₹17,551/month₹7,88,999Zero downpayment2018 Maruti Wagon R 1.0VXI Manual63,990 km1st OwnerPetrol₹10,733/month₹4,82,499Zero downpayment2017 Maruti IGNISZETA 1.2 K12 Manual52,934 km1st OwnerPetrol₹11,585/month₹5,20,799Zero downpayment2019 Maruti AltoLXI Manual52,409 km1st OwnerPetrol₹7,674/month₹3,44,999Zero downpayment2019 Maruti AltoLXI Manual49,041 km1st OwnerPetrol₹7,674/month₹3,44,999Zero downpayment2019 Toyota YARISG CVT Automatic12,115 km1st OwnerPetrol₹23,805/month₹10,70,156Zero downpayment2018 Toyota YARISJ MT Manual61,387 km1st OwnerPetrol₹18,445/month₹8,29,199Zero downpayment2018 Maruti BalenoDELTA 1.2 K12 AT Automatic46,677 km1st OwnerPetrol₹16,630/month₹7,47,599Zero downpayment2008 Maruti Wagon R DuoLXI LPG Manual1,00,795 km2nd OwnerPetrol + LPG₹4,533/month₹2,03,799Zero downpayment2018 Maruti ErtigaZDI PLUS SHVS Manual43,460 km1st OwnerDiesel₹24,960/month₹11,22,099Zero downpayment2021 Skoda Rapid1.0 AMBITION TSI AT Automatic20,666 km1st OwnerPetrol₹25,247/month₹11,34,999Zero downpayment2019 Honda Amaze1.2 SMT I VTEC Manual18,039 km1st OwnerPetrol₹14,494/month₹6,51,599Zero downpayment2018 Maruti DzireVXI Manual46,682 km2nd OwnerPetrol₹15,037/month₹6,75,999Zero downpayment2015 Hyundai EonMAGNA PLUS Manual39,091 km1st OwnerPetrol₹7,045/month₹3,16,699Zero downpayment2017 Hyundai EonERA PLUS (O) Manual44,244 km1st OwnerPetrol₹7,688/month₹3,45,599Zero downpayment2016 Maruti Wagon R 1.0VXI Manual40,956 km1st OwnerPetrol₹8,724/month₹3,92,199Zero downpayment2018 Maruti Eeco5 STR WITH AC PLUSHTR Manual26,120 km1st OwnerPetrol₹9,209/month₹4,13,999Zero downpayment2017 Hyundai i20 Active1.2 S Manual1,09,693 km1st OwnerPetrol₹13,207/month₹5,93,699Zero downpayment2017 Maruti BalenoZETA 1.2 K12 Manual59,553 km1st OwnerPetrol₹14,051/month₹6,31,668Zero downpayment2017 Maruti IGNISALPHA 1.2 K12 DUAL TONE Manual79,502 km1st OwnerPetrol₹11,572/month₹5,20,199Zero downpayment2019 Maruti AltoLXI Manual18,271 km1st OwnerPetrol₹7,926/month₹3,56,299Zero downpayment2015 Maruti CelerioVXI Manual47,628 km1st OwnerPetrol₹8,909/month₹4,00,499Zero downpayment2012 Hyundai i20SPORTZ 1.2 VTVT Manual29,899 km1st OwnerPetrol₹9,768/month₹4,39,099Zero downpayment2018 Maruti SwiftZDI + Manual55,802 km1st OwnerDiesel₹16,541/month₹7,43,599Zero downpayment2016 Renault KwidRXL Manual24,727 km2nd OwnerPetrol₹7,189/month₹3,23,199Zero downpayment2011 Maruti SwiftZXI Manual49,294 km2nd OwnerPetrol₹10,032/month₹4,50,999Zero downpayment2010 Hyundai i10SPORTZ 1.2 Manual50,521 km1st OwnerPetrol₹6,878/month₹3,09,199Zero downpayment2015 Volkswagen PoloTRENDLINE 1.5L DIESEL Manual82,185 km1st OwnerDiesel₹10,962/month₹4,92,799Zero downpayment2014 Maruti SwiftVXI Manual31,441 km1st OwnerPetrol₹9,950/month₹4,47,299Zero downpayment2021 Tata NEXONXZ 1.2 Manual4,364 km1st OwnerPetrol₹23,770/month₹10,68,599Zero downpayment2018 Volkswagen PoloTrendline 1.0 L Petrol Manual32,255 km2nd OwnerPetrol₹12,426/month₹5,58,599Zero downpayment2012 Hyundai i20SPORTZ 1.2 VTVT Manual42,794 km2nd OwnerPetrol₹9,756/month₹4,38,599Zero downpayment2018 Volkswagen PoloTrendline 1.0 L Petrol Manual94,166 km2nd OwnerPetrol₹12,426/month₹5,58,599Zero downpayment2016 Hyundai EonMAGNA PLUS Manual18,008 km1st OwnerPetrol₹7,114/month₹3,19,799Zero downpayment2020 Mahindra XUV500W9 Manual7,672 km1st OwnerDiesel₹40,262/month₹18,09,999Zero downpayment2016 Honda Jazz1.2 V MT Manual70,712 km2nd OwnerPetrol₹11,038/month₹4,96,199Zero downpayment2016 Volkswagen PoloGT TSI 1.2 PETROL AT Automatic65,031 km1st OwnerPetrol₹15,019/month₹6,75,199Zero downpayment2017 Mahindra TharCRDE 4X4 BS IV Manual45,562 km2nd OwnerDiesel₹17,876/month₹8,03,599Zero downpayment2020 Maruti Vitara BrezzaVXI AMT SHVS Automatic16,870 km1st OwnerPetrol₹24,335/month₹10,93,999Zero downpayment2019 Volkswagen AmeoTrendline 1.0 Manual77,319 km1st OwnerPetrol₹12,010/month₹5,39,899Zero downpayment2014 Datsun GoT Manual22,264 km1st OwnerPetrol₹6,662/month₹2,99,499Zero downpayment2015 Honda Jazz1.2 VX I-VTECH Manual77,836 km1st OwnerPetrol₹12,835/month₹5,76,999Zero downpayment2017 Maruti BalenoALPHA 1.2 K12 Manual34,171 km1st OwnerPetrol₹15,842/month₹7,12,199Zero downpayment2015 Honda Brio1.2 S MT I VTEC Manual32,648 km2nd OwnerPetrol₹9,007/month₹4,04,899Zero downpayment2019 Honda CityZX CVT Automatic96,695 km1st OwnerPetrol₹25,590/month₹11,50,399Zero downpayment2017 Maruti CiazALPHA 1.4 VVT Manual97,271 km1st OwnerPetrol₹15,560/month₹6,99,499Zero downpayment2018 Maruti CiazDELTA 1.4 VVT Manual69,599 km1st OwnerPetrol₹15,765/month₹7,08,699Zero downpayment2016 Hyundai EonERA PLUS Manual25,026 km1st OwnerPetrol₹7,278/month₹3,27,199Zero downpayment2020 Renault TRIBER1.0 RXZ Manual52,610 km2nd OwnerPetrol₹14,230/month₹6,39,699Zero downpayment2017 Datsun GoT Manual30,621 km1st OwnerPetrol₹7,314/month₹3,28,799Zero downpayment2015 Hyundai EonERA PLUS Manual60,585 km1st OwnerPetrol₹6,889/month₹3,09,699Zero downpayment2018 Hyundai Grand i10SPORTZ 1.2 KAPPA VTVT Manual36,085 km1st OwnerPetrol₹12,632/month₹5,67,872Zero downpayment2017 Hyundai Verna1.6 CRDI SX + AT Automatic90,165 km1st OwnerDiesel₹23,156/month₹10,40,999Zero downpayment2014 Maruti Wagon R 1.0VXI Manual41,712 km1st OwnerPetrol₹8,148/month₹3,66,299Zero downpayment2017 Honda Jazz1.2 V AT Automatic28,578 km1st OwnerPetrol₹16,230/month₹7,29,599Zero downpayment2015 Honda Jazz1.2 VX I-VTECH Manual82,089 km3rd OwnerPetrol₹12,935/month₹5,81,499Zero downpayment2020 KIA SELTOSHTX+ MT 1.5 DIESEL Manual36,355 km1st OwnerDiesel₹39,777/month₹17,88,199Zero downpayment2019 Maruti Eeco5 STR WITH AC PLUSHTR Manual43,072 km2nd OwnerPetrol₹10,824/month₹4,86,599Zero downpayment2017 Maruti Alto 800LXI Manual67,363 km1st OwnerPetrol₹7,127/month₹3,20,399Zero downpayment2017 Hyundai Creta1.6 SX PLUS PETROL Manual74,938 km1st OwnerPetrol₹23,472/month₹10,55,199Zero downpayment2020 Hyundai VENUE1.0L Turbo GDI SX MT Manual45,668 km1st OwnerPetrol₹22,049/month₹9,91,199Zero downpayment2020 Hyundai GRAND I10 NIOS1.2 Kappa Sports MT Manual19,963 km1st OwnerPetrol₹14,728/month₹6,62,099Zero downpayment2017 Honda Jazz1.2 V MT Manual83,112 km1st OwnerPetrol₹12,804/month₹5,75,599Zero downpayment2017 Maruti BalenoDELTA 1.2 K12 Manual43,681 km1st OwnerPetrol₹13,787/month₹6,19,799Zero downpayment2018 Hyundai Grand i10SPORTZ (O) 1.2 AT VTVT Automatic36,509 km1st OwnerPetrol₹14,539/month₹6,53,599Zero downpayment2014 Maruti Wagon R 1.0VXI Manual77,641 km1st OwnerPetrol₹8,050/month₹3,61,899Zero downpayment2019 Maruti S PRESSOVXI PLUS Manual35,091 km1st OwnerPetrol₹10,328/month₹4,64,299Zero downpayment2015 Maruti Wagon R 1.0VXI Manual42,218 km1st OwnerPetrol₹8,651/month₹3,88,899Zero downpayment2018 Maruti Wagon R 1.0VXI Manual43,572 km2nd OwnerPetrol₹10,631/month₹4,77,899Zero downpayment2019 Hyundai Grand i10SPORTZ 1.2 KAPPA VTVT Manual38,443 km1st OwnerPetrol₹13,618/month₹6,12,199Zero downpayment2017 Maruti Alto K10VXI Manual65,590 km1st OwnerPetrol₹8,113/month₹3,64,699Zero downpayment2018 Honda CityVX MT PETROL Manual49,654 km1st OwnerPetrol₹21,159/month₹9,51,199Zero downpayment2016 Maruti Wagon R 1.0VXI Manual52,167 km1st OwnerPetrol₹9,303/month₹4,18,199Zero downpayment2018 Maruti Alto 800LXI OPT Manual22,855 km1st OwnerPetrol₹8,368/month₹3,76,199Zero downpayment2017 Hyundai Grand i10ASTA 1.2 VTVT Manual35,513 km1st OwnerPetrol₹12,693/month₹5,70,599Zero downpayment2017 Maruti IGNISDELTA 1.2 K12 Manual86,841 km2nd OwnerPetrol₹11,142/month₹5,00,899Zero downpayment2017 Datsun Redi GoS Manual34,368 km1st OwnerPetrol₹6,949/month₹3,12,399Zero downpayment2020 Maruti S PRESSOVXI PLUS Manual39,155 km1st OwnerPetrol₹10,802/month₹4,85,599Zero downpayment2017 Maruti IGNISDELTA 1.2 K12 Manual86,334 km1st OwnerPetrol₹11,485/month₹5,16,299Zero downpayment2020 Hyundai GRAND I10 NIOSSPORTZ PETROL Manual39,813 km1st OwnerPetrol₹15,144/month₹6,80,799Zero downpayment2019 Hyundai Grand i10SPORTZ 1.2 KAPPA VTVT Manual44,598 km2nd OwnerPetrol₹13,618/month₹6,12,199Zero downpayment2019 Maruti IGNISALPHA 1.2 K12 Manual14,625 km1st OwnerPetrol₹13,874/month₹6,23,699Zero downpayment2017 Maruti Alto K10VXI Manual30,771 km2nd OwnerPetrol₹8,606/month₹3,86,899Zero downpayment2017 Maruti Alto K10VXI Manual32,951 km1st OwnerPetrol₹8,686/month₹3,90,499Zero downpayment2021 Maruti AltoVXI Manual8,155 km1st OwnerPetrol₹9,873/month₹4,43,859Zero downpayment2021 Hyundai VENUESX 1.0 GDI IMT Manual17,811 km1st OwnerPetrol₹26,526/month₹11,92,499Zero downpayment2010 Honda CityS MT PETROL Manual18,456 km1st OwnerPetrol₹11,011/month₹4,94,999Zero downpayment2012 Maruti Swift DzireVDI BS IV Manual1,30,229 km2nd OwnerDiesel₹9,990/month₹4,49,099Zero downpayment2016 Maruti SwiftVXI OPT Manual81,208 km1st OwnerPetrol₹11,385/month₹5,11,799Zero downpayment2013 Maruti Alto 800LXI Manual68,962 km1st OwnerPetrol₹5,870/month₹2,63,899Zero downpayment2018 Maruti ErtigaVDI SHVS Manual80,531 km1st OwnerDiesel₹20,191/month₹9,07,699Zero downpayment2019 Maruti SwiftVXI Manual9,710 km2nd OwnerPetrol₹15,622/month₹7,02,299Zero downpayment2017 Renault KwidRXL Manual82,985 km1st OwnerPetrol₹8,302/month₹3,73,199Zero downpayment2021 Maruti New  Wagon-RZXI 1.2 Manual33,644 km1st OwnerPetrol₹14,205/month₹6,38,599Zero downpayment2016 Tata TiagoXT 1.2 REVOTRON Manual89,440 km2nd OwnerPetrol₹8,651/month₹3,88,899Zero downpayment2016 Hyundai Grand i10SPORTZ 1.2 KAPPA VTVT Manual11,384 km2nd OwnerPetrol₹11,047/month₹4,96,599Zero downpayment2018 Renault DusterRXL PETROL 104 Manual40,885 km1st OwnerPetrol₹16,634/month₹7,47,799Zero downpayment2017 Maruti CelerioVXI (O) AMT Automatic43,661 km1st OwnerPetrol₹10,746/month₹4,83,099Zero downpayment2019 Honda Amaze1.2 SMT I VTEC Manual43,673 km1st OwnerPetrol₹14,494/month₹6,51,599Zero downpayment2021 Volkswagen PoloGT TSI AT 1.0 Automatic16,714 km1st OwnerPetrol₹24,638/month₹11,07,599Zero downpayment2017 Maruti BalenoDELTA 1.2 K12 Manual23,378 km2nd OwnerPetrol₹13,954/month₹6,27,299Zero downpayment2019 Maruti Vitara BrezzaZDI PLUS DUAL TONE Manual40,594 km1st OwnerDiesel₹22,578/month₹10,14,999Zero downpayment2017 Maruti DzireZXI Plus AMT Automatic24,900 km1st OwnerPetrol₹17,133/month₹7,70,199Zero downpayment2017 Maruti BalenoZETA 1.2 K12 AMT Automatic45,994 km1st OwnerPetrol₹14,761/month₹6,63,599Zero downpayment2016 Maruti Alto K10VXI AMT Automatic68,569 km2nd OwnerPetrol₹8,137/month₹3,65,799Zero downpayment2021 Hyundai VENUE1.0 TURBO GDI SX+ AT Automatic16,964 km1st OwnerPetrol₹26,733/month₹12,01,799Zero downpayment2017 Maruti S CrossDELTA 1.3 Manual99,312 km2nd OwnerDiesel₹16,341/month₹7,34,599Zero downpayment2014 Hyundai Grand i10ASTA 1.2 VTVT Manual65,018 km1st OwnerPetrol₹9,877/month₹4,43,999Zero downpayment2019 Maruti DzireVDI Manual84,773 km1st OwnerDiesel₹16,732/month₹7,52,199Zero downpayment2021 Volkswagen PoloTrendline 1.0 L Petrol Manual9,891 km1st OwnerPetrol₹14,710/month₹6,61,299Zero downpaymentOther CitiesHyderabadVijayawadaNagpurHubliAurangabadKolhapurBengaluruPuneVisakhapatnamChennaiWhat our Users have to say! PreviousPurshottama ViswanHyderabadMay 2022HYUNDAI EON  5User rating“I'm really enjoying my Hyundai Eon! Ifound the car I was looking for, and itwas sold to me at a great p... read more... read moreValue for money : Experience :Ease of process :Sumukhi BhagatHyderabadMay 2022NISSAN TERRANO  4.5User rating“I bought a Nissan Terrano from CARS24a couple of years ago. They were greatto deal with from start to fin... read more... read moreValue for money : Experience :Ease of process :Kareena GurnaniHyderabadMay 2022MAHINDRA XUV500  4User rating“Having just purchased a MahindraXUV500 at CARS24, I must say that I amquite impressed with the s... read more... read moreValue for money : Experience :Ease of process :Chhaya ChandHyderabadMay 2022MARUTI BALENO  5User rating“I received excellent customer servicewhen buying my Maruti Baleno. The staffwas friendly and helpful. Th... read more... read moreValue for money : Experience :Ease of process :Madhava ChaudhariHyderabadMay 2022KIA SELTOS  4User rating“I was looking for a KIA Seltos with lowmileage and found it on CARS24 withreally competitive pricing. I ... read more... read moreValue for money : Experience :Ease of process :Shristi BakshiHyderabadMay 2022BMW 5 SERIES  5User rating“The team at CARS24 is fantastic! Theywere so helpful and made the wholeprocess so easy. I was plea... read more... read moreValue for money : Experience :Ease of process :Vishal PunjaHyderabadMay 2022MARUTI SUZUKI SWIFT  3.5User rating“I have recommended CARS24 to myfriends and coworkers, as I had such agood experience buying my... read more... read moreValue for money : Experience :Ease of process :Cheeno SanyalHyderabadMay 2022MARUTI ALTO K10  5User rating“I was in search of a used Maruti Alto K10but was finding it hard to locate one. Ichecked the website at CAR... read more... read moreValue for money : Experience :Ease of process :Manas NambiyarHyderabadMay 2022HONDA CITY  5User rating“I decided to sell my Honda city and gofor a new one. I found CARS24 on theinternet, and I am glad I did.... read more... read moreValue for money : Experience :Ease of process :Dhule NayarHyderabadMay 2022NISSAN SUNNY  5User rating“CARS24 was quick and efficient. I amvery happy with the Nissan Sunny Ibought from them. Everyon... read more... read moreValue for money : Experience :Ease of process :Raj ThakreHyderabadMay 2022HONDA ACCORD  5User rating“The team at CARS24.NET made buyingmy HONDA ACCORD very easy. I wasblown away by their profess... read more... read moreValue for money : Experience :Ease of process :Shambhu SajwanHyderabadMay 2022CHEVROLET ENJOY  5User rating“CARS24 made buying my CHEVROLETENJOY fast and easy. They have a greatselection and got me a gen... read more... read moreValue for money : Experience :Ease of process :Panini LataHyderabadMay 2022MARUTI SUZUKI KIZASHI  5User rating“I purchased a New Maruti Suzuki KizashiModel with CARS24 and got it deliveredin 5 Days. I used CarFinance... read more... read moreValue for money : Experience :Ease of process :Vayu ParekhHyderabadMay 2022HONDA ACCORD  5User rating“I was searching for a Honda Accord fora long time. I was lucky to have foundCARS24. The price was right,... read more... read moreValue for money : Experience :Ease of process :Sadhana BajpaiHyderabadMay 2022HONDA JAZZ  4.5User rating“I was looking for a used car, and I wasexpecting a long and tedious search,but with CARS24, I found the... read more... read moreValue for money : Experience :Ease of process :Rijesh DivekarHyderabadMay 2022MAHINDRA BOLERO  4.5User rating“CARS24 has the best customer service.At every stage of dealing with them,they were friendly and helpf... read more... read moreValue for money : Experience :Ease of process :Chhaya BhaumikHyderabadMay 2022CHEVROLET TAVERA  5User rating“This has to be one of the best-used cardealerships in Jaipur. I bought aChevrolet Tavera in great s... read more... read moreValue for money : Experience :Ease of process :Gourav LataHyderabadMay 2022TATA INDICA V2  3.5User rating“Buying my TATA INDICA V2 was easyand convenient with the CARS24 team.They had an excellent selec... read more... read moreValue for money : Experience :Ease of process :Durgautti KayalHyderabadMay 2022SKODA FABIA  4.5User rating“I would like to thank the entire team ofCARS24 for helping me buy my SKODAFABIA. It was such a great e... read more... read moreValue for money : Experience :Ease of process :Sadhana MarwahHyderabadMay 2022HYUNDAI CRETA  5User rating“I would definitely recommend CARS24!Their customer service was excellent,and the process was smoot... read more... read moreValue for money : Experience :Ease of process :Kumari ChitanisHyderabadMay 2022HYUNDAI ACCENT  4.5User rating“I found a Hyundai Accent that fits myfamily's needs, and the price was right. Iwould recommend shoppin... read more... read moreValue for money : Experience :Ease of process :Madhava BhardvajHyderabadMay 2022MERCEDES BENZ A CLASS  5User rating“I just bought a used Mercedes Benz Aclass from CARS24. Not only did I get agreat deal, but the whole pr... read more... read moreValue for money : Experience :Ease of process :Amar DevaiahHyderabadApr 2021MAHINDRA SCORPIO  5User rating“The team at CARS24 is great! They weresuper helpful and made the processreally easy. The Mahindra S... read more... read moreValue for money : Experience :Ease of process :Bhrithi DevaiahHyderabadApr 2021MAHINDRA BOLERO  5User rating“I bought a Mahindra Bolero fromCARS24, and I'm very happy with it. Theprocess was very easy, and... read more... read moreValue for money : Experience :Ease of process :Bhavyesh PonnappaHyderabadApr 2021HONDA AMAZE  5User rating“I was so happy with my purchase of theHonda Amaze from CARS24. Theprocess was easy and the s... read more... read moreValue for money : Experience :Ease of process :Ishwarya DevaiahHyderabadApr 2021TATA TIGOR  4.5User rating“I had a great experience buying myTATA TIGOR from CARS24. The team wasprofessional and efficient, a... read more... read moreValue for money : Experience :Ease of process :Kamran AhmedHyderabadApr 2021Jeep Compass  5User rating“I had a great experience buying myJeep Compass from CARS24. Theprocess was very smooth a... read more... read moreValue for money : Experience :Ease of process :Prabhu NaickerHyderabadApr 2021FORD ECOSPORT  5User rating“I'm thoroughly impressed with thequality of cars available at CARS24. Iwas able to pick up a great ... read more... read moreValue for money : Experience :Ease of process :Maanikkam NaickerHyderabadApr 2021TOYOTA PRIUS  4User rating“I was really happy with my purchasefrom CARS24. The team was superhelpful, and I found a great ... read more... read moreValue for money : Experience :Ease of process :Selvamani NadarHyderabadApr 2021EICHER POLARIS MULTIX  4User rating“I'm really happy with the purchase ofmy EICHER POLARIS MULTIX from CARS24.The process was very smoo... read more... read moreValue for money : Experience :Ease of process :Selvamani NaickerHyderabadApr 2021MAHINDRA BOLERO  4.5User rating“I had a great experience buying myMahindra Bolero from CARS24. Theselection was great, and th... read more... read moreValue for money : Experience :Ease of process :Selvamani RameshHyderabadApr 2021CHEVROLET CAPTIVA  4.5User rating“I'm so happy with my purchase fromCARS24. I got a great deal on myCHEVROLET CAPTIVA, and th... read more... read moreValue for money : Experience :Ease of process :Selvamani KumaranHyderabadApr 2021HYUNDAI I10  5User rating“The CARS24 team was very helpful andpatient with me. I was looking for aspecific car, and they helpe... read more... read moreValue for money : Experience :Ease of process :Selvamani SaravananHyderabadApr 2021RENAULT SCALA  4User rating“I'm really happy with the Renault Scalathat I bought from CARS24. The processwas easy and the staff was ... read more... read moreValue for money : Experience :Ease of process :Selvamani RawtherHyderabadApr 2021MARUTI SUZUKI VITARA BREZZA  4.5User rating“The CARS24 team was very helpful ingetting me the car I wanted. Theprocess was very smooth, a... read more... read moreValue for money : Experience :Ease of process :Selvamani ChettiarHyderabadApr 2021MERCEDES BENZ B CLASS  5User rating“I am very happy with the car I boughtfrom CARS24. The process was veryeasy, and the team was ver... read more... read moreValue for money : Experience :Ease of process :Selvamani MudaliarHyderabadApr 2021FIAT PALIO NV  5User rating“I am very happy with the FIAT PALIO NV Ibought from CARS24. The car is in greatcondition and the price was... read more... read moreValue for money : Experience :Ease of process :Akhil GoenkaHyderabadMar 2021HYUNDAI SANTRO  4.5User rating“The team at CARS24 was so helpful andprofessional! They made the process ofbuying a used car so easy, ... read more... read moreValue for money : Experience :Ease of process :Aswathy ThampiHyderabadMar 2021BMW X1  5User rating“I was very impressed with the quality ofcars at CARS24. I was able to find agreat BMW X1 that met my n... read more... read moreValue for money : Experience :Ease of process :Revati BonamHyderabadMar 2021TATA INDICA  5User rating“Buying a car from CARS24 was a greatexperience. The team was super helpful,and I got a great deal on m... read more... read moreValue for money : Experience :Ease of process :Danush BonamHyderabadMar 2021OPEL CORSA  5User rating“The team at CARS24 is fantastic! Theywere so helpful and made the wholeprocess so easy. I was plea... read more... read moreValue for money : Experience :Ease of process :Yadnesh TalapalaHyderabadMar 2021MARUTI SWIFT  4.5User rating“I had a great experience buying my carfrom CARS24. The team was very helpful,and I got a great deal on m... read more... read moreValue for money : Experience :Ease of process :Kumar GargHyderabadMar 2021HYUNDAI VERNA  5User rating“CARS24 was a very good experience. Allthe staff was nice and helpful. I was inlove with my Hyundai Verna... read more... read moreValue for money : Experience :Ease of process :Deepak DubeyHyderabadMar 2021DATSUN REDI GO  5User rating“I wanted a car that was economicaland didn't need a lot of maintenance. SoI decided on the DATSUN RE... read more... read moreValue for money : Experience :Ease of process :Deepak MalhotraHyderabadMar 2021HYUNDAI VERNA  4User rating“I accidentally found CARS24.in when Iwas looking for a new used car. I foundout about how CARS24.in ta... read more... read moreValue for money : Experience :Ease of process :Dharam VermaHyderabadMar 2021HONDA CITY  4User rating“A good car dealership should havegood people. CARS24 has such people.They never pressured us, an... read more... read moreValue for money : Experience :Ease of process :Dharam GillHyderabadMar 2021TOYOTA ETIOS  4.5User rating“The customer service at CARS24 wasoutstanding! I got an excellent deal onmy TOYOTA ETIOS and they ... read more... read moreValue for money : Experience :Ease of process :Dharam KhatriHyderabadMar 2021VOLKSWAGEN VENTO  4.5User rating“CARS24 took away any hassle when Ibought my Volkswagen Vento. The staffhelped me find a car that I ... read more... read moreValue for money : Experience :Ease of process :Eklavya KhatriHyderabadMar 2021HYUNDAI VERNA  5User rating“I had a very positive experience withCARS24. They were very helpful andknowledgeable. The Hyund... read more... read moreValue for money : Experience :Ease of process :Eklavya AgarwalHyderabadMar 2021MERCEDES BENZ E CLASS  4User rating“I wanted a better car, so I decided tobuy a used Mercedes Benz E class. Ifound an ideal one on CARS... read more... read moreValue for money : Experience :Ease of process : NextFREQUENTLY ASKED QUESTIONS FOR USED CARS IN HYDERABADHow many second hand cars are available in Hyderabad?235 used cars are available in Hyderabad of popular brands like Maruti Suzuki, Hyundai, Honda & moreWhat are the most popular brands available for 2nd hand cars in Hyderabad?CARS24 has a wide inventory of all brands including Maruti Suzuki, Hyundai, Honda & more. Find the best second hand car in Hyderabad of your choice on CARS24.What will be the starting price of an old car in Hyderabad?The starting price of a used car in Hyderabad is Rs. ₹1,00,000.What body types are available for 2nd hand cars in Hyderabad?Used cars in Hyderabad are available from every segment, be it Hatchback, Sedan, SUV.Can I buy used cars online at CARS24 in Hyderabad?Of Course yes, you can buy used cars online in Hyderabad from CARS24. You can find thousands of quality second hand cars for sale on our website/app that can be bought at the click of a button & delivered to your doorstep anywhere in HyderabadWhat to check before buying a second hand car in Hyderabad?Important things to check  before buying a second hand car in Hyderabad are:Source: Buying a car from a trusted source is important to make sure the car is in the exact condition as stated & also to deal with any post sale related issues.Condition: Ensure the car is non-accidental & does not have any structural damage. We use a 140 point check to make sure every car we sell is in top condition.Age: Buying a used car that is very old can lead to problems like expensive maintenance costs and scarcity of spare parts. A three to five year old car should be an ideal buy,Car Documents: Verification of vehicle documents like Registration Certificate (RC), Insurance & PUC is very important. Also ensure the car is not under loan (hypothecated), there are no traffic challans or any legal issues with it.Certified or Not: Certified used cars come with warranty and are refurbished to as good as new to protect buyers from unforeseen repair & maintenance cost.Where can I buy used cars in Hyderabad?You can buy used cars in Hyderabad from Cars24. Visit our website, book the car of your choice & get it delivered to your home.How can I check a second hand car in Hyderabad?You can check second hand cars in Hyderabad using conventional & time consuming buying methods like classified, dealers etc. CARS24 brings you a virtual showroom experience at your fingertips using 360 view. You can check multiple cars for sale in minutes and buy one from the comfort of your couch. We’ll deliver the car anywhere in HyderabadKEEP IN TOUCHEXPERIENCE CARS24 APP ON MOBILEPowered by CARS24® 2022 www.cars24.comAll rights reservedUSEFUL LINKSContact UsAbout UsPrivacy PolicyTerms and ConditionsFAQSitemapTestimonialsBlogBranchesWe're Hiring!Become Our PartnerNeed a LoanRC Transfer StatusCARS24 FinanceCARS24 Franchise PartnersInvestorsTop BrandsMaruti SuzukiHyundaiHondaTataToyotaChevroletFordMahindraSkodaVolkswagenNissanRenaultFiatMercedes BenzAudiTOP CITIESNew DelhiNoidaGurgaonMumbaiPuneBengaluruHyderabadChennaiKolkataAhmedabadPOPULAR SEARCHESCARS24 PricingSell Used CarVehicle Ownership TransferUsed Car ValuationNeed Help?\\n\\n\\n\\n\\n\\n\\n\\n\\n\\n\\n\\n\\n\\n\\n\\n\\n\\n\\n\\n\\n\\n\\n\\n\\nHey! How can I help you today? \""
      ]
     },
     "execution_count": 3,
     "metadata": {},
     "output_type": "execute_result"
    }
   ],
   "source": [
    "soup.text"
   ]
  },
  {
   "cell_type": "markdown",
   "id": "bb53349c",
   "metadata": {},
   "source": [
    "**Creating a list of the names of cars and prices of cars**"
   ]
  },
  {
   "cell_type": "code",
   "execution_count": 4,
   "id": "250c3a64",
   "metadata": {},
   "outputs": [],
   "source": [
    "car_name =[]\n",
    "car_price=[]"
   ]
  },
  {
   "cell_type": "markdown",
   "id": "a72c0d11",
   "metadata": {},
   "source": [
    "**Extracting the container of each car and then extracting each name and price of the car**"
   ]
  },
  {
   "cell_type": "code",
   "execution_count": 5,
   "id": "3edccb79",
   "metadata": {},
   "outputs": [
    {
     "name": "stdout",
     "output_type": "stream",
     "text": [
      "Extracted Successfully\n"
     ]
    }
   ],
   "source": [
    "for car_tag in soup.find_all('div', class_='col-4'):  \n",
    "\n",
    "    \n",
    "    car_name=[score.get_text()for score in soup.find_all(name=\"h2\", class_=\"_3FpCg\")]\n",
    "    \n",
    "    car_price=[score.get_text() for score in soup.find_all(name=\"div\", class_=\"_7udZZ\")]\n",
    "\n",
    "print(\"Extracted Successfully\")"
   ]
  },
  {
   "cell_type": "code",
   "execution_count": 6,
   "id": "8aa1b115",
   "metadata": {},
   "outputs": [],
   "source": [
    "#car_model=[]\n",
    "#car_info=[]\n",
    "\n",
    "#for car_tag in soup.find_all('div', class_='col-4'):  \n",
    "\n",
    "    # car_model=[score.get_text() for score in soup.find_all(name=\"p\", class_=\"cvakB\")]\n",
    "    \n",
    "    #car_info=[score.get_text() for score in soup.find_all(name=\"ul\", class_=\"bVR0c\") ]"
   ]
  },
  {
   "cell_type": "markdown",
   "id": "ce550348",
   "metadata": {},
   "source": [
    "**Extracting wheather the car is Manual Or Automatic**"
   ]
  },
  {
   "cell_type": "code",
   "execution_count": 7,
   "id": "5fff8c82",
   "metadata": {},
   "outputs": [
    {
     "name": "stdout",
     "output_type": "stream",
     "text": [
      "Extracted Successfully\n"
     ]
    }
   ],
   "source": [
    "car_model_tag = soup.find_all(name=\"p\", class_=\"cvakB\")\n",
    "\n",
    "car_model = [ma.find_all(name='span')[0].text for ma in car_model_tag]  #  ma stand for manual automatic\n",
    "\n",
    "car_model = [nan if nan.replace(' ','') else None for nan in car_model ] # nan stands for None values in list\n",
    "\n",
    "print(\"Extracted Successfully\")"
   ]
  },
  {
   "cell_type": "markdown",
   "id": "5f19035b",
   "metadata": {},
   "source": [
    "**Extracting the car's link**"
   ]
  },
  {
   "cell_type": "code",
   "execution_count": 8,
   "id": "6caf9fdf",
   "metadata": {},
   "outputs": [
    {
     "name": "stdout",
     "output_type": "stream",
     "text": [
      "Extracted Successfully\n"
     ]
    }
   ],
   "source": [
    "car_link=[]\n",
    "car_tag=soup.find_all(name=\"a\", class_=\"_9Ue0B\")\n",
    "for i in car_tag:\n",
    "    link=i.get(\"href\")\n",
    "    car_link.append(link)   \n",
    "    \n",
    "print(\"Extracted Successfully\")"
   ]
  },
  {
   "cell_type": "markdown",
   "id": "3d303981",
   "metadata": {},
   "source": [
    "**Extracting the car's Kilometers, How many km the car has already covered**"
   ]
  },
  {
   "cell_type": "code",
   "execution_count": 9,
   "id": "42f41e33",
   "metadata": {},
   "outputs": [
    {
     "name": "stdout",
     "output_type": "stream",
     "text": [
      "Extracted Successfully\n"
     ]
    }
   ],
   "source": [
    "km=[]\n",
    "for car_tag in soup.find_all('ul', class_='bVR0c'): \n",
    "    for i in car_tag.find_all(name=\"li\")[0]:\n",
    "        km.append(i)\n",
    "        \n",
    "print(\"Extracted Successfully\")"
   ]
  },
  {
   "cell_type": "markdown",
   "id": "72bc54d7",
   "metadata": {},
   "source": [
    "**Extracting the car's Owner, is the owner 1'st or 2'nd**"
   ]
  },
  {
   "cell_type": "code",
   "execution_count": 10,
   "id": "d94671cf",
   "metadata": {},
   "outputs": [
    {
     "name": "stdout",
     "output_type": "stream",
     "text": [
      "Extracted Successfully\n"
     ]
    }
   ],
   "source": [
    "owner=[]\n",
    "for car_tag in soup.find_all('ul', class_='bVR0c'): \n",
    "    for i in car_tag.find_all(name=\"li\")[1]:\n",
    "        owner.append(i)\n",
    "    \n",
    "print(\"Extracted Successfully\")"
   ]
  },
  {
   "cell_type": "markdown",
   "id": "2b10fec7",
   "metadata": {},
   "source": [
    "**Extracting the car's type, is the car Petrol or Diesal**"
   ]
  },
  {
   "cell_type": "code",
   "execution_count": 11,
   "id": "57581958",
   "metadata": {},
   "outputs": [
    {
     "name": "stdout",
     "output_type": "stream",
     "text": [
      "Extracted Successfully\n"
     ]
    }
   ],
   "source": [
    "ctype=[]\n",
    "for car_tag in soup.find_all('ul', class_='bVR0c'): \n",
    "    for i in car_tag.find_all(name=\"li\")[2]:\n",
    "        ctype.append(i)\n",
    "    \n",
    "print(\"Extracted Successfully\")"
   ]
  },
  {
   "cell_type": "markdown",
   "id": "26ef6595",
   "metadata": {},
   "source": [
    "**Checking the length of all list**"
   ]
  },
  {
   "cell_type": "code",
   "execution_count": 12,
   "id": "6d40fc5d",
   "metadata": {},
   "outputs": [
    {
     "name": "stdout",
     "output_type": "stream",
     "text": [
      "235\n",
      "235\n",
      "235\n",
      "235\n",
      "235\n",
      "235\n",
      "235\n"
     ]
    }
   ],
   "source": [
    "print(len(car_link))\n",
    "print(len(car_name))\n",
    "print(len(car_model))\n",
    "print(len(car_price))\n",
    "print(len(km))\n",
    "print(len(owner))\n",
    "print(len(ctype))\n",
    "#print(len(car_info))"
   ]
  },
  {
   "cell_type": "markdown",
   "id": "49c8f035",
   "metadata": {},
   "source": [
    "**Creating a Dictionary with the lists we have created above**"
   ]
  },
  {
   "cell_type": "code",
   "execution_count": 13,
   "id": "f4a9594e",
   "metadata": {},
   "outputs": [],
   "source": [
    "d={'Car Name':car_name,'Car model':car_model,'Car Price':car_price,'KM':km,'Owner':owner,'Car Type':ctype,'Car link':car_link}"
   ]
  },
  {
   "cell_type": "markdown",
   "id": "5bce7e3c",
   "metadata": {},
   "source": [
    "<h2>Creating a Dataframe using Pandas</h2>"
   ]
  },
  {
   "cell_type": "code",
   "execution_count": 14,
   "id": "ba4a6e71",
   "metadata": {
    "scrolled": true
   },
   "outputs": [
    {
     "data": {
      "text/html": [
       "<div>\n",
       "<style scoped>\n",
       "    .dataframe tbody tr th:only-of-type {\n",
       "        vertical-align: middle;\n",
       "    }\n",
       "\n",
       "    .dataframe tbody tr th {\n",
       "        vertical-align: top;\n",
       "    }\n",
       "\n",
       "    .dataframe thead th {\n",
       "        text-align: right;\n",
       "    }\n",
       "</style>\n",
       "<table border=\"1\" class=\"dataframe\">\n",
       "  <thead>\n",
       "    <tr style=\"text-align: right;\">\n",
       "      <th></th>\n",
       "      <th>Car Name</th>\n",
       "      <th>Car model</th>\n",
       "      <th>Car Price</th>\n",
       "      <th>KM</th>\n",
       "      <th>Owner</th>\n",
       "      <th>Car Type</th>\n",
       "      <th>Car link</th>\n",
       "    </tr>\n",
       "  </thead>\n",
       "  <tbody>\n",
       "    <tr>\n",
       "      <th>0</th>\n",
       "      <td>2012 Hyundai i10</td>\n",
       "      <td>Manual</td>\n",
       "      <td>₹3,29,499</td>\n",
       "      <td>45,261 km</td>\n",
       "      <td>3rd Owner</td>\n",
       "      <td>Petrol</td>\n",
       "      <td>https://www.cars24.com/buy-used-hyundai-i10-20...</td>\n",
       "    </tr>\n",
       "    <tr>\n",
       "      <th>1</th>\n",
       "      <td>2021 KIA SONET</td>\n",
       "      <td>None</td>\n",
       "      <td>₹11,05,199</td>\n",
       "      <td>21,260 km</td>\n",
       "      <td>1st Owner</td>\n",
       "      <td>Petrol</td>\n",
       "      <td>https://www.cars24.com/buy-used-kia-sonet-2021...</td>\n",
       "    </tr>\n",
       "    <tr>\n",
       "      <th>2</th>\n",
       "      <td>2015 Maruti Swift Dzire</td>\n",
       "      <td>Manual</td>\n",
       "      <td>₹5,38,799</td>\n",
       "      <td>98,487 km</td>\n",
       "      <td>1st Owner</td>\n",
       "      <td>Diesel</td>\n",
       "      <td>https://www.cars24.com/buy-used-maruti-swift-d...</td>\n",
       "    </tr>\n",
       "    <tr>\n",
       "      <th>3</th>\n",
       "      <td>2016 Honda Jazz</td>\n",
       "      <td>Manual</td>\n",
       "      <td>₹5,94,099</td>\n",
       "      <td>46,757 km</td>\n",
       "      <td>1st Owner</td>\n",
       "      <td>Petrol</td>\n",
       "      <td>https://www.cars24.com/buy-used-honda-jazz-201...</td>\n",
       "    </tr>\n",
       "    <tr>\n",
       "      <th>4</th>\n",
       "      <td>2018 Maruti Eeco</td>\n",
       "      <td>Manual</td>\n",
       "      <td>₹4,01,399</td>\n",
       "      <td>13,241 km</td>\n",
       "      <td>1st Owner</td>\n",
       "      <td>Petrol</td>\n",
       "      <td>https://www.cars24.com/buy-used-maruti-eeco-20...</td>\n",
       "    </tr>\n",
       "  </tbody>\n",
       "</table>\n",
       "</div>"
      ],
      "text/plain": [
       "                  Car Name Car model   Car Price         KM      Owner  \\\n",
       "0         2012 Hyundai i10    Manual   ₹3,29,499  45,261 km  3rd Owner   \n",
       "1           2021 KIA SONET      None  ₹11,05,199  21,260 km  1st Owner   \n",
       "2  2015 Maruti Swift Dzire    Manual   ₹5,38,799  98,487 km  1st Owner   \n",
       "3          2016 Honda Jazz    Manual   ₹5,94,099  46,757 km  1st Owner   \n",
       "4         2018 Maruti Eeco    Manual   ₹4,01,399  13,241 km  1st Owner   \n",
       "\n",
       "  Car Type                                           Car link  \n",
       "0   Petrol  https://www.cars24.com/buy-used-hyundai-i10-20...  \n",
       "1   Petrol  https://www.cars24.com/buy-used-kia-sonet-2021...  \n",
       "2   Diesel  https://www.cars24.com/buy-used-maruti-swift-d...  \n",
       "3   Petrol  https://www.cars24.com/buy-used-honda-jazz-201...  \n",
       "4   Petrol  https://www.cars24.com/buy-used-maruti-eeco-20...  "
      ]
     },
     "execution_count": 14,
     "metadata": {},
     "output_type": "execute_result"
    }
   ],
   "source": [
    "df = pd.DataFrame(d)\n",
    "df.head()"
   ]
  },
  {
   "cell_type": "markdown",
   "id": "5439af23",
   "metadata": {},
   "source": [
    "**The 'Car Name' column has year, brand, car name so splitting the column car name and extracting year from it and storing 'Year' as a new column in Dataframe df**"
   ]
  },
  {
   "cell_type": "code",
   "execution_count": 15,
   "id": "de9f07d5",
   "metadata": {},
   "outputs": [
    {
     "data": {
      "text/plain": [
       "0    2012\n",
       "1    2021\n",
       "2    2015\n",
       "3    2016\n",
       "4    2018\n",
       "Name: Year, dtype: object"
      ]
     },
     "execution_count": 15,
     "metadata": {},
     "output_type": "execute_result"
    }
   ],
   "source": [
    "df['Car Name'].str.split(expand=True)\n",
    "Cyear=df['Car Name'].str.extract(r'(?P<Year>\\w+)', expand=True)\n",
    "df['Year']=Cyear\n",
    "df['Year'].head()"
   ]
  },
  {
   "cell_type": "markdown",
   "id": "5454b0dc",
   "metadata": {},
   "source": [
    "**Splitting the Column 'Car Name' and extracting brand from it and storing 'Brand' as a new column in Dataframe df**"
   ]
  },
  {
   "cell_type": "code",
   "execution_count": 16,
   "id": "7df2c8e7",
   "metadata": {},
   "outputs": [
    {
     "data": {
      "text/plain": [
       "0    Hyundai\n",
       "1        KIA\n",
       "2     Maruti\n",
       "3      Honda\n",
       "4     Maruti\n",
       "Name: Brand, dtype: object"
      ]
     },
     "execution_count": 16,
     "metadata": {},
     "output_type": "execute_result"
    }
   ],
   "source": [
    "s=df['Car Name'].str.split(expand=True)\n",
    "s.drop(columns=s.columns[0], axis=1, inplace=True)\n",
    "df['Brand']=s[1]\n",
    "df['Brand'].head()"
   ]
  },
  {
   "cell_type": "markdown",
   "id": "b1fbcd38",
   "metadata": {},
   "source": [
    "**Splitting the Column 'Car Name' and extracting Car Name itself from it and storing 'Car Name' as a new column in Dataframe df**"
   ]
  },
  {
   "cell_type": "code",
   "execution_count": 17,
   "id": "aee797cf",
   "metadata": {},
   "outputs": [],
   "source": [
    "a=df['Car Name'].str.split(expand=True)\n",
    "\n",
    "b=a.drop([0, 1], axis = 1)\n",
    "\n",
    "c=b.fillna(\"\")\n",
    "\n",
    "d= c[2]+ \" \" + c[3]+ \" \" +c[4] \n",
    "df['Car Name'] =d"
   ]
  },
  {
   "cell_type": "code",
   "execution_count": 18,
   "id": "c5fe6385",
   "metadata": {},
   "outputs": [
    {
     "data": {
      "text/html": [
       "<div>\n",
       "<style scoped>\n",
       "    .dataframe tbody tr th:only-of-type {\n",
       "        vertical-align: middle;\n",
       "    }\n",
       "\n",
       "    .dataframe tbody tr th {\n",
       "        vertical-align: top;\n",
       "    }\n",
       "\n",
       "    .dataframe thead th {\n",
       "        text-align: right;\n",
       "    }\n",
       "</style>\n",
       "<table border=\"1\" class=\"dataframe\">\n",
       "  <thead>\n",
       "    <tr style=\"text-align: right;\">\n",
       "      <th></th>\n",
       "      <th>Car Name</th>\n",
       "      <th>Car model</th>\n",
       "      <th>Car Price</th>\n",
       "      <th>KM</th>\n",
       "      <th>Owner</th>\n",
       "      <th>Car Type</th>\n",
       "      <th>Car link</th>\n",
       "      <th>Year</th>\n",
       "      <th>Brand</th>\n",
       "    </tr>\n",
       "  </thead>\n",
       "  <tbody>\n",
       "    <tr>\n",
       "      <th>0</th>\n",
       "      <td>i10</td>\n",
       "      <td>Manual</td>\n",
       "      <td>₹3,29,499</td>\n",
       "      <td>45,261 km</td>\n",
       "      <td>3rd Owner</td>\n",
       "      <td>Petrol</td>\n",
       "      <td>https://www.cars24.com/buy-used-hyundai-i10-20...</td>\n",
       "      <td>2012</td>\n",
       "      <td>Hyundai</td>\n",
       "    </tr>\n",
       "    <tr>\n",
       "      <th>1</th>\n",
       "      <td>SONET</td>\n",
       "      <td>None</td>\n",
       "      <td>₹11,05,199</td>\n",
       "      <td>21,260 km</td>\n",
       "      <td>1st Owner</td>\n",
       "      <td>Petrol</td>\n",
       "      <td>https://www.cars24.com/buy-used-kia-sonet-2021...</td>\n",
       "      <td>2021</td>\n",
       "      <td>KIA</td>\n",
       "    </tr>\n",
       "    <tr>\n",
       "      <th>2</th>\n",
       "      <td>Swift Dzire</td>\n",
       "      <td>Manual</td>\n",
       "      <td>₹5,38,799</td>\n",
       "      <td>98,487 km</td>\n",
       "      <td>1st Owner</td>\n",
       "      <td>Diesel</td>\n",
       "      <td>https://www.cars24.com/buy-used-maruti-swift-d...</td>\n",
       "      <td>2015</td>\n",
       "      <td>Maruti</td>\n",
       "    </tr>\n",
       "    <tr>\n",
       "      <th>3</th>\n",
       "      <td>Jazz</td>\n",
       "      <td>Manual</td>\n",
       "      <td>₹5,94,099</td>\n",
       "      <td>46,757 km</td>\n",
       "      <td>1st Owner</td>\n",
       "      <td>Petrol</td>\n",
       "      <td>https://www.cars24.com/buy-used-honda-jazz-201...</td>\n",
       "      <td>2016</td>\n",
       "      <td>Honda</td>\n",
       "    </tr>\n",
       "    <tr>\n",
       "      <th>4</th>\n",
       "      <td>Eeco</td>\n",
       "      <td>Manual</td>\n",
       "      <td>₹4,01,399</td>\n",
       "      <td>13,241 km</td>\n",
       "      <td>1st Owner</td>\n",
       "      <td>Petrol</td>\n",
       "      <td>https://www.cars24.com/buy-used-maruti-eeco-20...</td>\n",
       "      <td>2018</td>\n",
       "      <td>Maruti</td>\n",
       "    </tr>\n",
       "  </tbody>\n",
       "</table>\n",
       "</div>"
      ],
      "text/plain": [
       "       Car Name Car model   Car Price         KM      Owner Car Type  \\\n",
       "0         i10      Manual   ₹3,29,499  45,261 km  3rd Owner   Petrol   \n",
       "1       SONET        None  ₹11,05,199  21,260 km  1st Owner   Petrol   \n",
       "2  Swift Dzire     Manual   ₹5,38,799  98,487 km  1st Owner   Diesel   \n",
       "3        Jazz      Manual   ₹5,94,099  46,757 km  1st Owner   Petrol   \n",
       "4        Eeco      Manual   ₹4,01,399  13,241 km  1st Owner   Petrol   \n",
       "\n",
       "                                            Car link  Year    Brand  \n",
       "0  https://www.cars24.com/buy-used-hyundai-i10-20...  2012  Hyundai  \n",
       "1  https://www.cars24.com/buy-used-kia-sonet-2021...  2021      KIA  \n",
       "2  https://www.cars24.com/buy-used-maruti-swift-d...  2015   Maruti  \n",
       "3  https://www.cars24.com/buy-used-honda-jazz-201...  2016    Honda  \n",
       "4  https://www.cars24.com/buy-used-maruti-eeco-20...  2018   Maruti  "
      ]
     },
     "execution_count": 18,
     "metadata": {},
     "output_type": "execute_result"
    }
   ],
   "source": [
    "df.head()"
   ]
  },
  {
   "cell_type": "markdown",
   "id": "aca64c21",
   "metadata": {},
   "source": [
    "**Adding City Column with City as Hyderabad**"
   ]
  },
  {
   "cell_type": "code",
   "execution_count": 19,
   "id": "176bf80c",
   "metadata": {},
   "outputs": [
    {
     "data": {
      "text/plain": [
       "235"
      ]
     },
     "execution_count": 19,
     "metadata": {},
     "output_type": "execute_result"
    }
   ],
   "source": [
    "df['City']='Hyderabad'\n",
    "\n",
    "len(df['City'])"
   ]
  },
  {
   "cell_type": "code",
   "execution_count": 20,
   "id": "1fa84523",
   "metadata": {},
   "outputs": [
    {
     "data": {
      "text/html": [
       "<div>\n",
       "<style scoped>\n",
       "    .dataframe tbody tr th:only-of-type {\n",
       "        vertical-align: middle;\n",
       "    }\n",
       "\n",
       "    .dataframe tbody tr th {\n",
       "        vertical-align: top;\n",
       "    }\n",
       "\n",
       "    .dataframe thead th {\n",
       "        text-align: right;\n",
       "    }\n",
       "</style>\n",
       "<table border=\"1\" class=\"dataframe\">\n",
       "  <thead>\n",
       "    <tr style=\"text-align: right;\">\n",
       "      <th></th>\n",
       "      <th>Car Name</th>\n",
       "      <th>Car model</th>\n",
       "      <th>Car Price</th>\n",
       "      <th>KM</th>\n",
       "      <th>Owner</th>\n",
       "      <th>Car Type</th>\n",
       "      <th>Car link</th>\n",
       "      <th>Year</th>\n",
       "      <th>Brand</th>\n",
       "      <th>City</th>\n",
       "    </tr>\n",
       "  </thead>\n",
       "  <tbody>\n",
       "    <tr>\n",
       "      <th>0</th>\n",
       "      <td>i10</td>\n",
       "      <td>Manual</td>\n",
       "      <td>₹3,29,499</td>\n",
       "      <td>45,261 km</td>\n",
       "      <td>3rd Owner</td>\n",
       "      <td>Petrol</td>\n",
       "      <td>https://www.cars24.com/buy-used-hyundai-i10-20...</td>\n",
       "      <td>2012</td>\n",
       "      <td>Hyundai</td>\n",
       "      <td>Hyderabad</td>\n",
       "    </tr>\n",
       "    <tr>\n",
       "      <th>1</th>\n",
       "      <td>SONET</td>\n",
       "      <td>None</td>\n",
       "      <td>₹11,05,199</td>\n",
       "      <td>21,260 km</td>\n",
       "      <td>1st Owner</td>\n",
       "      <td>Petrol</td>\n",
       "      <td>https://www.cars24.com/buy-used-kia-sonet-2021...</td>\n",
       "      <td>2021</td>\n",
       "      <td>KIA</td>\n",
       "      <td>Hyderabad</td>\n",
       "    </tr>\n",
       "    <tr>\n",
       "      <th>2</th>\n",
       "      <td>Swift Dzire</td>\n",
       "      <td>Manual</td>\n",
       "      <td>₹5,38,799</td>\n",
       "      <td>98,487 km</td>\n",
       "      <td>1st Owner</td>\n",
       "      <td>Diesel</td>\n",
       "      <td>https://www.cars24.com/buy-used-maruti-swift-d...</td>\n",
       "      <td>2015</td>\n",
       "      <td>Maruti</td>\n",
       "      <td>Hyderabad</td>\n",
       "    </tr>\n",
       "    <tr>\n",
       "      <th>3</th>\n",
       "      <td>Jazz</td>\n",
       "      <td>Manual</td>\n",
       "      <td>₹5,94,099</td>\n",
       "      <td>46,757 km</td>\n",
       "      <td>1st Owner</td>\n",
       "      <td>Petrol</td>\n",
       "      <td>https://www.cars24.com/buy-used-honda-jazz-201...</td>\n",
       "      <td>2016</td>\n",
       "      <td>Honda</td>\n",
       "      <td>Hyderabad</td>\n",
       "    </tr>\n",
       "    <tr>\n",
       "      <th>4</th>\n",
       "      <td>Eeco</td>\n",
       "      <td>Manual</td>\n",
       "      <td>₹4,01,399</td>\n",
       "      <td>13,241 km</td>\n",
       "      <td>1st Owner</td>\n",
       "      <td>Petrol</td>\n",
       "      <td>https://www.cars24.com/buy-used-maruti-eeco-20...</td>\n",
       "      <td>2018</td>\n",
       "      <td>Maruti</td>\n",
       "      <td>Hyderabad</td>\n",
       "    </tr>\n",
       "    <tr>\n",
       "      <th>...</th>\n",
       "      <td>...</td>\n",
       "      <td>...</td>\n",
       "      <td>...</td>\n",
       "      <td>...</td>\n",
       "      <td>...</td>\n",
       "      <td>...</td>\n",
       "      <td>...</td>\n",
       "      <td>...</td>\n",
       "      <td>...</td>\n",
       "      <td>...</td>\n",
       "    </tr>\n",
       "    <tr>\n",
       "      <th>230</th>\n",
       "      <td>VENUE</td>\n",
       "      <td>Automatic</td>\n",
       "      <td>₹12,01,799</td>\n",
       "      <td>16,964 km</td>\n",
       "      <td>1st Owner</td>\n",
       "      <td>Petrol</td>\n",
       "      <td>https://www.cars24.com/buy-used-hyundai-venue-...</td>\n",
       "      <td>2021</td>\n",
       "      <td>Hyundai</td>\n",
       "      <td>Hyderabad</td>\n",
       "    </tr>\n",
       "    <tr>\n",
       "      <th>231</th>\n",
       "      <td>S Cross</td>\n",
       "      <td>Manual</td>\n",
       "      <td>₹7,34,599</td>\n",
       "      <td>99,312 km</td>\n",
       "      <td>2nd Owner</td>\n",
       "      <td>Diesel</td>\n",
       "      <td>https://www.cars24.com/buy-used-maruti-s-cross...</td>\n",
       "      <td>2017</td>\n",
       "      <td>Maruti</td>\n",
       "      <td>Hyderabad</td>\n",
       "    </tr>\n",
       "    <tr>\n",
       "      <th>232</th>\n",
       "      <td>Grand i10</td>\n",
       "      <td>Manual</td>\n",
       "      <td>₹4,43,999</td>\n",
       "      <td>65,018 km</td>\n",
       "      <td>1st Owner</td>\n",
       "      <td>Petrol</td>\n",
       "      <td>https://www.cars24.com/buy-used-hyundai-grand-...</td>\n",
       "      <td>2014</td>\n",
       "      <td>Hyundai</td>\n",
       "      <td>Hyderabad</td>\n",
       "    </tr>\n",
       "    <tr>\n",
       "      <th>233</th>\n",
       "      <td>Dzire</td>\n",
       "      <td>Manual</td>\n",
       "      <td>₹7,52,199</td>\n",
       "      <td>84,773 km</td>\n",
       "      <td>1st Owner</td>\n",
       "      <td>Diesel</td>\n",
       "      <td>https://www.cars24.com/buy-used-maruti-dzire-2...</td>\n",
       "      <td>2019</td>\n",
       "      <td>Maruti</td>\n",
       "      <td>Hyderabad</td>\n",
       "    </tr>\n",
       "    <tr>\n",
       "      <th>234</th>\n",
       "      <td>Polo</td>\n",
       "      <td>Manual</td>\n",
       "      <td>₹6,61,299</td>\n",
       "      <td>9,891 km</td>\n",
       "      <td>1st Owner</td>\n",
       "      <td>Petrol</td>\n",
       "      <td>https://www.cars24.com/buy-used-volkswagen-pol...</td>\n",
       "      <td>2021</td>\n",
       "      <td>Volkswagen</td>\n",
       "      <td>Hyderabad</td>\n",
       "    </tr>\n",
       "  </tbody>\n",
       "</table>\n",
       "<p>235 rows × 10 columns</p>\n",
       "</div>"
      ],
      "text/plain": [
       "         Car Name  Car model   Car Price         KM      Owner Car Type  \\\n",
       "0           i10       Manual   ₹3,29,499  45,261 km  3rd Owner   Petrol   \n",
       "1         SONET         None  ₹11,05,199  21,260 km  1st Owner   Petrol   \n",
       "2    Swift Dzire      Manual   ₹5,38,799  98,487 km  1st Owner   Diesel   \n",
       "3          Jazz       Manual   ₹5,94,099  46,757 km  1st Owner   Petrol   \n",
       "4          Eeco       Manual   ₹4,01,399  13,241 km  1st Owner   Petrol   \n",
       "..            ...        ...         ...        ...        ...      ...   \n",
       "230       VENUE    Automatic  ₹12,01,799  16,964 km  1st Owner   Petrol   \n",
       "231      S Cross      Manual   ₹7,34,599  99,312 km  2nd Owner   Diesel   \n",
       "232    Grand i10      Manual   ₹4,43,999  65,018 km  1st Owner   Petrol   \n",
       "233       Dzire       Manual   ₹7,52,199  84,773 km  1st Owner   Diesel   \n",
       "234        Polo       Manual   ₹6,61,299   9,891 km  1st Owner   Petrol   \n",
       "\n",
       "                                              Car link  Year       Brand  \\\n",
       "0    https://www.cars24.com/buy-used-hyundai-i10-20...  2012     Hyundai   \n",
       "1    https://www.cars24.com/buy-used-kia-sonet-2021...  2021         KIA   \n",
       "2    https://www.cars24.com/buy-used-maruti-swift-d...  2015      Maruti   \n",
       "3    https://www.cars24.com/buy-used-honda-jazz-201...  2016       Honda   \n",
       "4    https://www.cars24.com/buy-used-maruti-eeco-20...  2018      Maruti   \n",
       "..                                                 ...   ...         ...   \n",
       "230  https://www.cars24.com/buy-used-hyundai-venue-...  2021     Hyundai   \n",
       "231  https://www.cars24.com/buy-used-maruti-s-cross...  2017      Maruti   \n",
       "232  https://www.cars24.com/buy-used-hyundai-grand-...  2014     Hyundai   \n",
       "233  https://www.cars24.com/buy-used-maruti-dzire-2...  2019      Maruti   \n",
       "234  https://www.cars24.com/buy-used-volkswagen-pol...  2021  Volkswagen   \n",
       "\n",
       "          City  \n",
       "0    Hyderabad  \n",
       "1    Hyderabad  \n",
       "2    Hyderabad  \n",
       "3    Hyderabad  \n",
       "4    Hyderabad  \n",
       "..         ...  \n",
       "230  Hyderabad  \n",
       "231  Hyderabad  \n",
       "232  Hyderabad  \n",
       "233  Hyderabad  \n",
       "234  Hyderabad  \n",
       "\n",
       "[235 rows x 10 columns]"
      ]
     },
     "execution_count": 20,
     "metadata": {},
     "output_type": "execute_result"
    }
   ],
   "source": [
    "df"
   ]
  },
  {
   "cell_type": "markdown",
   "id": "0bea7218",
   "metadata": {},
   "source": [
    "**Re-arranging the order of Columns**"
   ]
  },
  {
   "cell_type": "code",
   "execution_count": 21,
   "id": "8477a262",
   "metadata": {
    "scrolled": false
   },
   "outputs": [],
   "source": [
    "data=df.reindex(columns=['City','Year','Brand','Car Name','Car model','Car Price','KM','Owner','Car Type','Car link'])"
   ]
  },
  {
   "cell_type": "code",
   "execution_count": 22,
   "id": "665b8313",
   "metadata": {},
   "outputs": [
    {
     "data": {
      "text/html": [
       "<div>\n",
       "<style scoped>\n",
       "    .dataframe tbody tr th:only-of-type {\n",
       "        vertical-align: middle;\n",
       "    }\n",
       "\n",
       "    .dataframe tbody tr th {\n",
       "        vertical-align: top;\n",
       "    }\n",
       "\n",
       "    .dataframe thead th {\n",
       "        text-align: right;\n",
       "    }\n",
       "</style>\n",
       "<table border=\"1\" class=\"dataframe\">\n",
       "  <thead>\n",
       "    <tr style=\"text-align: right;\">\n",
       "      <th></th>\n",
       "      <th>City</th>\n",
       "      <th>Year</th>\n",
       "      <th>Brand</th>\n",
       "      <th>Car Name</th>\n",
       "      <th>Car model</th>\n",
       "      <th>Car Price</th>\n",
       "      <th>KM</th>\n",
       "      <th>Owner</th>\n",
       "      <th>Car Type</th>\n",
       "      <th>Car link</th>\n",
       "    </tr>\n",
       "  </thead>\n",
       "  <tbody>\n",
       "    <tr>\n",
       "      <th>0</th>\n",
       "      <td>Hyderabad</td>\n",
       "      <td>2012</td>\n",
       "      <td>Hyundai</td>\n",
       "      <td>i10</td>\n",
       "      <td>Manual</td>\n",
       "      <td>₹3,29,499</td>\n",
       "      <td>45,261 km</td>\n",
       "      <td>3rd Owner</td>\n",
       "      <td>Petrol</td>\n",
       "      <td>https://www.cars24.com/buy-used-hyundai-i10-20...</td>\n",
       "    </tr>\n",
       "    <tr>\n",
       "      <th>1</th>\n",
       "      <td>Hyderabad</td>\n",
       "      <td>2021</td>\n",
       "      <td>KIA</td>\n",
       "      <td>SONET</td>\n",
       "      <td>None</td>\n",
       "      <td>₹11,05,199</td>\n",
       "      <td>21,260 km</td>\n",
       "      <td>1st Owner</td>\n",
       "      <td>Petrol</td>\n",
       "      <td>https://www.cars24.com/buy-used-kia-sonet-2021...</td>\n",
       "    </tr>\n",
       "    <tr>\n",
       "      <th>2</th>\n",
       "      <td>Hyderabad</td>\n",
       "      <td>2015</td>\n",
       "      <td>Maruti</td>\n",
       "      <td>Swift Dzire</td>\n",
       "      <td>Manual</td>\n",
       "      <td>₹5,38,799</td>\n",
       "      <td>98,487 km</td>\n",
       "      <td>1st Owner</td>\n",
       "      <td>Diesel</td>\n",
       "      <td>https://www.cars24.com/buy-used-maruti-swift-d...</td>\n",
       "    </tr>\n",
       "    <tr>\n",
       "      <th>3</th>\n",
       "      <td>Hyderabad</td>\n",
       "      <td>2016</td>\n",
       "      <td>Honda</td>\n",
       "      <td>Jazz</td>\n",
       "      <td>Manual</td>\n",
       "      <td>₹5,94,099</td>\n",
       "      <td>46,757 km</td>\n",
       "      <td>1st Owner</td>\n",
       "      <td>Petrol</td>\n",
       "      <td>https://www.cars24.com/buy-used-honda-jazz-201...</td>\n",
       "    </tr>\n",
       "    <tr>\n",
       "      <th>4</th>\n",
       "      <td>Hyderabad</td>\n",
       "      <td>2018</td>\n",
       "      <td>Maruti</td>\n",
       "      <td>Eeco</td>\n",
       "      <td>Manual</td>\n",
       "      <td>₹4,01,399</td>\n",
       "      <td>13,241 km</td>\n",
       "      <td>1st Owner</td>\n",
       "      <td>Petrol</td>\n",
       "      <td>https://www.cars24.com/buy-used-maruti-eeco-20...</td>\n",
       "    </tr>\n",
       "  </tbody>\n",
       "</table>\n",
       "</div>"
      ],
      "text/plain": [
       "        City  Year    Brand      Car Name Car model   Car Price         KM  \\\n",
       "0  Hyderabad  2012  Hyundai         i10      Manual   ₹3,29,499  45,261 km   \n",
       "1  Hyderabad  2021      KIA       SONET        None  ₹11,05,199  21,260 km   \n",
       "2  Hyderabad  2015   Maruti  Swift Dzire     Manual   ₹5,38,799  98,487 km   \n",
       "3  Hyderabad  2016    Honda        Jazz      Manual   ₹5,94,099  46,757 km   \n",
       "4  Hyderabad  2018   Maruti        Eeco      Manual   ₹4,01,399  13,241 km   \n",
       "\n",
       "       Owner Car Type                                           Car link  \n",
       "0  3rd Owner   Petrol  https://www.cars24.com/buy-used-hyundai-i10-20...  \n",
       "1  1st Owner   Petrol  https://www.cars24.com/buy-used-kia-sonet-2021...  \n",
       "2  1st Owner   Diesel  https://www.cars24.com/buy-used-maruti-swift-d...  \n",
       "3  1st Owner   Petrol  https://www.cars24.com/buy-used-honda-jazz-201...  \n",
       "4  1st Owner   Petrol  https://www.cars24.com/buy-used-maruti-eeco-20...  "
      ]
     },
     "execution_count": 22,
     "metadata": {},
     "output_type": "execute_result"
    }
   ],
   "source": [
    "data.head()"
   ]
  },
  {
   "cell_type": "markdown",
   "id": "6d6c2814",
   "metadata": {},
   "source": [
    "**Storing the data as CSV in Given Path**"
   ]
  },
  {
   "cell_type": "code",
   "execution_count": 23,
   "id": "dd780771",
   "metadata": {
    "scrolled": true
   },
   "outputs": [],
   "source": [
    "path=\"D:\\Malhar H Jadhav\\Zep Intern\\Task 2\\Code and data\\Data\\Cars24_Hyderabad.csv\"\n",
    "data.to_csv(path, index=False)"
   ]
  },
  {
   "cell_type": "code",
   "execution_count": null,
   "id": "adb62bb4",
   "metadata": {},
   "outputs": [],
   "source": []
  }
 ],
 "metadata": {
  "kernelspec": {
   "display_name": "Python 3 (ipykernel)",
   "language": "python",
   "name": "python3"
  },
  "language_info": {
   "codemirror_mode": {
    "name": "ipython",
    "version": 3
   },
   "file_extension": ".py",
   "mimetype": "text/x-python",
   "name": "python",
   "nbconvert_exporter": "python",
   "pygments_lexer": "ipython3",
   "version": "3.9.7"
  }
 },
 "nbformat": 4,
 "nbformat_minor": 5
}
