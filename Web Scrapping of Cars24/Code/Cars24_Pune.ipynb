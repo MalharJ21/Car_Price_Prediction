{
 "cells": [
  {
   "cell_type": "markdown",
   "id": "a0647529",
   "metadata": {},
   "source": [
    "<h3>Importing the Libraries Required </h3>"
   ]
  },
  {
   "cell_type": "code",
   "execution_count": 1,
   "id": "0c5c40ca",
   "metadata": {},
   "outputs": [],
   "source": [
    "import urllib\n",
    "import time\n",
    "import json\n",
    "import numpy as np\n",
    "import pandas as pd\n",
    "from tqdm import tqdm\n",
    "from time import sleep\n",
    "from selenium import webdriver\n",
    "from selenium.webdriver.common.by import By\n",
    "from selenium.webdriver.support.ui import WebDriverWait\n",
    "from selenium.webdriver.support import expected_conditions as EC\n",
    "from selenium.common.exceptions import TimeoutException\n",
    "from bs4 import BeautifulSoup\n",
    "from selenium.common.exceptions import ElementClickInterceptedException\n",
    "from selenium.common.exceptions import NoSuchElementException\n"
   ]
  },
  {
   "cell_type": "markdown",
   "id": "e57b890a",
   "metadata": {},
   "source": [
    "<h3>Using Selenium For Auto Scrolling the Web-Page and Extracting the The Page Source</h3>"
   ]
  },
  {
   "cell_type": "code",
   "execution_count": 2,
   "id": "6c96f183",
   "metadata": {
    "scrolled": true
   },
   "outputs": [
    {
     "name": "stderr",
     "output_type": "stream",
     "text": [
      "C:\\Users\\jadha\\AppData\\Local\\Temp/ipykernel_19276/4294769223.py:1: DeprecationWarning: executable_path has been deprecated, please pass in a Service object\n",
      "  driver = webdriver.Chrome(executable_path=r'D:\\\\Malhar H Jadhav\\\\Devlopment\\\\chromedriver_win32\\\\chromedriver.exe')\n"
     ]
    }
   ],
   "source": [
    "driver = webdriver.Chrome(executable_path=r'D:\\\\Malhar H Jadhav\\\\Devlopment\\\\chromedriver_win32\\\\chromedriver.exe')\n",
    "driver.wait = WebDriverWait(driver, 5)\n",
    "driver.maximize_window()\n",
    "driver.get(\"https://www.cars24.com/buy-used-car/?sort=P&storeCityId=2423&pinId=411001\")\n",
    "time.sleep(7)\n",
    "\n",
    "\n",
    "height = driver.execute_script(\"return document.documentElement.scrollHeight\")\n",
    "lastheight = 0\n",
    "while True:\n",
    "    if lastheight == height:\n",
    "        break\n",
    "    lastheight = height\n",
    "    driver.execute_script(\"window.scrollTo(0, \" + str(height) + \");\")\n",
    "    time.sleep(10)\n",
    "    height = driver.execute_script(\"return document.documentElement.scrollHeight\")\n",
    "    \n",
    "    \n",
    "# Using BeautifulSoup To Store the Page Source in Object Called Soup\n",
    "\n",
    "soup = BeautifulSoup(driver.page_source)\n",
    "driver.quit()"
   ]
  },
  {
   "cell_type": "markdown",
   "id": "9dbcafd3",
   "metadata": {},
   "source": [
    "<h3>Storing the page source in object called Soup and viewing the text</h3>"
   ]
  },
  {
   "cell_type": "code",
   "execution_count": 3,
   "id": "fe63b43f",
   "metadata": {},
   "outputs": [
    {
     "data": {
      "text/plain": [
       "\"\\n\\n\\n\\n\\n\\n\\n\\n\\n\\n\\nUsed Cars in Pune - Second Hand Cars in Pune for Sale\\nPune  Popular CitiesUsed cars in BengaluruPopular CarsUsed Hyundai carsUsed Renault carsUsed Mahindra carsUsed Toyota carsUsed Audi carsUsed Honda carsUsed Maruti carsUsed Tata carsUsed Ford carsUsed Skoda carsAll used cars in BengaluruUsed cars in ChennaiPopular CarsUsed Hyundai carsUsed Renault carsUsed Mahindra carsUsed Toyota carsUsed Audi carsUsed Honda carsUsed Maruti carsUsed Tata carsUsed Ford carsUsed Skoda carsAll used cars in ChennaiUsed cars in New DelhiPopular CarsUsed Hyundai carsUsed Renault carsUsed Mahindra carsUsed Toyota carsUsed Audi carsUsed Honda carsUsed Maruti carsUsed Tata carsUsed Ford carsUsed Skoda carsAll used cars in New DelhiUsed cars in MumbaiPopular CarsUsed Hyundai carsUsed Renault carsUsed Mahindra carsUsed Toyota carsUsed Audi carsUsed Honda carsUsed Maruti carsUsed Tata carsUsed Ford carsUsed Skoda carsAll used cars in MumbaiUsed cars in PunePopular CarsUsed Hyundai carsUsed Renault carsUsed Mahindra carsUsed Toyota carsUsed Audi carsUsed Honda carsUsed Maruti carsUsed Tata carsUsed Ford carsUsed Skoda carsAll used cars in PuneUsed cars in HyderabadPopular CarsUsed Hyundai carsUsed Renault carsUsed Mahindra carsUsed Toyota carsUsed Audi carsUsed Honda carsUsed Maruti carsUsed Tata carsUsed Ford carsUsed Skoda carsAll used cars in HyderabadUsed cars in KolkataPopular CarsUsed Hyundai carsUsed Renault carsUsed Mahindra carsUsed Toyota carsUsed Audi carsUsed Honda carsUsed Maruti carsUsed Tata carsUsed Ford carsUsed Skoda carsAll used cars in KolkataUsed cars in AhmedabadPopular CarsUsed Hyundai carsUsed Renault carsUsed Mahindra carsUsed Toyota carsUsed Audi carsUsed Honda carsUsed Maruti carsUsed Tata carsUsed Ford carsUsed Skoda carsAll used cars in AhmedabadUsed cars in JaipurPopular CarsUsed Hyundai carsUsed Renault carsUsed Mahindra carsUsed Toyota carsUsed Audi carsUsed Honda carsUsed Maruti carsUsed Tata carsUsed Ford carsUsed Skoda carsAll used cars in JaipurUsed cars in ChandigarhPopular CarsUsed Hyundai carsUsed Renault carsUsed Mahindra carsUsed Toyota carsUsed Audi carsUsed Honda carsUsed Maruti carsUsed Tata carsUsed Ford carsUsed Skoda carsAll used cars in ChandigarhBuy used carSell used carLoginRC Transfers StatusFAQBecome a partnerBuy Car: 9 AM - 9 PM1800 258 5656HomeUsed CarsPuneFind your dream car with usSort By:Best Match  PriceModel YearKMs DrivenMake & ModelRTOMore FiltersUsed Cars in Pune2021 Nissan MAGNITEXL Turbo CVT 16,049 km1st OwnerPetrol₹21,439/month₹9,63,799Zero downpayment2014 Volkswagen VentoHIGHLINE PETROL Manual41,569 km1st OwnerPetrol₹11,420/month₹5,13,399Zero downpayment2020 Tata TiagoXZ+ 1.2 Revotron Manual8,118 km1st OwnerPetrol₹15,135/month₹6,80,399Zero downpayment2015 Renault DusterRXZ 110 4WD Manual63,143 km1st OwnerDiesel₹15,055/month₹6,76,799Zero downpayment2020 Maruti AltoLXI Manual2,530 km1st OwnerPetrol₹8,789/month₹3,95,099Zero downpaymentFilter By Popular BrandMarutiHyundaiHondaTataToyota2021 Toyota URBAN CRUISERPREMIUM MT 1,961 km1st OwnerPetrol₹26,242/month₹11,79,699Zero downpayment2019 Jeep Compass1.4 SPORT PETROL Manual27,193 km1st OwnerPetrol₹30,479/month₹13,70,199Zero downpayment2021 Renault KigerRXZ AMT 1.0 DUAL TONE 2,590 km1st OwnerPetrol₹24,391/month₹10,96,499Zero downpayment2021 Hyundai CretaSX EXECUTIVE MT Manual2,334 km1st OwnerPetrol₹39,924/month₹17,94,799Zero downpayment2017 Hyundai XcentSX 1.2 OPT Manual13,639 km1st OwnerPetrol₹13,760/month₹6,18,599Zero downpayment2015 Ford Ecosport1.5 TITANIUMTDCI OPT Manual51,922 km1st OwnerDiesel₹14,728/month₹6,62,099Zero downpaymentFilter By BudgetCars under 2 lakhCars between 2 lakh - 5 lakhCars between 5 lakh - 10 lakhCars above 10 lakh2015 Toyota Corolla AltisVL AT Automatic24,242 km2nd OwnerPetrol₹23,265/month₹10,45,899Zero downpayment2018 Maruti CelerioVXI Manual29,583 km1st OwnerPetrol₹11,256/month₹5,05,999Zero downpayment2014 Volkswagen PoloHIGHLINE1.2L PETROL Manual46,574 km1st OwnerPetrol₹11,489/month₹5,16,499Zero downpayment2015 Maruti CelerioVXI Manual50,235 km1st OwnerPetrol₹10,110/month₹4,54,499Zero downpayment2021 Maruti S CrossZETA SHVS PETROL Manual6,396 km1st OwnerPetrol₹23,944/month₹10,76,399Zero downpayment2014 Toyota EtiosCROSS 1.5 V Manual80,847 km2nd OwnerPetrol₹10,584/month₹4,75,799Zero downpaymentFilter By Fuel TypePetrolDieselCNGLPGElectricHybrid2020 Hyundai Elite i201.2 SPORTS PLUS VTVT Manual3,806 km1st OwnerPetrol₹17,239/month₹7,74,999Zero downpayment2016 Hyundai Grand i10SPORTZ 1.2 KAPPA VTVT Manual17,478 km1st OwnerPetrol₹10,822/month₹4,86,499Zero downpayment2012 Hyundai i20MAGNA O 1.2 Manual56,711 km2nd OwnerPetrol₹8,255/month₹3,71,099Zero downpayment2020 KIA SELTOSHTK PLUS 1.5 DIESEL Manual18,781 km1st OwnerDiesel₹30,809/month₹13,84,999Zero downpayment2017 Maruti CiazALPHA 1.4 VVT Manual60,797 km2nd OwnerPetrol₹14,305/month₹6,43,099Zero downpayment2018 Tata TiagoXZ 1.2 REVOTRON Manual25,710 km1st OwnerPetrol₹12,283/month₹5,52,199Zero downpaymentFilter By Body TypeHatchbackSedanSUVLuxury SedanLuxury SUV2015 Volkswagen PoloGT TSI 1.2 PETROL AT Automatic41,708 km1st OwnerPetrol₹15,264/month₹6,86,199Zero downpayment2019 Volkswagen PoloCOMFORTLINE 1.0 PETROL Manual27,487 km1st OwnerPetrol₹15,678/month₹7,04,799Zero downpayment2019 Maruti Vitara BrezzaZDI + AMT Automatic33,415 km2nd OwnerDiesel₹21,513/month₹9,67,099Zero downpayment2018 Honda CityZX CVT ANNIVERSARY EDITION Automatic16,118 km1st OwnerPetrol₹26,709/month₹12,00,699Zero downpayment12-Months Free Warranty!Free 12 months warranty on all cars to safeguard you from unforeseen repair and maintenance costsKNOW MORE2017 Maruti CiazALPHA 1.4 VVT Manual21,004 km1st OwnerPetrol₹17,669/month₹7,94,299Zero downpayment2016 Honda Amaze1.2 SX MT I VTEC Manual35,472 km1st OwnerPetrol₹11,503/month₹5,17,099Zero downpayment2018 Maruti S CrossALPHA SHVS Manual24,233 km1st OwnerDiesel₹25,203/month₹11,32,999Zero downpayment2017 Datsun Redi GoT (O) Manual18,101 km1st OwnerPetrol₹6,337/month₹2,84,899Zero downpayment2017 Jeep Compass2.0 LONGITUDE (O) Manual53,928 km1st OwnerDiesel₹30,248/month₹13,59,799Zero downpayment2018 Renault KwidRXT 1.0 EASY-R AT OPTION Automatic34,507 km1st OwnerPetrol₹9,794/month₹4,40,299Zero downpayment2021 Renault Kwid1.0 RXT Opt Manual5,326 km2nd OwnerPetrol₹12,250/month₹5,50,699Zero downpayment2020 Tata NEXONXZ+ 1.5 Manual20,053 km1st OwnerDiesel₹24,598/month₹11,05,799Zero downpayment2021 Volkswagen PoloHIGHLINE PLUS 1.0 TSI AT Automatic6,871 km1st OwnerPetrol₹23,503/month₹10,56,599Zero downpayment2017 Volkswagen PoloGT TSI 1.2 PETROL AT Automatic18,978 km2nd OwnerPetrol₹16,116/month₹7,24,499Zero downpayment2016 Ford Ecosport1.5TITANIUM TDCI Manual41,966 km1st OwnerDiesel₹14,962/month₹6,72,599Zero downpayment2018 Maruti Alto 800LXI Manual8,254 km2nd OwnerPetrol₹7,799/month₹3,50,599Zero downpayment2021 MG HECTORSHARP DCT PETROL Automatic6,249 km1st OwnerPetrol₹43,866/month₹19,71,999Zero downpayment2019 Hyundai NEW SANTROSPORTZ 1.1 Manual2,839 km1st OwnerPetrol₹11,836/month₹5,32,099Zero downpayment2016 Mahindra ScorpioS2 Manual1,43,495 km1st OwnerDiesel₹18,556/month₹8,34,199Zero downpayment2019 Maruti Vitara BrezzaVDI Manual42,955 km1st OwnerDiesel₹17,622/month₹7,92,199Zero downpayment2016 Toyota Innova Crysta2.8 ZX AT 7 STR Automatic1,63,438 km1st OwnerDiesel₹33,907/month₹15,24,299Zero downpayment2017 Honda Jazz1.2 V MT Manual15,182 km1st OwnerPetrol₹13,658/month₹6,13,999Zero downpayment2017 Maruti CelerioZXI AMT Automatic53,139 km1st OwnerPetrol₹10,840/month₹4,87,299Zero downpayment2019 Renault KwidRXT Opt Manual17,525 km1st OwnerPetrol₹9,994/month₹4,49,299Zero downpayment2018 Volkswagen AmeoHIGHLINE PLUS DSG 1.5 Automatic82,015 km1st OwnerDiesel₹15,160/month₹6,81,499Zero downpayment2019 Renault TRIBER1.0 RXT Manual9,981 km1st OwnerPetrol₹14,984/month₹6,73,599Zero downpayment2017 Hyundai EonMAGNA PLUS Manual30,266 km1st OwnerPetrol₹8,482/month₹3,81,299Zero downpayment2016 Maruti BalenoDELTA 1.2 K12 Manual28,225 km1st OwnerPetrol₹12,720/month₹5,71,847Zero downpayment2017 Hyundai Creta1.4 S PLUS Manual63,687 km1st OwnerDiesel₹24,896/month₹11,19,199Zero downpayment2016 Hyundai Grand i10SPORTZ 1.2 KAPPA VTVT Manual81,006 km1st OwnerPetrol₹10,232/month₹4,59,999Zero downpayment2019 Maruti Vitara BrezzaVDI Manual56,902 km2nd OwnerDiesel₹18,656/month₹8,38,699Zero downpayment2017 Maruti Alto 800VXI Manual21,451 km1st OwnerPetrol₹7,029/month₹3,15,999Zero downpayment2017 Jeep CompassLIMITED (O) 2.0 4*4 Manual62,013 km1st OwnerDiesel₹29,788/month₹13,39,099Zero downpayment2020 Ford Ecosport1.5TITANIUM TDCI Manual22,326 km1st OwnerDiesel₹22,930/month₹10,30,799Zero downpayment2019 Hyundai VENUESX(O) CRDi Manual30,456 km1st OwnerDiesel₹24,720/month₹11,11,299Zero downpayment2016 Hyundai Grand i10SPORTZ 1.2 KAPPA VTVT Manual6,397 km1st OwnerPetrol₹11,302/month₹5,08,099Zero downpayment2018 Maruti Alto 800LXI Manual11,617 km1st OwnerPetrol₹7,799/month₹3,50,599Zero downpayment2020 Hyundai GRAND I10 NIOSSPORTZ PETROL Manual7,162 km1st OwnerPetrol₹15,026/month₹6,75,499Zero downpayment2012 Renault DusterRXZ DIESEL 110 Manual1,26,134 km2nd OwnerDiesel₹11,051/month₹4,96,799Zero downpayment2016 Hyundai Grand i10SPORTZ 1.2 KAPPA VTVT Manual15,817 km1st OwnerPetrol₹9,992/month₹4,49,199Zero downpayment2014 Ford Ecosport1.5TITANIUM TDCI Manual55,123 km2nd OwnerDiesel₹11,914/month₹5,35,599Zero downpayment2017 Maruti CelerioZXI AMT Automatic25,716 km2nd OwnerPetrol₹10,949/month₹4,92,199Zero downpayment2020 Hyundai VENUES MT 1.2 KAPPA Manual787 km1st OwnerPetrol₹18,732/month₹8,42,099Zero downpayment2018 Maruti BalenoDELTA DDIS 190 Manual24,337 km2nd OwnerDiesel₹14,292/month₹6,42,499Zero downpayment2016 Maruti Alto 800LXI Manual27,534 km2nd OwnerPetrol₹6,342/month₹2,85,099Zero downpayment2020 Hyundai VENUESX 1.0 GDI IMT Manual7,736 km1st OwnerPetrol₹23,277/month₹10,46,399Zero downpayment2013 Hyundai i20MAGNA O 1.4 CRDI Manual71,022 km1st OwnerDiesel₹8,339/month₹3,74,899Zero downpayment2017 Hyundai New Elantra1.6 SX AT O Automatic65,743 km3rd OwnerDiesel₹29,005/month₹13,03,899Zero downpayment2018 Maruti Vitara BrezzaZDI PLUS Manual29,025 km1st OwnerDiesel₹21,524/month₹9,67,599Zero downpayment2015 Hyundai Elite i20ASTA 1.2 Manual49,363 km1st OwnerPetrol₹12,359/month₹5,55,599Zero downpayment2019 KIA SELTOSHTX AT PETROL Automatic47,272 km1st OwnerPetrol₹32,464/month₹14,59,399Zero downpayment2014 Hyundai Elite i20ASTA 1.2 Manual57,938 km2nd OwnerPetrol₹11,365/month₹5,10,899Zero downpayment2021 Hyundai VENUE1.0 TURBO GDI SX+ AT Automatic2,051 km1st OwnerPetrol₹29,672/month₹13,33,899Zero downpayment2015 Maruti Wagon R 1.0VXI AMT Automatic33,816 km1st OwnerPetrol₹10,528/month₹4,73,299Zero downpayment2016 Hyundai Grand i10SPORTZ 1.2 KAPPA VTVT Manual33,972 km2nd OwnerPetrol₹11,053/month₹4,96,899Zero downpayment2014 Hyundai Elite i20ASTA 1.2 Manual62,865 km1st OwnerPetrol₹12,477/month₹5,60,899Zero downpayment2016 Hyundai Elite i20MAGNA 1.2 Manual54,840 km1st OwnerPetrol₹12,206/month₹5,48,699Zero downpayment2017 Maruti Alto 800LXI Manual12,135 km1st OwnerPetrol₹7,423/month₹3,33,699Zero downpayment2016 Hyundai Creta1.6 SX PLUS AUTO PETROL Automatic67,861 km1st OwnerPetrol₹23,733/month₹10,66,899Zero downpayment2017 Skoda Superb1.8 TSI LK AT Automatic22,682 km2nd OwnerPetrol₹37,162/month₹16,70,599Zero downpayment2019 Mahindra TharCRDE 4X4 BS IV Manual17,213 km1st OwnerDiesel₹20,592/month₹9,25,699Zero downpayment2019 Maruti BalenoZETA 1.2 K12 Manual10,525 km1st OwnerPetrol₹15,295/month₹6,87,599Zero downpayment2018 Maruti Vitara BrezzaZDI AMT Automatic18,432 km1st OwnerDiesel₹20,632/month₹9,27,499Zero downpayment2017 Honda Jazz1.2 V MT Manual16,650 km1st OwnerPetrol₹13,516/month₹6,07,599Zero downpayment2019 Hyundai Elite i201.2 SPORTS PLUS VTVT Manual19,883 km1st OwnerPetrol₹16,481/month₹7,40,899Zero downpayment2018 Hyundai Verna1.6 SX VTVT (O) Manual44,900 km1st OwnerPetrol₹19,402/month₹8,72,199Zero downpayment2018 Honda Amaze1.2 SMT I VTEC Manual13,109 km2nd OwnerPetrol₹13,947/month₹6,26,999Zero downpayment2018 Maruti BalenoDELTA 1.2 K12 Manual8,180 km1st OwnerPetrol₹14,928/month₹6,71,099Zero downpayment2018 Hyundai Grand i10SPORTZ 1.2 KAPPA VTVT Manual27,338 km1st OwnerPetrol₹12,466/month₹5,60,399Zero downpayment2017 Maruti Vitara BrezzaZDI Manual28,791 km1st OwnerDiesel₹18,828/month₹8,46,399Zero downpayment2016 Toyota Corolla AltisVL AT Automatic41,657 km1st OwnerPetrol₹24,133/month₹10,84,899Zero downpayment2015 Maruti Alto K10VXI AMT Automatic58,906 km1st OwnerPetrol₹7,539/month₹3,38,899Zero downpayment2021 Toyota YARISJ CVT Automatic3,412 km1st OwnerPetrol₹24,589/month₹11,05,399Zero downpayment2013 Hyundai Grand i10ASTA 1.2 VTVT Manual48,937 km2nd OwnerPetrol₹8,660/month₹3,89,299Zero downpayment2018 Hyundai Verna1.6 SX VTVT Manual24,680 km1st OwnerPetrol₹20,959/month₹9,42,199Zero downpayment2016 Maruti BalenoDELTA 1.2 K12 Manual48,861 km1st OwnerPetrol₹13,010/month₹5,84,878Zero downpayment2019 Hyundai Verna1.6 SX VTVT (O) Manual16,006 km1st OwnerPetrol₹24,925/month₹11,20,499Zero downpayment2019 Hyundai VENUE1.0 TURBO GDI SX+ AT Automatic3,297 km1st OwnerPetrol₹25,219/month₹11,33,699Zero downpayment2018 Hyundai Creta1.6 VTVT SX AUTO Automatic31,399 km2nd OwnerPetrol₹30,557/month₹13,73,699Zero downpayment2017 Hyundai Elite i20SPORTZ 1.2 Manual63,395 km1st OwnerPetrol₹12,557/month₹5,64,499Zero downpayment2020 Hyundai Creta1.4 SX(O) TURBO GDI DCT Automatic14,623 km1st OwnerPetrol₹40,138/month₹18,04,399Zero downpayment2017 Maruti BalenoZETA 1.2 K12 Manual13,461 km1st OwnerPetrol₹13,918/month₹6,25,699Zero downpayment2015 Maruti BalenoZETA DDIS 190 Manual48,034 km1st OwnerDiesel₹12,486/month₹5,61,299Zero downpayment2018 Maruti Alto 800LXI Manual76,230 km1st OwnerPetrol₹7,799/month₹3,50,599Zero downpayment2017 Mahindra TUV300T8 Manual39,297 km1st OwnerDiesel₹16,470/month₹7,40,399Zero downpayment2019 Maruti BalenoDELTA 1.2 K12 Manual49,941 km1st OwnerPetrol₹14,403/month₹6,47,499Zero downpayment2017 Hyundai Creta1.6 CRDI SX PLUS AUTO Automatic67,537 km2nd OwnerDiesel₹27,018/month₹12,14,599Zero downpayment2017 Hyundai Grand i10SPORTZ 1.2 KAPPA VTVT Manual12,357 km1st OwnerPetrol₹12,368/month₹5,55,999Zero downpayment2017 Maruti BalenoDELTA 1.2 K12 Manual30,381 km1st OwnerPetrol₹13,794/month₹6,20,099Zero downpayment2018 Maruti IGNISDELTA 1.2 K12 Manual13,022 km2nd OwnerPetrol₹9,939/month₹4,46,799Zero downpayment2017 Maruti BalenoDELTA 1.2 K12 Manual15,024 km1st OwnerPetrol₹14,203/month₹6,38,499Zero downpayment2018 Maruti S CrossZETA 1.3 SHVS Manual50,195 km2nd OwnerDiesel₹19,170/month₹8,61,799Zero downpayment2015 Toyota Innova2.5 VX 7 STR BS IV Manual1,48,149 km1st OwnerDiesel₹21,593/month₹9,70,699Zero downpayment2017 Maruti IGNISDELTA 1.2 K12 Manual41,406 km1st OwnerPetrol₹10,426/month₹4,68,699Zero downpayment2017 Maruti BalenoDELTA 1.2 K12 Manual35,019 km1st OwnerPetrol₹14,105/month₹6,34,099Zero downpayment2018 Ford Figo Aspire1.2 Trend+ Petrol Manual6,136 km1st OwnerPetrol₹12,673/month₹5,69,699Zero downpayment2015 Maruti Wagon R 1.0VXI Manual32,327 km1st OwnerPetrol₹9,100/month₹4,09,099Zero downpayment2020 Tata ALTROZXZ 1.2 Manual22,160 km1st OwnerPetrol₹18,385/month₹8,26,499Zero downpayment2018 Hyundai Verna1.6 SX VTVT AT (O) Automatic12,049 km1st OwnerPetrol₹24,767/month₹11,13,380Zero downpayment2017 Hyundai Creta1.6 SX PLUS AUTO PETROL Automatic48,139 km1st OwnerPetrol₹24,987/month₹11,23,299Zero downpayment2016 Maruti BalenoZETA 1.2 K12 AMT Automatic66,971 km1st OwnerPetrol₹13,095/month₹5,88,699Zero downpayment2019 Maruti S CrossZETA SHVS Manual22,000 km1st OwnerDiesel₹20,547/month₹9,23,699Zero downpayment2015 Hyundai i20 Active1.2 S Manual43,562 km1st OwnerPetrol₹12,317/month₹5,53,699Zero downpayment2018 Ford Ecosport1.5 TITANIUM TI VCT Manual33,655 km1st OwnerPetrol₹16,859/month₹7,57,877Zero downpayment2018 Maruti Vitara BrezzaZDI PLUS DUAL TONE Manual37,510 km1st OwnerDiesel₹19,039/month₹8,55,899Zero downpayment2017 Maruti Alto K10VXI (O) AMT Automatic18,855 km1st OwnerPetrol₹8,900/month₹4,00,099Zero downpayment2017 Hyundai Elite i20ASTA 1.2 (O) Manual44,460 km2nd OwnerPetrol₹15,329/month₹6,89,099Zero downpayment2017 Maruti Wagon R 1.0VXI Manual24,837 km1st OwnerPetrol₹10,041/month₹4,51,399Zero downpayment2015 Maruti BalenoZETA 1.2 K12 Manual44,174 km1st OwnerPetrol₹12,424/month₹5,58,499Zero downpayment2019 Maruti BalenoDELTA 1.2 K12 Manual42,127 km1st OwnerPetrol₹15,747/month₹7,07,899Zero downpayment2017 Hyundai Grand i10SPORTZ 1.2 KAPPA VTVT Manual43,601 km1st OwnerPetrol₹11,104/month₹4,99,199Zero downpayment2018 Honda CityZX CVT Automatic54,522 km1st OwnerPetrol₹23,555/month₹10,58,899Zero downpayment2018 Ford Ecosport1.5 TITANIUM SIGNATURE (SUNROOF) TDCI Manual43,371 km1st OwnerDiesel₹23,112/month₹10,38,999Zero downpayment2015 Hyundai Creta1.6 SX CRDI Manual81,590 km1st OwnerDiesel₹19,224/month₹8,64,199Zero downpayment2018 Maruti Alto 800VXI (O) Manual29,917 km1st OwnerPetrol₹7,605/month₹3,41,899Zero downpayment2018 Maruti IGNISDELTA 1.2 K12 Manual8,280 km1st OwnerPetrol₹11,899/month₹5,34,899Zero downpayment2020 Skoda Rapid1.0 AMBITION TSI AT Automatic9,272 km1st OwnerPetrol₹27,679/month₹12,44,299Zero downpayment2017 Honda BR-V1.5 i-VTEC V CVT Automatic68,442 km1st OwnerPetrol₹18,232/month₹8,19,599Zero downpayment2019 Ford Ecosport1.5 TITANIUM PLUS TI VCT AT Automatic34,762 km1st OwnerPetrol₹22,038/month₹9,90,699Zero downpayment2020 KIA SELTOS1.4 GTX+ TURBO GDI PETROL AT Automatic8,305 km1st OwnerPetrol₹42,520/month₹19,11,499Zero downpayment2018 Ford Ecosport1.5 TITANIUM TI VCT Manual19,706 km1st OwnerPetrol₹17,793/month₹7,99,899Zero downpayment2018 Maruti BalenoDELTA 1.2 K12 Manual69,055 km1st OwnerPetrol₹13,574/month₹6,10,199Zero downpayment2021 Maruti S CrossZETA SHVS PETROL Manual8,228 km1st OwnerPetrol₹23,587/month₹10,60,333Zero downpayment2017 Hyundai Elite i20ASTA 1.2 (O) Manual43,067 km2nd OwnerPetrol₹15,511/month₹6,97,299Zero downpayment2017 Hyundai Grand i10SPORTZ 1.2 KAPPA VTVT Manual24,409 km1st OwnerPetrol₹11,841/month₹5,32,299Zero downpayment2020 MG HECTORSHARP DCT PETROL Automatic25,063 km1st OwnerPetrol₹38,974/month₹17,52,099Zero downpayment2021 MG HECTORSHARP DCT PETROL Automatic12,272 km1st OwnerPetrol₹42,609/month₹19,15,499Zero downpayment2019 Maruti BalenoZETA 1.2 K12 Manual19,642 km1st OwnerPetrol₹16,265/month₹7,31,199Zero downpayment2017 Maruti Vitara BrezzaZDI PLUS DUAL TONE Manual44,742 km1st OwnerDiesel₹17,377/month₹7,81,199Zero downpayment2018 Maruti CiazALPHA 1.3 DDIS SHVS Manual28,523 km1st OwnerDiesel₹18,349/month₹8,24,899Zero downpayment2017 Hyundai Creta1.6 CRDI SX PLUS AUTO Automatic97,358 km1st OwnerDiesel₹23,877/month₹10,73,384Zero downpayment2018 Maruti BalenoZETA 1.2 K12 Manual10,344 km1st OwnerPetrol₹15,453/month₹6,94,699Zero downpayment2019 Maruti BalenoZETA 1.2 K12 Manual33,608 km1st OwnerPetrol₹16,386/month₹7,36,629Zero downpayment2017 Maruti BalenoDELTA 1.2 K12 Manual32,981 km1st OwnerPetrol₹14,537/month₹6,53,499Zero downpayment2020 MG HECTORSHARP DCT PETROL Automatic5,388 km1st OwnerPetrol₹42,009/month₹18,88,499Zero downpayment2017 Honda CityVX CVT PETROL Automatic24,655 km2nd OwnerPetrol₹20,932/month₹9,40,999Zero downpayment2017 Maruti Vitara BrezzaZDI Manual48,518 km1st OwnerDiesel₹16,421/month₹7,38,199Zero downpayment2017 Maruti BalenoDELTA 1.2 K12 Manual24,991 km1st OwnerPetrol₹14,537/month₹6,53,499Zero downpayment2017 Tata HexaVaricor 400 XTA Automatic1,04,347 km1st OwnerDiesel₹24,798/month₹11,14,799Zero downpayment2018 Maruti Alto 800LXI Manual28,017 km1st OwnerPetrol₹7,543/month₹3,39,099Zero downpayment2020 Tata NEXONXZ+ 1.2 Manual43,163 km1st OwnerPetrol₹20,823/month₹9,36,099Zero downpayment2017 Maruti S CrossZETA SHVS Manual58,871 km1st OwnerDiesel₹21,328/month₹9,58,799Zero downpayment2017 Maruti IGNISZETA 1.2 K12 AMT Automatic26,328 km1st OwnerPetrol₹12,989/month₹5,83,899Zero downpayment2018 Ford Ecosport1.5 TITANIUM PLUS TI VCT AT Automatic44,981 km1st OwnerPetrol₹20,122/month₹9,04,599Zero downpayment2017 Tata HexaVaricor 400 XTA Automatic1,19,618 km1st OwnerDiesel₹22,716/month₹10,21,199Zero downpayment2018 Toyota YARISJ MT Manual28,478 km1st OwnerPetrol₹19,063/month₹8,56,999Zero downpayment2018 Tata NEXONXZA+ 1.5 Automatic79,737 km1st OwnerDiesel₹19,744/month₹8,87,609Zero downpayment2018 Hyundai Verna1.6 SX VTVT AT (O) Automatic21,774 km1st OwnerPetrol₹24,518/month₹11,02,199Zero downpayment2018 Honda WR-V1.2 i-VTEC VX MT Manual15,939 km1st OwnerPetrol₹18,136/month₹8,15,299Zero downpayment2018 Maruti S CrossALPHA SHVS Manual64,963 km1st OwnerDiesel₹22,736/month₹10,22,099Zero downpayment2018 Maruti S CrossALPHA SHVS Manual63,073 km1st OwnerDiesel₹20,601/month₹9,26,099Zero downpayment2017 Honda WR-V1.2 i-VTEC VX MT Manual1,00,475 km1st OwnerPetrol₹13,887/month₹6,24,299Zero downpayment2017 Maruti S CrossZETA SHVS Manual77,395 km1st OwnerDiesel₹19,037/month₹8,55,799Zero downpayment2018 Hyundai Tucson New2WD AT GL DIESEL Automatic50,976 km2nd OwnerDiesel₹43,183/month₹19,41,299Zero downpayment2014 Hyundai EonSPORTZ Manual11,779 km1st OwnerPetrol₹7,543/month₹3,39,099Zero downpayment2015 Maruti Alto 800LXI Manual11,125 km1st OwnerPetrol₹6,524/month₹2,93,299Zero downpayment2016 Maruti SwiftVXI Manual14,724 km2nd OwnerPetrol₹11,220/month₹5,04,399Zero downpayment2019 Maruti ErtigaZXI SMART HYBRID AT Automatic16,389 km1st OwnerPetrol₹25,158/month₹11,30,999Zero downpayment2019 Maruti ErtigaZXI SMART HYBRID AT Automatic39,506 km1st OwnerPetrol₹25,158/month₹11,30,999Zero downpayment2016 Maruti CelerioVDI Manual53,508 km1st OwnerDiesel₹9,788/month₹4,39,999Zero downpayment2019 Maruti ErtigaZDI PLUS SHVS Manual23,796 km1st OwnerDiesel₹25,052/month₹11,26,199Zero downpayment2011 Mercedes Benz C Class250 CDI ELEGANCE AT Automatic43,482 km2nd OwnerDiesel₹18,812/month₹8,45,699Zero downpayment2020 Maruti DzireVXI Manual7,766 km1st OwnerPetrol₹16,990/month₹7,63,799Zero downpayment2015 Maruti Swift DzireVXI 1.2 BS IV Manual91,842 km1st OwnerPetrol₹10,551/month₹4,74,299Zero downpayment2014 Maruti Swift DzireVXI 1.2 BS IV Manual54,417 km1st OwnerPetrol₹9,957/month₹4,47,599Zero downpayment2013 Maruti SwiftVXI Manual54,935 km1st OwnerPetrol₹8,982/month₹4,03,799Zero downpayment2017 Maruti SwiftVDI OPT Manual53,444 km2nd OwnerDiesel₹14,005/month₹6,29,599Zero downpayment2016 Renault Kwid1.0 RXT Manual46,799 km1st OwnerPetrol₹7,525/month₹3,38,299Zero downpayment2017 Maruti CelerioVXI AMT Automatic35,598 km1st OwnerPetrol₹10,410/month₹4,67,999Zero downpayment2015 Volkswagen VentoHIGHLINE TDI AT Automatic63,954 km2nd OwnerDiesel₹13,006/month₹5,84,699Zero downpayment2017 Hyundai Elite i20ERA 1.2 Manual33,595 km1st OwnerPetrol₹11,612/month₹5,21,999Zero downpayment2013 Hyundai i10SPORTZ 1.2 AT KAPPA2 Automatic39,557 km2nd OwnerPetrol₹8,504/month₹3,82,299Zero downpayment2018 Maruti SwiftVXI AMT Automatic22,989 km1st OwnerPetrol₹15,300/month₹6,87,799Zero downpayment2018 Toyota Innova Crysta2.4 VX 7 STR Manual37,082 km1st OwnerDiesel₹40,365/month₹18,14,599Zero downpayment2013 Hyundai i20MAGNA O 1.2 Manual1,15,474 km2nd OwnerPetrol₹7,574/month₹3,40,499Zero downpayment2015 Maruti Alto K10VXI AMT Automatic16,285 km1st OwnerPetrol₹8,404/month₹3,77,799Zero downpayment2014 Hyundai Grand i10MAGNA 1.2 KAPPA VTVT Manual61,565 km1st OwnerPetrol₹8,973/month₹4,03,399Zero downpayment2018 Toyota Innova Crysta2.4 VX 8 STR Manual44,195 km1st OwnerDiesel₹38,659/month₹17,37,899Zero downpayment2019 Maruti Vitara BrezzaZDI Manual48,396 km1st OwnerDiesel₹19,468/month₹8,75,199Zero downpayment2016 Maruti Alto 800LXI Manual32,054 km1st OwnerPetrol₹6,909/month₹3,10,599Zero downpayment2015 Maruti Alto K10VXI Manual64,814 km1st OwnerPetrol₹6,805/month₹3,05,899Zero downpayment2015 Mahindra XUV500W8 FWD Manual42,820 km1st OwnerDiesel₹19,660/month₹8,83,799Zero downpayment2016 Maruti BalenoSIGMA 1.2 K12 Manual44,778 km1st OwnerPetrol₹11,872/month₹5,33,699Zero downpayment2015 Hyundai Creta1.6 SX PLUS PETROL Manual59,326 km1st OwnerPetrol₹18,930/month₹8,50,999Zero downpayment2017 Maruti Vitara BrezzaLDI OPT Manual33,285 km1st OwnerDiesel₹15,822/month₹7,11,299Zero downpayment2013 Mahindra XUV500W8 FWD Manual89,456 km2nd OwnerDiesel₹17,288/month₹7,77,199Zero downpayment2016 Renault Duster85 PS RXL Manual1,17,368 km1st OwnerDiesel₹14,101/month₹6,33,899Zero downpayment2018 Maruti Wagon R 1.0VXI AMT Automatic67,320 km1st OwnerPetrol₹9,236/month₹4,15,199Zero downpayment2018 Maruti BalenoDELTA 1.2 K12 Manual41,816 km1st OwnerPetrol₹13,215/month₹5,94,099Zero downpayment2016 Hyundai Creta1.6 CRDI SX PLUS AUTO Automatic1,13,700 km1st OwnerDiesel₹20,683/month₹9,29,799Zero downpayment2017 Maruti CiazZETA 1.3 DDIS SHVS Manual69,038 km1st OwnerDiesel₹15,576/month₹7,00,199Zero downpayment2017 Renault KwidCLIMBER 1.0 AT Automatic30,100 km1st OwnerPetrol₹9,603/month₹4,31,699Zero downpayment2018 Maruti Vitara BrezzaVDI OPT Manual45,635 km1st OwnerDiesel₹18,082/month₹8,12,899Zero downpayment2016 Volkswagen AmeoHIGHLINE 1.2 Manual30,902 km1st OwnerPetrol₹11,162/month₹5,01,799Zero downpayment2018 Maruti S CrossALPHA SHVS Manual35,691 km2nd OwnerDiesel₹19,784/month₹8,89,399Zero downpayment2017 Honda CityZX MT I-DTEC Manual50,334 km2nd OwnerDiesel₹19,457/month₹8,74,699Zero downpayment2020 Volkswagen PoloHIGH LINE PLUS 1.0 Manual39,385 km1st OwnerPetrol₹19,324/month₹8,68,699Zero downpayment2015 Honda Amaze1.2 VXMT I VTEC Manual35,785 km1st OwnerPetrol₹11,340/month₹5,09,799Zero downpayment2016 Honda CitySV MT PETROL Manual69,887 km2nd OwnerPetrol₹14,933/month₹6,71,299Zero downpayment2018 Volkswagen PoloCOMFORTLINE 1.0 PETROL Manual21,612 km1st OwnerPetrol₹13,569/month₹6,09,999Zero downpayment2014 Honda Amaze1.2 SMT I VTEC Manual36,235 km1st OwnerPetrol₹10,510/month₹4,72,499Zero downpayment2016 Hyundai Grand i10SPORTZ 1.2 KAPPA VTVT Manual27,898 km1st OwnerPetrol₹10,435/month₹4,69,099Zero downpayment2017 Honda Brio1.2 VX AT I VTEC Automatic18,396 km1st OwnerPetrol₹14,081/month₹6,32,999Zero downpayment2019 Maruti New  Wagon-RVXI 1.2L Manual9,908 km1st OwnerPetrol₹13,098/month₹5,88,799Zero downpayment2016 Hyundai Elite i20ASTA 1.2 (O) Manual31,157 km1st OwnerPetrol₹14,810/month₹6,65,799Zero downpayment2020 Maruti New  Wagon-RZXI 1.2 Manual76,343 km1st OwnerPetrol₹13,204/month₹5,93,603Zero downpayment2019 Hyundai Elite i201.2 SPORTS PLUS VTVT Manual13,566 km1st OwnerPetrol₹15,927/month₹7,15,999Zero downpayment2019 Maruti Vitara BrezzaZDI PLUS Manual57,806 km1st OwnerDiesel₹22,718/month₹10,21,299Zero downpayment2015 Hyundai Grand i10ASTA 1.2 KAPPA VTVT Manual12,627 km1st OwnerPetrol₹10,922/month₹4,90,999Zero downpayment2017 Maruti CelerioZXI AMT Automatic52,807 km1st OwnerPetrol₹10,762/month₹4,83,799Zero downpayment2019 Renault TRIBER1.0 RXT Manual8,712 km1st OwnerPetrol₹15,095/month₹6,78,599Zero downpayment2019 Hyundai Elite i201.2 SPORTS PLUS VTVT Manual32,859 km1st OwnerPetrol₹15,830/month₹7,11,649Zero downpayment2014 Ford Ecosport1.5 TREND TDCI Manual57,520 km1st OwnerDiesel₹11,491/month₹5,16,599Zero downpayment2020 KIA SELTOS1.5 GTX+ AT Automatic7,855 km1st OwnerDiesel₹42,044/month₹18,90,099Zero downpayment2020 Hyundai VENUE1.0L Turbo GDI SX MT Manual25,005 km1st OwnerPetrol₹22,238/month₹9,99,699Zero downpayment2015 Hyundai Elite i20ASTA 1.2 Manual75,263 km1st OwnerPetrol₹11,818/month₹5,31,299Zero downpayment2018 Maruti Vitara BrezzaZDI+ DUAL TONE AMT Automatic32,665 km1st OwnerDiesel₹22,449/month₹10,09,199Zero downpayment2018 Maruti Wagon R 1.0VXI Manual16,432 km2nd OwnerPetrol₹10,615/month₹4,77,199Zero downpayment2019 Hyundai Elite i201.2 MAGNA PLUS VTVT Manual16,160 km1st OwnerPetrol₹15,564/month₹6,99,699Zero downpayment2016 Skoda Superb1.8 TSI LK AT Automatic23,893 km1st OwnerPetrol₹39,473/month₹17,74,499Zero downpayment2017 Maruti Vitara BrezzaZDI Manual33,515 km1st OwnerDiesel₹16,759/month₹7,53,399Zero downpayment2017 Maruti IGNISZETA 1.2 K12 DUAL TONE Manual20,478 km1st OwnerPetrol₹12,591/month₹5,66,049Zero downpayment2019 Maruti Vitara BrezzaZDI + AMT Automatic70,241 km1st OwnerDiesel₹20,173/month₹9,06,899Zero downpayment2017 Maruti CiazVXI PLUS Manual20,254 km1st OwnerPetrol₹15,266/month₹6,86,299Zero downpayment2017 Maruti BalenoDELTA 1.2 K12 Manual50,905 km2nd OwnerPetrol₹13,894/month₹6,24,599Zero downpayment2018 Maruti DzireVXI Manual30,817 km1st OwnerPetrol₹15,665/month₹7,04,199Zero downpayment2017 Maruti BalenoDELTA 1.2 K12 Manual35,584 km1st OwnerPetrol₹13,549/month₹6,09,099Zero downpayment2020 Maruti Vitara BrezzaZXI Manual24,130 km1st OwnerPetrol₹19,753/month₹8,87,999Zero downpayment2020 Honda CityZX CVT Automatic9,911 km1st OwnerPetrol₹32,668/month₹14,68,599Zero downpayment2017 Hyundai Grand i10SPORTZ 1.2 KAPPA VTVT Manual17,484 km1st OwnerPetrol₹12,835/month₹5,76,999Zero downpayment2018 Hyundai NEW SANTROSPORTZ 1.1 Manual29,668 km1st OwnerPetrol₹10,993/month₹4,94,199Zero downpayment2017 Volkswagen PoloGT TSI 1.2 PETROL AT Automatic26,912 km1st OwnerPetrol₹17,956/month₹8,07,199Zero downpayment2017 Hyundai Creta1.6 SX PLUS PETROL Manual69,721 km2nd OwnerPetrol₹17,827/month₹8,01,399Zero downpayment2020 Maruti S PRESSOVXI PLUS AGS Automatic3,301 km1st OwnerPetrol₹11,919/month₹5,35,799Zero downpayment2016 Maruti BalenoALPHA 1.2 K12 Manual54,486 km1st OwnerPetrol₹13,794/month₹6,20,099Zero downpayment2019 MG HECTORSHARP DCT PETROL Automatic31,713 km1st OwnerPetrol₹38,590/month₹17,34,799Zero downpayment2019 Maruti Alto K10VXI Manual15,962 km1st OwnerPetrol₹9,465/month₹4,25,499Zero downpayment2015 Maruti Alto K10VXI Manual42,521 km1st OwnerPetrol₹7,249/month₹3,25,899Zero downpayment2019 Tata NEXONXZA + 1.2 PETROL A/T Automatic7,864 km1st OwnerPetrol₹23,588/month₹10,60,399Zero downpayment2015 Hyundai Grand i10ASTA 1.2 KAPPA VTVT Manual54,856 km1st OwnerPetrol₹10,308/month₹4,63,399Zero downpayment2017 Maruti Alto K10VXI (O) AMT Automatic16,366 km1st OwnerPetrol₹9,051/month₹4,06,899Zero downpayment2018 Maruti Wagon R 1.0VXI Manual19,756 km2nd OwnerPetrol₹10,691/month₹4,80,599Zero downpayment2017 Maruti Wagon R 1.0VXI Manual37,606 km1st OwnerPetrol₹10,637/month₹4,78,199Zero downpayment2018 Maruti S CrossZETA 1.3 SHVS Manual60,983 km1st OwnerDiesel₹19,860/month₹8,92,799Zero downpayment2019 Maruti Alto K10VXI (O) AMT Automatic21,306 km1st OwnerPetrol₹9,959/month₹4,47,699Zero downpayment2019 Maruti BalenoDELTA 1.2 K12 Manual25,678 km1st OwnerPetrol₹16,007/month₹7,19,599Zero downpayment2017 Hyundai Grand i10ASTA 1.2 KAPPA VTVT Manual27,054 km1st OwnerPetrol₹12,003/month₹5,39,599Zero downpayment2018 Hyundai Creta1.6 SX PLUS AUTO Automatic40,089 km1st OwnerPetrol₹24,616/month₹11,06,599Zero downpayment2017 Toyota CamryHYBRID Automatic69,898 km1st OwnerPetrol₹42,838/month₹19,25,799Zero downpayment2017 Ford Ecosport1.5 TITANIUM TI VCT AT Automatic23,749 km2nd OwnerPetrol₹16,977/month₹7,63,199Zero downpayment2017 Maruti IGNISDELTA 1.2 K12 Manual33,192 km1st OwnerPetrol₹10,777/month₹4,84,499Zero downpayment2018 Toyota YARISVX CVT Automatic59,985 km1st OwnerPetrol₹22,680/month₹10,19,599Zero downpayment2015 Maruti S CrossDELTA 1.6 Manual76,022 km1st OwnerDiesel₹13,069/month₹5,87,499Zero downpayment2018 Jeep CompassLIMITED 1.4 AT Automatic18,567 km1st OwnerPetrol₹36,866/month₹16,57,299Zero downpayment2015 BMW 3 Series320D LUXURYLINE Automatic96,071 km1st OwnerDiesel₹33,422/month₹15,02,499Zero downpayment2016 Maruti Swift DzireVXI 1.2 BS IV Manual1,85,289 km1st OwnerPetrol₹10,588/month₹4,75,999Zero downpayment2017 Maruti SwiftVDI Manual23,787 km1st OwnerDiesel₹12,844/month₹5,77,399Zero downpayment2016 Maruti SwiftVXI OPT Manual62,326 km1st OwnerPetrol₹12,539/month₹5,63,699Zero downpayment2017 Maruti CelerioVXI (O) AMT Automatic47,667 km1st OwnerPetrol₹10,435/month₹4,69,099Zero downpayment2016 Maruti SwiftVDI Manual40,106 km1st OwnerDiesel₹11,741/month₹5,27,799Zero downpayment2015 Hyundai Elite i20MAGNA 1.4 CRDI Manual42,587 km1st OwnerDiesel₹13,066/month₹5,87,399Zero downpayment2018 Honda Amaze1.2 V CVT I VTEC Automatic4,964 km1st OwnerPetrol₹15,916/month₹7,15,499Zero downpayment2018 Ford Ecosport1.5 TDCI TITANIUM PLUS Manual18,530 km1st OwnerDiesel₹21,828/month₹9,81,299Zero downpayment2016 Maruti BalenoZETA 1.2 K12 Manual36,930 km1st OwnerPetrol₹13,353/month₹6,00,299Zero downpayment2016 Maruti Vitara BrezzaZDI PLUS DUAL TONE Manual59,735 km1st OwnerDiesel₹17,075/month₹7,67,599Zero downpayment2018 Maruti Wagon R 1.0LXI CNG Manual55,622 km1st OwnerPetrol + CNG₹11,329/month₹5,09,299Zero downpayment2018 Maruti DzireVDI Manual53,343 km1st OwnerDiesel₹15,400/month₹6,92,299Zero downpayment2017 Hyundai Creta1.6 SX PLUS AUTO PETROL Automatic68,980 km1st OwnerPetrol₹25,250/month₹11,35,099Zero downpayment2019 Renault KwidRXL Manual14,240 km1st OwnerPetrol₹9,389/month₹4,22,099Zero downpayment2020 KIA SELTOSHTK PLUS 1.5 PETROL Manual19,355 km1st OwnerPetrol₹28,442/month₹12,78,599Zero downpayment2018 Maruti CelerioZXI Manual12,017 km1st OwnerPetrol₹10,112/month₹4,54,599Zero downpayment2014 Maruti Swift DzireVXI 1.2 BS IV Manual29,495 km2nd OwnerPetrol₹9,957/month₹4,47,599Zero downpayment2014 Toyota Innova2.5 VX 7 STR BS IV Manual95,466 km2nd OwnerDiesel₹19,079/month₹8,57,699Zero downpayment2020 Tata TiagoXZ+ 1.2 Revotron Manual21,652 km1st OwnerPetrol₹13,396/month₹6,02,199Zero downpayment2014 Honda Amaze1.2 SMT I VTEC Manual30,988 km1st OwnerPetrol₹10,066/month₹4,52,499Zero downpayment2020 Hyundai Creta1.6 SX AT CRDI Automatic14,277 km1st OwnerDiesel₹49,663/month₹22,32,599Zero downpayment2018 Volkswagen PoloCOMFORTLINE 1.0 PETROL Manual17,098 km1st OwnerPetrol₹13,952/month₹6,27,199Zero downpayment2021 Renault TRIBER1.0 RXZ Manual10,685 km1st OwnerPetrol₹16,828/month₹7,56,499Zero downpayment2019 Hyundai Elite i201.4 SPORTS PLUS CRDI Manual65,700 km1st OwnerDiesel₹18,988/month₹8,53,599Zero downpayment2016 Maruti CiazVDI+ SHVS Manual63,747 km1st OwnerDiesel₹14,948/month₹6,71,999Zero downpayment2020 KIA SELTOS1.5 GTX+ AT Automatic18,978 km1st OwnerDiesel₹42,035/month₹18,89,699Zero downpayment2014 Maruti Alto 800LXI Manual34,076 km2nd OwnerPetrol₹6,213/month₹2,79,299Zero downpayment2015 Honda Brio1.2 S MT I VTEC Manual30,911 km1st OwnerPetrol₹8,113/month₹3,64,699Zero downpayment2017 Hyundai Elite i20SPORTZ 1.2 Manual14,875 km1st OwnerPetrol₹13,353/month₹6,00,299Zero downpayment2013 Hyundai i20SPORTZ 1.2 VTVT Manual33,309 km3rd OwnerPetrol₹9,325/month₹4,19,199Zero downpayment2019 Mahindra XUV500W7 AT Automatic26,586 km1st OwnerDiesel₹34,494/month₹15,50,699Zero downpayment2017 Honda BR-V1.5 i-VTEC S Manual40,480 km2nd OwnerPetrol₹14,741/month₹6,62,699Zero downpayment2017 Mercedes Benz GLC CLASS220 D SPORT 4MATIC Automatic52,903 km1st OwnerDiesel₹74,606/month₹33,53,899Zero downpayment2021 Maruti SwiftZXI AMT Automatic5,591 km1st OwnerPetrol₹19,637/month₹8,82,799Zero downpayment2018 Renault KwidRXT 1.0 EASY-R AT OPTION Automatic59,885 km1st OwnerPetrol₹10,228/month₹4,59,799Zero downpayment2017 Maruti CelerioVXI AMT Automatic49,720 km1st OwnerPetrol₹10,410/month₹4,67,999Zero downpayment2015 Mercedes Benz B ClassB200 CDI SPORT Automatic81,609 km3rd OwnerDiesel₹23,414/month₹10,52,599Zero downpayment2015 Maruti Alto 800LXI Manual49,390 km1st OwnerPetrol₹6,291/month₹2,82,799Zero downpayment2019 Maruti New  Wagon-RZXI 1.2 Manual32,242 km1st OwnerPetrol₹13,309/month₹5,98,299Zero downpayment2019 Renault KwidRXL Manual27,469 km1st OwnerPetrol₹8,985/month₹4,03,899Zero downpayment2021 Datsun Redi GoT (O) Manual514 km1st OwnerPetrol₹11,311/month₹5,08,499Zero downpayment2016 Hyundai VernaFLUIDIC 1.6 SX VTVT Manual44,574 km2nd OwnerPetrol₹14,296/month₹6,42,699Zero downpayment2018 Tata NEXONXZA+ 1.5 Automatic36,416 km1st OwnerDiesel₹23,383/month₹10,51,199Zero downpayment2018 Maruti S CrossALPHA SHVS Manual24,701 km1st OwnerDiesel₹23,910/month₹10,74,872Zero downpayment2014 Honda Amaze1.2 SMT I VTEC Manual43,294 km1st OwnerPetrol₹9,389/month₹4,22,099Zero downpayment2016 Maruti CelerioVXI AMT Automatic27,167 km2nd OwnerPetrol₹9,607/month₹4,31,899Zero downpayment2018 Tata HexaVaricor 400 XTA Automatic26,155 km1st OwnerDiesel₹35,208/month₹15,82,799Zero downpayment2016 Maruti Alto K10VXI AMT Automatic13,309 km1st OwnerPetrol₹8,733/month₹3,92,599Zero downpayment2018 Maruti Vitara BrezzaZDI+ DUAL TONE AMT Automatic38,629 km1st OwnerDiesel₹19,846/month₹8,92,199Zero downpayment2020 Maruti SwiftZXI + AMT Automatic8,989 km1st OwnerPetrol₹19,013/month₹8,54,749Zero downpayment2020 Hyundai CretaS CRDI Manual17,898 km1st OwnerDiesel₹32,479/month₹14,60,099Zero downpayment2016 Maruti CelerioVXI (O) AMT Automatic71,088 km1st OwnerPetrol₹10,168/month₹4,57,099Zero downpayment2015 Hyundai Grand i10ASTA 1.2 KAPPA VTVT Manual63,203 km3rd OwnerPetrol₹9,285/month₹4,17,399Zero downpayment2018 Renault KwidRXT 1.0 EASY-R AT OPTION Automatic48,617 km1st OwnerPetrol₹9,836/month₹4,42,199Zero downpayment2014 Renault DusterRXL PETROL 104 Manual96,336 km1st OwnerPetrol₹14,187/month₹6,37,799Zero downpayment2017 Maruti DzireVXI Manual42,515 km1st OwnerPetrol₹13,947/month₹6,26,999Zero downpayment2015 Hyundai i10MAGNA 1.1 IRDE2 Manual48,928 km1st OwnerPetrol₹7,770/month₹3,49,299Zero downpayment2015 Honda Brio1.2 S MT I VTEC Manual68,981 km2nd OwnerPetrol₹8,241/month₹3,70,454Zero downpayment2018 Tata TiagoXT 1.2 REVOTRON Manual47,274 km1st OwnerPetrol₹11,329/month₹5,09,299Zero downpayment2015 Maruti Alto K10VXI Manual18,182 km1st OwnerPetrol₹7,590/month₹3,41,199Zero downpayment2019 Tata NEXONXZA + 1.2 PETROL A/T Automatic4,391 km2nd OwnerPetrol₹21,168/month₹9,51,599Zero downpayment2015 Hyundai Elite i20ASTA 1.2 Manual18,596 km1st OwnerPetrol₹13,151/month₹5,91,199Zero downpayment2015 Hyundai Grand i10SPORTZ 1.1 CRDI Manual47,041 km1st OwnerDiesel₹10,086/month₹4,53,399Zero downpayment2016 Honda Jazz1.2 V AT Automatic41,721 km3rd OwnerPetrol₹12,072/month₹5,42,699Zero downpayment2016 Honda Jazz1.2 S MT Manual9,125 km2nd OwnerPetrol₹10,911/month₹4,90,499Zero downpayment2016 Hyundai Grand i10MAGNA 1.2 KAPPA VTVT Manual41,171 km1st OwnerPetrol₹10,197/month₹4,58,399Zero downpayment2016 Hyundai Elite i20ASTA 1.2 (O) Manual43,436 km1st OwnerPetrol₹13,598/month₹6,11,299Zero downpayment2015 Honda Jazz1.2 V MT Manual75,835 km1st OwnerPetrol₹9,808/month₹4,40,899Zero downpayment2020 Renault TRIBER1.0 RXT Manual10,256 km1st OwnerPetrol₹15,789/month₹7,09,799Zero downpayment2019 Hyundai VENUE1.0L Turbo GDI SX MT Manual17,944 km1st OwnerPetrol₹23,497/month₹10,56,299Zero downpayment2016 Maruti Alto 800LXI Manual17,995 km1st OwnerPetrol₹7,047/month₹3,16,799Zero downpayment2019 Ford Ecosport1.5 TITANIUM PLUS TI VCT AT Automatic10,343 km1st OwnerPetrol₹21,808/month₹9,80,399Zero downpayment2013 Honda CRV2.4 AWD AT AVN Automatic63,578 km2nd OwnerPetrol₹19,459/month₹8,74,799Zero downpayment2018 Nissan MicraXL CVT (PETROL) Automatic14,624 km1st OwnerPetrol₹13,282/month₹5,97,099Zero downpayment2016 Maruti Wagon R 1.0VXI AMT Automatic32,851 km1st OwnerPetrol₹10,088/month₹4,53,499Zero downpayment2016 Hyundai Elite i20SPORTZ 1.2 Manual51,838 km2nd OwnerPetrol₹12,312/month₹5,53,499Zero downpayment2016 Maruti BalenoSIGMA 1.2 K12 Manual43,851 km1st OwnerPetrol₹11,872/month₹5,33,699Zero downpayment2018 Maruti Vitara BrezzaZDI PLUS Manual32,546 km1st OwnerDiesel₹19,953/month₹8,96,999Zero downpayment2019 Ford New Figo1.2 TITANIUM Manual14,587 km1st OwnerPetrol₹12,537/month₹5,63,599Zero downpayment2018 Maruti BalenoDELTA 1.2 K12 Manual29,807 km1st OwnerPetrol₹12,722/month₹5,71,899Zero downpayment2015 Volkswagen VentoHIGHLINE PETROL Manual85,796 km2nd OwnerPetrol₹12,237/month₹5,50,099Zero downpayment2014 Ford Ecosport1.5TITANIUM TDCI Manual75,692 km1st OwnerDiesel₹12,682/month₹5,70,099Zero downpayment2019 Maruti BalenoZETA 1.2 K12 Manual18,364 km1st OwnerPetrol₹15,280/month₹6,86,899Zero downpayment2018 Maruti Alto K10VXI (O) AMT Automatic15,182 km1st OwnerPetrol₹8,760/month₹3,93,799Zero downpayment2018 Maruti Vitara BrezzaZDI PLUS DUAL TONE Manual22,440 km2nd OwnerDiesel₹21,571/month₹9,69,715Zero downpayment2017 Hyundai Verna1.6 SX VTVT Manual64,994 km1st OwnerPetrol₹18,318/month₹8,23,499Zero downpayment2016 Maruti BalenoDELTA 1.2 K12 Manual25,054 km1st OwnerPetrol₹13,560/month₹6,09,599Zero downpayment2019 Hyundai GRAND I10 NIOSSPORTZ DIESEL AT Automatic25,374 km1st OwnerDiesel₹18,863/month₹8,47,999Zero downpayment2016 Hyundai Creta1.6 SX PLUS AUTO PETROL Automatic54,527 km1st OwnerPetrol₹22,040/month₹9,90,799Zero downpayment2021 KIA SELTOSHTX AT PETROL Automatic3,918 km1st OwnerPetrol₹37,464/month₹16,84,199Zero downpayment2014 Maruti CelerioVXI AMT Automatic30,020 km1st OwnerPetrol₹8,829/month₹3,96,899Zero downpayment2017 Ford Ecosport1.5 TITANIUM TI VCT AT Automatic43,848 km1st OwnerPetrol₹16,332/month₹7,34,199Zero downpayment2016 Maruti Vitara BrezzaZDI PLUS DUAL TONE Manual52,045 km1st OwnerDiesel₹16,668/month₹7,49,299Zero downpayment2016 Hyundai Grand i10SPORTZ 1.2 KAPPA VTVT Manual21,379 km1st OwnerPetrol₹11,827/month₹5,31,699Zero downpayment2019 Maruti XL6ALPHA SHVS  MT Manual13,924 km1st OwnerPetrol₹24,765/month₹11,13,299Zero downpayment2020 Maruti Vitara BrezzaZXI Manual27,621 km1st OwnerPetrol₹21,426/month₹9,63,199Zero downpayment2019 MG HECTORSHARP DCT PETROL Automatic6,661 km1st OwnerPetrol₹37,375/month₹16,80,199Zero downpayment2015 Nissan MicraXL CVT (PETROL) Automatic51,146 km1st OwnerPetrol₹12,383/month₹5,56,699Zero downpayment2016 Maruti BalenoDELTA 1.2 K12 Manual28,518 km2nd OwnerPetrol₹12,964/month₹5,82,799Zero downpayment2017 Volkswagen PoloGT TSI 1.2 PETROL AT Automatic42,523 km2nd OwnerPetrol₹16,650/month₹7,48,499Zero downpayment2015 Honda CityVX MT PETROL Manual56,153 km2nd OwnerPetrol₹15,680/month₹7,04,899Zero downpayment2018 Maruti BalenoDELTA DDIS 190 Manual70,209 km1st OwnerDiesel₹14,292/month₹6,42,499Zero downpayment2016 Hyundai Grand i10SPORTZ 1.2 KAPPA VTVT Manual31,014 km1st OwnerPetrol₹10,370/month₹4,66,199Zero downpayment2016 Maruti BalenoDELTA 1.2 K12 Manual40,023 km1st OwnerPetrol₹12,951/month₹5,82,199Zero downpayment2019 Hyundai Elite i201.2 SPORTS PLUS VTVT Manual31,263 km1st OwnerPetrol₹16,481/month₹7,40,899Zero downpayment2018 Hyundai NEW SANTROSPORTZ 1.1 Manual15,574 km1st OwnerPetrol₹11,765/month₹5,28,899Zero downpayment2017 Toyota Corolla AltisVL AT Automatic39,147 km1st OwnerPetrol₹29,372/month₹13,20,399Zero downpayment2016 Hyundai Creta1.6 SX PLUS AUTO PETROL Automatic88,181 km1st OwnerPetrol₹23,733/month₹10,66,899Zero downpayment2017 Maruti Vitara BrezzaZDI PLUS Manual30,537 km1st OwnerDiesel₹19,895/month₹8,94,399Zero downpayment2020 Honda Jazz1.2 ZX MT Manual5,526 km1st OwnerPetrol₹21,820/month₹9,80,899Zero downpayment2019 Ford Ecosport1.5 TITANIUM TI VCT Manual18,388 km1st OwnerPetrol₹18,870/month₹8,48,299Zero downpayment2015 Hyundai Elite i20SPORTZ 1.2 Manual63,547 km2nd OwnerPetrol₹12,524/month₹5,62,999Zero downpayment2015 Maruti Wagon R 1.0VXI Manual66,231 km1st OwnerPetrol₹8,250/month₹3,70,899Zero downpayment2017 Maruti Alto 800LXI Manual18,663 km1st OwnerPetrol₹7,423/month₹3,33,699Zero downpayment2017 Jeep Compass2.0 LIMITED Manual70,790 km2nd OwnerDiesel₹30,568/month₹13,74,199Zero downpayment2017 Hyundai Grand i10SPORTZ 1.2 KAPPA VTVT Manual78,928 km1st OwnerPetrol₹11,350/month₹5,10,245Zero downpayment2021 Toyota GlanzaG MT PETROL Manual16,051 km1st OwnerPetrol₹18,187/month₹8,17,599Zero downpayment2020 Honda CityZX CVT Automatic11,301 km1st OwnerPetrol₹35,266/month₹15,85,399Zero downpayment2018 Maruti IGNISZETA 1.2 K12 Manual19,645 km1st OwnerPetrol₹11,062/month₹4,97,299Zero downpayment2019 Honda Amaze1.2 V CVT I VTEC Automatic21,007 km1st OwnerPetrol₹18,220/month₹8,19,099Zero downpayment2018 Maruti S CrossSIGMA SHVS Manual50,901 km1st OwnerDiesel₹18,325/month₹8,23,799Zero downpayment2016 Maruti BalenoZETA 1.2 K12 Manual64,916 km1st OwnerPetrol₹13,367/month₹6,00,899Zero downpayment2015 Hyundai Creta1.6 CRDI SX PLUS AUTO Automatic99,149 km1st OwnerDiesel₹19,257/month₹8,65,699Zero downpayment2016 Maruti BalenoALPHA 1.2 K12 Manual45,783 km1st OwnerPetrol₹13,269/month₹5,96,499Zero downpayment2017 Maruti Wagon R 1.0VXI Manual15,866 km1st OwnerPetrol₹10,475/month₹4,70,899Zero downpayment2017 Maruti Vitara BrezzaZDI PLUS DUAL TONE Manual59,832 km1st OwnerDiesel₹19,744/month₹8,87,599Zero downpayment2020 Maruti BalenoZETA 1.2 K12 Manual9,113 km2nd OwnerPetrol₹16,261/month₹7,30,999Zero downpayment2016 Maruti BalenoDELTA 1.2 K12 Manual52,955 km1st OwnerPetrol₹13,071/month₹5,87,599Zero downpayment2017 Maruti Wagon R 1.0VXI Manual41,099 km1st OwnerPetrol₹9,679/month₹4,35,099Zero downpayment2017 Toyota Corolla AltisVL AT Automatic34,938 km2nd OwnerPetrol₹27,872/month₹12,52,999Zero downpayment2019 Honda Amaze1.2 VX CVT I VTEC Automatic14,557 km1st OwnerPetrol₹18,394/month₹8,26,899Zero downpayment2019 Hyundai VENUE1.0L Turbo GDI SX(O) MT Manual9,551 km1st OwnerPetrol₹21,617/month₹9,71,799Zero downpayment2017 Maruti BalenoDELTA 1.2 K12 Manual40,928 km1st OwnerPetrol₹13,213/month₹5,93,999Zero downpayment2018 Honda CityVX MT PETROL Manual41,412 km1st OwnerPetrol₹21,553/month₹9,68,899Zero downpayment2017 Jeep Compass2.0 LONGITUDE Manual41,229 km1st OwnerDiesel₹26,649/month₹11,97,999Zero downpayment2015 Hyundai i20 Active1.2 S Manual35,351 km1st OwnerPetrol₹12,328/month₹5,54,199Zero downpaymentReserved2017 Hyundai Grand i10SPORTZ (O) 1.2 AT VTVT Automatic18,376 km1st OwnerPetrol₹13,035/month₹5,85,999Zero downpayment2018 Maruti BalenoDELTA 1.2 K12 Manual30,936 km1st OwnerPetrol₹13,883/month₹6,24,099Zero downpayment2018 Maruti DzireVXI Manual12,826 km1st OwnerPetrol₹15,665/month₹7,04,199Zero downpayment2018 Maruti BalenoDELTA 1.2 K12 Manual30,942 km2nd OwnerPetrol₹13,769/month₹6,18,999Zero downpayment2019 Hyundai GRAND I10 NIOSAsta Petrol Manual20,241 km2nd OwnerPetrol₹14,423/month₹6,48,399Zero downpayment2018 Honda CityV CVT Automatic26,989 km1st OwnerPetrol₹23,303/month₹10,47,599Zero downpayment2018 Maruti Alto 800LXI Manual33,032 km1st OwnerPetrol₹7,730/month₹3,47,499Zero downpayment2017 Hyundai Creta1.6 CRDI SX PLUS AUTO Automatic74,473 km1st OwnerDiesel₹27,018/month₹12,14,599Zero downpayment2017 Hyundai Elite i20ASTA 1.2 Manual13,801 km2nd OwnerPetrol₹15,186/month₹6,82,699Zero downpayment2019 Hyundai VENUE1.0 TURBO GDI SX+ AT Automatic26,878 km2nd OwnerPetrol₹22,507/month₹10,11,799Zero downpayment2018 Maruti BalenoDELTA 1.2 K12 Manual10,521 km1st OwnerPetrol₹14,741/month₹6,62,699Zero downpayment2018 Maruti S CrossZETA 1.3 SHVS 58,625 km2nd OwnerDiesel₹18,723/month₹8,41,699Zero downpayment2019 MG HECTORSHARP DCT PETROL Automatic13,657 km2nd OwnerPetrol₹34,884/month₹15,68,199Zero downpayment2017 Honda CityVX CVT PETROL Automatic48,998 km1st OwnerPetrol₹22,747/month₹10,22,599Zero downpayment2019 Ford Ecosport1.5 TITANIUM PLUS TI VCT AT Automatic22,976 km1st OwnerPetrol₹22,200/month₹9,97,999Zero downpayment2018 Honda CityV CVT Automatic23,136 km1st OwnerPetrol₹24,293/month₹10,92,099Zero downpayment2021 Maruti S PRESSOVXI PLUS Manual3,430 km1st OwnerPetrol₹10,855/month₹4,87,992Zero downpayment2017 Maruti IGNISDELTA 1.2 K12 Manual15,950 km1st OwnerPetrol₹11,756/month₹5,28,499Zero downpayment2017 Hyundai Creta1.6 CRDI SX PLUS AUTO Automatic77,391 km1st OwnerDiesel₹25,490/month₹11,45,899Zero downpayment2020 Toyota YARISJ CVT Automatic11,802 km1st OwnerPetrol₹23,250/month₹10,45,199Zero downpayment2018 Hyundai Elite i20ASTA 1.2 AT Automatic11,976 km1st OwnerPetrol₹17,629/month₹7,92,499Zero downpayment2018 Maruti S CrossZETA 1.3 SHVS Manual57,650 km1st OwnerDiesel₹19,397/month₹8,71,999Zero downpayment2019 Ford Ecosport1.5 TITANIUM PLUS TI VCT AT Automatic51,813 km1st OwnerPetrol₹22,144/month₹9,95,489Zero downpayment2018 Hyundai Verna1.6 SX VTVT AT (O) Automatic36,968 km1st OwnerPetrol₹25,743/month₹11,57,299Zero downpayment2017 Maruti S CrossZETA SHVS Manual60,029 km1st OwnerDiesel₹22,193/month₹9,97,699Zero downpayment2017 Maruti S CrossZETA SHVS Manual29,187 km1st OwnerDiesel₹21,606/month₹9,71,299Zero downpayment2018 Hyundai Creta1.6 VTVT SX AUTO Automatic69,862 km1st OwnerPetrol₹28,955/month₹13,01,673Zero downpayment2016 Maruti Vitara BrezzaZDI PLUS Manual97,336 km1st OwnerDiesel₹16,285/month₹7,32,099Zero downpayment2018 Maruti S CrossZETA 1.3 SHVS Manual62,801 km1st OwnerDiesel₹19,468/month₹8,75,199Zero downpayment2018 Hyundai Creta1.6 SX PLUS AUTO PETROL Automatic14,616 km1st OwnerPetrol₹26,529/month₹11,92,599Zero downpayment2017 Hyundai Grand i10SPORTZ (O) 1.2 AT VTVT Automatic25,550 km1st OwnerPetrol₹13,493/month₹6,06,599Zero downpayment2018 Toyota YARISVX CVT Automatic52,811 km1st OwnerPetrol₹22,468/month₹10,10,069Zero downpayment2019 Jeep Compass1.4 LIMITED PLUS AT Automatic20,133 km1st OwnerPetrol₹42,300/month₹19,01,599Zero downpayment2017 Maruti S CrossZETA SHVS Manual69,701 km1st OwnerDiesel₹21,548/month₹9,68,699Zero downpayment2018 Tata HexaVaricor 400 XTA Automatic63,591 km1st OwnerDiesel₹27,828/month₹12,50,999Zero downpayment2019 Mahindra MARAZZOM8 7 STR Manual49,940 km1st OwnerDiesel₹28,508/month₹12,81,599Zero downpayment2018 Ford Ecosport1.0 ECOBOOST TITANIUM SPORTS(SUNROOF) Manual17,171 km2nd OwnerPetrol₹19,562/month₹8,79,389Zero downpayment2021 Toyota GlanzaV CVT Automatic40,270 km1st OwnerPetrol₹22,852/month₹10,27,299Zero downpayment2018 Toyota YARISVX CVT Automatic20,413 km1st OwnerPetrol₹23,748/month₹10,67,599Zero downpayment2017 Maruti S CrossZETA SHVS Manual81,005 km1st OwnerDiesel₹18,703/month₹8,40,799Zero downpayment2017 Hyundai Tucson New4WD AT GLS DIESEL Automatic72,581 km1st OwnerDiesel₹42,672/month₹19,18,299Zero downpayment2015 Maruti Alto 800LXI Manual8,643 km1st OwnerPetrol₹6,671/month₹2,99,899Zero downpayment2014 Maruti Swift DzireZXI 1.2 BS IV Manual32,393 km1st OwnerPetrol₹10,410/month₹4,67,999Zero downpayment2010 Hyundai i10MAGNA 1.2 Manual60,839 km2nd OwnerPetrol₹5,410/month₹2,43,199Zero downpayment2014 Maruti Swift DzireVXI 1.2 BS IV Manual30,794 km2nd OwnerPetrol₹9,823/month₹4,41,599Zero downpayment2021 Maruti ErtigaZXI SMART HYBRID Manual2,237 km1st OwnerPetrol₹24,427/month₹10,98,099Zero downpayment2014 Maruti Swift DzireVDI BS IV Manual1,16,371 km1st OwnerDiesel₹11,734/month₹5,27,499Zero downpayment2015 Maruti ErtigaZXI Manual30,046 km1st OwnerPetrol₹15,160/month₹6,81,499Zero downpayment2015 Jaguar XF2.2 DIESEL Automatic47,602 km1st OwnerDiesel₹42,885/month₹19,27,899Zero downpayment2010 Toyota Innova2.5 G4 7 STR Manual2,25,759 km2nd OwnerDiesel₹10,424/month₹4,68,599Zero downpayment2018 Volkswagen PoloHIGHLINE1.5L DIESEL Manual55,323 km1st OwnerDiesel₹15,676/month₹7,04,699Zero downpayment2014 Maruti Swift DzireZXI 1.2 BS IV Manual70,126 km1st OwnerPetrol₹11,607/month₹5,21,799Zero downpayment2020 Tata HarrierXM 2.0L Kryotec Manual17,654 km1st OwnerDiesel₹33,562/month₹15,08,799Zero downpayment2015 Maruti CelerioVXI AMT Automatic47,341 km1st OwnerPetrol₹8,497/month₹3,81,999Zero downpayment2012 Honda City1.5 E MT PETROL Manual80,019 km2nd OwnerPetrol₹9,076/month₹4,07,999Zero downpayment2018 Volkswagen VentoCOMFORTLINE PETROL Manual23,719 km1st OwnerPetrol₹15,166/month₹6,81,799Zero downpayment2015 Tata NanoXT TWIST Manual36,486 km1st OwnerPetrol₹4,529/month₹2,03,599Zero downpayment2019 Hyundai Elite i201.4 SPORTS PLUS CRDI Manual40,297 km1st OwnerDiesel₹18,797/month₹8,44,999Zero downpayment2018 Maruti SwiftVXI AMT Automatic25,907 km1st OwnerPetrol₹14,870/month₹6,68,499Zero downpayment2014 Honda CitySV MT PETROL Manual76,721 km1st OwnerPetrol₹10,577/month₹4,75,499Zero downpayment2019 Renault TRIBER1.0 RXZ Manual15,847 km1st OwnerPetrol₹14,835/month₹6,66,899Zero downpayment2017 Jeep Compass2.0 LIMITED Manual16,118 km1st OwnerDiesel₹31,865/month₹14,32,499Zero downpayment2013 Ford Ecosport1.5 TITANIUM TI VCT Manual52,561 km1st OwnerPetrol₹10,902/month₹4,90,099Zero downpayment2013 Maruti Swift DzireVDI BS IV Manual75,005 km1st OwnerDiesel₹10,032/month₹4,50,999Zero downpayment2017 Hyundai EonMAGNA PLUS Manual34,962 km1st OwnerPetrol₹8,059/month₹3,62,299Zero downpayment2016 Skoda Rapid1.5 TDI AT STYLE PLUS Automatic91,979 km1st OwnerDiesel₹13,260/month₹5,96,099Zero downpayment2015 Ford Figo Aspire1.5 TREND DIESEL Manual60,456 km1st OwnerDiesel₹10,028/month₹4,50,799Zero downpayment2016 Maruti Vitara BrezzaVDI OPT Manual1,57,285 km1st OwnerDiesel₹14,552/month₹6,54,199Zero downpayment2013 Maruti Swift DzireVDI BS IV Manual88,286 km1st OwnerDiesel₹10,135/month₹4,55,599Zero downpayment2016 Hyundai Creta1.6 E + VTVT Manual48,656 km1st OwnerPetrol₹17,119/month₹7,69,599Zero downpayment2015 Renault Duster85 PS RXE Manual1,72,680 km1st OwnerDiesel₹11,069/month₹4,97,599Zero downpayment2015 Volkswagen JettaHIGHLINE TDI AT Automatic92,831 km1st OwnerDiesel₹20,992/month₹9,43,699Zero downpayment2018 Maruti Vitara BrezzaZDI PLUS Manual73,930 km1st OwnerDiesel₹20,963/month₹9,42,399Zero downpaymentOther CitiesPuneMumbaiNasikKolhapurAurangabadVapiSuratBharuchHubliVadodaraWhat our Users have to say! PreviousKalyani NayarPuneMay 2022HONDA ACCORD  4.5User rating“Working with CARS24 was a breeze.They were patient and helped me findthe perfect car. I was impre... read more... read moreValue for money : Experience :Ease of process :Satya NijasurePuneMay 2022TOYOTA INNOVA  5User rating“Buying a car is challenging, particularlywhen you don't know much aboutvehicles. I wasn't sure what I... read more... read moreValue for money : Experience :Ease of process :Kalyani BhattacharyaPuneMay 2022VOLKSWAGEN AMEO  5User rating“The buying process was very good. Thesales executive took me through thedetails about the car and w... read more... read moreValue for money : Experience :Ease of process :Vishnu PadhyaPuneMay 2022TATA MANZA  4User rating“I got a great deal on my TATA MANZAfrom CARS24. They had a lot of nice carsto choose from, the staff wa... read more... read moreValue for money : Experience :Ease of process :Durgawati MarwahPuneMay 2022FIAT PALIO NV  5User rating“I have a used car from CARS24. Theyhave a great selection, and it's so easyto find a car that suits your ... read more... read moreValue for money : Experience :Ease of process :Padmini AhujaPuneMay 2022RENAULT DUSTER  5User rating“If you're in the market for a used car,look no further than CARS24. I wasimpressed by their selectio... read more... read moreValue for money : Experience :Ease of process :Shudraka TavadePuneMay 2022MARUTI SX4  4.5User rating“After a nightmarish experience atanother dealership, I found my car atCARS24. The team was prof... read more... read moreValue for money : Experience :Ease of process :Manasa BhagatPuneMay 2022MARUTI SUZUKI ESTEEM  5User rating“I bought my Maruti Suzuki Esteem fromCARS24, and they were so helpful thewhole time. I hope they kee... read more... read moreValue for money : Experience :Ease of process :Ragunath AhujaPuneMay 2022HYUNDAI GRAND I10  4.5User rating“The car I bought from CARS24 is mydream car. I had checked out a lot ofdifferent vehicles, and the H... read more... read moreValue for money : Experience :Ease of process :Jindan AyyangarPuneMay 2022MARUTI SUZUKI KIZASHI  4User rating“I searched for a new car for a long time,but could not find anything I liked at theprice I wanted. On a whim, I ... read more... read moreValue for money : Experience :Ease of process :Shristi SirasikarPuneMay 2022HYUNDAI SANTA FE  4.5User rating“I must say, I was a little worried aboutmaking such a large purchase online.However, the team at CARS... read more... read moreValue for money : Experience :Ease of process :Salma DeshPuneMay 2022HYUNDAI ELANTRA  5User rating“I cannot be happier with my newHyundai Elantra! I did a lot of researchand found CARS24 and thei... read more... read moreValue for money : Experience :Ease of process :Anaya HeravdakarPuneMay 2022HYUNDAI I10  5User rating“I was looking for a new car and cameacross CARS24 among many other usedcars. I found their website v... read more... read moreValue for money : Experience :Ease of process :Padmini GuptaPuneMay 2022BMW X1  5User rating“CARS24 made the process of buyingmy BMW X1 a walk in the park. They wereextremely helpful and effici... read more... read moreValue for money : Experience :Ease of process :Reshman RajavadePuneMay 2022MARUTI SUZUKI EECO  5User rating“I was searching online for a new car,and I was amazed when I saw theselection of second-hand c... read more... read moreValue for money : Experience :Ease of process :Shreya HeravdakarPuneMay 2022TATA INDICA V2  4.5User rating“The TATA INDICA V2 was in greatcondition and so clean - just like in thephotos. I am really happy a... read more... read moreValue for money : Experience :Ease of process :Chhaya MishraPuneMay 2022HONDA CITY  4User rating“I bought my second-hand HONDA CITYfrom CARS24. They were selling it for areally good price, and it wa... read more... read moreValue for money : Experience :Ease of process :Shristi ChitanisPuneMay 2022HYUNDAI GETZ  5User rating“I had been looking for a used HyundaiGetz for a while and came acrossCARS24. I found the car I wa... read more... read moreValue for money : Experience :Ease of process :Sukanya ChopadePuneMay 2022TATA MAGIC  4.5User rating“I bought a TATA MAGIC from CARS24.I'm very satisfied with my vehicle andwith the team's services at ... read more... read moreValue for money : Experience :Ease of process :Shania MahantaPuneMay 2022HONDA CITY  5User rating“The team at CARS24 was helpful inevery step of the car-buying process.They were straightforward ... read more... read moreValue for money : Experience :Ease of process :Nutan AdhyaPuneMay 2022MERCEDES BENZ GL CLASS  5User rating“The team of CARS24 is really helpfuland knowledgeable. I got a great dealon my Mercedes Benz GL cl... read more... read moreValue for money : Experience :Ease of process :Shalini KapoorPuneMay 2022NISSAN SUNNY  5User rating“I could not be any happier with myNissan Sunny that I bought fromCARS24. The team was help... read more... read moreValue for money : Experience :Ease of process :Akshay DevaiahPuneApr 2021HINDUSTAN MOTORS AMBASSADOR  5User rating“I had a great experience buying my carfrom CARS24. The staff was very helpful,and I got a great deal on m... read more... read moreValue for money : Experience :Ease of process :Rehan NaseerPuneApr 2021MERCEDES BENZ E CLASS  4.5User rating“I had a great experience buying myMERCEDES BENZ E CLASS from CARS24.The process was very easy, ... read more... read moreValue for money : Experience :Ease of process :Ajay MurthyPuneApr 2021EICHER POLARIS MULTIX  4.5User rating“I'm very happy with the EICHER POLARISMULTIX I bought from CARS24. Theprocess was smooth, and t... read more... read moreValue for money : Experience :Ease of process :Riyaz NaqviPuneApr 2021TATA INDIGO  5User rating“The CARS24 team was knowledgeableand helpful. They helped me to find theperfect car for my needs, a... read more... read moreValue for money : Experience :Ease of process :Akash KanwarPuneApr 2021TATA SAFARI  5User rating“I had a great experience buying my carfrom CARS24. The process was simpleand the staff was friendly a... read more... read moreValue for money : Experience :Ease of process :Ali KhanPuneApr 2021TATA INDICA V2  5User rating“I'm very happy with the TATA INDICA V2 Ibought from CARS24. The car is in greatcondition and the price was... read more... read moreValue for money : Experience :Ease of process :Fateh ChaddhaPuneMar 2021HONDA JAZZ  4.5User rating“I'm so happy with my purchase fromCARS24! The Honda Jazz is a great car,and the team at CARS24 w... read more... read moreValue for money : Experience :Ease of process :Ajay ShettyPuneMar 2021TOYOTA ETIOS  5User rating“I would definitely recommend CARS24to friends and family because theprocess was so smooth an... read more... read moreValue for money : Experience :Ease of process :Ajay RaoPuneMar 2021MAHINDRA RENAULT LOGAN  5User rating“The Mahindra Renault Logan was agreat buy from CARS24. The team wasvery professional and helpf... read more... read moreValue for money : Experience :Ease of process :Shivpal TalapalaPuneMar 2021HONDA ACCORD  5User rating“I'm so happy with my purchase fromCARS24. The team was great, and I got afantastic deal on my HOND... read more... read moreValue for money : Experience :Ease of process :Pradyumna BaruahPuneMar 2021HYUNDAI ELANTRA  4.5User rating“I am very happy with my purchasefrom CARS24. The entire process waseasy and the staff was very ... read more... read moreValue for money : Experience :Ease of process :Krishna BonamPuneMar 2021HYUNDAI ACCENT  4.5User rating“The whole process was very smoothand the staff was very helpful. I bought aHYUNDAI ACCENT and I'm ve... read more... read moreValue for money : Experience :Ease of process :Harsh ChaubeyPuneMar 2021FIAT PALIO  5User rating“The guys at CARS24 are great! Theywere super helpful, and I got a greatdeal on my FIAT PALIO. The ... read more... read moreValue for money : Experience :Ease of process :Jayesh BansalPuneMar 2021SKODA RAPID  5User rating“I found CARS24 on the Internet andfound their service to be excellent. Theywere able to deliver the SKO... read more... read moreValue for money : Experience :Ease of process :Eklavya BishtPuneMar 2021MARUTI SUZUKI SWIFT  5User rating“Buying my first car was really easy withCARS24. They were friendly and helpfuland the whole experience w... read more... read moreValue for money : Experience :Ease of process :Deepak AggarwalPuneMar 2021MAHINDRA XYLO  4.5User rating“I bought my car from CARS24 andfound the experience to be verysatisfying. I got a good deal... read more... read moreValue for money : Experience :Ease of process :Yug RameshPuneMar 2021TOYOTA QUALIS  5User rating“I love my new TOYOTA QUALIS! TheCARS24 guys were great to deal with.They were very friendly, co... read more... read moreValue for money : Experience :Ease of process :Fateh NoorBengaluruFeb 2021Skoda Superb  5User rating“Words can't describe my experiencewith CARS24. The staff was awesome,and it didn't take long to fin... read more... read moreValue for money : Experience :Ease of process :Keerthana PandiyanBengaluruFeb 2021Tata Harrier  5User rating“I don't usually leave feedback, but I'mso impressed by my experience. I wason the lookout for a new car... read more... read moreValue for money : Experience :Ease of process :Venkatesh IyengarChennaiFeb 2021Tata Indica eV2  5User rating“I have had my Tata Indica eV2 forabout a month now and I am veryhappy with it. The sales tea... read more... read moreValue for money : Experience :Ease of process :Saad NaseerHyderabadFeb 2021Skoda Rapid  5User rating“I had a great experience buying asecond-hand car from CARS24! Thecustomer service was ama... read more... read moreValue for money : Experience :Ease of process :Aditya BediNagpurFeb 2021Audi A3  5User rating“I bought a Audi A3 from CARS24 amonth ago and I still can't stop smiling.It was a great deal, and eve... read more... read moreValue for money : Experience :Ease of process :Sushen GhoshBhopalMar 2021Tata Zest  4.5User rating“Not many dealers gave us a test driveof the Tata Zest, but the staff at CARS24was very accommodating. ... read more... read moreValue for money : Experience :Ease of process :Dharam DubeyChennaiMar 2021Skoda Octavia  5User rating“Buying my new-to-me Skoda Octaviawas an absolute pleasure. The staff atCARS24 was very helpful an... read more... read moreValue for money : Experience :Ease of process :Arjun GounderAhmedabadMar 2021Tata Indigo  5User rating“I wanted to buy a second-handhatchback, and the Tata Indigo wassomething I'd been looking ... read more... read moreValue for money : Experience :Ease of process :Arun PaiDelhi-NCRMar 2021Fiat Punto EVO  5User rating“I was lucky to find a Fiat Punto EVO atCARS24! The special discount they gaveme was fantastic. Buying a ... read more... read moreValue for money : Experience :Ease of process :Shashikant RasalPuneAug 2021MARUTI SUZUKI WAGON R 1.0 LXI CNG 4.5User rating“Cars24 found on Google. Cars24 apptrustful more than other servicesprovider. Staff was very co-operative.”... read moreValue for money : Experience :Ease of process :Rutudhwaj KPuneOct 2021MARUTI SUZUKI WAGON R 1.0 LXI CNG 5User rating“CARS24 is one of the top-rated mobileapps for buying and selling used cars inIndia”... read moreValue for money : Experience :Ease of process : NextFREQUENTLY ASKED QUESTIONS FOR USED CARS IN PUNEHow many second hand cars are available in Pune?487 used cars are available in Pune of popular brands like Maruti Suzuki, Hyundai, Honda & moreWhat are the most popular brands available for 2nd hand cars in Pune?CARS24 has a wide inventory of all brands including Maruti Suzuki, Hyundai, Honda & more. Find the best second hand car in Pune of your choice on CARS24.What will be the starting price of an old car in Pune?The starting price of a used car in Pune is Rs. ₹1,00,000.What body types are available for 2nd hand cars in Pune?Used cars in Pune are available from every segment, be it Hatchback, Sedan, SUV.Can I buy used cars online at CARS24 in Pune?Of Course yes, you can buy used cars online in Pune from CARS24. You can find thousands of quality second hand cars for sale on our website/app that can be bought at the click of a button & delivered to your doorstep anywhere in PuneWhat to check before buying a second hand car in Pune?Important things to check  before buying a second hand car in Pune are:Source: Buying a car from a trusted source is important to make sure the car is in the exact condition as stated & also to deal with any post sale related issues.Condition: Ensure the car is non-accidental & does not have any structural damage. We use a 140 point check to make sure every car we sell is in top condition.Age: Buying a used car that is very old can lead to problems like expensive maintenance costs and scarcity of spare parts. A three to five year old car should be an ideal buy,Car Documents: Verification of vehicle documents like Registration Certificate (RC), Insurance & PUC is very important. Also ensure the car is not under loan (hypothecated), there are no traffic challans or any legal issues with it.Certified or Not: Certified used cars come with warranty and are refurbished to as good as new to protect buyers from unforeseen repair & maintenance cost.Where can I buy used cars in Pune?You can buy used cars in Pune from Cars24. Visit our website, book the car of your choice & get it delivered to your home.How can I check a second hand car in Pune?You can check second hand cars in Pune using conventional & time consuming buying methods like classified, dealers etc. CARS24 brings you a virtual showroom experience at your fingertips using 360 view. You can check multiple cars for sale in minutes and buy one from the comfort of your couch. We’ll deliver the car anywhere in PuneKEEP IN TOUCHEXPERIENCE CARS24 APP ON MOBILEPowered by CARS24® 2022 www.cars24.comAll rights reservedUSEFUL LINKSContact UsAbout UsPrivacy PolicyTerms and ConditionsFAQSitemapTestimonialsBlogBranchesWe're Hiring!Become Our PartnerNeed a LoanRC Transfer StatusCARS24 FinanceCARS24 Franchise PartnersInvestorsTop BrandsMaruti SuzukiHyundaiHondaTataToyotaChevroletFordMahindraSkodaVolkswagenNissanRenaultFiatMercedes BenzAudiTOP CITIESNew DelhiNoidaGurgaonMumbaiPuneBengaluruHyderabadChennaiKolkataAhmedabadPOPULAR SEARCHESCARS24 PricingSell Used CarVehicle Ownership TransferUsed Car ValuationNeed Help?\\n\\n\\n\\n\\n\\n\\n\\n\\n\\n\\n\\n\\n\\n\\n\\n\\n\\n\\n\\n\\n\\n\\n\\n\\nHey! How can I help you today? \""
      ]
     },
     "execution_count": 3,
     "metadata": {},
     "output_type": "execute_result"
    }
   ],
   "source": [
    "soup.text"
   ]
  },
  {
   "cell_type": "markdown",
   "id": "bb53349c",
   "metadata": {},
   "source": [
    "**Creating a list of the names of cars and prices of cars**"
   ]
  },
  {
   "cell_type": "code",
   "execution_count": 4,
   "id": "250c3a64",
   "metadata": {},
   "outputs": [],
   "source": [
    "car_name =[]\n",
    "car_price=[]"
   ]
  },
  {
   "cell_type": "markdown",
   "id": "a72c0d11",
   "metadata": {},
   "source": [
    "**Extracting the container of each car and then extracting each name and price of the car**"
   ]
  },
  {
   "cell_type": "code",
   "execution_count": 5,
   "id": "3edccb79",
   "metadata": {},
   "outputs": [
    {
     "name": "stdout",
     "output_type": "stream",
     "text": [
      "Extracted Successfully\n"
     ]
    }
   ],
   "source": [
    "for car_tag in soup.find_all('div', class_='col-4'):  \n",
    "\n",
    "    \n",
    "    car_name=[score.get_text()for score in soup.find_all(name=\"h2\", class_=\"_3FpCg\")]\n",
    "    \n",
    "    car_price=[score.get_text() for score in soup.find_all(name=\"div\", class_=\"_7udZZ\")]\n",
    "\n",
    "print(\"Extracted Successfully\")"
   ]
  },
  {
   "cell_type": "code",
   "execution_count": 6,
   "id": "8aa1b115",
   "metadata": {},
   "outputs": [],
   "source": [
    "#car_model=[]\n",
    "#car_info=[]\n",
    "\n",
    "#for car_tag in soup.find_all('div', class_='col-4'):  \n",
    "\n",
    "    # car_model=[score.get_text() for score in soup.find_all(name=\"p\", class_=\"cvakB\")]\n",
    "    \n",
    "    #car_info=[score.get_text() for score in soup.find_all(name=\"ul\", class_=\"bVR0c\") ]"
   ]
  },
  {
   "cell_type": "markdown",
   "id": "ce550348",
   "metadata": {},
   "source": [
    "**Extracting wheather the car is Manual Or Automatic**"
   ]
  },
  {
   "cell_type": "code",
   "execution_count": 7,
   "id": "5fff8c82",
   "metadata": {},
   "outputs": [
    {
     "name": "stdout",
     "output_type": "stream",
     "text": [
      "Extracted Successfully\n"
     ]
    }
   ],
   "source": [
    "car_model_tag = soup.find_all(name=\"p\", class_=\"cvakB\")\n",
    "\n",
    "car_model = [ma.find_all(name='span')[0].text for ma in car_model_tag]  #  ma stand for manual automatic\n",
    "\n",
    "car_model = [nan if nan.replace(' ','') else None for nan in car_model ] # nan stands for None values in list\n",
    "\n",
    "print(\"Extracted Successfully\")"
   ]
  },
  {
   "cell_type": "markdown",
   "id": "5f19035b",
   "metadata": {},
   "source": [
    "**Extracting the car's link**"
   ]
  },
  {
   "cell_type": "code",
   "execution_count": 8,
   "id": "6caf9fdf",
   "metadata": {},
   "outputs": [
    {
     "name": "stdout",
     "output_type": "stream",
     "text": [
      "Extracted Successfully\n"
     ]
    }
   ],
   "source": [
    "car_link=[]\n",
    "car_tag=soup.find_all(name=\"a\", class_=\"_9Ue0B\")\n",
    "for i in car_tag:\n",
    "    link=i.get(\"href\")\n",
    "    car_link.append(link)   \n",
    "    \n",
    "print(\"Extracted Successfully\")"
   ]
  },
  {
   "cell_type": "markdown",
   "id": "3d303981",
   "metadata": {},
   "source": [
    "**Extracting the car's Kilometers, How many km the car has already covered**"
   ]
  },
  {
   "cell_type": "code",
   "execution_count": 9,
   "id": "42f41e33",
   "metadata": {},
   "outputs": [
    {
     "name": "stdout",
     "output_type": "stream",
     "text": [
      "Extracted Successfully\n"
     ]
    }
   ],
   "source": [
    "km=[]\n",
    "for car_tag in soup.find_all('ul', class_='bVR0c'): \n",
    "    for i in car_tag.find_all(name=\"li\")[0]:\n",
    "        km.append(i)\n",
    "        \n",
    "print(\"Extracted Successfully\")"
   ]
  },
  {
   "cell_type": "markdown",
   "id": "72bc54d7",
   "metadata": {},
   "source": [
    "**Extracting the car's Owner, is the owner 1'st or 2'nd**"
   ]
  },
  {
   "cell_type": "code",
   "execution_count": 10,
   "id": "d94671cf",
   "metadata": {},
   "outputs": [
    {
     "name": "stdout",
     "output_type": "stream",
     "text": [
      "Extracted Successfully\n"
     ]
    }
   ],
   "source": [
    "owner=[]\n",
    "for car_tag in soup.find_all('ul', class_='bVR0c'): \n",
    "    for i in car_tag.find_all(name=\"li\")[1]:\n",
    "        owner.append(i)\n",
    "    \n",
    "print(\"Extracted Successfully\")"
   ]
  },
  {
   "cell_type": "markdown",
   "id": "2b10fec7",
   "metadata": {},
   "source": [
    "**Extracting the car's type, is the car Petrol or Diesal**"
   ]
  },
  {
   "cell_type": "code",
   "execution_count": 11,
   "id": "57581958",
   "metadata": {},
   "outputs": [
    {
     "name": "stdout",
     "output_type": "stream",
     "text": [
      "Extracted Successfully\n"
     ]
    }
   ],
   "source": [
    "ctype=[]\n",
    "for car_tag in soup.find_all('ul', class_='bVR0c'): \n",
    "    for i in car_tag.find_all(name=\"li\")[2]:\n",
    "        ctype.append(i)\n",
    "    \n",
    "print(\"Extracted Successfully\")"
   ]
  },
  {
   "cell_type": "markdown",
   "id": "26ef6595",
   "metadata": {},
   "source": [
    "**Checking the length of all list**"
   ]
  },
  {
   "cell_type": "code",
   "execution_count": 12,
   "id": "6d40fc5d",
   "metadata": {},
   "outputs": [
    {
     "name": "stdout",
     "output_type": "stream",
     "text": [
      "487\n",
      "487\n",
      "487\n",
      "487\n",
      "487\n",
      "487\n",
      "487\n"
     ]
    }
   ],
   "source": [
    "print(len(car_link))\n",
    "print(len(car_name))\n",
    "print(len(car_model))\n",
    "print(len(car_price))\n",
    "print(len(km))\n",
    "print(len(owner))\n",
    "print(len(ctype))\n",
    "#print(len(car_info))"
   ]
  },
  {
   "cell_type": "markdown",
   "id": "49c8f035",
   "metadata": {},
   "source": [
    "**Creating a Dictionary with the lists we have created above**"
   ]
  },
  {
   "cell_type": "code",
   "execution_count": 13,
   "id": "f4a9594e",
   "metadata": {},
   "outputs": [],
   "source": [
    "d={'Car Name':car_name,'Car model':car_model,'Car Price':car_price,'KM':km,'Owner':owner,'Car Type':ctype,'Car link':car_link}"
   ]
  },
  {
   "cell_type": "markdown",
   "id": "5bce7e3c",
   "metadata": {},
   "source": [
    "<h2>Creating a Dataframe using Pandas</h2>"
   ]
  },
  {
   "cell_type": "code",
   "execution_count": 14,
   "id": "ba4a6e71",
   "metadata": {
    "scrolled": true
   },
   "outputs": [
    {
     "data": {
      "text/html": [
       "<div>\n",
       "<style scoped>\n",
       "    .dataframe tbody tr th:only-of-type {\n",
       "        vertical-align: middle;\n",
       "    }\n",
       "\n",
       "    .dataframe tbody tr th {\n",
       "        vertical-align: top;\n",
       "    }\n",
       "\n",
       "    .dataframe thead th {\n",
       "        text-align: right;\n",
       "    }\n",
       "</style>\n",
       "<table border=\"1\" class=\"dataframe\">\n",
       "  <thead>\n",
       "    <tr style=\"text-align: right;\">\n",
       "      <th></th>\n",
       "      <th>Car Name</th>\n",
       "      <th>Car model</th>\n",
       "      <th>Car Price</th>\n",
       "      <th>KM</th>\n",
       "      <th>Owner</th>\n",
       "      <th>Car Type</th>\n",
       "      <th>Car link</th>\n",
       "    </tr>\n",
       "  </thead>\n",
       "  <tbody>\n",
       "    <tr>\n",
       "      <th>0</th>\n",
       "      <td>2021 Nissan MAGNITE</td>\n",
       "      <td>None</td>\n",
       "      <td>₹9,63,799</td>\n",
       "      <td>16,049 km</td>\n",
       "      <td>1st Owner</td>\n",
       "      <td>Petrol</td>\n",
       "      <td>https://www.cars24.com/buy-used-nissan-magnite...</td>\n",
       "    </tr>\n",
       "    <tr>\n",
       "      <th>1</th>\n",
       "      <td>2014 Volkswagen Vento</td>\n",
       "      <td>Manual</td>\n",
       "      <td>₹5,13,399</td>\n",
       "      <td>41,569 km</td>\n",
       "      <td>1st Owner</td>\n",
       "      <td>Petrol</td>\n",
       "      <td>https://www.cars24.com/buy-used-volkswagen-ven...</td>\n",
       "    </tr>\n",
       "    <tr>\n",
       "      <th>2</th>\n",
       "      <td>2020 Tata Tiago</td>\n",
       "      <td>Manual</td>\n",
       "      <td>₹6,80,399</td>\n",
       "      <td>8,118 km</td>\n",
       "      <td>1st Owner</td>\n",
       "      <td>Petrol</td>\n",
       "      <td>https://www.cars24.com/buy-used-tata-tiago-202...</td>\n",
       "    </tr>\n",
       "    <tr>\n",
       "      <th>3</th>\n",
       "      <td>2015 Renault Duster</td>\n",
       "      <td>Manual</td>\n",
       "      <td>₹6,76,799</td>\n",
       "      <td>63,143 km</td>\n",
       "      <td>1st Owner</td>\n",
       "      <td>Diesel</td>\n",
       "      <td>https://www.cars24.com/buy-used-renault-duster...</td>\n",
       "    </tr>\n",
       "    <tr>\n",
       "      <th>4</th>\n",
       "      <td>2020 Maruti Alto</td>\n",
       "      <td>Manual</td>\n",
       "      <td>₹3,95,099</td>\n",
       "      <td>2,530 km</td>\n",
       "      <td>1st Owner</td>\n",
       "      <td>Petrol</td>\n",
       "      <td>https://www.cars24.com/buy-used-maruti-alto-20...</td>\n",
       "    </tr>\n",
       "  </tbody>\n",
       "</table>\n",
       "</div>"
      ],
      "text/plain": [
       "                Car Name Car model  Car Price         KM      Owner Car Type  \\\n",
       "0    2021 Nissan MAGNITE      None  ₹9,63,799  16,049 km  1st Owner   Petrol   \n",
       "1  2014 Volkswagen Vento    Manual  ₹5,13,399  41,569 km  1st Owner   Petrol   \n",
       "2        2020 Tata Tiago    Manual  ₹6,80,399   8,118 km  1st Owner   Petrol   \n",
       "3    2015 Renault Duster    Manual  ₹6,76,799  63,143 km  1st Owner   Diesel   \n",
       "4       2020 Maruti Alto    Manual  ₹3,95,099   2,530 km  1st Owner   Petrol   \n",
       "\n",
       "                                            Car link  \n",
       "0  https://www.cars24.com/buy-used-nissan-magnite...  \n",
       "1  https://www.cars24.com/buy-used-volkswagen-ven...  \n",
       "2  https://www.cars24.com/buy-used-tata-tiago-202...  \n",
       "3  https://www.cars24.com/buy-used-renault-duster...  \n",
       "4  https://www.cars24.com/buy-used-maruti-alto-20...  "
      ]
     },
     "execution_count": 14,
     "metadata": {},
     "output_type": "execute_result"
    }
   ],
   "source": [
    "df = pd.DataFrame(d)\n",
    "df.head()"
   ]
  },
  {
   "cell_type": "markdown",
   "id": "5439af23",
   "metadata": {},
   "source": [
    "**The 'Car Name' column has year, brand, car name so splitting the column car name and extracting year from it and storing 'Year' as a new column in Dataframe df**"
   ]
  },
  {
   "cell_type": "code",
   "execution_count": 15,
   "id": "de9f07d5",
   "metadata": {},
   "outputs": [
    {
     "data": {
      "text/plain": [
       "0    2021\n",
       "1    2014\n",
       "2    2020\n",
       "3    2015\n",
       "4    2020\n",
       "Name: Year, dtype: object"
      ]
     },
     "execution_count": 15,
     "metadata": {},
     "output_type": "execute_result"
    }
   ],
   "source": [
    "df['Car Name'].str.split(expand=True)\n",
    "Cyear=df['Car Name'].str.extract(r'(?P<Year>\\w+)', expand=True)\n",
    "df['Year']=Cyear\n",
    "df['Year'].head()"
   ]
  },
  {
   "cell_type": "markdown",
   "id": "5454b0dc",
   "metadata": {},
   "source": [
    "**Splitting the Column 'Car Name' and extracting brand from it and storing 'Brand' as a new column in Dataframe df**"
   ]
  },
  {
   "cell_type": "code",
   "execution_count": 16,
   "id": "7df2c8e7",
   "metadata": {},
   "outputs": [
    {
     "data": {
      "text/plain": [
       "0        Nissan\n",
       "1    Volkswagen\n",
       "2          Tata\n",
       "3       Renault\n",
       "4        Maruti\n",
       "Name: Brand, dtype: object"
      ]
     },
     "execution_count": 16,
     "metadata": {},
     "output_type": "execute_result"
    }
   ],
   "source": [
    "s=df['Car Name'].str.split(expand=True)\n",
    "s.drop(columns=s.columns[0], axis=1, inplace=True)\n",
    "df['Brand']=s[1]\n",
    "df['Brand'].head()"
   ]
  },
  {
   "cell_type": "markdown",
   "id": "b1fbcd38",
   "metadata": {},
   "source": [
    "**Splitting the Column 'Car Name' and extracting Car Name itself from it and storing 'Car Name' as a new column in Dataframe df**"
   ]
  },
  {
   "cell_type": "code",
   "execution_count": 17,
   "id": "aee797cf",
   "metadata": {},
   "outputs": [],
   "source": [
    "a=df['Car Name'].str.split(expand=True)\n",
    "\n",
    "b=a.drop([0, 1], axis = 1)\n",
    "\n",
    "c=b.fillna(\"\")\n",
    "\n",
    "d= c[2]+ \" \" + c[3]+ \" \" +c[4] \n",
    "df['Car Name'] =d"
   ]
  },
  {
   "cell_type": "code",
   "execution_count": 18,
   "id": "c5fe6385",
   "metadata": {},
   "outputs": [
    {
     "data": {
      "text/html": [
       "<div>\n",
       "<style scoped>\n",
       "    .dataframe tbody tr th:only-of-type {\n",
       "        vertical-align: middle;\n",
       "    }\n",
       "\n",
       "    .dataframe tbody tr th {\n",
       "        vertical-align: top;\n",
       "    }\n",
       "\n",
       "    .dataframe thead th {\n",
       "        text-align: right;\n",
       "    }\n",
       "</style>\n",
       "<table border=\"1\" class=\"dataframe\">\n",
       "  <thead>\n",
       "    <tr style=\"text-align: right;\">\n",
       "      <th></th>\n",
       "      <th>Car Name</th>\n",
       "      <th>Car model</th>\n",
       "      <th>Car Price</th>\n",
       "      <th>KM</th>\n",
       "      <th>Owner</th>\n",
       "      <th>Car Type</th>\n",
       "      <th>Car link</th>\n",
       "      <th>Year</th>\n",
       "      <th>Brand</th>\n",
       "    </tr>\n",
       "  </thead>\n",
       "  <tbody>\n",
       "    <tr>\n",
       "      <th>0</th>\n",
       "      <td>MAGNITE</td>\n",
       "      <td>None</td>\n",
       "      <td>₹9,63,799</td>\n",
       "      <td>16,049 km</td>\n",
       "      <td>1st Owner</td>\n",
       "      <td>Petrol</td>\n",
       "      <td>https://www.cars24.com/buy-used-nissan-magnite...</td>\n",
       "      <td>2021</td>\n",
       "      <td>Nissan</td>\n",
       "    </tr>\n",
       "    <tr>\n",
       "      <th>1</th>\n",
       "      <td>Vento</td>\n",
       "      <td>Manual</td>\n",
       "      <td>₹5,13,399</td>\n",
       "      <td>41,569 km</td>\n",
       "      <td>1st Owner</td>\n",
       "      <td>Petrol</td>\n",
       "      <td>https://www.cars24.com/buy-used-volkswagen-ven...</td>\n",
       "      <td>2014</td>\n",
       "      <td>Volkswagen</td>\n",
       "    </tr>\n",
       "    <tr>\n",
       "      <th>2</th>\n",
       "      <td>Tiago</td>\n",
       "      <td>Manual</td>\n",
       "      <td>₹6,80,399</td>\n",
       "      <td>8,118 km</td>\n",
       "      <td>1st Owner</td>\n",
       "      <td>Petrol</td>\n",
       "      <td>https://www.cars24.com/buy-used-tata-tiago-202...</td>\n",
       "      <td>2020</td>\n",
       "      <td>Tata</td>\n",
       "    </tr>\n",
       "    <tr>\n",
       "      <th>3</th>\n",
       "      <td>Duster</td>\n",
       "      <td>Manual</td>\n",
       "      <td>₹6,76,799</td>\n",
       "      <td>63,143 km</td>\n",
       "      <td>1st Owner</td>\n",
       "      <td>Diesel</td>\n",
       "      <td>https://www.cars24.com/buy-used-renault-duster...</td>\n",
       "      <td>2015</td>\n",
       "      <td>Renault</td>\n",
       "    </tr>\n",
       "    <tr>\n",
       "      <th>4</th>\n",
       "      <td>Alto</td>\n",
       "      <td>Manual</td>\n",
       "      <td>₹3,95,099</td>\n",
       "      <td>2,530 km</td>\n",
       "      <td>1st Owner</td>\n",
       "      <td>Petrol</td>\n",
       "      <td>https://www.cars24.com/buy-used-maruti-alto-20...</td>\n",
       "      <td>2020</td>\n",
       "      <td>Maruti</td>\n",
       "    </tr>\n",
       "  </tbody>\n",
       "</table>\n",
       "</div>"
      ],
      "text/plain": [
       "    Car Name Car model  Car Price         KM      Owner Car Type  \\\n",
       "0  MAGNITE        None  ₹9,63,799  16,049 km  1st Owner   Petrol   \n",
       "1    Vento      Manual  ₹5,13,399  41,569 km  1st Owner   Petrol   \n",
       "2    Tiago      Manual  ₹6,80,399   8,118 km  1st Owner   Petrol   \n",
       "3   Duster      Manual  ₹6,76,799  63,143 km  1st Owner   Diesel   \n",
       "4     Alto      Manual  ₹3,95,099   2,530 km  1st Owner   Petrol   \n",
       "\n",
       "                                            Car link  Year       Brand  \n",
       "0  https://www.cars24.com/buy-used-nissan-magnite...  2021      Nissan  \n",
       "1  https://www.cars24.com/buy-used-volkswagen-ven...  2014  Volkswagen  \n",
       "2  https://www.cars24.com/buy-used-tata-tiago-202...  2020        Tata  \n",
       "3  https://www.cars24.com/buy-used-renault-duster...  2015     Renault  \n",
       "4  https://www.cars24.com/buy-used-maruti-alto-20...  2020      Maruti  "
      ]
     },
     "execution_count": 18,
     "metadata": {},
     "output_type": "execute_result"
    }
   ],
   "source": [
    "df.head()"
   ]
  },
  {
   "cell_type": "markdown",
   "id": "aca64c21",
   "metadata": {},
   "source": [
    "**Adding City Column with City as Pune**"
   ]
  },
  {
   "cell_type": "code",
   "execution_count": 19,
   "id": "176bf80c",
   "metadata": {},
   "outputs": [
    {
     "data": {
      "text/plain": [
       "487"
      ]
     },
     "execution_count": 19,
     "metadata": {},
     "output_type": "execute_result"
    }
   ],
   "source": [
    "df['City']='Pune'\n",
    "\n",
    "len(df['City'])"
   ]
  },
  {
   "cell_type": "code",
   "execution_count": 20,
   "id": "1fa84523",
   "metadata": {},
   "outputs": [
    {
     "data": {
      "text/html": [
       "<div>\n",
       "<style scoped>\n",
       "    .dataframe tbody tr th:only-of-type {\n",
       "        vertical-align: middle;\n",
       "    }\n",
       "\n",
       "    .dataframe tbody tr th {\n",
       "        vertical-align: top;\n",
       "    }\n",
       "\n",
       "    .dataframe thead th {\n",
       "        text-align: right;\n",
       "    }\n",
       "</style>\n",
       "<table border=\"1\" class=\"dataframe\">\n",
       "  <thead>\n",
       "    <tr style=\"text-align: right;\">\n",
       "      <th></th>\n",
       "      <th>Car Name</th>\n",
       "      <th>Car model</th>\n",
       "      <th>Car Price</th>\n",
       "      <th>KM</th>\n",
       "      <th>Owner</th>\n",
       "      <th>Car Type</th>\n",
       "      <th>Car link</th>\n",
       "      <th>Year</th>\n",
       "      <th>Brand</th>\n",
       "      <th>City</th>\n",
       "    </tr>\n",
       "  </thead>\n",
       "  <tbody>\n",
       "    <tr>\n",
       "      <th>0</th>\n",
       "      <td>MAGNITE</td>\n",
       "      <td>None</td>\n",
       "      <td>₹9,63,799</td>\n",
       "      <td>16,049 km</td>\n",
       "      <td>1st Owner</td>\n",
       "      <td>Petrol</td>\n",
       "      <td>https://www.cars24.com/buy-used-nissan-magnite...</td>\n",
       "      <td>2021</td>\n",
       "      <td>Nissan</td>\n",
       "      <td>Pune</td>\n",
       "    </tr>\n",
       "    <tr>\n",
       "      <th>1</th>\n",
       "      <td>Vento</td>\n",
       "      <td>Manual</td>\n",
       "      <td>₹5,13,399</td>\n",
       "      <td>41,569 km</td>\n",
       "      <td>1st Owner</td>\n",
       "      <td>Petrol</td>\n",
       "      <td>https://www.cars24.com/buy-used-volkswagen-ven...</td>\n",
       "      <td>2014</td>\n",
       "      <td>Volkswagen</td>\n",
       "      <td>Pune</td>\n",
       "    </tr>\n",
       "    <tr>\n",
       "      <th>2</th>\n",
       "      <td>Tiago</td>\n",
       "      <td>Manual</td>\n",
       "      <td>₹6,80,399</td>\n",
       "      <td>8,118 km</td>\n",
       "      <td>1st Owner</td>\n",
       "      <td>Petrol</td>\n",
       "      <td>https://www.cars24.com/buy-used-tata-tiago-202...</td>\n",
       "      <td>2020</td>\n",
       "      <td>Tata</td>\n",
       "      <td>Pune</td>\n",
       "    </tr>\n",
       "    <tr>\n",
       "      <th>3</th>\n",
       "      <td>Duster</td>\n",
       "      <td>Manual</td>\n",
       "      <td>₹6,76,799</td>\n",
       "      <td>63,143 km</td>\n",
       "      <td>1st Owner</td>\n",
       "      <td>Diesel</td>\n",
       "      <td>https://www.cars24.com/buy-used-renault-duster...</td>\n",
       "      <td>2015</td>\n",
       "      <td>Renault</td>\n",
       "      <td>Pune</td>\n",
       "    </tr>\n",
       "    <tr>\n",
       "      <th>4</th>\n",
       "      <td>Alto</td>\n",
       "      <td>Manual</td>\n",
       "      <td>₹3,95,099</td>\n",
       "      <td>2,530 km</td>\n",
       "      <td>1st Owner</td>\n",
       "      <td>Petrol</td>\n",
       "      <td>https://www.cars24.com/buy-used-maruti-alto-20...</td>\n",
       "      <td>2020</td>\n",
       "      <td>Maruti</td>\n",
       "      <td>Pune</td>\n",
       "    </tr>\n",
       "    <tr>\n",
       "      <th>...</th>\n",
       "      <td>...</td>\n",
       "      <td>...</td>\n",
       "      <td>...</td>\n",
       "      <td>...</td>\n",
       "      <td>...</td>\n",
       "      <td>...</td>\n",
       "      <td>...</td>\n",
       "      <td>...</td>\n",
       "      <td>...</td>\n",
       "      <td>...</td>\n",
       "    </tr>\n",
       "    <tr>\n",
       "      <th>482</th>\n",
       "      <td>Swift Dzire</td>\n",
       "      <td>Manual</td>\n",
       "      <td>₹4,55,599</td>\n",
       "      <td>88,286 km</td>\n",
       "      <td>1st Owner</td>\n",
       "      <td>Diesel</td>\n",
       "      <td>https://www.cars24.com/buy-used-maruti-swift-d...</td>\n",
       "      <td>2013</td>\n",
       "      <td>Maruti</td>\n",
       "      <td>Pune</td>\n",
       "    </tr>\n",
       "    <tr>\n",
       "      <th>483</th>\n",
       "      <td>Creta</td>\n",
       "      <td>Manual</td>\n",
       "      <td>₹7,69,599</td>\n",
       "      <td>48,656 km</td>\n",
       "      <td>1st Owner</td>\n",
       "      <td>Petrol</td>\n",
       "      <td>https://www.cars24.com/buy-used-hyundai-creta-...</td>\n",
       "      <td>2016</td>\n",
       "      <td>Hyundai</td>\n",
       "      <td>Pune</td>\n",
       "    </tr>\n",
       "    <tr>\n",
       "      <th>484</th>\n",
       "      <td>Duster</td>\n",
       "      <td>Manual</td>\n",
       "      <td>₹4,97,599</td>\n",
       "      <td>1,72,680 km</td>\n",
       "      <td>1st Owner</td>\n",
       "      <td>Diesel</td>\n",
       "      <td>https://www.cars24.com/buy-used-renault-duster...</td>\n",
       "      <td>2015</td>\n",
       "      <td>Renault</td>\n",
       "      <td>Pune</td>\n",
       "    </tr>\n",
       "    <tr>\n",
       "      <th>485</th>\n",
       "      <td>Jetta</td>\n",
       "      <td>Automatic</td>\n",
       "      <td>₹9,43,699</td>\n",
       "      <td>92,831 km</td>\n",
       "      <td>1st Owner</td>\n",
       "      <td>Diesel</td>\n",
       "      <td>https://www.cars24.com/buy-used-volkswagen-jet...</td>\n",
       "      <td>2015</td>\n",
       "      <td>Volkswagen</td>\n",
       "      <td>Pune</td>\n",
       "    </tr>\n",
       "    <tr>\n",
       "      <th>486</th>\n",
       "      <td>Vitara Brezza</td>\n",
       "      <td>Manual</td>\n",
       "      <td>₹9,42,399</td>\n",
       "      <td>73,930 km</td>\n",
       "      <td>1st Owner</td>\n",
       "      <td>Diesel</td>\n",
       "      <td>https://www.cars24.com/buy-used-maruti-vitara-...</td>\n",
       "      <td>2018</td>\n",
       "      <td>Maruti</td>\n",
       "      <td>Pune</td>\n",
       "    </tr>\n",
       "  </tbody>\n",
       "</table>\n",
       "<p>487 rows × 10 columns</p>\n",
       "</div>"
      ],
      "text/plain": [
       "           Car Name  Car model  Car Price           KM      Owner Car Type  \\\n",
       "0         MAGNITE         None  ₹9,63,799    16,049 km  1st Owner   Petrol   \n",
       "1           Vento       Manual  ₹5,13,399    41,569 km  1st Owner   Petrol   \n",
       "2           Tiago       Manual  ₹6,80,399     8,118 km  1st Owner   Petrol   \n",
       "3          Duster       Manual  ₹6,76,799    63,143 km  1st Owner   Diesel   \n",
       "4            Alto       Manual  ₹3,95,099     2,530 km  1st Owner   Petrol   \n",
       "..              ...        ...        ...          ...        ...      ...   \n",
       "482    Swift Dzire      Manual  ₹4,55,599    88,286 km  1st Owner   Diesel   \n",
       "483         Creta       Manual  ₹7,69,599    48,656 km  1st Owner   Petrol   \n",
       "484        Duster       Manual  ₹4,97,599  1,72,680 km  1st Owner   Diesel   \n",
       "485         Jetta    Automatic  ₹9,43,699    92,831 km  1st Owner   Diesel   \n",
       "486  Vitara Brezza      Manual  ₹9,42,399    73,930 km  1st Owner   Diesel   \n",
       "\n",
       "                                              Car link  Year       Brand  City  \n",
       "0    https://www.cars24.com/buy-used-nissan-magnite...  2021      Nissan  Pune  \n",
       "1    https://www.cars24.com/buy-used-volkswagen-ven...  2014  Volkswagen  Pune  \n",
       "2    https://www.cars24.com/buy-used-tata-tiago-202...  2020        Tata  Pune  \n",
       "3    https://www.cars24.com/buy-used-renault-duster...  2015     Renault  Pune  \n",
       "4    https://www.cars24.com/buy-used-maruti-alto-20...  2020      Maruti  Pune  \n",
       "..                                                 ...   ...         ...   ...  \n",
       "482  https://www.cars24.com/buy-used-maruti-swift-d...  2013      Maruti  Pune  \n",
       "483  https://www.cars24.com/buy-used-hyundai-creta-...  2016     Hyundai  Pune  \n",
       "484  https://www.cars24.com/buy-used-renault-duster...  2015     Renault  Pune  \n",
       "485  https://www.cars24.com/buy-used-volkswagen-jet...  2015  Volkswagen  Pune  \n",
       "486  https://www.cars24.com/buy-used-maruti-vitara-...  2018      Maruti  Pune  \n",
       "\n",
       "[487 rows x 10 columns]"
      ]
     },
     "execution_count": 20,
     "metadata": {},
     "output_type": "execute_result"
    }
   ],
   "source": [
    "df"
   ]
  },
  {
   "cell_type": "markdown",
   "id": "0bea7218",
   "metadata": {},
   "source": [
    "**Re-arranging the order of Columns**"
   ]
  },
  {
   "cell_type": "code",
   "execution_count": 21,
   "id": "8477a262",
   "metadata": {
    "scrolled": false
   },
   "outputs": [],
   "source": [
    "data=df.reindex(columns=['City','Year','Brand','Car Name','Car model','Car Price','KM','Owner','Car Type','Car link'])"
   ]
  },
  {
   "cell_type": "code",
   "execution_count": 22,
   "id": "665b8313",
   "metadata": {},
   "outputs": [
    {
     "data": {
      "text/html": [
       "<div>\n",
       "<style scoped>\n",
       "    .dataframe tbody tr th:only-of-type {\n",
       "        vertical-align: middle;\n",
       "    }\n",
       "\n",
       "    .dataframe tbody tr th {\n",
       "        vertical-align: top;\n",
       "    }\n",
       "\n",
       "    .dataframe thead th {\n",
       "        text-align: right;\n",
       "    }\n",
       "</style>\n",
       "<table border=\"1\" class=\"dataframe\">\n",
       "  <thead>\n",
       "    <tr style=\"text-align: right;\">\n",
       "      <th></th>\n",
       "      <th>City</th>\n",
       "      <th>Year</th>\n",
       "      <th>Brand</th>\n",
       "      <th>Car Name</th>\n",
       "      <th>Car model</th>\n",
       "      <th>Car Price</th>\n",
       "      <th>KM</th>\n",
       "      <th>Owner</th>\n",
       "      <th>Car Type</th>\n",
       "      <th>Car link</th>\n",
       "    </tr>\n",
       "  </thead>\n",
       "  <tbody>\n",
       "    <tr>\n",
       "      <th>0</th>\n",
       "      <td>Pune</td>\n",
       "      <td>2021</td>\n",
       "      <td>Nissan</td>\n",
       "      <td>MAGNITE</td>\n",
       "      <td>None</td>\n",
       "      <td>₹9,63,799</td>\n",
       "      <td>16,049 km</td>\n",
       "      <td>1st Owner</td>\n",
       "      <td>Petrol</td>\n",
       "      <td>https://www.cars24.com/buy-used-nissan-magnite...</td>\n",
       "    </tr>\n",
       "    <tr>\n",
       "      <th>1</th>\n",
       "      <td>Pune</td>\n",
       "      <td>2014</td>\n",
       "      <td>Volkswagen</td>\n",
       "      <td>Vento</td>\n",
       "      <td>Manual</td>\n",
       "      <td>₹5,13,399</td>\n",
       "      <td>41,569 km</td>\n",
       "      <td>1st Owner</td>\n",
       "      <td>Petrol</td>\n",
       "      <td>https://www.cars24.com/buy-used-volkswagen-ven...</td>\n",
       "    </tr>\n",
       "    <tr>\n",
       "      <th>2</th>\n",
       "      <td>Pune</td>\n",
       "      <td>2020</td>\n",
       "      <td>Tata</td>\n",
       "      <td>Tiago</td>\n",
       "      <td>Manual</td>\n",
       "      <td>₹6,80,399</td>\n",
       "      <td>8,118 km</td>\n",
       "      <td>1st Owner</td>\n",
       "      <td>Petrol</td>\n",
       "      <td>https://www.cars24.com/buy-used-tata-tiago-202...</td>\n",
       "    </tr>\n",
       "    <tr>\n",
       "      <th>3</th>\n",
       "      <td>Pune</td>\n",
       "      <td>2015</td>\n",
       "      <td>Renault</td>\n",
       "      <td>Duster</td>\n",
       "      <td>Manual</td>\n",
       "      <td>₹6,76,799</td>\n",
       "      <td>63,143 km</td>\n",
       "      <td>1st Owner</td>\n",
       "      <td>Diesel</td>\n",
       "      <td>https://www.cars24.com/buy-used-renault-duster...</td>\n",
       "    </tr>\n",
       "    <tr>\n",
       "      <th>4</th>\n",
       "      <td>Pune</td>\n",
       "      <td>2020</td>\n",
       "      <td>Maruti</td>\n",
       "      <td>Alto</td>\n",
       "      <td>Manual</td>\n",
       "      <td>₹3,95,099</td>\n",
       "      <td>2,530 km</td>\n",
       "      <td>1st Owner</td>\n",
       "      <td>Petrol</td>\n",
       "      <td>https://www.cars24.com/buy-used-maruti-alto-20...</td>\n",
       "    </tr>\n",
       "  </tbody>\n",
       "</table>\n",
       "</div>"
      ],
      "text/plain": [
       "   City  Year       Brand   Car Name Car model  Car Price         KM  \\\n",
       "0  Pune  2021      Nissan  MAGNITE        None  ₹9,63,799  16,049 km   \n",
       "1  Pune  2014  Volkswagen    Vento      Manual  ₹5,13,399  41,569 km   \n",
       "2  Pune  2020        Tata    Tiago      Manual  ₹6,80,399   8,118 km   \n",
       "3  Pune  2015     Renault   Duster      Manual  ₹6,76,799  63,143 km   \n",
       "4  Pune  2020      Maruti     Alto      Manual  ₹3,95,099   2,530 km   \n",
       "\n",
       "       Owner Car Type                                           Car link  \n",
       "0  1st Owner   Petrol  https://www.cars24.com/buy-used-nissan-magnite...  \n",
       "1  1st Owner   Petrol  https://www.cars24.com/buy-used-volkswagen-ven...  \n",
       "2  1st Owner   Petrol  https://www.cars24.com/buy-used-tata-tiago-202...  \n",
       "3  1st Owner   Diesel  https://www.cars24.com/buy-used-renault-duster...  \n",
       "4  1st Owner   Petrol  https://www.cars24.com/buy-used-maruti-alto-20...  "
      ]
     },
     "execution_count": 22,
     "metadata": {},
     "output_type": "execute_result"
    }
   ],
   "source": [
    "data.head()"
   ]
  },
  {
   "cell_type": "markdown",
   "id": "6d6c2814",
   "metadata": {},
   "source": [
    "**Storing the data as CSV in Given Path**"
   ]
  },
  {
   "cell_type": "code",
   "execution_count": 23,
   "id": "dd780771",
   "metadata": {
    "scrolled": true
   },
   "outputs": [],
   "source": [
    "path=\"D:\\Malhar H Jadhav\\Zep Intern\\Task 2\\Code and data\\Data\\Cars24_Pune.csv\"\n",
    "data.to_csv(path, index=False)"
   ]
  },
  {
   "cell_type": "code",
   "execution_count": null,
   "id": "adb62bb4",
   "metadata": {},
   "outputs": [],
   "source": []
  }
 ],
 "metadata": {
  "kernelspec": {
   "display_name": "Python 3 (ipykernel)",
   "language": "python",
   "name": "python3"
  },
  "language_info": {
   "codemirror_mode": {
    "name": "ipython",
    "version": 3
   },
   "file_extension": ".py",
   "mimetype": "text/x-python",
   "name": "python",
   "nbconvert_exporter": "python",
   "pygments_lexer": "ipython3",
   "version": "3.9.7"
  }
 },
 "nbformat": 4,
 "nbformat_minor": 5
}
