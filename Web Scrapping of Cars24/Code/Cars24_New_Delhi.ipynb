{
 "cells": [
  {
   "cell_type": "markdown",
   "id": "a0647529",
   "metadata": {},
   "source": [
    "<h3>Importing the Libraries Required </h3>"
   ]
  },
  {
   "cell_type": "code",
   "execution_count": 1,
   "id": "0c5c40ca",
   "metadata": {},
   "outputs": [],
   "source": [
    "import urllib\n",
    "import time\n",
    "import json\n",
    "import numpy as np\n",
    "import pandas as pd\n",
    "from tqdm import tqdm\n",
    "from time import sleep\n",
    "from selenium import webdriver\n",
    "from selenium.webdriver.common.by import By\n",
    "from selenium.webdriver.support.ui import WebDriverWait\n",
    "from selenium.webdriver.support import expected_conditions as EC\n",
    "from selenium.common.exceptions import TimeoutException\n",
    "from bs4 import BeautifulSoup\n",
    "from selenium.common.exceptions import ElementClickInterceptedException\n",
    "from selenium.common.exceptions import NoSuchElementException\n"
   ]
  },
  {
   "cell_type": "markdown",
   "id": "e57b890a",
   "metadata": {},
   "source": [
    "<h3>Using Selenium For Auto Scrolling the Web-Page and Extracting the The Page Source</h3>"
   ]
  },
  {
   "cell_type": "code",
   "execution_count": 2,
   "id": "6c96f183",
   "metadata": {
    "scrolled": true
   },
   "outputs": [
    {
     "name": "stderr",
     "output_type": "stream",
     "text": [
      "C:\\Users\\jadha\\AppData\\Local\\Temp/ipykernel_15208/1452098202.py:1: DeprecationWarning: executable_path has been deprecated, please pass in a Service object\n",
      "  driver = webdriver.Chrome(executable_path=r'D:\\\\Malhar H Jadhav\\\\Devlopment\\\\chromedriver_win32\\\\chromedriver.exe')\n"
     ]
    }
   ],
   "source": [
    "driver = webdriver.Chrome(executable_path=r'D:\\\\Malhar H Jadhav\\\\Devlopment\\\\chromedriver_win32\\\\chromedriver.exe')\n",
    "driver.wait = WebDriverWait(driver, 5)\n",
    "driver.maximize_window()\n",
    "driver.get(\"https://www.cars24.com/buy-used-car?sort=P&storeCityId=2&pinId=110001\")\n",
    "time.sleep(7)\n",
    "\n",
    "\n",
    "height = driver.execute_script(\"return document.documentElement.scrollHeight\")\n",
    "lastheight = 0\n",
    "while True:\n",
    "    if lastheight == height:\n",
    "        break\n",
    "    lastheight = height\n",
    "    driver.execute_script(\"window.scrollTo(0, \" + str(height) + \");\")\n",
    "    time.sleep(10)\n",
    "    height = driver.execute_script(\"return document.documentElement.scrollHeight\")\n",
    "    \n",
    "    \n",
    "# Using BeautifulSoup To Store the Page Source in Object Called Soup\n",
    "\n",
    "soup = BeautifulSoup(driver.page_source)\n",
    "driver.quit()"
   ]
  },
  {
   "cell_type": "markdown",
   "id": "9dbcafd3",
   "metadata": {},
   "source": [
    "<h3>Storing the page source in object called Soup and viewing the text</h3>"
   ]
  },
  {
   "cell_type": "code",
   "execution_count": 3,
   "id": "fe63b43f",
   "metadata": {},
   "outputs": [
    {
     "data": {
      "text/plain": [
       "\"\\n\\n\\n\\n\\n\\n\\n\\n\\n\\n\\nUsed Cars in New Delhi - Second Hand Cars in New Delhi for Sale\\nNew Delhi  Popular CitiesUsed cars in BengaluruPopular CarsUsed Hyundai carsUsed Renault carsUsed Mahindra carsUsed Toyota carsUsed Audi carsUsed Honda carsUsed Maruti carsUsed Tata carsUsed Ford carsUsed Skoda carsAll used cars in BengaluruUsed cars in ChennaiPopular CarsUsed Hyundai carsUsed Renault carsUsed Mahindra carsUsed Toyota carsUsed Audi carsUsed Honda carsUsed Maruti carsUsed Tata carsUsed Ford carsUsed Skoda carsAll used cars in ChennaiUsed cars in New DelhiPopular CarsUsed Hyundai carsUsed Renault carsUsed Mahindra carsUsed Toyota carsUsed Audi carsUsed Honda carsUsed Maruti carsUsed Tata carsUsed Ford carsUsed Skoda carsAll used cars in New DelhiUsed cars in MumbaiPopular CarsUsed Hyundai carsUsed Renault carsUsed Mahindra carsUsed Toyota carsUsed Audi carsUsed Honda carsUsed Maruti carsUsed Tata carsUsed Ford carsUsed Skoda carsAll used cars in MumbaiUsed cars in PunePopular CarsUsed Hyundai carsUsed Renault carsUsed Mahindra carsUsed Toyota carsUsed Audi carsUsed Honda carsUsed Maruti carsUsed Tata carsUsed Ford carsUsed Skoda carsAll used cars in PuneUsed cars in HyderabadPopular CarsUsed Hyundai carsUsed Renault carsUsed Mahindra carsUsed Toyota carsUsed Audi carsUsed Honda carsUsed Maruti carsUsed Tata carsUsed Ford carsUsed Skoda carsAll used cars in HyderabadUsed cars in KolkataPopular CarsUsed Hyundai carsUsed Renault carsUsed Mahindra carsUsed Toyota carsUsed Audi carsUsed Honda carsUsed Maruti carsUsed Tata carsUsed Ford carsUsed Skoda carsAll used cars in KolkataUsed cars in AhmedabadPopular CarsUsed Hyundai carsUsed Renault carsUsed Mahindra carsUsed Toyota carsUsed Audi carsUsed Honda carsUsed Maruti carsUsed Tata carsUsed Ford carsUsed Skoda carsAll used cars in AhmedabadUsed cars in JaipurPopular CarsUsed Hyundai carsUsed Renault carsUsed Mahindra carsUsed Toyota carsUsed Audi carsUsed Honda carsUsed Maruti carsUsed Tata carsUsed Ford carsUsed Skoda carsAll used cars in JaipurUsed cars in ChandigarhPopular CarsUsed Hyundai carsUsed Renault carsUsed Mahindra carsUsed Toyota carsUsed Audi carsUsed Honda carsUsed Maruti carsUsed Tata carsUsed Ford carsUsed Skoda carsAll used cars in ChandigarhBuy used carSell used carLoginRC Transfers StatusFAQBecome a partnerBuy Car: 9 AM - 9 PM1800 258 5656HomeUsed CarsNew DelhiFind your dream car with usSort By:Best Match  PriceModel YearKMs DrivenMake & ModelRTOMore FiltersUsed Cars in New Delhi2014 Mercedes Benz C ClassC 200 AVANTGARDE Automatic36,806 km1st OwnerPetrol₹47,454/month₹21,33,299Zero downpayment2013 Mercedes Benz E ClassE 250 CDI AVANTGARDE Automatic42,881 km2nd OwnerDiesel₹32,379/month₹14,55,599Zero downpayment2021 Renault Kwid1.0 RXT Opt AT Automatic3,689 km1st OwnerPetrol₹11,863/month₹5,33,299Zero downpayment2021 Renault Kwid1.0 RXT Opt Manual6,962 km1st OwnerPetrol₹11,127/month₹5,00,199Zero downpayment2017 Jeep Compass2.0 LIMITED Manual55,376 km1st OwnerDiesel₹29,320/month₹13,18,099Zero downpaymentFilter By Popular BrandMarutiHyundaiHondaTataToyota2016 Honda Jazz1.2 SV PETROL Manual30,237 km2nd OwnerPetrol₹10,606/month₹4,76,799Zero downpayment2016 Maruti Wagon R 1.0VXI AMT Automatic21,261 km1st OwnerPetrol₹9,650/month₹4,33,799Zero downpayment2020 Maruti BalenoZETA 1.2 K12 AMT Automatic16,815 km1st OwnerPetrol₹16,423/month₹7,38,299Zero downpayment2020 Honda CityZX CVT Automatic9,928 km1st OwnerPetrol₹32,396/month₹14,56,371Zero downpayment2016 Ford Ecosport1.5 TITANIUM TI VCT Manual46,533 km2nd OwnerPetrol₹14,439/month₹6,49,099Zero downpayment2018 Honda Amaze1.2 SAT I VTEC Automatic29,226 km1st OwnerPetrol₹15,709/month₹7,06,199Zero downpaymentFilter By BudgetCars under 2 lakhCars between 2 lakh - 5 lakhCars between 5 lakh - 10 lakhCars above 10 lakh2018 Hyundai Elite i20Magna Executive Diesel Manual30,545 km1st OwnerDiesel₹14,888/month₹6,69,299Zero downpayment2012 Maruti SwiftZXI Manual95,779 km1st OwnerPetrol₹8,531/month₹3,83,499Zero downpayment2018 Hyundai Elite i20Magna Executive 1.2 Manual44,805 km1st OwnerPetrol₹12,504/month₹5,62,119Zero downpayment2017 Renault KwidRXT Manual52,904 km1st OwnerPetrol₹7,265/month₹3,26,599Zero downpayment2013 Hyundai i20SPORTZ 1.4 CRDI Manual78,468 km1st OwnerDiesel₹7,881/month₹3,54,299Zero downpayment2018 Ford Ecosport1.5 TITANIUM TI VCT Manual28,648 km1st OwnerPetrol₹17,695/month₹7,95,499Zero downpaymentFilter By Fuel TypePetrolDieselCNGLPGElectricHybrid2020 Honda CityVX CVT PETROL Automatic31,686 km1st OwnerPetrol₹28,084/month₹12,62,499Zero downpayment2020 Maruti BalenoDELTA 1.2 K12 Manual21,463 km1st OwnerPetrol₹15,442/month₹6,94,199Zero downpayment2014 Toyota FortunerSPORTIVO 4X2 MT Manual1,75,407 km1st OwnerDiesel₹26,958/month₹12,11,899Zero downpayment2018 Ford Ecosport1.5 TDCI TITANIUM PLUS Manual32,303 km1st OwnerDiesel₹19,095/month₹8,58,399Zero downpayment2014 Audi Q32.0 TDI MT S EDITION Manual93,819 km1st OwnerDiesel₹25,287/month₹11,36,799Zero downpayment2019 Maruti Alto K10VXI Manual13,274 km1st OwnerPetrol₹9,140/month₹4,10,899Zero downpaymentFilter By Body TypeHatchbackSedanSUVLuxury SedanLuxury SUV2016 Maruti Vitara BrezzaZDI PLUS Manual36,642 km1st OwnerDiesel₹15,847/month₹7,12,399Zero downpayment2020 Maruti S PRESSOVXI Manual11,396 km1st OwnerPetrol₹10,146/month₹4,56,099Zero downpayment2015 Audi A62.0 TDI TECHNOLOGY Automatic77,157 km2nd OwnerDiesel₹44,391/month₹19,95,599Zero downpayment2015 Audi A635 TDI S LINE Automatic39,292 km2nd OwnerDiesel₹42,309/month₹19,01,999Zero downpayment12-Months Free Warranty!Free 12 months warranty on all cars to safeguard you from unforeseen repair and maintenance costsKNOW MORE2017 Hyundai Elite i201.4 CRDI ASTA (O) Manual85,704 km1st OwnerDiesel₹14,123/month₹6,34,899Zero downpayment2014 Hyundai Elite i20ASTA 1.4 CRDI Manual72,470 km1st OwnerDiesel₹10,224/month₹4,59,599Zero downpayment2017 Ford Ecosport1.5 TREND+ TDCI Manual78,596 km1st OwnerDiesel₹14,308/month₹6,43,199Zero downpayment2013 Maruti SwiftVDI Manual1,03,732 km2nd OwnerDiesel₹7,416/month₹3,33,399Zero downpayment2015 Toyota Fortuner3.0 AT 4X2 Automatic90,086 km2nd OwnerDiesel₹35,097/month₹15,77,799Zero downpayment2018 Honda Jazz1.2 SV MT Manual23,733 km2nd OwnerPetrol₹13,376/month₹6,01,299Zero downpayment2019 Hyundai Grand i10MAGNA 1.2 VTVT Manual16,327 km1st OwnerPetrol₹11,371/month₹5,11,199Zero downpayment2020 Maruti BalenoSIGMA 1.2 K12 Manual35,669 km1st OwnerPetrol₹12,426/month₹5,58,599Zero downpayment2014 Hyundai i10MAGNA 1.1 IRDE2 Manual32,525 km1st OwnerPetrol₹7,574/month₹3,40,499Zero downpayment2020 Mahindra XUV500W9 AT Automatic19,362 km1st OwnerDiesel₹38,743/month₹17,41,699Zero downpayment2021 Maruti AltoLXI Manual2,303 km1st OwnerPetrol₹9,409/month₹4,22,999Zero downpayment2017 Hyundai Elite i20ASTA 1.2 Manual35,255 km1st OwnerPetrol₹13,578/month₹6,10,399Zero downpayment2015 Honda Brio1.2 VX AT I VTEC Automatic25,981 km2nd OwnerPetrol₹10,210/month₹4,58,999Zero downpayment2020 Mahindra ScorpioS9 Manual25,596 km1st OwnerDiesel₹35,013/month₹15,73,999Zero downpayment2019 MG HECTORSHARP DCT PETROL Automatic25,758 km1st OwnerPetrol₹37,680/month₹16,93,899Zero downpayment2014 Maruti SwiftVXI Manual61,754 km2nd OwnerPetrol₹8,927/month₹4,01,299Zero downpayment2021 Maruti Vitara BrezzaVXI Manual7,702 km1st OwnerPetrol₹20,716/month₹9,31,299Zero downpayment2017 Hyundai Elite i20ASTA 1.2 DUAL TONE Manual11,042 km2nd OwnerPetrol₹14,365/month₹6,45,799Zero downpayment2018 Hyundai Creta1.4 E PLUS CRDI Manual65,694 km1st OwnerDiesel₹18,352/month₹8,24,999Zero downpayment2018 Maruti BalenoDELTA 1.2 K12 Manual31,879 km1st OwnerPetrol₹13,026/month₹5,85,599Zero downpayment2015 Hyundai Elite i20SPORTZ 1.2 Manual48,732 km2nd OwnerPetrol₹11,398/month₹5,12,399Zero downpayment2017 Honda CityV MT PETROL Manual26,236 km1st OwnerPetrol₹17,328/month₹7,78,999Zero downpayment2013 Hyundai i20ERA 1.4 CRDI Manual32,925 km1st OwnerDiesel₹7,287/month₹3,27,599Zero downpayment2015 Hyundai Elite i20MAGNA 1.4 CRDI Manual53,672 km2nd OwnerDiesel₹9,529/month₹4,28,399Zero downpayment2018 Maruti DzireVXI Manual19,063 km2nd OwnerPetrol₹14,292/month₹6,42,499Zero downpayment2019 Maruti Vitara BrezzaVDI Manual30,594 km1st OwnerDiesel₹17,649/month₹7,93,399Zero downpayment2017 Maruti Alto K10VXI Manual47,808 km1st OwnerPetrol₹7,797/month₹3,50,499Zero downpayment2013 Maruti SwiftLXI Manual99,646 km2nd OwnerPetrol₹7,472/month₹3,35,899Zero downpayment2015 Hyundai Creta1.4 S PLUS Manual51,726 km1st OwnerDiesel₹16,757/month₹7,53,299Zero downpayment2013 Hyundai i20SPORTZ 1.4 CRDI Manual57,869 km1st OwnerDiesel₹7,852/month₹3,52,999Zero downpayment2013 Hyundai VernaFLUIDIC 1.6 SX CRDI Manual75,057 km1st OwnerDiesel₹9,536/month₹4,28,699Zero downpayment2015 Ford Ecosport1.5 TREND TDCI Manual79,521 km1st OwnerDiesel₹10,039/month₹4,51,299Zero downpayment2013 Toyota Innova2.5 GX 7 STR BS IV Manual1,21,393 km2nd OwnerDiesel₹13,671/month₹6,14,599Zero downpayment2014 Maruti Swift DzireVDI BS IV Manual87,532 km1st OwnerDiesel₹8,455/month₹3,80,099Zero downpayment2014 Maruti SwiftVDI Manual64,646 km1st OwnerDiesel₹7,772/month₹3,49,399Zero downpayment2014 Toyota Innova2.5 VX 7 STR BS IV Manual93,758 km1st OwnerDiesel₹17,538/month₹7,88,399Zero downpayment2017 Maruti CelerioLXI Manual6,568 km1st OwnerPetrol₹8,779/month₹3,94,655Zero downpayment2019 Jeep Compass2.0 LIMITED Manual46,400 km1st OwnerDiesel₹43,661/month₹19,62,799Zero downpayment2017 Datsun Redi GoS 1.0 Manual51,766 km2nd OwnerPetrol₹5,348/month₹2,40,399Zero downpayment2020 Honda CityV MT PETROL Manual3,627 km1st OwnerPetrol₹25,227/month₹11,34,099Zero downpayment2010 Honda CityS MT PETROL Manual39,307 km1st OwnerPetrol₹9,285/month₹4,17,399Zero downpayment2018 Hyundai Verna1.6 SX (O) CRDI MT Manual48,278 km1st OwnerDiesel₹22,571/month₹10,14,699Zero downpayment2021 Renault KwidRXT Manual6,382 km1st OwnerPetrol₹10,613/month₹4,77,099Zero downpayment2021 Tata TiagoXTA 1.2 PETROL Automatic6,568 km1st OwnerPetrol₹15,807/month₹7,10,599Zero downpayment2018 Honda Jazz1.2 VX AT Automatic45,945 km1st OwnerPetrol₹15,378/month₹6,91,299Zero downpayment2016 Maruti CelerioZXI AMT Automatic65,871 km2nd OwnerPetrol₹8,609/month₹3,86,999Zero downpayment2019 Maruti AltoVXI Manual4,210 km1st OwnerPetrol₹8,940/month₹4,01,899Zero downpayment2013 Hyundai i20SPORTZ 1.4 CRDI Manual64,789 km1st OwnerDiesel₹7,485/month₹3,36,499Zero downpayment2020 Hyundai NEW SANTRO1.1 ERA EXICUTIVE Manual3,544 km2nd OwnerPetrol₹11,758/month₹5,28,599Zero downpayment2014 Maruti SwiftVXI Manual29,335 km2nd OwnerPetrol₹9,231/month₹4,14,999Zero downpayment2015 Maruti CelerioVXI AT Automatic1,22,112 km2nd OwnerPetrol₹8,137/month₹3,65,799Zero downpayment2017 Hyundai Elite i20Magna Executive 1.2 Manual39,262 km1st OwnerPetrol₹11,578/month₹5,20,499Zero downpayment2017 Mahindra XUV500W8 FWD Manual83,356 km2nd OwnerDiesel₹21,857/month₹9,82,599Zero downpayment2016 Ford Ecosport1.5 TITANIUM TI VCT Manual35,037 km1st OwnerPetrol₹15,627/month₹7,02,499Zero downpayment2019 Hyundai NEW SANTROSPORTZ 1.1 Manual17,034 km1st OwnerPetrol₹10,915/month₹4,90,699Zero downpayment2018 Datsun Redi GoT (O) 1.0 LIMITED EDITION 24,994 km1st OwnerPetrol₹6,740/month₹3,02,999Zero downpayment2018 Maruti Alto K10VXI Manual19,270 km2nd OwnerPetrol₹8,041/month₹3,61,499Zero downpayment2019 Maruti Vitara BrezzaVDI Manual40,785 km1st OwnerDiesel₹17,867/month₹8,03,199Zero downpayment2014 Audi A32.0 TDI  PREMIUM Automatic51,934 km1st OwnerDiesel₹28,735/month₹12,91,799Zero downpayment2016 Maruti BalenoZETA 1.2 K12 Manual52,334 km1st OwnerPetrol₹13,075/month₹5,87,799Zero downpayment2014 Maruti SwiftVXI Manual75,514 km1st OwnerPetrol₹9,189/month₹4,13,099Zero downpayment2016 Mahindra ScorpioS10 Manual43,452 km1st OwnerDiesel₹25,906/month₹11,64,599Zero downpayment2018 Maruti Vitara BrezzaVDI Manual49,555 km2nd OwnerDiesel₹16,670/month₹7,49,399Zero downpayment2018 Maruti Alto K10VXI Manual43,335 km1st OwnerPetrol₹7,541/month₹3,38,999Zero downpayment2015 Hyundai Creta1.6 SX (O) CRDI Manual56,027 km1st OwnerDiesel₹19,110/month₹8,59,099Zero downpayment2016 Maruti Vitara BrezzaVDI Manual36,693 km1st OwnerDiesel₹15,135/month₹6,80,399Zero downpayment2017 Hyundai Grand i10Sportz(O) 1.2 MT Manual38,771 km1st OwnerPetrol₹10,864/month₹4,88,399Zero downpayment2018 Ford Ecosport1.5 TDCI TITANIUM PLUS Manual39,714 km1st OwnerDiesel₹19,891/month₹8,94,199Zero downpayment2019 Maruti Vitara BrezzaZDI PLUS Manual53,954 km1st OwnerDiesel₹18,781/month₹8,44,299Zero downpayment2015 Maruti BalenoALPHA DDIS 190 Manual76,165 km2nd OwnerDiesel₹11,334/month₹5,09,505Zero downpayment2016 Maruti Vitara BrezzaVDI Manual38,144 km1st OwnerDiesel₹15,362/month₹6,90,599Zero downpayment2016 Maruti Vitara BrezzaVDI OPT Manual31,295 km1st OwnerDiesel₹15,244/month₹6,85,299Zero downpayment2013 Maruti ErtigaVDI ABS Manual1,61,023 km1st OwnerDiesel₹10,364/month₹4,65,899Zero downpayment2017 Maruti Vitara BrezzaVDI Manual47,655 km1st OwnerDiesel₹16,261/month₹7,30,999Zero downpayment2017 Maruti Vitara BrezzaZDI Manual55,327 km1st OwnerDiesel₹16,127/month₹7,24,999Zero downpayment2017 Maruti Vitara BrezzaZDI PLUS Manual53,384 km1st OwnerDiesel₹16,659/month₹7,48,899Zero downpayment2013 Maruti SwiftVDI Manual82,898 km1st OwnerDiesel₹6,951/month₹3,12,499Zero downpayment2014 Audi Q530 TDI PREMIUM PLUS Automatic32,976 km1st OwnerDiesel₹43,339/month₹19,48,299Zero downpayment2018 Maruti Alto 800LXI Manual54,000 km1st OwnerPetrol₹7,025/month₹3,15,799Zero downpayment2016 Maruti Vitara BrezzaVDI Manual42,160 km1st OwnerDiesel₹15,504/month₹6,96,999Zero downpayment2015 Maruti S CrossALPHA 1.3 Manual46,911 km1st OwnerDiesel₹13,998/month₹6,29,299Zero downpayment2015 Maruti SwiftVDI ABS Manual50,020 km1st OwnerDiesel₹10,059/month₹4,52,199Zero downpayment2013 Hyundai Grand i10SPORTZ 1.1 CRDI Manual50,837 km2nd OwnerDiesel₹7,550/month₹3,39,399Zero downpayment2014 Maruti Swift DzireZDI Manual76,915 km1st OwnerDiesel₹9,772/month₹4,39,299Zero downpayment2016 Maruti CiazVDI+ SHVS Manual88,082 km1st OwnerDiesel₹12,332/month₹5,54,399Zero downpayment2015 Maruti CiazZDI SHVS Manual76,733 km1st OwnerDiesel₹12,559/month₹5,64,599Zero downpayment2015 Hyundai Elite i20SPORTZ 1.4 Manual93,680 km2nd OwnerDiesel₹10,257/month₹4,61,099Zero downpayment2017 Ford Ecosport1.5 TDCI TITANIUM PLUS Manual46,960 km1st OwnerDiesel₹16,904/month₹7,59,899Zero downpayment2015 Hyundai Grand i10SPORTZ 1.1 CRDI Manual73,886 km1st OwnerDiesel₹8,844/month₹3,97,599Zero downpayment2015 Maruti SwiftZDI Manual53,692 km2nd OwnerDiesel₹10,720/month₹4,81,899Zero downpayment2014 Hyundai i20SPORTZ 1.4 CRDI Manual72,830 km1st OwnerDiesel₹8,097/month₹3,63,999Zero downpayment2014 Honda CitySV MT DIESEL Manual86,299 km1st OwnerDiesel₹10,546/month₹4,74,099Zero downpayment2015 Hyundai Elite i20SPORTZ (O) 1.4 Manual96,101 km1st OwnerDiesel₹10,935/month₹4,91,599Zero downpayment2014 Ford Ecosport1.5TITANIUM TDCI Manual78,344 km1st OwnerDiesel₹9,594/month₹4,31,299Zero downpayment2016 Maruti Vitara BrezzaZDI PLUS Manual57,582 km1st OwnerDiesel₹15,273/month₹6,86,599Zero downpayment2017 Maruti Vitara BrezzaVDI OPT Manual67,111 km2nd OwnerDiesel₹14,859/month₹6,67,988Zero downpayment2014 Maruti SwiftVDI Manual59,025 km1st OwnerDiesel₹7,634/month₹3,43,199Zero downpayment2015 Maruti SwiftLDI O Manual68,858 km1st OwnerDiesel₹7,997/month₹3,59,499Zero downpayment2015 Nissan TerranoXL OPT 85 PS Manual57,003 km1st OwnerDiesel₹11,024/month₹4,95,599Zero downpayment2014 Ford Ecosport1.5TITANIUM TDCI Manual50,969 km2nd OwnerDiesel₹9,974/month₹4,48,399Zero downpayment2016 Maruti BalenoDELTA DDIS 190 Manual55,639 km1st OwnerDiesel₹11,932/month₹5,36,399Zero downpayment2016 Maruti Vitara BrezzaZDI PLUS Manual72,145 km1st OwnerDiesel₹15,231/month₹6,84,699Zero downpayment2014 Maruti SwiftVDI Manual45,784 km1st OwnerDiesel₹8,751/month₹3,93,399Zero downpayment2018 Maruti Vitara BrezzaVDI Manual15,957 km1st OwnerDiesel₹17,159/month₹7,71,399Zero downpayment2015 Maruti SwiftVDI ABS Manual92,528 km1st OwnerDiesel₹8,555/month₹3,84,599Zero downpayment2017 Ford Ecosport1.5TITANIUM TDCI Manual85,698 km1st OwnerDiesel₹13,518/month₹6,07,699Zero downpayment2015 Maruti SwiftVDI ABS Manual86,812 km1st OwnerDiesel₹9,714/month₹4,36,699Zero downpayment2015 Maruti SwiftVDI ABS Manual83,576 km1st OwnerDiesel₹9,703/month₹4,36,199Zero downpayment2014 Maruti SwiftZDI Manual92,143 km1st OwnerDiesel₹8,753/month₹3,93,499Zero downpayment2017 Maruti S CrossALPHA SHVS Manual96,675 km2nd OwnerDiesel₹17,286/month₹7,77,099Zero downpayment2014 Toyota Innova2.5 VX 8 STR BS IV Manual1,36,746 km1st OwnerDiesel₹21,488/month₹9,65,999Zero downpayment2014 Toyota Innova2.5 VX 8 STR BS IV Manual70,007 km1st OwnerDiesel₹22,022/month₹9,89,999Zero downpayment2020 KIA SELTOSHTK PLUS 1.5 PETROL Manual12,981 km2nd OwnerPetrol₹25,699/month₹11,55,299Zero downpayment2020 Maruti New  Wagon-RLXI 1.0 L Manual11,731 km3rd OwnerPetrol₹10,099/month₹4,53,999Zero downpayment2013 Jaguar XF2.2 DIESEL Automatic28,289 km2nd OwnerDiesel₹36,612/month₹16,45,899Zero downpayment2019 Hyundai Elite i201.2 MAGNA PLUS VTVT Manual22,638 km2nd OwnerPetrol₹13,745/month₹6,17,899Zero downpayment2011 Hyundai i10SPORTZ 1.2 KAPPA2 Manual66,782 km2nd OwnerPetrol₹6,420/month₹2,88,599Zero downpayment2018 Renault KwidRXL Manual20,830 km2nd OwnerPetrol₹7,092/month₹3,18,799Zero downpayment2016 Ford Ecosport1.5 TITANIUM TI VCT AT Automatic41,253 km1st OwnerPetrol₹15,222/month₹6,84,299Zero downpayment2019 Mahindra XUV500W9 Manual37,503 km1st OwnerDiesel₹31,327/month₹14,08,299Zero downpayment2018 Maruti CelerioVXI Manual12,225 km1st OwnerPetrol₹10,866/month₹4,88,499Zero downpayment2020 MG HECTORSHARP DCT PETROL Automatic8,868 km1st OwnerPetrol₹37,457/month₹16,83,899Zero downpayment2020 Hyundai CretaE Manual21,031 km1st OwnerDiesel₹26,702/month₹12,00,399Zero downpayment2017 Renault KwidRXT Manual30,876 km1st OwnerPetrol₹7,588/month₹3,41,099Zero downpayment2018 Honda Amaze1.2 VXMT I VTEC Manual23,859 km1st OwnerPetrol₹15,422/month₹6,93,299Zero downpayment2015 Hyundai Grand i10SPORTZ 1.2 KAPPA VTVT Manual54,106 km1st OwnerPetrol₹9,087/month₹4,08,499Zero downpayment2019 Maruti BalenoDELTA 1.2 K12 Manual26,212 km1st OwnerPetrol₹15,331/month₹6,89,199Zero downpayment2017 Maruti DzireVXI Manual23,319 km1st OwnerPetrol₹14,279/month₹6,41,899Zero downpayment2015 Hyundai XcentBASE 1.1 CRDI Manual69,491 km2nd OwnerDiesel₹6,624/month₹2,97,799Zero downpayment2018 Ford Ecosport1.5 TREND TI VCT Manual75,389 km2nd OwnerPetrol + CNG₹14,145/month₹6,35,899Zero downpayment2016 Ford Ecosport1.5 TITANIUM TI VCT Manual8,351 km1st OwnerPetrol₹15,237/month₹6,84,999Zero downpayment2019 Ford Ecosport1.5 TITANIUM TI VCT Manual11,114 km1st OwnerPetrol₹19,152/month₹8,60,999Zero downpayment2016 Hyundai Grand i10ASTA 1.2 KAPPA VTVT Manual45,605 km1st OwnerPetrol₹10,526/month₹4,73,199Zero downpayment2014 Mahindra XUV500W6 4X2 Manual1,67,105 km1st OwnerDiesel₹11,062/month₹4,97,299Zero downpayment2017 Hyundai Creta1.4 S CRDI Manual85,928 km1st OwnerDiesel₹17,426/month₹7,83,399Zero downpayment2016 Maruti Swift DzireVDI ABS Manual79,688 km2nd OwnerDiesel₹11,164/month₹5,01,899Zero downpayment2014 Honda CityE MT DIESEL Manual1,37,612 km2nd OwnerDiesel₹8,811/month₹3,96,099Zero downpayment2014 Hyundai Elite i20MAGNA 1.4 CRDI Manual39,101 km1st OwnerDiesel₹9,794/month₹4,40,299Zero downpayment2013 Maruti SwiftVDI Manual30,338 km1st OwnerDiesel₹7,565/month₹3,40,099Zero downpayment2014 Maruti Swift DzireZDI Manual25,744 km1st OwnerDiesel₹10,459/month₹4,70,199Zero downpayment2013 Maruti SwiftVDI Manual23,952 km1st OwnerDiesel₹7,632/month₹3,43,099Zero downpayment2014 Ford Ecosport1.5 TREND TDCI Manual1,02,593 km1st OwnerDiesel₹8,671/month₹3,89,799Zero downpayment2015 Maruti Swift DzireLDI BS IV Manual75,826 km1st OwnerDiesel₹8,738/month₹3,92,799Zero downpayment2015 Ford Figo Aspire1.5 AMBIENTE DIESEL Manual95,302 km1st OwnerDiesel₹8,428/month₹3,78,899Zero downpayment2015 Hyundai Creta1.6 SX CRDI Manual1,18,048 km1st OwnerDiesel₹16,000/month₹7,19,299Zero downpayment2013 Maruti SwiftZDI Manual24,700 km1st OwnerDiesel₹7,872/month₹3,53,899Zero downpayment2015 Maruti Wagon R 1.0VXI AMT Automatic35,137 km1st OwnerPetrol₹8,933/month₹4,01,599Zero downpayment2020 Honda CityVX MT PETROL Manual6,629 km1st OwnerPetrol₹29,672/month₹13,33,899Zero downpayment2021 Renault TRIBER1.0 RXT Manual7,950 km1st OwnerPetrol₹14,521/month₹6,52,799Zero downpayment2021 Tata NEXONXZ+ 1.5 Manual6,247 km1st OwnerDiesel₹29,923/month₹13,45,199Zero downpayment2010 Maruti Wagon R 1.0LXI Manual41,971 km1st OwnerPetrol₹5,801/month₹2,60,799Zero downpayment2021 Renault KigerRXZ 1.0 Easy R Petrol 2,747 km1st OwnerPetrol₹21,057/month₹9,46,599Zero downpayment2014 Audi A335TDI PREMIUM Automatic34,088 km2nd OwnerDiesel₹31,349/month₹14,09,299Zero downpayment2018 Maruti S CrossALPHA SHVS Manual55,921 km1st OwnerDiesel₹21,544/month₹9,68,499Zero downpayment2021 Renault Kwid1.0 RXT Opt AT Automatic5,233 km1st OwnerPetrol₹11,894/month₹5,34,699Zero downpayment2014 Toyota Innova2.5 VX 8 STR BS IV Manual82,295 km1st OwnerDiesel₹21,450/month₹9,64,299Zero downpayment2020 Hyundai Grand i10MAGNA 1.2 VTVT Manual13,223 km2nd OwnerPetrol₹13,175/month₹5,92,299Zero downpayment2018 Honda CityV AT Automatic32,309 km1st OwnerPetrol₹20,612/month₹9,26,599Zero downpayment2021 Maruti Vitara BrezzaVXI Manual5,287 km1st OwnerPetrol₹20,247/month₹9,10,199Zero downpayment2017 Maruti DzireVXI Manual18,579 km1st OwnerPetrol₹14,043/month₹6,31,299Zero downpayment2016 Honda Brio1.2 S MT I VTEC Manual23,791 km1st OwnerPetrol₹9,625/month₹4,32,699Zero downpayment2021 Datsun Redi GoT (O) Manual2,848 km1st OwnerPetrol₹10,544/month₹4,73,999Zero downpayment2017 Renault KwidRXT Manual15,478 km1st OwnerPetrol₹8,711/month₹3,91,599Zero downpayment2014 Ford Ecosport1.5 TITANIUMTDCI OPT Manual1,56,356 km1st OwnerDiesel₹9,082/month₹4,08,299Zero downpayment2019 MG HECTORSHARP DCT PETROL Automatic12,267 km1st OwnerPetrol₹39,466/month₹17,74,199Zero downpayment2016 Mahindra BoleroPower+ ZLX Manual83,798 km1st OwnerDiesel₹13,066/month₹5,87,399Zero downpayment2017 Jeep Compass2.0 SPORT Manual62,443 km1st OwnerDiesel₹21,630/month₹9,72,399Zero downpayment2017 Hyundai Verna1.6 CRDI SX + AT Automatic49,358 km1st OwnerDiesel₹22,794/month₹10,24,699Zero downpayment2017 Jeep Compass2.0 LIMITED Manual76,959 km1st OwnerDiesel₹26,362/month₹11,85,099Zero downpayment2011 Maruti SwiftLXI Manual23,874 km1st OwnerPetrol₹6,989/month₹3,14,199Zero downpayment2015 Ford Ecosport1.5 TITANIUM TI VCT AT Automatic68,344 km1st OwnerPetrol₹13,809/month₹6,20,799Zero downpayment2016 Maruti BalenoDELTA 1.2 K12 AT Automatic25,949 km2nd OwnerPetrol₹12,039/month₹5,41,199Zero downpayment2016 Hyundai Grand i10MAGNA 1.2 VTVT Manual44,857 km2nd OwnerPetrol₹9,532/month₹4,28,499Zero downpayment2014 Volkswagen PoloHIGHLINE1.2L PETROL Manual39,308 km1st OwnerPetrol₹9,452/month₹4,24,899Zero downpayment2019 Maruti Alto K10VXI Manual7,166 km1st OwnerPetrol₹9,247/month₹4,15,699Zero downpayment2017 Renault KwidRXT Manual24,964 km1st OwnerPetrol₹8,146/month₹3,66,199Zero downpayment2014 Honda Brio1.2 VX AT I VTEC Automatic18,551 km1st OwnerPetrol₹9,812/month₹4,41,099Zero downpayment2019 Honda JazzVX EXCLUSIVE CVT Automatic12,740 km1st OwnerPetrol₹18,799/month₹8,45,099Zero downpayment2014 Toyota EtiosCROSS VD Manual83,786 km2nd OwnerDiesel₹10,571/month₹4,75,199Zero downpayment2013 Toyota Etios LivaD 4D GD Manual1,11,761 km1st OwnerDiesel₹6,244/month₹2,80,699Zero downpayment2020 Tata ALTROZXZ 1.2 Manual10,325 km1st OwnerPetrol₹18,296/month₹8,22,499Zero downpayment2016 Hyundai Elite i20MAGNA 1.2 Manual97,997 km1st OwnerPetrol₹10,003/month₹4,49,699Zero downpayment2015 Maruti Wagon R 1.0LXI Manual49,537 km2nd OwnerPetrol₹7,436/month₹3,34,299Zero downpayment2019 Maruti BalenoDELTA 1.2 K12 Manual25,920 km1st OwnerPetrol₹14,864/month₹6,68,199Zero downpayment2017 Renault KwidRXT Manual32,153 km1st OwnerPetrol₹7,863/month₹3,53,499Zero downpayment2019 Hyundai Creta1.4 S CRDI Manual71,000 km1st OwnerDiesel₹21,722/month₹9,76,499Zero downpayment2020 Tata ALTROZXZ 1.2 Manual25,150 km1st OwnerPetrol₹18,481/month₹8,30,799Zero downpayment2021 Tata TiagoXTA 1.2 PETROL Automatic12,299 km1st OwnerPetrol₹15,222/month₹6,84,299Zero downpayment2013 Hyundai i20SPORTZ 1.4 CRDI Manual1,21,395 km2nd OwnerDiesel₹7,754/month₹3,48,599Zero downpayment2015 Hyundai EonMAGNA PLUS Manual51,358 km1st OwnerPetrol₹7,105/month₹3,19,399Zero downpayment2017 Honda WR-V1.2 i-VTEC S MT Manual17,884 km2nd OwnerPetrol₹15,480/month₹6,95,899Zero downpayment2019 MG HECTORSHARP DCT PETROL Automatic38,644 km1st OwnerPetrol₹37,337/month₹16,78,499Zero downpayment2019 Maruti CelerioZXI OPT Manual43,352 km1st OwnerPetrol₹11,554/month₹5,19,399Zero downpayment2018 Honda Jazz1.2 S MT Manual50,246 km2nd OwnerPetrol₹12,891/month₹5,79,499Zero downpayment2019 Hyundai VENUE1.4 CRDI MT SX Manual34,107 km1st OwnerDiesel₹20,096/month₹9,03,399Zero downpayment2020 Maruti Vitara BrezzaZXI AT SHVS Automatic17,557 km1st OwnerPetrol₹23,668/month₹10,63,999Zero downpayment2020 Hyundai Creta1.6 SX AT CRDI Automatic41,453 km1st OwnerDiesel₹38,409/month₹17,26,699Zero downpayment2019 Maruti BalenoDELTA 1.2 K12 Manual28,999 km1st OwnerPetrol₹15,173/month₹6,82,099Zero downpayment2019 Honda CityV MT PETROL Manual41,091 km1st OwnerPetrol₹20,182/month₹9,07,299Zero downpayment2019 Maruti BalenoSIGMA 1.2 K12 Manual24,693 km2nd OwnerPetrol₹12,435/month₹5,58,999Zero downpayment2015 Hyundai Creta1.6 SX PLUS PETROL Manual69,186 km1st OwnerPetrol₹19,206/month₹8,63,399Zero downpayment2018 Hyundai Creta1.6 VTVT SX AUTO Automatic28,711 km2nd OwnerPetrol₹26,600/month₹11,95,799Zero downpayment2015 Hyundai Creta1.6 S Manual49,566 km1st OwnerPetrol₹19,166/month₹8,61,599Zero downpayment2017 Maruti Alto K10VXI Manual37,332 km1st OwnerPetrol₹7,841/month₹3,52,499Zero downpayment2016 Hyundai Grand i10MAGNA 1.2 VTVT Manual80,447 km1st OwnerPetrol₹9,360/month₹4,20,799Zero downpayment2019 Maruti Alto K10VXI Manual12,404 km1st OwnerPetrol₹9,225/month₹4,14,699Zero downpayment2021 Toyota YARISG MT Manual13,490 km1st OwnerPetrol₹21,017/month₹9,44,799Zero downpayment2021 Maruti S CrossZETA SHVS PETROL Manual10,033 km1st OwnerPetrol₹22,887/month₹10,28,899Zero downpayment2015 Hyundai Creta1.6 S Manual71,301 km1st OwnerPetrol₹18,672/month₹8,39,379Zero downpayment2018 Renault KwidRXT Manual39,207 km1st OwnerPetrol₹7,721/month₹3,47,099Zero downpayment2018 Maruti BalenoALPHA 1.2 K12 AMT Automatic29,117 km1st OwnerPetrol₹16,014/month₹7,19,899Zero downpayment2019 Maruti XL6ALPHA SHVS  MT Manual17,630 km1st OwnerPetrol₹23,962/month₹10,77,199Zero downpayment2021 Maruti AltoLXI OPT Manual5,116 km1st OwnerPetrol₹9,550/month₹4,29,299Zero downpayment2016 Honda Jazz1.2 V MT Manual60,539 km1st OwnerPetrol₹11,810/month₹5,30,899Zero downpayment2016 Ford Ecosport1.5 TITANIUM TI VCT AT Automatic51,657 km2nd OwnerPetrol₹13,954/month₹6,27,299Zero downpayment2016 Hyundai Grand i10SPORTZ 1.2 KAPPA VTVT Manual46,995 km1st OwnerPetrol₹9,937/month₹4,46,699Zero downpayment2018 Maruti BalenoDELTA 1.2 K12 Manual21,569 km1st OwnerPetrol₹13,956/month₹6,27,399Zero downpayment2014 Honda Amaze1.2 EXMT I VTEC Manual85,083 km1st OwnerPetrol₹9,036/month₹4,06,199Zero downpayment2019 Maruti AltoVXI Manual23,209 km1st OwnerPetrol₹8,442/month₹3,79,499Zero downpayment2018 Hyundai Elite i20ASTA 1.2 (O) Manual37,734 km2nd OwnerPetrol₹14,499/month₹6,51,799Zero downpayment2017 Mahindra XUV500W8 FWD Manual27,478 km1st OwnerDiesel₹25,445/month₹11,43,899Zero downpayment2016 Hyundai Grand i10SPORTZ 1.2 KAPPA VTVT Manual66,712 km1st OwnerPetrol₹9,883/month₹4,44,299Zero downpayment2021 Maruti S PRESSOVXI PLUS Manual4,055 km1st OwnerPetrol₹11,247/month₹5,05,599Zero downpayment2015 Hyundai Elite i20MAGNA 1.2 Manual66,477 km1st OwnerPetrol₹10,575/month₹4,75,399Zero downpayment2018 Hyundai Creta1.6 SX CRDI Manual39,473 km1st OwnerDiesel₹24,109/month₹10,83,799Zero downpayment2018 Maruti IGNISDELTA 1.2 K12 AMT Automatic17,025 km1st OwnerPetrol₹12,633/month₹5,67,899Zero downpayment2020 Ford Ecosport1.5 TITANIUM TI VCT AT Automatic11,741 km1st OwnerPetrol₹24,266/month₹10,90,869Zero downpayment2015 Audi Q335 TDI Quattro Automatic51,987 km1st OwnerDiesel₹35,862/month₹16,12,199Zero downpayment2016 Ford Ecosport1.5 TITANIUM TI VCT AT Automatic76,874 km1st OwnerPetrol₹14,964/month₹6,72,699Zero downpayment2016 Audi Q335TDI PREMIUM Automatic86,395 km1st OwnerDiesel₹42,754/month₹19,21,999Zero downpayment2015 Hyundai Creta1.6 S Manual84,649 km2nd OwnerPetrol₹17,153/month₹7,71,099Zero downpayment2018 Ford EcosportTITANIUM PLUS 1.5 TI VCT MT Manual51,332 km1st OwnerPetrol₹18,269/month₹8,21,299Zero downpayment2019 Ford Ecosport1.5 TREND TI VCT Manual43,463 km1st OwnerPetrol₹17,231/month₹7,74,599Zero downpayment2015 Hyundai Elite i20SPORTZ 1.4 Manual94,365 km3rd OwnerDiesel₹8,867/month₹3,98,599Zero downpayment2019 Maruti BalenoZETA 1.2 K12 Manual33,972 km1st OwnerPetrol₹15,791/month₹7,09,899Zero downpayment2019 Maruti Vitara BrezzaVDI Manual24,501 km2nd OwnerDiesel₹17,793/month₹7,99,899Zero downpayment2013 Mahindra XUV500W8 FWD Manual60,607 km1st OwnerDiesel₹11,694/month₹5,25,699Zero downpayment2018 Maruti Vitara BrezzaVDI Manual55,051 km2nd OwnerDiesel₹15,115/month₹6,79,499Zero downpayment2017 Maruti CiazVDI+ SHVS Manual59,411 km1st OwnerDiesel₹14,514/month₹6,52,499Zero downpayment2013 Maruti ErtigaVDI ABS Manual1,19,443 km3rd OwnerDiesel₹9,583/month₹4,30,799Zero downpayment2017 Maruti Vitara BrezzaZDI PLUS DUAL TONE Manual37,831 km1st OwnerDiesel₹19,061/month₹8,56,899Zero downpayment2014 Ford Ecosport1.5TITANIUM TDCI Manual60,625 km2nd OwnerDiesel₹9,336/month₹4,19,699Zero downpayment2017 Maruti BalenoZETA 1.2 K12 AMT Automatic90,438 km1st OwnerPetrol₹13,651/month₹6,13,699Zero downpayment2015 Hyundai Elite i20ASTA 1.4 CRDI Manual1,41,436 km3rd OwnerDiesel₹10,346/month₹4,65,099Zero downpayment2013 Toyota Fortuner3.0 AT 4X2 Automatic1,97,865 km1st OwnerDiesel₹25,190/month₹11,32,399Zero downpayment2018 Maruti Vitara BrezzaZDI + AMT Automatic55,470 km1st OwnerDiesel₹19,653/month₹8,83,499Zero downpayment2020 Maruti S PRESSOVXI Manual15,523 km1st OwnerPetrol₹10,054/month₹4,51,999Zero downpayment2018 Ford Ecosport1.5TITANIUM TDCI Manual38,694 km1st OwnerDiesel₹18,160/month₹8,16,399Zero downpayment2019 Maruti Vitara BrezzaVDI Manual50,601 km1st OwnerDiesel₹16,859/month₹7,57,899Zero downpayment2018 Ford Ecosport1.5 TITANIUM TI VCT Manual22,775 km2nd OwnerPetrol₹16,470/month₹7,40,399Zero downpayment2018 Ford Ecosport1.5TITANIUM TDCI Manual33,029 km1st OwnerDiesel₹18,563/month₹8,34,499Zero downpayment2019 Hyundai VENUES MT Turbo GDI 1.0L Manual31,472 km1st OwnerPetrol₹19,306/month₹8,67,899Zero downpayment2016 Maruti Vitara BrezzaZDI Manual26,769 km1st OwnerDiesel₹15,923/month₹7,15,799Zero downpayment2015 Hyundai Elite i20SPORTZ 1.4 Manual45,710 km1st OwnerDiesel₹10,935/month₹4,91,599Zero downpayment2016 Maruti Vitara BrezzaZDI Manual61,639 km1st OwnerDiesel₹15,925/month₹7,15,899Zero downpayment2016 Maruti Vitara BrezzaZDI PLUS Manual37,191 km1st OwnerDiesel₹15,484/month₹6,96,099Zero downpayment2018 Ford Ecosport1.5TITANIUM TDCI Manual35,898 km1st OwnerDiesel₹16,797/month₹7,55,099Zero downpayment2016 Hyundai Creta1.6 SX CRDI Manual85,153 km1st OwnerDiesel₹17,635/month₹7,92,799Zero downpayment2015 Mahindra XUV500W4 Manual64,575 km1st OwnerDiesel₹13,898/month₹6,24,799Zero downpayment2015 Maruti RitzVDI Manual60,367 km1st OwnerDiesel₹7,995/month₹3,59,399Zero downpayment2015 Ford Ecosport1.5TITANIUM TDCI Manual41,648 km1st OwnerDiesel₹11,625/month₹5,22,599Zero downpayment2016 Mahindra ScorpioS10 Manual74,906 km1st OwnerDiesel₹25,617/month₹11,51,599Zero downpayment2017 Maruti Vitara BrezzaVDI OPT Manual28,444 km2nd OwnerDiesel₹15,847/month₹7,12,399Zero downpayment2015 Maruti CiazVDI (O) SHVS HYBIRD Manual1,22,636 km1st OwnerDiesel₹10,837/month₹4,87,199Zero downpayment2014 Ford Ecosport1.5 TREND TDCI Manual89,391 km1st OwnerDiesel₹9,574/month₹4,30,399Zero downpayment2019 Ford Ecosport1.5TITANIUM TDCI Manual42,698 km1st OwnerDiesel₹19,308/month₹8,67,999Zero downpayment2015 Maruti RitzVDI Manual77,213 km1st OwnerDiesel₹7,881/month₹3,54,299Zero downpayment2015 Maruti SwiftLDI BS IV Manual49,562 km1st OwnerDiesel₹8,675/month₹3,89,999Zero downpayment2014 Hyundai Elite i20ASTA 1.4 CRDI Manual49,579 km1st OwnerDiesel₹10,364/month₹4,65,899Zero downpayment2019 Maruti Vitara BrezzaVDI Manual66,221 km1st OwnerDiesel₹16,623/month₹7,47,299Zero downpayment2014 Maruti Swift DzireVDI BS IV Manual49,750 km1st OwnerDiesel₹9,312/month₹4,18,599Zero downpayment2016 Ford Ecosport1.5 TREND+ TDCI Manual55,500 km1st OwnerDiesel₹11,814/month₹5,31,099Zero downpayment2016 Maruti Vitara BrezzaVDI Manual27,613 km1st OwnerDiesel₹15,522/month₹6,97,799Zero downpayment2014 Hyundai Elite i20SPORTZ (O) 1.4 Manual73,060 km1st OwnerDiesel₹9,963/month₹4,47,899Zero downpayment2016 Maruti CiazZDI+ SHVS RS MT Manual75,956 km2nd OwnerDiesel₹13,460/month₹6,05,099Zero downpayment2013 Mercedes Benz E ClassE 220 CDI ELEGANCE Automatic53,334 km1st OwnerDiesel₹27,705/month₹12,45,499Zero downpayment2018 Ford Ecosport1.5 TDCI TITANIUM PLUS Manual53,046 km1st OwnerDiesel₹18,225/month₹8,19,299Zero downpayment2017 Hyundai Elite i201.4 CRDI ASTA (O) Manual87,049 km1st OwnerDiesel₹14,352/month₹6,45,199Zero downpayment2015 Hyundai Grand i10SPORTZ 1.1 CRDI Manual86,870 km2nd OwnerDiesel₹8,181/month₹3,67,799Zero downpayment2019 Ford Ecosport1.5TITANIUM TDCI Manual51,505 km2nd OwnerDiesel₹18,627/month₹8,37,399Zero downpayment2013 Maruti SwiftVDI Manual77,325 km2nd OwnerDiesel₹7,937/month₹3,56,799Zero downpayment2015 Maruti SwiftVDI Manual64,492 km1st OwnerDiesel₹8,829/month₹3,96,899Zero downpayment2013 Maruti Swift DzireVDI BS IV Manual66,564 km1st OwnerDiesel₹7,790/month₹3,50,199Zero downpayment2016 Maruti Vitara BrezzaZDI Manual44,409 km1st OwnerDiesel₹15,404/month₹6,92,499Zero downpayment2017 Maruti SwiftVDI ABS Manual47,065 km1st OwnerDiesel₹12,521/month₹5,62,899Zero downpayment2014 Toyota Innova2.5 VX 7 STR BS IV Manual2,38,600 km1st OwnerDiesel₹15,542/month₹6,98,699Zero downpayment2016 Maruti SwiftVDI ABS Manual1,06,422 km1st OwnerDiesel₹9,492/month₹4,26,699Zero downpayment2013 Toyota Fortuner3.0 MT 4X2 Manual1,17,699 km2nd OwnerDiesel₹25,439/month₹11,43,599Zero downpayment2015 Maruti SwiftVDI Manual30,766 km1st OwnerDiesel₹9,794/month₹4,40,299Zero downpayment2015 Maruti SwiftLDI O Manual46,556 km1st OwnerDiesel₹8,800/month₹3,95,599Zero downpayment2016 Maruti Vitara BrezzaZDI PLUS Manual63,355 km1st OwnerDiesel₹15,576/month₹7,00,199Zero downpayment2014 Maruti SwiftVDI Manual63,661 km1st OwnerDiesel₹8,228/month₹3,69,899Zero downpayment2015 Hyundai i20 Active1.4 SX Manual58,072 km1st OwnerDiesel₹11,727/month₹5,27,199Zero downpayment2017 Maruti SwiftVDI ABS Manual97,705 km1st OwnerDiesel₹10,871/month₹4,88,699Zero downpayment2016 Maruti Vitara BrezzaVDI Manual57,235 km1st OwnerDiesel₹14,486/month₹6,51,199Zero downpayment2017 Maruti SwiftVDI ABS Manual52,678 km1st OwnerDiesel₹12,250/month₹5,50,699Zero downpayment2013 Maruti SwiftVDI Manual71,378 km1st OwnerDiesel₹7,036/month₹3,16,299Zero downpayment2015 Hyundai Elite i20SPORTZ (O) 1.4 Manual58,342 km2nd OwnerDiesel₹10,793/month₹4,85,199Zero downpayment2015 Maruti SwiftVDI ABS Manual47,397 km1st OwnerDiesel₹9,309/month₹4,18,499Zero downpayment2017 Maruti Vitara BrezzaZDI PLUS Manual82,799 km1st OwnerDiesel₹16,663/month₹7,49,099Zero downpayment2014 Maruti SwiftVDI Manual55,011 km1st OwnerDiesel₹8,128/month₹3,65,399Zero downpayment2013 Ford Ecosport1.5TITANIUM TDCI Manual85,513 km1st OwnerDiesel₹8,831/month₹3,96,999Zero downpayment2015 Maruti SwiftVDI ABS Manual56,690 km1st OwnerDiesel₹9,768/month₹4,39,099Zero downpayment2016 Maruti Vitara BrezzaZDI Manual54,880 km1st OwnerDiesel₹14,439/month₹6,49,099Zero downpayment2015 Maruti SwiftVDI ABS Manual69,864 km1st OwnerDiesel₹9,621/month₹4,32,499Zero downpayment2017 Maruti SwiftVDI Manual97,684 km1st OwnerDiesel₹10,824/month₹4,86,599Zero downpayment2017 Maruti Vitara BrezzaVDI OPT Manual66,066 km1st OwnerDiesel₹14,870/month₹6,68,499Zero downpayment2014 Maruti SwiftVDI Manual39,381 km1st OwnerDiesel₹8,693/month₹3,90,799Zero downpayment2017 Maruti S CrossALPHA SHVS Manual40,129 km1st OwnerDiesel₹20,136/month₹9,05,199Zero downpayment2015 Maruti SwiftVDI ABS Manual28,321 km1st OwnerDiesel₹10,175/month₹4,57,399Zero downpayment2014 Maruti SwiftVDI ABS Manual61,990 km1st OwnerDiesel₹8,335/month₹3,74,699Zero downpayment2014 Maruti SwiftVDI ABS Manual49,443 km2nd OwnerDiesel₹7,965/month₹3,58,054Zero downpayment2014 Maruti SwiftVDI Manual1,07,106 km1st OwnerDiesel₹7,470/month₹3,35,799Zero downpayment2014 Maruti SwiftVDI ABS Manual72,498 km1st OwnerDiesel₹8,726/month₹3,92,299Zero downpayment2015 Maruti S CrossSIGMA 1.3 Manual83,563 km1st OwnerDiesel₹11,427/month₹5,13,699Zero downpayment2014 Maruti SwiftVDI Manual69,784 km1st OwnerDiesel₹8,215/month₹3,69,299Zero downpayment2015 Maruti SwiftVDI ABS Manual57,070 km1st OwnerDiesel₹9,263/month₹4,16,399Zero downpayment2013 Maruti SwiftVDI Manual76,942 km1st OwnerDiesel₹7,556/month₹3,39,699Zero downpayment2016 Maruti Vitara BrezzaVDI OPT Manual98,660 km1st OwnerDiesel₹13,302/month₹5,97,999Zero downpayment2017 Maruti DzireLDI Manual90,789 km1st OwnerDiesel₹11,494/month₹5,16,699Zero downpayment2016 Maruti S CrossZETA 1.3 Manual84,004 km1st OwnerDiesel₹13,146/month₹5,90,999Zero downpayment2013 Maruti SwiftZDI Manual77,659 km1st OwnerDiesel₹8,130/month₹3,65,499Zero downpayment2013 Maruti SwiftVDI Manual68,431 km1st OwnerDiesel₹7,236/month₹3,25,299Zero downpayment2015 Maruti SwiftVDI ABS Manual1,04,680 km1st OwnerDiesel₹9,087/month₹4,08,499Zero downpayment2014 Maruti SwiftVDI Manual71,940 km1st OwnerDiesel₹7,828/month₹3,51,899Zero downpayment2015 Maruti SwiftVDI ABS Manual76,369 km1st OwnerDiesel₹8,778/month₹3,94,599Zero downpayment2013 Maruti SwiftVDI Manual46,222 km1st OwnerDiesel₹7,172/month₹3,22,399Zero downpayment2014 Maruti SwiftVDI Manual82,438 km2nd OwnerDiesel₹7,354/month₹3,30,599Zero downpayment2013 Maruti SwiftVDI Manual64,844 km1st OwnerDiesel₹7,354/month₹3,30,599Zero downpayment2015 Maruti SwiftVDI ABS Manual65,741 km1st OwnerDiesel₹9,792/month₹4,40,199Zero downpayment2014 Maruti SwiftZDI Manual73,330 km1st OwnerDiesel₹9,087/month₹4,08,499Zero downpayment2014 Maruti SwiftVDI Manual33,489 km1st OwnerDiesel₹8,462/month₹3,80,399Zero downpayment2014 Toyota Innova2.5 VX 8 STR BS IV Manual84,262 km1st OwnerDiesel₹21,083/month₹9,47,799Zero downpayment2011 Maruti Wagon R 1.0VXI Manual54,723 km1st OwnerPetrol₹5,919/month₹2,66,099Zero downpayment2021 Hyundai VENUE1.5 SX CRDI MT Manual2,213 km1st OwnerDiesel₹26,994/month₹12,13,499Zero downpayment2021 Toyota URBAN CRUISERMID MT 11,828 km1st OwnerPetrol₹20,596/month₹9,25,899Zero downpayment2014 Nissan MicraXE DIESEL Manual63,433 km1st OwnerDiesel₹6,124/month₹2,75,299Zero downpayment2010 Maruti Wagon R 1.0LXI Manual48,915 km2nd OwnerPetrol₹5,430/month₹2,44,099Zero downpayment2017 Hyundai Creta1.4 E PLUS CRDI Manual78,203 km1st OwnerDiesel₹19,041/month₹8,55,999Zero downpayment2010 Honda CityS MT PETROL Manual34,566 km1st OwnerPetrol₹9,429/month₹4,23,899Zero downpayment2016 Tata TiagoXT 1.2 REVOTRON Manual28,153 km1st OwnerPetrol₹8,706/month₹3,91,399Zero downpayment2013 Hyundai i20ERA 1.4 CRDI Manual29,974 km1st OwnerDiesel₹6,813/month₹3,06,299Zero downpayment2020 Tata NEXONXMA SUNROOF 1.2 RTN Automatic46,877 km1st OwnerPetrol₹21,384/month₹9,61,299Zero downpayment2010 Hyundai i10MAGNA 1.1 IRDE2 Manual60,584 km1st OwnerPetrol₹5,230/month₹2,35,099Zero downpayment2012 Hyundai Santro XingGL PLUS Manual94,113 km1st OwnerPetrol₹4,938/month₹2,21,999Zero downpayment2017 Hyundai Grand i10SPORTS 1.2 VTVT Manual35,853 km1st OwnerPetrol₹10,822/month₹4,86,499Zero downpayment2018 Jeep Compass2.0 LONGITUDE Manual71,745 km1st OwnerDiesel₹28,273/month₹12,70,999Zero downpayment2016 Hyundai VernaFLUIDIC 1.6 VTVT S AT Automatic37,607 km1st OwnerPetrol₹16,069/month₹7,22,399Zero downpayment2018 Hyundai Creta1.4 E PLUS CRDI Manual31,760 km1st OwnerDiesel₹20,047/month₹9,01,199Zero downpayment2016 Hyundai Grand i10SPORTZ 1.2 KAPPA VTVT Manual34,900 km3rd OwnerPetrol₹9,327/month₹4,19,299Zero downpayment2018 Honda Amaze1.2 SAT I VTEC Automatic17,205 km1st OwnerPetrol₹16,025/month₹7,20,399Zero downpayment2017 Tata TiagoXZ 1.2 REVOTRON Manual18,534 km1st OwnerPetrol₹10,150/month₹4,56,299Zero downpayment2019 Maruti BalenoDELTA 1.2 K12 Manual20,135 km1st OwnerPetrol₹14,855/month₹6,67,799Zero downpayment2019 Volkswagen PoloCOMFORTLINE 1.0 PETROL Manual32,756 km1st OwnerPetrol₹12,515/month₹5,62,599Zero downpayment2020 Hyundai GRAND I10 NIOSSPORTZ PETROL Manual12,327 km1st OwnerPetrol₹14,461/month₹6,50,099Zero downpayment2012 Maruti SwiftVDI Manual1,30,194 km1st OwnerDiesel₹6,297/month₹2,83,099Zero downpayment2018 Maruti Vitara BrezzaLDI OPT Manual52,410 km3rd OwnerDiesel₹13,696/month₹6,15,699Zero downpayment2015 Maruti CelerioZXI AMT Automatic72,578 km1st OwnerPetrol₹9,036/month₹4,06,199Zero downpayment2012 Hyundai i20SPORTZ 1.2 VTVT Manual80,408 km1st OwnerPetrol₹7,203/month₹3,23,799Zero downpayment2020 Volkswagen PoloCOMFORTLINE 1.0 PETROL Manual21,886 km1st OwnerPetrol₹15,286/month₹6,87,199Zero downpayment2013 Hyundai i20ERA 1.4 CRDI Manual38,173 km1st OwnerDiesel₹6,942/month₹3,12,099Zero downpayment2019 Renault TRIBER1.0 RXT Manual15,345 km2nd OwnerPetrol₹12,034/month₹5,40,999Zero downpayment2019 Maruti CelerioVXI Manual79,005 km1st OwnerPetrol + CNG₹10,397/month₹4,67,399Zero downpayment2015 Maruti BalenoDELTA 1.2 K12 Manual57,510 km1st OwnerPetrol₹10,973/month₹4,93,299Zero downpayment2017 Hyundai Grand i10MAGNA 1.2 KAPPA VTVT Manual33,881 km1st OwnerPetrol₹10,246/month₹4,60,599Zero downpayment2014 Renault DusterRXL PETROL 104 Manual51,066 km1st OwnerPetrol₹9,696/month₹4,35,899Zero downpayment2013 Hyundai VernaFLUIDIC 1.6 SX CRDI Manual33,302 km1st OwnerDiesel₹10,622/month₹4,77,499Zero downpayment2015 Maruti SwiftVXI Manual59,692 km1st OwnerPetrol₹9,332/month₹4,19,499Zero downpayment2017 Mahindra ScorpioS4+Intelli Hybrid 2WD Manual45,022 km2nd OwnerDiesel₹20,196/month₹9,07,899Zero downpayment2018 Hyundai Grand i10SPORTZ 1.2 KAPPA VTVT Manual36,183 km1st OwnerPetrol₹11,122/month₹4,99,999Zero downpayment2018 Maruti Alto 800LXI Manual35,008 km1st OwnerPetrol₹6,942/month₹3,12,099Zero downpayment2020 Maruti S PRESSOVXI Manual13,665 km1st OwnerPetrol₹9,721/month₹4,36,999Zero downpayment2015 Maruti ErtigaZDI Manual53,904 km1st OwnerDiesel₹13,923/month₹6,25,899Zero downpayment2017 Hyundai Creta1.4 E PLUS CRDI Manual42,616 km1st OwnerDiesel₹19,989/month₹8,98,599Zero downpayment2013 Maruti SwiftVDI Manual1,67,631 km1st OwnerDiesel₹6,297/month₹2,83,099Zero downpayment2013 Maruti Swift DzireLDI BS IV Manual1,31,211 km1st OwnerDiesel₹6,582/month₹2,95,899Zero downpayment2015 Honda CityV MT DIESEL Manual1,95,015 km2nd OwnerDiesel₹10,582/month₹4,75,699Zero downpayment2016 Ford Ecosport1.5 TITANIUM TI VCT Manual16,228 km1st OwnerPetrol₹15,658/month₹7,03,899Zero downpayment2009 Maruti Zen EstiloVXI Manual44,809 km1st OwnerPetrol₹4,518/month₹2,03,099Zero downpayment2014 Toyota Corolla AltisD 4D J Manual1,05,711 km1st OwnerDiesel₹14,274/month₹6,41,699Zero downpayment2014 Maruti RitzVDI Manual54,894 km1st OwnerDiesel₹6,635/month₹2,98,299Zero downpayment2017 Maruti SwiftVDI ABS Manual46,220 km1st OwnerDiesel₹11,903/month₹5,35,099Zero downpayment2015 BMW 5 Series520D LUXURY LINE Automatic82,138 km2nd OwnerDiesel₹40,672/month₹18,28,399Zero downpayment2017 Ford Ecosport1.5TITANIUM TDCI Manual51,197 km2nd OwnerDiesel₹13,333/month₹5,99,399Zero downpayment2013 Maruti ErtigaVDI ABS Manual49,273 km1st OwnerDiesel₹11,765/month₹5,28,899Zero downpayment2011 Toyota EtiosVX Manual85,905 km1st OwnerPetrol₹6,991/month₹3,14,299Zero downpayment2017 Maruti SwiftVXI OPT Manual70,395 km1st OwnerPetrol₹11,087/month₹4,98,399Zero downpayment2020 Maruti S PRESSOVXI Manual6,879 km1st OwnerPetrol₹9,910/month₹4,45,499Zero downpayment2014 Renault Duster85 PS RXL OPT Manual84,717 km1st OwnerDiesel₹9,220/month₹4,14,499Zero downpayment2013 Maruti SwiftVDI Manual66,981 km1st OwnerDiesel₹7,009/month₹3,15,099Zero downpayment2019 Maruti S PRESSOVXI Manual44,522 km1st OwnerPetrol₹8,217/month₹3,69,399Zero downpayment2013 Maruti SwiftVDI Manual1,12,415 km1st OwnerDiesel₹6,787/month₹3,05,099Zero downpayment2020 Maruti AltoLXI Manual8,513 km1st OwnerPetrol₹8,495/month₹3,81,899Zero downpayment2018 Maruti Vitara BrezzaVDI Manual21,269 km1st OwnerDiesel₹16,708/month₹7,51,099Zero downpayment2015 Honda CityS MT DIESEL Manual70,976 km1st OwnerDiesel₹12,339/month₹5,54,699Zero downpayment2016 Mahindra ScorpioS10 Manual87,758 km2nd OwnerDiesel₹22,736/month₹10,22,099Zero downpayment2015 Maruti Swift DzireVDI ABS Manual51,483 km1st OwnerDiesel₹9,986/month₹4,48,899Zero downpayment2013 Honda Amaze1.5 EMT I DTEC Manual48,118 km1st OwnerDiesel₹6,840/month₹3,07,499Zero downpayment2016 Maruti Vitara BrezzaVDI Manual71,077 km1st OwnerDiesel₹13,502/month₹6,06,999Zero downpayment2013 Toyota Innova2.5 GX 7 STR BS IV Manual1,58,148 km1st OwnerDiesel₹13,809/month₹6,20,799Zero downpayment2014 Nissan TerranoXL 85 PS DEISEL Manual51,904 km1st OwnerDiesel₹10,097/month₹4,53,899Zero downpayment2017 Maruti Vitara BrezzaVDI OPT Manual84,028 km1st OwnerDiesel₹13,929/month₹6,26,199Zero downpayment2015 Maruti SwiftVDI ABS Manual1,12,079 km1st OwnerDiesel₹8,802/month₹3,95,699Zero downpayment2015 Toyota EtiosVD 1.4 Manual64,363 km1st OwnerDiesel₹9,532/month₹4,28,499Zero downpayment2015 Maruti SwiftVDI ABS Manual61,862 km2nd OwnerDiesel₹9,027/month₹4,05,799Zero downpayment2016 Maruti SwiftVXI Manual28,739 km2nd OwnerPetrol₹10,026/month₹4,50,699Zero downpayment2017 Hyundai Tucson New2WD AT GL DIESEL Automatic88,273 km1st OwnerDiesel₹32,028/month₹14,39,799Zero downpayment2019 Honda CivicZX CVT PETROL Automatic19,005 km1st OwnerPetrol₹44,215/month₹19,87,699Zero downpayment2018 Maruti BalenoDELTA 1.2 K12 Manual23,315 km3rd OwnerPetrol₹11,810/month₹5,30,899Zero downpayment2021 Hyundai CretaS PETROL MT Manual3,468 km1st OwnerPetrol₹29,785/month₹13,38,999Zero downpayment2020 Maruti BalenoSIGMA 1.2 K12 Manual12,969 km1st OwnerPetrol₹13,369/month₹6,00,999Zero downpayment2021 Hyundai VENUE1.0L Turbo GDI SX MT Manual29,645 km1st OwnerPetrol₹22,033/month₹9,90,499Zero downpayment2020 Tata ALTROZXZ 1.2 Manual31,910 km1st OwnerPetrol₹18,296/month₹8,22,499Zero downpayment2018 Datsun Redi GoT(O) AT Automatic4,555 km1st OwnerPetrol₹8,602/month₹3,86,699Zero downpayment2021 Renault DusterRXS 106 PS MT Manual2,572 km1st OwnerPetrol₹20,331/month₹9,13,999Zero downpayment2021 Toyota GlanzaV CVT Automatic3,527 km1st OwnerPetrol₹22,111/month₹9,93,999Zero downpayment2017 Hyundai Elite i20SPORTZ 1.2 Manual30,697 km3rd OwnerPetrol₹11,523/month₹5,17,999Zero downpayment2015 Maruti SwiftVDI ABS Manual46,245 km1st OwnerDiesel₹9,621/month₹4,32,499Zero downpayment2021 Honda JazzVX 1.2 CVT Automatic6,910 km1st OwnerPetrol₹23,099/month₹10,38,399Zero downpayment2021 Renault KigerRXZ 1.0 TURBO MT 7,661 km1st OwnerPetrol₹20,703/month₹9,30,699Zero downpayment2020 Maruti AltoLXI Manual9,578 km1st OwnerPetrol₹8,773/month₹3,94,399Zero downpayment2010 Honda CityS MT PETROL Manual67,428 km1st OwnerPetrol₹8,858/month₹3,98,199Zero downpayment2021 Tata SafariXM 2.0 KRYOTEC Manual12,456 km1st OwnerDiesel₹41,699/month₹18,74,599Zero downpayment2019 Renault KwidRXL Manual21,902 km2nd OwnerPetrol₹7,683/month₹3,45,399Zero downpayment2019 Renault KwidRXL Manual16,641 km2nd OwnerPetrol₹8,262/month₹3,71,399Zero downpayment2017 Toyota Corolla AltisGL Manual58,639 km1st OwnerPetrol₹28,355/month₹12,74,699Zero downpayment2017 Maruti BalenoDELTA 1.2 K12 Manual31,901 km1st OwnerPetrol₹11,950/month₹5,37,199Zero downpayment2021 Hyundai NEW SANTRO1.1 MAGNA MT Manual5,234 km1st OwnerPetrol₹12,395/month₹5,57,199Zero downpayment2020 Skoda RapidSTYLE 1.0TSI MT Manual16,041 km1st OwnerPetrol₹22,796/month₹10,24,799Zero downpayment2018 Maruti SwiftVXI Manual31,027 km3rd OwnerPetrol₹11,531/month₹5,18,399Zero downpayment2016 Hyundai Grand i10SPORTZ 1.2 KAPPA VTVT Manual87,251 km1st OwnerPetrol₹9,565/month₹4,29,999Zero downpayment2021 Toyota GlanzaG CVT Automatic7,965 km1st OwnerPetrol₹21,935/month₹9,86,099Zero downpayment2017 Mahindra XUV500W8 FWD AT Automatic90,501 km1st OwnerDiesel₹26,491/month₹11,90,899Zero downpayment2019 Hyundai Grand i10SPORTZ 1.2 KAPPA VTVT Manual39,474 km1st OwnerPetrol₹12,032/month₹5,40,899Zero downpayment2017 Maruti BalenoDELTA 1.2 K12 Manual35,325 km2nd OwnerPetrol₹11,583/month₹5,20,699Zero downpayment2019 Maruti BalenoDELTA 1.2 K12 Manual31,598 km2nd OwnerPetrol₹14,312/month₹6,43,399Zero downpayment2011 Toyota EtiosVX Manual50,581 km2nd OwnerPetrol₹8,068/month₹3,62,699Zero downpayment2017 Honda Amaze1.2 SMT I VTEC Manual74,787 km1st OwnerPetrol₹10,112/month₹4,54,599Zero downpayment2017 Hyundai Creta1.4 E PLUS CRDI Manual68,509 km1st OwnerDiesel₹19,159/month₹8,61,299Zero downpayment2019 Maruti New  Wagon-RZXI 1.2 Manual38,553 km1st OwnerPetrol₹11,460/month₹5,15,199Zero downpayment2019 Maruti BalenoSIGMA 1.2 K12 Manual39,162 km1st OwnerPetrol₹12,383/month₹5,56,699Zero downpayment2019 Mahindra XUV 3OOW8(O) Manual52,439 km1st OwnerDiesel₹23,012/month₹10,34,499Zero downpayment2017 Maruti CiazDELTA 1.4 VVT Manual17,151 km1st OwnerPetrol₹16,468/month₹7,40,299Zero downpayment2019 Maruti Vitara BrezzaZDI AMT Automatic27,955 km2nd OwnerDiesel₹19,564/month₹8,79,499Zero downpayment2019 Maruti Vitara BrezzaVDI Manual44,672 km1st OwnerDiesel₹17,253/month₹7,75,599Zero downpayment2017 Hyundai Grand i10SPORTZ 1.2 KAPPA VTVT Manual37,117 km1st OwnerPetrol₹10,571/month₹4,75,199Zero downpayment2018 Maruti BalenoDELTA 1.2 K12 Manual56,569 km1st OwnerPetrol₹12,181/month₹5,47,599Zero downpayment2020 Maruti S PRESSOVXI PLUS Manual18,960 km1st OwnerPetrol₹10,030/month₹4,50,899Zero downpayment2018 Maruti BalenoDELTA 1.2 K12 Manual79,506 km1st OwnerPetrol₹12,105/month₹5,44,199Zero downpayment2019 Mahindra XUV 3OO1.5 W6 MT Manual40,883 km1st OwnerDiesel₹19,124/month₹8,59,699Zero downpayment2017 Hyundai Creta1.6 CRDI SX PLUS AUTO Automatic58,995 km1st OwnerDiesel₹24,109/month₹10,83,799Zero downpayment2018 Maruti Alto 800LXI Manual36,637 km1st OwnerPetrol₹7,272/month₹3,26,899Zero downpayment2017 Maruti Alto K10VXI Manual27,217 km1st OwnerPetrol₹7,777/month₹3,49,599Zero downpayment2019 Ford Ecosport1.5TITANIUM TDCI Manual34,344 km1st OwnerDiesel₹19,072/month₹8,57,399Zero downpayment2014 Toyota Corolla AltisD 4D J Manual63,907 km1st OwnerDiesel₹15,587/month₹7,00,699Zero downpayment2017 Maruti BalenoALPHA 1.2 K12 Manual23,054 km1st OwnerPetrol₹14,970/month₹6,72,999Zero downpayment2018 Maruti BalenoDELTA 1.2 K12 Manual37,259 km1st OwnerPetrol₹12,831/month₹5,76,799Zero downpayment2014 Hyundai Elite i20ASTA 1.4 CRDI Manual1,70,007 km1st OwnerDiesel₹9,363/month₹4,20,899Zero downpayment2017 Maruti IGNISZETA 1.2 K12 Manual35,452 km1st OwnerPetrol₹11,200/month₹5,03,499Zero downpayment2019 Maruti BalenoZETA 1.2 K12 Manual38,501 km1st OwnerPetrol₹14,866/month₹6,68,299Zero downpayment2018 Ford Ecosport1.5 TDCI TITANIUM PLUS Manual59,390 km1st OwnerDiesel₹18,483/month₹8,30,899Zero downpayment2019 Hyundai VENUE1.0L Turbo GDI SX MT Manual36,417 km1st OwnerPetrol₹19,853/month₹8,92,499Zero downpayment2017 Maruti BalenoZETA 1.2 K12 AMT Automatic72,192 km1st OwnerPetrol₹14,352/month₹6,45,199Zero downpayment2017 Maruti BalenoZETA 1.2 K12 AMT Automatic78,713 km1st OwnerPetrol₹13,943/month₹6,26,799Zero downpayment2016 Maruti CiazVDI+ SHVS Manual77,777 km1st OwnerDiesel₹12,052/month₹5,41,799Zero downpayment2018 Ford Ecosport1.5 TITANIUM TI VCT Manual14,723 km1st OwnerPetrol₹18,272/month₹8,21,399Zero downpayment2018 Ford Ecosport1.5 TDCI TITANIUM PLUS Manual40,453 km1st OwnerDiesel₹18,292/month₹8,22,299Zero downpaymentReserved2018 Ford Ecosport1.5 TDCI TITANIUM PLUS Manual24,937 km2nd OwnerDiesel₹17,413/month₹7,82,799Zero downpayment2017 Maruti BalenoDELTA 1.2 K12 Manual50,045 km1st OwnerPetrol₹11,950/month₹5,37,199Zero downpayment2016 Maruti SwiftVDI OPT Manual39,364 km1st OwnerDiesel₹10,904/month₹4,90,199Zero downpayment2017 Maruti BalenoZETA 1.2 K12 AMT Automatic63,337 km2nd OwnerPetrol₹13,235/month₹5,94,999Zero downpayment2012 Maruti Swift DzireVDI BS IV Manual1,15,606 km1st OwnerDiesel₹6,994/month₹3,14,399Zero downpayment2018 Ford Ecosport1.5 TDCI TITANIUM PLUS Manual55,408 km1st OwnerDiesel₹18,156/month₹8,16,199Zero downpayment2018 Ford Ecosport1.5TITANIUM TDCI Manual43,375 km2nd OwnerDiesel₹16,790/month₹7,54,799Zero downpayment2017 Ford Ecosport1.5 TDCI TITANIUM PLUS Manual42,240 km1st OwnerDiesel₹16,154/month₹7,26,199Zero downpayment2019 Ford Ecosport1.5TITANIUM TDCI Manual50,122 km1st OwnerDiesel₹18,561/month₹8,34,399Zero downpayment2016 Maruti Swift DzireVDI ABS Manual58,329 km2nd OwnerDiesel₹10,304/month₹4,63,199Zero downpayment2017 Tata HexaVaricor 400 XT Manual84,559 km3rd OwnerDiesel₹17,466/month₹7,85,199Zero downpayment2014 Ford Ecosport1.5TITANIUM TDCI Manual54,501 km1st OwnerDiesel₹10,244/month₹4,60,499Zero downpayment2016 Maruti Vitara BrezzaVDI Manual79,409 km2nd OwnerDiesel₹12,980/month₹5,83,499Zero downpayment2016 Maruti BalenoDELTA DDIS 190 Manual63,927 km1st OwnerDiesel₹11,269/month₹5,06,599Zero downpayment2013 Maruti SwiftVDI Manual44,096 km1st OwnerDiesel₹7,723/month₹3,47,199Zero downpayment2013 Maruti SwiftVDI Manual68,967 km1st OwnerDiesel₹7,285/month₹3,27,499Zero downpayment2017 Ford Ecosport1.5 TDCI TITANIUM PLUS Manual26,890 km1st OwnerDiesel₹17,513/month₹7,87,299Zero downpayment2014 Renault Duster85 PS RXE DIESEL ADVENTURE Manual65,090 km1st OwnerDiesel₹10,468/month₹4,70,599Zero downpayment2016 Maruti Vitara BrezzaVDI Manual66,181 km2nd OwnerDiesel₹13,634/month₹6,12,899Zero downpayment2019 Hyundai Verna1.6 SX VTVT (O) Manual80,631 km1st OwnerPetrol₹21,837/month₹9,81,699Zero downpayment2009 Hyundai i10ERA 1.1 IRDE Manual44,319 km1st OwnerPetrol₹4,542/month₹2,04,199Zero downpayment2010 Hyundai i20MAGNA O 1.2 Manual60,774 km1st OwnerPetrol₹6,651/month₹2,98,999Zero downpayment2015 Honda CRV2.0 2WD AT Automatic73,937 km1st OwnerPetrol₹28,226/month₹12,68,899Zero downpayment2016 Maruti Vitara BrezzaLDI OPT Manual28,998 km1st OwnerDiesel₹14,383/month₹6,46,599Zero downpayment2018 Hyundai Elite i20Magna Executive 1.2 Manual27,693 km3rd OwnerPetrol₹12,165/month₹5,46,899Zero downpayment2018 Hyundai Verna1.6 CRDI SX + AT Automatic73,815 km1st OwnerDiesel₹21,964/month₹9,87,399Zero downpayment2016 Maruti SwiftLXI Manual41,926 km1st OwnerPetrol₹9,605/month₹4,31,799Zero downpayment2018 Renault KwidRXL Manual19,738 km1st OwnerPetrol₹7,892/month₹3,54,799Zero downpayment2020 Maruti SwiftZXI+ Manual13,357 km1st OwnerPetrol₹17,442/month₹7,84,099Zero downpayment2019 Toyota Innova Crysta2.8 GX AT 7 STR Automatic34,321 km1st OwnerDiesel₹38,125/month₹17,13,899Zero downpayment2015 Maruti Wagon R 1.0VXI Manual27,822 km1st OwnerPetrol₹7,828/month₹3,51,899Zero downpayment2017 Renault Kwid1.0 RXT Opt Manual20,795 km1st OwnerPetrol₹7,848/month₹3,52,799Zero downpayment2016 Ford Endeavour2.2l 4X4 MT Trend Manual78,295 km2nd OwnerDiesel₹36,532/month₹16,42,299Zero downpayment2017 Mahindra XUV500W6 4X2 Manual1,95,904 km1st OwnerDiesel₹16,826/month₹7,56,399Zero downpayment2017 Maruti BalenoDELTA 1.2 K12 Manual11,517 km1st OwnerPetrol₹13,129/month₹5,90,199Zero downpayment2016 Mahindra XUV500W10 FWD Manual78,933 km2nd OwnerDiesel₹19,230/month₹8,64,499Zero downpayment2021 Maruti AltoLXI CNG Manual30,016 km1st OwnerPetrol + CNG₹11,625/month₹5,22,599Zero downpayment2017 Maruti DzireVXI Manual56,664 km1st OwnerPetrol₹13,280/month₹5,96,999Zero downpayment2019 Maruti Alto K10VXI Manual5,633 km1st OwnerPetrol₹9,138/month₹4,10,799Zero downpayment2011 Toyota Corolla Altis1.8 G Manual67,923 km1st OwnerPetrol₹10,432/month₹4,68,959Zero downpayment2018 Mahindra ScorpioS7 120 BHP 2WD Manual23,043 km1st OwnerDiesel₹26,333/month₹11,83,799Zero downpayment2017 Maruti BalenoZETA 1.2 K12 Manual44,628 km1st OwnerPetrol₹12,379/month₹5,56,499Zero downpayment2018 Ford Ecosport1.5 TITANIUM TI VCT Manual39,392 km1st OwnerPetrol + CNG₹18,272/month₹8,21,399Zero downpayment2014 Mahindra XUV500W4 Manual83,535 km1st OwnerDiesel₹10,735/month₹4,82,599Zero downpayment2018 Maruti IGNISDELTA 1.2 K12 Manual39,475 km2nd OwnerPetrol₹10,166/month₹4,56,999Zero downpayment2019 Maruti Vitara BrezzaZDI Manual30,704 km1st OwnerDiesel₹19,471/month₹8,75,299Zero downpayment2016 Ford Ecosport1.5 TITANIUM TI VCT Manual16,529 km1st OwnerPetrol₹15,438/month₹6,93,999Zero downpayment2018 Hyundai Creta1.6 CRDI SX PLUS AUTO Automatic40,655 km2nd OwnerDiesel₹24,439/month₹10,98,649Zero downpayment2015 Maruti SwiftLDI BS IV Manual45,298 km1st OwnerDiesel₹8,878/month₹3,99,099Zero downpayment2017 Maruti SwiftVDI Manual41,765 km2nd OwnerDiesel₹10,644/month₹4,78,499Zero downpayment2014 Ford Ecosport1.5 TREND TDCI Manual38,501 km1st OwnerDiesel₹9,930/month₹4,46,399Zero downpayment2018 Ford Ecosport1.5 TREND+ TDCI Manual60,628 km1st OwnerDiesel₹14,664/month₹6,59,199Zero downpayment2017 Maruti CiazVDI+ SHVS Manual1,08,210 km1st OwnerDiesel₹13,589/month₹6,10,899Zero downpayment2015 Maruti SwiftLDI O Manual44,171 km1st OwnerDiesel₹8,637/month₹3,88,299Zero downpayment2014 Hyundai VernaFLUIDIC 1.4 EX CRDI Manual78,433 km1st OwnerDiesel₹10,762/month₹4,83,799Zero downpayment2013 Toyota Fortuner3.0 AT 4X2 Automatic75,620 km1st OwnerDiesel₹27,276/month₹12,26,199Zero downpayment2020 KIA SELTOSHTX AT PETROL Automatic21,784 km2nd OwnerPetrol₹31,810/month₹14,29,999Zero downpayment2021 Renault KigerRXT 1.0 AMT Automatic6,344 km1st OwnerPetrol₹18,278/month₹8,21,699Zero downpayment2021 Maruti CiazALPHA 1.5 MT VTVT SHVS Manual9,370 km1st OwnerPetrol₹26,996/month₹12,13,599Zero downpayment2021 Maruti CiazALPHA 1.5 MT VTVT SHVS Manual4,536 km1st OwnerPetrol₹26,349/month₹11,84,499Zero downpayment2019 Hyundai Elite i201.2 SPORTS PLUS VTVT Manual11,543 km1st OwnerPetrol₹15,887/month₹7,14,199Zero downpayment2010 Hyundai i20MAGNA O 1.2 Manual42,422 km2nd OwnerPetrol₹6,015/month₹2,70,399Zero downpayment2019 MG HECTORSHARP DCT PETROL Automatic8,717 km1st OwnerPetrol₹39,927/month₹17,94,899Zero downpayment2020 Honda CityVX MT PETROL Manual7,212 km1st OwnerPetrol₹28,867/month₹12,97,699Zero downpayment2020 Tata ALTROZXZ 1.2 Manual7,439 km1st OwnerPetrol₹18,296/month₹8,22,499Zero downpayment2018 Hyundai Verna1.6 SX VTVT Manual17,770 km1st OwnerPetrol₹20,483/month₹9,20,799Zero downpayment2021 Mahindra XUV500W9 AT Automatic20,483 km1st OwnerDiesel₹41,957/month₹18,86,199Zero downpayment2017 Honda Amaze1.2 SMT I VTEC Manual11,067 km1st OwnerPetrol₹12,366/month₹5,55,899Zero downpayment2020 Honda Jazz1.2 ZX MT Manual10,343 km1st OwnerPetrol₹20,896/month₹9,39,399Zero downpayment2019 Maruti BalenoDELTA 1.2 K12 Manual24,589 km1st OwnerPetrol₹15,186/month₹6,82,699Zero downpayment2015 Hyundai Elite i20ASTA 1.2 Manual45,293 km1st OwnerPetrol₹12,668/month₹5,69,499Zero downpayment2020 Honda CityZX CVT Automatic12,934 km1st OwnerPetrol₹28,480/month₹12,80,299Zero downpayment2020 Honda CityVX CVT PETROL Automatic29,009 km1st OwnerPetrol₹28,068/month₹12,61,799Zero downpayment2016 Maruti BalenoZETA 1.2 K12 Manual18,853 km2nd OwnerPetrol₹12,274/month₹5,51,799Zero downpayment2020 Honda CityVX CVT PETROL Automatic11,365 km1st OwnerPetrol₹28,413/month₹12,77,299Zero downpayment2017 Hyundai Grand i10MAGNA 1.2 VTVT Manual49,130 km1st OwnerPetrol₹9,957/month₹4,47,599Zero downpayment2019 Ford Ecosport1.5 TITANIUM PLUS TI VCT AT Automatic7,978 km1st OwnerPetrol₹20,861/month₹9,37,799Zero downpayment2014 Audi A335TDI PREMIUM Automatic91,557 km2nd OwnerDiesel₹31,207/month₹14,02,899Zero downpayment2020 Maruti S PRESSOVXI PLUS Manual26,182 km1st OwnerPetrol₹9,601/month₹4,31,599Zero downpayment2015 Hyundai Grand i10MAGNA 1.1 CRDI Manual1,10,690 km1st OwnerDiesel₹6,991/month₹3,14,299Zero downpayment2015 Maruti SwiftVXI Manual61,123 km2nd OwnerPetrol₹9,227/month₹4,14,799Zero downpayment2019 Maruti Vitara BrezzaVDI Manual37,721 km1st OwnerDiesel₹17,985/month₹8,08,499Zero downpayment2017 Maruti SwiftZDI Manual50,835 km2nd OwnerDiesel₹12,977/month₹5,83,399Zero downpayment2018 Renault DusterRXS 85 PS Manual90,345 km1st OwnerDiesel₹15,140/month₹6,80,599Zero downpayment2019 Maruti Vitara BrezzaVDI Manual23,879 km1st OwnerDiesel₹17,867/month₹8,03,199Zero downpayment2021 Ford Ecosport1.5TITANIUM TDCI Manual17,336 km2nd OwnerDiesel₹23,673/month₹10,64,199Zero downpayment2015 Hyundai Creta1.6 SX (O) CRDI Manual53,468 km1st OwnerDiesel₹19,188/month₹8,62,599Zero downpayment2019 Maruti Vitara BrezzaVDI Manual20,960 km1st OwnerDiesel₹17,495/month₹7,86,499Zero downpayment2017 Maruti BalenoZETA 1.2 K12 AMT Automatic53,293 km1st OwnerPetrol₹14,228/month₹6,39,599Zero downpayment2018 Ford Ecosport1.5TITANIUM TDCI Manual39,171 km1st OwnerDiesel₹16,668/month₹7,49,299Zero downpayment2018 Ford Ecosport1.5TITANIUM TDCI Manual35,879 km1st OwnerDiesel₹18,265/month₹8,21,099Zero downpayment2019 Maruti BalenoDELTA 1.2 K12 Manual36,944 km1st OwnerPetrol₹13,869/month₹6,23,499Zero downpayment2018 Hyundai Creta1.6 CRDI SX PLUS AUTO Automatic79,409 km2nd OwnerDiesel₹24,489/month₹11,00,899Zero downpayment2018 Maruti Vitara BrezzaZDI Manual24,379 km1st OwnerDiesel₹18,042/month₹8,11,079Zero downpayment2016 Mahindra ScorpioS10 Manual66,530 km2nd OwnerDiesel₹23,125/month₹10,39,599Zero downpayment2017 Maruti BalenoDELTA 1.2 K12 Manual48,434 km2nd OwnerPetrol₹11,554/month₹5,19,399Zero downpayment2014 Maruti RitzVDI Manual80,189 km1st OwnerDiesel₹7,823/month₹3,51,699Zero downpayment2019 Ford Ecosport1.5TITANIUM TDCI Manual53,689 km1st OwnerDiesel₹19,088/month₹8,58,099Zero downpayment2013 Hyundai Grand i10SPORTZ 1.1 CRDI Manual52,803 km2nd OwnerDiesel₹7,550/month₹3,39,399Zero downpayment2018 Ford Ecosport1.5TITANIUM TDCI Manual74,039 km1st OwnerDiesel₹18,029/month₹8,10,499Zero downpayment2014 Audi Q32.0 TDI MT S EDITION Manual68,298 km1st OwnerDiesel₹26,217/month₹11,78,599Zero downpayment2013 Maruti SwiftVDI Manual1,44,580 km2nd OwnerDiesel₹6,887/month₹3,09,599Zero downpayment2016 Maruti Vitara BrezzaVDI OPT Manual62,859 km1st OwnerDiesel₹14,290/month₹6,42,399Zero downpayment2015 Hyundai Elite i20SPORTZ (O) 1.4 Manual66,021 km4th OwnerDiesel₹10,882/month₹4,89,199Zero downpayment2013 Maruti SwiftVDI Manual45,699 km1st OwnerDiesel₹7,330/month₹3,29,499Zero downpayment2014 Maruti SwiftLDI BS IV Manual47,537 km1st OwnerDiesel₹7,499/month₹3,37,099Zero downpayment2013 Maruti SwiftZDI Manual83,615 km2nd OwnerDiesel₹8,150/month₹3,66,399Zero downpayment2015 Ford Ecosport1.5TITANIUM TDCI Manual73,782 km1st OwnerDiesel₹11,269/month₹5,06,599Zero downpayment2017 Ford Ecosport1.5 TDCI TITANIUM PLUS Manual8,433 km2nd OwnerDiesel₹17,028/month₹7,65,499Zero downpayment2020 MG HECTOR PLUSSHARP HYBRID PETROL Manual2,775 km1st OwnerPetrol₹40,883/month₹18,37,899Zero downpayment2018 Renault KwidRXL Manual22,505 km2nd OwnerPetrol₹7,174/month₹3,22,499Zero downpayment2020 Skoda RapidACTIVE 1.0 TSI Manual11,399 km1st OwnerPetrol₹17,433/month₹7,83,699Zero downpayment2011 Maruti Alto K10VXI Manual26,475 km1st OwnerPetrol₹5,239/month₹2,35,499Zero downpayment2020 Maruti Vitara BrezzaZDI + AMT Automatic18,191 km1st OwnerDiesel₹24,565/month₹11,04,299Zero downpayment2020 Maruti BalenoDELTA 1.2 K12 Manual7,512 km1st OwnerPetrol₹15,538/month₹6,98,499Zero downpayment2014 Maruti Swift DzireVXI 1.2 BS IV Manual33,484 km2nd OwnerPetrol₹9,283/month₹4,17,299Zero downpayment2019 Maruti XL6ALPHA SHVS  MT Manual23,604 km1st OwnerPetrol₹24,320/month₹10,93,299Zero downpayment2016 Maruti CiazVXI PLUS Manual98,363 km1st OwnerPetrol₹12,664/month₹5,69,299Zero downpayment2015 Maruti SwiftLDI BS IV Manual46,790 km1st OwnerDiesel₹8,695/month₹3,90,899Zero downpayment2015 Audi Q330 TDI MT S EDITION Manual28,309 km1st OwnerDiesel₹30,215/month₹13,58,299Zero downpayment2013 Toyota Fortuner3.0 MT 4X2 Manual77,604 km1st OwnerDiesel₹26,002/month₹11,68,899Zero downpayment2014 Toyota Innova2.5 VX 7 STR BS IV Manual1,11,191 km1st OwnerDiesel₹16,623/month₹7,47,299Zero downpayment2017 Volkswagen PoloCOMFORTLINE 1.2L PETROL Manual33,336 km3rd OwnerPetrol₹9,443/month₹4,24,499Zero downpayment2011 Hyundai i10MAGNA 1.2 KAPPA2 Manual29,049 km1st OwnerPetrol₹6,240/month₹2,80,499Zero downpayment2013 Audi A42.0 TDI S LINE Automatic29,991 km1st OwnerDiesel₹26,050/month₹11,71,099Zero downpayment2014 Honda CityVX MT PETROL Manual72,559 km1st OwnerPetrol₹13,718/month₹6,16,699Zero downpayment2016 Honda CRV2.4 AWD AT Automatic1,03,602 km2nd OwnerPetrol₹24,716/month₹11,11,099Zero downpayment2011 Maruti Alto K10VXI Manual37,580 km1st OwnerPetrol₹5,292/month₹2,37,899Zero downpayment2016 Honda CitySV MT PETROL Manual14,040 km1st OwnerPetrol₹16,241/month₹7,30,099Zero downpayment2016 Hyundai Grand i10SPORTZ 1.2 KAPPA VTVT Manual19,360 km1st OwnerPetrol₹10,664/month₹4,79,384Zero downpayment2018 Hyundai Verna1.6 CRDI SX + AT Automatic39,931 km1st OwnerDiesel₹23,114/month₹10,39,099Zero downpayment2019 MG HECTORSUPER DIESEL Manual52,447 km2nd OwnerDiesel₹34,374/month₹15,45,299Zero downpayment2021 Maruti AltoVXI PLUS Manual4,642 km1st OwnerPetrol₹9,903/month₹4,45,199Zero downpayment2021 Tata HarrierXZ 2.0L Kryotec Manual10,141 km1st OwnerDiesel₹46,177/month₹20,75,899Zero downpayment2014 Maruti SwiftVXI Manual31,263 km2nd OwnerPetrol₹9,009/month₹4,04,999Zero downpayment2019 Hyundai Tucson New2WD AT GLS PETROL Automatic38,431 km1st OwnerPetrol₹48,181/month₹21,65,999Zero downpayment2018 Maruti BalenoDELTA 1.2 K12 Manual30,319 km2nd OwnerPetrol₹12,744/month₹5,72,899Zero downpayment2020 Maruti BalenoDELTA 1.2 K12 Manual29,252 km2nd OwnerPetrol₹14,321/month₹6,43,799Zero downpayment2015 Mercedes Benz CLA ClassCLA 200 CDI SPORT Automatic50,401 km2nd OwnerDiesel₹36,757/month₹16,52,399Zero downpayment2016 Maruti BalenoDELTA 1.2 K12 Manual38,092 km1st OwnerPetrol₹12,263/month₹5,51,299Zero downpayment2016 Ford Ecosport1.5 TITANIUM TI VCT Manual52,555 km1st OwnerPetrol₹15,802/month₹7,10,399Zero downpayment2019 Maruti CelerioVXI Manual33,669 km2nd OwnerPetrol₹10,470/month₹4,70,699Zero downpayment2016 Hyundai Tucson New2WD AT GL PETROL Automatic74,800 km3rd OwnerPetrol₹25,886/month₹11,63,699Zero downpayment2021 Maruti S PRESSOVXI PLUS Manual13,909 km1st OwnerPetrol₹10,949/month₹4,92,199Zero downpayment2019 Ford Ecosport1.5 TITANIUM SIGNATURE TI VCT (SUNROOF) Manual19,968 km1st OwnerPetrol₹23,108/month₹10,38,799Zero downpayment2016 Honda CityVX MT DIESEL Manual49,653 km1st OwnerDiesel₹15,008/month₹6,74,699Zero downpayment2018 Maruti Alto K10VXI Manual17,923 km1st OwnerPetrol₹8,460/month₹3,80,299Zero downpayment2015 Mahindra ScorpioS10 Manual43,543 km1st OwnerDiesel₹23,430/month₹10,53,299Zero downpayment2018 Ford Ecosport1.5 TITANIUM PLUS TI VCT AT Automatic53,881 km1st OwnerPetrol₹18,187/month₹8,17,599Zero downpayment2019 Maruti XL6ALPHA SHVS  MT Manual38,620 km1st OwnerPetrol₹23,290/month₹10,46,999Zero downpayment2015 Hyundai VernaFLUIDIC 1.6 CRDI S (o) Manual62,800 km1st OwnerDiesel₹13,020/month₹5,85,299Zero downpayment2019 Maruti S PRESSOVXI PLUS Manual29,834 km2nd OwnerPetrol₹9,289/month₹4,17,599Zero downpayment2017 Maruti CiazDELTA 1.3 DDIS SHVS Manual68,249 km1st OwnerDiesel₹14,494/month₹6,51,599Zero downpayment2018 Maruti Vitara BrezzaVDI Manual27,679 km1st OwnerDiesel₹17,159/month₹7,71,399Zero downpayment2019 Maruti Alto K10VXI Manual38,083 km1st OwnerPetrol₹8,620/month₹3,87,499Zero downpayment2017 Maruti Vitara BrezzaVDI OPT Manual50,921 km2nd OwnerDiesel₹15,215/month₹6,83,999Zero downpayment2018 Ford Ecosport1.5 TDCI TITANIUM PLUS Manual57,654 km3rd OwnerDiesel₹15,980/month₹7,18,399Zero downpayment2018 Ford Ecosport1.5TITANIUM TDCI Manual46,366 km2nd OwnerDiesel₹16,281/month₹7,31,899Zero downpayment2020 Maruti AltoLXI CNG (O) Manual38,710 km1st OwnerPetrol + CNG₹10,551/month₹4,74,299Zero downpayment2017 Maruti Vitara BrezzaVDI Manual71,234 km1st OwnerDiesel₹14,942/month₹6,71,703Zero downpayment2017 Maruti Vitara BrezzaZDI Manual81,987 km1st OwnerDiesel₹14,973/month₹6,73,099Zero downpayment2017 Maruti BalenoZETA DDIS 190 Manual73,846 km1st OwnerDiesel₹12,793/month₹5,75,099Zero downpayment2013 BMW 5 Series520D LUXURY LINE Automatic82,670 km2nd OwnerDiesel₹33,491/month₹15,05,599Zero downpayment2017 Ford Ecosport1.5 TREND+ TDCI Manual1,13,124 km1st OwnerDiesel₹13,238/month₹5,95,099Zero downpayment2015 Mahindra XUV500W10 Manual1,16,379 km2nd OwnerDiesel₹17,440/month₹7,83,999Zero downpayment2015 Hyundai Elite i20ASTA 1.4 CRDI Manual68,158 km2nd OwnerDiesel₹11,378/month₹5,11,499Zero downpayment2014 Maruti SwiftVDI Manual42,154 km1st OwnerDiesel₹7,683/month₹3,45,399Zero downpayment2015 Maruti SwiftVDI ABS Manual1,04,600 km1st OwnerDiesel₹9,291/month₹4,17,699Zero downpayment2017 Maruti Vitara BrezzaVDI OPT Manual88,060 km1st OwnerDiesel₹14,721/month₹6,61,799Zero downpayment2015 Maruti SwiftVDI ABS Manual92,507 km1st OwnerDiesel₹9,318/month₹4,18,899Zero downpayment2017 Maruti Vitara BrezzaZDI PLUS Manual90,628 km1st OwnerDiesel₹17,239/month₹7,74,999Zero downpayment2017 Maruti S CrossALPHA SHVS Manual91,458 km2nd OwnerDiesel₹18,120/month₹8,14,599Zero downpayment2016 Hyundai EonD LITE PLUS Manual19,597 km1st OwnerPetrol₹6,139/month₹2,75,999Zero downpayment2021 Mahindra TharLX  4WD AT CONVERTIBLE Automatic3,120 km1st OwnerPetrol₹40,096/month₹18,02,499Zero downpayment2013 Maruti SwiftVDI Manual1,15,007 km1st OwnerDiesel₹6,985/month₹3,13,999Zero downpayment2014 Renault Duster85 PS RXL Manual50,839 km1st OwnerDiesel₹8,706/month₹3,91,399Zero downpayment2019 Hyundai Creta1.6 SX CRDI Manual21,929 km1st OwnerDiesel₹27,140/month₹12,20,099Zero downpayment2014 Maruti CiazVDI PLUS Manual94,009 km1st OwnerDiesel₹10,757/month₹4,83,599Zero downpayment2015 Maruti Wagon R 1.0LXI Manual62,113 km1st OwnerPetrol₹7,986/month₹3,58,999Zero downpayment2014 Maruti Swift DzireZXI 1.2 BS IV Manual89,100 km2nd OwnerPetrol₹9,776/month₹4,39,499Zero downpayment2017 Maruti SwiftLXI OPT Manual70,490 km1st OwnerPetrol₹9,550/month₹4,29,299Zero downpayment2013 Honda Amaze1.5 SMT I DTEC Manual73,241 km1st OwnerDiesel₹6,509/month₹2,92,599Zero downpayment2017 Hyundai Grand i10Sportz(O) 1.2 MT Manual38,202 km1st OwnerPetrol₹10,931/month₹4,91,399Zero downpayment2018 Hyundai Grand i10MAGNA 1.2 VTVT Manual30,741 km1st OwnerPetrol₹10,562/month₹4,74,799Zero downpayment2016 Skoda Octavia2.0 TDI STYLE PLUS AT Automatic95,282 km1st OwnerDiesel₹25,539/month₹11,48,099Zero downpayment2015 Hyundai Elite i20SPORTZ (O) 1.4 Manual63,245 km1st OwnerDiesel₹11,658/month₹5,24,099Zero downpayment2012 Maruti SwiftVDI Manual1,09,227 km1st OwnerDiesel₹6,769/month₹3,04,299Zero downpayment2016 Maruti S CrossZETA 1.3 Manual73,865 km1st OwnerDiesel₹13,340/month₹5,99,699Zero downpayment2011 Maruti Alto K10VXI Manual23,277 km1st OwnerPetrol₹4,920/month₹2,21,199Zero downpayment2020 Renault KwidRXL Manual19,767 km1st OwnerPetrol₹7,748/month₹3,48,299Zero downpayment2016 Maruti BalenoDELTA 1.2 K12 Manual87,555 km1st OwnerPetrol₹10,953/month₹4,92,399Zero downpayment2014 Toyota Innova2.5 GX 8 STR BS IV Manual1,19,551 km2nd OwnerDiesel₹14,948/month₹6,71,999Zero downpayment2019 Maruti BalenoDELTA 1.2 K12 Manual22,380 km1st OwnerPetrol₹14,955/month₹6,72,299Zero downpayment2016 Maruti BalenoDELTA 1.2 K12 Manual42,263 km1st OwnerPetrol₹12,363/month₹5,55,799Zero downpayment2018 Maruti Alto K10VXI Manual18,150 km1st OwnerPetrol₹8,090/month₹3,63,699Zero downpayment2016 Maruti BalenoDELTA 1.2 K12 Manual72,644 km1st OwnerPetrol₹11,289/month₹5,07,499Zero downpayment2017 Maruti CiazDELTA 1.3 DDIS SHVS Manual67,255 km2nd OwnerDiesel₹13,507/month₹6,07,199Zero downpayment2018 Maruti Alto K10VXI Manual23,103 km1st OwnerPetrol₹8,517/month₹3,82,899Zero downpayment2017 Maruti Vitara BrezzaVDI OPT Manual59,082 km1st OwnerDiesel₹15,758/month₹7,08,399Zero downpayment2018 Ford Ecosport1.5TITANIUM TDCI Manual79,063 km1st OwnerDiesel₹16,924/month₹7,60,799Zero downpayment2013 Ford Ecosport1.5 TITANIUMTDCI OPT Manual76,136 km1st OwnerDiesel₹9,848/month₹4,42,699Zero downpayment2013 Ford Ecosport1.5 TITANIUMTDCI OPT Manual81,167 km2nd OwnerDiesel₹9,447/month₹4,24,699Zero downpayment2014 Maruti SwiftZDI Manual64,127 km2nd OwnerDiesel₹8,673/month₹3,89,899Zero downpayment2017 Maruti Vitara BrezzaZDI Manual22,037 km1st OwnerDiesel₹16,848/month₹7,57,399Zero downpayment2016 Maruti Vitara BrezzaZDI Manual1,02,161 km1st OwnerDiesel₹13,645/month₹6,13,399Zero downpayment2016 Maruti Vitara BrezzaZDI PLUS DUAL TONE Manual90,318 km1st OwnerDiesel₹15,251/month₹6,85,599Zero downpayment2016 Hyundai Elite i20ASTA 1.2 Manual61,115 km1st OwnerPetrol₹12,922/month₹5,80,899Zero downpayment2017 Maruti BalenoDELTA 1.2 K12 Manual64,101 km1st OwnerPetrol₹11,934/month₹5,36,499Zero downpaymentOther CitiesNew DelhiGhaziabadNoidaFaridabadGurgaonSonipatMeerutRohtakPanipatAligarhWhat our Users have to say! PreviousRaghu GuptaNew DelhiMay 2022TOYOTA COROLLA ALTIS  5User rating“I'm very happy with the deal I got on myToyota Corolla Altis. It's a car that I cantrust, both when I'm behind ... read more... read moreValue for money : Experience :Ease of process :Sahadeva TavadeNew DelhiMay 2022RENAULT KWID  5User rating“I was impressed with the service fromCARS24. I got my RENAULT KWID at agreat price and could drive ... read more... read moreValue for money : Experience :Ease of process :Durgautti HolkarNew DelhiMay 2022NISSAN MICRA ACTIVE  5User rating“Buying my new Nissan Micra Active wasa pleasure, thanks to the team atCARS24. There is no other s... read more... read moreValue for money : Experience :Ease of process :Salani ViswanNew DelhiMay 2022MAHINDRA BOLERO  4.5User rating“I recently bought a Mahindra Bolerofrom CARS24. The staff was friendly, andtheir response time was fas... read more... read moreValue for money : Experience :Ease of process :Vinod SanyalNew DelhiMay 2022HYUNDAI XCENT PRIME  4User rating“Right from the start, the team atCARS24 was accommodating. I boughta Hyundai Xcent Prime, and... read more... read moreValue for money : Experience :Ease of process :Durgautti DivekarNew DelhiMay 2022HYUNDAI GRAND I10 NIOS  5User rating“I had an amazing experience with thepeople at CARS24! They madeeverything about buying a ... read more... read moreValue for money : Experience :Ease of process :Parvati LimbuNew DelhiMay 2022HONDA CITY  5User rating“I was looking for a certified used HondaCity and came across CARS24. I found avehicle that fit my needs, a... read more... read moreValue for money : Experience :Ease of process :Hira MahantaNew DelhiMay 2022CHEVROLET ENJOY  5User rating“I'm super happy with my ChevroletEnjoy. The guys at CARS24 wereaccommodating and mad... read more... read moreValue for money : Experience :Ease of process :Katyayana NavatheNew DelhiMay 2022MERCEDES BENZ A CLASS  4.5User rating“Before I found CARS24, I had boughtand sold four cars. The experiencewasn't pleasant, mainly wh... read more... read moreValue for money : Experience :Ease of process :Rekha AshtekarNew DelhiMay 2022TATA MANZA  5User rating“I just bought a Tata Manza fromCARS24. The guys were great, and theywere very professional. I am... read more... read moreValue for money : Experience :Ease of process :Ruhi AchavalNew DelhiMay 2022RENAULT KWID  4.5User rating“I am a very satisfied customer ofCARS24. The buying experience hasbeen delightful and hassle-... read more... read moreValue for money : Experience :Ease of process :Ravi MunshiNew DelhiMay 2022MAHINDRA KUV100  4.5User rating“I just bought a Mahindra KUV100 fromCARS24. It was a very pleasurableexperience, and I would defi... read more... read moreValue for money : Experience :Ease of process :Vayu JagatapNew DelhiMay 2022TATA MANZA  5User rating“I was so impressed by CARS24 that Iwas happy to write a review. I waslooking for a TATA MANZA, a... read more... read moreValue for money : Experience :Ease of process :Srijan NambiyarNew DelhiMay 2022OPEL CORSA  5User rating“I had been looking for a used car for awhile and came across CARS24. Icouldn't believe the selectio... read more... read moreValue for money : Experience :Ease of process :Vishnu DalaviNew DelhiMay 2022HYUNDAI I10  4.5User rating“I was looking for a Hyundai car on theinternet and came across CARS24. Igave them a call and had a... read more... read moreValue for money : Experience :Ease of process :Rekha PanjaNew DelhiMay 2022TATA MANZA  4.5User rating“CARS24 is a great company thatprovides a reliable service. I bought myTATA MANZA four months a... read more... read moreValue for money : Experience :Ease of process :Vishnu AyyarNew DelhiMay 2022MAHINDRA XYLO  5User rating“Buying a second-hand car fromCARS24 was a great experience. I wasworried about buying such ... read more... read moreValue for money : Experience :Ease of process :Rekha PadhyaNew DelhiMay 2022CHEVROLET AVEO  4.5User rating“I never thought that buying asecond-hand car online would be easy,but CARS24 made it possibl... read more... read moreValue for money : Experience :Ease of process :Shweta ChaudhariNew DelhiMay 2022HYUNDAI VERNA  5User rating“My experience of buying with CARS24was fantastic! The staff was reallyhelpful and knowledgeable.... read more... read moreValue for money : Experience :Ease of process :Manas PadhyaNew DelhiMay 2022RENAULT CAPTUR  5User rating“Awesome experience! I used thechance to buy a local Renault Capturversion with CARS24. The w... read more... read moreValue for money : Experience :Ease of process :Shalini SarkarNew DelhiMay 2022Jeep Compass  5User rating“I was pleased with the whole process ofbuying a Jeep Compass from CARS24. Iwas comfortable making th... read more... read moreValue for money : Experience :Ease of process :Poonam DhingraNew DelhiMay 2022HONDA WR V  5User rating“CARS24 is a great place to find a usedcar. I got my Honda WR V at a greatprice. There are a lot of gre... read more... read moreValue for money : Experience :Ease of process :Paarthiv KumarMumbaiFeb 2021Kia Sonet  4User rating“The Kia Sonet I got was in greatcondition, and I am happy with theprice. The process was smo... read more... read moreValue for money : Experience :Ease of process :Revati ReddyDelhi-NCRFeb 2021Mercedes Benz A Class  5User rating“The most important thing for me aboutbuying a car sales transaction is to beable to trust the dealer, and... read more... read moreValue for money : Experience :Ease of process :Mudit KapoorDelhi-NCRFeb 2021Mercedes Benz GLA Class  5User rating“The process was fast and I loved myMercedes-Benz GLA Class.”... read moreValue for money : Experience :Ease of process :Deepak ChopraMohaliFeb 2021Audi Q2  5User rating“I couldn't be happier with the Audi Q2 Ibought from CARS24. The whole processfrom start to finish was stre... read more... read moreValue for money : Experience :Ease of process :Abhinav PatelDelhi-NCRFeb 2021BMW 5 Series  5User rating“I was looking for a second-hand BMWand the team at CARS24 were fantastic.They were friendly and ans... read more... read moreValue for money : Experience :Ease of process :Udday MaheshwariJaipurFeb 2021Skoda Kodiaq  5User rating“The team at CARS24 was incrediblyhelpful. I was able to get a great deal ona Skoda Kodiaq. The staff w... read more... read moreValue for money : Experience :Ease of process :Roshni CharturvediAhmedabadFeb 2021Skoda Fabia  4.5User rating“The customer service I experienced atCARS24 was top-notch. I bought a greatSkoda Fabia, and I even ma... read more... read moreValue for money : Experience :Ease of process :Dhaniksha DikhayDelhi-NCRFeb 2021Volkswagen Ameo  4.5User rating“The staff at CARS24 is incredibly helpful.I was able to get the Volkswagen Ameo Iwanted because of their hel... read more... read moreValue for money : Experience :Ease of process :Priya GhoshalMumbaiFeb 2021Skoda Rapid  5User rating“We were looking for a cheap yetreliable car, and CARS24 had what wewere looking. We are really ... read more... read moreValue for money : Experience :Ease of process :Disha ShettyDelhi-NCRFeb 2021Skoda Karoq  4.5User rating“I was looking to buy a car recently, andI was pleased to visit CARS24, where Ifound the cars I wanted at ... read more... read moreValue for money : Experience :Ease of process :Kanak ShahDelhi-NCRFeb 2021Tata Safari Storme  4.5User rating“I am super happy with my Tata SafariStorme from CARS24. The overallexperience was amazing, fr... read more... read moreValue for money : Experience :Ease of process :Sohan MurthyMumbaiFeb 2021Tata Aria  5User rating“I found the right car for me at CARS24,so I went in to do a test drive. They werevery courteous to me, and t... read more... read moreValue for money : Experience :Ease of process :Siddarth BansalDelhi-NCRFeb 2021Tata Harrier  4.5User rating“The team at CARS24 helped us to buy aTata Harrier. They were very helpful, andtheir website is easy to navi... read more... read moreValue for money : Experience :Ease of process :Urvashi MalpeDelhi-NCRFeb 2021Volkswagen T Roc  4.5User rating“I recently bought a Volkswagen T-Rocfrom CARS24. I spent more than Iwanted to and some hiccu... read more... read moreValue for money : Experience :Ease of process :Manjima SenDelhi-NCRFeb 2021Skoda Octavia  5User rating“I found a very good deal for a SkodaOctavia on CARS24, and the staff wasreally helpful and friendly. I ... read more... read moreValue for money : Experience :Ease of process :Kapil ShethJaipurFeb 2021Fiat ABARTH 595  5User rating“I was very pleased with the Fiat Abarth Ibought. The car was clean andeverything worked as it sho... read more... read moreValue for money : Experience :Ease of process :Aman MittalDelhi-NCRFeb 2021Fiat Urban Cross  4.5User rating“The first thing that drew me to the FiatAvventura Urban Cross was its price. AtCARS24, I was able to get th... read more... read moreValue for money : Experience :Ease of process :Bhrithi PonnappaDelhi-NCRMar 2021Tata Altroz  5User rating“The team at CARS24 quickly respondedand got back to me when I had anyquestions. The Tata Altroz is ... read more... read moreValue for money : Experience :Ease of process :Arun HebbarDelhi-NCRMar 2021Tata Indica eV2  4User rating“The sales team at CARS24 helped mefind the perfect car quickly and easily.The Tata Indica eV2 was in ... read more... read moreValue for money : Experience :Ease of process :Erica DsouzaDelhi-NCRMar 2021Tata Sumo  5User rating“I got a great deal on a Tata Sumo fromCARS24. They had a great selection ofvehicles, and the process w... read more... read moreValue for money : Experience :Ease of process :Arjun ChettiarDelhi-NCRMar 2021Volkswagen Polo  4.5User rating“I was happily surprised by theVolkswagen polo I bought from CARS24.It was in good shape with lo... read more... read moreValue for money : Experience :Ease of process :Keerthana JayendranDelhi-NCRMar 2021Volkswagen Jetta  5User rating“The customer service was awesome!They gave me a great deal on theVolkswagen Jetta that I bou... read more... read moreValue for money : Experience :Ease of process :Induja RamakrishnanDelhi-NCRMar 2021Skoda Rapid  5User rating“I visited CARS24 to look at Skoda Rapid.They had the perfect vehicle and gaveme very good deal. The staf... read more... read moreValue for money : Experience :Ease of process :Prabhu PandiyanDelhi-NCRMar 2021Skoda Laura  5User rating“I bought a Skoda Laura from CARS24and it was well worth it. I had alwayswanted to drive a Skoda, so... read more... read moreValue for money : Experience :Ease of process :Surya NadarKochiMar 2021Skoda Yeti  4.5User rating“Thank you for all your help! I found theSkoda Yeti at CARS24 on Quikr andbooked it for an inspection. ... read more... read moreValue for money : Experience :Ease of process :Archana JoshiKochiMar 2021Fiat Grand Punto  5User rating“I am so glad I made the trip to Paris tobuy my Fiat Grande Punto from CARS24.The car was exactly what I ... read more... read moreValue for money : Experience :Ease of process :Keerthana SaravananZirakpurMar 2021Tata Altroz  5User rating“I was looking for a small car with goodfuel efficiency and got a great deal atCARS24. I was able to find a ... read more... read moreValue for money : Experience :Ease of process :Ganesh HegdeDelhi-NCRMar 2021Skoda Rapid  4User rating“I thought I would have to travel all theway to Bangalore to find the SkodaRapid car I was looking for. ... read more... read moreValue for money : Experience :Ease of process : NextFREQUENTLY ASKED QUESTIONS FOR USED CARS IN NEW DELHIHow many second hand cars are available in New Delhi?702 used cars are available in New Delhi of popular brands like Maruti Suzuki, Hyundai, Honda & moreWhat are the most popular brands available for 2nd hand cars in New Delhi?CARS24 has a wide inventory of all brands including Maruti Suzuki, Hyundai, Honda & more. Find the best second hand car in New Delhi of your choice on CARS24.What will be the starting price of an old car in New Delhi?The starting price of a used car in New Delhi is Rs. ₹1,00,000.What body types are available for 2nd hand cars in New Delhi?Used cars in New Delhi are available from every segment, be it Hatchback, Sedan, SUV.Can I buy used cars online at CARS24 in New Delhi?Of Course yes, you can buy used cars online in New Delhi from CARS24. You can find thousands of quality second hand cars for sale on our website/app that can be bought at the click of a button & delivered to your doorstep anywhere in New DelhiWhat to check before buying a second hand car in New Delhi?Important things to check  before buying a second hand car in New Delhi are:Source: Buying a car from a trusted source is important to make sure the car is in the exact condition as stated & also to deal with any post sale related issues.Condition: Ensure the car is non-accidental & does not have any structural damage. We use a 140 point check to make sure every car we sell is in top condition.Age: Buying a used car that is very old can lead to problems like expensive maintenance costs and scarcity of spare parts. A three to five year old car should be an ideal buy,Car Documents: Verification of vehicle documents like Registration Certificate (RC), Insurance & PUC is very important. Also ensure the car is not under loan (hypothecated), there are no traffic challans or any legal issues with it.Certified or Not: Certified used cars come with warranty and are refurbished to as good as new to protect buyers from unforeseen repair & maintenance cost.Where can I buy used cars in New Delhi?You can buy used cars in New Delhi from Cars24. Visit our website, book the car of your choice & get it delivered to your home.How can I check a second hand car in New Delhi?You can check second hand cars in New Delhi using conventional & time consuming buying methods like classified, dealers etc. CARS24 brings you a virtual showroom experience at your fingertips using 360 view. You can check multiple cars for sale in minutes and buy one from the comfort of your couch. We’ll deliver the car anywhere in New DelhiKEEP IN TOUCHEXPERIENCE CARS24 APP ON MOBILEPowered by CARS24® 2022 www.cars24.comAll rights reservedUSEFUL LINKSContact UsAbout UsPrivacy PolicyTerms and ConditionsFAQSitemapTestimonialsBlogBranchesWe're Hiring!Become Our PartnerNeed a LoanRC Transfer StatusCARS24 FinanceCARS24 Franchise PartnersInvestorsTop BrandsMaruti SuzukiHyundaiHondaTataToyotaChevroletFordMahindraSkodaVolkswagenNissanRenaultFiatMercedes BenzAudiTOP CITIESNew DelhiNoidaGurgaonMumbaiPuneBengaluruHyderabadChennaiKolkataAhmedabadPOPULAR SEARCHESCARS24 PricingSell Used CarVehicle Ownership TransferUsed Car ValuationNeed Help?\\n\\n\\n\\n\\n\\n\\n\\n\\n\\n\\n\\n\\n\\n\\n\\n\\n\\n\\n\\n\\n\\n\\n\\n\\nHey! How can I help you today? \""
      ]
     },
     "execution_count": 3,
     "metadata": {},
     "output_type": "execute_result"
    }
   ],
   "source": [
    "soup.text"
   ]
  },
  {
   "cell_type": "markdown",
   "id": "bb53349c",
   "metadata": {},
   "source": [
    "**Creating a list of the names of cars and prices of cars**"
   ]
  },
  {
   "cell_type": "code",
   "execution_count": 4,
   "id": "250c3a64",
   "metadata": {},
   "outputs": [],
   "source": [
    "car_name =[]\n",
    "car_price=[]"
   ]
  },
  {
   "cell_type": "markdown",
   "id": "a72c0d11",
   "metadata": {},
   "source": [
    "**Extracting the container of each car and then extracting each name and price of the car**"
   ]
  },
  {
   "cell_type": "code",
   "execution_count": 5,
   "id": "3edccb79",
   "metadata": {},
   "outputs": [
    {
     "name": "stdout",
     "output_type": "stream",
     "text": [
      "Extracted Successfully\n"
     ]
    }
   ],
   "source": [
    "for car_tag in soup.find_all('div', class_='col-4'):  \n",
    "\n",
    "    \n",
    "    car_name=[score.get_text()for score in soup.find_all(name=\"h2\", class_=\"_3FpCg\")]\n",
    "    \n",
    "    car_price=[score.get_text() for score in soup.find_all(name=\"div\", class_=\"_7udZZ\")]\n",
    "\n",
    "print(\"Extracted Successfully\")"
   ]
  },
  {
   "cell_type": "code",
   "execution_count": 6,
   "id": "8aa1b115",
   "metadata": {},
   "outputs": [],
   "source": [
    "#car_model=[]\n",
    "#car_info=[]\n",
    "\n",
    "#for car_tag in soup.find_all('div', class_='col-4'):  \n",
    "\n",
    "    # car_model=[score.get_text() for score in soup.find_all(name=\"p\", class_=\"cvakB\")]\n",
    "    \n",
    "    #car_info=[score.get_text() for score in soup.find_all(name=\"ul\", class_=\"bVR0c\") ]"
   ]
  },
  {
   "cell_type": "markdown",
   "id": "ce550348",
   "metadata": {},
   "source": [
    "**Extracting wheather the car is Manual Or Automatic**"
   ]
  },
  {
   "cell_type": "code",
   "execution_count": 7,
   "id": "5fff8c82",
   "metadata": {},
   "outputs": [
    {
     "name": "stdout",
     "output_type": "stream",
     "text": [
      "Extracted Successfully\n"
     ]
    }
   ],
   "source": [
    "car_model_tag = soup.find_all(name=\"p\", class_=\"cvakB\")\n",
    "\n",
    "car_model = [ma.find_all(name='span')[0].text for ma in car_model_tag]  #  ma stand for manual automatic\n",
    "\n",
    "car_model = [nan if nan.replace(' ','') else None for nan in car_model ] # nan stands for None values in list\n",
    "\n",
    "print(\"Extracted Successfully\")"
   ]
  },
  {
   "cell_type": "markdown",
   "id": "5f19035b",
   "metadata": {},
   "source": [
    "**Extracting the car's link**"
   ]
  },
  {
   "cell_type": "code",
   "execution_count": 8,
   "id": "6caf9fdf",
   "metadata": {},
   "outputs": [
    {
     "name": "stdout",
     "output_type": "stream",
     "text": [
      "Extracted Successfully\n"
     ]
    }
   ],
   "source": [
    "car_link=[]\n",
    "car_tag=soup.find_all(name=\"a\", class_=\"_9Ue0B\")\n",
    "for i in car_tag:\n",
    "    link=i.get(\"href\")\n",
    "    car_link.append(link)   \n",
    "    \n",
    "print(\"Extracted Successfully\")"
   ]
  },
  {
   "cell_type": "markdown",
   "id": "3d303981",
   "metadata": {},
   "source": [
    "**Extracting the car's Kilometers, How many km the car has already covered**"
   ]
  },
  {
   "cell_type": "code",
   "execution_count": 9,
   "id": "42f41e33",
   "metadata": {},
   "outputs": [
    {
     "name": "stdout",
     "output_type": "stream",
     "text": [
      "Extracted Successfully\n"
     ]
    }
   ],
   "source": [
    "km=[]\n",
    "for car_tag in soup.find_all('ul', class_='bVR0c'): \n",
    "    for i in car_tag.find_all(name=\"li\")[0]:\n",
    "        km.append(i)\n",
    "        \n",
    "print(\"Extracted Successfully\")"
   ]
  },
  {
   "cell_type": "markdown",
   "id": "72bc54d7",
   "metadata": {},
   "source": [
    "**Extracting the car's Owner, is the owner 1'st or 2'nd**"
   ]
  },
  {
   "cell_type": "code",
   "execution_count": 10,
   "id": "d94671cf",
   "metadata": {},
   "outputs": [
    {
     "name": "stdout",
     "output_type": "stream",
     "text": [
      "Extracted Successfully\n"
     ]
    }
   ],
   "source": [
    "owner=[]\n",
    "for car_tag in soup.find_all('ul', class_='bVR0c'): \n",
    "    for i in car_tag.find_all(name=\"li\")[1]:\n",
    "        owner.append(i)\n",
    "    \n",
    "print(\"Extracted Successfully\")"
   ]
  },
  {
   "cell_type": "markdown",
   "id": "2b10fec7",
   "metadata": {},
   "source": [
    "**Extracting the car's type, is the car Petrol or Diesal**"
   ]
  },
  {
   "cell_type": "code",
   "execution_count": 11,
   "id": "57581958",
   "metadata": {},
   "outputs": [
    {
     "name": "stdout",
     "output_type": "stream",
     "text": [
      "Extracted Successfully\n"
     ]
    }
   ],
   "source": [
    "ctype=[]\n",
    "for car_tag in soup.find_all('ul', class_='bVR0c'): \n",
    "    for i in car_tag.find_all(name=\"li\")[2]:\n",
    "        ctype.append(i)\n",
    "    \n",
    "print(\"Extracted Successfully\")"
   ]
  },
  {
   "cell_type": "markdown",
   "id": "26ef6595",
   "metadata": {},
   "source": [
    "**Checking the length of all list**"
   ]
  },
  {
   "cell_type": "code",
   "execution_count": 12,
   "id": "6d40fc5d",
   "metadata": {},
   "outputs": [
    {
     "name": "stdout",
     "output_type": "stream",
     "text": [
      "702\n",
      "702\n",
      "702\n",
      "702\n",
      "702\n",
      "702\n",
      "702\n"
     ]
    }
   ],
   "source": [
    "print(len(car_link))\n",
    "print(len(car_name))\n",
    "print(len(car_model))\n",
    "print(len(car_price))\n",
    "print(len(km))\n",
    "print(len(owner))\n",
    "print(len(ctype))\n",
    "#print(len(car_info))"
   ]
  },
  {
   "cell_type": "markdown",
   "id": "49c8f035",
   "metadata": {},
   "source": [
    "**Creating a Dictionary with the lists we have created above**"
   ]
  },
  {
   "cell_type": "code",
   "execution_count": 13,
   "id": "f4a9594e",
   "metadata": {},
   "outputs": [],
   "source": [
    "d={'Car Name':car_name,'Car model':car_model,'Car Price':car_price,'KM':km,'Owner':owner,'Car Type':ctype,'Car link':car_link}"
   ]
  },
  {
   "cell_type": "markdown",
   "id": "5bce7e3c",
   "metadata": {},
   "source": [
    "<h2>Creating a Dataframe using Pandas</h2>"
   ]
  },
  {
   "cell_type": "code",
   "execution_count": 14,
   "id": "ba4a6e71",
   "metadata": {
    "scrolled": true
   },
   "outputs": [
    {
     "data": {
      "text/html": [
       "<div>\n",
       "<style scoped>\n",
       "    .dataframe tbody tr th:only-of-type {\n",
       "        vertical-align: middle;\n",
       "    }\n",
       "\n",
       "    .dataframe tbody tr th {\n",
       "        vertical-align: top;\n",
       "    }\n",
       "\n",
       "    .dataframe thead th {\n",
       "        text-align: right;\n",
       "    }\n",
       "</style>\n",
       "<table border=\"1\" class=\"dataframe\">\n",
       "  <thead>\n",
       "    <tr style=\"text-align: right;\">\n",
       "      <th></th>\n",
       "      <th>Car Name</th>\n",
       "      <th>Car model</th>\n",
       "      <th>Car Price</th>\n",
       "      <th>KM</th>\n",
       "      <th>Owner</th>\n",
       "      <th>Car Type</th>\n",
       "      <th>Car link</th>\n",
       "    </tr>\n",
       "  </thead>\n",
       "  <tbody>\n",
       "    <tr>\n",
       "      <th>0</th>\n",
       "      <td>2014 Mercedes Benz C Class</td>\n",
       "      <td>Automatic</td>\n",
       "      <td>₹21,33,299</td>\n",
       "      <td>36,806 km</td>\n",
       "      <td>1st Owner</td>\n",
       "      <td>Petrol</td>\n",
       "      <td>https://www.cars24.com/buy-used-mercedes-benz-...</td>\n",
       "    </tr>\n",
       "    <tr>\n",
       "      <th>1</th>\n",
       "      <td>2013 Mercedes Benz E Class</td>\n",
       "      <td>Automatic</td>\n",
       "      <td>₹14,55,599</td>\n",
       "      <td>42,881 km</td>\n",
       "      <td>2nd Owner</td>\n",
       "      <td>Diesel</td>\n",
       "      <td>https://www.cars24.com/buy-used-mercedes-benz-...</td>\n",
       "    </tr>\n",
       "    <tr>\n",
       "      <th>2</th>\n",
       "      <td>2021 Renault Kwid</td>\n",
       "      <td>Automatic</td>\n",
       "      <td>₹5,33,299</td>\n",
       "      <td>3,689 km</td>\n",
       "      <td>1st Owner</td>\n",
       "      <td>Petrol</td>\n",
       "      <td>https://www.cars24.com/buy-used-renault-kwid-2...</td>\n",
       "    </tr>\n",
       "    <tr>\n",
       "      <th>3</th>\n",
       "      <td>2021 Renault Kwid</td>\n",
       "      <td>Manual</td>\n",
       "      <td>₹5,00,199</td>\n",
       "      <td>6,962 km</td>\n",
       "      <td>1st Owner</td>\n",
       "      <td>Petrol</td>\n",
       "      <td>https://www.cars24.com/buy-used-renault-kwid-2...</td>\n",
       "    </tr>\n",
       "    <tr>\n",
       "      <th>4</th>\n",
       "      <td>2017 Jeep Compass</td>\n",
       "      <td>Manual</td>\n",
       "      <td>₹13,18,099</td>\n",
       "      <td>55,376 km</td>\n",
       "      <td>1st Owner</td>\n",
       "      <td>Diesel</td>\n",
       "      <td>https://www.cars24.com/buy-used-jeep-compass-2...</td>\n",
       "    </tr>\n",
       "  </tbody>\n",
       "</table>\n",
       "</div>"
      ],
      "text/plain": [
       "                     Car Name  Car model   Car Price         KM      Owner  \\\n",
       "0  2014 Mercedes Benz C Class  Automatic  ₹21,33,299  36,806 km  1st Owner   \n",
       "1  2013 Mercedes Benz E Class  Automatic  ₹14,55,599  42,881 km  2nd Owner   \n",
       "2           2021 Renault Kwid  Automatic   ₹5,33,299   3,689 km  1st Owner   \n",
       "3           2021 Renault Kwid     Manual   ₹5,00,199   6,962 km  1st Owner   \n",
       "4           2017 Jeep Compass     Manual  ₹13,18,099  55,376 km  1st Owner   \n",
       "\n",
       "  Car Type                                           Car link  \n",
       "0   Petrol  https://www.cars24.com/buy-used-mercedes-benz-...  \n",
       "1   Diesel  https://www.cars24.com/buy-used-mercedes-benz-...  \n",
       "2   Petrol  https://www.cars24.com/buy-used-renault-kwid-2...  \n",
       "3   Petrol  https://www.cars24.com/buy-used-renault-kwid-2...  \n",
       "4   Diesel  https://www.cars24.com/buy-used-jeep-compass-2...  "
      ]
     },
     "execution_count": 14,
     "metadata": {},
     "output_type": "execute_result"
    }
   ],
   "source": [
    "df = pd.DataFrame(d)\n",
    "df.head()"
   ]
  },
  {
   "cell_type": "markdown",
   "id": "5439af23",
   "metadata": {},
   "source": [
    "**The 'Car Name' column has year, brand, car name so splitting the column car name and extracting year from it and storing 'Year' as a new column in Dataframe df**"
   ]
  },
  {
   "cell_type": "code",
   "execution_count": 15,
   "id": "de9f07d5",
   "metadata": {},
   "outputs": [
    {
     "data": {
      "text/plain": [
       "0    2014\n",
       "1    2013\n",
       "2    2021\n",
       "3    2021\n",
       "4    2017\n",
       "Name: Year, dtype: object"
      ]
     },
     "execution_count": 15,
     "metadata": {},
     "output_type": "execute_result"
    }
   ],
   "source": [
    "df['Car Name'].str.split(expand=True)\n",
    "Cyear=df['Car Name'].str.extract(r'(?P<Year>\\w+)', expand=True)\n",
    "df['Year']=Cyear\n",
    "df['Year'].head()"
   ]
  },
  {
   "cell_type": "markdown",
   "id": "5454b0dc",
   "metadata": {},
   "source": [
    "**Splitting the Column 'Car Name' and extracting brand from it and storing 'Brand' as a new column in Dataframe df**"
   ]
  },
  {
   "cell_type": "code",
   "execution_count": 16,
   "id": "7df2c8e7",
   "metadata": {},
   "outputs": [
    {
     "data": {
      "text/plain": [
       "0    Mercedes\n",
       "1    Mercedes\n",
       "2     Renault\n",
       "3     Renault\n",
       "4        Jeep\n",
       "Name: Brand, dtype: object"
      ]
     },
     "execution_count": 16,
     "metadata": {},
     "output_type": "execute_result"
    }
   ],
   "source": [
    "s=df['Car Name'].str.split(expand=True)\n",
    "s.drop(columns=s.columns[0], axis=1, inplace=True)\n",
    "df['Brand']=s[1]\n",
    "df['Brand'].head()"
   ]
  },
  {
   "cell_type": "markdown",
   "id": "b1fbcd38",
   "metadata": {},
   "source": [
    "**Splitting the Column 'Car Name' and extracting Car Name itself from it and storing 'Car Name' as a new column in Dataframe df**"
   ]
  },
  {
   "cell_type": "code",
   "execution_count": 17,
   "id": "aee797cf",
   "metadata": {},
   "outputs": [],
   "source": [
    "a=df['Car Name'].str.split(expand=True)\n",
    "\n",
    "b=a.drop([0, 1], axis = 1)\n",
    "\n",
    "c=b.fillna(\"\")\n",
    "\n",
    "d= c[2]+ \" \" + c[3]+ \" \" +c[4] \n",
    "df['Car Name'] =d"
   ]
  },
  {
   "cell_type": "code",
   "execution_count": 18,
   "id": "c5fe6385",
   "metadata": {},
   "outputs": [
    {
     "data": {
      "text/html": [
       "<div>\n",
       "<style scoped>\n",
       "    .dataframe tbody tr th:only-of-type {\n",
       "        vertical-align: middle;\n",
       "    }\n",
       "\n",
       "    .dataframe tbody tr th {\n",
       "        vertical-align: top;\n",
       "    }\n",
       "\n",
       "    .dataframe thead th {\n",
       "        text-align: right;\n",
       "    }\n",
       "</style>\n",
       "<table border=\"1\" class=\"dataframe\">\n",
       "  <thead>\n",
       "    <tr style=\"text-align: right;\">\n",
       "      <th></th>\n",
       "      <th>Car Name</th>\n",
       "      <th>Car model</th>\n",
       "      <th>Car Price</th>\n",
       "      <th>KM</th>\n",
       "      <th>Owner</th>\n",
       "      <th>Car Type</th>\n",
       "      <th>Car link</th>\n",
       "      <th>Year</th>\n",
       "      <th>Brand</th>\n",
       "    </tr>\n",
       "  </thead>\n",
       "  <tbody>\n",
       "    <tr>\n",
       "      <th>0</th>\n",
       "      <td>Benz C Class</td>\n",
       "      <td>Automatic</td>\n",
       "      <td>₹21,33,299</td>\n",
       "      <td>36,806 km</td>\n",
       "      <td>1st Owner</td>\n",
       "      <td>Petrol</td>\n",
       "      <td>https://www.cars24.com/buy-used-mercedes-benz-...</td>\n",
       "      <td>2014</td>\n",
       "      <td>Mercedes</td>\n",
       "    </tr>\n",
       "    <tr>\n",
       "      <th>1</th>\n",
       "      <td>Benz E Class</td>\n",
       "      <td>Automatic</td>\n",
       "      <td>₹14,55,599</td>\n",
       "      <td>42,881 km</td>\n",
       "      <td>2nd Owner</td>\n",
       "      <td>Diesel</td>\n",
       "      <td>https://www.cars24.com/buy-used-mercedes-benz-...</td>\n",
       "      <td>2013</td>\n",
       "      <td>Mercedes</td>\n",
       "    </tr>\n",
       "    <tr>\n",
       "      <th>2</th>\n",
       "      <td>Kwid</td>\n",
       "      <td>Automatic</td>\n",
       "      <td>₹5,33,299</td>\n",
       "      <td>3,689 km</td>\n",
       "      <td>1st Owner</td>\n",
       "      <td>Petrol</td>\n",
       "      <td>https://www.cars24.com/buy-used-renault-kwid-2...</td>\n",
       "      <td>2021</td>\n",
       "      <td>Renault</td>\n",
       "    </tr>\n",
       "    <tr>\n",
       "      <th>3</th>\n",
       "      <td>Kwid</td>\n",
       "      <td>Manual</td>\n",
       "      <td>₹5,00,199</td>\n",
       "      <td>6,962 km</td>\n",
       "      <td>1st Owner</td>\n",
       "      <td>Petrol</td>\n",
       "      <td>https://www.cars24.com/buy-used-renault-kwid-2...</td>\n",
       "      <td>2021</td>\n",
       "      <td>Renault</td>\n",
       "    </tr>\n",
       "    <tr>\n",
       "      <th>4</th>\n",
       "      <td>Compass</td>\n",
       "      <td>Manual</td>\n",
       "      <td>₹13,18,099</td>\n",
       "      <td>55,376 km</td>\n",
       "      <td>1st Owner</td>\n",
       "      <td>Diesel</td>\n",
       "      <td>https://www.cars24.com/buy-used-jeep-compass-2...</td>\n",
       "      <td>2017</td>\n",
       "      <td>Jeep</td>\n",
       "    </tr>\n",
       "  </tbody>\n",
       "</table>\n",
       "</div>"
      ],
      "text/plain": [
       "       Car Name  Car model   Car Price         KM      Owner Car Type  \\\n",
       "0  Benz C Class  Automatic  ₹21,33,299  36,806 km  1st Owner   Petrol   \n",
       "1  Benz E Class  Automatic  ₹14,55,599  42,881 km  2nd Owner   Diesel   \n",
       "2        Kwid    Automatic   ₹5,33,299   3,689 km  1st Owner   Petrol   \n",
       "3        Kwid       Manual   ₹5,00,199   6,962 km  1st Owner   Petrol   \n",
       "4     Compass       Manual  ₹13,18,099  55,376 km  1st Owner   Diesel   \n",
       "\n",
       "                                            Car link  Year     Brand  \n",
       "0  https://www.cars24.com/buy-used-mercedes-benz-...  2014  Mercedes  \n",
       "1  https://www.cars24.com/buy-used-mercedes-benz-...  2013  Mercedes  \n",
       "2  https://www.cars24.com/buy-used-renault-kwid-2...  2021   Renault  \n",
       "3  https://www.cars24.com/buy-used-renault-kwid-2...  2021   Renault  \n",
       "4  https://www.cars24.com/buy-used-jeep-compass-2...  2017      Jeep  "
      ]
     },
     "execution_count": 18,
     "metadata": {},
     "output_type": "execute_result"
    }
   ],
   "source": [
    "df.head()"
   ]
  },
  {
   "cell_type": "markdown",
   "id": "aca64c21",
   "metadata": {},
   "source": [
    "**Adding City Column with City as New Delhi**"
   ]
  },
  {
   "cell_type": "code",
   "execution_count": 19,
   "id": "176bf80c",
   "metadata": {},
   "outputs": [
    {
     "data": {
      "text/plain": [
       "702"
      ]
     },
     "execution_count": 19,
     "metadata": {},
     "output_type": "execute_result"
    }
   ],
   "source": [
    "df['City']='New_Delhi'\n",
    "\n",
    "len(df['City'])"
   ]
  },
  {
   "cell_type": "code",
   "execution_count": 20,
   "id": "1fa84523",
   "metadata": {},
   "outputs": [
    {
     "data": {
      "text/html": [
       "<div>\n",
       "<style scoped>\n",
       "    .dataframe tbody tr th:only-of-type {\n",
       "        vertical-align: middle;\n",
       "    }\n",
       "\n",
       "    .dataframe tbody tr th {\n",
       "        vertical-align: top;\n",
       "    }\n",
       "\n",
       "    .dataframe thead th {\n",
       "        text-align: right;\n",
       "    }\n",
       "</style>\n",
       "<table border=\"1\" class=\"dataframe\">\n",
       "  <thead>\n",
       "    <tr style=\"text-align: right;\">\n",
       "      <th></th>\n",
       "      <th>Car Name</th>\n",
       "      <th>Car model</th>\n",
       "      <th>Car Price</th>\n",
       "      <th>KM</th>\n",
       "      <th>Owner</th>\n",
       "      <th>Car Type</th>\n",
       "      <th>Car link</th>\n",
       "      <th>Year</th>\n",
       "      <th>Brand</th>\n",
       "      <th>City</th>\n",
       "    </tr>\n",
       "  </thead>\n",
       "  <tbody>\n",
       "    <tr>\n",
       "      <th>0</th>\n",
       "      <td>Benz C Class</td>\n",
       "      <td>Automatic</td>\n",
       "      <td>₹21,33,299</td>\n",
       "      <td>36,806 km</td>\n",
       "      <td>1st Owner</td>\n",
       "      <td>Petrol</td>\n",
       "      <td>https://www.cars24.com/buy-used-mercedes-benz-...</td>\n",
       "      <td>2014</td>\n",
       "      <td>Mercedes</td>\n",
       "      <td>New_Delhi</td>\n",
       "    </tr>\n",
       "    <tr>\n",
       "      <th>1</th>\n",
       "      <td>Benz E Class</td>\n",
       "      <td>Automatic</td>\n",
       "      <td>₹14,55,599</td>\n",
       "      <td>42,881 km</td>\n",
       "      <td>2nd Owner</td>\n",
       "      <td>Diesel</td>\n",
       "      <td>https://www.cars24.com/buy-used-mercedes-benz-...</td>\n",
       "      <td>2013</td>\n",
       "      <td>Mercedes</td>\n",
       "      <td>New_Delhi</td>\n",
       "    </tr>\n",
       "    <tr>\n",
       "      <th>2</th>\n",
       "      <td>Kwid</td>\n",
       "      <td>Automatic</td>\n",
       "      <td>₹5,33,299</td>\n",
       "      <td>3,689 km</td>\n",
       "      <td>1st Owner</td>\n",
       "      <td>Petrol</td>\n",
       "      <td>https://www.cars24.com/buy-used-renault-kwid-2...</td>\n",
       "      <td>2021</td>\n",
       "      <td>Renault</td>\n",
       "      <td>New_Delhi</td>\n",
       "    </tr>\n",
       "    <tr>\n",
       "      <th>3</th>\n",
       "      <td>Kwid</td>\n",
       "      <td>Manual</td>\n",
       "      <td>₹5,00,199</td>\n",
       "      <td>6,962 km</td>\n",
       "      <td>1st Owner</td>\n",
       "      <td>Petrol</td>\n",
       "      <td>https://www.cars24.com/buy-used-renault-kwid-2...</td>\n",
       "      <td>2021</td>\n",
       "      <td>Renault</td>\n",
       "      <td>New_Delhi</td>\n",
       "    </tr>\n",
       "    <tr>\n",
       "      <th>4</th>\n",
       "      <td>Compass</td>\n",
       "      <td>Manual</td>\n",
       "      <td>₹13,18,099</td>\n",
       "      <td>55,376 km</td>\n",
       "      <td>1st Owner</td>\n",
       "      <td>Diesel</td>\n",
       "      <td>https://www.cars24.com/buy-used-jeep-compass-2...</td>\n",
       "      <td>2017</td>\n",
       "      <td>Jeep</td>\n",
       "      <td>New_Delhi</td>\n",
       "    </tr>\n",
       "    <tr>\n",
       "      <th>...</th>\n",
       "      <td>...</td>\n",
       "      <td>...</td>\n",
       "      <td>...</td>\n",
       "      <td>...</td>\n",
       "      <td>...</td>\n",
       "      <td>...</td>\n",
       "      <td>...</td>\n",
       "      <td>...</td>\n",
       "      <td>...</td>\n",
       "      <td>...</td>\n",
       "    </tr>\n",
       "    <tr>\n",
       "      <th>697</th>\n",
       "      <td>Vitara Brezza</td>\n",
       "      <td>Manual</td>\n",
       "      <td>₹7,57,399</td>\n",
       "      <td>22,037 km</td>\n",
       "      <td>1st Owner</td>\n",
       "      <td>Diesel</td>\n",
       "      <td>https://www.cars24.com/buy-used-maruti-vitara-...</td>\n",
       "      <td>2017</td>\n",
       "      <td>Maruti</td>\n",
       "      <td>New_Delhi</td>\n",
       "    </tr>\n",
       "    <tr>\n",
       "      <th>698</th>\n",
       "      <td>Vitara Brezza</td>\n",
       "      <td>Manual</td>\n",
       "      <td>₹6,13,399</td>\n",
       "      <td>1,02,161 km</td>\n",
       "      <td>1st Owner</td>\n",
       "      <td>Diesel</td>\n",
       "      <td>https://www.cars24.com/buy-used-maruti-vitara-...</td>\n",
       "      <td>2016</td>\n",
       "      <td>Maruti</td>\n",
       "      <td>New_Delhi</td>\n",
       "    </tr>\n",
       "    <tr>\n",
       "      <th>699</th>\n",
       "      <td>Vitara Brezza</td>\n",
       "      <td>Manual</td>\n",
       "      <td>₹6,85,599</td>\n",
       "      <td>90,318 km</td>\n",
       "      <td>1st Owner</td>\n",
       "      <td>Diesel</td>\n",
       "      <td>https://www.cars24.com/buy-used-maruti-vitara-...</td>\n",
       "      <td>2016</td>\n",
       "      <td>Maruti</td>\n",
       "      <td>New_Delhi</td>\n",
       "    </tr>\n",
       "    <tr>\n",
       "      <th>700</th>\n",
       "      <td>Elite i20</td>\n",
       "      <td>Manual</td>\n",
       "      <td>₹5,80,899</td>\n",
       "      <td>61,115 km</td>\n",
       "      <td>1st Owner</td>\n",
       "      <td>Petrol</td>\n",
       "      <td>https://www.cars24.com/buy-used-hyundai-elite-...</td>\n",
       "      <td>2016</td>\n",
       "      <td>Hyundai</td>\n",
       "      <td>New_Delhi</td>\n",
       "    </tr>\n",
       "    <tr>\n",
       "      <th>701</th>\n",
       "      <td>Baleno</td>\n",
       "      <td>Manual</td>\n",
       "      <td>₹5,36,499</td>\n",
       "      <td>64,101 km</td>\n",
       "      <td>1st Owner</td>\n",
       "      <td>Petrol</td>\n",
       "      <td>https://www.cars24.com/buy-used-maruti-baleno-...</td>\n",
       "      <td>2017</td>\n",
       "      <td>Maruti</td>\n",
       "      <td>New_Delhi</td>\n",
       "    </tr>\n",
       "  </tbody>\n",
       "</table>\n",
       "<p>702 rows × 10 columns</p>\n",
       "</div>"
      ],
      "text/plain": [
       "           Car Name  Car model   Car Price           KM      Owner Car Type  \\\n",
       "0      Benz C Class  Automatic  ₹21,33,299    36,806 km  1st Owner   Petrol   \n",
       "1      Benz E Class  Automatic  ₹14,55,599    42,881 km  2nd Owner   Diesel   \n",
       "2            Kwid    Automatic   ₹5,33,299     3,689 km  1st Owner   Petrol   \n",
       "3            Kwid       Manual   ₹5,00,199     6,962 km  1st Owner   Petrol   \n",
       "4         Compass       Manual  ₹13,18,099    55,376 km  1st Owner   Diesel   \n",
       "..              ...        ...         ...          ...        ...      ...   \n",
       "697  Vitara Brezza      Manual   ₹7,57,399    22,037 km  1st Owner   Diesel   \n",
       "698  Vitara Brezza      Manual   ₹6,13,399  1,02,161 km  1st Owner   Diesel   \n",
       "699  Vitara Brezza      Manual   ₹6,85,599    90,318 km  1st Owner   Diesel   \n",
       "700      Elite i20      Manual   ₹5,80,899    61,115 km  1st Owner   Petrol   \n",
       "701        Baleno       Manual   ₹5,36,499    64,101 km  1st Owner   Petrol   \n",
       "\n",
       "                                              Car link  Year     Brand  \\\n",
       "0    https://www.cars24.com/buy-used-mercedes-benz-...  2014  Mercedes   \n",
       "1    https://www.cars24.com/buy-used-mercedes-benz-...  2013  Mercedes   \n",
       "2    https://www.cars24.com/buy-used-renault-kwid-2...  2021   Renault   \n",
       "3    https://www.cars24.com/buy-used-renault-kwid-2...  2021   Renault   \n",
       "4    https://www.cars24.com/buy-used-jeep-compass-2...  2017      Jeep   \n",
       "..                                                 ...   ...       ...   \n",
       "697  https://www.cars24.com/buy-used-maruti-vitara-...  2017    Maruti   \n",
       "698  https://www.cars24.com/buy-used-maruti-vitara-...  2016    Maruti   \n",
       "699  https://www.cars24.com/buy-used-maruti-vitara-...  2016    Maruti   \n",
       "700  https://www.cars24.com/buy-used-hyundai-elite-...  2016   Hyundai   \n",
       "701  https://www.cars24.com/buy-used-maruti-baleno-...  2017    Maruti   \n",
       "\n",
       "          City  \n",
       "0    New_Delhi  \n",
       "1    New_Delhi  \n",
       "2    New_Delhi  \n",
       "3    New_Delhi  \n",
       "4    New_Delhi  \n",
       "..         ...  \n",
       "697  New_Delhi  \n",
       "698  New_Delhi  \n",
       "699  New_Delhi  \n",
       "700  New_Delhi  \n",
       "701  New_Delhi  \n",
       "\n",
       "[702 rows x 10 columns]"
      ]
     },
     "execution_count": 20,
     "metadata": {},
     "output_type": "execute_result"
    }
   ],
   "source": [
    "df"
   ]
  },
  {
   "cell_type": "markdown",
   "id": "0bea7218",
   "metadata": {},
   "source": [
    "**Re-arranging the order of Columns**"
   ]
  },
  {
   "cell_type": "code",
   "execution_count": 21,
   "id": "8477a262",
   "metadata": {
    "scrolled": false
   },
   "outputs": [],
   "source": [
    "data=df.reindex(columns=['City','Year','Brand','Car Name','Car model','Car Price','KM','Owner','Car Type','Car link'])"
   ]
  },
  {
   "cell_type": "code",
   "execution_count": 22,
   "id": "665b8313",
   "metadata": {},
   "outputs": [
    {
     "data": {
      "text/html": [
       "<div>\n",
       "<style scoped>\n",
       "    .dataframe tbody tr th:only-of-type {\n",
       "        vertical-align: middle;\n",
       "    }\n",
       "\n",
       "    .dataframe tbody tr th {\n",
       "        vertical-align: top;\n",
       "    }\n",
       "\n",
       "    .dataframe thead th {\n",
       "        text-align: right;\n",
       "    }\n",
       "</style>\n",
       "<table border=\"1\" class=\"dataframe\">\n",
       "  <thead>\n",
       "    <tr style=\"text-align: right;\">\n",
       "      <th></th>\n",
       "      <th>City</th>\n",
       "      <th>Year</th>\n",
       "      <th>Brand</th>\n",
       "      <th>Car Name</th>\n",
       "      <th>Car model</th>\n",
       "      <th>Car Price</th>\n",
       "      <th>KM</th>\n",
       "      <th>Owner</th>\n",
       "      <th>Car Type</th>\n",
       "      <th>Car link</th>\n",
       "    </tr>\n",
       "  </thead>\n",
       "  <tbody>\n",
       "    <tr>\n",
       "      <th>0</th>\n",
       "      <td>New_Delhi</td>\n",
       "      <td>2014</td>\n",
       "      <td>Mercedes</td>\n",
       "      <td>Benz C Class</td>\n",
       "      <td>Automatic</td>\n",
       "      <td>₹21,33,299</td>\n",
       "      <td>36,806 km</td>\n",
       "      <td>1st Owner</td>\n",
       "      <td>Petrol</td>\n",
       "      <td>https://www.cars24.com/buy-used-mercedes-benz-...</td>\n",
       "    </tr>\n",
       "    <tr>\n",
       "      <th>1</th>\n",
       "      <td>New_Delhi</td>\n",
       "      <td>2013</td>\n",
       "      <td>Mercedes</td>\n",
       "      <td>Benz E Class</td>\n",
       "      <td>Automatic</td>\n",
       "      <td>₹14,55,599</td>\n",
       "      <td>42,881 km</td>\n",
       "      <td>2nd Owner</td>\n",
       "      <td>Diesel</td>\n",
       "      <td>https://www.cars24.com/buy-used-mercedes-benz-...</td>\n",
       "    </tr>\n",
       "    <tr>\n",
       "      <th>2</th>\n",
       "      <td>New_Delhi</td>\n",
       "      <td>2021</td>\n",
       "      <td>Renault</td>\n",
       "      <td>Kwid</td>\n",
       "      <td>Automatic</td>\n",
       "      <td>₹5,33,299</td>\n",
       "      <td>3,689 km</td>\n",
       "      <td>1st Owner</td>\n",
       "      <td>Petrol</td>\n",
       "      <td>https://www.cars24.com/buy-used-renault-kwid-2...</td>\n",
       "    </tr>\n",
       "    <tr>\n",
       "      <th>3</th>\n",
       "      <td>New_Delhi</td>\n",
       "      <td>2021</td>\n",
       "      <td>Renault</td>\n",
       "      <td>Kwid</td>\n",
       "      <td>Manual</td>\n",
       "      <td>₹5,00,199</td>\n",
       "      <td>6,962 km</td>\n",
       "      <td>1st Owner</td>\n",
       "      <td>Petrol</td>\n",
       "      <td>https://www.cars24.com/buy-used-renault-kwid-2...</td>\n",
       "    </tr>\n",
       "    <tr>\n",
       "      <th>4</th>\n",
       "      <td>New_Delhi</td>\n",
       "      <td>2017</td>\n",
       "      <td>Jeep</td>\n",
       "      <td>Compass</td>\n",
       "      <td>Manual</td>\n",
       "      <td>₹13,18,099</td>\n",
       "      <td>55,376 km</td>\n",
       "      <td>1st Owner</td>\n",
       "      <td>Diesel</td>\n",
       "      <td>https://www.cars24.com/buy-used-jeep-compass-2...</td>\n",
       "    </tr>\n",
       "  </tbody>\n",
       "</table>\n",
       "</div>"
      ],
      "text/plain": [
       "        City  Year     Brand      Car Name  Car model   Car Price         KM  \\\n",
       "0  New_Delhi  2014  Mercedes  Benz C Class  Automatic  ₹21,33,299  36,806 km   \n",
       "1  New_Delhi  2013  Mercedes  Benz E Class  Automatic  ₹14,55,599  42,881 km   \n",
       "2  New_Delhi  2021   Renault        Kwid    Automatic   ₹5,33,299   3,689 km   \n",
       "3  New_Delhi  2021   Renault        Kwid       Manual   ₹5,00,199   6,962 km   \n",
       "4  New_Delhi  2017      Jeep     Compass       Manual  ₹13,18,099  55,376 km   \n",
       "\n",
       "       Owner Car Type                                           Car link  \n",
       "0  1st Owner   Petrol  https://www.cars24.com/buy-used-mercedes-benz-...  \n",
       "1  2nd Owner   Diesel  https://www.cars24.com/buy-used-mercedes-benz-...  \n",
       "2  1st Owner   Petrol  https://www.cars24.com/buy-used-renault-kwid-2...  \n",
       "3  1st Owner   Petrol  https://www.cars24.com/buy-used-renault-kwid-2...  \n",
       "4  1st Owner   Diesel  https://www.cars24.com/buy-used-jeep-compass-2...  "
      ]
     },
     "execution_count": 22,
     "metadata": {},
     "output_type": "execute_result"
    }
   ],
   "source": [
    "data.head()"
   ]
  },
  {
   "cell_type": "markdown",
   "id": "6d6c2814",
   "metadata": {},
   "source": [
    "**Storing the data as CSV in Given Path**"
   ]
  },
  {
   "cell_type": "code",
   "execution_count": 23,
   "id": "dd780771",
   "metadata": {
    "scrolled": true
   },
   "outputs": [],
   "source": [
    "path=\"D:\\Malhar H Jadhav\\Zep Intern\\Task 2\\Code and data\\Data\\Cars24_New_Delhi.csv\"\n",
    "data.to_csv(path, index=False)"
   ]
  },
  {
   "cell_type": "code",
   "execution_count": null,
   "id": "adb62bb4",
   "metadata": {},
   "outputs": [],
   "source": []
  }
 ],
 "metadata": {
  "kernelspec": {
   "display_name": "Python 3 (ipykernel)",
   "language": "python",
   "name": "python3"
  },
  "language_info": {
   "codemirror_mode": {
    "name": "ipython",
    "version": 3
   },
   "file_extension": ".py",
   "mimetype": "text/x-python",
   "name": "python",
   "nbconvert_exporter": "python",
   "pygments_lexer": "ipython3",
   "version": "3.9.7"
  }
 },
 "nbformat": 4,
 "nbformat_minor": 5
}
