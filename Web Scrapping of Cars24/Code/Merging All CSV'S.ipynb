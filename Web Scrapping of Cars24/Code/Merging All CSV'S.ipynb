{
 "cells": [
  {
   "cell_type": "code",
   "execution_count": 1,
   "id": "40b18b5c",
   "metadata": {},
   "outputs": [],
   "source": [
    "import numpy as np\n",
    "import pandas as pd"
   ]
  },
  {
   "cell_type": "code",
   "execution_count": 4,
   "id": "4ddc879e",
   "metadata": {},
   "outputs": [
    {
     "name": "stdout",
     "output_type": "stream",
     "text": [
      "Merging multiple CSV files...\n"
     ]
    }
   ],
   "source": [
    "df1 = pd.read_csv(\"D:\\Malhar H Jadhav\\Zep Intern\\Task 2\\Web Scrapping Of Cars24\\Data\\Cars24_Pune.csv\")\n",
    "df2 = pd.read_csv(\"D:\\Malhar H Jadhav\\Zep Intern\\Task 2\\Web Scrapping Of Cars24\\Data\\Cars24_Mumbai.csv\")\n",
    "df3 = pd.read_csv(\"D:\\Malhar H Jadhav\\Zep Intern\\Task 2\\Web Scrapping Of Cars24\\Data\\Cars24_New_Delhi.csv\")\n",
    "df4 = pd.read_csv(\"D:\\Malhar H Jadhav\\Zep Intern\\Task 2\\Web Scrapping Of Cars24\\Data\\Cars24_Ahmedabad.csv\")\n",
    "df5 = pd.read_csv(\"D:\\Malhar H Jadhav\\Zep Intern\\Task 2\\Web Scrapping Of Cars24\\Data\\Cars24_Chennai.csv\")\n",
    "df6 = pd.read_csv(\"D:\\Malhar H Jadhav\\Zep Intern\\Task 2\\Web Scrapping Of Cars24\\Data\\Cars24_Bengaluru.csv\")\n",
    "df7 = pd.read_csv(\"D:\\Malhar H Jadhav\\Zep Intern\\Task 2\\Web Scrapping Of Cars24\\Data\\Cars24_Hyderabad.csv\")\n",
    "\n",
    "print(\"Merging multiple CSV files...\")\n",
    "\n",
    "# merge\n",
    "main_data = [df1, df2, df3, df4, df5, df6, df7]\n",
    "\n",
    "data = pd.concat(main_data)"
   ]
  },
  {
   "cell_type": "code",
   "execution_count": 5,
   "id": "ea2503af",
   "metadata": {},
   "outputs": [
    {
     "data": {
      "text/plain": [
       "3437"
      ]
     },
     "execution_count": 5,
     "metadata": {},
     "output_type": "execute_result"
    }
   ],
   "source": [
    "len(data)"
   ]
  },
  {
   "cell_type": "code",
   "execution_count": 6,
   "id": "e9de2c97",
   "metadata": {
    "scrolled": true
   },
   "outputs": [
    {
     "data": {
      "text/html": [
       "<div>\n",
       "<style scoped>\n",
       "    .dataframe tbody tr th:only-of-type {\n",
       "        vertical-align: middle;\n",
       "    }\n",
       "\n",
       "    .dataframe tbody tr th {\n",
       "        vertical-align: top;\n",
       "    }\n",
       "\n",
       "    .dataframe thead th {\n",
       "        text-align: right;\n",
       "    }\n",
       "</style>\n",
       "<table border=\"1\" class=\"dataframe\">\n",
       "  <thead>\n",
       "    <tr style=\"text-align: right;\">\n",
       "      <th></th>\n",
       "      <th>City</th>\n",
       "      <th>Year</th>\n",
       "      <th>Brand</th>\n",
       "      <th>Car Name</th>\n",
       "      <th>Car model</th>\n",
       "      <th>Car Price</th>\n",
       "      <th>KM</th>\n",
       "      <th>Owner</th>\n",
       "      <th>Car Type</th>\n",
       "      <th>Car link</th>\n",
       "    </tr>\n",
       "  </thead>\n",
       "  <tbody>\n",
       "    <tr>\n",
       "      <th>0</th>\n",
       "      <td>Pune</td>\n",
       "      <td>2021</td>\n",
       "      <td>Nissan</td>\n",
       "      <td>MAGNITE</td>\n",
       "      <td>NaN</td>\n",
       "      <td>₹9,63,799</td>\n",
       "      <td>16,049 km</td>\n",
       "      <td>1st Owner</td>\n",
       "      <td>Petrol</td>\n",
       "      <td>https://www.cars24.com/buy-used-nissan-magnite...</td>\n",
       "    </tr>\n",
       "    <tr>\n",
       "      <th>1</th>\n",
       "      <td>Pune</td>\n",
       "      <td>2014</td>\n",
       "      <td>Volkswagen</td>\n",
       "      <td>Vento</td>\n",
       "      <td>Manual</td>\n",
       "      <td>₹5,13,399</td>\n",
       "      <td>41,569 km</td>\n",
       "      <td>1st Owner</td>\n",
       "      <td>Petrol</td>\n",
       "      <td>https://www.cars24.com/buy-used-volkswagen-ven...</td>\n",
       "    </tr>\n",
       "    <tr>\n",
       "      <th>2</th>\n",
       "      <td>Pune</td>\n",
       "      <td>2020</td>\n",
       "      <td>Tata</td>\n",
       "      <td>Tiago</td>\n",
       "      <td>Manual</td>\n",
       "      <td>₹6,80,399</td>\n",
       "      <td>8,118 km</td>\n",
       "      <td>1st Owner</td>\n",
       "      <td>Petrol</td>\n",
       "      <td>https://www.cars24.com/buy-used-tata-tiago-202...</td>\n",
       "    </tr>\n",
       "    <tr>\n",
       "      <th>3</th>\n",
       "      <td>Pune</td>\n",
       "      <td>2015</td>\n",
       "      <td>Renault</td>\n",
       "      <td>Duster</td>\n",
       "      <td>Manual</td>\n",
       "      <td>₹6,76,799</td>\n",
       "      <td>63,143 km</td>\n",
       "      <td>1st Owner</td>\n",
       "      <td>Diesel</td>\n",
       "      <td>https://www.cars24.com/buy-used-renault-duster...</td>\n",
       "    </tr>\n",
       "    <tr>\n",
       "      <th>4</th>\n",
       "      <td>Pune</td>\n",
       "      <td>2020</td>\n",
       "      <td>Maruti</td>\n",
       "      <td>Alto</td>\n",
       "      <td>Manual</td>\n",
       "      <td>₹3,95,099</td>\n",
       "      <td>2,530 km</td>\n",
       "      <td>1st Owner</td>\n",
       "      <td>Petrol</td>\n",
       "      <td>https://www.cars24.com/buy-used-maruti-alto-20...</td>\n",
       "    </tr>\n",
       "    <tr>\n",
       "      <th>...</th>\n",
       "      <td>...</td>\n",
       "      <td>...</td>\n",
       "      <td>...</td>\n",
       "      <td>...</td>\n",
       "      <td>...</td>\n",
       "      <td>...</td>\n",
       "      <td>...</td>\n",
       "      <td>...</td>\n",
       "      <td>...</td>\n",
       "      <td>...</td>\n",
       "    </tr>\n",
       "    <tr>\n",
       "      <th>230</th>\n",
       "      <td>Hyderabad</td>\n",
       "      <td>2021</td>\n",
       "      <td>Hyundai</td>\n",
       "      <td>VENUE</td>\n",
       "      <td>Automatic</td>\n",
       "      <td>₹12,01,799</td>\n",
       "      <td>16,964 km</td>\n",
       "      <td>1st Owner</td>\n",
       "      <td>Petrol</td>\n",
       "      <td>https://www.cars24.com/buy-used-hyundai-venue-...</td>\n",
       "    </tr>\n",
       "    <tr>\n",
       "      <th>231</th>\n",
       "      <td>Hyderabad</td>\n",
       "      <td>2017</td>\n",
       "      <td>Maruti</td>\n",
       "      <td>S Cross</td>\n",
       "      <td>Manual</td>\n",
       "      <td>₹7,34,599</td>\n",
       "      <td>99,312 km</td>\n",
       "      <td>2nd Owner</td>\n",
       "      <td>Diesel</td>\n",
       "      <td>https://www.cars24.com/buy-used-maruti-s-cross...</td>\n",
       "    </tr>\n",
       "    <tr>\n",
       "      <th>232</th>\n",
       "      <td>Hyderabad</td>\n",
       "      <td>2014</td>\n",
       "      <td>Hyundai</td>\n",
       "      <td>Grand i10</td>\n",
       "      <td>Manual</td>\n",
       "      <td>₹4,43,999</td>\n",
       "      <td>65,018 km</td>\n",
       "      <td>1st Owner</td>\n",
       "      <td>Petrol</td>\n",
       "      <td>https://www.cars24.com/buy-used-hyundai-grand-...</td>\n",
       "    </tr>\n",
       "    <tr>\n",
       "      <th>233</th>\n",
       "      <td>Hyderabad</td>\n",
       "      <td>2019</td>\n",
       "      <td>Maruti</td>\n",
       "      <td>Dzire</td>\n",
       "      <td>Manual</td>\n",
       "      <td>₹7,52,199</td>\n",
       "      <td>84,773 km</td>\n",
       "      <td>1st Owner</td>\n",
       "      <td>Diesel</td>\n",
       "      <td>https://www.cars24.com/buy-used-maruti-dzire-2...</td>\n",
       "    </tr>\n",
       "    <tr>\n",
       "      <th>234</th>\n",
       "      <td>Hyderabad</td>\n",
       "      <td>2021</td>\n",
       "      <td>Volkswagen</td>\n",
       "      <td>Polo</td>\n",
       "      <td>Manual</td>\n",
       "      <td>₹6,61,299</td>\n",
       "      <td>9,891 km</td>\n",
       "      <td>1st Owner</td>\n",
       "      <td>Petrol</td>\n",
       "      <td>https://www.cars24.com/buy-used-volkswagen-pol...</td>\n",
       "    </tr>\n",
       "  </tbody>\n",
       "</table>\n",
       "<p>3437 rows × 10 columns</p>\n",
       "</div>"
      ],
      "text/plain": [
       "          City  Year       Brand    Car Name  Car model   Car Price  \\\n",
       "0         Pune  2021      Nissan   MAGNITE          NaN   ₹9,63,799   \n",
       "1         Pune  2014  Volkswagen     Vento       Manual   ₹5,13,399   \n",
       "2         Pune  2020        Tata     Tiago       Manual   ₹6,80,399   \n",
       "3         Pune  2015     Renault    Duster       Manual   ₹6,76,799   \n",
       "4         Pune  2020      Maruti      Alto       Manual   ₹3,95,099   \n",
       "..         ...   ...         ...         ...        ...         ...   \n",
       "230  Hyderabad  2021     Hyundai     VENUE    Automatic  ₹12,01,799   \n",
       "231  Hyderabad  2017      Maruti    S Cross      Manual   ₹7,34,599   \n",
       "232  Hyderabad  2014     Hyundai  Grand i10      Manual   ₹4,43,999   \n",
       "233  Hyderabad  2019      Maruti     Dzire       Manual   ₹7,52,199   \n",
       "234  Hyderabad  2021  Volkswagen      Polo       Manual   ₹6,61,299   \n",
       "\n",
       "            KM      Owner Car Type  \\\n",
       "0    16,049 km  1st Owner   Petrol   \n",
       "1    41,569 km  1st Owner   Petrol   \n",
       "2     8,118 km  1st Owner   Petrol   \n",
       "3    63,143 km  1st Owner   Diesel   \n",
       "4     2,530 km  1st Owner   Petrol   \n",
       "..         ...        ...      ...   \n",
       "230  16,964 km  1st Owner   Petrol   \n",
       "231  99,312 km  2nd Owner   Diesel   \n",
       "232  65,018 km  1st Owner   Petrol   \n",
       "233  84,773 km  1st Owner   Diesel   \n",
       "234   9,891 km  1st Owner   Petrol   \n",
       "\n",
       "                                              Car link  \n",
       "0    https://www.cars24.com/buy-used-nissan-magnite...  \n",
       "1    https://www.cars24.com/buy-used-volkswagen-ven...  \n",
       "2    https://www.cars24.com/buy-used-tata-tiago-202...  \n",
       "3    https://www.cars24.com/buy-used-renault-duster...  \n",
       "4    https://www.cars24.com/buy-used-maruti-alto-20...  \n",
       "..                                                 ...  \n",
       "230  https://www.cars24.com/buy-used-hyundai-venue-...  \n",
       "231  https://www.cars24.com/buy-used-maruti-s-cross...  \n",
       "232  https://www.cars24.com/buy-used-hyundai-grand-...  \n",
       "233  https://www.cars24.com/buy-used-maruti-dzire-2...  \n",
       "234  https://www.cars24.com/buy-used-volkswagen-pol...  \n",
       "\n",
       "[3437 rows x 10 columns]"
      ]
     },
     "execution_count": 6,
     "metadata": {},
     "output_type": "execute_result"
    }
   ],
   "source": [
    "data"
   ]
  },
  {
   "cell_type": "code",
   "execution_count": 7,
   "id": "e0ca2fec",
   "metadata": {},
   "outputs": [
    {
     "data": {
      "text/plain": [
       "Index(['City', 'Year', 'Brand', 'Car Name', 'Car model', 'Car Price', 'KM',\n",
       "       'Owner', 'Car Type', 'Car link'],\n",
       "      dtype='object')"
      ]
     },
     "execution_count": 7,
     "metadata": {},
     "output_type": "execute_result"
    }
   ],
   "source": [
    "data.columns"
   ]
  },
  {
   "cell_type": "code",
   "execution_count": 8,
   "id": "aed7c224",
   "metadata": {},
   "outputs": [
    {
     "data": {
      "text/plain": [
       "array(['Pune', 'Mumbai', 'New_Delhi', 'Ahmedabad', 'Chennai', 'Bengaluru',\n",
       "       'Hyderabad'], dtype=object)"
      ]
     },
     "execution_count": 8,
     "metadata": {},
     "output_type": "execute_result"
    }
   ],
   "source": [
    "data['City'].unique()"
   ]
  },
  {
   "cell_type": "code",
   "execution_count": 9,
   "id": "d8583781",
   "metadata": {},
   "outputs": [
    {
     "data": {
      "text/plain": [
       "City          0\n",
       "Year          0\n",
       "Brand         0\n",
       "Car Name      0\n",
       "Car model    47\n",
       "Car Price     0\n",
       "KM            0\n",
       "Owner         0\n",
       "Car Type      0\n",
       "Car link      0\n",
       "dtype: int64"
      ]
     },
     "execution_count": 9,
     "metadata": {},
     "output_type": "execute_result"
    }
   ],
   "source": [
    "data.isnull().sum()"
   ]
  },
  {
   "cell_type": "code",
   "execution_count": 10,
   "id": "c9b5c17a",
   "metadata": {},
   "outputs": [
    {
     "data": {
      "text/plain": [
       "City          0\n",
       "Year          0\n",
       "Brand         0\n",
       "Car Name      0\n",
       "Car model    47\n",
       "Car Price     0\n",
       "KM            0\n",
       "Owner         0\n",
       "Car Type      0\n",
       "Car link      0\n",
       "dtype: int64"
      ]
     },
     "execution_count": 10,
     "metadata": {},
     "output_type": "execute_result"
    }
   ],
   "source": [
    "data.isna().sum()"
   ]
  },
  {
   "cell_type": "markdown",
   "id": "374640e9",
   "metadata": {},
   "source": [
    "**The Data  is  been stored in Data folder below is the path**"
   ]
  },
  {
   "cell_type": "code",
   "execution_count": 12,
   "id": "4eecc8ea",
   "metadata": {},
   "outputs": [],
   "source": [
    "path=\"D:\\Malhar H Jadhav\\Zep Intern\\Task 2\\Web Scrapping Of Cars24\\Data\\Cars24_Scrapped_Data.csv\"\n",
    "data.to_csv(path, index=False)"
   ]
  },
  {
   "cell_type": "code",
   "execution_count": null,
   "id": "282cded6",
   "metadata": {},
   "outputs": [],
   "source": []
  }
 ],
 "metadata": {
  "kernelspec": {
   "display_name": "Python 3 (ipykernel)",
   "language": "python",
   "name": "python3"
  },
  "language_info": {
   "codemirror_mode": {
    "name": "ipython",
    "version": 3
   },
   "file_extension": ".py",
   "mimetype": "text/x-python",
   "name": "python",
   "nbconvert_exporter": "python",
   "pygments_lexer": "ipython3",
   "version": "3.9.7"
  }
 },
 "nbformat": 4,
 "nbformat_minor": 5
}
