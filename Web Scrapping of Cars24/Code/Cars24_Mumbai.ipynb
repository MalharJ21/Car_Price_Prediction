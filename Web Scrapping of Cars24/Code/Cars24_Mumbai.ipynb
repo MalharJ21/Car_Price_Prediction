{
 "cells": [
  {
   "cell_type": "markdown",
   "id": "a0647529",
   "metadata": {},
   "source": [
    "<h3>Importing the Libraries Required </h3>"
   ]
  },
  {
   "cell_type": "code",
   "execution_count": 1,
   "id": "0c5c40ca",
   "metadata": {},
   "outputs": [],
   "source": [
    "import urllib\n",
    "import time\n",
    "import json\n",
    "import numpy as np\n",
    "import pandas as pd\n",
    "from tqdm import tqdm\n",
    "from time import sleep\n",
    "from selenium import webdriver\n",
    "from selenium.webdriver.common.by import By\n",
    "from selenium.webdriver.support.ui import WebDriverWait\n",
    "from selenium.webdriver.support import expected_conditions as EC\n",
    "from selenium.common.exceptions import TimeoutException\n",
    "from bs4 import BeautifulSoup\n",
    "from selenium.common.exceptions import ElementClickInterceptedException\n",
    "from selenium.common.exceptions import NoSuchElementException\n"
   ]
  },
  {
   "cell_type": "markdown",
   "id": "e57b890a",
   "metadata": {},
   "source": [
    "<h3>Using Selenium For Auto Scrolling the Web-Page and Extracting the The Page Source</h3>"
   ]
  },
  {
   "cell_type": "code",
   "execution_count": 2,
   "id": "6c96f183",
   "metadata": {
    "scrolled": true
   },
   "outputs": [
    {
     "name": "stderr",
     "output_type": "stream",
     "text": [
      "C:\\Users\\jadha\\AppData\\Local\\Temp/ipykernel_18344/1789806877.py:1: DeprecationWarning: executable_path has been deprecated, please pass in a Service object\n",
      "  driver = webdriver.Chrome(executable_path=r'D:\\\\Malhar H Jadhav\\\\Devlopment\\\\chromedriver_win32\\\\chromedriver.exe')\n"
     ]
    }
   ],
   "source": [
    "driver = webdriver.Chrome(executable_path=r'D:\\\\Malhar H Jadhav\\\\Devlopment\\\\chromedriver_win32\\\\chromedriver.exe')\n",
    "driver.wait = WebDriverWait(driver, 5)\n",
    "driver.maximize_window()\n",
    "driver.get(\"https://www.cars24.com/buy-used-car?sort=P&storeCityId=2378&pinId=400001\")\n",
    "time.sleep(7)\n",
    "\n",
    "\n",
    "height = driver.execute_script(\"return document.documentElement.scrollHeight\")\n",
    "lastheight = 0\n",
    "while True:\n",
    "    if lastheight == height:\n",
    "        break\n",
    "    lastheight = height\n",
    "    driver.execute_script(\"window.scrollTo(0, \" + str(height) + \");\")\n",
    "    time.sleep(10)\n",
    "    height = driver.execute_script(\"return document.documentElement.scrollHeight\")\n",
    "    \n",
    "    \n",
    "# Using BeautifulSoup To Store the Page Source in Object Called Soup\n",
    "\n",
    "soup = BeautifulSoup(driver.page_source)\n",
    "driver.quit()"
   ]
  },
  {
   "cell_type": "markdown",
   "id": "9dbcafd3",
   "metadata": {},
   "source": [
    "<h3>Storing the page source in object called Soup and viewing the text</h3>"
   ]
  },
  {
   "cell_type": "code",
   "execution_count": 3,
   "id": "fe63b43f",
   "metadata": {},
   "outputs": [
    {
     "data": {
      "text/plain": [
       "\"\\n\\n\\n\\n\\n\\n\\n\\n\\n\\n\\nUsed Cars in Mumbai - Second Hand Cars in Mumbai for Sale\\nMumbai  Popular CitiesUsed cars in BengaluruPopular CarsUsed Hyundai carsUsed Renault carsUsed Mahindra carsUsed Toyota carsUsed Audi carsUsed Honda carsUsed Maruti carsUsed Tata carsUsed Ford carsUsed Skoda carsAll used cars in BengaluruUsed cars in ChennaiPopular CarsUsed Hyundai carsUsed Renault carsUsed Mahindra carsUsed Toyota carsUsed Audi carsUsed Honda carsUsed Maruti carsUsed Tata carsUsed Ford carsUsed Skoda carsAll used cars in ChennaiUsed cars in New DelhiPopular CarsUsed Hyundai carsUsed Renault carsUsed Mahindra carsUsed Toyota carsUsed Audi carsUsed Honda carsUsed Maruti carsUsed Tata carsUsed Ford carsUsed Skoda carsAll used cars in New DelhiUsed cars in MumbaiPopular CarsUsed Hyundai carsUsed Renault carsUsed Mahindra carsUsed Toyota carsUsed Audi carsUsed Honda carsUsed Maruti carsUsed Tata carsUsed Ford carsUsed Skoda carsAll used cars in MumbaiUsed cars in PunePopular CarsUsed Hyundai carsUsed Renault carsUsed Mahindra carsUsed Toyota carsUsed Audi carsUsed Honda carsUsed Maruti carsUsed Tata carsUsed Ford carsUsed Skoda carsAll used cars in PuneUsed cars in HyderabadPopular CarsUsed Hyundai carsUsed Renault carsUsed Mahindra carsUsed Toyota carsUsed Audi carsUsed Honda carsUsed Maruti carsUsed Tata carsUsed Ford carsUsed Skoda carsAll used cars in HyderabadUsed cars in KolkataPopular CarsUsed Hyundai carsUsed Renault carsUsed Mahindra carsUsed Toyota carsUsed Audi carsUsed Honda carsUsed Maruti carsUsed Tata carsUsed Ford carsUsed Skoda carsAll used cars in KolkataUsed cars in AhmedabadPopular CarsUsed Hyundai carsUsed Renault carsUsed Mahindra carsUsed Toyota carsUsed Audi carsUsed Honda carsUsed Maruti carsUsed Tata carsUsed Ford carsUsed Skoda carsAll used cars in AhmedabadUsed cars in JaipurPopular CarsUsed Hyundai carsUsed Renault carsUsed Mahindra carsUsed Toyota carsUsed Audi carsUsed Honda carsUsed Maruti carsUsed Tata carsUsed Ford carsUsed Skoda carsAll used cars in JaipurUsed cars in ChandigarhPopular CarsUsed Hyundai carsUsed Renault carsUsed Mahindra carsUsed Toyota carsUsed Audi carsUsed Honda carsUsed Maruti carsUsed Tata carsUsed Ford carsUsed Skoda carsAll used cars in ChandigarhBuy used carSell used carLoginRC Transfers StatusFAQBecome a partnerBuy Car: 9 AM - 9 PM1800 258 5656HomeUsed CarsMumbaiFind your dream car with usSort By:Best Match  PriceModel YearKMs DrivenMake & ModelRTOMore FiltersUsed Cars in Mumbai2014 Maruti Wagon R 1.0LXI Manual13,712 km1st OwnerPetrol₹7,984/month₹3,58,899Zero downpayment2018 Maruti SwiftVDI AMT Automatic53,119 km2nd OwnerDiesel₹15,326/month₹6,88,999Zero downpayment2019 Renault TRIBER1.0 RXZ Manual7,440 km1st OwnerPetrol₹16,161/month₹7,26,499Zero downpayment2020 Maruti Celerio XZXI OPT AMT Automatic4,613 km1st OwnerPetrol₹14,628/month₹6,57,599Zero downpayment2016 Maruti CelerioVXI AMT Automatic9,836 km2nd OwnerPetrol₹9,409/month₹4,22,999Zero downpaymentFilter By Popular BrandMarutiHyundaiHondaTataToyota2012 Maruti Swift DzireVDI BS IV Manual1,34,186 km1st OwnerDiesel₹10,261/month₹4,61,299Zero downpayment2014 Maruti RitzVXI Manual58,849 km1st OwnerPetrol₹9,060/month₹4,07,299Zero downpayment2019 Mahindra XUV500W11 (O) AT Automatic29,100 km2nd OwnerDiesel₹37,457/month₹16,83,899Zero downpayment2020 KIA SONETGTX PLUS 1.5 DCT AT 10,769 km1st OwnerDiesel₹33,551/month₹15,08,299Zero downpayment2020 Honda Amaze1.2 EMT I VTEC Manual11,596 km1st OwnerPetrol₹14,288/month₹6,42,299Zero downpayment2017 Maruti SwiftVXI Manual33,801 km1st OwnerPetrol₹11,774/month₹5,29,299Zero downpaymentFilter By BudgetCars under 2 lakhCars between 2 lakh - 5 lakhCars between 5 lakh - 10 lakhCars above 10 lakh2014 Maruti Wagon R 1.0LXI Manual23,640 km1st OwnerPetrol₹7,810/month₹3,51,099Zero downpayment2021 Renault Kwid1.0 RXT Opt AT Automatic810 km1st OwnerPetrol₹13,249/month₹5,95,599Zero downpayment2017 Tata TiagoXZA 1.2 REVOTRON Automatic3,678 km2nd OwnerPetrol₹11,514/month₹5,17,599Zero downpayment2016 Maruti Alto 800VXI Manual23,578 km2nd OwnerPetrol₹6,495/month₹2,91,999Zero downpayment2016 Maruti Swift DzireZDI Manual47,547 km1st OwnerDiesel₹14,176/month₹6,37,299Zero downpayment2020 Tata NEXONXZ+ OPT PETROL Manual5,327 km1st OwnerPetrol₹23,348/month₹10,49,599Zero downpaymentFilter By Fuel TypePetrolDieselCNGLPGElectricHybrid2015 Hyundai Elite i20ASTA 1.2 Manual32,964 km2nd OwnerPetrol₹11,189/month₹5,02,999Zero downpayment2012 Maruti Swift DzireVDI BS IV Manual94 km2nd OwnerDiesel₹9,412/month₹4,23,099Zero downpayment2015 Maruti SwiftVXI Manual24,045 km1st OwnerPetrol₹11,120/month₹4,99,899Zero downpayment2020 Toyota URBAN CRUISERPREMIUM DUAL TONE AT 15,580 km2nd OwnerPetrol₹26,971/month₹12,12,499Zero downpayment2019 MG HECTORSHARP 2.0 DIESEL Manual29,347 km1st OwnerDiesel₹38,634/month₹17,36,799Zero downpayment2020 Maruti New  Wagon-RZXI 1.2L AGS Automatic11,907 km1st OwnerPetrol₹14,523/month₹6,52,899Zero downpaymentFilter By Body TypeHatchbackSedanSUVLuxury SedanLuxury SUV2015 Maruti Swift DzireVXI 1.2 BS IV Manual53,090 km1st OwnerPetrol₹10,551/month₹4,74,299Zero downpayment2015 Maruti CiazVXI PLUS AMT Automatic42,011 km1st OwnerPetrol₹13,696/month₹6,15,699Zero downpayment2019 Renault KwidRXT 1.0 EASY-R AT OPTION Automatic3,615 km1st OwnerPetrol₹10,488/month₹4,71,499Zero downpayment2016 Honda BR-V1.5 i-VTEC V CVT Automatic84,427 km1st OwnerPetrol₹15,578/month₹7,00,299Zero downpayment12-Months Free Warranty!Free 12 months warranty on all cars to safeguard you from unforeseen repair and maintenance costsKNOW MORE2019 Honda CivicVX DIESEL Manual80,920 km1st OwnerDiesel₹33,327/month₹14,98,199Zero downpayment2019 Tata HarrierXZ 2.0L Kryotec Manual49,744 km1st OwnerDiesel₹35,527/month₹15,97,099Zero downpayment2020 Hyundai AURAE MT 1.2 KAPPA Manual12,810 km1st OwnerPetrol₹13,727/month₹6,17,099Zero downpayment2014 Hyundai XcentSX 1.2 OPT Manual61,977 km1st OwnerPetrol₹11,222/month₹5,04,499Zero downpayment2019 Maruti New  Wagon-RZXI 1.2 Manual30,741 km1st OwnerPetrol₹12,034/month₹5,40,999Zero downpayment2016 Hyundai Elite i20MAGNA 1.2 Manual25,895 km1st OwnerPetrol₹11,967/month₹5,37,999Zero downpayment2015 Honda CityVX MT PETROL Manual57,339 km1st OwnerPetrol₹15,055/month₹6,76,799Zero downpayment2018 Hyundai Grand i10SPORTZ 1.2 KAPPA VTVT Manual16,868 km1st OwnerPetrol₹11,856/month₹5,32,999Zero downpayment2017 Maruti CiazZETA 1.4 VVT AMT Automatic30,492 km1st OwnerPetrol₹18,465/month₹8,30,099Zero downpayment2018 Toyota EtiosV Manual19,949 km2nd OwnerPetrol₹13,729/month₹6,17,199Zero downpayment2015 Volkswagen PoloGT TSI 1.2 PETROL AT Automatic70,639 km2nd OwnerPetrol₹11,976/month₹5,38,399Zero downpayment2015 Hyundai Elite i20MAGNA 1.2 Manual52,222 km1st OwnerPetrol₹10,596/month₹4,76,349Zero downpayment2019 Renault KwidRXT 1.0 EASY-R AT OPTION Automatic13,513 km1st OwnerPetrol₹9,832/month₹4,41,999Zero downpayment2017 Maruti CelerioZXI Manual16,313 km1st OwnerPetrol₹10,057/month₹4,52,099Zero downpayment2014 Toyota Corolla AltisJ S Manual53,337 km1st OwnerPetrol₹16,485/month₹7,41,099Zero downpayment2016 Honda JazzVX  1.2 Manual34,633 km1st OwnerPetrol₹11,770/month₹5,29,099Zero downpayment2015 Hyundai Creta1.6 SX CRDI Manual31,255 km2nd OwnerDiesel₹21,186/month₹9,52,399Zero downpayment2018 Hyundai EonMAGNA PLUS Manual25,031 km1st OwnerPetrol₹8,215/month₹3,69,299Zero downpayment2016 Hyundai Grand i10SPORTZ 1.2 KAPPA VTVT Manual21,815 km1st OwnerPetrol₹10,161/month₹4,56,799Zero downpayment2018 Honda Amaze1.2 EMT I VTEC Manual65,631 km1st OwnerPetrol₹12,361/month₹5,55,699Zero downpayment2016 Hyundai Elite i20SPORTZ 1.2 Manual15,692 km2nd OwnerPetrol₹12,490/month₹5,61,499Zero downpayment2015 Hyundai Creta1.6 SX CRDI Manual41,887 km1st OwnerDiesel₹21,270/month₹9,56,199Zero downpayment2019 Hyundai Creta1.6 SX VTVT (O) EXECUTIVE Manual18,549 km2nd OwnerPetrol₹30,008/month₹13,48,999Zero downpayment2019 Mahindra XUV 3OOW8(O) Manual39,391 km1st OwnerDiesel₹25,975/month₹11,67,699Zero downpayment2017 Ford Ecosport1.5 TITANIUM TI VCT AT Automatic471 km1st OwnerPetrol₹18,797/month₹8,44,999Zero downpayment2019 Honda Jazz1.2 VX AT Automatic12,037 km1st OwnerPetrol₹19,072/month₹8,57,399Zero downpayment2014 Honda CityVX MT DIESEL Manual91,203 km2nd OwnerDiesel₹12,239/month₹5,50,199Zero downpayment2019 Honda Amaze1.2 SMT I VTEC Manual9,076 km1st OwnerPetrol₹14,161/month₹6,36,599Zero downpayment2019 Maruti DzireVXI AMT Automatic31,248 km1st OwnerPetrol₹15,549/month₹6,98,999Zero downpayment2016 Maruti CiazVXI OPT Manual32,503 km1st OwnerPetrol₹14,093/month₹6,33,549Zero downpayment2016 Maruti BalenoZETA 1.2 K12 Manual24,678 km1st OwnerPetrol₹13,320/month₹5,98,799Zero downpayment2016 Honda JazzVX  1.2 Manual32,071 km1st OwnerPetrol₹12,521/month₹5,62,899Zero downpayment2018 Hyundai Elite i20Magna Executive 1.2 Manual42,012 km1st OwnerPetrol₹13,037/month₹5,86,069Zero downpayment2016 Hyundai Elite i20SPORTZ 1.2 Manual1,30,064 km1st OwnerPetrol₹11,013/month₹4,95,099Zero downpayment2018 Renault KwidRXT 1.0 EASY-R AT OPTION Automatic20,036 km1st OwnerPetrol₹9,218/month₹4,14,399Zero downpayment2016 Maruti Wagon R 1.0VXI Manual18,537 km2nd OwnerPetrol₹9,005/month₹4,04,799Zero downpayment2016 Maruti Wagon R 1.0VXI AMT Automatic9,073 km1st OwnerPetrol₹9,576/month₹4,30,499Zero downpayment2014 Hyundai Grand i10SPORTZ 1.2 KAPPA VTVT Manual38,225 km2nd OwnerPetrol₹8,960/month₹4,02,799Zero downpayment2016 Honda CityVX MT PETROL Manual85,211 km1st OwnerPetrol₹15,091/month₹6,78,399Zero downpayment2019 KIA SELTOSGTX+ 1.4 MT Manual12,408 km1st OwnerPetrol₹35,896/month₹16,13,699Zero downpayment2016 Maruti BalenoDELTA 1.2 K12 Manual32,556 km1st OwnerPetrol₹12,917/month₹5,80,699Zero downpayment2015 Honda Jazz1.2 S MT Manual16,566 km1st OwnerPetrol₹11,598/month₹5,21,399Zero downpayment2014 Hyundai Grand i10SPORTS 1.2 VTVT Manual43,624 km2nd OwnerPetrol₹8,631/month₹3,87,999Zero downpayment2016 Hyundai Grand i10SPORTS 1.2 VTVT Manual59,839 km1st OwnerPetrol₹9,618/month₹4,32,399Zero downpayment2013 Honda Amaze1.2 SMT I VTEC Manual39,409 km1st OwnerPetrol₹9,165/month₹4,11,999Zero downpayment2020 Hyundai Creta1.6 SX AT CRDI Automatic25,706 km1st OwnerDiesel₹43,214/month₹19,42,699Zero downpayment2016 Hyundai Elite i20SPORTZ 1.2 Manual43,278 km1st OwnerPetrol₹12,684/month₹5,70,199Zero downpayment2020 Hyundai CretaSX PETROL MT Manual13,708 km1st OwnerPetrol₹33,551/month₹15,08,299Zero downpayment2018 Hyundai NEW SANTROASTA 1.1 MT Manual43,734 km1st OwnerPetrol₹10,806/month₹4,85,799Zero downpayment2016 Hyundai Elite i201.4 CRDI ASTA (O) Manual65,377 km2nd OwnerDiesel₹14,085/month₹6,33,199Zero downpayment2018 Maruti BalenoDELTA 1.2 K12 Manual16,093 km1st OwnerPetrol₹14,470/month₹6,50,499Zero downpayment2021 Datsun Redi GoT (O) Manual291 km1st OwnerPetrol₹10,506/month₹4,72,299Zero downpayment2016 Volkswagen VentoHIGHLINE TDI AT Automatic81,316 km1st OwnerDiesel₹15,868/month₹7,13,349Zero downpayment2017 Ford Ecosport1.5TITANIUM TDCI Manual43,284 km1st OwnerDiesel₹15,469/month₹6,95,399Zero downpayment2019 Ford Ecosport1.5 TREND TI VCT Manual19,840 km1st OwnerPetrol₹18,109/month₹8,14,099Zero downpayment2014 Hyundai i20ASTA 1.2 Manual40,495 km1st OwnerPetrol₹10,057/month₹4,52,099Zero downpayment2014 Hyundai Grand i10SPORTZ 1.2 KAPPA VTVT Manual58,292 km2nd OwnerPetrol₹8,924/month₹4,01,199Zero downpayment2018 Maruti DzireVXI Manual15,053 km1st OwnerPetrol₹15,055/month₹6,76,799Zero downpayment2019 Maruti BalenoZETA 1.2 K12 Manual21,363 km2nd OwnerPetrol₹15,055/month₹6,76,799Zero downpayment2019 Mahindra XUV 3OO1.2 W8 OPT 15,913 km1st OwnerPetrol₹25,280/month₹11,36,457Zero downpayment2014 Hyundai Grand i10SPORTS 1.2 VTVT Manual57,325 km2nd OwnerPetrol₹9,000/month₹4,04,599Zero downpayment2018 Maruti DzireVXI Manual52,858 km2nd OwnerPetrol₹14,390/month₹6,46,899Zero downpayment2017 Maruti BalenoDELTA 1.2 K12 Manual12,186 km1st OwnerPetrol₹12,962/month₹5,82,699Zero downpayment2016 Hyundai Grand i10SPORTZ 1.2 KAPPA VTVT Manual28,987 km1st OwnerPetrol₹10,582/month₹4,75,699Zero downpayment2015 Hyundai Grand i10ASTA 1.2 (O) VTVT Manual66,495 km1st OwnerPetrol₹10,026/month₹4,50,699Zero downpayment2018 Hyundai EonERA PLUS Manual27,167 km1st OwnerPetrol₹8,037/month₹3,61,299Zero downpayment2019 Maruti Vitara BrezzaZDI PLUS Manual49,685 km1st OwnerDiesel₹21,573/month₹9,69,799Zero downpayment2021 Honda Amaze1.2 V CVT I VTEC Automatic11,312 km1st OwnerPetrol₹21,450/month₹9,64,299Zero downpayment2018 Maruti DzireVXI Manual40,489 km1st OwnerPetrol₹14,448/month₹6,49,499Zero downpayment2016 Maruti Wagon R 1.0VXI Manual23,055 km1st OwnerPetrol₹9,360/month₹4,20,799Zero downpayment2018 Maruti DzireVXI Manual19,132 km1st OwnerPetrol₹15,665/month₹7,04,199Zero downpayment2017 Maruti BalenoDELTA 1.2 K12 Manual23,954 km1st OwnerPetrol₹12,827/month₹5,76,659Zero downpayment2017 Maruti Wagon R 1.0VXI Manual25,038 km1st OwnerPetrol₹9,919/month₹4,45,899Zero downpayment2016 Ford Ecosport1.5 TITANIUM TI VCT AT Automatic66,563 km1st OwnerPetrol₹14,890/month₹6,69,399Zero downpayment2017 Hyundai Elite i20ASTA 1.2 Manual35,165 km1st OwnerPetrol₹14,314/month₹6,43,499Zero downpayment2018 Honda Jazz1.2 V AT Automatic53,415 km1st OwnerPetrol₹15,380/month₹6,91,399Zero downpayment2017 Maruti Alto 800LXI Manual20,050 km1st OwnerPetrol₹6,798/month₹3,05,599Zero downpayment2017 Volkswagen PoloGT TSI 1.2 PETROL AT Automatic48,562 km1st OwnerPetrol₹17,630/month₹7,92,566Zero downpayment2018 Maruti DzireZDI Plus Manual30,362 km2nd OwnerDiesel₹16,964/month₹7,62,599Zero downpayment2020 Tata ALTROZXZ 1.2 Manual17,689 km1st OwnerPetrol₹18,376/month₹8,26,099Zero downpayment2018 Maruti DzireVDI AMT Automatic53,333 km1st OwnerDiesel₹16,012/month₹7,19,799Zero downpayment2017 Hyundai VernaFLUIDIC 1.6 SX VTVT Manual43,088 km2nd OwnerPetrol₹16,421/month₹7,38,199Zero downpayment2017 Honda CityV MT PETROL Manual19,415 km1st OwnerPetrol₹16,431/month₹7,38,639Zero downpayment2017 Jeep CompassLIMITED (O) 2.0 4*4 Manual78,451 km1st OwnerDiesel₹31,587/month₹14,19,999Zero downpayment2016 Maruti BalenoDELTA 1.2 K12 Manual51,684 km1st OwnerPetrol₹12,424/month₹5,58,499Zero downpayment2019 Maruti BalenoZETA 1.2 K12 Manual44,408 km1st OwnerPetrol₹15,444/month₹6,94,299Zero downpayment2019 MG HECTORSHARP 2.0 DIESEL Manual49,110 km1st OwnerDiesel₹37,168/month₹16,70,899Zero downpayment2020 Tata ALTROZXZ 1.2 Manual16,667 km1st OwnerPetrol₹17,916/month₹8,05,399Zero downpayment2021 Skoda RapidSTYLE 1.0 AT Automatic3,357 km1st OwnerPetrol₹30,252/month₹13,59,999Zero downpayment2016 Ford Ecosport1.5 TITANIUMTDCI OPT Manual71 km1st OwnerDiesel₹16,832/month₹7,56,699Zero downpayment2020 Tata ALTROZXZ 1.2 Manual20,736 km1st OwnerPetrol₹18,512/month₹8,32,199Zero downpayment2018 Maruti S CrossZETA 1.3 SHVS Manual47,301 km1st OwnerDiesel₹19,402/month₹8,72,199Zero downpayment2017 Hyundai CretaSX PLUS 1.6 DUAL TONE VTVT Manual32,930 km1st OwnerPetrol₹20,556/month₹9,24,099Zero downpayment2018 Maruti BalenoDELTA 1.2 K12 Manual21,197 km1st OwnerPetrol₹13,774/month₹6,19,199Zero downpayment2019 MG HECTORSHARP 2.0 DIESEL Manual38,726 km1st OwnerDiesel₹36,995/month₹16,63,099Zero downpayment2018 Maruti BalenoALPHA 1.2 K12 Manual17,514 km2nd OwnerPetrol₹14,668/month₹6,59,399Zero downpayment2017 Jeep Compass2.0 LONGITUDE Manual62,919 km1st OwnerDiesel₹28,771/month₹12,93,399Zero downpayment2016 Maruti Vitara BrezzaVDI Manual53,131 km1st OwnerDiesel₹15,971/month₹7,17,999Zero downpayment2017 Hyundai Grand i10ASTA 1.2 CRDI Manual13,313 km1st OwnerDiesel₹14,512/month₹6,52,399Zero downpayment2019 MG HECTORSHARP 2.0 DIESEL Manual73,681 km1st OwnerDiesel₹37,682/month₹16,94,005Zero downpayment2015 Maruti Alto K10VXI Manual44,178 km1st OwnerPetrol₹7,103/month₹3,19,299Zero downpayment2019 Maruti S CrossZETA SHVS Manual20,768 km1st OwnerDiesel₹24,903/month₹11,19,499Zero downpayment2020 Tata TIGORXZ PLUS 1.2 REVOTRON Manual12,618 km1st OwnerPetrol₹15,929/month₹7,16,099Zero downpayment2017 Honda CityVX MT PETROL Manual25,701 km1st OwnerPetrol₹20,436/month₹9,18,699Zero downpayment2019 MG HECTORSHARP 2.0 DIESEL 28,867 km2nd OwnerDiesel₹35,452/month₹15,93,763Zero downpayment2019 Maruti BalenoZETA 1.2 K12 Manual12,212 km1st OwnerPetrol₹16,701/month₹7,50,799Zero downpayment2020 Tata ALTROZXZ 1.2 Manual10,543 km1st OwnerPetrol₹17,616/month₹7,91,949Zero downpayment2017 Mahindra TUV300T8 Manual47,726 km1st OwnerDiesel₹18,309/month₹8,23,099Zero downpayment2017 Maruti BalenoRS 1.0 PETROL Manual37,322 km2nd OwnerPetrol₹13,707/month₹6,16,199Zero downpayment2019 Maruti AltoVXI Manual14,577 km1st OwnerPetrol₹8,857/month₹3,98,155Zero downpayment2020 Maruti S PRESSOVXI Manual13,332 km1st OwnerPetrol₹10,474/month₹4,70,855Zero downpayment2017 Honda CityZX CVT Automatic19,400 km2nd OwnerPetrol₹21,777/month₹9,78,999Zero downpayment2018 Maruti BalenoALPHA 1.2 K12 Manual33,893 km2nd OwnerPetrol₹14,697/month₹6,60,699Zero downpayment2017 Ford Ecosport1.5 TITANIUM TI VCT AT Automatic34,647 km2nd OwnerPetrol₹16,316/month₹7,33,499Zero downpayment2021 Maruti S PRESSOVXI PLUS Manual5,952 km1st OwnerPetrol₹10,771/month₹4,84,199Zero downpayment2017 Maruti BalenoALPHA 1.2 K12 Manual46,880 km1st OwnerPetrol₹13,894/month₹6,24,599Zero downpayment2017 Hyundai Elite i20ASTA 1.2 Manual47,830 km1st OwnerPetrol₹14,648/month₹6,58,499Zero downpayment2020 Maruti S PRESSOVXI PLUS AGS Automatic8,355 km1st OwnerPetrol₹11,919/month₹5,35,799Zero downpayment2019 Maruti AltoVXI Manual13,333 km1st OwnerPetrol₹8,738/month₹3,92,799Zero downpayment2016 Volkswagen AmeoHIGHLINE 1.2 Manual30,635 km1st OwnerPetrol₹11,162/month₹5,01,799Zero downpayment2017 Maruti BalenoALPHA 1.2 K12 Manual29,328 km1st OwnerPetrol₹14,325/month₹6,43,999Zero downpayment2020 Maruti S PRESSOVXI PLUS AGS Automatic5,746 km3rd OwnerPetrol₹10,924/month₹4,91,099Zero downpayment2019 Ford EcosportTREND + 1.5 TI VCT AT Automatic7,380 km2nd OwnerPetrol₹18,703/month₹8,40,799Zero downpayment2017 Maruti BalenoALPHA 1.2 K12 Manual39,028 km1st OwnerPetrol₹14,419/month₹6,48,199Zero downpayment2018 Maruti CiazALPHA 1.4 VVT Manual27,292 km1st OwnerPetrol₹18,590/month₹8,35,699Zero downpayment2015 Hyundai Creta1.6 SX CRDI Manual1,10,666 km1st OwnerDiesel₹18,728/month₹8,41,899Zero downpayment2015 Hyundai i20 Active1.4 SX Manual71,869 km1st OwnerDiesel₹13,560/month₹6,09,599Zero downpayment2015 Hyundai i20 Active1.4 SX Manual1,43,492 km1st OwnerDiesel₹12,931/month₹5,81,299Zero downpayment2017 Maruti DzireVDI Manual1,07,368 km1st OwnerDiesel₹14,730/month₹6,62,199Zero downpayment2018 Hyundai Creta1.6 SX AT CRDI Automatic57,341 km1st OwnerDiesel₹29,309/month₹13,17,599Zero downpayment2019 Honda CivicZX CVT PETROL Automatic30,026 km1st OwnerPetrol₹37,142/month₹16,69,699Zero downpayment2018 Maruti Alto K10VXI Manual12,709 km1st OwnerPetrol₹9,352/month₹4,20,399Zero downpayment2018 Honda WR-V1.2 i-VTEC VX MT Manual15,414 km1st OwnerPetrol₹19,168/month₹8,61,699Zero downpayment2018 Ford Ecosport1.5 TDCI TITANIUM PLUS Manual69,796 km1st OwnerDiesel₹18,854/month₹8,47,599Zero downpayment2017 Ford Ecosport1.5 TITANIUM TI VCT AT Automatic53,135 km2nd OwnerPetrol₹16,472/month₹7,40,499Zero downpayment2019 Maruti BalenoALPHA 1.2 K12 Manual8,544 km1st OwnerPetrol₹18,040/month₹8,10,999Zero downpayment2018 Toyota YARISVX CVT Automatic79,209 km1st OwnerPetrol₹23,059/month₹10,36,599Zero downpayment2017 Hyundai i20 Active1.2 SX Manual21,416 km1st OwnerPetrol₹15,827/month₹7,11,499Zero downpayment2018 Hyundai Verna1.6 SX VTVT AT (O) Automatic15,953 km1st OwnerPetrol₹24,451/month₹10,99,199Zero downpayment2020 KIA SELTOS1.4 GTX+ TURBO GDI PETROL AT Automatic11,207 km1st OwnerPetrol₹42,520/month₹19,11,499Zero downpayment2018 Tata HexaVaricor 400 XT Manual91,825 km1st OwnerDiesel₹23,830/month₹10,71,299Zero downpayment2018 Ford Ecosport1.5 TITANIUM PLUS TI VCT AT Automatic40,807 km1st OwnerPetrol₹17,622/month₹7,92,199Zero downpayment2020 KIA SELTOS1.4 GTX+ TURBO GDI PETROL AT Automatic26,650 km1st OwnerPetrol₹42,100/month₹18,92,599Zero downpayment2017 Ford Ecosport1.5 TITANIUM PLUS TI VCT AT Automatic32,505 km1st OwnerPetrol₹20,058/month₹9,01,699Zero downpayment2018 Hyundai Verna1.6 SX VTVT AT (O) Automatic60,463 km1st OwnerPetrol₹22,538/month₹10,13,199Zero downpayment2018 Hyundai Verna1.6 SX VTVT AT (O) Automatic8,856 km1st OwnerPetrol₹25,468/month₹11,44,899Zero downpayment2019 Toyota GlanzaG CVT Automatic44,394 km1st OwnerPetrol₹16,377/month₹7,36,249Zero downpayment2019 Toyota GlanzaV CVT Automatic32,985 km1st OwnerPetrol₹18,163/month₹8,16,499Zero downpayment2018 Maruti BalenoALPHA 1.2 K12 Manual23,793 km1st OwnerPetrol₹16,216/month₹7,28,999Zero downpayment2019 Jeep Compass1.4 LIMITED PLUS AT Automatic30,583 km2nd OwnerPetrol₹37,402/month₹16,81,399Zero downpayment2017 Maruti IGNISZETA 1.2 K12 AMT Automatic31,920 km2nd OwnerPetrol₹11,144/month₹5,00,999Zero downpayment2018 Honda WR-V1.5 i-DTEC VX MT Manual66,878 km1st OwnerDiesel₹19,782/month₹8,89,299Zero downpayment2015 Maruti CelerioLXI Manual22,939 km1st OwnerPetrol₹8,008/month₹3,59,999Zero downpayment2013 Hyundai i20MAGNA O 1.2 Manual34,587 km1st OwnerPetrol₹8,435/month₹3,79,199Zero downpayment2012 Hyundai i20SPORTZ 1.2 VTVT Manual38,910 km1st OwnerPetrol₹8,684/month₹3,90,399Zero downpayment2015 Volkswagen PoloGT TSI 1.2 PETROL AT Automatic94,384 km1st OwnerPetrol₹11,529/month₹5,18,299Zero downpayment2013 Hyundai i20ASTA 1.2 Manual41,342 km2nd OwnerPetrol₹8,811/month₹3,96,099Zero downpayment2018 Toyota Innova Crysta2.8 ZX AT 7 STR Automatic37,590 km1st OwnerDiesel₹47,999/month₹21,57,799Zero downpayment2017 Volkswagen PoloGT TSI 1.2 PETROL AT Automatic30,224 km2nd OwnerPetrol₹15,602/month₹7,01,399Zero downpayment2017 Hyundai Elite i20Magna Executive 1.2 Manual41,211 km1st OwnerPetrol₹11,707/month₹5,26,299Zero downpayment2018 Renault KwidRXT 1.0 EASY-R AT OPTION Automatic5,862 km1st OwnerPetrol₹9,808/month₹4,40,899Zero downpayment2019 Hyundai Grand i10MAGNA CNG Manual44,274 km1st OwnerPetrol + CNG₹13,438/month₹6,04,099Zero downpayment2015 Maruti BalenoZETA 1.2 K12 Manual25,316 km1st OwnerPetrol₹11,945/month₹5,36,999Zero downpayment2017 Renault KwidRXT 1.0 EASY-R AT OPTION Automatic44,697 km1st OwnerPetrol₹8,611/month₹3,87,099Zero downpayment2019 Maruti Vitara BrezzaVDI Manual44,471 km1st OwnerDiesel₹18,662/month₹8,38,929Zero downpayment2016 Maruti Wagon R 1.0LXI CNG Manual41,834 km1st OwnerPetrol + CNG₹10,010/month₹4,49,999Zero downpayment2013 Hyundai EonD LITE Manual12,171 km1st OwnerPetrol₹5,619/month₹2,52,599Zero downpayment2013 Toyota Fortuner3.0 AT 4X2 Automatic81,829 km3rd OwnerDiesel₹29,992/month₹13,48,299Zero downpayment2015 Maruti Alto 800LXI Manual11,184 km1st OwnerPetrol₹6,609/month₹2,97,099Zero downpayment2013 Maruti RitzZXI Manual13,858 km1st OwnerPetrol₹8,551/month₹3,84,399Zero downpayment2018 Hyundai Grand i10MAGNA 1.2 VTVT Manual17,176 km1st OwnerPetrol₹10,479/month₹4,71,099Zero downpayment2014 Volkswagen PoloHIGHLINE1.2L PETROL Manual56,987 km1st OwnerPetrol₹9,487/month₹4,26,499Zero downpayment2016 Maruti BalenoDELTA 1.2 K12 Manual58,181 km2nd OwnerPetrol₹11,387/month₹5,11,899Zero downpayment2011 Hyundai i20SPORTZ 1.2 O Manual56,248 km2nd OwnerPetrol₹6,880/month₹3,09,299Zero downpayment2019 Maruti New  Wagon-R1.0 VXI (O) Manual14,787 km1st OwnerPetrol₹12,234/month₹5,49,999Zero downpayment2018 Tata TiagoXE 1.2 REVOTRON Manual10,207 km1st OwnerPetrol₹9,705/month₹4,36,299Zero downpayment2018 Maruti SwiftVXI AMT Automatic34,148 km2nd OwnerPetrol₹13,215/month₹5,94,099Zero downpayment2016 Hyundai Elite i20MAGNA 1.2 Manual68,040 km2nd OwnerPetrol₹10,050/month₹4,51,799Zero downpayment2015 Maruti SwiftVXI Manual55,941 km1st OwnerPetrol₹9,309/month₹4,18,499Zero downpayment2012 Toyota Innova2.5 GX 8 STR BS IV Manual1,70,530 km2nd OwnerDiesel₹16,374/month₹7,36,099Zero downpayment2019 Tata HarrierXM 2.0L Kryotec Manual45,268 km1st OwnerDiesel₹30,201/month₹13,57,699Zero downpayment2014 Skoda RapidAMBITION 1.6 MPI MT PLUS Manual54,004 km2nd OwnerPetrol₹9,256/month₹4,16,099Zero downpayment2019 Renault TRIBER1.0 RXZ Manual14,251 km1st OwnerPetrol₹15,226/month₹6,84,499Zero downpayment2014 Hyundai XcentS 1.2 OPT Manual27,745 km1st OwnerPetrol₹9,732/month₹4,37,499Zero downpayment2015 Honda CityV MT PETROL Manual57,365 km2nd OwnerPetrol₹12,043/month₹5,41,399Zero downpayment2017 Jeep Compass2.0 SPORT Manual52,627 km1st OwnerDiesel₹27,354/month₹12,29,699Zero downpayment2015 Hyundai Grand i10SPORTZ 1.2 KAPPA VTVT Manual22,793 km1st OwnerPetrol₹10,110/month₹4,54,499Zero downpayment2019 KIA SELTOS1.5 GTX+ AT Automatic19,876 km1st OwnerDiesel₹40,187/month₹18,06,599Zero downpayment2017 Honda Jazz1.2 S MT Manual27,159 km1st OwnerPetrol₹11,941/month₹5,36,799Zero downpayment2016 Hyundai Elite i20MAGNA 1.2 Manual33,200 km1st OwnerPetrol₹12,206/month₹5,48,699Zero downpayment2016 Toyota Corolla AltisVL AT Automatic91,007 km1st OwnerPetrol₹20,578/month₹9,25,099Zero downpayment2020 Maruti S PRESSOVXI PLUS Manual37,837 km1st OwnerPetrol₹10,691/month₹4,80,599Zero downpayment2015 Maruti CiazZDI SHVS Manual83,527 km1st OwnerDiesel₹13,923/month₹6,25,899Zero downpayment2020 Mahindra XUV500W9 Manual36,317 km1st OwnerDiesel₹37,993/month₹17,07,999Zero downpayment2015 Toyota Corolla AltisVL AT Automatic60,049 km1st OwnerPetrol₹20,396/month₹9,16,899Zero downpayment2016 Maruti Wagon R 1.0VXI AMT Automatic9,459 km1st OwnerPetrol₹9,567/month₹4,30,099Zero downpayment2017 Maruti SwiftVXI OPT Manual6,620 km1st OwnerPetrol₹13,304/month₹5,98,099Zero downpayment2016 Maruti BalenoDELTA 1.2 K12 Manual27,730 km1st OwnerPetrol₹12,859/month₹5,78,099Zero downpayment2020 Maruti DzireVXI AMT Automatic9,800 km1st OwnerPetrol₹17,897/month₹8,04,559Zero downpayment2016 Hyundai Elite i20SPORTZ 1.2 Manual59,022 km1st OwnerPetrol₹12,544/month₹5,63,919Zero downpayment2016 Maruti Vitara BrezzaVDI OPT Manual22,495 km1st OwnerDiesel₹16,341/month₹7,34,599Zero downpayment2014 Honda Brio1.2 VX AT I VTEC Automatic75,652 km1st OwnerPetrol₹9,263/month₹4,16,399Zero downpayment2016 Maruti BalenoZETA 1.2 K12 Manual32,994 km2nd OwnerPetrol₹12,489/month₹5,61,449Zero downpayment2016 Hyundai Elite i20MAGNA 1.2 Manual19,504 km1st OwnerPetrol₹12,016/month₹5,40,199Zero downpayment2020 Toyota GlanzaG MT PETROL Manual291 km1st OwnerPetrol₹16,645/month₹7,48,299Zero downpayment2016 Honda Jazz1.2 V AT Automatic87,935 km1st OwnerPetrol₹11,796/month₹5,30,299Zero downpayment2014 Ford Ecosport1.5 TITANIUMTDCI OPT Manual67,225 km1st OwnerDiesel₹13,520/month₹6,07,799Zero downpayment2018 Maruti Alto 800LXI Manual10,596 km1st OwnerPetrol₹7,681/month₹3,45,288Zero downpayment2018 Volkswagen AmeoHIGHLINE PLUS 1.5 Manual82,907 km1st OwnerDiesel₹14,626/month₹6,57,499Zero downpayment2016 Maruti CiazZDI SHVS Manual74,509 km1st OwnerDiesel₹16,098/month₹7,23,699Zero downpayment2016 Hyundai Creta1.6 SX PLUS DIESEL Manual79,111 km1st OwnerDiesel₹21,989/month₹9,88,499Zero downpayment2019 Hyundai VENUE1.0L Turbo GDI SX MT Manual20,903 km1st OwnerPetrol₹21,450/month₹9,64,299Zero downpayment2018 Honda WR-V1.2 i-VTEC VX MT Manual29,828 km1st OwnerPetrol₹16,141/month₹7,25,599Zero downpayment2019 Hyundai Elite i201.2 SPORTS PLUS VTVT Manual7,742 km1st OwnerPetrol₹16,481/month₹7,40,899Zero downpayment2016 Maruti Wagon R 1.0VXI AMT Automatic10,258 km1st OwnerPetrol₹9,723/month₹4,37,099Zero downpayment2020 Maruti Vitara BrezzaZXI + Manual2,735 km1st OwnerPetrol₹23,641/month₹10,62,799Zero downpayment2015 Hyundai Grand i10ASTA 1.2 AT VTVT Automatic39,623 km1st OwnerPetrol₹11,356/month₹5,10,499Zero downpayment2019 Maruti BalenoALPHA 1.2 K12 Manual22,695 km1st OwnerPetrol₹15,647/month₹7,03,399Zero downpayment2014 Maruti Swift DzireVDI BS IV Manual1,08,347 km1st OwnerDiesel₹10,942/month₹4,91,899Zero downpayment2015 Hyundai Creta1.6 BASE Manual84,686 km1st OwnerPetrol₹15,651/month₹7,03,599Zero downpayment2019 MG HECTORSHARP DCT PETROL Automatic14,267 km1st OwnerPetrol₹40,436/month₹18,17,799Zero downpayment2016 Maruti Vitara BrezzaVDI Manual39,224 km1st OwnerDiesel₹16,083/month₹7,22,999Zero downpayment2018 Honda CityV MT PETROL Manual18,432 km1st OwnerPetrol₹19,606/month₹8,81,399Zero downpayment2017 Maruti BalenoZETA 1.2 K12 Manual16,734 km1st OwnerPetrol₹13,224/month₹5,94,499Zero downpayment2019 Hyundai Verna1.6 SX VTVT AT (O) Automatic25,130 km1st OwnerPetrol₹24,596/month₹11,05,699Zero downpayment2017 Maruti DzireVDI Manual1,61,435 km1st OwnerDiesel₹14,555/month₹6,54,299Zero downpayment2019 Maruti BalenoZETA 1.2 K12 Manual23,801 km2nd OwnerPetrol₹15,934/month₹7,16,299Zero downpayment2015 Maruti BalenoALPHA 1.2 K12 Manual46,926 km1st OwnerPetrol₹12,072/month₹5,42,699Zero downpayment2019 Maruti BalenoZeta 1.2 K12 SHVS 7,561 km1st OwnerPetrol₹17,464/month₹7,85,099Zero downpayment2017 Hyundai Creta1.6 CRDI SX PLUS AUTO Automatic86,684 km1st OwnerDiesel₹27,018/month₹12,14,599Zero downpayment2017 Honda CityVX MT PETROL Manual36,187 km1st OwnerPetrol₹19,982/month₹8,98,299Zero downpayment2020 Honda CityVX CVT PETROL Automatic9,353 km1st OwnerPetrol₹29,770/month₹13,38,299Zero downpayment2019 Maruti BalenoZETA 1.2 K12 Manual21,407 km1st OwnerPetrol₹16,645/month₹7,48,299Zero downpayment2017 Maruti Vitara BrezzaVDI Manual43,004 km1st OwnerDiesel₹16,941/month₹7,61,599Zero downpayment2017 Honda CityZX CVT Automatic55,625 km2nd OwnerPetrol₹20,349/month₹9,14,799Zero downpayment2020 KIA SELTOS1.4 GTX+ TURBO GDI PETROL AT Automatic35,041 km1st OwnerPetrol₹40,374/month₹18,14,999Zero downpayment2018 Ford EcosportTREND + 1.5 TI VCT AT Automatic48,102 km1st OwnerPetrol₹17,380/month₹7,81,299Zero downpayment2018 Hyundai Verna1.6 SX VTVT AT (O) Automatic40,429 km1st OwnerPetrol₹24,758/month₹11,12,999Zero downpayment2018 Honda WR-V1.5 i-DTEC VX MT Manual50,303 km2nd OwnerDiesel₹17,513/month₹7,87,299Zero downpayment2018 Hyundai Verna1.6 SX VTVT AT (O) Automatic16,957 km2nd OwnerPetrol₹22,580/month₹10,15,099Zero downpayment2018 Hyundai Verna1.6 SX VTVT AT (O) Automatic24,359 km2nd OwnerPetrol₹23,877/month₹10,73,399Zero downpayment2019 Maruti ErtigaZXI SMART HYBRID AT Automatic27,724 km1st OwnerPetrol₹24,580/month₹11,04,999Zero downpayment2019 Renault TRIBER1.0 RXT Manual5,248 km1st OwnerPetrol₹14,675/month₹6,59,699Zero downpayment2017 Hyundai Elite i20SPORTZ 1.2 Manual5,305 km1st OwnerPetrol₹13,571/month₹6,10,099Zero downpayment2016 Maruti Swift DzireVDI BS IV Manual76,913 km1st OwnerDiesel₹13,529/month₹6,08,199Zero downpayment2015 Maruti CelerioVXI AMT Automatic44,439 km1st OwnerPetrol₹8,985/month₹4,03,899Zero downpayment2015 Toyota Innova2.5 GX 8 STR BS IV Manual1,28,958 km1st OwnerDiesel₹20,509/month₹9,21,999Zero downpayment2014 Hyundai Elite i20ASTA 1.2 Manual99,247 km1st OwnerPetrol₹10,450/month₹4,69,799Zero downpayment2020 Hyundai CretaSX (O) DIESEL AT Automatic38,423 km1st OwnerDiesel₹39,604/month₹17,80,399Zero downpayment2013 Maruti Swift DzireVDI Manual1,61,934 km1st OwnerDiesel₹9,856/month₹4,43,099Zero downpayment2019 Honda Amaze1.2 SMT I VTEC Manual4,603 km1st OwnerPetrol₹14,619/month₹6,57,199Zero downpayment2020 Renault TRIBERRXL AT Automatic19,677 km1st OwnerPetrol₹14,708/month₹6,61,199Zero downpayment2021 Renault TRIBER1.0 RXT Manual4,772 km1st OwnerPetrol₹16,056/month₹7,21,799Zero downpayment2016 Hyundai Grand i10SPORTS 1.2 VTVT Manual23,846 km3rd OwnerPetrol₹8,987/month₹4,03,999Zero downpayment2014 Maruti Swift DzireVXI 1.2 BS IV Manual40,877 km1st OwnerPetrol₹9,957/month₹4,47,599Zero downpayment2021 Tata TiagoXZ 1.2 REVOTRON Manual2,897 km1st OwnerPetrol₹15,453/month₹6,94,699Zero downpayment2017 Tata NEXONXZ+ 1.2 Manual19,863 km1st OwnerPetrol₹17,088/month₹7,68,199Zero downpayment2013 Maruti Alto 800LXI Manual40,509 km1st OwnerPetrol₹5,706/month₹2,56,499Zero downpayment2017 Hyundai Elite i20Magna Executive 1.2 Manual16,381 km1st OwnerPetrol₹12,421/month₹5,58,399Zero downpayment2016 Volkswagen VentoHIGHLINE PETROL Manual20,393 km1st OwnerPetrol₹13,580/month₹6,10,499Zero downpayment2017 Renault Kwid1.0 RXT Manual9,512 km1st OwnerPetrol₹8,150/month₹3,66,399Zero downpayment2014 Volkswagen VentoHIGHLINE PETROL Manual68,983 km3rd OwnerPetrol₹9,565/month₹4,29,999Zero downpayment2020 Hyundai CretaS PETROL MT Manual11,301 km1st OwnerPetrol₹28,624/month₹12,86,799Zero downpayment2019 KIA SELTOSGTX+ 1.4 MT Manual5,914 km1st OwnerPetrol₹35,618/month₹16,01,199Zero downpayment2016 Hyundai Grand i10SPORTZ 1.2 KAPPA VTVT Manual40,124 km1st OwnerPetrol₹9,703/month₹4,36,199Zero downpayment2018 Hyundai Grand i10MAGNA 1.2 KAPPA VTVT Manual22,796 km1st OwnerPetrol₹11,285/month₹5,07,299Zero downpayment2017 Maruti Wagon R 1.0VXI Manual11,435 km3rd OwnerPetrol₹8,764/month₹3,93,999Zero downpayment2014 Maruti SwiftVXI Manual58,873 km2nd OwnerPetrol₹9,145/month₹4,11,099Zero downpayment2019 Renault KwidRXT 1.0 EASY-R AT OPTION Automatic7,765 km1st OwnerPetrol₹10,235/month₹4,60,099Zero downpayment2014 Hyundai Grand i10SPORTZ 1.2 KAPPA VTVT Manual26,735 km1st OwnerPetrol₹9,291/month₹4,17,699Zero downpayment2014 Toyota Corolla AltisG Manual55,578 km1st OwnerPetrol₹15,431/month₹6,93,699Zero downpayment2014 Hyundai Grand i10SPORTZ 1.2 KAPPA VTVT Manual26,983 km1st OwnerPetrol₹9,652/month₹4,33,899Zero downpayment2017 Hyundai Elite i20SPORTZ 1.2 Manual22,549 km2nd OwnerPetrol₹12,023/month₹5,40,499Zero downpayment2017 Volkswagen PoloGT TSI 1.2 PETROL AT Automatic40,279 km2nd OwnerPetrol₹14,959/month₹6,72,499Zero downpayment2018 Maruti CelerioVXI (O) Manual18,389 km1st OwnerPetrol₹10,613/month₹4,77,099Zero downpayment2017 Maruti CelerioZXI Manual36,763 km1st OwnerPetrol₹10,057/month₹4,52,099Zero downpayment2018 Maruti CelerioZXI OPT Manual6,305 km1st OwnerPetrol₹11,796/month₹5,30,299Zero downpayment2019 KIA SELTOSGTX+ 1.4 MT Manual14,370 km1st OwnerPetrol₹34,877/month₹15,67,899Zero downpayment2016 Volkswagen AmeoCOMFORTLINE 1.2 Manual38,046 km2nd OwnerPetrol₹10,026/month₹4,50,699Zero downpayment2018 Honda CitySV MT PETROL Manual15,132 km2nd OwnerPetrol₹16,979/month₹7,63,299Zero downpayment2018 Tata TiagoXZA 1.2 REVOTRON Automatic48,987 km1st OwnerPetrol₹11,883/month₹5,34,199Zero downpayment2016 Honda Jazz1.2 S MT Manual53,879 km1st OwnerPetrol₹11,320/month₹5,08,899Zero downpayment2016 Maruti BalenoDELTA 1.2 K12 Manual25,082 km1st OwnerPetrol₹11,923/month₹5,35,999Zero downpayment2020 Maruti CiazDELTA 1.5 SHVS VVT MT Manual14,444 km1st OwnerPetrol₹20,091/month₹9,03,199Zero downpayment2016 Volkswagen VentoHIGHLINE 1.2 TSI AT Automatic76,689 km1st OwnerPetrol₹13,772/month₹6,19,099Zero downpayment2016 Hyundai Grand i10SPORTS 1.2 VTVT Manual26,979 km1st OwnerPetrol₹10,008/month₹4,49,899Zero downpayment2013 Hyundai Grand i10SPORTZ 1.2 KAPPA VTVT Manual29,411 km1st OwnerPetrol₹8,742/month₹3,92,999Zero downpayment2017 Hyundai Elite i20SPORTZ 1.2 Manual6,954 km1st OwnerPetrol₹13,316/month₹5,98,599Zero downpayment2019 Maruti Vitara BrezzaVDI Manual30,236 km1st OwnerDiesel₹18,656/month₹8,38,699Zero downpayment2019 Hyundai VENUE1.4 CRDI S MT Manual73,561 km1st OwnerDiesel₹21,691/month₹9,75,099Zero downpayment2016 Maruti Wagon R 1.0VXI Manual20,771 km1st OwnerPetrol₹9,650/month₹4,33,799Zero downpayment2019 Tata HarrierXZ 2.0L Kryotec Manual55,447 km2nd OwnerDiesel₹32,257/month₹14,50,099Zero downpayment2017 Hyundai Elite i20SPORTZ 1.2 Manual10,022 km1st OwnerPetrol₹12,444/month₹5,59,399Zero downpayment2017 Ford Ecosport1.5AMBIENTE TI VCT Manual21,407 km1st OwnerPetrol₹13,745/month₹6,17,899Zero downpayment2020 Maruti S PRESSOVXI CNG Manual29,918 km1st OwnerPetrol + CNG₹12,515/month₹5,62,599Zero downpayment2018 Ford Ecosport1.5 AMBIENTE TDCI Manual28,127 km1st OwnerDiesel₹17,035/month₹7,65,799Zero downpayment2018 Hyundai Creta1.6 VTVT SX AUTO Automatic21,203 km1st OwnerPetrol₹30,117/month₹13,53,899Zero downpayment2019 Honda Amaze1.2 V CVT I VTEC Automatic6,341 km1st OwnerPetrol₹17,938/month₹8,06,399Zero downpayment2018 Honda Jazz1.2 V MT Manual26,796 km1st OwnerPetrol₹15,364/month₹6,90,699Zero downpayment2017 Toyota EtiosV Manual73,896 km1st OwnerPetrol₹13,155/month₹5,91,399Zero downpayment2015 Hyundai Elite i20ASTA 1.4 CRDI Manual79,569 km2nd OwnerDiesel₹13,251/month₹5,95,699Zero downpayment2019 MG HECTORSMART DIESEL Manual12,937 km1st OwnerDiesel₹38,209/month₹17,17,699Zero downpayment2016 Maruti BalenoDELTA 1.2 K12 Manual9,363 km1st OwnerPetrol₹12,626/month₹5,67,599Zero downpayment2019 Hyundai Elite i20ASTA 1.2 (O) Manual34,853 km1st OwnerPetrol₹16,884/month₹7,58,999Zero downpayment2019 Maruti Vitara BrezzaZDI Manual27,166 km2nd OwnerDiesel₹20,122/month₹9,04,599Zero downpayment2014 Toyota Corolla AltisJ S Manual22,434 km2nd OwnerPetrol₹14,781/month₹6,64,499Zero downpayment2020 Maruti DzireVXI AMT Automatic17,083 km1st OwnerPetrol₹17,215/month₹7,73,899Zero downpayment2015 Hyundai Creta1.6 SX PLUS PETROL Manual60,227 km1st OwnerPetrol₹18,952/month₹8,51,999Zero downpayment2019 Maruti Alto K10VXI Manual9,370 km1st OwnerPetrol₹8,682/month₹3,90,299Zero downpayment2019 Hyundai Elite i20ASTA 1.2 (O) Manual422 km1st OwnerPetrol₹16,930/month₹7,61,099Zero downpayment2017 Ford Ecosport1.5 AMBIENTE TDCI Manual20,082 km1st OwnerDiesel₹16,276/month₹7,31,699Zero downpayment2016 Hyundai Elite i20SPORTZ 1.2 Manual67,248 km1st OwnerPetrol₹12,688/month₹5,70,399Zero downpayment2017 Maruti DzireZXI Manual38,393 km1st OwnerPetrol₹15,560/month₹6,99,499Zero downpayment2017 Maruti DzireVDI AMT Automatic67,154 km1st OwnerDiesel₹14,646/month₹6,58,399Zero downpayment2019 Hyundai Elite i201.2  ASTA (O) CVT Automatic16,358 km1st OwnerPetrol₹19,691/month₹8,85,199Zero downpayment2015 Hyundai Elite i20SPORTZ 1.2 Manual63,961 km1st OwnerPetrol₹11,102/month₹4,99,099Zero downpayment2017 Maruti BalenoDELTA 1.2 K12 Manual28,197 km1st OwnerPetrol₹12,935/month₹5,81,499Zero downpayment2020 Hyundai VENUESX 1.0 GDI IMT Manual18,221 km1st OwnerPetrol₹22,491/month₹10,11,099Zero downpayment2021 Maruti S PRESSOVXI PLUS Manual3,654 km1st OwnerPetrol₹9,977/month₹4,48,499Zero downpayment2020 Hyundai NEW SANTRO1.1 SPORTS AMT Automatic12,875 km1st OwnerPetrol₹14,295/month₹6,42,618Zero downpayment2016 Maruti BalenoALPHA DDIS 190 Manual45,380 km1st OwnerDiesel₹13,883/month₹6,24,099Zero downpayment2019 Honda AmazeVX AT I DTEC Automatic24,978 km2nd OwnerDiesel₹17,299/month₹7,77,699Zero downpayment2020 Maruti DzireVXI Manual8,384 km1st OwnerPetrol₹16,752/month₹7,53,099Zero downpayment2018 Maruti DzireVXI Manual71,772 km1st OwnerPetrol₹14,472/month₹6,50,599Zero downpayment2019 Maruti Vitara BrezzaZDI Manual57,702 km1st OwnerDiesel₹19,190/month₹8,62,699Zero downpayment2018 Maruti DzireVXI Manual41,034 km1st OwnerPetrol₹15,131/month₹6,80,199Zero downpayment2018 Maruti BalenoDELTA 1.2 K12 Manual26,382 km1st OwnerPetrol₹13,360/month₹6,00,599Zero downpayment2016 Maruti BalenoZETA 1.2 K12 Manual83,600 km1st OwnerPetrol₹11,765/month₹5,28,899Zero downpayment2018 Maruti CiazZETA 1.4 VVT Manual44,452 km1st OwnerPetrol₹16,352/month₹7,35,099Zero downpayment2017 Maruti BalenoALPHA 1.2 K12 Manual69,421 km1st OwnerPetrol₹12,501/month₹5,61,999Zero downpayment2017 Maruti DzireVXI AMT Automatic57,977 km1st OwnerPetrol₹13,453/month₹6,04,799Zero downpayment2017 Hyundai Elite i20ASTA 1.2 (O) Manual19,673 km1st OwnerPetrol₹15,173/month₹6,82,099Zero downpayment2017 Jeep Compass2.0 LONGITUDE (O) Manual24,588 km1st OwnerDiesel₹30,999/month₹13,93,539Zero downpayment2019 MG HECTORSHARP DCT PETROL Automatic18,570 km1st OwnerPetrol₹40,436/month₹18,17,799Zero downpayment2016 Maruti BalenoDELTA 1.2 K12 Manual40,361 km1st OwnerPetrol₹12,034/month₹5,40,999Zero downpayment2019 Volkswagen AmeoCOMFORTLINE 1.0 Manual7,127 km1st OwnerPetrol₹12,690/month₹5,70,499Zero downpayment2019 Hyundai VENUE1.0L Turbo GDI SX MT Manual22,716 km2nd OwnerPetrol₹20,096/month₹9,03,399Zero downpayment2014 Honda CRV2.4 AT 4WD AVN Automatic1,03,411 km1st OwnerPetrol₹23,595/month₹10,60,699Zero downpayment2017 Hyundai Elite i20SPORTZ 1.2 Manual63,277 km1st OwnerPetrol₹12,679/month₹5,69,999Zero downpayment2016 Hyundai Elite i20ASTA 1.2 (O) Manual76,366 km1st OwnerPetrol₹12,197/month₹5,48,299Zero downpayment2018 Maruti CiazZETA 1.4 VVT Manual51,725 km1st OwnerPetrol₹15,860/month₹7,12,999Zero downpayment2016 Maruti BalenoALPHA 1.2 K12 Manual76,773 km1st OwnerPetrol₹12,866/month₹5,78,399Zero downpayment2018 Maruti DzireVDI Manual47,158 km1st OwnerDiesel₹16,505/month₹7,41,999Zero downpayment2018 Honda WR-V1.2 i-VTEC VX MT Manual14,930 km2nd OwnerPetrol₹16,534/month₹7,43,299Zero downpayment2017 Ford Figo Aspire1.5 TITANIUM DIESEL Manual1,41,022 km1st OwnerDiesel₹10,359/month₹4,65,699Zero downpayment2018 Maruti DzireVXI Manual6,829 km1st OwnerPetrol₹15,665/month₹7,04,199Zero downpayment2020 Maruti S PRESSOVXI PLUS AGS Automatic2,799 km1st OwnerPetrol₹11,894/month₹5,34,699Zero downpayment2017 Hyundai Verna1.6 SX (O) CRDI MT Manual53,640 km1st OwnerDiesel₹24,916/month₹11,20,099Zero downpayment2020 Honda JazzZX CVT Automatic11,909 km1st OwnerPetrol₹23,624/month₹10,61,999Zero downpayment2016 Hyundai i20 Active1.2 Manual47,707 km1st OwnerPetrol₹12,157/month₹5,46,499Zero downpayment2021 Skoda Rapid1.0 AMBITION TSI AT Automatic4,245 km1st OwnerPetrol₹26,829/month₹12,06,099Zero downpayment2018 Skoda OctaviaLK 1.8 TSI AT Automatic26,809 km1st OwnerPetrol₹39,139/month₹17,59,499Zero downpayment2017 Maruti BalenoRS 1.0 PETROL Manual29,794 km1st OwnerPetrol₹13,780/month₹6,19,499Zero downpayment2016 Maruti BalenoZETA 1.2 K12 Manual47,421 km1st OwnerPetrol₹13,051/month₹5,86,699Zero downpayment2017 Honda WR-V1.2 i-VTEC VX MT Manual7,006 km1st OwnerPetrol₹16,559/month₹7,44,399Zero downpayment2017 Maruti Vitara BrezzaZDI Manual78,266 km1st OwnerDiesel₹16,810/month₹7,55,699Zero downpayment2017 Maruti Wagon R 1.0VXI+ OPT. AMT Automatic47,072 km1st OwnerPetrol₹9,939/month₹4,46,799Zero downpayment2019 Honda Amaze1.2 VX CVT I VTEC Automatic13,164 km1st OwnerPetrol₹18,109/month₹8,14,099Zero downpayment2019 Maruti S PRESSOVXI PLUS Manual61,555 km1st OwnerPetrol₹9,505/month₹4,27,299Zero downpayment2017 Honda WR-V1.2 i-VTEC VX MT Manual46,201 km1st OwnerPetrol₹16,559/month₹7,44,399Zero downpayment2019 MG HECTORSHARP DCT PETROL Automatic7,231 km2nd OwnerPetrol₹35,925/month₹16,14,999Zero downpayment2019 Maruti BalenoALPHA 1.2 K12 Manual10,356 km1st OwnerPetrol₹17,531/month₹7,88,099Zero downpayment2017 Ford Ecosport1.5 TDCI TITANIUM PLUS Manual30,575 km1st OwnerDiesel₹16,172/month₹7,26,999Zero downpayment2016 Hyundai Grand i10ASTA AT 1.2 KAPPA VTVT Automatic71,122 km1st OwnerPetrol₹11,358/month₹5,10,599Zero downpayment2018 Honda WR-V1.2 i-VTEC VX MT Manual25,660 km1st OwnerPetrol₹17,075/month₹7,67,599Zero downpayment2018 Honda CityZX CVT Automatic33,613 km1st OwnerPetrol₹23,397/month₹10,51,799Zero downpayment2021 Maruti AltoVXI PLUS Manual3,401 km1st OwnerPetrol₹10,003/month₹4,49,699Zero downpayment2018 Maruti CiazALPHA 1.3 DDIS SHVS Manual56,836 km1st OwnerDiesel₹20,231/month₹9,09,499Zero downpayment2018 Ford Figo Aspire1.5 TREND DIESEL Manual48,494 km1st OwnerDiesel₹12,621/month₹5,67,399Zero downpayment2018 Honda CityZX CVT Automatic10,411 km1st OwnerPetrol₹25,143/month₹11,30,299Zero downpayment2016 Nissan TerranoXL PLUS 85 PS DEISEL Manual1,34,109 km1st OwnerDiesel₹13,872/month₹6,23,599Zero downpayment2017 Maruti BalenoALPHA 1.2 K12 Manual40,567 km1st OwnerPetrol₹14,385/month₹6,46,699Zero downpayment2018 Hyundai Creta1.6 SX AT CRDI Automatic42,659 km2nd OwnerDiesel₹29,592/month₹13,30,299Zero downpayment2019 Maruti BalenoALPHA 1.2 K12 Manual8,782 km1st OwnerPetrol₹17,847/month₹8,02,299Zero downpayment2019 Hyundai VENUE1.0 SX TURBO GDI DUAL TONE Manual26,191 km2nd OwnerPetrol₹21,337/month₹9,59,199Zero downpayment2017 Maruti S CrossZETA 1.3 Manual58,498 km1st OwnerDiesel₹16,977/month₹7,63,199Zero downpayment2018 Tata NEXONXZ+ 1.2 DUAL TONE Manual38,171 km1st OwnerPetrol₹18,376/month₹8,26,099Zero downpayment2019 Maruti S CrossZETA SHVS Manual24,639 km1st OwnerDiesel₹24,024/month₹10,79,999Zero downpayment2017 Maruti S CrossSIGMA 1.3 Manual86,627 km1st OwnerDiesel₹16,445/month₹7,39,299Zero downpayment2020 KIA SELTOSGTX 1.4 GDI AT PETROL Automatic13,868 km1st OwnerPetrol₹37,433/month₹16,82,799Zero downpayment2018 Hyundai Verna1.6 SX VTVT AT (O) Automatic47,186 km1st OwnerPetrol₹24,749/month₹11,12,599Zero downpayment2017 Maruti IGNISDELTA 1.2 K12 Manual21,057 km1st OwnerPetrol₹11,029/month₹4,95,799Zero downpayment2017 Ford Ecosport1.5 TITANIUM TI VCT AT Automatic30,212 km1st OwnerPetrol₹17,050/month₹7,66,499Zero downpayment2018 Jeep CompassLIMITED O 1.4 AT Automatic25,897 km2nd OwnerPetrol₹32,430/month₹14,57,899Zero downpayment2017 Maruti IGNISDELTA 1.2 K12 Manual40,312 km1st OwnerPetrol₹10,079/month₹4,53,099Zero downpayment2020 KIA SELTOS1.4 GTX+ TURBO GDI PETROL AT Automatic12,331 km1st OwnerPetrol₹42,108/month₹18,92,957Zero downpayment2017 Maruti Vitara BrezzaZDI PLUS Manual1,14,807 km1st OwnerDiesel₹17,540/month₹7,88,499Zero downpayment2018 Hyundai Verna1.6 SX VTVT AT (O) Automatic23,043 km1st OwnerPetrol₹23,864/month₹10,72,799Zero downpayment2018 Honda WR-V1.2 i-VTEC VX MT Manual42,503 km1st OwnerPetrol₹17,497/month₹7,86,599Zero downpayment2019 Maruti ErtigaZXI SMART HYBRID AT Automatic18,762 km2nd OwnerPetrol₹23,374/month₹10,50,799Zero downpayment2012 Maruti Swift DzireVDI BS IV Manual50,487 km1st OwnerDiesel₹9,816/month₹4,41,299Zero downpayment2014 Maruti SwiftVXI Manual56,830 km2nd OwnerPetrol₹8,644/month₹3,88,599Zero downpayment2012 Maruti Swift DzireVDI BS IV Manual1,62,410 km1st OwnerDiesel₹8,931/month₹4,01,499Zero downpayment2013 Maruti Alto 800LXI Manual45,886 km1st OwnerPetrol₹5,632/month₹2,53,199Zero downpayment2016 Toyota Innova Crysta2.8 GX AT 8 STR Automatic74,162 km1st OwnerDiesel₹33,068/month₹14,86,559Zero downpayment2017 Mahindra ScorpioS10 Intelli Hybrid 2WD Manual52,077 km2nd OwnerDiesel₹27,728/month₹12,46,499Zero downpayment2011 Hyundai i20SPORTZ 1.2 O Manual94,323 km2nd OwnerPetrol₹6,818/month₹3,06,499Zero downpayment2018 Toyota Innova Crysta2.4 VX 7 STR Manual38,559 km1st OwnerDiesel₹40,365/month₹18,14,599Zero downpayment2016 Maruti ErtigaZDI SHVS Manual67,194 km2nd OwnerDiesel₹17,351/month₹7,79,999Zero downpayment2015 Maruti Wagon R 1.0LXI Manual44,433 km1st OwnerPetrol₹7,699/month₹3,46,099Zero downpayment2016 Maruti ErtigaZDI SHVS Manual58,181 km1st OwnerDiesel₹18,834/month₹8,46,699Zero downpayment2015 Maruti SwiftVDI Manual1,42,995 km1st OwnerDiesel₹10,484/month₹4,71,299Zero downpayment2019 Maruti SwiftZXI Manual21,299 km1st OwnerPetrol₹14,721/month₹6,61,799Zero downpayment2016 Hyundai Grand i10SPORTZ 1.2 KAPPA VTVT Manual6,972 km1st OwnerPetrol₹10,571/month₹4,75,199Zero downpayment2011 Hyundai i20SPORTZ 1.2 O Manual40,485 km1st OwnerPetrol₹7,116/month₹3,19,899Zero downpayment2015 Toyota Corolla AltisG Manual77,971 km2nd OwnerPetrol₹15,458/month₹6,94,899Zero downpayment2020 Tata TiagoXZA+ 1.2 RTN Automatic87,351 km1st OwnerPetrol₹13,425/month₹6,03,499Zero downpayment2020 Renault TRIBERRXZ AT Automatic17,396 km2nd OwnerPetrol₹15,349/month₹6,89,999Zero downpayment2016 Volkswagen PoloTRENDLINE 1.2L PETROL Manual62,629 km1st OwnerPetrol₹10,657/month₹4,79,099Zero downpayment2016 Toyota Innova Crysta2.8 ZX AT 7 STR Automatic53,914 km1st OwnerDiesel₹42,333/month₹19,03,099Zero downpayment2015 Maruti RitzLXI Manual51,486 km2nd OwnerPetrol₹7,201/month₹3,23,699Zero downpayment2019 Renault TRIBER1.0 RXZ Manual16,767 km1st OwnerPetrol₹15,778/month₹7,09,299Zero downpayment2015 Maruti SwiftVXI Manual39,404 km2nd OwnerPetrol₹9,409/month₹4,22,999Zero downpayment2016 Toyota Corolla AltisG Manual77,968 km1st OwnerPetrol₹18,487/month₹8,31,099Zero downpayment2018 Tata TiagoXZ 1.2 REVOTRON Manual12,199 km2nd OwnerPetrol₹10,972/month₹4,93,235Zero downpayment2016 Honda Brio1.2 S MT I VTEC Manual59,581 km1st OwnerPetrol₹8,166/month₹3,67,099Zero downpayment2013 Hyundai Sonata2.4 GDI AT Automatic61,811 km3rd OwnerPetrol₹13,135/month₹5,90,499Zero downpayment2020 Maruti New  Wagon-RZXI 1.2 Manual11,696 km1st OwnerPetrol₹14,523/month₹6,52,899Zero downpayment2015 Maruti Wagon R 1.0LXI Manual5,738 km2nd OwnerPetrol₹8,057/month₹3,62,199Zero downpayment2019 Mahindra XUV500W11 (O) Manual47,670 km1st OwnerDiesel₹38,530/month₹17,32,099Zero downpayment2015 Hyundai Elite i20SPORTZ 1.2 Manual24,819 km1st OwnerPetrol₹12,210/month₹5,48,899Zero downpayment2014 Mercedes Benz C ClassEDITION C Automatic61,251 km2nd OwnerDiesel₹34,599/month₹15,55,399Zero downpayment2021 Mahindra XUV 3OO1.2 W6 MT 9,583 km1st OwnerPetrol₹24,220/month₹10,88,799Zero downpayment2018 Maruti SwiftZXI+ Manual30,280 km1st OwnerPetrol₹15,271/month₹6,86,499Zero downpayment2020 Toyota URBAN CRUISERPremium AT 9,859 km1st OwnerPetrol₹27,485/month₹12,35,599Zero downpayment2021 Hyundai NEW SANTRO1.1 MAGNA MT Manual2,371 km1st OwnerPetrol₹12,859/month₹5,78,099Zero downpayment2019 Ford Ecosport1.5 TITANIUM TI VCT Manual30,786 km1st OwnerPetrol₹17,431/month₹7,83,599Zero downpayment2014 Honda Brio1.2 S MT I VTEC Manual37,492 km1st OwnerPetrol₹8,524/month₹3,83,199Zero downpayment2014 Maruti Wagon R 1.0VXI Manual32,401 km1st OwnerPetrol₹7,923/month₹3,56,199Zero downpayment2015 Honda CityVX MT PETROL Manual54,831 km1st OwnerPetrol₹14,699/month₹6,60,799Zero downpayment2014 Maruti CelerioVXI AMT Automatic17,629 km1st OwnerPetrol₹8,829/month₹3,96,899Zero downpayment2019 Renault TRIBER1.0 RXZ Manual13,577 km1st OwnerPetrol₹15,780/month₹7,09,399Zero downpayment2015 Maruti Alto K10VXI Manual43,901 km1st OwnerPetrol₹6,578/month₹2,95,699Zero downpayment2020 Maruti Vitara BrezzaZXI + Manual19,798 km1st OwnerPetrol₹20,234/month₹9,09,599Zero downpayment2013 Honda Amaze1.2 SMT I VTEC Manual32,058 km1st OwnerPetrol₹9,078/month₹4,08,099Zero downpayment2013 Honda Amaze1.2 SMT I VTEC Manual12,742 km1st OwnerPetrol₹9,352/month₹4,20,399Zero downpayment2016 Hyundai Elite i20SPORTZ 1.2 Manual32,735 km1st OwnerPetrol₹13,237/month₹5,95,059Zero downpayment2019 MG HECTORSHARP DCT PETROL Automatic3,455 km1st OwnerPetrol₹37,075/month₹16,66,699Zero downpayment2020 Honda CityV MT PETROL Manual14,609 km1st OwnerPetrol₹23,430/month₹10,53,299Zero downpayment2018 Hyundai Grand i10magna 1.2 crdi Manual8,472 km1st OwnerDiesel₹13,740/month₹6,17,699Zero downpayment2018 Hyundai Elite i20Magna Executive 1.2 Manual29,445 km1st OwnerPetrol₹13,051/month₹5,86,699Zero downpayment2021 Maruti Vitara BrezzaZXI Manual2,361 km1st OwnerPetrol₹22,240/month₹9,99,799Zero downpayment2018 Tata HexaVaricor 400 XT Manual90,026 km1st OwnerDiesel₹25,081/month₹11,27,499Zero downpayment2017 Maruti CelerioZXI Manual24,459 km1st OwnerPetrol₹10,068/month₹4,52,599Zero downpayment2015 Hyundai Elite i20SPORTZ 1.2 Manual57,231 km1st OwnerPetrol₹10,813/month₹4,86,099Zero downpayment2017 Hyundai Grand i10SPORTZ 1.2 KAPPA VTVT Manual7,430 km1st OwnerPetrol₹11,116/month₹4,99,699Zero downpayment2016 Honda Brio1.2 VX AT I VTEC Automatic42,877 km1st OwnerPetrol₹11,910/month₹5,35,399Zero downpayment2018 Hyundai Grand i10SPORTZ 1.2 KAPPA VTVT Manual17,350 km1st OwnerPetrol₹12,459/month₹5,60,082Zero downpayment2015 Hyundai EonERA PLUS Manual33,019 km1st OwnerPetrol₹7,176/month₹3,22,599Zero downpayment2015 Hyundai Elite i20ASTA 1.2 Manual23,283 km1st OwnerPetrol₹12,564/month₹5,64,799Zero downpayment2015 Maruti CiazZXI Manual67,695 km2nd OwnerPetrol₹12,226/month₹5,49,617Zero downpayment2016 Hyundai Elite i20MAGNA 1.2 Manual21,655 km1st OwnerPetrol₹12,206/month₹5,48,699Zero downpayment2016 Maruti BalenoZETA 1.2 K12 CVT Automatic69,468 km1st OwnerPetrol₹14,857/month₹6,67,899Zero downpayment2021 Honda JazzVX 1.2 CVT Automatic4,550 km1st OwnerPetrol₹22,454/month₹10,09,399Zero downpayment2019 Honda Amaze1.2 SMT I VTEC Manual13,789 km1st OwnerPetrol₹14,619/month₹6,57,199Zero downpayment2018 Ford Figo Aspire1.5 TREND DIESEL Manual31,896 km2nd OwnerDiesel₹12,926/month₹5,81,099Zero downpayment2019 Maruti Alto K10VXI Manual15,223 km1st OwnerPetrol₹8,613/month₹3,87,199Zero downpayment2013 Hyundai Grand i10SPORTZ 1.2 KAPPA VTVT Manual34,270 km1st OwnerPetrol₹8,829/month₹3,96,899Zero downpayment2021 Maruti S PRESSOVXI PLUS Manual698 km1st OwnerPetrol₹11,745/month₹5,27,999Zero downpayment2016 Maruti CiazVDI (O) SHVS HYBIRD Manual73,308 km1st OwnerDiesel₹13,869/month₹6,23,499Zero downpayment2014 Hyundai i20ASTA 1.2 Manual47,834 km1st OwnerPetrol₹11,273/month₹5,06,799Zero downpayment2016 Hyundai Grand i10SPORTS 1.2 VTVT Manual18,210 km1st OwnerPetrol₹10,317/month₹4,63,799Zero downpayment2019 Honda Amaze1.2 SMT I VTEC Manual28,915 km1st OwnerPetrol₹14,619/month₹6,57,199Zero downpayment2017 Ford Ecosport1.5TITANIUM TDCI Manual62,466 km1st OwnerDiesel₹16,194/month₹7,27,999Zero downpayment2017 Datsun Redi GoT (O) Manual27,207 km1st OwnerPetrol₹6,542/month₹2,94,099Zero downpayment2013 Hyundai i10SPORTZ 1.2 AT KAPPA2 Automatic47,815 km1st OwnerPetrol₹8,146/month₹3,66,199Zero downpayment2018 Mahindra XUV500W11 AT Automatic61,096 km1st OwnerDiesel₹35,384/month₹15,90,699Zero downpayment2019 Maruti DzireVXI AMT Automatic12,949 km2nd OwnerPetrol₹15,273/month₹6,86,599Zero downpayment2016 Maruti Vitara BrezzaZDI PLUS DUAL TONE Manual37,091 km1st OwnerDiesel₹18,051/month₹8,11,499Zero downpayment2020 Tata HarrierXZ+ DARK EDITION Manual13,596 km1st OwnerDiesel₹47,485/month₹21,34,699Zero downpayment2017 Hyundai Elite i20SPORTZ 1.2 Manual29,433 km2nd OwnerPetrol₹13,569/month₹6,09,999Zero downpayment2019 Hyundai Creta1.6 VTVT SX AUTO Automatic17,464 km1st OwnerPetrol₹31,870/month₹14,32,699Zero downpayment2019 Hyundai Verna1.6 SX (O) AT CRDI Automatic35,135 km1st OwnerDiesel₹28,869/month₹12,97,799Zero downpayment2015 Hyundai Grand i10SPORTS 1.2 VTVT Manual14,861 km1st OwnerPetrol₹9,754/month₹4,38,499Zero downpayment2016 Hyundai Creta1.6 SX PLUS AUTO PETROL Automatic29,349 km1st OwnerPetrol₹22,400/month₹10,06,999Zero downpayment2019 Volkswagen Vento1.2 TSI HIGHLINE PLUS AT Automatic37,905 km1st OwnerPetrol₹21,421/month₹9,62,999Zero downpayment2018 Maruti DzireVXI Manual30,420 km1st OwnerPetrol₹14,902/month₹6,69,899Zero downpayment2018 Renault KwidRXT 1.0 EASY-R AT OPTION Automatic7,228 km1st OwnerPetrol₹10,086/month₹4,53,399Zero downpayment2018 Hyundai EonMAGNA PLUS Manual36,057 km1st OwnerPetrol₹8,059/month₹3,62,299Zero downpayment2019 Honda CivicVX CVT i-VTEC 13,817 km1st OwnerPetrol₹40,663/month₹18,27,999Zero downpayment2017 Maruti DzireVDI Manual49,684 km1st OwnerDiesel₹14,993/month₹6,73,999Zero downpayment2021 Volkswagen VentoHighline 1.0 TSI MT Manual8,548 km1st OwnerPetrol₹32,922/month₹14,79,999Zero downpayment2016 Honda Jazz1.2 V AT Automatic66,112 km1st OwnerPetrol₹13,204/month₹5,93,599Zero downpayment2017 Maruti BalenoDELTA 1.2 K12 Manual28,006 km1st OwnerPetrol₹12,779/month₹5,74,501Zero downpayment2017 Maruti DzireVXI Manual28,971 km1st OwnerPetrol₹14,568/month₹6,54,899Zero downpayment2016 Hyundai Grand i10SPORTZ 1.2 KAPPA VTVT Manual24,517 km1st OwnerPetrol₹11,391/month₹5,12,099Zero downpayment2018 Maruti DzireZDI Plus AMT Automatic23,504 km1st OwnerDiesel₹18,058/month₹8,11,799Zero downpayment2018 Maruti BalenoZETA 1.2 K12 CVT Automatic13,825 km2nd OwnerPetrol₹15,097/month₹6,78,699Zero downpayment2019 Maruti BalenoZETA 1.2 K12 Manual498 km1st OwnerPetrol₹16,884/month₹7,58,999Zero downpayment2017 Hyundai Elite i20SPORTZ 1.2 Manual31,169 km2nd OwnerPetrol₹13,293/month₹5,97,593Zero downpayment2019 Maruti Vitara BrezzaVDI Manual49,323 km1st OwnerDiesel₹18,656/month₹8,38,699Zero downpayment2017 Maruti CiazVXI PLUS Manual62,783 km1st OwnerPetrol₹15,384/month₹6,91,599Zero downpayment2018 Maruti DzireVDI AMT Automatic24,068 km1st OwnerDiesel₹16,472/month₹7,40,499Zero downpayment2018 Maruti DzireZXI Manual53,823 km1st OwnerPetrol₹15,613/month₹7,01,899Zero downpayment2019 Honda CityVX CVT PETROL Automatic40,797 km2nd OwnerPetrol₹22,789/month₹10,24,499Zero downpayment2015 Maruti Wagon R 1.0VXI Manual38,491 km1st OwnerPetrol₹8,433/month₹3,79,099Zero downpayment2018 Tata TIGORRevotron XZA 1.2 Automatic51,703 km1st OwnerPetrol₹11,743/month₹5,27,899Zero downpayment2017 Maruti DzireLXI Manual53,754 km2nd OwnerPetrol₹11,405/month₹5,12,699Zero downpayment2017 Volkswagen VentoHIGHLINE 1.2 TSI AT Automatic45,176 km1st OwnerPetrol₹16,929/month₹7,61,044Zero downpayment2018 Maruti DzireVXI Manual36,463 km1st OwnerPetrol₹15,665/month₹7,04,199Zero downpayment2016 Hyundai Elite i20MAGNA 1.2 Manual61,279 km1st OwnerPetrol₹12,206/month₹5,48,699Zero downpayment2017 Maruti DzireZXI Manual24,887 km1st OwnerPetrol₹15,038/month₹6,76,013Zero downpayment2014 Hyundai Grand i10MAGNA 1.2 VTVT Manual68,292 km1st OwnerPetrol₹8,793/month₹3,95,299Zero downpayment2017 Maruti BalenoDELTA 1.2 K12 Manual25,369 km1st OwnerPetrol₹12,779/month₹5,74,499Zero downpayment2017 Hyundai Grand i10MAGNA 1.2 KAPPA VTVT Manual13,771 km1st OwnerPetrol₹10,697/month₹4,80,899Zero downpayment2017 Hyundai Elite i20ASTA 1.2 (O) Manual22,331 km1st OwnerPetrol₹14,677/month₹6,59,799Zero downpayment2016 Volkswagen AmeoHIGHLINE 1.2 Manual51,558 km1st OwnerPetrol₹11,162/month₹5,01,799Zero downpayment2017 Maruti DzireVXI AMT Automatic20,264 km1st OwnerPetrol₹13,829/month₹6,21,699Zero downpayment2017 Hyundai Elite i20ASTA 1.2 (O) Manual38,537 km1st OwnerPetrol₹14,572/month₹6,55,099Zero downpayment2017 Maruti BalenoALPHA DDIS 190 Manual50,910 km1st OwnerDiesel₹14,070/month₹6,32,499Zero downpayment2018 Maruti DzireVXI Manual19,703 km2nd OwnerPetrol₹14,421/month₹6,48,299Zero downpayment2019 MG HECTORSHARP 2.0 DIESEL Manual42,021 km1st OwnerDiesel₹37,653/month₹16,92,699Zero downpayment2017 Jeep Compass2.0 LONGITUDE Manual29,159 km1st OwnerDiesel₹28,903/month₹12,99,349Zero downpayment2018 Maruti DzireVXI Manual28,567 km1st OwnerPetrol₹15,665/month₹7,04,199Zero downpayment2019 Hyundai Grand i101.2 KAPPA SPORTZ (O) Manual26,161 km1st OwnerPetrol₹12,370/month₹5,56,099Zero downpayment2019 MG HECTORSHARP HYBIRD PETROL MT Manual19,802 km1st OwnerPetrol₹35,729/month₹16,06,211Zero downpayment2017 Jeep Compass2.0 LIMITED Manual26,404 km2nd OwnerDiesel₹29,053/month₹13,06,099Zero downpayment2019 Hyundai Elite i201.2  ASTA (O) CVT Automatic25,349 km1st OwnerPetrol₹18,797/month₹8,44,999Zero downpayment2020 Maruti S PRESSOVXI PLUS Manual2,676 km1st OwnerPetrol₹10,722/month₹4,81,999Zero downpayment2017 Hyundai Elite i20SPORTZ 1.2 Manual51,545 km1st OwnerPetrol₹13,166/month₹5,91,899Zero downpayment2017 Maruti BalenoZETA 1.2 K12 Manual81,903 km1st OwnerPetrol₹12,495/month₹5,61,699Zero downpayment2017 Jeep Compass2.0 LONGITUDE (O) Manual68,172 km1st OwnerDiesel₹27,848/month₹12,51,899Zero downpayment2016 Hyundai Grand i10ASTA 1.2 KAPPA VTVT Manual40,669 km1st OwnerPetrol₹11,654/month₹5,23,899Zero downpayment2019 Ford Ecosport1.5 TITANIUM TI VCT Manual17,655 km1st OwnerPetrol₹19,466/month₹8,75,099Zero downpayment2018 Maruti CiazALPHA 1.4 VVT Manual42,488 km2nd OwnerPetrol₹16,154/month₹7,26,199Zero downpayment2017 Honda Jazz1.2 V AT Automatic57,606 km1st OwnerPetrol₹14,021/month₹6,30,299Zero downpayment2017 Jeep Compass2.0 LONGITUDE (O) Manual50,485 km1st OwnerDiesel₹27,892/month₹12,53,899Zero downpayment2019 Tata NEXONXZA + 1.2 PETROL A/T Automatic14,768 km1st OwnerPetrol₹21,021/month₹9,44,999Zero downpayment2019 Maruti BalenoZETA 1.2 K12 Manual31,471 km1st OwnerPetrol₹15,905/month₹7,14,999Zero downpayment2016 Skoda Superb2.0 TDI CR LK AT Automatic46,514 km1st OwnerDiesel₹43,572/month₹19,58,799Zero downpayment2018 Mahindra MARAZZOM8 7 STR 7,365 km1st OwnerDiesel₹25,103/month₹11,28,499Zero downpayment2017 Maruti BalenoALPHA 1.2 K12 Manual18,632 km1st OwnerPetrol₹14,136/month₹6,35,499Zero downpayment2018 Tata NEXONXZ+ 1.2 Manual37,918 km2nd OwnerPetrol₹16,465/month₹7,40,199Zero downpayment2018 Hyundai Creta1.6 VTVT SX AUTO Automatic33,823 km2nd OwnerPetrol₹26,920/month₹12,10,199Zero downpayment2021 Hyundai VENUE1.0 TURBO GDI SX+ AT Automatic3,028 km1st OwnerPetrol₹29,672/month₹13,33,899Zero downpayment2018 Maruti Alto 800VXI Manual41,470 km1st OwnerPetrol₹7,189/month₹3,23,199Zero downpayment2016 Maruti Vitara BrezzaVDI OPT Manual66,275 km1st OwnerDiesel₹16,341/month₹7,34,599Zero downpayment2020 MG HECTOR PLUSSHARP DCT 17,984 km1st OwnerPetrol₹40,645/month₹18,27,199Zero downpayment2015 Hyundai Elite i20ASTA 1.2 Manual51,788 km1st OwnerPetrol₹12,450/month₹5,59,699Zero downpayment2019 Hyundai VENUE1.0L Turbo GDI SX(O) MT Manual7,846 km1st OwnerPetrol₹23,034/month₹10,35,499Zero downpayment2017 Honda WR-V1.2 i-VTEC VX MT Manual14,909 km1st OwnerPetrol₹17,139/month₹7,70,499Zero downpayment2017 Maruti BalenoZETA 1.2 K12 Manual40,618 km1st OwnerPetrol₹13,611/month₹6,11,899Zero downpayment2021 Maruti AltoLXI OPT Manual9,706 km1st OwnerPetrol₹9,781/month₹4,39,689Zero downpayment2019 Maruti BalenoALPHA 1.2 K12 Manual42,287 km1st OwnerPetrol₹16,025/month₹7,20,399Zero downpayment2021 Hyundai VENUE1.0L Turbo GDI SX MT Manual25,426 km1st OwnerPetrol₹24,033/month₹10,80,399Zero downpayment2019 Maruti Vitara BrezzaZDI Manual74,105 km1st OwnerDiesel₹20,122/month₹9,04,599Zero downpayment2018 Hyundai NEW SANTROERA 1.1 Manual9,395 km2nd OwnerPetrol₹9,968/month₹4,48,099Zero downpayment2019 Hyundai VENUESX(O) CRDi Manual96,000 km1st OwnerDiesel₹20,674/month₹9,29,399Zero downpayment2018 Maruti BalenoDELTA 1.2 K12 Manual37,219 km1st OwnerPetrol₹14,067/month₹6,32,399Zero downpayment2018 Maruti BalenoZETA 1.2 K12 Manual42,213 km1st OwnerPetrol₹13,845/month₹6,22,399Zero downpayment2017 Honda CityVX CVT PETROL Automatic69,376 km1st OwnerPetrol₹19,166/month₹8,61,599Zero downpayment2018 Ford Ecosport1.5 TITANIUM TI VCT Manual17,181 km1st OwnerPetrol₹18,394/month₹8,26,899Zero downpayment2017 Honda CityVX MT PETROL Manual27,432 km1st OwnerPetrol₹19,844/month₹8,92,099Zero downpayment2019 Maruti BalenoALPHA 1.2 K12 Manual9,633 km1st OwnerPetrol₹16,790/month₹7,54,799Zero downpayment2015 Maruti BalenoALPHA 1.2 K12 Manual61,347 km1st OwnerPetrol₹12,074/month₹5,42,799Zero downpayment2018 Maruti CiazALPHA 1.4 VVT Manual15,002 km1st OwnerPetrol₹18,980/month₹8,53,249Zero downpayment2019 Maruti IGNISZETA 1.2 K12 Manual8,375 km1st OwnerPetrol₹13,109/month₹5,89,331Zero downpayment2017 Maruti Vitara BrezzaZDI PLUS Manual75,388 km1st OwnerDiesel₹19,137/month₹8,60,299Zero downpayment2017 Maruti BalenoZETA 1.2 K12 AMT Automatic31,739 km1st OwnerPetrol₹14,635/month₹6,57,899Zero downpayment2017 Maruti S CrossDELTA 1.3 Manual43,945 km1st OwnerDiesel₹16,719/month₹7,51,599Zero downpayment2018 Hyundai Creta1.6 SX (O) VTVT Manual69,182 km1st OwnerPetrol₹25,643/month₹11,52,799Zero downpayment2018 Hyundai Creta1.6 SX AT PETROL Automatic57,613 km1st OwnerPetrol₹27,363/month₹12,30,099Zero downpayment2017 Ford Ecosport1.5 TITANIUM TI VCT AT Automatic41,579 km1st OwnerPetrol₹15,929/month₹7,16,099Zero downpayment2018 Maruti BalenoALPHA DDIS 190 Manual47,492 km1st OwnerDiesel₹16,750/month₹7,52,991Zero downpayment2020 MG HECTORSHARP DCT PETROL Automatic39,123 km1st OwnerPetrol₹40,274/month₹18,10,499Zero downpayment2020 MG HECTORSHARP DCT PETROL Automatic58,143 km1st OwnerPetrol₹38,865/month₹17,47,175Zero downpayment2017 Honda CityVX CVT PETROL Automatic49,517 km1st OwnerPetrol₹19,506/month₹8,76,899Zero downpayment2018 Toyota YARISVX CVT 21,126 km1st OwnerPetrol₹25,643/month₹11,52,799Zero downpayment2018 Honda WR-V1.2 i-VTEC VX MT Manual57,875 km1st OwnerPetrol₹18,062/month₹8,11,999Zero downpayment2019 Maruti IGNISZETA 1.2 K12 AMT Automatic25,444 km1st OwnerPetrol₹14,488/month₹6,51,299Zero downpayment2017 Maruti IGNISSIGMA 1.2 K12 Manual8,225 km1st OwnerPetrol₹10,406/month₹4,67,799Zero downpayment2018 Honda Amaze1.2 V CVT I VTEC 14,696 km1st OwnerPetrol₹16,777/month₹7,54,199Zero downpayment2018 Mahindra MARAZZOM8 7 STR 37,674 km1st OwnerDiesel₹23,243/month₹10,44,899Zero downpayment2019 Jeep Compass1.4 LIMITED PLUS AT Automatic25,453 km1st OwnerPetrol₹45,054/month₹20,25,399Zero downpayment2017 Maruti IGNISDELTA 1.2 K12 Manual28,680 km1st OwnerPetrol₹11,116/month₹4,99,699Zero downpayment2015 Maruti S CrossZETA 1.3 Manual1,21,185 km1st OwnerDiesel₹12,559/month₹5,64,599Zero downpayment2018 Ford Ecosport1.5TITANIUM TDCI Manual40,270 km1st OwnerDiesel₹18,036/month₹8,10,799Zero downpayment2020 KIA SELTOS1.4 GTX+ TURBO GDI PETROL AT Automatic6,434 km1st OwnerPetrol₹42,100/month₹18,92,599Zero downpayment2021 MG HECTORSHARP CVT Automatic8,077 km1st OwnerPetrol₹44,747/month₹20,11,599Zero downpayment2018 Hyundai Tucson New2WD AT GL DIESEL Automatic11,114 km1st OwnerDiesel₹48,097/month₹21,62,199Zero downpayment2018 Hyundai Verna1.6 SX VTVT AT (O) Automatic29,261 km1st OwnerPetrol₹24,831/month₹11,16,299Zero downpayment2018 Toyota YARISG MT Manual29,324 km1st OwnerPetrol₹16,067/month₹7,22,299Zero downpayment2013 Maruti Wagon R 1.0LXI Manual21,902 km1st OwnerPetrol₹6,587/month₹2,96,099Zero downpayment2017 Maruti Alto 800LXI Manual20,824 km1st OwnerPetrol₹6,475/month₹2,91,099Zero downpayment2014 Hyundai i20ASTA 1.2 O Manual40,860 km3rd OwnerPetrol₹8,745/month₹3,93,149Zero downpayment2014 Ford Ecosport1.5 TREND TI VCT Manual25,976 km1st OwnerPetrol₹10,666/month₹4,79,499Zero downpayment2017 Maruti ErtigaZDI PLUS SHVS Manual26,214 km2nd OwnerDiesel₹19,342/month₹8,69,499Zero downpayment2016 Hyundai Creta1.6 E + VTVT Manual23,212 km2nd OwnerPetrol₹17,642/month₹7,93,099Zero downpayment2020 Maruti S PRESSOVXI CNG Manual16,517 km1st OwnerPetrol + CNG₹12,041/month₹5,41,299Zero downpaymentOther CitiesMumbaiPuneNasikVapiSuratAurangabadKolhapurBharuchVadodaraRajkotWhat our Users have to say! PreviousChitra AyyangarMumbaiMay 2022HONDA JAZZ  5User rating“I got a great deal on the HONDA JAZZ atCARS24. The team was welcoming, andthey made me a great offer... read more... read moreValue for money : Experience :Ease of process :Rudra LataMumbaiMay 2022TATA NANO  4.5User rating“I was planning a family road trip toLondon from Ireland, and I was lookingfor a car that would be affor... read more... read moreValue for money : Experience :Ease of process :Prashant GuptaMumbaiMay 2022TATA SAFARI  5User rating“I had been looking for a car for almosta year; then, I found CARS24. With aselection of over 1000 vehicl... read more... read moreValue for money : Experience :Ease of process :Radha ThakreMumbaiMay 2022MAHINDRA SCORPIO  3.5User rating“The experience of buying asecond-hand car was very positive,thanks to the team at CARS... read more... read moreValue for money : Experience :Ease of process :Krishna PrabhuMumbaiMay 2022MARUTI SUZUKI RITZ  4.5User rating“The staff at CARS24 made it easy tofind the right car for me. I was able tosubmit a form online and g... read more... read moreValue for money : Experience :Ease of process :Sashi ChatterjeeMumbaiMay 2022CHEVROLET AVEO  4.5User rating“I just bought a Chevrolet Aveo fromCARS24, and they were wonderfulthrough the entire process! ... read more... read moreValue for money : Experience :Ease of process :Karuna MahantaMumbaiMay 2022HYUNDAI NEW ELANTRA  5User rating“I used CARS24 to buy a Hyundai NewElantra. I was a little apprehensive aboutbuying a car online, but the ... read more... read moreValue for money : Experience :Ease of process :Panini NancyMumbaiMay 2022MARUTI SUZUKI OMNI  4.5User rating“I wanted a car with good mileage,which was not too expensive, so I turnedto CARS24. A good friend tol... read more... read moreValue for money : Experience :Ease of process :Parvati GanapuliMumbaiMay 2022HYUNDAI ELANTRA  5User rating“I'm so happy with my purchase fromCARS24. They made the whole processsimple, and the staff was ve... read more... read moreValue for money : Experience :Ease of process :Aasiya MahantaMumbaiMay 2022TATA INDICA V2  4.5User rating“Buying a second-hand car online canbe a bit risky. There are so many onlinescams, so I was nervous ab... read more... read moreValue for money : Experience :Ease of process :Ananya BajpeyiMumbaiMay 2022BMW X1  4.5User rating“The team at CARS24 knows their stuff! Iwas looking to get a BMW X1, and theyhelped me find exactly wha... read more... read moreValue for money : Experience :Ease of process :Vakpati AyyarMumbaiMay 2022VOLKSWAGEN POLO  5User rating“The price of the Volkswagen Polo wasvery reasonable, and the staff atCARS24 was always welco... read more... read moreValue for money : Experience :Ease of process :Daas ParachureMumbaiMay 2022HYUNDAI GRAND I10  4User rating“Thanks to CARS24, I now have mydream car. I received great servicewhen buying my Hyundai G... read more... read moreValue for money : Experience :Ease of process :Katyayana SatavelekarMumbaiMay 2022HONDA AMAZE  4.5User rating“Cars24.in is customer friendly and hasgreat variety of cars. The prices arereasonable, and the cars ar... read more... read moreValue for money : Experience :Ease of process :Daksh DayalMumbaiMay 2022MARUTI WAGON R 1.0  3.5User rating“I have been a customer of CARS24 for afew years now, and the experience I'vehad with them has always ... read more... read moreValue for money : Experience :Ease of process :Katyayana MasanMumbaiMay 2022SKODA RAPID  5User rating“The team at CARS24 made buying acar so easy! I needed a new car butdidn't want to go through th... read more... read moreValue for money : Experience :Ease of process :Krishan AyyangarMumbaiMay 2022HONDA AMAZE  4.5User rating“I could not be happier with mypurchase from CARS24. The HONDAAMAZE was in fantastic con... read more... read moreValue for money : Experience :Ease of process :Kanada DadichMumbaiMay 2022MAHINDRA XYLO  4.5User rating“The team at CARS24 made the processof buying a second-hand carstraightforward. They helpe... read more... read moreValue for money : Experience :Ease of process :Dhule VadMumbaiMay 2022MARUTI SUZUKI CELERIO X  4User rating“The moment I saw the Maruti SuzukiCelerio X, I knew I had to have it. Nowthat I have it in my garage, I... read more... read moreValue for money : Experience :Ease of process :Rekha BhateMumbaiMay 2022FORD CLASSIC  4User rating“The team at CARS24 is great! We wouldrecommend them to anyone looking tobuy a used car. They had a ... read more... read moreValue for money : Experience :Ease of process :Prakash NayarMumbaiMay 2022HONDA BRIO  5User rating“I had a problem with my HONDA BRIO,and I brought it to Cars24 to evaluatethe issue. They gave me a f... read more... read moreValue for money : Experience :Ease of process :Indu LataMumbaiMay 2022FORD ENDEAVOUR  4.5User rating“I had an excellent experience buyingmy Ford Endeavour with CARS24. Thevehicle was new and at a gr... read more... read moreValue for money : Experience :Ease of process :Mahesh MurthyMumbaiApr 2021TATA SAFARI  5User rating“I'm very happy with the TATA SAFARI Ibought from CARS24. The process wasvery easy, and the staff was... read more... read moreValue for money : Experience :Ease of process :Rehan HashmiMumbaiApr 2021MARUTI SUZUKI CIAZ  4.5User rating“Buying a car from CARS24 was a greatexperience. The team was very helpful,and I got a great deal on m... read more... read moreValue for money : Experience :Ease of process :Ajay BoppannaMumbaiApr 2021FORD FREESTYLE  5User rating“The team at CARS24 were really helpfulin finding the perfect car for me. I waslooking for a FORD FREESTYL... read more... read moreValue for money : Experience :Ease of process :Ganesh CarriappaMumbaiApr 2021FIAT LINEA  5User rating“I had a great experience buying a usedFIAT LINEA from CARS24. The selectionwas great, and the staff wa... read more... read moreValue for money : Experience :Ease of process :Ganesh DevaiahMumbaiApr 2021FORD ENDEAVOUR  3.5User rating“I am so happy with my purchase of theFORD ENDEAVOUR from CARS24. Theprocess was smooth and th... read more... read moreValue for money : Experience :Ease of process :Ganesh BoppannaMumbaiApr 2021FORD FIGO ASPIRE  5User rating“The team at CARS24 was extremelyhelpful and professional. I am veryhappy with the FORD FIGO A... read more... read moreValue for money : Experience :Ease of process :Adnan NaqviMumbaiApr 2021HONDA JAZZ  5User rating“I had a great experience buying myHonda Jazz from CARS24. The team wasvery helpful, and I got a gre... read more... read moreValue for money : Experience :Ease of process :Riyaz NaseerMumbaiApr 2021HYUNDAI CRETA  4.5User rating“I had a great experience buying my carfrom CARS24. The team was very helpfuland the process was very st... read more... read moreValue for money : Experience :Ease of process :Riyaz SayyedMumbaiApr 2021CHEVROLET AVEO  5User rating“I'm extremely happy with my purchasefrom CARS24. The Chevrolet Aveo is agreat car, and the team at ... read more... read moreValue for money : Experience :Ease of process :Riyaz QuraishiMumbaiApr 2021HYUNDAI AURA  4User rating“I had a great experience buying myHYUNDAI AURA from CARS24. Theselection was great, and th... read more... read moreValue for money : Experience :Ease of process :Riyaz HashmiMumbaiApr 2021MARUTI SWIFT  3.5User rating“Bought a used Maruti Swift fromCARS24, and the process was smoothand easy. The team was ver... read more... read moreValue for money : Experience :Ease of process :Riyaz RashidMumbaiApr 2021VOLKSWAGEN POLO  4.5User rating“I'm really happy with the car that Ibought from CARS24. The VOLKSWAGENPOLO is a great car and the ... read more... read moreValue for money : Experience :Ease of process :Riyaz NoorMumbaiApr 2021NISSAN TERRANO  4.5User rating“I just bought a NISSAN TERRANO fromCARS24 and I'm very happy with it. Theprocess was easy and the s... read more... read moreValue for money : Experience :Ease of process :Fateh BagriMumbaiApr 2021Jeep Compass  5User rating“The team at CARS24 was extremelyhelpful in helping me find the perfectJeep Compass. The proces... read more... read moreValue for money : Experience :Ease of process :Fateh AggarwalMumbaiApr 2021HYUNDAI ELITE I20  4.5User rating“The HYUNDAI ELITE I20 I bought fromCARS24 is a great car. The team atCARS24 was very helpful, an... read more... read moreValue for money : Experience :Ease of process :Fateh PatelMumbaiApr 2021HYUNDAI GRAND I10  5User rating“The team at CARS24 was so helpful andthe process was so easy. I would highlyrecommend them to anyon... read more... read moreValue for money : Experience :Ease of process :Arjun JhaMumbaiApr 2021MARUTI SUZUKI VITARA BREZZA  4.5User rating“I found the team at CARS24 to beextremely helpful. They helped me findthe perfect car for my need... read more... read moreValue for money : Experience :Ease of process :Pervez AbdullahMumbaiApr 2021TATA INDICA V2  3.5User rating“The CARS24 team was great! They werevery helpful and made the process easy.I would definitely recomme... read more... read moreValue for money : Experience :Ease of process :Arif RashidMumbaiApr 2021FORCE MOTORS TRAVELLER  4.5User rating“I'm extremely happy with the FORCEMOTORS TRAVELLER I bought fromCARS24. It's a great car and ... read more... read moreValue for money : Experience :Ease of process :Akshit KanwarMumbaiApr 2021RENAULT KWID  5User rating“The CARS24 team was amazing! Theywere very professional and helpful. TheRenault Kwid I bought was i... read more... read moreValue for money : Experience :Ease of process :Akshit BagriMumbaiApr 2021MAHINDRA SCORPIO  5User rating“I'm very happy with the MahindraScorpio that I bought from CARS24. Theyhad a great selection of car... read more... read moreValue for money : Experience :Ease of process :Akash AggarwalMumbaiApr 2021MARUTI SUZUKI CELERIO  4.5User rating“The team at CARS24 was fantastic!They were so helpful and made thewhole process so easy. I wa... read more... read moreValue for money : Experience :Ease of process :Ali SayyadMumbaiApr 2021HYUNDAI I20 ACTIVE  4.5User rating“I'm very happy with the HYUNDAI I20ACTIVE that I bought from CARS24. Theprocess was smooth and th... read more... read moreValue for money : Experience :Ease of process :Ali RiazMumbaiApr 2021MAHINDRA SCORPIO  4User rating“I'm really happy with the MahindraScorpio I bought from CARS24. The teamwas great and the process ... read more... read moreValue for money : Experience :Ease of process :Fateh GoenkaMumbaiApr 2021MARUTI SUZUKI VITARA BREZZA  4User rating“I just bought my first car and it wasthrough CARS24. The process was verysmooth and the team was ... read more... read moreValue for money : Experience :Ease of process :Fateh DwivediMumbaiApr 2021HYUNDAI VENUE  5User rating“I had a great experience buying myHYUNDAI VENUE from CARS24. Theselection was great, and th... read more... read moreValue for money : Experience :Ease of process :Fateh ChauhanMumbaiApr 2021FORD FUSION  5User rating“I'm very happy with the FORD FUSION Ibought from CARS24. The process waseasy and I got a great deal. ... read more... read moreValue for money : Experience :Ease of process :Selvamani IyerMumbaiMar 2021MARUTI SUZUKI RITZ  5User rating“I had a great experience buying my carfrom CARS24. The staff was very helpfuland the process was very s... read more... read moreValue for money : Experience :Ease of process : NextFREQUENTLY ASKED QUESTIONS FOR USED CARS IN MUMBAIHow many second hand cars are available in Mumbai?616 used cars are available in Mumbai of popular brands like Maruti Suzuki, Hyundai, Honda & moreWhat are the most popular brands available for 2nd hand cars in Mumbai?CARS24 has a wide inventory of all brands including Maruti Suzuki, Hyundai, Honda & more. Find the best second hand car in Mumbai of your choice on CARS24.What will be the starting price of an old car in Mumbai?The starting price of a used car in Mumbai is Rs. ₹1,00,000.What body types are available for 2nd hand cars in Mumbai?Used cars in Mumbai are available from every segment, be it Hatchback, Sedan, SUV.Can I buy used cars online at CARS24 in Mumbai?Of Course yes, you can buy used cars online in Mumbai from CARS24. You can find thousands of quality second hand cars for sale on our website/app that can be bought at the click of a button & delivered to your doorstep anywhere in MumbaiWhat to check before buying a second hand car in Mumbai?Important things to check  before buying a second hand car in Mumbai are:Source: Buying a car from a trusted source is important to make sure the car is in the exact condition as stated & also to deal with any post sale related issues.Condition: Ensure the car is non-accidental & does not have any structural damage. We use a 140 point check to make sure every car we sell is in top condition.Age: Buying a used car that is very old can lead to problems like expensive maintenance costs and scarcity of spare parts. A three to five year old car should be an ideal buy,Car Documents: Verification of vehicle documents like Registration Certificate (RC), Insurance & PUC is very important. Also ensure the car is not under loan (hypothecated), there are no traffic challans or any legal issues with it.Certified or Not: Certified used cars come with warranty and are refurbished to as good as new to protect buyers from unforeseen repair & maintenance cost.Where can I buy used cars in Mumbai?You can buy used cars in Mumbai from Cars24. Visit our website, book the car of your choice & get it delivered to your home.How can I check a second hand car in Mumbai?You can check second hand cars in Mumbai using conventional & time consuming buying methods like classified, dealers etc. CARS24 brings you a virtual showroom experience at your fingertips using 360 view. You can check multiple cars for sale in minutes and buy one from the comfort of your couch. We’ll deliver the car anywhere in MumbaiKEEP IN TOUCHEXPERIENCE CARS24 APP ON MOBILEPowered by CARS24® 2022 www.cars24.comAll rights reservedUSEFUL LINKSContact UsAbout UsPrivacy PolicyTerms and ConditionsFAQSitemapTestimonialsBlogBranchesWe're Hiring!Become Our PartnerNeed a LoanRC Transfer StatusCARS24 FinanceCARS24 Franchise PartnersInvestorsTop BrandsMaruti SuzukiHyundaiHondaTataToyotaChevroletFordMahindraSkodaVolkswagenNissanRenaultFiatMercedes BenzAudiTOP CITIESNew DelhiNoidaGurgaonMumbaiPuneBengaluruHyderabadChennaiKolkataAhmedabadPOPULAR SEARCHESCARS24 PricingSell Used CarVehicle Ownership TransferUsed Car ValuationNeed Help?\\n\\n\\n\\n\\n\\n\\n\\n\\n\\n\\n\\n\\n\\n\\n\\n\\n\\n\\n\\n\\n\\n\\n\\n\\nHey! How can I help you today? \""
      ]
     },
     "execution_count": 3,
     "metadata": {},
     "output_type": "execute_result"
    }
   ],
   "source": [
    "soup.text"
   ]
  },
  {
   "cell_type": "markdown",
   "id": "bb53349c",
   "metadata": {},
   "source": [
    "**Creating a list of the names of cars and prices of cars**"
   ]
  },
  {
   "cell_type": "code",
   "execution_count": 4,
   "id": "250c3a64",
   "metadata": {},
   "outputs": [],
   "source": [
    "car_name =[]\n",
    "car_price=[]"
   ]
  },
  {
   "cell_type": "markdown",
   "id": "a72c0d11",
   "metadata": {},
   "source": [
    "**Extracting the container of each car and then extracting each name and price of the car**"
   ]
  },
  {
   "cell_type": "code",
   "execution_count": 5,
   "id": "3edccb79",
   "metadata": {},
   "outputs": [
    {
     "name": "stdout",
     "output_type": "stream",
     "text": [
      "Extracted Successfully\n"
     ]
    }
   ],
   "source": [
    "for car_tag in soup.find_all('div', class_='col-4'):  \n",
    "\n",
    "    \n",
    "    car_name=[score.get_text()for score in soup.find_all(name=\"h2\", class_=\"_3FpCg\")]\n",
    "    \n",
    "    car_price=[score.get_text() for score in soup.find_all(name=\"div\", class_=\"_7udZZ\")]\n",
    "\n",
    "print(\"Extracted Successfully\")"
   ]
  },
  {
   "cell_type": "code",
   "execution_count": 6,
   "id": "8aa1b115",
   "metadata": {},
   "outputs": [],
   "source": [
    "#car_model=[]\n",
    "#car_info=[]\n",
    "\n",
    "#for car_tag in soup.find_all('div', class_='col-4'):  \n",
    "\n",
    "    # car_model=[score.get_text() for score in soup.find_all(name=\"p\", class_=\"cvakB\")]\n",
    "    \n",
    "    #car_info=[score.get_text() for score in soup.find_all(name=\"ul\", class_=\"bVR0c\") ]"
   ]
  },
  {
   "cell_type": "markdown",
   "id": "ce550348",
   "metadata": {},
   "source": [
    "**Extracting wheather the car is Manual Or Automatic**"
   ]
  },
  {
   "cell_type": "code",
   "execution_count": 7,
   "id": "5fff8c82",
   "metadata": {},
   "outputs": [
    {
     "name": "stdout",
     "output_type": "stream",
     "text": [
      "Extracted Successfully\n"
     ]
    }
   ],
   "source": [
    "car_model_tag = soup.find_all(name=\"p\", class_=\"cvakB\")\n",
    "\n",
    "car_model = [ma.find_all(name='span')[0].text for ma in car_model_tag]  #  ma stand for manual automatic\n",
    "\n",
    "car_model = [nan if nan.replace(' ','') else None for nan in car_model ] # nan stands for None values in list\n",
    "\n",
    "print(\"Extracted Successfully\")"
   ]
  },
  {
   "cell_type": "markdown",
   "id": "5f19035b",
   "metadata": {},
   "source": [
    "**Extracting the car's link**"
   ]
  },
  {
   "cell_type": "code",
   "execution_count": 8,
   "id": "6caf9fdf",
   "metadata": {},
   "outputs": [
    {
     "name": "stdout",
     "output_type": "stream",
     "text": [
      "Extracted Successfully\n"
     ]
    }
   ],
   "source": [
    "car_link=[]\n",
    "car_tag=soup.find_all(name=\"a\", class_=\"_9Ue0B\")\n",
    "for i in car_tag:\n",
    "    link=i.get(\"href\")\n",
    "    car_link.append(link)   \n",
    "    \n",
    "print(\"Extracted Successfully\")"
   ]
  },
  {
   "cell_type": "markdown",
   "id": "3d303981",
   "metadata": {},
   "source": [
    "**Extracting the car's Kilometers, How many km the car has already covered**"
   ]
  },
  {
   "cell_type": "code",
   "execution_count": 9,
   "id": "42f41e33",
   "metadata": {},
   "outputs": [
    {
     "name": "stdout",
     "output_type": "stream",
     "text": [
      "Extracted Successfully\n"
     ]
    }
   ],
   "source": [
    "km=[]\n",
    "for car_tag in soup.find_all('ul', class_='bVR0c'): \n",
    "    for i in car_tag.find_all(name=\"li\")[0]:\n",
    "        km.append(i)\n",
    "        \n",
    "print(\"Extracted Successfully\")"
   ]
  },
  {
   "cell_type": "markdown",
   "id": "72bc54d7",
   "metadata": {},
   "source": [
    "**Extracting the car's Owner, is the owner 1'st or 2'nd**"
   ]
  },
  {
   "cell_type": "code",
   "execution_count": 10,
   "id": "d94671cf",
   "metadata": {},
   "outputs": [
    {
     "name": "stdout",
     "output_type": "stream",
     "text": [
      "Extracted Successfully\n"
     ]
    }
   ],
   "source": [
    "owner=[]\n",
    "for car_tag in soup.find_all('ul', class_='bVR0c'): \n",
    "    for i in car_tag.find_all(name=\"li\")[1]:\n",
    "        owner.append(i)\n",
    "    \n",
    "print(\"Extracted Successfully\")"
   ]
  },
  {
   "cell_type": "markdown",
   "id": "2b10fec7",
   "metadata": {},
   "source": [
    "**Extracting the car's type, is the car Petrol or Diesal**"
   ]
  },
  {
   "cell_type": "code",
   "execution_count": 11,
   "id": "57581958",
   "metadata": {},
   "outputs": [
    {
     "name": "stdout",
     "output_type": "stream",
     "text": [
      "Extracted Successfully\n"
     ]
    }
   ],
   "source": [
    "ctype=[]\n",
    "for car_tag in soup.find_all('ul', class_='bVR0c'): \n",
    "    for i in car_tag.find_all(name=\"li\")[2]:\n",
    "        ctype.append(i)\n",
    "    \n",
    "print(\"Extracted Successfully\")"
   ]
  },
  {
   "cell_type": "markdown",
   "id": "26ef6595",
   "metadata": {},
   "source": [
    "**Checking the length of all list**"
   ]
  },
  {
   "cell_type": "code",
   "execution_count": 12,
   "id": "6d40fc5d",
   "metadata": {},
   "outputs": [
    {
     "name": "stdout",
     "output_type": "stream",
     "text": [
      "616\n",
      "616\n",
      "616\n",
      "616\n",
      "616\n",
      "616\n",
      "616\n"
     ]
    }
   ],
   "source": [
    "print(len(car_link))\n",
    "print(len(car_name))\n",
    "print(len(car_model))\n",
    "print(len(car_price))\n",
    "print(len(km))\n",
    "print(len(owner))\n",
    "print(len(ctype))\n",
    "#print(len(car_info))"
   ]
  },
  {
   "cell_type": "markdown",
   "id": "49c8f035",
   "metadata": {},
   "source": [
    "**Creating a Dictionary with the lists we have created above**"
   ]
  },
  {
   "cell_type": "code",
   "execution_count": 13,
   "id": "f4a9594e",
   "metadata": {},
   "outputs": [],
   "source": [
    "d={'Car Name':car_name,'Car model':car_model,'Car Price':car_price,'KM':km,'Owner':owner,'Car Type':ctype,'Car link':car_link}"
   ]
  },
  {
   "cell_type": "markdown",
   "id": "5bce7e3c",
   "metadata": {},
   "source": [
    "<h2>Creating a Dataframe using Pandas</h2>"
   ]
  },
  {
   "cell_type": "code",
   "execution_count": 14,
   "id": "ba4a6e71",
   "metadata": {
    "scrolled": true
   },
   "outputs": [
    {
     "data": {
      "text/html": [
       "<div>\n",
       "<style scoped>\n",
       "    .dataframe tbody tr th:only-of-type {\n",
       "        vertical-align: middle;\n",
       "    }\n",
       "\n",
       "    .dataframe tbody tr th {\n",
       "        vertical-align: top;\n",
       "    }\n",
       "\n",
       "    .dataframe thead th {\n",
       "        text-align: right;\n",
       "    }\n",
       "</style>\n",
       "<table border=\"1\" class=\"dataframe\">\n",
       "  <thead>\n",
       "    <tr style=\"text-align: right;\">\n",
       "      <th></th>\n",
       "      <th>Car Name</th>\n",
       "      <th>Car model</th>\n",
       "      <th>Car Price</th>\n",
       "      <th>KM</th>\n",
       "      <th>Owner</th>\n",
       "      <th>Car Type</th>\n",
       "      <th>Car link</th>\n",
       "    </tr>\n",
       "  </thead>\n",
       "  <tbody>\n",
       "    <tr>\n",
       "      <th>0</th>\n",
       "      <td>2014 Maruti Wagon R 1.0</td>\n",
       "      <td>Manual</td>\n",
       "      <td>₹3,58,899</td>\n",
       "      <td>13,712 km</td>\n",
       "      <td>1st Owner</td>\n",
       "      <td>Petrol</td>\n",
       "      <td>https://www.cars24.com/buy-used-maruti-wagon-r...</td>\n",
       "    </tr>\n",
       "    <tr>\n",
       "      <th>1</th>\n",
       "      <td>2018 Maruti Swift</td>\n",
       "      <td>Automatic</td>\n",
       "      <td>₹6,88,999</td>\n",
       "      <td>53,119 km</td>\n",
       "      <td>2nd Owner</td>\n",
       "      <td>Diesel</td>\n",
       "      <td>https://www.cars24.com/buy-used-maruti-swift-2...</td>\n",
       "    </tr>\n",
       "    <tr>\n",
       "      <th>2</th>\n",
       "      <td>2019 Renault TRIBER</td>\n",
       "      <td>Manual</td>\n",
       "      <td>₹7,26,499</td>\n",
       "      <td>7,440 km</td>\n",
       "      <td>1st Owner</td>\n",
       "      <td>Petrol</td>\n",
       "      <td>https://www.cars24.com/buy-used-renault-triber...</td>\n",
       "    </tr>\n",
       "    <tr>\n",
       "      <th>3</th>\n",
       "      <td>2020 Maruti Celerio X</td>\n",
       "      <td>Automatic</td>\n",
       "      <td>₹6,57,599</td>\n",
       "      <td>4,613 km</td>\n",
       "      <td>1st Owner</td>\n",
       "      <td>Petrol</td>\n",
       "      <td>https://www.cars24.com/buy-used-maruti-celerio...</td>\n",
       "    </tr>\n",
       "    <tr>\n",
       "      <th>4</th>\n",
       "      <td>2016 Maruti Celerio</td>\n",
       "      <td>Automatic</td>\n",
       "      <td>₹4,22,999</td>\n",
       "      <td>9,836 km</td>\n",
       "      <td>2nd Owner</td>\n",
       "      <td>Petrol</td>\n",
       "      <td>https://www.cars24.com/buy-used-maruti-celerio...</td>\n",
       "    </tr>\n",
       "  </tbody>\n",
       "</table>\n",
       "</div>"
      ],
      "text/plain": [
       "                  Car Name  Car model  Car Price         KM      Owner  \\\n",
       "0  2014 Maruti Wagon R 1.0     Manual  ₹3,58,899  13,712 km  1st Owner   \n",
       "1        2018 Maruti Swift  Automatic  ₹6,88,999  53,119 km  2nd Owner   \n",
       "2      2019 Renault TRIBER     Manual  ₹7,26,499   7,440 km  1st Owner   \n",
       "3    2020 Maruti Celerio X  Automatic  ₹6,57,599   4,613 km  1st Owner   \n",
       "4      2016 Maruti Celerio  Automatic  ₹4,22,999   9,836 km  2nd Owner   \n",
       "\n",
       "  Car Type                                           Car link  \n",
       "0   Petrol  https://www.cars24.com/buy-used-maruti-wagon-r...  \n",
       "1   Diesel  https://www.cars24.com/buy-used-maruti-swift-2...  \n",
       "2   Petrol  https://www.cars24.com/buy-used-renault-triber...  \n",
       "3   Petrol  https://www.cars24.com/buy-used-maruti-celerio...  \n",
       "4   Petrol  https://www.cars24.com/buy-used-maruti-celerio...  "
      ]
     },
     "execution_count": 14,
     "metadata": {},
     "output_type": "execute_result"
    }
   ],
   "source": [
    "df = pd.DataFrame(d)\n",
    "df.head()"
   ]
  },
  {
   "cell_type": "markdown",
   "id": "5439af23",
   "metadata": {},
   "source": [
    "**The 'Car Name' column has year, brand, car name so splitting the column car name and extracting year from it and storing 'Year' as a new column in Dataframe df**"
   ]
  },
  {
   "cell_type": "code",
   "execution_count": 15,
   "id": "de9f07d5",
   "metadata": {},
   "outputs": [
    {
     "data": {
      "text/plain": [
       "0    2014\n",
       "1    2018\n",
       "2    2019\n",
       "3    2020\n",
       "4    2016\n",
       "Name: Year, dtype: object"
      ]
     },
     "execution_count": 15,
     "metadata": {},
     "output_type": "execute_result"
    }
   ],
   "source": [
    "df['Car Name'].str.split(expand=True)\n",
    "Cyear=df['Car Name'].str.extract(r'(?P<Year>\\w+)', expand=True)\n",
    "df['Year']=Cyear\n",
    "df['Year'].head()"
   ]
  },
  {
   "cell_type": "markdown",
   "id": "5454b0dc",
   "metadata": {},
   "source": [
    "**Splitting the Column 'Car Name' and extracting brand from it and storing 'Brand' as a new column in Dataframe df**"
   ]
  },
  {
   "cell_type": "code",
   "execution_count": 16,
   "id": "7df2c8e7",
   "metadata": {},
   "outputs": [
    {
     "data": {
      "text/plain": [
       "0     Maruti\n",
       "1     Maruti\n",
       "2    Renault\n",
       "3     Maruti\n",
       "4     Maruti\n",
       "Name: Brand, dtype: object"
      ]
     },
     "execution_count": 16,
     "metadata": {},
     "output_type": "execute_result"
    }
   ],
   "source": [
    "s=df['Car Name'].str.split(expand=True)\n",
    "s.drop(columns=s.columns[0], axis=1, inplace=True)\n",
    "df['Brand']=s[1]\n",
    "df['Brand'].head()"
   ]
  },
  {
   "cell_type": "markdown",
   "id": "b1fbcd38",
   "metadata": {},
   "source": [
    "**Splitting the Column 'Car Name' and extracting Car Name itself from it and storing 'Car Name' as a new column in Dataframe df**"
   ]
  },
  {
   "cell_type": "code",
   "execution_count": 17,
   "id": "aee797cf",
   "metadata": {},
   "outputs": [],
   "source": [
    "a=df['Car Name'].str.split(expand=True)\n",
    "\n",
    "b=a.drop([0, 1], axis = 1)\n",
    "\n",
    "c=b.fillna(\"\")\n",
    "\n",
    "d= c[2]+ \" \" + c[3]+ \" \" +c[4] \n",
    "df['Car Name'] =d"
   ]
  },
  {
   "cell_type": "code",
   "execution_count": 18,
   "id": "c5fe6385",
   "metadata": {},
   "outputs": [
    {
     "data": {
      "text/html": [
       "<div>\n",
       "<style scoped>\n",
       "    .dataframe tbody tr th:only-of-type {\n",
       "        vertical-align: middle;\n",
       "    }\n",
       "\n",
       "    .dataframe tbody tr th {\n",
       "        vertical-align: top;\n",
       "    }\n",
       "\n",
       "    .dataframe thead th {\n",
       "        text-align: right;\n",
       "    }\n",
       "</style>\n",
       "<table border=\"1\" class=\"dataframe\">\n",
       "  <thead>\n",
       "    <tr style=\"text-align: right;\">\n",
       "      <th></th>\n",
       "      <th>Car Name</th>\n",
       "      <th>Car model</th>\n",
       "      <th>Car Price</th>\n",
       "      <th>KM</th>\n",
       "      <th>Owner</th>\n",
       "      <th>Car Type</th>\n",
       "      <th>Car link</th>\n",
       "      <th>Year</th>\n",
       "      <th>Brand</th>\n",
       "    </tr>\n",
       "  </thead>\n",
       "  <tbody>\n",
       "    <tr>\n",
       "      <th>0</th>\n",
       "      <td>Wagon R 1.0</td>\n",
       "      <td>Manual</td>\n",
       "      <td>₹3,58,899</td>\n",
       "      <td>13,712 km</td>\n",
       "      <td>1st Owner</td>\n",
       "      <td>Petrol</td>\n",
       "      <td>https://www.cars24.com/buy-used-maruti-wagon-r...</td>\n",
       "      <td>2014</td>\n",
       "      <td>Maruti</td>\n",
       "    </tr>\n",
       "    <tr>\n",
       "      <th>1</th>\n",
       "      <td>Swift</td>\n",
       "      <td>Automatic</td>\n",
       "      <td>₹6,88,999</td>\n",
       "      <td>53,119 km</td>\n",
       "      <td>2nd Owner</td>\n",
       "      <td>Diesel</td>\n",
       "      <td>https://www.cars24.com/buy-used-maruti-swift-2...</td>\n",
       "      <td>2018</td>\n",
       "      <td>Maruti</td>\n",
       "    </tr>\n",
       "    <tr>\n",
       "      <th>2</th>\n",
       "      <td>TRIBER</td>\n",
       "      <td>Manual</td>\n",
       "      <td>₹7,26,499</td>\n",
       "      <td>7,440 km</td>\n",
       "      <td>1st Owner</td>\n",
       "      <td>Petrol</td>\n",
       "      <td>https://www.cars24.com/buy-used-renault-triber...</td>\n",
       "      <td>2019</td>\n",
       "      <td>Renault</td>\n",
       "    </tr>\n",
       "    <tr>\n",
       "      <th>3</th>\n",
       "      <td>Celerio X</td>\n",
       "      <td>Automatic</td>\n",
       "      <td>₹6,57,599</td>\n",
       "      <td>4,613 km</td>\n",
       "      <td>1st Owner</td>\n",
       "      <td>Petrol</td>\n",
       "      <td>https://www.cars24.com/buy-used-maruti-celerio...</td>\n",
       "      <td>2020</td>\n",
       "      <td>Maruti</td>\n",
       "    </tr>\n",
       "    <tr>\n",
       "      <th>4</th>\n",
       "      <td>Celerio</td>\n",
       "      <td>Automatic</td>\n",
       "      <td>₹4,22,999</td>\n",
       "      <td>9,836 km</td>\n",
       "      <td>2nd Owner</td>\n",
       "      <td>Petrol</td>\n",
       "      <td>https://www.cars24.com/buy-used-maruti-celerio...</td>\n",
       "      <td>2016</td>\n",
       "      <td>Maruti</td>\n",
       "    </tr>\n",
       "  </tbody>\n",
       "</table>\n",
       "</div>"
      ],
      "text/plain": [
       "      Car Name  Car model  Car Price         KM      Owner Car Type  \\\n",
       "0  Wagon R 1.0     Manual  ₹3,58,899  13,712 km  1st Owner   Petrol   \n",
       "1      Swift    Automatic  ₹6,88,999  53,119 km  2nd Owner   Diesel   \n",
       "2     TRIBER       Manual  ₹7,26,499   7,440 km  1st Owner   Petrol   \n",
       "3   Celerio X   Automatic  ₹6,57,599   4,613 km  1st Owner   Petrol   \n",
       "4    Celerio    Automatic  ₹4,22,999   9,836 km  2nd Owner   Petrol   \n",
       "\n",
       "                                            Car link  Year    Brand  \n",
       "0  https://www.cars24.com/buy-used-maruti-wagon-r...  2014   Maruti  \n",
       "1  https://www.cars24.com/buy-used-maruti-swift-2...  2018   Maruti  \n",
       "2  https://www.cars24.com/buy-used-renault-triber...  2019  Renault  \n",
       "3  https://www.cars24.com/buy-used-maruti-celerio...  2020   Maruti  \n",
       "4  https://www.cars24.com/buy-used-maruti-celerio...  2016   Maruti  "
      ]
     },
     "execution_count": 18,
     "metadata": {},
     "output_type": "execute_result"
    }
   ],
   "source": [
    "df.head()"
   ]
  },
  {
   "cell_type": "markdown",
   "id": "aca64c21",
   "metadata": {},
   "source": [
    "**Adding City Column with City as Mumbai**"
   ]
  },
  {
   "cell_type": "code",
   "execution_count": 19,
   "id": "176bf80c",
   "metadata": {},
   "outputs": [
    {
     "data": {
      "text/plain": [
       "616"
      ]
     },
     "execution_count": 19,
     "metadata": {},
     "output_type": "execute_result"
    }
   ],
   "source": [
    "df['City']='Mumbai'\n",
    "\n",
    "len(df['City'])"
   ]
  },
  {
   "cell_type": "code",
   "execution_count": 20,
   "id": "1fa84523",
   "metadata": {},
   "outputs": [
    {
     "data": {
      "text/html": [
       "<div>\n",
       "<style scoped>\n",
       "    .dataframe tbody tr th:only-of-type {\n",
       "        vertical-align: middle;\n",
       "    }\n",
       "\n",
       "    .dataframe tbody tr th {\n",
       "        vertical-align: top;\n",
       "    }\n",
       "\n",
       "    .dataframe thead th {\n",
       "        text-align: right;\n",
       "    }\n",
       "</style>\n",
       "<table border=\"1\" class=\"dataframe\">\n",
       "  <thead>\n",
       "    <tr style=\"text-align: right;\">\n",
       "      <th></th>\n",
       "      <th>Car Name</th>\n",
       "      <th>Car model</th>\n",
       "      <th>Car Price</th>\n",
       "      <th>KM</th>\n",
       "      <th>Owner</th>\n",
       "      <th>Car Type</th>\n",
       "      <th>Car link</th>\n",
       "      <th>Year</th>\n",
       "      <th>Brand</th>\n",
       "      <th>City</th>\n",
       "    </tr>\n",
       "  </thead>\n",
       "  <tbody>\n",
       "    <tr>\n",
       "      <th>0</th>\n",
       "      <td>Wagon R 1.0</td>\n",
       "      <td>Manual</td>\n",
       "      <td>₹3,58,899</td>\n",
       "      <td>13,712 km</td>\n",
       "      <td>1st Owner</td>\n",
       "      <td>Petrol</td>\n",
       "      <td>https://www.cars24.com/buy-used-maruti-wagon-r...</td>\n",
       "      <td>2014</td>\n",
       "      <td>Maruti</td>\n",
       "      <td>Mumbai</td>\n",
       "    </tr>\n",
       "    <tr>\n",
       "      <th>1</th>\n",
       "      <td>Swift</td>\n",
       "      <td>Automatic</td>\n",
       "      <td>₹6,88,999</td>\n",
       "      <td>53,119 km</td>\n",
       "      <td>2nd Owner</td>\n",
       "      <td>Diesel</td>\n",
       "      <td>https://www.cars24.com/buy-used-maruti-swift-2...</td>\n",
       "      <td>2018</td>\n",
       "      <td>Maruti</td>\n",
       "      <td>Mumbai</td>\n",
       "    </tr>\n",
       "    <tr>\n",
       "      <th>2</th>\n",
       "      <td>TRIBER</td>\n",
       "      <td>Manual</td>\n",
       "      <td>₹7,26,499</td>\n",
       "      <td>7,440 km</td>\n",
       "      <td>1st Owner</td>\n",
       "      <td>Petrol</td>\n",
       "      <td>https://www.cars24.com/buy-used-renault-triber...</td>\n",
       "      <td>2019</td>\n",
       "      <td>Renault</td>\n",
       "      <td>Mumbai</td>\n",
       "    </tr>\n",
       "    <tr>\n",
       "      <th>3</th>\n",
       "      <td>Celerio X</td>\n",
       "      <td>Automatic</td>\n",
       "      <td>₹6,57,599</td>\n",
       "      <td>4,613 km</td>\n",
       "      <td>1st Owner</td>\n",
       "      <td>Petrol</td>\n",
       "      <td>https://www.cars24.com/buy-used-maruti-celerio...</td>\n",
       "      <td>2020</td>\n",
       "      <td>Maruti</td>\n",
       "      <td>Mumbai</td>\n",
       "    </tr>\n",
       "    <tr>\n",
       "      <th>4</th>\n",
       "      <td>Celerio</td>\n",
       "      <td>Automatic</td>\n",
       "      <td>₹4,22,999</td>\n",
       "      <td>9,836 km</td>\n",
       "      <td>2nd Owner</td>\n",
       "      <td>Petrol</td>\n",
       "      <td>https://www.cars24.com/buy-used-maruti-celerio...</td>\n",
       "      <td>2016</td>\n",
       "      <td>Maruti</td>\n",
       "      <td>Mumbai</td>\n",
       "    </tr>\n",
       "    <tr>\n",
       "      <th>...</th>\n",
       "      <td>...</td>\n",
       "      <td>...</td>\n",
       "      <td>...</td>\n",
       "      <td>...</td>\n",
       "      <td>...</td>\n",
       "      <td>...</td>\n",
       "      <td>...</td>\n",
       "      <td>...</td>\n",
       "      <td>...</td>\n",
       "      <td>...</td>\n",
       "    </tr>\n",
       "    <tr>\n",
       "      <th>611</th>\n",
       "      <td>i20</td>\n",
       "      <td>Manual</td>\n",
       "      <td>₹3,93,149</td>\n",
       "      <td>40,860 km</td>\n",
       "      <td>3rd Owner</td>\n",
       "      <td>Petrol</td>\n",
       "      <td>https://www.cars24.com/buy-used-hyundai-i20-20...</td>\n",
       "      <td>2014</td>\n",
       "      <td>Hyundai</td>\n",
       "      <td>Mumbai</td>\n",
       "    </tr>\n",
       "    <tr>\n",
       "      <th>612</th>\n",
       "      <td>Ecosport</td>\n",
       "      <td>Manual</td>\n",
       "      <td>₹4,79,499</td>\n",
       "      <td>25,976 km</td>\n",
       "      <td>1st Owner</td>\n",
       "      <td>Petrol</td>\n",
       "      <td>https://www.cars24.com/buy-used-ford-ecosport-...</td>\n",
       "      <td>2014</td>\n",
       "      <td>Ford</td>\n",
       "      <td>Mumbai</td>\n",
       "    </tr>\n",
       "    <tr>\n",
       "      <th>613</th>\n",
       "      <td>Ertiga</td>\n",
       "      <td>Manual</td>\n",
       "      <td>₹8,69,499</td>\n",
       "      <td>26,214 km</td>\n",
       "      <td>2nd Owner</td>\n",
       "      <td>Diesel</td>\n",
       "      <td>https://www.cars24.com/buy-used-maruti-ertiga-...</td>\n",
       "      <td>2017</td>\n",
       "      <td>Maruti</td>\n",
       "      <td>Mumbai</td>\n",
       "    </tr>\n",
       "    <tr>\n",
       "      <th>614</th>\n",
       "      <td>Creta</td>\n",
       "      <td>Manual</td>\n",
       "      <td>₹7,93,099</td>\n",
       "      <td>23,212 km</td>\n",
       "      <td>2nd Owner</td>\n",
       "      <td>Petrol</td>\n",
       "      <td>https://www.cars24.com/buy-used-hyundai-creta-...</td>\n",
       "      <td>2016</td>\n",
       "      <td>Hyundai</td>\n",
       "      <td>Mumbai</td>\n",
       "    </tr>\n",
       "    <tr>\n",
       "      <th>615</th>\n",
       "      <td>S PRESSO</td>\n",
       "      <td>Manual</td>\n",
       "      <td>₹5,41,299</td>\n",
       "      <td>16,517 km</td>\n",
       "      <td>1st Owner</td>\n",
       "      <td>Petrol + CNG</td>\n",
       "      <td>https://www.cars24.com/buy-used-maruti-s-press...</td>\n",
       "      <td>2020</td>\n",
       "      <td>Maruti</td>\n",
       "      <td>Mumbai</td>\n",
       "    </tr>\n",
       "  </tbody>\n",
       "</table>\n",
       "<p>616 rows × 10 columns</p>\n",
       "</div>"
      ],
      "text/plain": [
       "        Car Name  Car model  Car Price         KM      Owner      Car Type  \\\n",
       "0    Wagon R 1.0     Manual  ₹3,58,899  13,712 km  1st Owner        Petrol   \n",
       "1        Swift    Automatic  ₹6,88,999  53,119 km  2nd Owner        Diesel   \n",
       "2       TRIBER       Manual  ₹7,26,499   7,440 km  1st Owner        Petrol   \n",
       "3     Celerio X   Automatic  ₹6,57,599   4,613 km  1st Owner        Petrol   \n",
       "4      Celerio    Automatic  ₹4,22,999   9,836 km  2nd Owner        Petrol   \n",
       "..           ...        ...        ...        ...        ...           ...   \n",
       "611        i20       Manual  ₹3,93,149  40,860 km  3rd Owner        Petrol   \n",
       "612   Ecosport       Manual  ₹4,79,499  25,976 km  1st Owner        Petrol   \n",
       "613     Ertiga       Manual  ₹8,69,499  26,214 km  2nd Owner        Diesel   \n",
       "614      Creta       Manual  ₹7,93,099  23,212 km  2nd Owner        Petrol   \n",
       "615    S PRESSO      Manual  ₹5,41,299  16,517 km  1st Owner  Petrol + CNG   \n",
       "\n",
       "                                              Car link  Year    Brand    City  \n",
       "0    https://www.cars24.com/buy-used-maruti-wagon-r...  2014   Maruti  Mumbai  \n",
       "1    https://www.cars24.com/buy-used-maruti-swift-2...  2018   Maruti  Mumbai  \n",
       "2    https://www.cars24.com/buy-used-renault-triber...  2019  Renault  Mumbai  \n",
       "3    https://www.cars24.com/buy-used-maruti-celerio...  2020   Maruti  Mumbai  \n",
       "4    https://www.cars24.com/buy-used-maruti-celerio...  2016   Maruti  Mumbai  \n",
       "..                                                 ...   ...      ...     ...  \n",
       "611  https://www.cars24.com/buy-used-hyundai-i20-20...  2014  Hyundai  Mumbai  \n",
       "612  https://www.cars24.com/buy-used-ford-ecosport-...  2014     Ford  Mumbai  \n",
       "613  https://www.cars24.com/buy-used-maruti-ertiga-...  2017   Maruti  Mumbai  \n",
       "614  https://www.cars24.com/buy-used-hyundai-creta-...  2016  Hyundai  Mumbai  \n",
       "615  https://www.cars24.com/buy-used-maruti-s-press...  2020   Maruti  Mumbai  \n",
       "\n",
       "[616 rows x 10 columns]"
      ]
     },
     "execution_count": 20,
     "metadata": {},
     "output_type": "execute_result"
    }
   ],
   "source": [
    "df"
   ]
  },
  {
   "cell_type": "markdown",
   "id": "0bea7218",
   "metadata": {},
   "source": [
    "**Re-arranging the order of Columns**"
   ]
  },
  {
   "cell_type": "code",
   "execution_count": 21,
   "id": "8477a262",
   "metadata": {
    "scrolled": false
   },
   "outputs": [],
   "source": [
    "data=df.reindex(columns=['City','Year','Brand','Car Name','Car model','Car Price','KM','Owner','Car Type','Car link'])"
   ]
  },
  {
   "cell_type": "code",
   "execution_count": 22,
   "id": "665b8313",
   "metadata": {},
   "outputs": [
    {
     "data": {
      "text/html": [
       "<div>\n",
       "<style scoped>\n",
       "    .dataframe tbody tr th:only-of-type {\n",
       "        vertical-align: middle;\n",
       "    }\n",
       "\n",
       "    .dataframe tbody tr th {\n",
       "        vertical-align: top;\n",
       "    }\n",
       "\n",
       "    .dataframe thead th {\n",
       "        text-align: right;\n",
       "    }\n",
       "</style>\n",
       "<table border=\"1\" class=\"dataframe\">\n",
       "  <thead>\n",
       "    <tr style=\"text-align: right;\">\n",
       "      <th></th>\n",
       "      <th>City</th>\n",
       "      <th>Year</th>\n",
       "      <th>Brand</th>\n",
       "      <th>Car Name</th>\n",
       "      <th>Car model</th>\n",
       "      <th>Car Price</th>\n",
       "      <th>KM</th>\n",
       "      <th>Owner</th>\n",
       "      <th>Car Type</th>\n",
       "      <th>Car link</th>\n",
       "    </tr>\n",
       "  </thead>\n",
       "  <tbody>\n",
       "    <tr>\n",
       "      <th>0</th>\n",
       "      <td>Mumbai</td>\n",
       "      <td>2014</td>\n",
       "      <td>Maruti</td>\n",
       "      <td>Wagon R 1.0</td>\n",
       "      <td>Manual</td>\n",
       "      <td>₹3,58,899</td>\n",
       "      <td>13,712 km</td>\n",
       "      <td>1st Owner</td>\n",
       "      <td>Petrol</td>\n",
       "      <td>https://www.cars24.com/buy-used-maruti-wagon-r...</td>\n",
       "    </tr>\n",
       "    <tr>\n",
       "      <th>1</th>\n",
       "      <td>Mumbai</td>\n",
       "      <td>2018</td>\n",
       "      <td>Maruti</td>\n",
       "      <td>Swift</td>\n",
       "      <td>Automatic</td>\n",
       "      <td>₹6,88,999</td>\n",
       "      <td>53,119 km</td>\n",
       "      <td>2nd Owner</td>\n",
       "      <td>Diesel</td>\n",
       "      <td>https://www.cars24.com/buy-used-maruti-swift-2...</td>\n",
       "    </tr>\n",
       "    <tr>\n",
       "      <th>2</th>\n",
       "      <td>Mumbai</td>\n",
       "      <td>2019</td>\n",
       "      <td>Renault</td>\n",
       "      <td>TRIBER</td>\n",
       "      <td>Manual</td>\n",
       "      <td>₹7,26,499</td>\n",
       "      <td>7,440 km</td>\n",
       "      <td>1st Owner</td>\n",
       "      <td>Petrol</td>\n",
       "      <td>https://www.cars24.com/buy-used-renault-triber...</td>\n",
       "    </tr>\n",
       "    <tr>\n",
       "      <th>3</th>\n",
       "      <td>Mumbai</td>\n",
       "      <td>2020</td>\n",
       "      <td>Maruti</td>\n",
       "      <td>Celerio X</td>\n",
       "      <td>Automatic</td>\n",
       "      <td>₹6,57,599</td>\n",
       "      <td>4,613 km</td>\n",
       "      <td>1st Owner</td>\n",
       "      <td>Petrol</td>\n",
       "      <td>https://www.cars24.com/buy-used-maruti-celerio...</td>\n",
       "    </tr>\n",
       "    <tr>\n",
       "      <th>4</th>\n",
       "      <td>Mumbai</td>\n",
       "      <td>2016</td>\n",
       "      <td>Maruti</td>\n",
       "      <td>Celerio</td>\n",
       "      <td>Automatic</td>\n",
       "      <td>₹4,22,999</td>\n",
       "      <td>9,836 km</td>\n",
       "      <td>2nd Owner</td>\n",
       "      <td>Petrol</td>\n",
       "      <td>https://www.cars24.com/buy-used-maruti-celerio...</td>\n",
       "    </tr>\n",
       "  </tbody>\n",
       "</table>\n",
       "</div>"
      ],
      "text/plain": [
       "     City  Year    Brand     Car Name  Car model  Car Price         KM  \\\n",
       "0  Mumbai  2014   Maruti  Wagon R 1.0     Manual  ₹3,58,899  13,712 km   \n",
       "1  Mumbai  2018   Maruti      Swift    Automatic  ₹6,88,999  53,119 km   \n",
       "2  Mumbai  2019  Renault     TRIBER       Manual  ₹7,26,499   7,440 km   \n",
       "3  Mumbai  2020   Maruti   Celerio X   Automatic  ₹6,57,599   4,613 km   \n",
       "4  Mumbai  2016   Maruti    Celerio    Automatic  ₹4,22,999   9,836 km   \n",
       "\n",
       "       Owner Car Type                                           Car link  \n",
       "0  1st Owner   Petrol  https://www.cars24.com/buy-used-maruti-wagon-r...  \n",
       "1  2nd Owner   Diesel  https://www.cars24.com/buy-used-maruti-swift-2...  \n",
       "2  1st Owner   Petrol  https://www.cars24.com/buy-used-renault-triber...  \n",
       "3  1st Owner   Petrol  https://www.cars24.com/buy-used-maruti-celerio...  \n",
       "4  2nd Owner   Petrol  https://www.cars24.com/buy-used-maruti-celerio...  "
      ]
     },
     "execution_count": 22,
     "metadata": {},
     "output_type": "execute_result"
    }
   ],
   "source": [
    "data.head()"
   ]
  },
  {
   "cell_type": "markdown",
   "id": "6d6c2814",
   "metadata": {},
   "source": [
    "**Storing the data as CSV in Given Path**"
   ]
  },
  {
   "cell_type": "code",
   "execution_count": 23,
   "id": "dd780771",
   "metadata": {
    "scrolled": true
   },
   "outputs": [],
   "source": [
    "path=\"D:\\Malhar H Jadhav\\Zep Intern\\Task 2\\Code and data\\Data\\Cars24_Mumbai.csv\"\n",
    "data.to_csv(path, index=False)"
   ]
  },
  {
   "cell_type": "code",
   "execution_count": null,
   "id": "adb62bb4",
   "metadata": {},
   "outputs": [],
   "source": []
  }
 ],
 "metadata": {
  "kernelspec": {
   "display_name": "Python 3 (ipykernel)",
   "language": "python",
   "name": "python3"
  },
  "language_info": {
   "codemirror_mode": {
    "name": "ipython",
    "version": 3
   },
   "file_extension": ".py",
   "mimetype": "text/x-python",
   "name": "python",
   "nbconvert_exporter": "python",
   "pygments_lexer": "ipython3",
   "version": "3.9.7"
  }
 },
 "nbformat": 4,
 "nbformat_minor": 5
}
