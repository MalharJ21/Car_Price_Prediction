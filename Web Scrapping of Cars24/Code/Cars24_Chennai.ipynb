{
 "cells": [
  {
   "cell_type": "markdown",
   "id": "a0647529",
   "metadata": {},
   "source": [
    "<h3>Importing the Libraries Required </h3>"
   ]
  },
  {
   "cell_type": "code",
   "execution_count": 1,
   "id": "0c5c40ca",
   "metadata": {},
   "outputs": [],
   "source": [
    "import urllib\n",
    "import time\n",
    "import json\n",
    "import numpy as np\n",
    "import pandas as pd\n",
    "from tqdm import tqdm\n",
    "from time import sleep\n",
    "from selenium import webdriver\n",
    "from selenium.webdriver.common.by import By\n",
    "from selenium.webdriver.support.ui import WebDriverWait\n",
    "from selenium.webdriver.support import expected_conditions as EC\n",
    "from selenium.common.exceptions import TimeoutException\n",
    "from bs4 import BeautifulSoup\n",
    "from selenium.common.exceptions import ElementClickInterceptedException\n",
    "from selenium.common.exceptions import NoSuchElementException\n"
   ]
  },
  {
   "cell_type": "markdown",
   "id": "e57b890a",
   "metadata": {},
   "source": [
    "<h3>Using Selenium For Auto Scrolling the Web-Page and Extracting the The Page Source</h3>"
   ]
  },
  {
   "cell_type": "code",
   "execution_count": 2,
   "id": "6c96f183",
   "metadata": {
    "scrolled": true
   },
   "outputs": [
    {
     "name": "stderr",
     "output_type": "stream",
     "text": [
      "C:\\Users\\jadha\\AppData\\Local\\Temp/ipykernel_2588/776522944.py:1: DeprecationWarning: executable_path has been deprecated, please pass in a Service object\n",
      "  driver = webdriver.Chrome(executable_path=r'D:\\\\Malhar H Jadhav\\\\Devlopment\\\\chromedriver_win32\\\\chromedriver.exe')\n"
     ]
    }
   ],
   "source": [
    "driver = webdriver.Chrome(executable_path=r'D:\\\\Malhar H Jadhav\\\\Devlopment\\\\chromedriver_win32\\\\chromedriver.exe')\n",
    "driver.wait = WebDriverWait(driver, 5)\n",
    "driver.maximize_window()\n",
    "driver.get(\"https://www.cars24.com/buy-used-car?sort=P&storeCityId=5732&pinId=600001\")\n",
    "time.sleep(7)\n",
    "\n",
    "\n",
    "height = driver.execute_script(\"return document.documentElement.scrollHeight\")\n",
    "lastheight = 0\n",
    "while True:\n",
    "    if lastheight == height:\n",
    "        break\n",
    "    lastheight = height\n",
    "    driver.execute_script(\"window.scrollTo(0, \" + str(height) + \");\")\n",
    "    time.sleep(10)\n",
    "    height = driver.execute_script(\"return document.documentElement.scrollHeight\")\n",
    "    \n",
    "    \n",
    "# Using BeautifulSoup To Store the Page Source in Object Called Soup\n",
    "\n",
    "soup = BeautifulSoup(driver.page_source)\n",
    "driver.quit()"
   ]
  },
  {
   "cell_type": "markdown",
   "id": "9dbcafd3",
   "metadata": {},
   "source": [
    "<h3>Storing the page source in object called Soup and viewing the text</h3>"
   ]
  },
  {
   "cell_type": "code",
   "execution_count": 3,
   "id": "fe63b43f",
   "metadata": {},
   "outputs": [
    {
     "data": {
      "text/plain": [
       "\"\\n\\n\\n\\n\\n\\n\\n\\n\\n\\n\\nUsed Cars in Chennai - Second Hand Cars in Chennai for Sale\\nChennai  Popular CitiesUsed cars in BengaluruPopular CarsUsed Hyundai carsUsed Renault carsUsed Mahindra carsUsed Toyota carsUsed Audi carsUsed Honda carsUsed Maruti carsUsed Tata carsUsed Ford carsUsed Skoda carsAll used cars in BengaluruUsed cars in ChennaiPopular CarsUsed Hyundai carsUsed Renault carsUsed Mahindra carsUsed Toyota carsUsed Audi carsUsed Honda carsUsed Maruti carsUsed Tata carsUsed Ford carsUsed Skoda carsAll used cars in ChennaiUsed cars in New DelhiPopular CarsUsed Hyundai carsUsed Renault carsUsed Mahindra carsUsed Toyota carsUsed Audi carsUsed Honda carsUsed Maruti carsUsed Tata carsUsed Ford carsUsed Skoda carsAll used cars in New DelhiUsed cars in MumbaiPopular CarsUsed Hyundai carsUsed Renault carsUsed Mahindra carsUsed Toyota carsUsed Audi carsUsed Honda carsUsed Maruti carsUsed Tata carsUsed Ford carsUsed Skoda carsAll used cars in MumbaiUsed cars in PunePopular CarsUsed Hyundai carsUsed Renault carsUsed Mahindra carsUsed Toyota carsUsed Audi carsUsed Honda carsUsed Maruti carsUsed Tata carsUsed Ford carsUsed Skoda carsAll used cars in PuneUsed cars in HyderabadPopular CarsUsed Hyundai carsUsed Renault carsUsed Mahindra carsUsed Toyota carsUsed Audi carsUsed Honda carsUsed Maruti carsUsed Tata carsUsed Ford carsUsed Skoda carsAll used cars in HyderabadUsed cars in KolkataPopular CarsUsed Hyundai carsUsed Renault carsUsed Mahindra carsUsed Toyota carsUsed Audi carsUsed Honda carsUsed Maruti carsUsed Tata carsUsed Ford carsUsed Skoda carsAll used cars in KolkataUsed cars in AhmedabadPopular CarsUsed Hyundai carsUsed Renault carsUsed Mahindra carsUsed Toyota carsUsed Audi carsUsed Honda carsUsed Maruti carsUsed Tata carsUsed Ford carsUsed Skoda carsAll used cars in AhmedabadUsed cars in JaipurPopular CarsUsed Hyundai carsUsed Renault carsUsed Mahindra carsUsed Toyota carsUsed Audi carsUsed Honda carsUsed Maruti carsUsed Tata carsUsed Ford carsUsed Skoda carsAll used cars in JaipurUsed cars in ChandigarhPopular CarsUsed Hyundai carsUsed Renault carsUsed Mahindra carsUsed Toyota carsUsed Audi carsUsed Honda carsUsed Maruti carsUsed Tata carsUsed Ford carsUsed Skoda carsAll used cars in ChandigarhBuy used carSell used carLoginRC Transfers StatusFAQBecome a partnerBuy Car: 9 AM - 9 PM1800 258 5656HomeUsed CarsChennaiFind your dream car with usSort By:Best Match  PriceModel YearKMs DrivenMake & ModelRTOMore FiltersUsed Cars in Chennai2012 Volkswagen VentoHIGHLINE DIESEL Manual54,460 km1st OwnerDiesel₹11,207/month₹5,03,799Zero downpayment2021 Hyundai CretaE Manual12,419 km1st OwnerDiesel₹29,965/month₹13,47,099Zero downpayment2021 Tata HarrierXT 2.0L Kryotec Manual3,422 km1st OwnerDiesel₹46,535/month₹20,91,999Zero downpayment2012 Toyota Etios LivaD 4D GD Manual86,154 km1st OwnerDiesel₹9,174/month₹4,12,399Zero downpayment2019 Maruti ErtigaZXI Plus SHVS Manual41,054 km2nd OwnerPetrol₹21,833/month₹9,81,499Zero downpaymentFilter By Popular BrandMarutiHyundaiHondaTataToyota2021 Maruti Vitara BrezzaVXI Manual7,573 km1st OwnerPetrol₹19,911/month₹8,95,099Zero downpayment2015 Mercedes Benz C ClassC 200 AVANTGARDE Automatic40,861 km2nd OwnerPetrol₹50,978/month₹22,91,699Zero downpayment2012 Honda Brio1.2 V MT I VTEC Manual78,914 km1st OwnerPetrol₹8,348/month₹3,75,299Zero downpayment2020 Maruti CelerioTour H2 Manual7,652 km1st OwnerPetrol₹10,862/month₹4,88,299Zero downpayment2021 Renault TRIBER1.0 RXZ Manual15,952 km1st OwnerPetrol₹16,443/month₹7,39,199Zero downpayment2021 Tata ALTROZXM+ 1.2 RTN 9,555 km2nd OwnerPetrol₹17,304/month₹7,77,899Zero downpaymentFilter By BudgetCars under 2 lakhCars between 2 lakh - 5 lakhCars between 5 lakh - 10 lakhCars above 10 lakh2022 KIA CARENSPRESTIGE 1.5G MT 7STR 4,062 km1st OwnerPetrol₹32,477/month₹14,59,999Zero downpayment2020 Hyundai VENUES MT 1.2 KAPPA Manual24,112 km1st OwnerPetrol₹19,110/month₹8,59,099Zero downpayment2013 Maruti RitzVXI BS IV Manual56,548 km1st OwnerPetrol₹7,283/month₹3,27,399Zero downpayment2021 Renault Kwid1.0 RXT Opt AT Automatic14,017 km1st OwnerPetrol₹12,495/month₹5,61,699Zero downpayment2021 Renault Kwid1.0 RXT Opt Manual4,352 km1st OwnerPetrol₹10,662/month₹4,79,299Zero downpayment2018 Maruti Alto 800LXI Manual7,657 km2nd OwnerPetrol₹7,601/month₹3,41,699Zero downpaymentFilter By Fuel TypePetrolDieselCNGLPGElectricHybrid2016 Maruti SwiftVXI OPT Manual32,620 km1st OwnerPetrol₹12,349/month₹5,55,171Zero downpayment2017 Hyundai XcentS 1.2 Manual35,178 km1st OwnerPetrol₹11,818/month₹5,31,299Zero downpayment2019 Hyundai Elite i201.2 MAGNA PLUS VTVT Manual31,242 km1st OwnerPetrol₹15,869/month₹7,13,399Zero downpayment2018 Honda Amaze1.5 VXMT I DTEC Manual47,456 km1st OwnerDiesel₹15,789/month₹7,09,799Zero downpayment2017 Maruti SwiftVXI OPT Manual19,953 km1st OwnerPetrol₹12,504/month₹5,62,099Zero downpayment2019 Maruti Eeco5 STR WITH AC PLUSHTR Manual5,310 km2nd OwnerPetrol₹9,745/month₹4,38,099Zero downpaymentFilter By Body TypeHatchbackSedanSUVLuxury SedanLuxury SUV2020 Tata ALTROZXZ 1.2 Manual29,838 km1st OwnerPetrol₹16,955/month₹7,62,199Zero downpayment2014 Hyundai XcentS 1.2 Manual68,256 km1st OwnerPetrol₹9,734/month₹4,37,599Zero downpayment2019 Jeep CompassLIMITED PLUS 2.0 4*4 Manual34,502 km1st OwnerDiesel₹49,485/month₹22,24,587Zero downpayment2017 Maruti ErtigaZXI PLUS Manual47,428 km1st OwnerPetrol₹18,349/month₹8,24,899Zero downpayment12-Months Free Warranty!Free 12 months warranty on all cars to safeguard you from unforeseen repair and maintenance costsKNOW MORE2015 Maruti SwiftVXI Manual51,079 km2nd OwnerPetrol₹10,341/month₹4,64,899Zero downpayment2019 Maruti Eeco5 STR WITH AC PLUSHTR Manual21,908 km1st OwnerPetrol₹10,448/month₹4,69,699Zero downpayment2017 Maruti Wagon R 1.0VXI OPT AMT Automatic28,852 km2nd OwnerPetrol₹10,993/month₹4,94,199Zero downpayment2018 Mahindra MARAZZOM8 7 STR Manual32,683 km2nd OwnerDiesel₹24,889/month₹11,18,899Zero downpayment2019 Honda CityV CVT Automatic32,644 km1st OwnerPetrol₹22,758/month₹10,23,099Zero downpayment2014 Maruti Alto K10VXI Manual35,038 km1st OwnerPetrol₹6,519/month₹2,93,043Zero downpayment2017 Volkswagen AmeoCOMFORTLINE PLUS PETROL Manual50,355 km2nd OwnerPetrol₹10,720/month₹4,81,899Zero downpayment2018 Maruti DzireVXI Manual15,476 km2nd OwnerPetrol₹14,701/month₹6,60,899Zero downpayment2016 Hyundai Grand i10MAGNA 1.2 KAPPA VTVT Manual16,179 km2nd OwnerPetrol₹9,870/month₹4,43,699Zero downpayment2017 Mahindra TUV300T 10 MT Dual Tone Manual67,374 km1st OwnerDiesel₹17,813/month₹8,00,799Zero downpayment2016 Maruti SwiftVXI OPT Manual30,007 km2nd OwnerPetrol₹12,468/month₹5,60,499Zero downpayment2015 Hyundai EonERA PLUS Manual29,976 km1st OwnerPetrol₹6,994/month₹3,14,399Zero downpayment2014 Maruti Wagon R 1.0VXI Manual30,457 km1st OwnerPetrol₹8,673/month₹3,89,899Zero downpayment2016 Tata TiagoXZ 1.2 REVOTRON Manual32,730 km2nd OwnerPetrol₹10,039/month₹4,51,299Zero downpayment2019 Maruti CelerioVXI Manual3,105 km1st OwnerPetrol₹11,896/month₹5,34,799Zero downpayment2017 Maruti CelerioZXI AMT Automatic88,268 km1st OwnerPetrol₹10,671/month₹4,79,699Zero downpayment2014 Maruti Wagon R 1.0VXI Manual31,348 km1st OwnerPetrol₹8,502/month₹3,82,199Zero downpayment2019 Hyundai VENUE1.0L Turbo GDI SX(O) MT Manual24,834 km1st OwnerPetrol₹22,458/month₹10,09,599Zero downpayment2017 Tata TIGORXZ 1.2 REVOTRON OPT Manual53,302 km1st OwnerPetrol₹11,053/month₹4,96,899Zero downpayment2019 Hyundai Tucson New2WD AT GL DIESEL Automatic18,527 km1st OwnerDiesel₹51,487/month₹23,14,599Zero downpayment2018 Renault KwidRXT Opt Manual27,701 km1st OwnerPetrol₹8,385/month₹3,76,958Zero downpayment2019 Renault TRIBER1.0 RXZ 24,273 km2nd OwnerPetrol₹14,806/month₹6,65,599Zero downpayment2016 Maruti Alto 800LXI Manual23,666 km2nd OwnerPetrol₹6,515/month₹2,92,899Zero downpayment2016 Maruti SwiftVXI Manual62,059 km3rd OwnerPetrol₹10,935/month₹4,91,599Zero downpayment2018 Maruti IGNISSIGMA 1.2 K12 Manual20,474 km1st OwnerPetrol₹10,155/month₹4,56,499Zero downpayment2018 Maruti DzireVXI Manual13,792 km1st OwnerPetrol₹15,082/month₹6,77,999Zero downpayment2020 Hyundai GRAND I10 NIOSSPORTZ PETROL Manual10,732 km1st OwnerPetrol₹15,311/month₹6,88,299Zero downpayment2014 Hyundai Santro XingGLS Manual73,479 km2nd OwnerPetrol₹6,800/month₹3,05,699Zero downpayment2019 Ford FREESTYLETITANIUM 1.2 TI-VCT MT Manual28,398 km1st OwnerPetrol₹14,806/month₹6,65,599Zero downpayment2016 Maruti Vitara BrezzaVDI Manual85,486 km1st OwnerDiesel₹15,676/month₹7,04,699Zero downpayment2017 Skoda RapidStyle 1.5 TDI AT Automatic90,269 km1st OwnerDiesel₹19,778/month₹8,89,099Zero downpayment2020 Honda CityVX CVT PETROL Automatic20,417 km1st OwnerPetrol₹30,506/month₹13,71,399Zero downpayment2015 Hyundai EonERA PLUS Manual38,791 km1st OwnerPetrol₹6,929/month₹3,11,499Zero downpayment2020 Toyota YARISV MT Manual23,281 km1st OwnerPetrol₹26,300/month₹11,82,299Zero downpayment2020 Maruti Eeco5 STR WITH AC PLUSHTR Manual7,617 km2nd OwnerPetrol₹10,513/month₹4,72,599Zero downpayment2018 Hyundai EonERA PLUS Manual9,142 km1st OwnerPetrol₹8,175/month₹3,67,499Zero downpayment2018 Maruti Vitara BrezzaZDI + AMT Automatic58,464 km1st OwnerDiesel₹20,000/month₹8,99,099Zero downpayment2017 Maruti BalenoDELTA 1.2 K12 Manual44,664 km1st OwnerPetrol₹12,864/month₹5,78,299Zero downpayment2017 Maruti S CrossZETA 1.3 Manual43,715 km2nd OwnerDiesel₹16,434/month₹7,38,799Zero downpayment2017 Maruti DzireVXI Manual41,445 km1st OwnerPetrol₹14,530/month₹6,53,199Zero downpayment2021 Maruti S PRESSOVXI AGS Automatic6,151 km1st OwnerPetrol₹13,749/month₹6,18,099Zero downpayment2021 Maruti AltoVXI Manual729 km1st OwnerPetrol₹9,885/month₹4,44,399Zero downpayment2019 Maruti BalenoDELTA 1.2 K12 Manual20,529 km1st OwnerPetrol₹14,543/month₹6,53,799Zero downpayment2017 Hyundai XcentSX 1.2 CRDI OPT Manual61,739 km1st OwnerDiesel₹13,451/month₹6,04,699Zero downpayment2018 Jeep Compass2.0 LIMITED Manual52,121 km1st OwnerDiesel₹30,857/month₹13,87,199Zero downpayment2017 Maruti DzireVXI Manual41,221 km2nd OwnerPetrol₹14,461/month₹6,50,099Zero downpayment2016 Hyundai Grand i10SPORTZ 1.2 KAPPA VTVT Manual23,116 km1st OwnerPetrol₹11,445/month₹5,14,499Zero downpayment2016 Hyundai Elite i201.4 CRDI ASTA (O) Manual87,249 km1st OwnerDiesel₹13,994/month₹6,29,099Zero downpayment2019 Hyundai NEW SANTRO1.1 SPORTS AMT Automatic17,535 km2nd OwnerPetrol₹12,806/month₹5,75,699Zero downpayment2019 Maruti Eeco5 STR WITH AC PLUSHTR Manual10,757 km1st OwnerPetrol₹10,944/month₹4,91,999Zero downpayment2015 Maruti SwiftVXI Manual58,054 km3rd OwnerPetrol₹11,242/month₹5,05,399Zero downpayment2020 MG HECTORSHARP DCT PETROL Automatic8,950 km1st OwnerPetrol₹40,116/month₹18,03,400Zero downpayment2019 Honda Jazz1.2 V MT Manual22,713 km1st OwnerPetrol₹16,917/month₹7,60,499Zero downpayment2016 Hyundai Elite i201.4 CRDI ASTA (O) Manual85,464 km2nd OwnerDiesel₹14,214/month₹6,38,999Zero downpayment2017 Honda Jazz1.2 S MT Manual25,303 km1st OwnerPetrol₹13,378/month₹6,01,399Zero downpayment2017 Maruti CelerioZXI Manual76,710 km1st OwnerPetrol₹9,801/month₹4,40,599Zero downpayment2016 Maruti CelerioZXI OPT AMT Automatic73,966 km1st OwnerPetrol₹10,388/month₹4,66,999Zero downpayment2018 Maruti Eeco5 STR WITH AC PLUSHTR Manual11,586 km1st OwnerPetrol₹10,482/month₹4,71,199Zero downpayment2015 Maruti Alto 800VXI Manual42,423 km2nd OwnerPetrol₹5,993/month₹2,69,399Zero downpayment2018 Hyundai Verna1.6 SX VTVT Manual52,396 km1st OwnerPetrol₹20,909/month₹9,39,953Zero downpayment2013 Maruti Wagon R 1.0VXI Manual69,280 km1st OwnerPetrol₹7,443/month₹3,34,599Zero downpayment2017 Maruti SwiftZXI Manual54,484 km1st OwnerPetrol₹12,506/month₹5,62,199Zero downpayment2019 Renault KwidCLIMBER 1.0 AT Automatic20,618 km1st OwnerPetrol₹10,973/month₹4,93,299Zero downpayment2016 Hyundai Elite i20ASTA 1.2 Manual77,472 km1st OwnerPetrol₹14,061/month₹6,32,099Zero downpayment2018 Hyundai Grand i10MAGNA AT 1.2 KAPPA VTVT Automatic33,939 km1st OwnerPetrol₹12,361/month₹5,55,699Zero downpayment2019 Maruti Eeco5 STR WITH AC PLUSHTR Manual38,404 km1st OwnerPetrol₹10,987/month₹4,93,899Zero downpayment2015 Hyundai Grand i10ASTA 1.2 AT VTVT Automatic57,825 km1st OwnerPetrol₹11,093/month₹4,98,699Zero downpayment2018 Hyundai Grand i10SPORTZ 1.2 KAPPA VTVT Manual37,774 km1st OwnerPetrol₹13,142/month₹5,90,799Zero downpayment2020 Hyundai NEW SANTROSPORTZ 1.1 Manual8,486 km1st OwnerPetrol₹12,346/month₹5,54,999Zero downpayment2019 Maruti Eeco5 STR WITH AC PLUSHTR Manual40,646 km1st OwnerPetrol₹10,099/month₹4,53,999Zero downpayment2016 Maruti Wagon R 1.0VXI Manual31,841 km1st OwnerPetrol₹10,066/month₹4,52,499Zero downpayment2020 Hyundai GRAND I10 NIOS1.0 TURBO SPORTZ Manual11,907 km1st OwnerPetrol₹18,336/month₹8,24,299Zero downpayment2020 Hyundai NEW SANTROSPORTZ 1.1 Manual8,243 km1st OwnerPetrol₹12,570/month₹5,65,099Zero downpayment2020 Hyundai GRAND I10 NIOS1.2 Kappa Sports MT Manual38,084 km1st OwnerPetrol₹13,912/month₹6,25,401Zero downpayment2017 Hyundai EonERA+ SE Manual39,814 km1st OwnerPetrol₹6,969/month₹3,13,299Zero downpayment2014 Hyundai Elite i20MAGNA 1.2 Manual65,401 km1st OwnerPetrol₹11,287/month₹5,07,399Zero downpayment2015 Hyundai Elite i20MAGNA 1.2 Manual78,226 km2nd OwnerPetrol₹11,122/month₹4,99,999Zero downpayment2015 Maruti Wagon R 1.0VXI Manual29,664 km1st OwnerPetrol₹9,033/month₹4,06,099Zero downpayment2019 Tata TiagoXZ+ 1.2 Revotron Manual68,194 km2nd OwnerPetrol₹11,240/month₹5,05,299Zero downpayment2019 Ford Ecosport1.0 ECOBOOST TITANIUM SPORTS(SUNROOF) Manual12,926 km1st OwnerPetrol₹22,812/month₹10,25,499Zero downpayment2019 Honda Jazz1.2 V MT Manual40,578 km1st OwnerPetrol₹15,382/month₹6,91,499Zero downpayment2019 Hyundai NEW SANTROSPORTZ 1.1 Manual35,336 km1st OwnerPetrol₹11,607/month₹5,21,799Zero downpayment2014 Hyundai Elite i20SPORTZ (O) 1.2 Manual80,666 km1st OwnerPetrol₹11,603/month₹5,21,599Zero downpayment2014 Hyundai Grand i10ASTA 1.2 KAPPA VTVT Manual65,341 km2nd OwnerPetrol₹9,925/month₹4,46,199Zero downpayment2015 Maruti Alto 800LXI Manual47,438 km2nd OwnerPetrol₹6,039/month₹2,71,499Zero downpayment2019 Maruti Eeco5 STR WITH AC PLUSHTR Manual46,758 km1st OwnerPetrol₹10,987/month₹4,93,899Zero downpayment2017 Maruti BalenoDELTA 1.2 K12 Manual17,375 km1st OwnerPetrol₹14,167/month₹6,36,899Zero downpayment2016 Maruti Alto K10VXI Manual20,718 km2nd OwnerPetrol₹7,729/month₹3,47,449Zero downpayment2016 Maruti BalenoALPHA 1.2 K12 Manual53,338 km1st OwnerPetrol₹14,357/month₹6,45,399Zero downpayment2019 Ford Figo Aspire1.2 TITANIUM PETROL Manual23,290 km1st OwnerPetrol₹16,003/month₹7,19,399Zero downpayment2020 Hyundai NEW SANTROSPORTZ 1.1 Manual20,050 km1st OwnerPetrol₹12,515/month₹5,62,599Zero downpayment2018 Maruti Eeco5 STR WITH AC PLUSHTR Manual43,516 km1st OwnerPetrol₹10,170/month₹4,57,199Zero downpayment2018 Hyundai NEW SANTROASTA 1.1 MT Manual17,625 km1st OwnerPetrol₹12,010/month₹5,39,899Zero downpayment2017 Hyundai EonERA PLUS (O) Manual22,677 km1st OwnerPetrol₹7,940/month₹3,56,964Zero downpayment2018 Maruti Eeco5 STR WITH AC PLUSHTR Manual49,612 km1st OwnerPetrol₹10,482/month₹4,71,199Zero downpayment2015 Hyundai Grand i10ASTA 1.2 KAPPA VTVT Manual88,557 km2nd OwnerPetrol₹9,503/month₹4,27,199Zero downpayment2015 Hyundai i20 Active1.2 S Manual60,285 km3rd OwnerPetrol₹12,003/month₹5,39,599Zero downpayment2017 Nissan MicraXL CVT (PETROL) Automatic30,817 km1st OwnerPetrol₹12,023/month₹5,40,499Zero downpayment2020 Hyundai GRAND I10 NIOSMAGNA 1.2 AT Automatic60,475 km1st OwnerPetrol₹15,108/month₹6,79,199Zero downpayment2015 Hyundai Elite i20ASTA 1.2 Manual56,462 km2nd OwnerPetrol₹12,477/month₹5,60,899Zero downpayment2016 Hyundai Grand i10SPORTZ 1.2 KAPPA VTVT Manual31,948 km1st OwnerPetrol₹11,296/month₹5,07,799Zero downpayment2016 Datsun Redi GoT (O) Manual24,291 km1st OwnerPetrol₹6,266/month₹2,81,699Zero downpayment2018 Ford Ecosport1.5 TITANIUM PLUS TI VCT AT Automatic27,426 km1st OwnerPetrol₹19,695/month₹8,85,399Zero downpayment2017 Hyundai Elite i20SPORTZ 1.2 Manual56,043 km1st OwnerPetrol₹13,404/month₹6,02,599Zero downpayment2015 Renault KwidRXT Opt Manual44,943 km2nd OwnerPetrol₹7,236/month₹3,25,299Zero downpayment2014 Maruti Wagon R 1.0VXI Manual1,14,386 km1st OwnerPetrol₹7,467/month₹3,35,699Zero downpayment2015 Maruti Wagon R 1.0VXI Manual53,250 km2nd OwnerPetrol₹8,491/month₹3,81,699Zero downpayment2015 Nissan Micra ActiveXV S Manual50,468 km1st OwnerPetrol₹8,024/month₹3,60,699Zero downpayment2019 Hyundai Grand i10SPORTZ 1.2 KAPPA VTVT Manual20,302 km1st OwnerPetrol₹13,776/month₹6,19,299Zero downpayment2017 Hyundai EonERA PLUS Manual36,814 km1st OwnerPetrol₹7,799/month₹3,50,599Zero downpayment2016 Maruti BalenoDELTA 1.2 K12 Manual50,588 km1st OwnerPetrol₹13,295/month₹5,97,699Zero downpayment2017 Honda CityV MT PETROL Manual51,034 km1st OwnerPetrol₹19,226/month₹8,64,299Zero downpayment2018 Maruti BalenoDELTA 1.2 K12 Manual58,657 km1st OwnerPetrol₹13,872/month₹6,23,599Zero downpayment2017 Hyundai EonERA PLUS Manual31,355 km1st OwnerPetrol₹7,781/month₹3,49,799Zero downpayment2017 Maruti BalenoRS 1.0 PETROL Manual51,353 km2nd OwnerPetrol₹12,499/month₹5,61,899Zero downpayment2018 Ford Ecosport1.5 TITANIUM TI VCT Manual20,453 km1st OwnerPetrol₹18,472/month₹8,30,399Zero downpayment2018 Jeep CompassLIMITED O 1.4 AT Automatic47,742 km1st OwnerPetrol₹34,566/month₹15,53,899Zero downpayment2016 Hyundai i20 Active1.2 SX Manual64,481 km3rd OwnerPetrol₹14,072/month₹6,32,599Zero downpayment2018 Maruti BalenoDELTA 1.2 K12 Manual29,098 km1st OwnerPetrol₹14,884/month₹6,69,099Zero downpayment2017 Hyundai EonERA PLUS Manual37,289 km1st OwnerPetrol₹7,392/month₹3,32,299Zero downpayment2017 Maruti Alto K10VXI Manual33,612 km1st OwnerPetrol₹7,645/month₹3,43,699Zero downpayment2017 Maruti Alto 800VXI Manual41,940 km1st OwnerPetrol₹6,851/month₹3,07,999Zero downpayment2019 Maruti S PRESSOVXI PLUS Manual36,129 km1st OwnerPetrol₹9,868/month₹4,43,599Zero downpayment2018 Honda Jazz1.2 V AT Automatic65,905 km1st OwnerPetrol₹15,867/month₹7,13,299Zero downpayment2019 Maruti S PRESSOVXI PLUS Manual28,648 km1st OwnerPetrol₹10,410/month₹4,67,999Zero downpayment2016 Maruti Alto K10VXI OPT Manual45,426 km1st OwnerPetrol₹7,923/month₹3,56,199Zero downpayment2017 Hyundai Grand i101.2 CRDI Sportz O Manual55,142 km1st OwnerDiesel₹11,910/month₹5,35,399Zero downpayment2016 Maruti BalenoDELTA 1.2 K12 Manual78,170 km1st OwnerPetrol₹12,499/month₹5,61,899Zero downpayment2016 Hyundai i20 Active1.2 SX Manual93,706 km1st OwnerPetrol₹13,202/month₹5,93,499Zero downpayment2018 Hyundai Elite i20ASTA 1.2 Manual42,035 km1st OwnerPetrol₹15,322/month₹6,88,799Zero downpayment2017 Maruti IGNISSIGMA 1.2 K12 Manual40,677 km1st OwnerPetrol₹10,364/month₹4,65,899Zero downpayment2017 Maruti Wagon R 1.0VXI Manual40,902 km1st OwnerPetrol₹9,890/month₹4,44,599Zero downpayment2020 Maruti S PRESSOVXI Manual34,694 km1st OwnerPetrol₹10,593/month₹4,76,199Zero downpayment2019 Hyundai NEW SANTROSPORTZ 1.1 Manual61,189 km1st OwnerPetrol₹11,834/month₹5,31,999Zero downpayment2017 Maruti Vitara BrezzaZDI PLUS DUAL TONE Manual84,200 km1st OwnerDiesel₹18,227/month₹8,19,399Zero downpayment2016 Maruti BalenoALPHA 1.2 K12 Manual93,189 km1st OwnerPetrol₹15,092/month₹6,78,441Zero downpayment2018 Maruti Wagon R 1.0VXI Manual14,044 km1st OwnerPetrol₹11,589/month₹5,20,999Zero downpayment2018 Maruti IGNISDELTA 1.2 K12 Manual19,359 km1st OwnerPetrol₹12,206/month₹5,48,699Zero downpayment2016 Maruti Wagon R 1.0VXI AMT Automatic45,322 km1st OwnerPetrol₹9,679/month₹4,35,099Zero downpayment2015 Maruti Wagon R 1.0VXI Manual43,585 km1st OwnerPetrol₹8,924/month₹4,01,199Zero downpayment2017 Hyundai Grand i10SPORTZ 1.2 KAPPA VTVT Manual40,950 km1st OwnerPetrol₹11,745/month₹5,27,999Zero downpayment2018 Maruti Wagon R 1.0VXI OPT AMT Automatic28,459 km1st OwnerPetrol₹11,549/month₹5,19,199Zero downpayment2018 Honda WR-V1.2 i-VTEC VX MT Manual72,429 km1st OwnerPetrol₹16,801/month₹7,55,299Zero downpayment2017 Hyundai Grand i10SPORTZ (O) 1.2 AT VTVT Automatic78,053 km2nd OwnerPetrol₹12,597/month₹5,66,299Zero downpayment2017 Hyundai Grand i10ASTA 1.2 VTVT Manual75,992 km1st OwnerPetrol₹11,460/month₹5,15,199Zero downpayment2018 Maruti Wagon R 1.0VXI Manual22,046 km1st OwnerPetrol₹11,113/month₹4,99,599Zero downpayment2019 Maruti AltoVXI Manual13,835 km2nd OwnerPetrol₹7,803/month₹3,50,799Zero downpayment2017 Hyundai EonMAGNA PLUS Manual61,339 km1st OwnerPetrol₹7,245/month₹3,25,699Zero downpayment2018 Maruti BalenoDELTA 1.2 K12 Manual63,433 km1st OwnerPetrol₹14,884/month₹6,69,099Zero downpayment2017 Maruti BalenoZETA 1.2 K12 Manual75,909 km1st OwnerPetrol₹14,301/month₹6,42,899Zero downpayment2019 Maruti Alto K10VXI OPT. MT Manual43,737 km1st OwnerPetrol₹8,729/month₹3,92,399Zero downpayment2017 Maruti Alto 800LXI Manual54,014 km1st OwnerPetrol₹6,865/month₹3,08,599Zero downpayment2018 Maruti Alto 800LXI Manual37,131 km1st OwnerPetrol₹7,601/month₹3,41,699Zero downpayment2017 Hyundai Grand i10SPORTZ (O) 1.2 AT VTVT 53,180 km1st OwnerPetrol₹12,466/month₹5,60,399Zero downpayment2016 Maruti Wagon R 1.0VXI AMT Automatic74,140 km2nd OwnerPetrol₹9,303/month₹4,18,199Zero downpayment2018 Ford Ecosport1.5 TITANIUM TI VCT Manual67,891 km1st OwnerPetrol₹18,232/month₹8,19,599Zero downpayment2018 Maruti Wagon R 1.0VXI Manual25,638 km1st OwnerPetrol₹11,102/month₹4,99,099Zero downpayment2018 Maruti Alto 800LXI Manual35,182 km2nd OwnerPetrol₹7,516/month₹3,37,899Zero downpayment2017 Maruti Alto 800LXI Manual64,365 km1st OwnerPetrol₹7,038/month₹3,16,399Zero downpayment2017 Maruti Wagon R 1.0VXI Manual49,741 km1st OwnerPetrol₹10,301/month₹4,63,099Zero downpayment2018 Maruti Wagon R 1.0VXI AMT Automatic61,912 km1st OwnerPetrol₹10,975/month₹4,93,399Zero downpayment2017 Maruti Alto K10VXI (O) AMT Automatic23,386 km2nd OwnerPetrol₹9,216/month₹4,14,299Zero downpayment2017 Maruti Wagon R 1.0VXI Manual58,133 km1st OwnerPetrol₹10,083/month₹4,53,299Zero downpayment2019 Maruti SwiftLXI Manual54,157 km1st OwnerPetrol₹13,109/month₹5,89,299Zero downpayment2020 Hyundai VENUES MT 1.2 KAPPA Manual8,600 km1st OwnerPetrol₹19,324/month₹8,68,699Zero downpayment2014 Hyundai i10MAGNA 1.1 IRDE2 Manual63,251 km1st OwnerPetrol₹7,523/month₹3,38,199Zero downpayment2020 Volkswagen PoloHIGH LINE PLUS 1.0 Manual20,731 km1st OwnerPetrol₹18,832/month₹8,46,599Zero downpayment2016 Maruti BalenoZETA 1.2 K12 Manual41,068 km1st OwnerPetrol₹12,917/month₹5,80,699Zero downpayment2014 Maruti CelerioVXI Manual32,442 km1st OwnerPetrol₹8,593/month₹3,86,299Zero downpayment2013 Maruti Swift DzireVDI BS IV Manual1,20,225 km1st OwnerDiesel₹9,905/month₹4,45,299Zero downpayment2016 Toyota Innova Crysta2.4 ZX 7 STR Manual2,77,250 km1st OwnerDiesel₹33,478/month₹15,04,999Zero downpayment2016 Renault KwidRXL Manual96,371 km1st OwnerPetrol₹6,967/month₹3,13,199Zero downpayment2018 Hyundai Creta1.6 SX (O) CRDI Manual41,026 km2nd OwnerDiesel₹28,775/month₹12,93,599Zero downpayment2010 Honda CityV MT PETROL Manual45,307 km2nd OwnerPetrol₹10,072/month₹4,52,799Zero downpayment2014 Maruti RitzZXI Manual28,929 km1st OwnerPetrol₹9,427/month₹4,23,799Zero downpayment2015 Maruti Alto 800LXI Manual22,851 km3rd OwnerPetrol₹5,641/month₹2,53,599Zero downpayment2021 Maruti DzireVXI Manual2,031 km1st OwnerPetrol₹17,130/month₹7,70,099Zero downpayment2013 Maruti SwiftVXI Manual50,534 km2nd OwnerPetrol₹8,658/month₹3,89,199Zero downpayment2016 Hyundai i10MAGNA 1.1 IRDE2 Manual28,727 km2nd OwnerPetrol₹8,422/month₹3,78,599Zero downpayment2016 Hyundai Grand i10ASTA 1.2 KAPPA VTVT OPT Manual45,631 km2nd OwnerPetrol₹9,983/month₹4,48,799Zero downpayment2012 Maruti Swift DzireVXI 1.2 BS IV Manual1,60,727 km2nd OwnerPetrol₹7,630/month₹3,42,999Zero downpayment2013 Volkswagen PoloCOMFORTLINE 1.2L PETROL Manual75,440 km1st OwnerPetrol₹9,225/month₹4,14,699Zero downpayment2016 Maruti Alto 800LXI Manual34,373 km2nd OwnerPetrol₹5,830/month₹2,62,099Zero downpayment2020 Maruti SwiftZXI + AMT Automatic20,986 km1st OwnerPetrol₹19,437/month₹8,73,799Zero downpayment2021 Tata PUNCHPURE MT 3,129 km1st OwnerPetrol₹17,326/month₹7,78,899Zero downpayment2014 Honda Amaze1.2 VXMT I VTEC Manual48,333 km1st OwnerPetrol₹10,722/month₹4,81,999Zero downpayment2018 Maruti Eeco5 STR WITH AC PLUSHTR Manual22,230 km1st OwnerPetrol₹8,793/month₹3,95,299Zero downpayment2021 MG HECTORSUPER HYBRID PETROL MT Manual7,472 km1st OwnerPetrol₹36,881/month₹16,57,999Zero downpayment2020 Hyundai NEW SANTRO1.1 ERA EXICUTIVE Manual18,622 km1st OwnerPetrol₹10,987/month₹4,93,899Zero downpayment2020 Hyundai VENUES MT 1.2 KAPPA Manual17,390 km1st OwnerPetrol₹19,371/month₹8,70,832Zero downpayment2021 Hyundai GRAND I10 NIOSSPORTZ PETROL Manual1,911 km1st OwnerPetrol₹16,207/month₹7,28,599Zero downpayment2014 Maruti SwiftVXI Manual37,093 km2nd OwnerPetrol₹10,608/month₹4,76,899Zero downpayment2013 Hyundai i20SPORTZ 1.2 VTVT Manual33,973 km2nd OwnerPetrol₹9,665/month₹4,34,499Zero downpayment2017 Volkswagen PoloCOMFORTLINE 1.2L PETROL Manual17,174 km1st OwnerPetrol₹12,530/month₹5,63,299Zero downpayment2020 Maruti New  Wagon-RVXI 1.0 Manual15,270 km2nd OwnerPetrol₹11,637/month₹5,23,140Zero downpayment2016 Maruti Swift DzireZXI 1.2 BS IV Manual29,217 km1st OwnerPetrol₹12,775/month₹5,74,299Zero downpayment2020 Mahindra XUV500W11 (O) AT Automatic13,690 km1st OwnerDiesel₹42,787/month₹19,23,499Zero downpayment2016 Maruti Swift DzireZDI AMT Automatic74,813 km2nd OwnerDiesel₹13,683/month₹6,15,099Zero downpayment2019 Maruti Eeco5 STR WITH AC PLUSHTR Manual23,246 km1st OwnerPetrol₹9,216/month₹4,14,299Zero downpayment2017 Maruti SwiftVXI Manual41,300 km1st OwnerPetrol₹12,270/month₹5,51,599Zero downpayment2018 Hyundai Grand i10SPORTZ 1.2 KAPPA VTVT Manual22,693 km1st OwnerPetrol₹12,355/month₹5,55,399Zero downpayment2017 Maruti SwiftVXI Manual60,612 km1st OwnerPetrol₹11,741/month₹5,27,799Zero downpayment2018 Volkswagen PoloCOMFORTLINE 1.0 PETROL Manual69,205 km2nd OwnerPetrol₹11,747/month₹5,28,099Zero downpayment2018 Volkswagen PoloTrendline 1.0 L Petrol Manual47,412 km2nd OwnerPetrol₹11,661/month₹5,24,199Zero downpayment2021 Maruti Vitara BrezzaZXI Manual14,038 km1st OwnerPetrol₹23,148/month₹10,40,599Zero downpayment2018 Maruti SwiftZDI AMT Automatic1,14,177 km1st OwnerDiesel₹15,144/month₹6,80,799Zero downpayment2017 Maruti SwiftVXI OPT Manual18,908 km1st OwnerPetrol₹12,412/month₹5,57,999Zero downpayment2016 Maruti Alto 800LXI Manual18,472 km2nd OwnerPetrol₹6,440/month₹2,89,499Zero downpayment2019 Renault KwidRXL Manual31,836 km1st OwnerPetrol₹9,501/month₹4,27,099Zero downpayment2014 Honda Amaze1.2 SX MT I VTEC Manual82,815 km1st OwnerPetrol₹10,048/month₹4,51,699Zero downpayment2016 Toyota Fortuner3.0 MT 4X4 Manual47,174 km2nd OwnerDiesel₹45,168/month₹20,30,546Zero downpayment2019 Maruti CelerioVXI Manual5,842 km1st OwnerPetrol₹12,093/month₹5,43,655Zero downpayment2019 Hyundai VENUES MT Turbo GDI 1.0L Manual2,353 km1st OwnerPetrol₹18,754/month₹8,43,099Zero downpayment2018 Maruti BalenoDELTA 1.2 K12 Manual30,221 km1st OwnerPetrol₹13,527/month₹6,08,099Zero downpayment2019 Hyundai Creta1.4 E PLUS CRDI Manual94,602 km1st OwnerDiesel₹20,060/month₹9,01,799Zero downpayment2019 Maruti Eeco5 STR WITH AC PLUSHTR Manual15,674 km1st OwnerPetrol₹9,676/month₹4,34,999Zero downpayment2016 Honda Jazz1.2 SV MT Manual36,282 km1st OwnerPetrol₹12,372/month₹5,56,199Zero downpayment2021 Tata TiagoXZ+ 1.2 Revotron Manual22,289 km1st OwnerPetrol₹14,183/month₹6,37,599Zero downpayment2021 Honda Amaze1.2 SMT I VTEC Manual30,912 km1st OwnerPetrol₹16,488/month₹7,41,199Zero downpayment2016 Hyundai i10MAGNA 1.1 IRDE2 Manual60,094 km1st OwnerPetrol₹8,422/month₹3,78,599Zero downpayment2021 Maruti Eeco7 STR Manual11,184 km1st OwnerPetrol₹11,716/month₹5,26,699Zero downpayment2015 Honda Brio1.2 S MT I VTEC Manual20,209 km2nd OwnerPetrol₹9,260/month₹4,16,299Zero downpayment2021 Hyundai VENUES Plus MT 1.2 Kappa Manual6,122 km1st OwnerPetrol₹21,027/month₹9,45,261Zero downpayment2017 Maruti CiazALPHA 1.3 DDIS SHVS Manual44,079 km1st OwnerDiesel₹18,005/month₹8,09,399Zero downpayment2015 Honda Amaze1.2 SMT I VTEC Manual64,491 km1st OwnerPetrol₹10,668/month₹4,79,599Zero downpayment2018 Maruti Alto 800LXI Manual20,048 km1st OwnerPetrol₹7,221/month₹3,24,599Zero downpayment2014 Maruti Alto K10VXI Manual45,262 km2nd OwnerPetrol₹5,888/month₹2,64,699Zero downpayment2018 Maruti DzireZXI Manual57,701 km1st OwnerPetrol₹15,213/month₹6,83,899Zero downpayment2015 Maruti Alto K10VXI Manual30,139 km2nd OwnerPetrol₹6,627/month₹2,97,899Zero downpayment2018 Maruti DzireVXI Manual6,494 km1st OwnerPetrol₹14,926/month₹6,70,999Zero downpayment2016 Tata TiagoXZ 1.2 REVOTRON Manual28,218 km1st OwnerPetrol₹10,553/month₹4,74,399Zero downpayment2016 Hyundai Elite i20ASTA 1.2 Manual29,317 km1st OwnerPetrol₹13,747/month₹6,17,999Zero downpayment2014 Hyundai XcentS 1.2 OPT Manual51,340 km1st OwnerPetrol₹9,917/month₹4,45,799Zero downpayment2014 Maruti Alto 800LXI Manual40,462 km3rd OwnerPetrol₹5,579/month₹2,50,799Zero downpayment2016 Maruti CelerioVXI Manual40,816 km1st OwnerPetrol₹8,916/month₹4,00,799Zero downpayment2015 Hyundai Grand i10SPORTS 1.2 VTVT Manual24,508 km2nd OwnerPetrol₹9,634/month₹4,33,099Zero downpayment2015 Ford Ecosport1.5 TITANIUM TI VCT AT Automatic79,905 km2nd OwnerPetrol₹12,733/month₹5,72,399Zero downpayment2021 Hyundai VENUES Plus MT 1.2 Kappa Manual7,283 km1st OwnerPetrol₹20,296/month₹9,12,399Zero downpayment2019 Hyundai Verna1.6 SX+ VTVT AT Automatic25,845 km1st OwnerPetrol₹25,950/month₹11,66,599Zero downpayment2015 Honda CityV MT PETROL Manual80,042 km3rd OwnerPetrol₹12,134/month₹5,45,499Zero downpayment2016 Hyundai Grand i10ASTA 1.2 VTVT Manual69,645 km1st OwnerPetrol₹11,399/month₹5,12,437Zero downpayment2018 Maruti Eeco5 STR WITH AC PLUSHTR Manual34,411 km1st OwnerPetrol₹8,938/month₹4,01,799Zero downpayment2014 Maruti Alto 800LXI Manual54,988 km1st OwnerPetrol₹5,955/month₹2,67,699Zero downpayment2011 Maruti Wagon R 1.0VXI Manual73,415 km2nd OwnerPetrol₹6,353/month₹2,85,599Zero downpayment2017 Maruti SwiftVXI OPT Manual33,051 km1st OwnerPetrol₹12,679/month₹5,69,999Zero downpayment2019 Renault TRIBER1.0 RXZ Manual9,223 km1st OwnerPetrol₹16,203/month₹7,28,399Zero downpayment2016 Mahindra Kuv100K6 6 STR Manual54,056 km1st OwnerPetrol₹9,498/month₹4,26,999Zero downpayment2018 Maruti CelerioVXI (O) Manual26,238 km2nd OwnerPetrol₹10,230/month₹4,59,899Zero downpayment2014 Ford Ecosport1.5 TITANIUMTDCI OPT Manual1,51,683 km1st OwnerDiesel₹10,310/month₹4,63,499Zero downpayment2015 Hyundai i10SPORTZ 1.1 IRDE2 Manual33,387 km1st OwnerPetrol₹8,918/month₹4,00,899Zero downpayment2018 Maruti Eeco5 STR WITH AC PLUSHTR Manual21,087 km1st OwnerPetrol₹8,849/month₹3,97,799Zero downpayment2017 Honda JazzVX  1.2 Manual16,921 km2nd OwnerPetrol₹13,776/month₹6,19,313Zero downpayment2019 Datsun Redi GoA Manual19,532 km1st OwnerPetrol₹6,475/month₹2,91,099Zero downpayment2016 Maruti Alto 800LXI Manual27,952 km1st OwnerPetrol₹6,524/month₹2,93,299Zero downpayment2021 Maruti S PRESSOVXI PLUS AGS Automatic2,238 km1st OwnerPetrol₹11,979/month₹5,38,499Zero downpayment2014 Hyundai i10MAGNA 1.1 IRDE2 Manual50,230 km2nd OwnerPetrol₹7,650/month₹3,43,899Zero downpayment2019 Hyundai Elite i201.2 MAGNA PLUS VTVT Manual14,924 km3rd OwnerPetrol₹15,233/month₹6,84,799Zero downpayment2015 Maruti Alto K10VXI Manual51,886 km2nd OwnerPetrol₹6,335/month₹2,84,799Zero downpayment2019 Maruti New  Wagon-RZXI 1.2 25,951 km1st OwnerPetrol₹11,692/month₹5,25,599Zero downpayment2018 Maruti Vitara BrezzaZDI Manual45,003 km2nd OwnerDiesel₹17,906/month₹8,04,949Zero downpayment2016 Maruti CelerioZXI OPT AMT Automatic80,704 km1st OwnerPetrol₹10,292/month₹4,62,699Zero downpayment2016 Honda CityS MT PETROL Manual24,709 km2nd OwnerPetrol₹15,206/month₹6,83,599Zero downpayment2016 Hyundai EonMAGNA PLUS Manual31,624 km1st OwnerPetrol₹7,376/month₹3,31,599Zero downpayment2019 Maruti New  Wagon-RVXI 1.2L Manual9,704 km2nd OwnerPetrol₹11,111/month₹4,99,499Zero downpayment2014 Honda Amaze1.2 SMT I VTEC Manual63,258 km2nd OwnerPetrol₹9,056/month₹4,07,099Zero downpayment2014 Hyundai i10MAGNA 1.1 IRDE2 Manual49,574 km1st OwnerPetrol₹7,919/month₹3,55,999Zero downpayment2017 Maruti Eeco5 STR WITH AC PLUSHTR Manual24,362 km1st OwnerPetrol₹8,956/month₹4,02,599Zero downpayment2016 Hyundai Grand i10MAGNA 1.2 KAPPA VTVT Manual17,429 km2nd OwnerPetrol₹9,939/month₹4,46,799Zero downpayment2016 Honda CityV MT PETROL Manual54,656 km3rd OwnerPetrol₹14,646/month₹6,58,399Zero downpayment2018 Hyundai EonERA PLUS Manual35,163 km1st OwnerPetrol₹7,955/month₹3,57,599Zero downpayment2019 Renault TRIBER1.0 RXZ Manual23,694 km1st OwnerPetrol₹16,220/month₹7,29,188Zero downpayment2017 Maruti BalenoZETA 1.2 K12 Manual13,644 km2nd OwnerPetrol₹14,223/month₹6,39,399Zero downpayment2021 Maruti S PRESSOVXI AGS Automatic4,242 km1st OwnerPetrol₹13,542/month₹6,08,799Zero downpayment2014 Honda CityVX MT PETROL Manual72,187 km2nd OwnerPetrol₹13,794/month₹6,20,099Zero downpayment2018 Jeep Compass2.0 LIMITED Manual35,739 km1st OwnerDiesel₹31,818/month₹14,30,399Zero downpayment2018 Maruti IGNISSIGMA 1.2 K12 Manual16,049 km1st OwnerPetrol₹10,653/month₹4,78,899Zero downpayment2014 Hyundai XcentS 1.2 OPT Manual68,598 km2nd OwnerPetrol₹9,231/month₹4,14,999Zero downpayment2015 Hyundai EonERA PLUS Manual18,666 km1st OwnerPetrol₹6,793/month₹3,05,399Zero downpayment2017 Maruti SwiftVXI OPT Manual26,289 km1st OwnerPetrol₹12,862/month₹5,78,199Zero downpayment2017 Maruti Wagon R 1.0VXI AMT Automatic16,047 km3rd OwnerPetrol₹8,982/month₹4,03,799Zero downpayment2020 Ford Ecosport1.5 TITANIUM PLUS TI VCT AT Automatic14,198 km2nd OwnerPetrol₹23,732/month₹10,66,884Zero downpayment2014 Ford Ecosport1.5 TITANIUM TI VCT AT Automatic76,573 km2nd OwnerPetrol₹12,841/month₹5,77,249Zero downpayment2017 Maruti Eeco5 STR WITH AC PLUSHTR Manual27,336 km1st OwnerPetrol₹9,214/month₹4,14,199Zero downpayment2016 Hyundai EonERA PLUS Manual42,236 km1st OwnerPetrol₹6,886/month₹3,09,549Zero downpayment2019 Honda Jazz1.2 V MT Manual11,673 km1st OwnerPetrol₹16,726/month₹7,51,899Zero downpayment2013 Nissan MicraXL PETROL Manual62,316 km1st OwnerPetrol₹7,241/month₹3,25,499Zero downpayment2021 Hyundai GRAND I10 NIOSSPORTZ PETROL Manual8,920 km1st OwnerPetrol₹16,207/month₹7,28,599Zero downpayment2014 Hyundai i10MAGNA 1.1 IRDE2 Manual52,480 km3rd OwnerPetrol₹7,721/month₹3,47,099Zero downpayment2020 Maruti S PRESSOVXI Manual3,927 km1st OwnerPetrol₹10,593/month₹4,76,199Zero downpayment2019 Maruti CelerioVXI Manual16,139 km1st OwnerPetrol₹12,074/month₹5,42,799Zero downpayment2017 Hyundai XcentS 1.2 Manual84,095 km1st OwnerPetrol₹10,940/month₹4,91,799Zero downpayment2014 Maruti Alto 800LXI Manual57,135 km1st OwnerPetrol₹6,135/month₹2,75,799Zero downpayment2019 Maruti Eeco5 STR WITH AC PLUSHTR Manual7,135 km1st OwnerPetrol₹10,081/month₹4,53,199Zero downpayment2016 Maruti SwiftZXI Manual50,245 km2nd OwnerPetrol₹11,620/month₹5,22,399Zero downpayment2016 Renault KwidRXT 1.0 EASY-R AT OPTION Automatic38,990 km1st OwnerPetrol₹8,626/month₹3,87,799Zero downpayment2017 Hyundai Creta1.6 SX CRDI 1,24,182 km2nd OwnerDiesel₹18,512/month₹8,32,199Zero downpayment2019 Maruti Eeco5 STR WITH AC PLUSHTR Manual22,798 km1st OwnerPetrol₹10,413/month₹4,68,099Zero downpayment2019 Honda JazzVX  1.2 Manual18,214 km1st OwnerPetrol₹17,177/month₹7,72,199Zero downpayment2016 Maruti Vitara BrezzaVDI Manual62,209 km1st OwnerDiesel₹15,676/month₹7,04,699Zero downpayment2019 Maruti Eeco5 STR WITH AC PLUSHTR Manual18,899 km1st OwnerPetrol₹9,819/month₹4,41,399Zero downpayment2016 Renault KwidRXT Manual75,571 km1st OwnerPetrol₹7,434/month₹3,34,199Zero downpayment2017 Maruti CelerioZXI OPT AMT Automatic51,795 km1st OwnerPetrol₹11,160/month₹5,01,699Zero downpayment2015 Hyundai Grand i10MAGNA 1.2 VTVT Manual40,304 km1st OwnerPetrol₹9,445/month₹4,24,599Zero downpayment2018 Tata TiagoXZ 1.2 REVOTRON Manual22,961 km2nd OwnerPetrol₹11,816/month₹5,31,199Zero downpayment2019 Maruti BalenoDELTA 1.2 K12 Manual55,196 km1st OwnerPetrol₹14,041/month₹6,31,199Zero downpayment2018 Maruti SwiftLXI Manual48,553 km1st OwnerPetrol₹12,506/month₹5,62,199Zero downpayment2018 Maruti Eeco5 STR WITH AC PLUSHTR Manual18,811 km1st OwnerPetrol₹9,316/month₹4,18,799Zero downpayment2017 Maruti BalenoZETA 1.2 K12 Manual43,472 km1st OwnerPetrol₹13,622/month₹6,12,399Zero downpayment2016 Hyundai EonMAGNA PLUS OPTIONAL Manual20,518 km1st OwnerPetrol₹7,574/month₹3,40,499Zero downpayment2016 Hyundai Elite i20ASTA 1.2 Manual54,626 km1st OwnerPetrol₹13,109/month₹5,89,299Zero downpayment2019 Maruti Eeco5 STR WITH AC PLUSHTR Manual12,580 km1st OwnerPetrol₹9,865/month₹4,43,499Zero downpayment2015 Maruti SwiftVXI Manual67,121 km1st OwnerPetrol₹10,846/month₹4,87,599Zero downpayment2016 Ford Ecosport1.5TITANIUM TDCI Manual85,996 km1st OwnerDiesel₹15,004/month₹6,74,499Zero downpayment2017 Maruti CiazALPHA 1.4 VVT Manual53,536 km3rd OwnerPetrol₹15,077/month₹6,77,799Zero downpayment2020 Maruti Eeco5 STR WITH AC PLUSHTR Manual26,302 km1st OwnerPetrol₹10,132/month₹4,55,499Zero downpayment2017 Maruti Eeco5 STR WITH AC PLUSHTR Manual26,079 km1st OwnerPetrol₹8,900/month₹4,00,099Zero downpayment2017 Maruti SwiftVXI Manual46,402 km1st OwnerPetrol₹12,510/month₹5,62,399Zero downpayment2015 Maruti Alto K10VXI Manual60,307 km1st OwnerPetrol₹6,631/month₹2,98,099Zero downpayment2018 Tata TiagoXZ 1.2 REVOTRON Manual29,112 km1st OwnerPetrol₹11,834/month₹5,32,017Zero downpayment2016 Maruti Wagon R 1.0VXI Manual22,036 km1st OwnerPetrol₹10,121/month₹4,54,999Zero downpayment2018 Maruti CelerioVXI Manual20,161 km1st OwnerPetrol₹10,895/month₹4,89,799Zero downpayment2019 Maruti Eeco5 STR WITH AC PLUSHTR Manual7,493 km1st OwnerPetrol₹10,855/month₹4,87,999Zero downpayment2017 Maruti Wagon R 1.0VXI OPT Manual42,356 km2nd OwnerPetrol₹9,079/month₹4,08,153Zero downpayment2018 Hyundai Grand i10SPORTZ 1.2 KAPPA VTVT Manual28,636 km1st OwnerPetrol₹13,142/month₹5,90,799Zero downpayment2019 Hyundai NEW SANTRO1.1 SPORTS AMT Automatic9,004 km1st OwnerPetrol₹12,915/month₹5,80,599Zero downpayment2016 Maruti Alto 800LXI Manual75,081 km1st OwnerPetrol₹6,262/month₹2,81,499Zero downpayment2015 Hyundai XcentS 1.1 CRDI Manual70,577 km1st OwnerDiesel₹9,810/month₹4,40,999Zero downpayment2016 Hyundai EonMAGNA PLUS Manual26,779 km1st OwnerPetrol₹7,192/month₹3,23,299Zero downpayment2017 Hyundai Creta1.6 SX PLUS PETROL Manual75,640 km1st OwnerPetrol₹18,125/month₹8,14,799Zero downpayment2019 Volkswagen Vento1.2 TSI HIGHLINE PLUS AT Automatic23,852 km2nd OwnerPetrol₹21,152/month₹9,50,899Zero downpayment2018 Renault Kwid1.0 RXT Opt Manual42,487 km1st OwnerPetrol₹8,620/month₹3,87,499Zero downpayment2017 Ford New Figo1.5 TREND Manual74,921 km2nd OwnerDiesel₹10,439/month₹4,69,299Zero downpayment2019 Ford FREESTYLETITANIUM + 1.2 TI-VCT Manual21,938 km1st OwnerPetrol₹14,664/month₹6,59,199Zero downpayment2016 Datsun Redi GoT (O) Manual39,755 km1st OwnerPetrol₹5,804/month₹2,60,899Zero downpayment2016 Ford Ecosport1.5TITANIUM TDCI Manual81,582 km2nd OwnerDiesel₹13,647/month₹6,13,499Zero downpayment2017 Maruti Alto 800LXI Manual14,636 km1st OwnerPetrol₹6,874/month₹3,08,999Zero downpayment2019 Hyundai GRAND I10 NIOSAsta Petrol Manual11,190 km1st OwnerPetrol₹16,143/month₹7,25,699Zero downpayment2016 Hyundai Grand i10SPORTZ 1.2 KAPPA VTVT Manual32,805 km2nd OwnerPetrol₹10,835/month₹4,87,099Zero downpayment2013 Maruti Alto 800LXI Manual58,720 km1st OwnerPetrol₹5,706/month₹2,56,499Zero downpayment2016 Hyundai EonERA PLUS Manual53,917 km2nd OwnerPetrol₹6,782/month₹3,04,899Zero downpayment2013 Maruti Wagon R 1.0VXI Manual48,953 km1st OwnerPetrol₹8,288/month₹3,72,599Zero downpayment2019 Maruti Eeco5 STR WITH AC PLUSHTR Manual29,145 km1st OwnerPetrol₹9,990/month₹4,49,099Zero downpaymentReserved2017 Ford Ecosport1.5 TDCI TITANIUM PLUS Manual90,047 km2nd OwnerDiesel₹15,438/month₹6,93,999Zero downpayment2018 Ford Figo Aspire1.2 TITANIUM PETROL Manual14,545 km2nd OwnerPetrol₹13,111/month₹5,89,399Zero downpayment2020 Maruti Eeco5 STR WITH AC PLUSHTR Manual7,734 km1st OwnerPetrol₹10,918/month₹4,90,799Zero downpayment2016 Hyundai Grand i10SPORTZ 1.2 KAPPA VTVT Manual20,582 km2nd OwnerPetrol₹10,953/month₹4,92,399Zero downpayment2018 Nissan MicraXL CVT (PETROL) Automatic37,642 km1st OwnerPetrol₹12,410/month₹5,57,907Zero downpayment2015 Hyundai EonERA PLUS Manual70,761 km1st OwnerPetrol₹6,383/month₹2,86,937Zero downpayment2014 Hyundai Elite i20ASTA 1.4 CRDI Manual90,866 km1st OwnerDiesel₹12,279/month₹5,51,999Zero downpayment2017 Honda CityV MT PETROL Manual66,192 km1st OwnerPetrol₹17,411/month₹7,82,699Zero downpayment2017 Jeep Compass2.0 LIMITED Manual24,777 km1st OwnerDiesel₹32,432/month₹14,57,999Zero downpayment2016 Hyundai EonERA PLUS Manual39,984 km1st OwnerPetrol₹6,900/month₹3,10,199Zero downpayment2017 Hyundai EonERA PLUS Manual15,425 km1st OwnerPetrol₹7,781/month₹3,49,799Zero downpayment2017 Maruti DzireVXI Manual51,783 km1st OwnerPetrol₹14,530/month₹6,53,199Zero downpayment2019 Maruti CelerioVXI Manual49,887 km1st OwnerPetrol₹11,536/month₹5,18,599Zero downpayment2019 Maruti Eeco5 STR WITH AC PLUSHTR Manual32,470 km1st OwnerPetrol₹10,866/month₹4,88,499Zero downpayment2016 Maruti Wagon R 1.0VXI Manual13,138 km1st OwnerPetrol₹10,072/month₹4,52,799Zero downpayment2018 Maruti Eeco5 STR WITH AC PLUSHTR Manual12,519 km1st OwnerPetrol₹10,482/month₹4,71,199Zero downpayment2018 Maruti Eeco5 STR WITH AC PLUSHTR Manual17,682 km2nd OwnerPetrol₹9,454/month₹4,24,999Zero downpayment2018 Maruti Vitara BrezzaZDI Manual61,172 km1st OwnerDiesel₹18,919/month₹8,50,499Zero downpayment2017 Honda Jazz1.2 V MT Manual43,474 km1st OwnerPetrol₹13,171/month₹5,92,099Zero downpayment2018 Maruti Wagon R 1.0VXI Manual7,286 km1st OwnerPetrol₹11,830/month₹5,31,799Zero downpayment2017 Maruti IGNISZETA 1.2 K12 AMT Automatic22,100 km1st OwnerPetrol₹12,799/month₹5,75,399Zero downpayment2020 Maruti IGNISSIGMA 1.2 K12 Manual20,653 km1st OwnerPetrol₹11,912/month₹5,35,495Zero downpayment2016 Hyundai i20 Active1.2 SX Manual54,312 km1st OwnerPetrol₹14,770/month₹6,63,999Zero downpayment2014 Hyundai Elite i20MAGNA 1.2 Manual84,541 km2nd OwnerPetrol₹10,626/month₹4,77,699Zero downpayment2017 Maruti Alto 800LXI Manual68,061 km1st OwnerPetrol₹6,506/month₹2,92,499Zero downpayment2019 Maruti Eeco5 STR WITH AC PLUSHTR Manual32,316 km1st OwnerPetrol₹10,226/month₹4,59,699Zero downpayment2016 Maruti Wagon R 1.0VXI Manual17,442 km1st OwnerPetrol₹9,877/month₹4,43,999Zero downpayment2017 Maruti SwiftVXI Manual59,949 km1st OwnerPetrol₹12,510/month₹5,62,399Zero downpayment2013 Hyundai i20ASTA 1.2 Manual74,695 km2nd OwnerPetrol₹9,269/month₹4,16,699Zero downpayment2020 Honda CityZX MT PETROL Manual9,277 km2nd OwnerPetrol₹29,289/month₹13,16,699Zero downpayment2018 Maruti Wagon R 1.0VXI Manual16,691 km3rd OwnerPetrol₹10,079/month₹4,53,099Zero downpayment2019 Maruti Eeco5 STR WITH AC PLUSHTR Manual25,873 km1st OwnerPetrol₹10,857/month₹4,88,099Zero downpayment2016 Renault KwidRXT Manual48,004 km1st OwnerPetrol₹7,798/month₹3,50,537Zero downpayment2016 Renault KwidRXT Manual47,638 km1st OwnerPetrol₹7,777/month₹3,49,599Zero downpayment2016 Hyundai Elite i20ASTA 1.4 CRDI Manual1,01,947 km1st OwnerDiesel₹13,082/month₹5,88,099Zero downpayment2019 Maruti BalenoDELTA 1.2 K12 Manual14,506 km1st OwnerPetrol₹15,602/month₹7,01,399Zero downpayment2019 Hyundai GRAND I10 NIOSAsta Petrol Manual21,215 km1st OwnerPetrol₹15,842/month₹7,12,199Zero downpayment2015 Hyundai Elite i20SPORTZ 1.2 Manual77,138 km1st OwnerPetrol₹12,206/month₹5,48,699Zero downpayment2017 Honda Jazz1.2 SV MT Manual72,327 km1st OwnerPetrol₹13,202/month₹5,93,499Zero downpayment2019 Maruti Eeco5 STR WITH AC PLUSHTR Manual25,534 km1st OwnerPetrol₹10,444/month₹4,69,499Zero downpayment2016 Renault KwidRXT 1.0 EASY-R  AT Automatic55,925 km1st OwnerPetrol₹8,253/month₹3,70,999Zero downpayment2016 Hyundai Grand i10SPORTZ 1.2 KAPPA VTVT Manual56,248 km2nd OwnerPetrol₹10,742/month₹4,82,899Zero downpayment2019 Renault Kwid1.0 CLIMBER OPT AMT Automatic19,635 km1st OwnerPetrol₹11,334/month₹5,09,499Zero downpayment2014 Hyundai Elite i20ASTA 1.2 Manual69,157 km2nd OwnerPetrol₹11,101/month₹4,99,051Zero downpayment2018 Hyundai EonERA PLUS Manual12,080 km2nd OwnerPetrol₹8,037/month₹3,61,299Zero downpayment2015 Hyundai Grand i10ASTA 1.2 AT VTVT Automatic57,280 km1st OwnerPetrol₹11,329/month₹5,09,299Zero downpayment2018 Maruti Alto 800VXI Manual72,412 km1st OwnerPetrol₹7,007/month₹3,14,999Zero downpayment2019 Renault KwidRXL Manual62,631 km1st OwnerPetrol₹8,916/month₹4,00,799Zero downpayment2017 Maruti Wagon R 1.0VXI Manual13,363 km1st OwnerPetrol₹10,139/month₹4,55,799Zero downpayment2017 Maruti Vitara BrezzaZDI PLUS DUAL TONE Manual54,549 km1st OwnerDiesel₹18,579/month₹8,35,199Zero downpayment2014 Maruti Wagon R 1.0VXI Manual54,684 km2nd OwnerPetrol₹8,099/month₹3,64,099Zero downpayment2018 Maruti Eeco5 STR WITH AC PLUSHTR Manual31,516 km1st OwnerPetrol₹9,463/month₹4,25,399Zero downpayment2016 Hyundai EonERA PLUS Manual45,416 km1st OwnerPetrol₹6,760/month₹3,03,899Zero downpayment2017 Honda CityVX MT PETROL Manual36,926 km1st OwnerPetrol₹20,027/month₹9,00,299Zero downpayment2019 Hyundai VENUE1.0 SX TURBO GDI DUAL TONE Manual64,270 km1st OwnerPetrol₹21,425/month₹9,63,149Zero downpayment2016 Hyundai EonMAGNA PLUS OPTIONAL Manual27,458 km1st OwnerPetrol₹7,821/month₹3,51,599Zero downpayment2017 Maruti BalenoDELTA 1.2 K12 Manual21,285 km1st OwnerPetrol₹13,832/month₹6,21,799Zero downpayment2019 Maruti Eeco5 STR WITH AC PLUSHTR Manual25,509 km1st OwnerPetrol₹10,591/month₹4,76,099Zero downpayment2017 Hyundai Elite i201.4 CRDI ASTA (O) Manual95,155 km1st OwnerDiesel₹15,086/month₹6,78,199Zero downpayment2015 Hyundai Grand i10ASTA 1.2 AT VTVT Automatic50,256 km2nd OwnerPetrol₹11,534/month₹5,18,499Zero downpayment2015 Hyundai Grand i10ASTA 1.2 VTVT Manual81,031 km1st OwnerPetrol₹9,452/month₹4,24,899Zero downpayment2018 Skoda RapidStyle 1.5 TDI AT Automatic65,043 km1st OwnerDiesel₹22,645/month₹10,17,999Zero downpayment2019 Hyundai Elite i201.2  ASTA (O) CVT Automatic37,619 km2nd OwnerPetrol₹17,755/month₹7,98,199Zero downpayment2017 Honda CityVX MT PETROL Manual30,424 km1st OwnerPetrol₹21,081/month₹9,47,699Zero downpayment2017 Honda JazzVX  1.2 Manual54,063 km1st OwnerPetrol₹13,978/month₹6,28,399Zero downpayment2016 Hyundai Elite i20ASTA 1.2 (O) Manual63,684 km1st OwnerPetrol₹13,843/month₹6,22,299Zero downpayment2015 Hyundai Grand i10ASTA 1.2 VTVT Manual39,961 km2nd OwnerPetrol₹10,613/month₹4,77,099Zero downpayment2017 Maruti Alto 800LXI Manual16,645 km2nd OwnerPetrol₹6,865/month₹3,08,599Zero downpayment2017 Maruti BalenoDELTA 1.2 K12 Manual34,824 km2nd OwnerPetrol₹13,538/month₹6,08,599Zero downpayment2018 Ford Ecosport1.5 TITANIUM TI VCT Manual22,511 km1st OwnerPetrol₹18,832/month₹8,46,578Zero downpayment2016 Hyundai Grand i10SPORTZ 1.2 KAPPA VTVT Manual35,436 km1st OwnerPetrol₹11,287/month₹5,07,399Zero downpayment2016 Hyundai Elite i20MAGNA 1.2 Manual1,17,893 km1st OwnerPetrol₹11,896/month₹5,34,799Zero downpayment2018 Maruti Vitara BrezzaZDI PLUS Manual76,944 km1st OwnerDiesel₹20,156/month₹9,06,099Zero downpayment2016 Maruti Wagon R 1.0VXI Manual30,148 km1st OwnerPetrol₹9,901/month₹4,45,099Zero downpayment2016 Hyundai Grand i10ASTA 1.2 (O) VTVT Manual26,707 km1st OwnerPetrol₹11,436/month₹5,14,099Zero downpayment2015 Ford Ecosport1.5AMBIENTE TI VCT Manual85,957 km1st OwnerPetrol₹12,112/month₹5,44,499Zero downpayment2017 Hyundai Grand i10SPORTZ 1.2 KAPPA VTVT Manual32,997 km2nd OwnerPetrol₹11,494/month₹5,16,699Zero downpayment2017 Hyundai Grand i10Sportz(O) 1.2 MT 39,649 km1st OwnerPetrol₹10,889/month₹4,89,525Zero downpayment2019 Hyundai NEW SANTRO1.1 SPORTS AMT Automatic39,704 km1st OwnerPetrol₹12,764/month₹5,73,799Zero downpayment2016 Maruti Wagon R 1.0VXI OPT Manual49,494 km1st OwnerPetrol₹9,238/month₹4,15,299Zero downpayment2017 Maruti Alto K10VXI Manual17,927 km2nd OwnerPetrol₹7,649/month₹3,43,849Zero downpayment2018 Hyundai NEW SANTRO1.1 SPORTS AMT Automatic9,926 km1st OwnerPetrol₹12,697/month₹5,70,799Zero downpayment2020 Tata TIGOR1.2 XZA+ RTN Automatic6,802 km1st OwnerPetrol₹17,591/month₹7,90,799Zero downpayment2018 Tata TiagoXZ 1.2 REVOTRON Manual51,612 km1st OwnerPetrol₹12,103/month₹5,44,099Zero downpayment2018 Hyundai NEW SANTRO1.1 SPORTS AMT Automatic35,640 km1st OwnerPetrol₹12,441/month₹5,59,299Zero downpayment2017 Maruti Eeco5 STR WITH AC PLUSHTR Manual68,189 km1st OwnerPetrol₹9,203/month₹4,13,699Zero downpayment2018 Renault KwidRXT 1.0 EASY-R AT OPTION Automatic16,706 km1st OwnerPetrol₹10,444/month₹4,69,499Zero downpayment2019 Maruti BalenoDELTA 1.2 K12 Manual24,965 km1st OwnerPetrol₹15,602/month₹7,01,399Zero downpayment2018 Hyundai Elite i201.4 CRDI ASTA (O) Manual61,004 km1st OwnerDiesel₹17,222/month₹7,74,199Zero downpayment2016 Hyundai Grand i10SPORTZ 1.2 KAPPA VTVT Manual60,523 km1st OwnerPetrol₹10,693/month₹4,80,699Zero downpayment2019 Hyundai GRAND I10 NIOSAsta Petrol Manual26,560 km1st OwnerPetrol₹14,830/month₹6,66,699Zero downpayment2016 Maruti Alto 800LXI Manual53,144 km1st OwnerPetrol₹6,869/month₹3,08,799Zero downpayment2015 Hyundai Elite i20SPORTZ 1.2 Manual91,409 km1st OwnerPetrol₹12,010/month₹5,39,899Zero downpayment2019 Hyundai GRAND I10 NIOSAsta Petrol Manual28,827 km1st OwnerPetrol₹15,996/month₹7,19,099Zero downpayment2017 Maruti BalenoALPHA 1.2 K12 Manual37,804 km1st OwnerPetrol₹14,922/month₹6,70,799Zero downpayment2018 Maruti Alto 800LXI Manual15,511 km1st OwnerPetrol₹7,601/month₹3,41,699Zero downpayment2018 Volkswagen AmeoCOMFORTLINE 1.0 23,894 km1st OwnerPetrol₹12,094/month₹5,43,699Zero downpayment2018 Maruti BalenoDELTA 1.2 K12 Manual19,044 km2nd OwnerPetrol₹13,786/month₹6,19,729Zero downpayment2016 Maruti Wagon R 1.0VXI Manual79,648 km1st OwnerPetrol₹8,804/month₹3,95,799Zero downpayment2019 Tata HexaVaricor 400 XT Manual46,581 km1st OwnerDiesel₹37,945/month₹17,05,799Zero downpayment2015 Maruti Alto K10VXI Manual48,859 km1st OwnerPetrol₹6,867/month₹3,08,699Zero downpayment2017 Hyundai Grand i10Sportz(O) 1.2 MT Manual51,708 km1st OwnerPetrol₹10,717/month₹4,81,799Zero downpayment2019 Ford Ecosport1.5 TITANIUM PLUS TI VCT AT Automatic77,873 km1st OwnerPetrol₹19,177/month₹8,62,099Zero downpayment2016 Maruti Wagon R 1.0VXI AMT Automatic33,991 km1st OwnerPetrol₹9,808/month₹4,40,899Zero downpayment2017 Hyundai EonMAGNA PLUS Manual44,829 km1st OwnerPetrol₹8,030/month₹3,60,999Zero downpayment2020 Maruti S PRESSOVXI PLUS AGS Automatic13,055 km2nd OwnerPetrol₹11,616/month₹5,22,199Zero downpayment2017 Maruti Wagon R 1.0VXI OPT Manual35,719 km2nd OwnerPetrol₹10,057/month₹4,52,099Zero downpayment2017 Hyundai EonMAGNA PLUS OPTIONAL Manual29,659 km2nd OwnerPetrol₹8,288/month₹3,72,599Zero downpayment2020 Maruti S PRESSOVXI 8,557 km1st OwnerPetrol₹10,593/month₹4,76,199Zero downpayment2019 Tata HexaVaricor 400 XT Manual34,649 km1st OwnerDiesel₹41,255/month₹18,54,599Zero downpayment2017 Maruti BalenoDELTA 1.2 K12 Manual55,515 km1st OwnerPetrol₹13,951/month₹6,27,171Zero downpayment2019 Maruti BalenoDELTA 1.2 K12 Manual42,116 km1st OwnerPetrol₹15,277/month₹6,86,799Zero downpayment2015 Maruti Wagon R 1.0VXI Manual54,644 km1st OwnerPetrol₹8,753/month₹3,93,499Zero downpayment2017 Hyundai Grand i10MAGNA 1.2 KAPPA VTVT Manual59,844 km2nd OwnerPetrol₹10,413/month₹4,68,099Zero downpayment2017 Maruti Wagon R 1.0VXI OPT AMT Automatic20,642 km2nd OwnerPetrol₹10,993/month₹4,94,199Zero downpayment2015 Hyundai i20 Active1.2 S Manual1,01,847 km1st OwnerPetrol₹12,174/month₹5,47,299Zero downpayment2015 Maruti Alto K10VXI Manual60,259 km1st OwnerPetrol₹6,853/month₹3,08,099Zero downpayment2019 Maruti BalenoALPHA 1.2K12  AT Automatic39,661 km1st OwnerPetrol₹18,632/month₹8,37,599Zero downpayment2018 Hyundai Elite i20SPORTZ 1.2 Manual55,855 km1st OwnerPetrol₹14,268/month₹6,41,399Zero downpayment2018 Hyundai NEW SANTROASTA 1.1 MT Manual41,241 km1st OwnerPetrol₹11,970/month₹5,38,099Zero downpayment2021 Maruti S PRESSOVXI PLUS Manual5,141 km1st OwnerPetrol₹11,029/month₹4,95,799Zero downpayment2017 Hyundai EonERA PLUS Manual54,613 km2nd OwnerPetrol₹7,781/month₹3,49,799Zero downpayment2017 Hyundai Elite i20ASTA 1.2 (O) Manual49,956 km1st OwnerPetrol₹14,256/month₹6,40,899Zero downpayment2016 Maruti Wagon R 1.0VXI Manual46,862 km1st OwnerPetrol₹9,774/month₹4,39,399Zero downpayment2016 Hyundai Grand i101.2 ASTA (O) AT Automatic96,040 km1st OwnerPetrol₹11,338/month₹5,09,699Zero downpayment2015 Maruti Wagon R 1.0VXI Manual66,417 km1st OwnerPetrol₹8,763/month₹3,93,933Zero downpayment2018 Hyundai Grand i10SPORTZ 1.2 KAPPA VTVT Manual49,848 km1st OwnerPetrol₹12,675/month₹5,69,799Zero downpayment2016 Maruti Wagon R 1.0VXI Manual42,959 km2nd OwnerPetrol₹9,523/month₹4,28,099Zero downpayment2017 Hyundai Elite i20SPORTZ 1.2 Manual89,729 km1st OwnerPetrol₹13,580/month₹6,10,499Zero downpayment2017 Maruti Wagon R 1.0VXI OPT Manual11,243 km1st OwnerPetrol₹10,940/month₹4,91,799Zero downpayment2018 Maruti IGNISDELTA 1.2 K12 Manual12,561 km2nd OwnerPetrol₹12,206/month₹5,48,699Zero downpayment2018 Maruti BalenoDELTA 1.2 K12 Manual19,686 km1st OwnerPetrol₹13,974/month₹6,28,199Zero downpayment2018 Maruti IGNISDELTA 1.2 K12 Manual18,237 km1st OwnerPetrol₹12,206/month₹5,48,699Zero downpayment2018 Hyundai EonERA PLUS Manual60,516 km1st OwnerPetrol₹7,912/month₹3,55,699Zero downpayment2019 Hyundai NEW SANTRO1.1 SPORTS AMT Automatic45,328 km1st OwnerPetrol₹11,879/month₹5,33,999Zero downpayment2018 Maruti BalenoDELTA 1.2 K12 Manual39,484 km1st OwnerPetrol₹14,345/month₹6,44,899Zero downpayment2017 Maruti Wagon R 1.0VXI Manual15,288 km1st OwnerPetrol₹10,535/month₹4,73,599Zero downpayment2014 Maruti Wagon R 1.0VXI Manual70,238 km1st OwnerPetrol₹8,197/month₹3,68,499Zero downpayment2018 Renault KwidRXT 1.0 EASY-R AT OPTION Automatic24,921 km1st OwnerPetrol₹10,237/month₹4,60,199Zero downpayment2017 Hyundai Grand i10SPORTS 1.2 VTVT Manual44,240 km2nd OwnerPetrol₹10,933/month₹4,91,499Zero downpayment2016 Maruti BalenoZETA 1.2 K12 Manual65,520 km1st OwnerPetrol₹13,992/month₹6,28,999Zero downpayment2017 Hyundai Grand i10SPORTZ 1.2 KAPPA VTVT Manual22,208 km1st OwnerPetrol₹12,291/month₹5,52,561Zero downpayment2017 Honda CityV MT PETROL Manual81,508 km1st OwnerPetrol₹16,539/month₹7,43,499Zero downpayment2017 Hyundai EonERA PLUS Manual43,071 km1st OwnerPetrol₹7,789/month₹3,50,159Zero downpayment2019 Maruti IGNISDELTA 1.2 K12 Manual17,350 km1st OwnerPetrol₹12,793/month₹5,75,099Zero downpayment2016 Hyundai Grand i10SPORTZ 1.2 KAPPA VTVT Manual53,933 km2nd OwnerPetrol₹11,147/month₹5,01,099Zero downpayment2018 Maruti Alto 800LXI Manual14,064 km1st OwnerPetrol₹7,601/month₹3,41,699Zero downpayment2017 Hyundai EonERA PLUS Manual69,381 km1st OwnerPetrol₹6,898/month₹3,10,099Zero downpayment2017 Maruti Alto 800VXI Manual74,559 km1st OwnerPetrol₹6,760/month₹3,03,899Zero downpayment2016 Maruti Alto K10VXI AMT Automatic96,298 km1st OwnerPetrol₹8,569/month₹3,85,199Zero downpayment2017 Honda WR-V1.5 i-DTEC VX MT Manual1,02,728 km1st OwnerDiesel₹16,314/month₹7,33,399Zero downpayment2018 Maruti Wagon R 1.0VXI AMT Automatic31,837 km1st OwnerPetrol₹10,991/month₹4,94,099Zero downpayment2017 Maruti Wagon R 1.0VXI Manual30,695 km1st OwnerPetrol₹10,165/month₹4,56,949Zero downpayment2019 Maruti S PRESSOVXI Manual26,567 km1st OwnerPetrol₹9,959/month₹4,47,699Zero downpayment2017 Hyundai Grand i10ASTA 1.2 KAPPA VTVT Manual36,506 km1st OwnerPetrol₹12,257/month₹5,50,999Zero downpayment2018 Maruti Wagon R 1.0VXI Manual39,001 km1st OwnerPetrol₹10,297/month₹4,62,899Zero downpayment2017 Hyundai Grand i10ASTA 1.2 VTVT Manual60,629 km2nd OwnerPetrol₹11,311/month₹5,08,499Zero downpayment2017 Hyundai EonERA PLUS Manual42,215 km1st OwnerPetrol₹7,539/month₹3,38,899Zero downpayment2017 Maruti BalenoDELTA 1.2 K12 Manual78,251 km1st OwnerPetrol₹14,081/month₹6,32,999Zero downpayment2018 Maruti Wagon R 1.0VXI Manual70,250 km1st OwnerPetrol₹9,714/month₹4,36,699Zero downpayment2016 Maruti Wagon R 1.0VXI Manual64,507 km1st OwnerPetrol₹9,485/month₹4,26,399Zero downpayment2017 Maruti BalenoALPHA 1.2 K12 Manual44,946 km1st OwnerPetrol₹14,957/month₹6,72,399Zero downpayment2016 Maruti Alto K10VXI AMT Automatic33,350 km1st OwnerPetrol₹8,669/month₹3,89,699Zero downpayment2016 Maruti Wagon R 1.0VXI Manual63,743 km1st OwnerPetrol₹9,763/month₹4,38,899Zero downpayment2017 Hyundai Grand i10MAGNA 1.2 KAPPA VTVT Manual96,751 km1st OwnerPetrol₹10,711/month₹4,81,499Zero downpayment2017 Maruti BalenoDELTA 1.2 K12 Manual39,708 km1st OwnerPetrol₹14,167/month₹6,36,899Zero downpayment2017 Maruti Vitara BrezzaZDI PLUS DUAL TONE Manual98,027 km1st OwnerDiesel₹18,009/month₹8,09,599Zero downpayment2018 Ford Figo Aspire1.5 TITANIUM DIESEL Manual94,941 km1st OwnerDiesel₹13,496/month₹6,06,699Zero downpayment2017 Hyundai Grand i10Sportz(O) 1.2 MT Manual61,023 km1st OwnerPetrol₹10,904/month₹4,90,199Zero downpayment2017 Maruti Wagon R 1.0VXI Manual72,963 km1st OwnerPetrol₹9,776/month₹4,39,499Zero downpayment2018 Maruti Alto 800LXI Manual25,639 km1st OwnerPetrol₹7,601/month₹3,41,699Zero downpayment2017 Maruti Alto K10VXI Manual38,209 km2nd OwnerPetrol₹7,886/month₹3,54,499Zero downpayment2017 Maruti Wagon R 1.0VXI PLUS Manual73,880 km1st OwnerPetrol₹9,405/month₹4,22,799Zero downpayment2017 Maruti BalenoALPHA 1.2 K12 Manual27,746 km2nd OwnerPetrol₹15,965/month₹7,17,699Zero downpayment2017 Hyundai Grand i10SPORTZ 1.2 KAPPA VTVT Manual69,150 km2nd OwnerPetrol₹11,703/month₹5,26,099Zero downpayment2018 Maruti Alto 800LXI Manual36,384 km1st OwnerPetrol₹7,601/month₹3,41,699Zero downpayment2017 Hyundai Grand i10SPORTZ (O) 1.2 AT VTVT Automatic47,412 km1st OwnerPetrol₹13,015/month₹5,85,099Zero downpayment2017 Maruti Alto 800LXI Manual42,378 km1st OwnerPetrol₹7,234/month₹3,25,199Zero downpayment2018 Maruti Wagon R 1.0VXI Manual38,068 km1st OwnerPetrol₹11,013/month₹4,95,099Zero downpayment2018 Maruti Wagon R 1.0VXI Manual27,625 km1st OwnerPetrol₹10,800/month₹4,85,499Zero downpayment2018 Maruti IGNISDELTA 1.2 K12 Manual49,409 km1st OwnerPetrol₹12,206/month₹5,48,699Zero downpayment2017 Hyundai Grand i10SPORTZ (O) 1.2 AT VTVT Automatic49,027 km2nd OwnerPetrol₹12,759/month₹5,73,599Zero downpayment2018 Maruti Wagon R 1.0VXI PLUS AMT Automatic80,221 km1st OwnerPetrol₹10,680/month₹4,80,099Zero downpayment2018 Maruti IGNISDELTA 1.2 K12 Manual63,508 km1st OwnerPetrol₹11,665/month₹5,24,399Zero downpayment2019 Maruti AltoLXI Manual18,866 km1st OwnerPetrol₹7,790/month₹3,50,199Zero downpayment2018 Maruti Wagon R 1.0VXI AMT Automatic48,809 km1st OwnerPetrol₹11,160/month₹5,01,699Zero downpayment2018 Maruti Alto 800LXI Manual26,458 km1st OwnerPetrol₹7,601/month₹3,41,699Zero downpayment2018 Maruti Alto 800LXI Manual75,920 km1st OwnerPetrol₹7,452/month₹3,34,999Zero downpayment2017 Maruti BalenoZETA 1.2 K12 Manual61,979 km1st OwnerPetrol₹14,701/month₹6,60,899Zero downpayment2019 Maruti AltoLXI Manual44,032 km1st OwnerPetrol₹7,790/month₹3,50,199Zero downpayment2019 Ford FREESTYLETITANIUM 1.2 TI-VCT MT Manual50,507 km1st OwnerPetrol₹14,136/month₹6,35,499Zero downpayment2021 Maruti AltoLXI Manual8,291 km1st OwnerPetrol₹9,270/month₹4,16,751Zero downpayment2019 Maruti Alto 800LXI Manual61,478 km1st OwnerPetrol₹7,968/month₹3,58,199Zero downpayment2019 Maruti SwiftLXI Manual10,439 km1st OwnerPetrol₹13,109/month₹5,89,299Zero downpayment2020 Hyundai VENUES MT 1.2 KAPPA 6,997 km1st OwnerPetrol₹18,761/month₹8,43,399Zero downpayment2018 Tata TiagoXZ 1.2 REVOTRON Manual21,028 km1st OwnerPetrol₹11,389/month₹5,11,999Zero downpayment2016 Maruti BalenoALPHA 1.2 K12 Manual43,419 km1st OwnerPetrol₹14,937/month₹6,71,499Zero downpayment2013 Maruti Swift DzireVDI BS IV Manual85,996 km2nd OwnerDiesel₹8,800/month₹3,95,599Zero downpayment2019 Maruti SwiftVXI AMT Automatic61,052 km1st OwnerPetrol₹14,139/month₹6,35,599Zero downpayment2021 Renault TRIBER1.0 RXL PETROL Manual16,515 km2nd OwnerPetrol₹14,786/month₹6,64,699Zero downpayment2016 Ford Ecosport1.5TITANIUM TDCI Manual53,681 km1st OwnerDiesel₹14,401/month₹6,47,399Zero downpayment2013 Maruti Swift DzireVXI 1.2 BS IV Manual1,54,154 km1st OwnerPetrol₹9,125/month₹4,10,199Zero downpayment2019 Renault TRIBER1.0 RXT Manual29,826 km1st OwnerPetrol₹13,609/month₹6,11,799Zero downpayment2018 Jeep CompassLIMITED O 1.4 AT Automatic36,654 km1st OwnerPetrol₹35,006/month₹15,73,699Zero downpayment2017 Maruti DzireVDI AMT Automatic93,752 km1st OwnerDiesel₹13,978/month₹6,28,399Zero downpayment2015 Maruti Wagon R 1.0VXI Manual76,732 km1st OwnerPetrol₹8,001/month₹3,59,699Zero downpayment2016 Maruti Alto K10VXI Manual15,708 km1st OwnerPetrol₹8,595/month₹3,86,399Zero downpayment2016 Renault DusterRXL PETROL 104 Manual20,916 km1st OwnerPetrol₹13,665/month₹6,14,299Zero downpayment2020 Maruti SwiftLXI Manual36,501 km2nd OwnerPetrol₹11,080/month₹4,98,099Zero downpaymentOther CitiesChennaiSalemBengaluruTiruchirappalliVijayawadaMysoreMaduraiCoimbatoreHyderabadThrissurWhat our Users have to say! PreviousVishnu ParachureChennaiMay 2022AUDI A4  5User rating“My experience at CARS24 was amazing.The customer service was outstanding,and I felt very comfortable l... read more... read moreValue for money : Experience :Ease of process :Daas ChitanisChennaiMay 2022HONDA JAZZ  4.5User rating“I bought a used Honda Jazz fromCARS24. It was in great shape, and I wasvery happy with the deal! I ... read more... read moreValue for money : Experience :Ease of process :Ishwar MarwahChennaiMay 2022HYUNDAI I10  5User rating“I found the staff at CARS24 to be veryprofessional and easy to deal with. I gota fair deal on a great Hyund... read more... read moreValue for money : Experience :Ease of process :Kumari VaidyaChennaiMay 2022FORD FUSION  4.5User rating“I got a great deal on my Ford Fusionfrom CARS24. I was nervous at first, butthe customer service was g... read more... read moreValue for money : Experience :Ease of process :Shristi TavadeChennaiMay 2022FORD FIGO ASPIRE  4.5User rating“I needed a car that would be morereliable and comfortable than my oldone. I bought the FORD FIGO... read more... read moreValue for money : Experience :Ease of process :Ragunath KusariChennaiMay 2022TATA SAFARI STORME  5User rating“I was looking for an SUV for my wife,and CARS24 had a superb range tochoose from. I found the TA... read more... read moreValue for money : Experience :Ease of process :Rudra DivekarChennaiMay 2022TATA VENTURE  5User rating“Buying a used car from CARS24 was anexcellent experience. The TATA VENTUREcar I bought on their lot was... read more... read moreValue for money : Experience :Ease of process :Sidhi AyyarChennaiMay 2022PREMIER PADMINI  4User rating“The Premier Padmini was a bit pricey,but I am glad I got one. It has been adream to drive, especially o... read more... read moreValue for money : Experience :Ease of process :Daas ThakreChennaiMay 2022HONDA BRIO  5User rating“I had a great experience buying myHonda Brio from CARS24. The car wasexactly as shown on their si... read more... read moreValue for money : Experience :Ease of process :Akshey ParekhChennaiMay 2022SKODA RAPID  5User rating“The SKODA RAPID is a great car,especially for the price. I'm definitelyhappy with the car, and I w... read more... read moreValue for money : Experience :Ease of process :Vakpati NambiyarChennaiMay 2022HYUNDAI I20  4.5User rating“My experience with CARS24 was almosteffortless. I never had to go to the lot tolook at the car I was interest... read more... read moreValue for money : Experience :Ease of process :Bhima PadhyaChennaiMay 2022FORD FREESTYLE  5User rating“I was looking for a vehicle that isreliable, easy to drive and offers anaffordable rate. I was deligh... read more... read moreValue for money : Experience :Ease of process :Uma SatavelekarChennaiMay 2022HYUNDAI GRAND I10  4.5User rating“I made a very good decision to buy theHyundai Grand i10 from CARS24. Thesales team was very helpful... read more... read moreValue for money : Experience :Ease of process :Jawahar DayalChennaiMay 2022HYUNDAI I20  5User rating“The team at CARS24 were really helpful,and the buying process was easy. I lovemy Hyundai I20. I would rec... read more... read moreValue for money : Experience :Ease of process :Kumari ParekhChennaiMay 2022TOYOTA INNOVA  5User rating“When I was buying my Toyota Innova, Iwasn't sure what to expect. I wasworried about buying a use... read more... read moreValue for money : Experience :Ease of process :Ayaan BhatavadekarChennaiMay 2022HYUNDAI VERNA  5User rating“I purchased a Hyundai Verna fromCARS24 a few days ago. The car is inmint condition, and I am ve... read more... read moreValue for money : Experience :Ease of process :Uma AdwaniChennaiMay 2022MAHINDRA SCORPIO  4.5User rating“I decided to buy a used car online as Iwas worried about getting ripped off if Ipurchased from a dealer. T... read more... read moreValue for money : Experience :Ease of process :Ayaan PunjaChennaiMay 2022HYUNDAI NEW ELANTRA  4User rating“Simply put, CARS24 is a gem of acompany, and I'm very happy with theHYUNDAI NEW ELANTRA I bou... read more... read moreValue for money : Experience :Ease of process :Shudraka DivekarChennaiMay 2022FORD MUSTANG  5User rating“Ford Mustang is not a car I'd normallychoose. It's bold and aggressive, but Ilove it. It's perfect for the streets.”... read moreValue for money : Experience :Ease of process :Asha AshtekarChennaiMay 2022TATA INDIGO ECS  5User rating“The moment I walked in, I got thequality service that I was looking for. TheTATA INDIGO ECS that I bou... read more... read moreValue for money : Experience :Ease of process :Seeta ChopadeChennaiMay 2022MITSUBISHI LANCER  5User rating“I was looking to buy a car online butwasn't sure I could trust a company thattook cashier's cheque. I was... read more... read moreValue for money : Experience :Ease of process :Shudraka ChopadeChennaiMay 2022FIAT GRAND PUNTO  4.5User rating“I would highly recommend CARS24. Thestaff is very helpful andaccommodating. They mad... read more... read moreValue for money : Experience :Ease of process :Rehan NaqviChennaiApr 2021MAHINDRA Genio  5User rating“I'm very happy with the Mahindra Geniothat I bought from CARS24. The processwas smooth and the staff w... read more... read moreValue for money : Experience :Ease of process :Ali AhmedChennaiApr 2021MAHINDRA BOLERO  5User rating“The Mahindra Bolero I bought fromCARS24 is great. The team was superhelpful, and I got a great de... read more... read moreValue for money : Experience :Ease of process :Ali AbdullahChennaiApr 2021MARUTI SUZUKI GYPSY  4.5User rating“I was looking for a tough and reliablecar that I could use for off-roading, andthe team at CARS24 recom... read more... read moreValue for money : Experience :Ease of process :Ali HashmiChennaiApr 2021MAHINDRA VERITO VIBE CS  5User rating“The team at CARS24 is very helpful andknowledgeable. They helped me find theperfect car for my needs an... read more... read moreValue for money : Experience :Ease of process :Ali QuraishiChennaiApr 2021HYUNDAI NEW ELANTRA  4.5User rating“Buying a car from CARS24 was the bestdecision I ever made. The team wasincredibly helpful, and I got ... read more... read moreValue for money : Experience :Ease of process :Ali NoorChennaiApr 2021RENAULT TRIBER  4.5User rating“I was a little hesitant to buy a used caronline, but I'm glad I did. The team atCARS24 was great, and I en... read more... read moreValue for money : Experience :Ease of process :Fateh GargChennaiApr 2021HYUNDAI TUCSON NEW  5User rating“I recently bought a HYUNDAI TUCSONNEW from CARS24. I am extremelyhappy with the car and the ... read more... read moreValue for money : Experience :Ease of process :Fateh KandpalChennaiApr 2021MERCEDES BENZ C CLASS  5User rating“Bought my Mercedes Benz C Class fromCARS24 and couldn't be happier. The caris in great condition and th... read more... read moreValue for money : Experience :Ease of process :Fateh ChaturvediChennaiApr 2021DATSUN REDI GO  4.5User rating“I'm really happy with the DATSUN REDIGO I bought from CARS24. The processwas easy and the car is in g... read more... read moreValue for money : Experience :Ease of process :Fateh AwasthiChennaiApr 2021TOYOTA Glanza  4.5User rating“I'm very happy with the purchase of mynew TOYOTA Glanza through CARS24.The selection was great, an... read more... read moreValue for money : Experience :Ease of process :Karan kapoorChennaiMar 2021FORD CLASSIC  5User rating“The team at CARS24 are amazing! Theywere so helpful and made the wholeprocess so easy. I was plea... read more... read moreValue for money : Experience :Ease of process :Induja RawtherChennaiMar 2021MARUTI SUZUKI IGNIS  4.5User rating“I was very happy with the service Ireceived at CARS24. I was looking for aused MARUTI SUZUKI IGNIS a... read more... read moreValue for money : Experience :Ease of process :Debeena BaruahChennaiMar 2021HYUNDAI VERNA  5User rating“I just bought an HYUNDAI VERNA fromCARS24 and I'm very happy with mypurchase. The team was gr... read more... read moreValue for money : Experience :Ease of process :Jayesh AggarwalChennaiMar 2021MERCEDES BENZ B CLASS  5User rating“CARS24 is a great place to buy usedcars online. I purchased a MercedesBenz B Class from them whi... read more... read moreValue for money : Experience :Ease of process :Jayesh KanwarChennaiMar 2021FORD FREESTYLE  4.5User rating“I bought a Ford Freestyle from theCARS24 team. The process was smoothand easy, and the staff was... read more... read moreValue for money : Experience :Ease of process :Eklavya GoenkaChennaiMar 2021TATA NEXON  5User rating“CARS24 made it easy to buy a used caronline in Bangalore. I was able to findthe TATA NEXON that I want... read more... read moreValue for money : Experience :Ease of process :Eklavya ChauhanChennaiMar 2021MERCEDES BENZ C CLASS  4.5User rating“I was lucky enough to get a great dealon my brand new used Mercedes BenzC Class. The car was in gre... read more... read moreValue for money : Experience :Ease of process :Eklavya ChaturvediChennaiMar 2021MAHINDRA XYLO  4.5User rating“I was in need of a second-hand SUV formy family and found an excellent dealon a Mahindra Xylo through... read more... read moreValue for money : Experience :Ease of process :Eklavya BansalChennaiMar 2021MARUTI SUZUKI CIAZ  5User rating“My MARUTI SUZUKI CIAZ is amazing! Ipurchased it from CARS24, and theywere very helpful througho... read more... read moreValue for money : Experience :Ease of process :Eklavya AggarwalChennaiMar 2021MAHINDRA XYLO  5User rating“I recently purchased a used MahindraXylo from CARS24 and I am very happywith my purchase. The deal... read more... read moreValue for money : Experience :Ease of process :Dharam GargChennaiMar 2021TOYOTA QUALIS  4.5User rating“I bought my Toyota Qualis from CARS24recently. I was impressed with thefriendly and professional se... read more... read moreValue for money : Experience :Ease of process :Dharam GoenkaChennaiMar 2021TOYOTA ETIOS  4.5User rating“The experience of buying mysecond-hand Toyota Etios throughCARS24 was an absolute pl... read more... read moreValue for money : Experience :Ease of process :Eklavya GroverChennaiFeb 2021Audi A6  4.5User rating“The team at CARS24 was fantastic,pleasant, and understanding. Theyworked with me to find the ... read more... read moreValue for money : Experience :Ease of process :Dharam AhluwaliaBengaluruFeb 2021Audi A6  5User rating“I decided to buy a used Audi S6 fromCARS24. It was a great experience! Thesales manager was very hel... read more... read moreValue for money : Experience :Ease of process :Parashiv RaoBengaluruFeb 2021Tata Nano  4User rating“Great service! CARS24 arranged for myused Tata Nano to be delivered to me. Igot a good deal, and the N... read more... read moreValue for money : Experience :Ease of process :Debeena ChoudhuryChennaiMar 2021Tata Nano  4.5User rating“The staff at CARS24 are extremelyhelpful and friendly. In fact, the wholeprocess of buying the Tata ... read more... read moreValue for money : Experience :Ease of process :Anoushka GangulyMumbaiMar 2021Tata Sumo  4.5User rating“Excellent service from CARS24! Theirwebsite is simple and easy to use, andthere is a wide variety of ve... read more... read moreValue for money : Experience :Ease of process :Harsh ChaddhaChennaiMar 2021Volkswagen Passat  4.5User rating“Great service from a great team atCARS24! I was thrilled when I found myVolkswagen Passat on their ... read more... read moreValue for money : Experience :Ease of process : NextFREQUENTLY ASKED QUESTIONS FOR USED CARS IN CHENNAIHow many second hand cars are available in Chennai?578 used cars are available in Chennai of popular brands like Maruti Suzuki, Hyundai, Honda & moreWhat are the most popular brands available for 2nd hand cars in Chennai?CARS24 has a wide inventory of all brands including Maruti Suzuki, Hyundai, Honda & more. Find the best second hand car in Chennai of your choice on CARS24.What will be the starting price of an old car in Chennai?The starting price of a used car in Chennai is Rs. ₹1,00,000.What body types are available for 2nd hand cars in Chennai?Used cars in Chennai are available from every segment, be it Hatchback, Sedan, SUV.Can I buy used cars online at CARS24 in Chennai?Of Course yes, you can buy used cars online in Chennai from CARS24. You can find thousands of quality second hand cars for sale on our website/app that can be bought at the click of a button & delivered to your doorstep anywhere in ChennaiWhat to check before buying a second hand car in Chennai?Important things to check  before buying a second hand car in Chennai are:Source: Buying a car from a trusted source is important to make sure the car is in the exact condition as stated & also to deal with any post sale related issues.Condition: Ensure the car is non-accidental & does not have any structural damage. We use a 140 point check to make sure every car we sell is in top condition.Age: Buying a used car that is very old can lead to problems like expensive maintenance costs and scarcity of spare parts. A three to five year old car should be an ideal buy,Car Documents: Verification of vehicle documents like Registration Certificate (RC), Insurance & PUC is very important. Also ensure the car is not under loan (hypothecated), there are no traffic challans or any legal issues with it.Certified or Not: Certified used cars come with warranty and are refurbished to as good as new to protect buyers from unforeseen repair & maintenance cost.Where can I buy used cars in Chennai?You can buy used cars in Chennai from Cars24. Visit our website, book the car of your choice & get it delivered to your home.How can I check a second hand car in Chennai?You can check second hand cars in Chennai using conventional & time consuming buying methods like classified, dealers etc. CARS24 brings you a virtual showroom experience at your fingertips using 360 view. You can check multiple cars for sale in minutes and buy one from the comfort of your couch. We’ll deliver the car anywhere in ChennaiKEEP IN TOUCHEXPERIENCE CARS24 APP ON MOBILEPowered by CARS24® 2022 www.cars24.comAll rights reservedUSEFUL LINKSContact UsAbout UsPrivacy PolicyTerms and ConditionsFAQSitemapTestimonialsBlogBranchesWe're Hiring!Become Our PartnerNeed a LoanRC Transfer StatusCARS24 FinanceCARS24 Franchise PartnersInvestorsTop BrandsMaruti SuzukiHyundaiHondaTataToyotaChevroletFordMahindraSkodaVolkswagenNissanRenaultFiatMercedes BenzAudiTOP CITIESNew DelhiNoidaGurgaonMumbaiPuneBengaluruHyderabadChennaiKolkataAhmedabadPOPULAR SEARCHESCARS24 PricingSell Used CarVehicle Ownership TransferUsed Car ValuationNeed Help?\\n\\n\\n\\n\\n\\n\\n\\n\\n\\n\\n\\n\\n\\n\\n\\n\\n\\n\\n\\n\\n\\n\\n\\n\\nHey! How can I help you today? \""
      ]
     },
     "execution_count": 3,
     "metadata": {},
     "output_type": "execute_result"
    }
   ],
   "source": [
    "soup.text"
   ]
  },
  {
   "cell_type": "markdown",
   "id": "bb53349c",
   "metadata": {},
   "source": [
    "**Creating a list of the names of cars and prices of cars**"
   ]
  },
  {
   "cell_type": "code",
   "execution_count": 4,
   "id": "250c3a64",
   "metadata": {},
   "outputs": [],
   "source": [
    "car_name =[]\n",
    "car_price=[]"
   ]
  },
  {
   "cell_type": "markdown",
   "id": "a72c0d11",
   "metadata": {},
   "source": [
    "**Extracting the container of each car and then extracting each name and price of the car**"
   ]
  },
  {
   "cell_type": "code",
   "execution_count": 5,
   "id": "3edccb79",
   "metadata": {},
   "outputs": [
    {
     "name": "stdout",
     "output_type": "stream",
     "text": [
      "Extracted Successfully\n"
     ]
    }
   ],
   "source": [
    "for car_tag in soup.find_all('div', class_='col-4'):  \n",
    "\n",
    "    \n",
    "    car_name=[score.get_text()for score in soup.find_all(name=\"h2\", class_=\"_3FpCg\")]\n",
    "    \n",
    "    car_price=[score.get_text() for score in soup.find_all(name=\"div\", class_=\"_7udZZ\")]\n",
    "\n",
    "print(\"Extracted Successfully\")"
   ]
  },
  {
   "cell_type": "code",
   "execution_count": 6,
   "id": "8aa1b115",
   "metadata": {},
   "outputs": [],
   "source": [
    "#car_model=[]\n",
    "#car_info=[]\n",
    "\n",
    "#for car_tag in soup.find_all('div', class_='col-4'):  \n",
    "\n",
    "    # car_model=[score.get_text() for score in soup.find_all(name=\"p\", class_=\"cvakB\")]\n",
    "    \n",
    "    #car_info=[score.get_text() for score in soup.find_all(name=\"ul\", class_=\"bVR0c\") ]"
   ]
  },
  {
   "cell_type": "markdown",
   "id": "ce550348",
   "metadata": {},
   "source": [
    "**Extracting wheather the car is Manual Or Automatic**"
   ]
  },
  {
   "cell_type": "code",
   "execution_count": 7,
   "id": "5fff8c82",
   "metadata": {},
   "outputs": [
    {
     "name": "stdout",
     "output_type": "stream",
     "text": [
      "Extracted Successfully\n"
     ]
    }
   ],
   "source": [
    "car_model_tag = soup.find_all(name=\"p\", class_=\"cvakB\")\n",
    "\n",
    "car_model = [ma.find_all(name='span')[0].text for ma in car_model_tag]  #  ma stand for manual automatic\n",
    "\n",
    "car_model = [nan if nan.replace(' ','') else None for nan in car_model ] # nan stands for None values in list\n",
    "\n",
    "print(\"Extracted Successfully\")"
   ]
  },
  {
   "cell_type": "markdown",
   "id": "5f19035b",
   "metadata": {},
   "source": [
    "**Extracting the car's link**"
   ]
  },
  {
   "cell_type": "code",
   "execution_count": 8,
   "id": "6caf9fdf",
   "metadata": {},
   "outputs": [
    {
     "name": "stdout",
     "output_type": "stream",
     "text": [
      "Extracted Successfully\n"
     ]
    }
   ],
   "source": [
    "car_link=[]\n",
    "car_tag=soup.find_all(name=\"a\", class_=\"_9Ue0B\")\n",
    "for i in car_tag:\n",
    "    link=i.get(\"href\")\n",
    "    car_link.append(link)   \n",
    "    \n",
    "print(\"Extracted Successfully\")"
   ]
  },
  {
   "cell_type": "markdown",
   "id": "3d303981",
   "metadata": {},
   "source": [
    "**Extracting the car's Kilometers, How many km the car has already covered**"
   ]
  },
  {
   "cell_type": "code",
   "execution_count": 9,
   "id": "42f41e33",
   "metadata": {},
   "outputs": [
    {
     "name": "stdout",
     "output_type": "stream",
     "text": [
      "Extracted Successfully\n"
     ]
    }
   ],
   "source": [
    "km=[]\n",
    "for car_tag in soup.find_all('ul', class_='bVR0c'): \n",
    "    for i in car_tag.find_all(name=\"li\")[0]:\n",
    "        km.append(i)\n",
    "        \n",
    "print(\"Extracted Successfully\")"
   ]
  },
  {
   "cell_type": "markdown",
   "id": "72bc54d7",
   "metadata": {},
   "source": [
    "**Extracting the car's Owner, is the owner 1'st or 2'nd**"
   ]
  },
  {
   "cell_type": "code",
   "execution_count": 10,
   "id": "d94671cf",
   "metadata": {},
   "outputs": [
    {
     "name": "stdout",
     "output_type": "stream",
     "text": [
      "Extracted Successfully\n"
     ]
    }
   ],
   "source": [
    "owner=[]\n",
    "for car_tag in soup.find_all('ul', class_='bVR0c'): \n",
    "    for i in car_tag.find_all(name=\"li\")[1]:\n",
    "        owner.append(i)\n",
    "    \n",
    "print(\"Extracted Successfully\")"
   ]
  },
  {
   "cell_type": "markdown",
   "id": "2b10fec7",
   "metadata": {},
   "source": [
    "**Extracting the car's type, is the car Petrol or Diesal**"
   ]
  },
  {
   "cell_type": "code",
   "execution_count": 11,
   "id": "57581958",
   "metadata": {},
   "outputs": [
    {
     "name": "stdout",
     "output_type": "stream",
     "text": [
      "Extracted Successfully\n"
     ]
    }
   ],
   "source": [
    "ctype=[]\n",
    "for car_tag in soup.find_all('ul', class_='bVR0c'): \n",
    "    for i in car_tag.find_all(name=\"li\")[2]:\n",
    "        ctype.append(i)\n",
    "    \n",
    "print(\"Extracted Successfully\")"
   ]
  },
  {
   "cell_type": "markdown",
   "id": "26ef6595",
   "metadata": {},
   "source": [
    "**Checking the length of all list**"
   ]
  },
  {
   "cell_type": "code",
   "execution_count": 12,
   "id": "6d40fc5d",
   "metadata": {},
   "outputs": [
    {
     "name": "stdout",
     "output_type": "stream",
     "text": [
      "578\n",
      "578\n",
      "578\n",
      "578\n",
      "578\n",
      "578\n",
      "578\n"
     ]
    }
   ],
   "source": [
    "print(len(car_link))\n",
    "print(len(car_name))\n",
    "print(len(car_model))\n",
    "print(len(car_price))\n",
    "print(len(km))\n",
    "print(len(owner))\n",
    "print(len(ctype))\n",
    "#print(len(car_info))"
   ]
  },
  {
   "cell_type": "markdown",
   "id": "49c8f035",
   "metadata": {},
   "source": [
    "**Creating a Dictionary with the lists we have created above**"
   ]
  },
  {
   "cell_type": "code",
   "execution_count": 13,
   "id": "f4a9594e",
   "metadata": {},
   "outputs": [],
   "source": [
    "d={'Car Name':car_name,'Car model':car_model,'Car Price':car_price,'KM':km,'Owner':owner,'Car Type':ctype,'Car link':car_link}"
   ]
  },
  {
   "cell_type": "markdown",
   "id": "5bce7e3c",
   "metadata": {},
   "source": [
    "<h2>Creating a Dataframe using Pandas</h2>"
   ]
  },
  {
   "cell_type": "code",
   "execution_count": 14,
   "id": "ba4a6e71",
   "metadata": {
    "scrolled": true
   },
   "outputs": [
    {
     "data": {
      "text/html": [
       "<div>\n",
       "<style scoped>\n",
       "    .dataframe tbody tr th:only-of-type {\n",
       "        vertical-align: middle;\n",
       "    }\n",
       "\n",
       "    .dataframe tbody tr th {\n",
       "        vertical-align: top;\n",
       "    }\n",
       "\n",
       "    .dataframe thead th {\n",
       "        text-align: right;\n",
       "    }\n",
       "</style>\n",
       "<table border=\"1\" class=\"dataframe\">\n",
       "  <thead>\n",
       "    <tr style=\"text-align: right;\">\n",
       "      <th></th>\n",
       "      <th>Car Name</th>\n",
       "      <th>Car model</th>\n",
       "      <th>Car Price</th>\n",
       "      <th>KM</th>\n",
       "      <th>Owner</th>\n",
       "      <th>Car Type</th>\n",
       "      <th>Car link</th>\n",
       "    </tr>\n",
       "  </thead>\n",
       "  <tbody>\n",
       "    <tr>\n",
       "      <th>0</th>\n",
       "      <td>2012 Volkswagen Vento</td>\n",
       "      <td>Manual</td>\n",
       "      <td>₹5,03,799</td>\n",
       "      <td>54,460 km</td>\n",
       "      <td>1st Owner</td>\n",
       "      <td>Diesel</td>\n",
       "      <td>https://www.cars24.com/buy-used-volkswagen-ven...</td>\n",
       "    </tr>\n",
       "    <tr>\n",
       "      <th>1</th>\n",
       "      <td>2021 Hyundai Creta</td>\n",
       "      <td>Manual</td>\n",
       "      <td>₹13,47,099</td>\n",
       "      <td>12,419 km</td>\n",
       "      <td>1st Owner</td>\n",
       "      <td>Diesel</td>\n",
       "      <td>https://www.cars24.com/buy-used-hyundai-creta-...</td>\n",
       "    </tr>\n",
       "    <tr>\n",
       "      <th>2</th>\n",
       "      <td>2021 Tata Harrier</td>\n",
       "      <td>Manual</td>\n",
       "      <td>₹20,91,999</td>\n",
       "      <td>3,422 km</td>\n",
       "      <td>1st Owner</td>\n",
       "      <td>Diesel</td>\n",
       "      <td>https://www.cars24.com/buy-used-tata-harrier-2...</td>\n",
       "    </tr>\n",
       "    <tr>\n",
       "      <th>3</th>\n",
       "      <td>2012 Toyota Etios Liva</td>\n",
       "      <td>Manual</td>\n",
       "      <td>₹4,12,399</td>\n",
       "      <td>86,154 km</td>\n",
       "      <td>1st Owner</td>\n",
       "      <td>Diesel</td>\n",
       "      <td>https://www.cars24.com/buy-used-toyota-etios-l...</td>\n",
       "    </tr>\n",
       "    <tr>\n",
       "      <th>4</th>\n",
       "      <td>2019 Maruti Ertiga</td>\n",
       "      <td>Manual</td>\n",
       "      <td>₹9,81,499</td>\n",
       "      <td>41,054 km</td>\n",
       "      <td>2nd Owner</td>\n",
       "      <td>Petrol</td>\n",
       "      <td>https://www.cars24.com/buy-used-maruti-ertiga-...</td>\n",
       "    </tr>\n",
       "  </tbody>\n",
       "</table>\n",
       "</div>"
      ],
      "text/plain": [
       "                 Car Name Car model   Car Price         KM      Owner  \\\n",
       "0   2012 Volkswagen Vento    Manual   ₹5,03,799  54,460 km  1st Owner   \n",
       "1      2021 Hyundai Creta    Manual  ₹13,47,099  12,419 km  1st Owner   \n",
       "2       2021 Tata Harrier    Manual  ₹20,91,999   3,422 km  1st Owner   \n",
       "3  2012 Toyota Etios Liva    Manual   ₹4,12,399  86,154 km  1st Owner   \n",
       "4      2019 Maruti Ertiga    Manual   ₹9,81,499  41,054 km  2nd Owner   \n",
       "\n",
       "  Car Type                                           Car link  \n",
       "0   Diesel  https://www.cars24.com/buy-used-volkswagen-ven...  \n",
       "1   Diesel  https://www.cars24.com/buy-used-hyundai-creta-...  \n",
       "2   Diesel  https://www.cars24.com/buy-used-tata-harrier-2...  \n",
       "3   Diesel  https://www.cars24.com/buy-used-toyota-etios-l...  \n",
       "4   Petrol  https://www.cars24.com/buy-used-maruti-ertiga-...  "
      ]
     },
     "execution_count": 14,
     "metadata": {},
     "output_type": "execute_result"
    }
   ],
   "source": [
    "df = pd.DataFrame(d)\n",
    "df.head()"
   ]
  },
  {
   "cell_type": "markdown",
   "id": "5439af23",
   "metadata": {},
   "source": [
    "**The 'Car Name' column has year, brand, car name so splitting the column car name and extracting year from it and storing 'Year' as a new column in Dataframe df**"
   ]
  },
  {
   "cell_type": "code",
   "execution_count": 15,
   "id": "de9f07d5",
   "metadata": {},
   "outputs": [
    {
     "data": {
      "text/plain": [
       "0    2012\n",
       "1    2021\n",
       "2    2021\n",
       "3    2012\n",
       "4    2019\n",
       "Name: Year, dtype: object"
      ]
     },
     "execution_count": 15,
     "metadata": {},
     "output_type": "execute_result"
    }
   ],
   "source": [
    "df['Car Name'].str.split(expand=True)\n",
    "Cyear=df['Car Name'].str.extract(r'(?P<Year>\\w+)', expand=True)\n",
    "df['Year']=Cyear\n",
    "df['Year'].head()"
   ]
  },
  {
   "cell_type": "markdown",
   "id": "5454b0dc",
   "metadata": {},
   "source": [
    "**Splitting the Column 'Car Name' and extracting brand from it and storing 'Brand' as a new column in Dataframe df**"
   ]
  },
  {
   "cell_type": "code",
   "execution_count": 16,
   "id": "7df2c8e7",
   "metadata": {},
   "outputs": [
    {
     "data": {
      "text/plain": [
       "0    Volkswagen\n",
       "1       Hyundai\n",
       "2          Tata\n",
       "3        Toyota\n",
       "4        Maruti\n",
       "Name: Brand, dtype: object"
      ]
     },
     "execution_count": 16,
     "metadata": {},
     "output_type": "execute_result"
    }
   ],
   "source": [
    "s=df['Car Name'].str.split(expand=True)\n",
    "s.drop(columns=s.columns[0], axis=1, inplace=True)\n",
    "df['Brand']=s[1]\n",
    "df['Brand'].head()"
   ]
  },
  {
   "cell_type": "markdown",
   "id": "b1fbcd38",
   "metadata": {},
   "source": [
    "**Splitting the Column 'Car Name' and extracting Car Name itself from it and storing 'Car Name' as a new column in Dataframe df**"
   ]
  },
  {
   "cell_type": "code",
   "execution_count": 17,
   "id": "aee797cf",
   "metadata": {},
   "outputs": [],
   "source": [
    "a=df['Car Name'].str.split(expand=True)\n",
    "\n",
    "b=a.drop([0, 1], axis = 1)\n",
    "\n",
    "c=b.fillna(\"\")\n",
    "\n",
    "d= c[2]+ \" \" + c[3]+ \" \" +c[4] \n",
    "df['Car Name'] =d"
   ]
  },
  {
   "cell_type": "code",
   "execution_count": 18,
   "id": "c5fe6385",
   "metadata": {},
   "outputs": [
    {
     "data": {
      "text/html": [
       "<div>\n",
       "<style scoped>\n",
       "    .dataframe tbody tr th:only-of-type {\n",
       "        vertical-align: middle;\n",
       "    }\n",
       "\n",
       "    .dataframe tbody tr th {\n",
       "        vertical-align: top;\n",
       "    }\n",
       "\n",
       "    .dataframe thead th {\n",
       "        text-align: right;\n",
       "    }\n",
       "</style>\n",
       "<table border=\"1\" class=\"dataframe\">\n",
       "  <thead>\n",
       "    <tr style=\"text-align: right;\">\n",
       "      <th></th>\n",
       "      <th>Car Name</th>\n",
       "      <th>Car model</th>\n",
       "      <th>Car Price</th>\n",
       "      <th>KM</th>\n",
       "      <th>Owner</th>\n",
       "      <th>Car Type</th>\n",
       "      <th>Car link</th>\n",
       "      <th>Year</th>\n",
       "      <th>Brand</th>\n",
       "    </tr>\n",
       "  </thead>\n",
       "  <tbody>\n",
       "    <tr>\n",
       "      <th>0</th>\n",
       "      <td>Vento</td>\n",
       "      <td>Manual</td>\n",
       "      <td>₹5,03,799</td>\n",
       "      <td>54,460 km</td>\n",
       "      <td>1st Owner</td>\n",
       "      <td>Diesel</td>\n",
       "      <td>https://www.cars24.com/buy-used-volkswagen-ven...</td>\n",
       "      <td>2012</td>\n",
       "      <td>Volkswagen</td>\n",
       "    </tr>\n",
       "    <tr>\n",
       "      <th>1</th>\n",
       "      <td>Creta</td>\n",
       "      <td>Manual</td>\n",
       "      <td>₹13,47,099</td>\n",
       "      <td>12,419 km</td>\n",
       "      <td>1st Owner</td>\n",
       "      <td>Diesel</td>\n",
       "      <td>https://www.cars24.com/buy-used-hyundai-creta-...</td>\n",
       "      <td>2021</td>\n",
       "      <td>Hyundai</td>\n",
       "    </tr>\n",
       "    <tr>\n",
       "      <th>2</th>\n",
       "      <td>Harrier</td>\n",
       "      <td>Manual</td>\n",
       "      <td>₹20,91,999</td>\n",
       "      <td>3,422 km</td>\n",
       "      <td>1st Owner</td>\n",
       "      <td>Diesel</td>\n",
       "      <td>https://www.cars24.com/buy-used-tata-harrier-2...</td>\n",
       "      <td>2021</td>\n",
       "      <td>Tata</td>\n",
       "    </tr>\n",
       "    <tr>\n",
       "      <th>3</th>\n",
       "      <td>Etios Liva</td>\n",
       "      <td>Manual</td>\n",
       "      <td>₹4,12,399</td>\n",
       "      <td>86,154 km</td>\n",
       "      <td>1st Owner</td>\n",
       "      <td>Diesel</td>\n",
       "      <td>https://www.cars24.com/buy-used-toyota-etios-l...</td>\n",
       "      <td>2012</td>\n",
       "      <td>Toyota</td>\n",
       "    </tr>\n",
       "    <tr>\n",
       "      <th>4</th>\n",
       "      <td>Ertiga</td>\n",
       "      <td>Manual</td>\n",
       "      <td>₹9,81,499</td>\n",
       "      <td>41,054 km</td>\n",
       "      <td>2nd Owner</td>\n",
       "      <td>Petrol</td>\n",
       "      <td>https://www.cars24.com/buy-used-maruti-ertiga-...</td>\n",
       "      <td>2019</td>\n",
       "      <td>Maruti</td>\n",
       "    </tr>\n",
       "  </tbody>\n",
       "</table>\n",
       "</div>"
      ],
      "text/plain": [
       "      Car Name Car model   Car Price         KM      Owner Car Type  \\\n",
       "0      Vento      Manual   ₹5,03,799  54,460 km  1st Owner   Diesel   \n",
       "1      Creta      Manual  ₹13,47,099  12,419 km  1st Owner   Diesel   \n",
       "2    Harrier      Manual  ₹20,91,999   3,422 km  1st Owner   Diesel   \n",
       "3  Etios Liva     Manual   ₹4,12,399  86,154 km  1st Owner   Diesel   \n",
       "4     Ertiga      Manual   ₹9,81,499  41,054 km  2nd Owner   Petrol   \n",
       "\n",
       "                                            Car link  Year       Brand  \n",
       "0  https://www.cars24.com/buy-used-volkswagen-ven...  2012  Volkswagen  \n",
       "1  https://www.cars24.com/buy-used-hyundai-creta-...  2021     Hyundai  \n",
       "2  https://www.cars24.com/buy-used-tata-harrier-2...  2021        Tata  \n",
       "3  https://www.cars24.com/buy-used-toyota-etios-l...  2012      Toyota  \n",
       "4  https://www.cars24.com/buy-used-maruti-ertiga-...  2019      Maruti  "
      ]
     },
     "execution_count": 18,
     "metadata": {},
     "output_type": "execute_result"
    }
   ],
   "source": [
    "df.head()"
   ]
  },
  {
   "cell_type": "markdown",
   "id": "aca64c21",
   "metadata": {},
   "source": [
    "**Adding City Column with City as Chennai**"
   ]
  },
  {
   "cell_type": "code",
   "execution_count": 19,
   "id": "176bf80c",
   "metadata": {},
   "outputs": [
    {
     "data": {
      "text/plain": [
       "578"
      ]
     },
     "execution_count": 19,
     "metadata": {},
     "output_type": "execute_result"
    }
   ],
   "source": [
    "df['City']='Chennai'\n",
    "\n",
    "len(df['City'])"
   ]
  },
  {
   "cell_type": "code",
   "execution_count": 20,
   "id": "1fa84523",
   "metadata": {},
   "outputs": [
    {
     "data": {
      "text/html": [
       "<div>\n",
       "<style scoped>\n",
       "    .dataframe tbody tr th:only-of-type {\n",
       "        vertical-align: middle;\n",
       "    }\n",
       "\n",
       "    .dataframe tbody tr th {\n",
       "        vertical-align: top;\n",
       "    }\n",
       "\n",
       "    .dataframe thead th {\n",
       "        text-align: right;\n",
       "    }\n",
       "</style>\n",
       "<table border=\"1\" class=\"dataframe\">\n",
       "  <thead>\n",
       "    <tr style=\"text-align: right;\">\n",
       "      <th></th>\n",
       "      <th>Car Name</th>\n",
       "      <th>Car model</th>\n",
       "      <th>Car Price</th>\n",
       "      <th>KM</th>\n",
       "      <th>Owner</th>\n",
       "      <th>Car Type</th>\n",
       "      <th>Car link</th>\n",
       "      <th>Year</th>\n",
       "      <th>Brand</th>\n",
       "      <th>City</th>\n",
       "    </tr>\n",
       "  </thead>\n",
       "  <tbody>\n",
       "    <tr>\n",
       "      <th>0</th>\n",
       "      <td>Vento</td>\n",
       "      <td>Manual</td>\n",
       "      <td>₹5,03,799</td>\n",
       "      <td>54,460 km</td>\n",
       "      <td>1st Owner</td>\n",
       "      <td>Diesel</td>\n",
       "      <td>https://www.cars24.com/buy-used-volkswagen-ven...</td>\n",
       "      <td>2012</td>\n",
       "      <td>Volkswagen</td>\n",
       "      <td>Chennai</td>\n",
       "    </tr>\n",
       "    <tr>\n",
       "      <th>1</th>\n",
       "      <td>Creta</td>\n",
       "      <td>Manual</td>\n",
       "      <td>₹13,47,099</td>\n",
       "      <td>12,419 km</td>\n",
       "      <td>1st Owner</td>\n",
       "      <td>Diesel</td>\n",
       "      <td>https://www.cars24.com/buy-used-hyundai-creta-...</td>\n",
       "      <td>2021</td>\n",
       "      <td>Hyundai</td>\n",
       "      <td>Chennai</td>\n",
       "    </tr>\n",
       "    <tr>\n",
       "      <th>2</th>\n",
       "      <td>Harrier</td>\n",
       "      <td>Manual</td>\n",
       "      <td>₹20,91,999</td>\n",
       "      <td>3,422 km</td>\n",
       "      <td>1st Owner</td>\n",
       "      <td>Diesel</td>\n",
       "      <td>https://www.cars24.com/buy-used-tata-harrier-2...</td>\n",
       "      <td>2021</td>\n",
       "      <td>Tata</td>\n",
       "      <td>Chennai</td>\n",
       "    </tr>\n",
       "    <tr>\n",
       "      <th>3</th>\n",
       "      <td>Etios Liva</td>\n",
       "      <td>Manual</td>\n",
       "      <td>₹4,12,399</td>\n",
       "      <td>86,154 km</td>\n",
       "      <td>1st Owner</td>\n",
       "      <td>Diesel</td>\n",
       "      <td>https://www.cars24.com/buy-used-toyota-etios-l...</td>\n",
       "      <td>2012</td>\n",
       "      <td>Toyota</td>\n",
       "      <td>Chennai</td>\n",
       "    </tr>\n",
       "    <tr>\n",
       "      <th>4</th>\n",
       "      <td>Ertiga</td>\n",
       "      <td>Manual</td>\n",
       "      <td>₹9,81,499</td>\n",
       "      <td>41,054 km</td>\n",
       "      <td>2nd Owner</td>\n",
       "      <td>Petrol</td>\n",
       "      <td>https://www.cars24.com/buy-used-maruti-ertiga-...</td>\n",
       "      <td>2019</td>\n",
       "      <td>Maruti</td>\n",
       "      <td>Chennai</td>\n",
       "    </tr>\n",
       "    <tr>\n",
       "      <th>...</th>\n",
       "      <td>...</td>\n",
       "      <td>...</td>\n",
       "      <td>...</td>\n",
       "      <td>...</td>\n",
       "      <td>...</td>\n",
       "      <td>...</td>\n",
       "      <td>...</td>\n",
       "      <td>...</td>\n",
       "      <td>...</td>\n",
       "      <td>...</td>\n",
       "    </tr>\n",
       "    <tr>\n",
       "      <th>573</th>\n",
       "      <td>Dzire</td>\n",
       "      <td>Automatic</td>\n",
       "      <td>₹6,28,399</td>\n",
       "      <td>93,752 km</td>\n",
       "      <td>1st Owner</td>\n",
       "      <td>Diesel</td>\n",
       "      <td>https://www.cars24.com/buy-used-maruti-dzire-2...</td>\n",
       "      <td>2017</td>\n",
       "      <td>Maruti</td>\n",
       "      <td>Chennai</td>\n",
       "    </tr>\n",
       "    <tr>\n",
       "      <th>574</th>\n",
       "      <td>Wagon R 1.0</td>\n",
       "      <td>Manual</td>\n",
       "      <td>₹3,59,699</td>\n",
       "      <td>76,732 km</td>\n",
       "      <td>1st Owner</td>\n",
       "      <td>Petrol</td>\n",
       "      <td>https://www.cars24.com/buy-used-maruti-wagon-r...</td>\n",
       "      <td>2015</td>\n",
       "      <td>Maruti</td>\n",
       "      <td>Chennai</td>\n",
       "    </tr>\n",
       "    <tr>\n",
       "      <th>575</th>\n",
       "      <td>Alto K10</td>\n",
       "      <td>Manual</td>\n",
       "      <td>₹3,86,399</td>\n",
       "      <td>15,708 km</td>\n",
       "      <td>1st Owner</td>\n",
       "      <td>Petrol</td>\n",
       "      <td>https://www.cars24.com/buy-used-maruti-alto-k1...</td>\n",
       "      <td>2016</td>\n",
       "      <td>Maruti</td>\n",
       "      <td>Chennai</td>\n",
       "    </tr>\n",
       "    <tr>\n",
       "      <th>576</th>\n",
       "      <td>Duster</td>\n",
       "      <td>Manual</td>\n",
       "      <td>₹6,14,299</td>\n",
       "      <td>20,916 km</td>\n",
       "      <td>1st Owner</td>\n",
       "      <td>Petrol</td>\n",
       "      <td>https://www.cars24.com/buy-used-renault-duster...</td>\n",
       "      <td>2016</td>\n",
       "      <td>Renault</td>\n",
       "      <td>Chennai</td>\n",
       "    </tr>\n",
       "    <tr>\n",
       "      <th>577</th>\n",
       "      <td>Swift</td>\n",
       "      <td>Manual</td>\n",
       "      <td>₹4,98,099</td>\n",
       "      <td>36,501 km</td>\n",
       "      <td>2nd Owner</td>\n",
       "      <td>Petrol</td>\n",
       "      <td>https://www.cars24.com/buy-used-maruti-swift-2...</td>\n",
       "      <td>2020</td>\n",
       "      <td>Maruti</td>\n",
       "      <td>Chennai</td>\n",
       "    </tr>\n",
       "  </tbody>\n",
       "</table>\n",
       "<p>578 rows × 10 columns</p>\n",
       "</div>"
      ],
      "text/plain": [
       "        Car Name  Car model   Car Price         KM      Owner Car Type  \\\n",
       "0        Vento       Manual   ₹5,03,799  54,460 km  1st Owner   Diesel   \n",
       "1        Creta       Manual  ₹13,47,099  12,419 km  1st Owner   Diesel   \n",
       "2      Harrier       Manual  ₹20,91,999   3,422 km  1st Owner   Diesel   \n",
       "3    Etios Liva      Manual   ₹4,12,399  86,154 km  1st Owner   Diesel   \n",
       "4       Ertiga       Manual   ₹9,81,499  41,054 km  2nd Owner   Petrol   \n",
       "..           ...        ...         ...        ...        ...      ...   \n",
       "573      Dzire    Automatic   ₹6,28,399  93,752 km  1st Owner   Diesel   \n",
       "574  Wagon R 1.0     Manual   ₹3,59,699  76,732 km  1st Owner   Petrol   \n",
       "575    Alto K10      Manual   ₹3,86,399  15,708 km  1st Owner   Petrol   \n",
       "576     Duster       Manual   ₹6,14,299  20,916 km  1st Owner   Petrol   \n",
       "577      Swift       Manual   ₹4,98,099  36,501 km  2nd Owner   Petrol   \n",
       "\n",
       "                                              Car link  Year       Brand  \\\n",
       "0    https://www.cars24.com/buy-used-volkswagen-ven...  2012  Volkswagen   \n",
       "1    https://www.cars24.com/buy-used-hyundai-creta-...  2021     Hyundai   \n",
       "2    https://www.cars24.com/buy-used-tata-harrier-2...  2021        Tata   \n",
       "3    https://www.cars24.com/buy-used-toyota-etios-l...  2012      Toyota   \n",
       "4    https://www.cars24.com/buy-used-maruti-ertiga-...  2019      Maruti   \n",
       "..                                                 ...   ...         ...   \n",
       "573  https://www.cars24.com/buy-used-maruti-dzire-2...  2017      Maruti   \n",
       "574  https://www.cars24.com/buy-used-maruti-wagon-r...  2015      Maruti   \n",
       "575  https://www.cars24.com/buy-used-maruti-alto-k1...  2016      Maruti   \n",
       "576  https://www.cars24.com/buy-used-renault-duster...  2016     Renault   \n",
       "577  https://www.cars24.com/buy-used-maruti-swift-2...  2020      Maruti   \n",
       "\n",
       "        City  \n",
       "0    Chennai  \n",
       "1    Chennai  \n",
       "2    Chennai  \n",
       "3    Chennai  \n",
       "4    Chennai  \n",
       "..       ...  \n",
       "573  Chennai  \n",
       "574  Chennai  \n",
       "575  Chennai  \n",
       "576  Chennai  \n",
       "577  Chennai  \n",
       "\n",
       "[578 rows x 10 columns]"
      ]
     },
     "execution_count": 20,
     "metadata": {},
     "output_type": "execute_result"
    }
   ],
   "source": [
    "df"
   ]
  },
  {
   "cell_type": "markdown",
   "id": "0bea7218",
   "metadata": {},
   "source": [
    "**Re-arranging the order of Columns**"
   ]
  },
  {
   "cell_type": "code",
   "execution_count": 21,
   "id": "8477a262",
   "metadata": {
    "scrolled": false
   },
   "outputs": [],
   "source": [
    "data=df.reindex(columns=['City','Year','Brand','Car Name','Car model','Car Price','KM','Owner','Car Type','Car link'])"
   ]
  },
  {
   "cell_type": "code",
   "execution_count": 22,
   "id": "665b8313",
   "metadata": {},
   "outputs": [
    {
     "data": {
      "text/html": [
       "<div>\n",
       "<style scoped>\n",
       "    .dataframe tbody tr th:only-of-type {\n",
       "        vertical-align: middle;\n",
       "    }\n",
       "\n",
       "    .dataframe tbody tr th {\n",
       "        vertical-align: top;\n",
       "    }\n",
       "\n",
       "    .dataframe thead th {\n",
       "        text-align: right;\n",
       "    }\n",
       "</style>\n",
       "<table border=\"1\" class=\"dataframe\">\n",
       "  <thead>\n",
       "    <tr style=\"text-align: right;\">\n",
       "      <th></th>\n",
       "      <th>City</th>\n",
       "      <th>Year</th>\n",
       "      <th>Brand</th>\n",
       "      <th>Car Name</th>\n",
       "      <th>Car model</th>\n",
       "      <th>Car Price</th>\n",
       "      <th>KM</th>\n",
       "      <th>Owner</th>\n",
       "      <th>Car Type</th>\n",
       "      <th>Car link</th>\n",
       "    </tr>\n",
       "  </thead>\n",
       "  <tbody>\n",
       "    <tr>\n",
       "      <th>0</th>\n",
       "      <td>Chennai</td>\n",
       "      <td>2012</td>\n",
       "      <td>Volkswagen</td>\n",
       "      <td>Vento</td>\n",
       "      <td>Manual</td>\n",
       "      <td>₹5,03,799</td>\n",
       "      <td>54,460 km</td>\n",
       "      <td>1st Owner</td>\n",
       "      <td>Diesel</td>\n",
       "      <td>https://www.cars24.com/buy-used-volkswagen-ven...</td>\n",
       "    </tr>\n",
       "    <tr>\n",
       "      <th>1</th>\n",
       "      <td>Chennai</td>\n",
       "      <td>2021</td>\n",
       "      <td>Hyundai</td>\n",
       "      <td>Creta</td>\n",
       "      <td>Manual</td>\n",
       "      <td>₹13,47,099</td>\n",
       "      <td>12,419 km</td>\n",
       "      <td>1st Owner</td>\n",
       "      <td>Diesel</td>\n",
       "      <td>https://www.cars24.com/buy-used-hyundai-creta-...</td>\n",
       "    </tr>\n",
       "    <tr>\n",
       "      <th>2</th>\n",
       "      <td>Chennai</td>\n",
       "      <td>2021</td>\n",
       "      <td>Tata</td>\n",
       "      <td>Harrier</td>\n",
       "      <td>Manual</td>\n",
       "      <td>₹20,91,999</td>\n",
       "      <td>3,422 km</td>\n",
       "      <td>1st Owner</td>\n",
       "      <td>Diesel</td>\n",
       "      <td>https://www.cars24.com/buy-used-tata-harrier-2...</td>\n",
       "    </tr>\n",
       "    <tr>\n",
       "      <th>3</th>\n",
       "      <td>Chennai</td>\n",
       "      <td>2012</td>\n",
       "      <td>Toyota</td>\n",
       "      <td>Etios Liva</td>\n",
       "      <td>Manual</td>\n",
       "      <td>₹4,12,399</td>\n",
       "      <td>86,154 km</td>\n",
       "      <td>1st Owner</td>\n",
       "      <td>Diesel</td>\n",
       "      <td>https://www.cars24.com/buy-used-toyota-etios-l...</td>\n",
       "    </tr>\n",
       "    <tr>\n",
       "      <th>4</th>\n",
       "      <td>Chennai</td>\n",
       "      <td>2019</td>\n",
       "      <td>Maruti</td>\n",
       "      <td>Ertiga</td>\n",
       "      <td>Manual</td>\n",
       "      <td>₹9,81,499</td>\n",
       "      <td>41,054 km</td>\n",
       "      <td>2nd Owner</td>\n",
       "      <td>Petrol</td>\n",
       "      <td>https://www.cars24.com/buy-used-maruti-ertiga-...</td>\n",
       "    </tr>\n",
       "  </tbody>\n",
       "</table>\n",
       "</div>"
      ],
      "text/plain": [
       "      City  Year       Brand     Car Name Car model   Car Price         KM  \\\n",
       "0  Chennai  2012  Volkswagen      Vento      Manual   ₹5,03,799  54,460 km   \n",
       "1  Chennai  2021     Hyundai      Creta      Manual  ₹13,47,099  12,419 km   \n",
       "2  Chennai  2021        Tata    Harrier      Manual  ₹20,91,999   3,422 km   \n",
       "3  Chennai  2012      Toyota  Etios Liva     Manual   ₹4,12,399  86,154 km   \n",
       "4  Chennai  2019      Maruti     Ertiga      Manual   ₹9,81,499  41,054 km   \n",
       "\n",
       "       Owner Car Type                                           Car link  \n",
       "0  1st Owner   Diesel  https://www.cars24.com/buy-used-volkswagen-ven...  \n",
       "1  1st Owner   Diesel  https://www.cars24.com/buy-used-hyundai-creta-...  \n",
       "2  1st Owner   Diesel  https://www.cars24.com/buy-used-tata-harrier-2...  \n",
       "3  1st Owner   Diesel  https://www.cars24.com/buy-used-toyota-etios-l...  \n",
       "4  2nd Owner   Petrol  https://www.cars24.com/buy-used-maruti-ertiga-...  "
      ]
     },
     "execution_count": 22,
     "metadata": {},
     "output_type": "execute_result"
    }
   ],
   "source": [
    "data.head()"
   ]
  },
  {
   "cell_type": "markdown",
   "id": "6d6c2814",
   "metadata": {},
   "source": [
    "**Storing the data as CSV in Given Path**"
   ]
  },
  {
   "cell_type": "code",
   "execution_count": 23,
   "id": "dd780771",
   "metadata": {
    "scrolled": true
   },
   "outputs": [],
   "source": [
    "path=\"D:\\Malhar H Jadhav\\Zep Intern\\Task 2\\Code and data\\Data\\Cars24_Chennai.csv\"\n",
    "data.to_csv(path, index=False)"
   ]
  },
  {
   "cell_type": "code",
   "execution_count": null,
   "id": "adb62bb4",
   "metadata": {},
   "outputs": [],
   "source": []
  }
 ],
 "metadata": {
  "kernelspec": {
   "display_name": "Python 3 (ipykernel)",
   "language": "python",
   "name": "python3"
  },
  "language_info": {
   "codemirror_mode": {
    "name": "ipython",
    "version": 3
   },
   "file_extension": ".py",
   "mimetype": "text/x-python",
   "name": "python",
   "nbconvert_exporter": "python",
   "pygments_lexer": "ipython3",
   "version": "3.9.7"
  }
 },
 "nbformat": 4,
 "nbformat_minor": 5
}
