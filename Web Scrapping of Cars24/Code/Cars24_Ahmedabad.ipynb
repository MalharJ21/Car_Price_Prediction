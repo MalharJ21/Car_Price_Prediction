{
 "cells": [
  {
   "cell_type": "markdown",
   "id": "a0647529",
   "metadata": {},
   "source": [
    "<h3>Importing the Libraries Required </h3>"
   ]
  },
  {
   "cell_type": "code",
   "execution_count": 1,
   "id": "0c5c40ca",
   "metadata": {},
   "outputs": [],
   "source": [
    "import urllib\n",
    "import time\n",
    "import json\n",
    "import numpy as np\n",
    "import pandas as pd\n",
    "from tqdm import tqdm\n",
    "from time import sleep\n",
    "from selenium import webdriver\n",
    "from selenium.webdriver.common.by import By\n",
    "from selenium.webdriver.support.ui import WebDriverWait\n",
    "from selenium.webdriver.support import expected_conditions as EC\n",
    "from selenium.common.exceptions import TimeoutException\n",
    "from bs4 import BeautifulSoup\n",
    "from selenium.common.exceptions import ElementClickInterceptedException\n",
    "from selenium.common.exceptions import NoSuchElementException\n"
   ]
  },
  {
   "cell_type": "markdown",
   "id": "e57b890a",
   "metadata": {},
   "source": [
    "<h3>Using Selenium For Auto Scrolling the Web-Page and Extracting the The Page Source</h3>"
   ]
  },
  {
   "cell_type": "code",
   "execution_count": 2,
   "id": "6c96f183",
   "metadata": {
    "scrolled": true
   },
   "outputs": [
    {
     "name": "stderr",
     "output_type": "stream",
     "text": [
      "C:\\Users\\jadha\\AppData\\Local\\Temp/ipykernel_18676/2345225817.py:1: DeprecationWarning: executable_path has been deprecated, please pass in a Service object\n",
      "  driver = webdriver.Chrome(executable_path=r'D:\\\\Malhar H Jadhav\\\\Devlopment\\\\chromedriver_win32\\\\chromedriver.exe')\n"
     ]
    }
   ],
   "source": [
    "driver = webdriver.Chrome(executable_path=r'D:\\\\Malhar H Jadhav\\\\Devlopment\\\\chromedriver_win32\\\\chromedriver.exe')\n",
    "driver.wait = WebDriverWait(driver, 5)\n",
    "driver.maximize_window()\n",
    "driver.get(\"https://www.cars24.com/buy-used-car?sort=P&storeCityId=1692&pinId=380001\")\n",
    "time.sleep(7)\n",
    "\n",
    "\n",
    "height = driver.execute_script(\"return document.documentElement.scrollHeight\")\n",
    "lastheight = 0\n",
    "while True:\n",
    "    if lastheight == height:\n",
    "        break\n",
    "    lastheight = height\n",
    "    driver.execute_script(\"window.scrollTo(0, \" + str(height) + \");\")\n",
    "    time.sleep(10)\n",
    "    height = driver.execute_script(\"return document.documentElement.scrollHeight\")\n",
    "    \n",
    "    \n",
    "# Using BeautifulSoup To Store the Page Source in Object Called Soup\n",
    "\n",
    "soup = BeautifulSoup(driver.page_source)\n",
    "driver.quit()"
   ]
  },
  {
   "cell_type": "markdown",
   "id": "9dbcafd3",
   "metadata": {},
   "source": [
    "<h3>Storing the page source in object called Soup and viewing the text</h3>"
   ]
  },
  {
   "cell_type": "code",
   "execution_count": 3,
   "id": "fe63b43f",
   "metadata": {},
   "outputs": [
    {
     "data": {
      "text/plain": [
       "\"\\n\\n\\n\\n\\n\\n\\n\\n\\n\\n\\nUsed Cars in Ahmedabad - Second Hand Cars in Ahmedabad for Sale\\nAhmedabad  Popular CitiesUsed cars in BengaluruPopular CarsUsed Hyundai carsUsed Renault carsUsed Mahindra carsUsed Toyota carsUsed Audi carsUsed Honda carsUsed Maruti carsUsed Tata carsUsed Ford carsUsed Skoda carsAll used cars in BengaluruUsed cars in ChennaiPopular CarsUsed Hyundai carsUsed Renault carsUsed Mahindra carsUsed Toyota carsUsed Audi carsUsed Honda carsUsed Maruti carsUsed Tata carsUsed Ford carsUsed Skoda carsAll used cars in ChennaiUsed cars in New DelhiPopular CarsUsed Hyundai carsUsed Renault carsUsed Mahindra carsUsed Toyota carsUsed Audi carsUsed Honda carsUsed Maruti carsUsed Tata carsUsed Ford carsUsed Skoda carsAll used cars in New DelhiUsed cars in MumbaiPopular CarsUsed Hyundai carsUsed Renault carsUsed Mahindra carsUsed Toyota carsUsed Audi carsUsed Honda carsUsed Maruti carsUsed Tata carsUsed Ford carsUsed Skoda carsAll used cars in MumbaiUsed cars in PunePopular CarsUsed Hyundai carsUsed Renault carsUsed Mahindra carsUsed Toyota carsUsed Audi carsUsed Honda carsUsed Maruti carsUsed Tata carsUsed Ford carsUsed Skoda carsAll used cars in PuneUsed cars in HyderabadPopular CarsUsed Hyundai carsUsed Renault carsUsed Mahindra carsUsed Toyota carsUsed Audi carsUsed Honda carsUsed Maruti carsUsed Tata carsUsed Ford carsUsed Skoda carsAll used cars in HyderabadUsed cars in KolkataPopular CarsUsed Hyundai carsUsed Renault carsUsed Mahindra carsUsed Toyota carsUsed Audi carsUsed Honda carsUsed Maruti carsUsed Tata carsUsed Ford carsUsed Skoda carsAll used cars in KolkataUsed cars in AhmedabadPopular CarsUsed Hyundai carsUsed Renault carsUsed Mahindra carsUsed Toyota carsUsed Audi carsUsed Honda carsUsed Maruti carsUsed Tata carsUsed Ford carsUsed Skoda carsAll used cars in AhmedabadUsed cars in JaipurPopular CarsUsed Hyundai carsUsed Renault carsUsed Mahindra carsUsed Toyota carsUsed Audi carsUsed Honda carsUsed Maruti carsUsed Tata carsUsed Ford carsUsed Skoda carsAll used cars in JaipurUsed cars in ChandigarhPopular CarsUsed Hyundai carsUsed Renault carsUsed Mahindra carsUsed Toyota carsUsed Audi carsUsed Honda carsUsed Maruti carsUsed Tata carsUsed Ford carsUsed Skoda carsAll used cars in ChandigarhBuy used carSell used carLoginRC Transfers StatusFAQBecome a partnerBuy Car: 9 AM - 9 PM1800 258 5656HomeUsed CarsAhmedabadFind your dream car with usSort By:Best Match  PriceModel YearKMs DrivenMake & ModelRTOMore FiltersUsed Cars in Ahmedabad2020 Maruti ErtigaZXI Plus SHVS Manual21,596 km2nd OwnerPetrol₹23,114/month₹10,39,099Zero downpayment2020 Maruti New  Wagon-RVXI 1.0 Manual3,586 km1st OwnerPetrol₹12,915/month₹5,80,599Zero downpayment2020 Maruti SwiftVXI Manual36,866 km1st OwnerPetrol₹13,118/month₹5,89,699Zero downpayment2014 Maruti Wagon R 1.0LXI Manual17,625 km1st OwnerPetrol₹7,212/month₹3,24,199Zero downpayment2020 KIA SELTOSHTK PLUS 1.5 PETROL Manual20,061 km1st OwnerPetrol₹26,622/month₹11,96,799Zero downpaymentFilter By Popular BrandMarutiHyundaiHondaTataToyota2019 Mahindra XUV500W7 FWD Manual57,552 km1st OwnerDiesel₹25,154/month₹11,30,799Zero downpayment2018 Maruti Alto 800LXI Manual6,531 km1st OwnerPetrol₹7,490/month₹3,36,699Zero downpayment2020 Volkswagen PoloCOMFORTLINE PLUS 1.0 Manual8,269 km1st OwnerPetrol₹16,078/month₹7,22,799Zero downpayment2018 Mahindra XUV500W9 Manual47,483 km2nd OwnerDiesel₹24,169/month₹10,86,499Zero downpayment2014 Honda CityVX CVT PETROL Automatic4,414 km1st OwnerPetrol₹16,065/month₹7,22,199Zero downpayment2020 Volkswagen PoloGT TSI AT 1.0 Automatic8,476 km2nd OwnerPetrol₹21,744/month₹9,77,499Zero downpaymentFilter By BudgetCars under 2 lakhCars between 2 lakh - 5 lakhCars between 5 lakh - 10 lakhCars above 10 lakh2019 Maruti SwiftVXI Manual46,384 km2nd OwnerPetrol₹12,541/month₹5,63,799Zero downpayment2021 KIA SONETHTX 1.0 IMT 10,170 km1st OwnerPetrol₹22,184/month₹9,97,299Zero downpayment2018 Maruti Alto 800LXI Manual6,118 km2nd OwnerPetrol₹7,490/month₹3,36,699Zero downpayment2021 Renault KigerRXZ AMT 1.0 DUAL TONE 4,126 km1st OwnerPetrol₹19,297/month₹8,67,499Zero downpayment2018 Renault Kwid1.0 RXT Opt Manual31,436 km1st OwnerPetrol₹8,024/month₹3,60,699Zero downpayment2018 Volkswagen PoloCOMFORTLINE 1.0 PETROL Manual26,980 km1st OwnerPetrol₹12,757/month₹5,73,499Zero downpaymentFilter By Fuel TypePetrolDieselCNGLPGElectricHybrid2019 Maruti CelerioZXI Manual58,517 km1st OwnerPetrol₹10,179/month₹4,57,599Zero downpayment2021 Skoda KUSHAQSTYLE 1.0TSI AT 14,232 km1st OwnerPetrol₹38,234/month₹17,18,799Zero downpayment2018 Renault Kwid1.0 RXT Opt Manual16,721 km1st OwnerPetrol₹8,493/month₹3,81,799Zero downpayment2016 Volkswagen PoloHIGHLINE1.2L PETROL Manual40,074 km1st OwnerPetrol₹12,359/month₹5,55,599Zero downpayment2020 Hyundai GRAND I10 NIOSSPORTZ PETROL Manual19,817 km1st OwnerPetrol₹15,269/month₹6,86,399Zero downpayment2021 Renault Kwid1.0 RXT Opt Manual13,258 km1st OwnerPetrol₹10,849/month₹4,87,699Zero downpaymentFilter By Body TypeHatchbackSedanSUVLuxury SedanLuxury SUV2021 Maruti BalenoZETA 1.2 K12 CVT Automatic3,195 km1st OwnerPetrol₹22,574/month₹10,14,799Zero downpayment2017 Toyota Etios LivaGD Manual58,134 km1st OwnerDiesel₹10,655/month₹4,78,999Zero downpayment2018 Mahindra XUV500W9 Manual1,15,157 km1st OwnerDiesel₹23,804/month₹10,70,099Zero downpayment2018 Maruti CelerioZXI Manual71,188 km2nd OwnerPetrol₹9,710/month₹4,36,499Zero downpayment12-Months Free Warranty!Free 12 months warranty on all cars to safeguard you from unforeseen repair and maintenance costsKNOW MORE2020 Hyundai NEW I20ASTA (O) 1.0 TURBO GDI AT Automatic12,542 km1st OwnerPetrol₹22,821/month₹10,25,899Zero downpayment2017 Hyundai Grand i10SPORTZ 1.2 KAPPA VTVT Manual7,807 km1st OwnerPetrol₹11,636/month₹5,23,099Zero downpayment2021 Mahindra TharLX PETROL AT 4WD Automatic3,624 km1st OwnerPetrol₹35,923/month₹16,14,899Zero downpayment2020 Renault KwidNeotech Petrol 1.0 Manual24,963 km1st OwnerPetrol₹10,188/month₹4,57,999Zero downpayment2016 Maruti BalenoSIGMA 1.2 K12 Manual26,962 km1st OwnerPetrol₹11,438/month₹5,14,199Zero downpayment2020 Maruti AltoLXI Manual2,966 km1st OwnerPetrol₹8,535/month₹3,83,699Zero downpayment2021 Mahindra TharLX PETROL AT 4WD Automatic950 km1st OwnerPetrol₹35,923/month₹16,14,899Zero downpayment2015 Maruti SwiftVXI Manual39,435 km1st OwnerPetrol₹11,487/month₹5,16,399Zero downpayment2017 Maruti Eeco5 STR WITH AC PLUSHTR Manual39,550 km1st OwnerPetrol₹9,830/month₹4,41,899Zero downpayment2020 Maruti DzireVXI Manual19,851 km1st OwnerPetrol₹15,974/month₹7,18,099Zero downpayment2020 Maruti S PRESSOVXI PLUS Manual8,452 km2nd OwnerPetrol₹10,773/month₹4,84,299Zero downpayment2020 Hyundai VENUESX 1.0 GDI IMT Manual9,057 km1st OwnerPetrol₹21,733/month₹9,76,999Zero downpayment2020 KIA SELTOSHTK PLUS 1.5 DIESEL Manual52,970 km1st OwnerDiesel₹29,801/month₹13,39,699Zero downpayment2018 Hyundai Grand i10SPORTZ O 1.2 Manual9,785 km1st OwnerPetrol₹12,593/month₹5,66,099Zero downpayment2021 Maruti SwiftVXI Manual8,543 km2nd OwnerPetrol₹14,606/month₹6,56,599Zero downpayment2021 MG HECTORSHARP 2.0 DIESEL Manual8,244 km1st OwnerDiesel₹47,372/month₹21,29,599Zero downpayment2018 Renault Kwid1.0 RXT Opt Manual20,046 km2nd OwnerPetrol₹8,493/month₹3,81,799Zero downpayment2014 Maruti SwiftVXI Manual80,441 km1st OwnerPetrol₹10,266/month₹4,61,499Zero downpayment2017 Maruti Alto 800VXI Manual15,740 km2nd OwnerPetrol₹6,749/month₹3,03,399Zero downpayment2016 Maruti CiazVXI PLUS Manual48,280 km1st OwnerPetrol₹14,203/month₹6,38,499Zero downpayment2016 Renault KwidRXT Opt Manual23,702 km1st OwnerPetrol₹7,447/month₹3,34,799Zero downpayment2018 Maruti SwiftVXI Manual55,655 km2nd OwnerPetrol₹11,965/month₹5,37,899Zero downpayment2017 Hyundai Grand i10SPORTZ 1.2 KAPPA VTVT Manual9,239 km2nd OwnerPetrol₹11,193/month₹5,03,199Zero downpayment2018 Maruti CelerioVXI Manual38,507 km1st OwnerPetrol₹10,422/month₹4,68,499Zero downpayment2019 Maruti CelerioVXI Manual32,030 km1st OwnerPetrol₹10,637/month₹4,78,199Zero downpayment2018 Hyundai Grand i10MAGNA 1.2 VTVT Manual41,708 km1st OwnerPetrol₹10,915/month₹4,90,699Zero downpayment2016 Hyundai Grand i10SPORTZ 1.2 KAPPA VTVT Manual40,128 km1st OwnerPetrol₹11,102/month₹4,99,099Zero downpayment2019 Hyundai NEW SANTRO1.1 SPORTS AMT Automatic3,271 km1st OwnerPetrol₹13,120/month₹5,89,799Zero downpayment2019 Jeep CompassSPORT PLUS PETROL Manual10,488 km1st OwnerPetrol₹31,100/month₹13,98,099Zero downpayment2018 Maruti SwiftVXI AMT Automatic59,803 km1st OwnerPetrol₹13,909/month₹6,25,299Zero downpayment2019 Hyundai NEW SANTROERA 1.1 Manual51,364 km1st OwnerPetrol₹9,803/month₹4,40,699Zero downpayment2019 Maruti New  Wagon-RZXI 1.2 Manual20,605 km1st OwnerPetrol₹12,381/month₹5,56,599Zero downpayment2021 Maruti AltoLXI Manual2,537 km1st OwnerPetrol₹8,925/month₹4,01,239Zero downpayment2016 Maruti Wagon R 1.0VXI Manual14,642 km1st OwnerPetrol₹9,534/month₹4,28,599Zero downpayment2018 Audi A335TDI PREMIUM Automatic40,422 km2nd OwnerDiesel₹43,781/month₹19,68,199Zero downpayment2017 Hyundai Grand i10MAGNA 1.2 KAPPA VTVT Manual23,584 km1st OwnerPetrol₹10,588/month₹4,75,999Zero downpayment2018 Maruti CelerioVXI Manual31,321 km1st OwnerPetrol₹10,448/month₹4,69,699Zero downpayment2014 Honda CityV MT PETROL Manual87,194 km2nd OwnerPetrol₹13,360/month₹6,00,599Zero downpayment2016 Hyundai XcentS 1.2 Manual41,986 km1st OwnerPetrol₹11,689/month₹5,25,499Zero downpayment2020 Toyota GlanzaG MT PETROL Manual11,527 km1st OwnerPetrol₹16,023/month₹7,20,299Zero downpayment2019 Mahindra XUV500W11 AT Automatic84,312 km1st OwnerDiesel₹30,617/month₹13,76,399Zero downpayment2019 Ford Ecosport1.5TITANIUM TDCI Manual24,186 km1st OwnerDiesel₹21,101/month₹9,48,599Zero downpayment2016 Honda Amaze1.2 SMT I VTEC Manual40,054 km1st OwnerPetrol₹12,148/month₹5,46,099Zero downpayment2015 Hyundai EonERA PLUS Manual36,850 km2nd OwnerPetrol₹6,571/month₹2,95,399Zero downpayment2015 Maruti BalenoZETA 1.2 K12 Manual58,839 km2nd OwnerPetrol₹12,030/month₹5,40,787Zero downpayment2020 Maruti AltoLXI Manual24,968 km1st OwnerPetrol₹8,333/month₹3,74,599Zero downpayment2020 Maruti AltoLXI Manual11,634 km1st OwnerPetrol₹8,126/month₹3,65,299Zero downpayment2019 Honda Amaze1.2 SMT I VTEC Manual37,768 km1st OwnerPetrol₹14,092/month₹6,33,499Zero downpayment2015 Honda Brio1.2 S MT I VTEC Manual38,732 km1st OwnerPetrol₹8,829/month₹3,96,899Zero downpayment2015 Hyundai EonERA PLUS Manual28,670 km1st OwnerPetrol₹6,889/month₹3,09,699Zero downpayment2020 Maruti S PRESSOVXI Manual18,681 km1st OwnerPetrol₹10,163/month₹4,56,899Zero downpayment2016 Hyundai XcentSX 1.2 Manual51,703 km1st OwnerPetrol₹11,818/month₹5,31,299Zero downpayment2018 Maruti BalenoDELTA 1.2 K12 Manual21,445 km1st OwnerPetrol₹14,466/month₹6,50,299Zero downpayment2018 Jeep Compass2.0 LIMITED Manual37,237 km1st OwnerDiesel₹29,218/month₹13,13,499Zero downpayment2018 Renault Kwid1.0 RXT Opt Manual17,082 km1st OwnerPetrol₹8,493/month₹3,81,799Zero downpayment2021 Maruti Eeco5 STR WITH AC PLUSHTR Manual11,155 km1st OwnerPetrol₹11,821/month₹5,31,399Zero downpayment2016 Honda Jazz1.2 SV PETROL Manual50,085 km2nd OwnerPetrol + CNG₹11,102/month₹4,99,099Zero downpayment2017 Maruti CelerioVXI Manual75,006 km1st OwnerPetrol₹9,236/month₹4,15,199Zero downpayment2021 Hyundai VENUES MT 1.2 KAPPA Manual7,573 km1st OwnerPetrol₹18,601/month₹8,36,199Zero downpayment2019 Hyundai Verna1.6 SX VTVT Manual5,788 km2nd OwnerPetrol₹22,093/month₹9,93,199Zero downpayment2017 Honda Brio1.2 VX AT I VTEC Automatic18,829 km1st OwnerPetrol₹12,684/month₹5,70,199Zero downpayment2019 Renault KwidRXL Manual21,268 km1st OwnerPetrol₹9,094/month₹4,08,799Zero downpayment2018 Hyundai Grand i10SPORTZ 1.2 KAPPA VTVT Manual14,793 km1st OwnerPetrol₹12,993/month₹5,84,099Zero downpayment2014 Hyundai Elite i20ASTA 1.2 Manual50,419 km1st OwnerPetrol₹12,530/month₹5,63,299Zero downpayment2018 Hyundai Grand i10MAGNA 1.2 KAPPA VTVT Manual54,545 km1st OwnerPetrol₹10,884/month₹4,89,299Zero downpayment2019 Honda AmazeVX AT I DTEC Automatic25,302 km1st OwnerDiesel₹18,505/month₹8,31,899Zero downpayment2017 Maruti Alto 800LXI Manual31,386 km1st OwnerPetrol₹6,983/month₹3,13,899Zero downpayment2018 Honda Jazz1.2 V MT Manual56,825 km1st OwnerPetrol₹15,153/month₹6,81,199Zero downpayment2017 Maruti SwiftVXI Manual50,714 km2nd OwnerPetrol₹11,810/month₹5,30,899Zero downpayment2017 Maruti BalenoDELTA 1.2 K12 Manual62,052 km2nd OwnerPetrol₹11,543/month₹5,18,899Zero downpayment2016 Maruti Vitara BrezzaZDI PLUS DUAL TONE Manual1,50,355 km1st OwnerDiesel₹15,511/month₹6,97,299Zero downpayment2018 Maruti Vitara BrezzaZDI+ DUAL TONE AMT Automatic33,373 km2nd OwnerDiesel₹18,632/month₹8,37,599Zero downpayment2018 Maruti Celerio XZxi Manual79,113 km1st OwnerPetrol₹10,001/month₹4,49,599Zero downpayment2016 Maruti BalenoDELTA 1.2 K12 Manual90,855 km1st OwnerPetrol₹11,540/month₹5,18,799Zero downpayment2020 Hyundai VENUES MT 1.2 KAPPA Manual45,502 km1st OwnerPetrol₹19,644/month₹8,83,099Zero downpayment2016 Maruti Vitara BrezzaZDI PLUS DUAL TONE Manual77,481 km1st OwnerDiesel₹17,691/month₹7,95,299Zero downpayment2017 Skoda RapidAMBITION 1.6 MPFI MT Manual83,867 km1st OwnerPetrol₹13,411/month₹6,02,899Zero downpayment2017 Maruti BalenoDELTA DDIS 190 Manual1,15,329 km1st OwnerDiesel₹12,361/month₹5,55,699Zero downpayment2018 Maruti Vitara BrezzaZDI Manual39,033 km1st OwnerDiesel₹17,949/month₹8,06,899Zero downpayment2021 Maruti BalenoDELTA 1.2 K12 Manual2,385 km1st OwnerPetrol₹16,781/month₹7,54,399Zero downpayment2018 Hyundai Elite i20ASTA 1.2 (O) Manual40,636 km2nd OwnerPetrol₹16,272/month₹7,31,499Zero downpayment2019 Hyundai NEW SANTROSPORTZ 1.1 Manual15,026 km1st OwnerPetrol₹11,498/month₹5,16,899Zero downpayment2020 Maruti BalenoDELTA 1.2 K12 Manual3,627 km1st OwnerPetrol₹15,257/month₹6,85,899Zero downpayment2020 Maruti IGNISSIGMA 1.2 K12 Manual4,933 km1st OwnerPetrol₹11,767/month₹5,28,999Zero downpayment2016 Hyundai Grand i10MAGNA 1.2 KAPPA VTVT Manual73,191 km1st OwnerPetrol₹9,825/month₹4,41,699Zero downpayment2016 Hyundai Elite i20ASTA 1.4 CRDI Manual59,671 km3rd OwnerDiesel₹13,095/month₹5,88,699Zero downpayment2020 Maruti BalenoDELTA 1.2 K12 Manual3,111 km1st OwnerPetrol₹16,074/month₹7,22,599Zero downpayment2020 Renault Kwid1.0 CLIMBER OPT Manual19,935 km1st OwnerPetrol₹10,837/month₹4,87,199Zero downpayment2020 Honda CivicZX MT DIESEL Manual29,552 km1st OwnerDiesel₹38,042/month₹17,10,199Zero downpayment2019 Ford Ecosport1.5TITANIUM TDCI Manual29,821 km1st OwnerDiesel₹19,475/month₹8,75,499Zero downpayment2018 Maruti BalenoDELTA 1.2 K12 Manual33,217 km1st OwnerPetrol₹12,857/month₹5,77,999Zero downpayment2021 Maruti S PRESSOVXI AGS Automatic3,151 km1st OwnerPetrol₹10,993/month₹4,94,199Zero downpayment2019 Hyundai Creta1.6 VTVT SX AUTO Automatic9,553 km2nd OwnerPetrol₹30,473/month₹13,69,899Zero downpayment2016 Honda CityV MT PETROL Manual87,049 km1st OwnerPetrol₹14,962/month₹6,72,599Zero downpayment2015 Volkswagen VentoHIGHLINE PETROL Manual59,933 km2nd OwnerPetrol₹12,239/month₹5,50,199Zero downpayment2020 Maruti BalenoZETA 1.2 K12 Manual14,551 km1st OwnerPetrol₹17,362/month₹7,80,505Zero downpayment2021 Maruti BalenoDELTA 1.2 K12 Manual7,138 km1st OwnerPetrol₹16,781/month₹7,54,399Zero downpayment2016 Hyundai Grand i10SPORTS 1.2 VTVT Manual30,916 km1st OwnerPetrol₹10,795/month₹4,85,299Zero downpayment2015 Honda Brio1.2 S MT I VTEC Manual75,970 km1st OwnerPetrol₹7,839/month₹3,52,399Zero downpayment2020 Hyundai NEW SANTROSPORTZ 1.1 Manual6,234 km1st OwnerPetrol₹11,692/month₹5,25,599Zero downpayment2016 Hyundai Grand i10MAGNA 1.2 KAPPA VTVT Manual70,427 km1st OwnerPetrol₹9,825/month₹4,41,699Zero downpayment2021 Maruti AltoLXI CNG (O) Manual19,549 km1st OwnerPetrol + CNG₹12,303/month₹5,53,099Zero downpayment2017 Hyundai XcentE PLUS Manual43,319 km1st OwnerPetrol₹12,263/month₹5,51,299Zero downpayment2018 Hyundai Creta1.6 SX (O) CRDI Manual72,123 km1st OwnerDiesel₹27,285/month₹12,26,599Zero downpayment2016 Maruti Wagon R 1.0VXI Manual22,698 km1st OwnerPetrol₹9,300/month₹4,18,099Zero downpayment2014 Hyundai i10MAGNA 1.1 IRDE2 Manual37,680 km1st OwnerPetrol₹7,801/month₹3,50,699Zero downpayment2019 Jeep Compass2.0 LIMITED Manual60,946 km1st OwnerDiesel₹31,707/month₹14,25,399Zero downpayment2021 Maruti S PRESSOVXI PLUS Manual6,027 km1st OwnerPetrol₹9,816/month₹4,41,299Zero downpayment2019 Maruti New  Wagon-RVXI 1.2L Manual41,419 km1st OwnerPetrol₹12,481/month₹5,61,099Zero downpayment2019 Hyundai Grand i10SPORTZ 1.2 KAPPA VTVT Manual28,022 km1st OwnerPetrol₹12,050/month₹5,41,699Zero downpayment2018 Hyundai Grand i10SPORTZ 1.2 KAPPA VTVT Manual19,521 km1st OwnerPetrol₹12,993/month₹5,84,099Zero downpayment2020 Volkswagen PoloGT TSI AT 1.0 Automatic40,145 km1st OwnerPetrol₹19,568/month₹8,79,699Zero downpayment2020 MG HECTORSHARP DCT PETROL Automatic10,501 km1st OwnerPetrol₹39,508/month₹17,76,099Zero downpayment2020 Hyundai VENUESX 1.0 GDI IMT Manual14,064 km2nd OwnerPetrol₹23,334/month₹10,48,999Zero downpayment2019 Hyundai Creta1.6 VTVT SX AUTO Automatic31,889 km1st OwnerPetrol₹28,431/month₹12,78,099Zero downpayment2014 Hyundai i20SPORTZ 1.2 VTVT Manual48,665 km3rd OwnerPetrol₹9,216/month₹4,14,299Zero downpayment2017 Hyundai Grand i10MAGNA 1.2 KAPPA VTVT Manual49,314 km1st OwnerPetrol₹10,588/month₹4,75,999Zero downpayment2020 Hyundai CretaSX PETROL MT Manual14,847 km1st OwnerPetrol₹32,458/month₹14,59,129Zero downpayment2018 Maruti Vitara BrezzaVDI Manual52,735 km1st OwnerDiesel₹16,054/month₹7,21,699Zero downpayment2020 Maruti S PRESSOVXI Manual39,768 km1st OwnerPetrol₹9,634/month₹4,33,099Zero downpayment2021 MG HECTORSHARP HYBRID 1.5 DUAL TONE 14,982 km1st OwnerPetrol₹38,661/month₹17,37,999Zero downpayment2017 Datsun Redi GoS 1.0 Manual14,257 km1st OwnerPetrol₹6,624/month₹2,97,799Zero downpayment2017 Hyundai EonERA PLUS Manual15,300 km1st OwnerPetrol₹7,652/month₹3,43,999Zero downpayment2020 Maruti DzireVXI Manual13,099 km1st OwnerPetrol₹15,911/month₹7,15,299Zero downpayment2020 Hyundai CretaSX MT Manual65,365 km1st OwnerDiesel₹33,002/month₹14,83,599Zero downpayment2020 Maruti BalenoZETA 1.2 K12 Manual9,204 km1st OwnerPetrol₹16,970/month₹7,62,899Zero downpayment2019 Maruti DzireVXI Manual45,720 km1st OwnerPetrol₹14,437/month₹6,48,999Zero downpayment2016 Maruti Alto 800LXI Manual38,157 km1st OwnerPetrol₹6,522/month₹2,93,199Zero downpayment2016 Maruti Wagon R 1.0VXI Manual31,312 km1st OwnerPetrol₹8,907/month₹4,00,399Zero downpayment2021 Maruti AltoLXI Manual9,783 km1st OwnerPetrol₹9,349/month₹4,20,299Zero downpayment2016 Maruti BalenoZETA 1.2 K12 Manual56,814 km1st OwnerPetrol₹12,412/month₹5,57,999Zero downpayment2019 Maruti DzireVXI Manual39,361 km1st OwnerPetrol₹14,701/month₹6,60,899Zero downpayment2019 Maruti DzireVXI Manual15,248 km1st OwnerPetrol₹14,861/month₹6,68,099Zero downpayment2017 Maruti BalenoDELTA DDIS 190 Manual56,796 km2nd OwnerDiesel₹13,060/month₹5,87,099Zero downpayment2017 Maruti Wagon R 1.0VXI Manual72,477 km1st OwnerPetrol₹9,136/month₹4,10,699Zero downpayment2017 Hyundai Grand i10MAGNA 1.2 KAPPA VTVT Manual25,708 km1st OwnerPetrol₹10,588/month₹4,75,999Zero downpayment2016 Maruti BalenoALPHA 1.2 K12 Manual65,499 km2nd OwnerPetrol₹12,181/month₹5,47,599Zero downpayment2015 Honda CityVX CVT PETROL Automatic61,219 km3rd OwnerPetrol₹14,897/month₹6,69,699Zero downpayment2020 MG HECTORSHARP DCT PETROL Automatic8,717 km1st OwnerPetrol₹37,286/month₹16,76,199Zero downpayment2021 Hyundai VENUES MT 1.2 KAPPA Manual29,669 km1st OwnerPetrol₹18,601/month₹8,36,199Zero downpayment2017 Maruti BalenoDELTA 1.2 K12 Manual9,193 km1st OwnerPetrol₹13,954/month₹6,27,299Zero downpayment2016 Hyundai Grand i10SPORTS 1.2 VTVT Manual43,952 km1st OwnerPetrol₹10,660/month₹4,79,199Zero downpayment2019 Hyundai Grand i10MAGNA 1.2 KAPPA VTVT Manual34,725 km1st OwnerPetrol₹11,396/month₹5,12,299Zero downpayment2019 Hyundai Verna1.6 CRDI SX + AT Automatic40,336 km2nd OwnerDiesel₹24,206/month₹10,88,199Zero downpayment2019 Maruti DzireVXI Manual18,618 km1st OwnerPetrol₹15,204/month₹6,83,499Zero downpayment2018 Hyundai EonERA PLUS Manual16,809 km1st OwnerPetrol₹8,052/month₹3,61,999Zero downpayment2017 Maruti BalenoDELTA 1.2 K12 Manual48,585 km2nd OwnerPetrol₹12,730/month₹5,72,299Zero downpayment2019 KIA SELTOSHTX AT PETROL Automatic58,603 km1st OwnerPetrol₹30,083/month₹13,52,399Zero downpayment2020 Maruti DzireVXI Manual32,623 km1st OwnerPetrol₹15,148/month₹6,80,999Zero downpayment2019 Maruti DzireVXI Manual20,761 km1st OwnerPetrol₹15,789/month₹7,09,799Zero downpayment2021 Maruti BalenoDELTA 1.2 K12 Manual22,651 km1st OwnerPetrol₹15,342/month₹6,89,699Zero downpayment2018 Maruti Alto 800LXI Manual64,171 km1st OwnerPetrol₹6,649/month₹2,98,899Zero downpayment2016 Maruti BalenoALPHA 1.2 K12 Manual46,019 km2nd OwnerPetrol₹12,279/month₹5,51,999Zero downpayment2017 Maruti Wagon R 1.0VXI Manual16,248 km2nd OwnerPetrol₹10,373/month₹4,66,299Zero downpayment2019 Maruti S PRESSOVXI PLUS Manual5,848 km1st OwnerPetrol₹9,334/month₹4,19,599Zero downpayment2019 Maruti BalenoDELTA 1.2 K12 Manual66,749 km1st OwnerPetrol₹13,631/month₹6,12,799Zero downpayment2020 Maruti S PRESSOVXI Manual10,024 km1st OwnerPetrol₹10,068/month₹4,52,599Zero downpayment2019 Maruti DzireVXI Manual58,978 km1st OwnerPetrol₹14,477/month₹6,50,799Zero downpayment2019 KIA SELTOSHTK 1.5 PETROL Manual36,999 km1st OwnerPetrol₹24,636/month₹11,07,499Zero downpayment2016 Hyundai Elite i20SPORTZ 1.2 Manual61,714 km1st OwnerPetrol₹12,753/month₹5,73,299Zero downpayment2019 Maruti DzireVXI Manual20,691 km1st OwnerPetrol₹15,827/month₹7,11,499Zero downpayment2018 Maruti Wagon R 1.0VXI Manual80,865 km1st OwnerPetrol₹9,318/month₹4,18,899Zero downpayment2019 Maruti Celerio XZxi Manual14,071 km1st OwnerPetrol₹11,429/month₹5,13,799Zero downpayment2018 Honda CitySV MT EDGE EDITION PETROL Manual76,040 km2nd OwnerPetrol₹18,349/month₹8,24,899Zero downpayment2020 Hyundai GRAND I10 NIOSSPORTZ PETROL Manual19,124 km1st OwnerPetrol₹13,969/month₹6,27,975Zero downpayment2019 Ford Ecosport1.5TITANIUM TDCI Manual77,774 km1st OwnerDiesel₹18,458/month₹8,29,799Zero downpayment2017 Maruti Alto 800LXI Manual46,398 km1st OwnerPetrol₹6,635/month₹2,98,299Zero downpayment2017 Maruti Wagon R 1.0VXI Manual27,932 km1st OwnerPetrol₹9,305/month₹4,18,299Zero downpayment2016 Hyundai i20 Active1.2 S Manual54,562 km2nd OwnerPetrol₹12,668/month₹5,69,499Zero downpayment2017 Maruti BalenoZETA 1.2 K12 Manual76,932 km1st OwnerPetrol₹12,379/month₹5,56,499Zero downpayment2019 Hyundai Verna1.6 SX VTVT Manual34,014 km2nd OwnerPetrol₹19,446/month₹8,74,199Zero downpayment2020 Maruti S PRESSOVXI Manual23,128 km2nd OwnerPetrol₹8,488/month₹3,81,599Zero downpayment2019 Hyundai VENUE1.0L Turbo GDI SX(O) MT Manual14,833 km2nd OwnerPetrol₹22,296/month₹10,02,299Zero downpayment2019 Hyundai NEW SANTRO1.1 SPORTS AMT Automatic26,810 km2nd OwnerPetrol₹11,271/month₹5,06,699Zero downpayment2018 Maruti IGNISZETA 1.2 K12 Manual48,213 km1st OwnerPetrol₹10,713/month₹4,81,599Zero downpayment2016 Maruti Wagon R 1.0VXI Manual54,537 km1st OwnerPetrol₹8,740/month₹3,92,899Zero downpayment2019 MG HECTORSHARP 2.0 DIESEL Manual55,484 km2nd OwnerDiesel₹36,256/month₹16,29,899Zero downpayment2018 Honda CityVX CVT PETROL Automatic95,439 km1st OwnerPetrol₹19,310/month₹8,68,099Zero downpayment2018 Maruti Alto 800LXI Manual43,426 km1st OwnerPetrol₹6,680/month₹3,00,299Zero downpayment2017 Ford Ecosport1.5 TITANIUMTDCI OPT Manual59,878 km2nd OwnerDiesel₹16,256/month₹7,30,799Zero downpayment2020 Maruti BalenoZETA 1.2 K12 Manual64,886 km1st OwnerPetrol₹16,145/month₹7,25,799Zero downpayment2017 Maruti Wagon R 1.0VXI Manual38,391 km1st OwnerPetrol₹9,505/month₹4,27,299Zero downpayment2018 Maruti Wagon R 1.0VXI Manual8,413 km1st OwnerPetrol₹10,344/month₹4,64,999Zero downpayment2020 MG HECTORSHARP DCT PETROL Automatic23,140 km1st OwnerPetrol₹38,692/month₹17,39,399Zero downpayment2016 Maruti S CrossZETA 1.3 Manual82,230 km2nd OwnerDiesel₹12,526/month₹5,63,099Zero downpayment2019 KIA SELTOSHTK 1.5 PETROL Manual19,762 km1st OwnerPetrol₹24,636/month₹11,07,499Zero downpayment2019 KIA SELTOSGTX 1.4 GDI AT PETROL Automatic60,974 km1st OwnerPetrol₹31,251/month₹14,04,899Zero downpayment2019 Maruti DzireVXI Manual8,696 km1st OwnerPetrol₹15,606/month₹7,01,551Zero downpayment2017 Maruti BalenoDELTA 1.2 K12 Manual29,746 km1st OwnerPetrol₹13,954/month₹6,27,299Zero downpayment2018 Maruti BalenoDELTA 1.2 K12 Manual98,876 km1st OwnerPetrol₹11,805/month₹5,30,699Zero downpayment2019 Honda CityVX MT PETROL Manual58,758 km2nd OwnerPetrol₹21,128/month₹9,49,799Zero downpayment2013 Maruti Wagon R 1.0VXI Manual83,401 km2nd OwnerPetrol₹6,942/month₹3,12,099Zero downpayment2018 Hyundai EonERA PLUS Manual20,440 km2nd OwnerPetrol₹8,058/month₹3,62,255Zero downpayment2018 Maruti CiazZETA 1.4 VVT Manual83,622 km1st OwnerPetrol₹14,439/month₹6,49,099Zero downpayment2019 Honda Amaze1.2 VXMT I VTEC Manual8,559 km1st OwnerPetrol₹16,850/month₹7,57,499Zero downpayment2021 Maruti S CrossZETA AT 1.5 SHVS 10,285 km1st OwnerPetrol₹25,390/month₹11,41,422Zero downpayment2018 Honda Jazz1.2 V MT Manual43,882 km1st OwnerPetrol₹15,229/month₹6,84,599Zero downpayment2018 Hyundai Verna1.6 SX VTVT AT (O) Automatic17,142 km2nd OwnerPetrol₹22,500/month₹10,11,499Zero downpayment2017 Maruti BalenoDELTA 1.2 K12 Manual34,151 km1st OwnerPetrol₹13,175/month₹5,92,299Zero downpayment2021 Maruti BalenoDELTA 1.2 K12 Manual21,363 km1st OwnerPetrol₹15,919/month₹7,15,635Zero downpayment2018 Maruti Alto 800LXI Manual47,663 km1st OwnerPetrol₹7,169/month₹3,22,299Zero downpayment2021 Maruti S PRESSOVXI PLUS Manual19,278 km1st OwnerPetrol₹9,703/month₹4,36,199Zero downpayment2017 Maruti BalenoRS 1.0 PETROL Manual84,107 km1st OwnerPetrol₹12,597/month₹5,66,299Zero downpayment2022 Maruti S CrossZETA SHVS PETROL Manual14,122 km1st OwnerPetrol₹24,905/month₹11,19,599Zero downpayment2020 Maruti S PRESSOVXI PLUS Manual19,702 km1st OwnerPetrol₹10,070/month₹4,52,699Zero downpayment2017 Ford Ecosport1.5 TITANIUM TI VCT Manual82,050 km1st OwnerPetrol₹14,868/month₹6,68,399Zero downpayment2020 Maruti AltoVXI Manual8,550 km1st OwnerPetrol₹9,632/month₹4,32,999Zero downpayment2019 Maruti Alto K10VXI Manual44,701 km1st OwnerPetrol₹8,235/month₹3,70,199Zero downpayment2018 Maruti Alto 800LXI Manual50,638 km1st OwnerPetrol₹6,716/month₹3,01,899Zero downpayment2018 Hyundai Creta1.6 CRDI SX PLUS AUTO Automatic58,756 km1st OwnerDiesel₹26,526/month₹11,92,499Zero downpayment2017 Jeep CompassLIMITED 1.4 AT Automatic63,038 km1st OwnerPetrol₹26,422/month₹11,87,799Zero downpayment2018 Maruti Alto 800LXI Manual56,232 km1st OwnerPetrol₹6,653/month₹2,99,099Zero downpayment2016 Hyundai Grand i10SPORTZ 1.2 KAPPA VTVT Manual29,085 km1st OwnerPetrol₹11,029/month₹4,95,799Zero downpayment2019 Maruti Alto 800LXI Manual18,519 km1st OwnerPetrol₹7,850/month₹3,52,899Zero downpayment2021 Honda CityZX MT PETROL Manual20,306 km1st OwnerPetrol₹32,764/month₹14,72,899Zero downpayment2021 Maruti IGNISSIGMA 1.2 K12 Manual9,045 km1st OwnerPetrol₹12,570/month₹5,65,099Zero downpayment2017 Maruti IGNISZETA 1.2 K12 Manual41,831 km1st OwnerPetrol₹9,863/month₹4,43,399Zero downpayment2021 Maruti AltoLXI Manual7,339 km1st OwnerPetrol₹8,669/month₹3,89,699Zero downpayment2019 Maruti S PRESSOVXI PLUS Manual32,473 km1st OwnerPetrol₹10,328/month₹4,64,299Zero downpayment2017 Hyundai Grand i10SPORTZ 1.2 KAPPA VTVT Manual64,064 km1st OwnerPetrol₹11,459/month₹5,15,140Zero downpayment2017 Maruti BalenoDELTA 1.2 K12 Manual16,858 km1st OwnerPetrol₹13,278/month₹5,96,899Zero downpayment2020 Honda CityZX MT PETROL Manual7,779 km1st OwnerPetrol₹31,754/month₹14,27,499Zero downpayment2020 Maruti AltoVXI Manual6,590 km1st OwnerPetrol₹8,778/month₹3,94,599Zero downpayment2018 Maruti Alto 800VXI Manual42,126 km1st OwnerPetrol₹6,902/month₹3,10,299Zero downpayment2018 Maruti Alto 800LXI Manual25,154 km1st OwnerPetrol₹7,490/month₹3,36,699Zero downpayment2018 Hyundai Grand i10SPORTZ 1.2 KAPPA VTVT Manual41,284 km1st OwnerPetrol₹12,257/month₹5,50,999Zero downpayment2018 Hyundai Creta1.6 CRDI SX PLUS AUTO Automatic83,685 km1st OwnerDiesel₹27,154/month₹12,20,699Zero downpayment2017 Maruti Wagon R 1.0VXI Manual35,407 km1st OwnerPetrol₹9,405/month₹4,22,799Zero downpayment2021 Maruti AltoLXI Manual7,228 km1st OwnerPetrol₹8,504/month₹3,82,299Zero downpayment2019 Maruti S PRESSOVXI PLUS Manual13,271 km1st OwnerPetrol₹9,812/month₹4,41,099Zero downpayment2017 Maruti BalenoZETA 1.2 K12 Manual48,541 km1st OwnerPetrol₹13,049/month₹5,86,599Zero downpayment2021 Volkswagen VentoCOMFORTLINE 1.0 TSI MT Manual22,649 km1st OwnerPetrol₹21,277/month₹9,56,499Zero downpayment2019 Maruti BalenoDELTA 1.2 K12 Manual86,885 km1st OwnerPetrol₹13,869/month₹6,23,499Zero downpayment2020 Maruti BalenoDELTA 1.2 K12 Manual7,600 km1st OwnerPetrol₹16,074/month₹7,22,599Zero downpayment2021 Maruti AltoLXI Manual10,250 km1st OwnerPetrol₹8,609/month₹3,86,999Zero downpayment2018 Maruti Wagon R 1.0VXI Manual48,691 km1st OwnerPetrol₹9,973/month₹4,48,355Zero downpayment2017 Maruti DzireVXI Manual38,454 km1st OwnerPetrol₹13,558/month₹6,09,499Zero downpayment2018 Honda CityZX CVT Automatic57,370 km1st OwnerPetrol + CNG₹25,977/month₹11,67,799Zero downpayment2017 Maruti Alto 800LXI Manual19,724 km1st OwnerPetrol₹7,127/month₹3,20,399Zero downpayment2018 Maruti Wagon R 1.0VXI AMT Automatic21,037 km1st OwnerPetrol₹11,716/month₹5,26,699Zero downpayment2020 Maruti BalenoALPHA 1.2 K12 Manual45,942 km1st OwnerPetrol₹15,460/month₹6,94,999Zero downpayment2019 Maruti S PRESSOVXI PLUS Manual10,038 km1st OwnerPetrol₹8,958/month₹4,02,699Zero downpayment2019 Hyundai Grand i10SPORTZ 1.2 KAPPA VTVT Manual16,167 km1st OwnerPetrol₹13,460/month₹6,05,099Zero downpayment2019 Maruti XL6ALPHA SHVS  MT Manual70,215 km1st OwnerPetrol₹22,198/month₹9,97,899Zero downpayment2018 Hyundai XcentS 1.2 Manual59,008 km1st OwnerPetrol₹12,595/month₹5,66,199Zero downpayment2018 Hyundai Elite i20ASTA 1.2 Manual20,748 km1st OwnerPetrol₹16,819/month₹7,56,099Zero downpayment2021 Maruti AltoLXI Manual20,563 km1st OwnerPetrol₹9,094/month₹4,08,799Zero downpayment2019 Maruti BalenoDELTA 1.2 K12 Manual9,711 km1st OwnerPetrol₹14,566/month₹6,54,799Zero downpayment2017 Datsun Redi GoS 1.0 Manual27,558 km2nd OwnerPetrol₹6,511/month₹2,92,699Zero downpayment2020 Honda CityVX CVT PETROL Automatic13,069 km1st OwnerPetrol₹30,359/month₹13,64,799Zero downpayment2019 Maruti BalenoDELTA 1.2 K12 Manual21,948 km1st OwnerPetrol₹14,870/month₹6,68,499Zero downpayment2020 Maruti AltoVXI Manual10,873 km1st OwnerPetrol₹9,637/month₹4,33,229Zero downpayment2020 Maruti BalenoDELTA 1.2 K12 Manual16,493 km1st OwnerPetrol₹15,351/month₹6,90,099Zero downpayment2019 Maruti BalenoZETA 1.2 K12 Manual46,597 km1st OwnerPetrol₹15,077/month₹6,77,799Zero downpayment2019 Maruti BalenoDELTA 1.2 K12 Manual12,248 km1st OwnerPetrol₹15,369/month₹6,90,899Zero downpayment2020 Maruti AltoVXI Manual5,479 km1st OwnerPetrol₹9,461/month₹4,25,299Zero downpayment2020 Maruti S PRESSOVXI PLUS Manual23,113 km1st OwnerPetrol₹10,246/month₹4,60,599Zero downpayment2019 Hyundai Grand i101.2 KAPPA SPORTZ (O) Manual12,536 km1st OwnerPetrol₹13,796/month₹6,20,199Zero downpayment2018 Maruti BalenoZETA 1.2 K12 Manual19,607 km1st OwnerPetrol₹14,377/month₹6,46,299Zero downpayment2017 Jeep Compass2.0 LIMITED 4*2 Manual1,49,068 km1st OwnerDiesel₹22,921/month₹10,30,399Zero downpayment2019 Maruti S PRESSOVXI PLUS Manual23,781 km1st OwnerPetrol₹9,712/month₹4,36,599Zero downpayment2017 Maruti Alto 800LXI Manual49,925 km1st OwnerPetrol₹6,947/month₹3,12,299Zero downpayment2020 Honda CityZX MT PETROL 23,319 km1st OwnerPetrol₹28,969/month₹13,02,311Zero downpayment2018 Maruti BalenoDELTA 1.2 K12 Manual16,295 km1st OwnerPetrol₹13,749/month₹6,18,099Zero downpayment2019 Honda WR-V1.2 i-VTEC VX MT Manual65,130 km1st OwnerPetrol₹17,954/month₹8,07,123Zero downpayment2017 Maruti BalenoALPHA 1.2 K12 Manual72,430 km1st OwnerPetrol₹13,331/month₹5,99,299Zero downpayment2018 Maruti BalenoDELTA 1.2 K12 Manual32,404 km1st OwnerPetrol₹14,421/month₹6,48,299Zero downpayment2020 Maruti AltoVXI Manual13,829 km1st OwnerPetrol₹8,940/month₹4,01,899Zero downpayment2019 Maruti BalenoZETA 1.2 K12 Manual9,092 km1st OwnerPetrol₹14,922/month₹6,70,799Zero downpayment2018 Maruti BalenoDELTA 1.2 K12 Manual67,349 km1st OwnerPetrol₹13,576/month₹6,10,299Zero downpayment2018 Honda CityZX CVT Automatic18,365 km1st OwnerPetrol₹22,638/month₹10,17,699Zero downpayment2017 Hyundai New Elantra1.6 SX AT O Automatic74,829 km1st OwnerDiesel₹29,062/month₹13,06,499Zero downpayment2020 Maruti BalenoDELTA 1.2 K12 Manual9,727 km1st OwnerPetrol₹15,455/month₹6,94,799Zero downpayment2018 Maruti Alto 800LXI Manual34,626 km1st OwnerPetrol₹7,490/month₹3,36,699Zero downpayment2019 Maruti Alto 800LXI Manual22,118 km2nd OwnerPetrol₹7,198/month₹3,23,599Zero downpayment2017 Hyundai Grand i10SPORTZ 1.2 KAPPA VTVT Manual43,667 km1st OwnerPetrol₹11,810/month₹5,30,899Zero downpayment2020 Honda CityVX CVT PETROL Automatic29,880 km1st OwnerPetrol₹28,947/month₹13,01,299Zero downpayment2020 Maruti AltoLXI Manual13,230 km1st OwnerPetrol₹8,544/month₹3,84,099Zero downpayment2019 Maruti Alto 800LXI Manual11,987 km1st OwnerPetrol₹7,850/month₹3,52,899Zero downpayment2018 Maruti Alto 800LXI Manual35,950 km1st OwnerPetrol₹7,490/month₹3,36,699Zero downpayment2020 Maruti BalenoDELTA 1.2 K12 Manual46,150 km1st OwnerPetrol₹16,074/month₹7,22,599Zero downpayment2020 Hyundai NEW SANTRO1.1 MAGNA CNG MT Manual61,631 km1st OwnerPetrol + CNG₹12,739/month₹5,72,699Zero downpayment2018 Maruti Alto 800LXI Manual85,654 km1st OwnerPetrol₹6,724/month₹3,02,299Zero downpayment2018 Volkswagen VentoHIGHLINE PLUS TDI AT Automatic77,796 km1st OwnerDiesel₹23,143/month₹10,40,399Zero downpayment2017 Hyundai Grand i10Sportz(O) 1.2 MT Manual30,579 km1st OwnerPetrol₹12,028/month₹5,40,699Zero downpayment2020 Maruti AltoVXI Manual10,874 km1st OwnerPetrol₹8,166/month₹3,67,099Zero downpayment2018 Maruti Alto 800LXI Manual66,113 km1st OwnerPetrol₹6,780/month₹3,04,799Zero downpayment2017 Maruti BalenoDELTA 1.2 K12 Manual46,727 km1st OwnerPetrol₹13,629/month₹6,12,699Zero downpayment2021 Maruti AltoLXI Manual11,080 km1st OwnerPetrol₹8,767/month₹3,94,099Zero downpayment2018 Hyundai Creta1.6 SX AT PETROL Automatic63,556 km1st OwnerPetrol₹26,466/month₹11,89,799Zero downpayment2017 Maruti IGNISSIGMA 1.2 K12 Manual71,695 km1st OwnerPetrol₹9,354/month₹4,20,499Zero downpayment2020 Maruti AltoVXI Manual17,986 km1st OwnerPetrol₹9,109/month₹4,09,499Zero downpayment2020 Maruti AltoLXI Manual12,173 km1st OwnerPetrol₹8,576/month₹3,85,553Zero downpayment2019 Maruti BalenoALPHA 1.2 K12 Manual39,999 km1st OwnerPetrol₹15,731/month₹7,07,199Zero downpayment2018 Datsun Redi GoT (O) 1.0 LIMITED EDITION 25,113 km2nd OwnerPetrol₹7,018/month₹3,15,499Zero downpayment2018 Maruti Alto 800LXI Manual60,531 km1st OwnerPetrol₹7,189/month₹3,23,199Zero downpayment2020 Maruti AltoVXI Manual32,856 km1st OwnerPetrol₹8,738/month₹3,92,799Zero downpayment2020 Maruti BalenoZETA 1.2 K12 Manual27,391 km1st OwnerPetrol₹16,374/month₹7,36,099Zero downpayment2018 Maruti Alto 800LXI Manual60,555 km1st OwnerPetrol₹7,051/month₹3,16,999Zero downpayment2021 Maruti AltoLXI Manual5,601 km1st OwnerPetrol₹9,380/month₹4,21,699Zero downpayment2017 Hyundai Grand i10SPORTZ (O) 1.2 AT VTVT Automatic21,353 km1st OwnerPetrol₹13,433/month₹6,03,899Zero downpayment2021 Maruti AltoLXI Manual21,900 km1st OwnerPetrol₹8,282/month₹3,72,299Zero downpayment2018 Maruti BalenoZETA 1.2 K12 Manual23,995 km1st OwnerPetrol₹15,164/month₹6,81,699Zero downpayment2017 Hyundai Elite i20ASTA 1.2 (O) Manual45,065 km1st OwnerPetrol₹15,647/month₹7,03,399Zero downpayment2018 Maruti Alto 800LXI Manual24,528 km1st OwnerPetrol₹7,490/month₹3,36,699Zero downpayment2018 Maruti Alto 800LXI Manual24,707 km1st OwnerPetrol₹7,490/month₹3,36,699Zero downpayment2020 Maruti AltoLXI Manual20,100 km1st OwnerPetrol₹8,446/month₹3,79,699Zero downpayment2020 Maruti BalenoZETA 1.2 K12 Manual60,326 km1st OwnerPetrol₹16,414/month₹7,37,899Zero downpayment2020 Maruti AltoLXI Manual32,152 km1st OwnerPetrol₹8,324/month₹3,74,199Zero downpayment2019 Ford FREESTYLETITANIUM + 1.2 TI-VCT Manual53,680 km1st OwnerPetrol₹12,608/month₹5,66,799Zero downpayment2018 Maruti Alto 800LXI Manual28,716 km1st OwnerPetrol₹6,998/month₹3,14,599Zero downpayment2019 Maruti Alto 800LXI Manual37,762 km1st OwnerPetrol₹7,692/month₹3,45,799Zero downpayment2018 Maruti Alto 800LXI Manual19,538 km1st OwnerPetrol₹7,490/month₹3,36,699Zero downpayment2017 Hyundai Verna1.6 SX VTVT Manual49,169 km1st OwnerPetrol₹17,673/month₹7,94,499Zero downpayment2020 Maruti AltoLXI Manual43,043 km1st OwnerPetrol₹7,837/month₹3,52,299Zero downpayment2018 Maruti Alto 800LXI Manual21,449 km1st OwnerPetrol₹7,490/month₹3,36,699Zero downpayment2018 Maruti Alto 800LXI Manual27,379 km1st OwnerPetrol₹7,374/month₹3,31,499Zero downpayment2019 Maruti AltoLXI Manual32,224 km1st OwnerPetrol₹7,456/month₹3,35,199Zero downpayment2018 Maruti Alto 800LXI Manual26,624 km2nd OwnerPetrol₹7,354/month₹3,30,599Zero downpayment2019 Maruti Alto 800LXI Manual16,045 km1st OwnerPetrol₹7,519/month₹3,37,999Zero downpayment2019 Maruti AltoLXI Manual15,024 km2nd OwnerPetrol₹7,049/month₹3,16,899Zero downpayment2020 Maruti AltoLXI Manual21,712 km1st OwnerPetrol₹8,061/month₹3,62,399Zero downpayment2019 Maruti AltoLXI Manual30,051 km1st OwnerPetrol₹7,674/month₹3,44,999Zero downpayment2019 Maruti AltoLXI Manual12,815 km2nd OwnerPetrol₹7,476/month₹3,36,099Zero downpayment2019 Maruti AltoLXI Manual20,088 km1st OwnerPetrol₹7,674/month₹3,44,999Zero downpayment2019 Maruti AltoLXI Manual31,787 km1st OwnerPetrol₹7,674/month₹3,44,999Zero downpayment2020 Maruti AltoLXI Manual23,687 km1st OwnerPetrol₹7,903/month₹3,55,299Zero downpayment2019 Maruti AltoLXI Manual16,523 km1st OwnerPetrol₹7,289/month₹3,27,699Zero downpayment2021 Maruti AltoLXI Manual27,391 km1st OwnerPetrol₹8,704/month₹3,91,299Zero downpayment2019 Maruti Alto 800LXI Manual59,384 km1st OwnerPetrol₹7,332/month₹3,29,599Zero downpayment2019 Maruti AltoLXI Manual18,274 km1st OwnerPetrol₹7,467/month₹3,35,699Zero downpayment2019 Maruti AltoLXI Manual17,735 km1st OwnerPetrol₹7,674/month₹3,44,999Zero downpayment2016 Maruti Alto K10VXI Manual8,339 km1st OwnerPetrol₹7,510/month₹3,37,599Zero downpayment2020 Maruti ErtigaZXI Plus SHVS Manual29,438 km1st OwnerPetrol₹23,114/month₹10,39,099Zero downpayment2018 Maruti SwiftVXI Manual25,343 km2nd OwnerPetrol₹11,965/month₹5,37,899Zero downpayment2019 Maruti SwiftVXI Manual37,711 km2nd OwnerPetrol₹12,541/month₹5,63,799Zero downpayment2017 Renault KwidRXT Manual18,111 km1st OwnerPetrol₹7,196/month₹3,23,499Zero downpayment2017 Maruti Alto 800LXI Manual10,006 km1st OwnerPetrol₹6,942/month₹3,12,099Zero downpayment2019 Tata TiagoXT 1.2 REVOTRON Manual16,001 km1st OwnerPetrol₹10,880/month₹4,89,099Zero downpayment2020 Maruti Eeco5 STR WITH AC PLUSHTR Manual11,247 km1st OwnerPetrol₹11,009/month₹4,94,899Zero downpayment2018 Renault Kwid1.0 RXT Opt Manual30,814 km1st OwnerPetrol₹7,712/month₹3,46,699Zero downpayment2021 Hyundai CretaSX MT Manual3,378 km1st OwnerDiesel₹37,233/month₹16,73,799Zero downpayment2017 Volkswagen PoloHIGHLINE1.5L DIESEL Manual68,394 km1st OwnerDiesel₹12,995/month₹5,84,199Zero downpayment2021 Maruti Eeco5 STR WITH AC PLUSHTR Manual2,340 km1st OwnerPetrol₹11,821/month₹5,31,399Zero downpayment2013 Toyota Innova2.5 VX 8 STR BS IV Manual2,81,380 km2nd OwnerDiesel₹15,573/month₹7,00,099Zero downpayment2017 Maruti BalenoDELTA DDIS 190 Manual83,464 km1st OwnerDiesel₹11,489/month₹5,16,499Zero downpayment2017 Maruti Eeco5 STR WITH AC PLUSHTR Manual15,568 km1st OwnerPetrol₹9,716/month₹4,36,799Zero downpayment2015 Hyundai i10MAGNA 1.1 IRDE2 Manual38,635 km1st OwnerPetrol₹8,177/month₹3,67,599Zero downpayment2013 Honda CityS MT PETROL Manual71,349 km1st OwnerPetrol₹10,622/month₹4,77,499Zero downpayment2021 Maruti Eeco5 STR WITH AC PLUSHTR Manual5,035 km1st OwnerPetrol₹11,821/month₹5,31,399Zero downpayment2019 Maruti DzireVDI Manual29,770 km1st OwnerDiesel₹15,709/month₹7,06,199Zero downpayment2017 Hyundai Grand i10MAGNA 1.2 KAPPA VTVT Manual16,757 km1st OwnerPetrol₹10,680/month₹4,80,099Zero downpayment2019 Maruti DzireVXI Manual6,227 km1st OwnerPetrol₹15,827/month₹7,11,499Zero downpayment2015 Maruti CelerioVXI AMT Automatic47,869 km1st OwnerPetrol₹8,804/month₹3,95,799Zero downpayment2018 Maruti BalenoDELTA 1.2 K12 Manual1,32,544 km1st OwnerPetrol + CNG₹12,399/month₹5,57,399Zero downpayment2015 Hyundai Creta1.6 SX (O) CRDI Manual1,50,727 km1st OwnerDiesel₹17,695/month₹7,95,499Zero downpayment2016 Hyundai Elite i20ASTA 1.2 (O) Manual58,187 km1st OwnerPetrol₹13,740/month₹6,17,688Zero downpayment2019 Renault TRIBER1.0 RXT Manual26,493 km1st OwnerPetrol₹13,098/month₹5,88,799Zero downpayment2017 Maruti Alto 800LXI Manual66,687 km1st OwnerPetrol₹6,587/month₹2,96,099Zero downpayment2018 Maruti Alto K10VXI Manual18,895 km1st OwnerPetrol₹7,794/month₹3,50,399Zero downpayment2019 Maruti XL6ALPHA SHVS  MT Manual25,242 km1st OwnerPetrol₹20,843/month₹9,36,999Zero downpayment2021 Hyundai NEW I20MAGNA 1.2 MT 11,284 km1st OwnerPetrol₹14,975/month₹6,73,199Zero downpayment2018 Maruti S CrossZETA 1.3 SHVS Manual20,043 km1st OwnerDiesel₹19,755/month₹8,88,099Zero downpayment2018 Datsun Redi GoT (O) Manual23,875 km2nd OwnerPetrol₹6,331/month₹2,84,599Zero downpayment2019 Maruti Alto 800LXI Manual78,986 km1st OwnerPetrol + CNG₹7,850/month₹3,52,899Zero downpaymentOther CitiesAhmedabadVadodaraBharuchUdaipurRajkotSuratVapiIndoreNasikJodhpurWhat our Users have to say! PreviousDurgautti BajpaiAhmedabadMay 2022BMW X1  4.5User rating“I had a great experience buying myBMW X1 from CARS24. It was the rightchoice!”... read moreValue for money : Experience :Ease of process :Prakash DevadhikarAhmedabadMay 2022RENAULT KWID  4.5User rating“I must say that CARS24 is the place togo when you're looking for asecond-hand car of your c... read more... read moreValue for money : Experience :Ease of process :Sheela NayarAhmedabadMay 2022HYUNDAI VERNA  5User rating“I checked around, and I could not find abetter deal than what I received atCARS24. I got my Hyundai V... read more... read moreValue for money : Experience :Ease of process :Padmini IyerAhmedabadMay 2022AUDI Q3  5User rating“CARS24 made the process of buying anew car so easy. I purchased my AudiQ3 and had it shipped to m... read more... read moreValue for money : Experience :Ease of process :Manasa ViswanAhmedabadMay 2022TATA TIGOR  5User rating“I had a great experience buyingthrough CARS24. I purchased a TataTIGOR and love it. I would b... read more... read moreValue for money : Experience :Ease of process :Jawahar SirasikarAhmedabadMay 2022HYUNDAI NEW I20  4.5User rating“We bought a Hyundai New I20 throughthe CARS24 website. I can't say enoughabout the customer suppor... read more... read moreValue for money : Experience :Ease of process :Shinu AyyarAhmedabadMay 2022BMW X1  5User rating“The BMW X1 I bought from CARS24 isfantastic. The price was terrific, and thetransaction was seamless. I... read more... read moreValue for money : Experience :Ease of process :Bumati KusariAhmedabadMay 2022BMW X6  4.5User rating“I had a wonderful experience whilstlooking for a BMW X6. The prices werethe best in the market, and I... read more... read moreValue for money : Experience :Ease of process :Sarama MahantaAhmedabadMay 2022HYUNDAI CRETA  4User rating“I am an avid car fan, and I love theHyundai Creta. And I was surprised toget an incredible deal that ... read more... read moreValue for money : Experience :Ease of process :Indira PandaAhmedabadMay 2022FORD CLASSIC  5User rating“I cannot sing enough praises about theservice I received from the team ofCARS24. The staff was know... read more... read moreValue for money : Experience :Ease of process :Shalini DivekarAhmedabadMay 2022SKODA RAPID  5User rating“The Skoda Rapid I bought was inimmaculate condition, and consideringhow inexpensive it was, all t... read more... read moreValue for money : Experience :Ease of process :Vakpati JagatapAhmedabadMay 2022NISSAN TERRANO  5User rating“I bought a NISSAN TERRANO fromCARS24, and I am very happy with mypurchase. They were very h... read more... read moreValue for money : Experience :Ease of process :Manas BajpeyiAhmedabadMay 2022TATA ZEST  4.5User rating“I was able to get a great deal on myTata Zest. The team at CARS24 was veryfriendly and let me test driv... read more... read moreValue for money : Experience :Ease of process :Sadhana DalmaAhmedabadMay 2022TOYOTA INNOVA  4User rating“Delighted with my experience withCARS24. This is the third time we'vebought a car from them, an... read more... read moreValue for money : Experience :Ease of process :Madhava PandyaAhmedabadMay 2022TATA SAFARI  5User rating“I was in the market for a reliable SUVwith a reasonable price. I had checkedout my options in the local ... read more... read moreValue for money : Experience :Ease of process :Manasa NayarAhmedabadMay 2022NISSAN MICRA ACTIVE  4.5User rating“I LOVE driving my NISSAN MICRA ACTIVE.It's the best car I have ever owned, and itwas an affordable price. Oh,... read more... read moreValue for money : Experience :Ease of process :Bumati AyyangarAhmedabadMay 2022VOLKSWAGEN POLO  5User rating“It was recommended to me that I gocheck out the selection at CARS24. I hada specific budget, so I spok... read more... read moreValue for money : Experience :Ease of process :Jyoti ParikhAhmedabadMay 2022TOYOTA INNOVA  4.5User rating“I am at the point where I want to buy asizeable family car. The team at CARS24made the Toyota Innova av... read more... read moreValue for money : Experience :Ease of process :Prakash ShevadeAhmedabadMay 2022BMW X6  5User rating“It wasn't easy to find the right BMW X6,but I'm happy I found it. The car wasdefinitely worth the money, ... read more... read moreValue for money : Experience :Ease of process :Katyayana AhujaAhmedabadMay 2022SKODA OCTAVIA  4User rating“I was very happy with the SKODAOCTAVIA I bought. I look forward torecommending my friends to CARS24.”... read moreValue for money : Experience :Ease of process :Kareena MukhtarAhmedabadMay 2022HYUNDAI CRETA  5User rating“I bought a Hyundai Creta from CARS24,and I couldn't be happier. They werevery professional and helpf... read more... read moreValue for money : Experience :Ease of process :Hira BanahattiAhmedabadMay 2022MAHINDRA SCORPIO  4.5User rating“I bought a Mahindra Scorpio fromCARS24. It was a very easy andstraightforward process. Th... read more... read moreValue for money : Experience :Ease of process :Rehan QuraishiAhmedabadApr 2021FORD ECOSPORT  4.5User rating“I'm very happy with the Ford Ecosportthat I bought from CARS24. The processwas easy and the staff was ... read more... read moreValue for money : Experience :Ease of process :Rehan MirzaAhmedabadApr 2021CHEVROLET SAIL UVA  5User rating“I was nervous about buying a used caronline, but the team at CARS24 made iteasy. They were honest and... read more... read moreValue for money : Experience :Ease of process :Mahesh BoppannaAhmedabadApr 2021RENAULT SCALA  4.5User rating“The Renault Scala I bought fromCARS24 is a great car. The process waseasy and the staff was very ... read more... read moreValue for money : Experience :Ease of process :Mahesh DevaiahAhmedabadApr 2021MARUTI SUZUKI VITARA BREZZA  5User rating“I'm very happy with my purchase of aMaruti Suzuki Vitara Brezza from CARS24.The process was extremely ... read more... read moreValue for money : Experience :Ease of process :Ajay DevaiahAhmedabadApr 2021MITSUBISHI PAJERO SPORT  5User rating“The team at CARS24 was extremelyhelpful and professional. I was extremelyhappy with the Mitsubishi P... read more... read moreValue for money : Experience :Ease of process :Ajay CarriappaAhmedabadApr 2021MARUTI SUZUKI RITZ  5User rating“The team at CARS24 is veryprofessional and helpful. I was able toget a great deal on my MAR... read more... read moreValue for money : Experience :Ease of process :Karthik CarriappaAhmedabadApr 2021MERCEDES BENZ C CLASS  5User rating“Buying my car from CARS24 was agreat decision. They had a greatselection of cars, and the st... read more... read moreValue for money : Experience :Ease of process :Sowmya CarriappaAhmedabadApr 2021FIAT LINEA  4.5User rating“I had a great experience buying myFIAT LINEA from CARS24. The selectionwas great, and the staff wa... read more... read moreValue for money : Experience :Ease of process :Salim MirzaAhmedabadApr 2021RENAULT CAPTUR  5User rating“I'm so happy with my purchase fromCARS24! The Renault Captur I bought isperfect for me and my nee... read more... read moreValue for money : Experience :Ease of process :Riyaz AbdullahAhmedabadApr 2021MARUTI SUZUKI OMNI  5User rating“I found the team at CARS24 to be veryhelpful and trustworthy. I bought a usedMARUTI SUZUKI OMNI from th... read more... read moreValue for money : Experience :Ease of process :Fateh ChopraAhmedabadApr 2021SKODA RAPID  5User rating“The team at CARS24 was excellent!They were very helpful and gave me agreat deal on my SKODA RA... read more... read moreValue for money : Experience :Ease of process :Arif NaseerAhmedabadApr 2021NISSAN TERRANO  5User rating“CARS24 is the best place to buy a usedcar. They have a great selection and theprocess is so easy. I was ver... read more... read moreValue for money : Experience :Ease of process :Arif NoorAhmedabadApr 2021OPEL CORSA  4User rating“I was very happy with my purchasefrom CARS24. The OPEL CORSA I boughtwas in great condition and ... read more... read moreValue for money : Experience :Ease of process :Kamran QuraishiAhmedabadApr 2021HONDA JAZZ  5User rating“I'm very happy with the purchase of myHonda Jazz from CARS24. The processwas very easy, and the staff... read more... read moreValue for money : Experience :Ease of process :Kamran RiazAhmedabadApr 2021TATA NANO  5User rating“I bought a TATA NANO from CARS24,and it has been a great experience. Thecar is in great condition an... read more... read moreValue for money : Experience :Ease of process :Kamran NaseerAhmedabadApr 2021RENAULT KWID  5User rating“I was a bit apprehensive about buyinga car online, but the team at CARS24was very helpful. I was able ... read more... read moreValue for money : Experience :Ease of process :Akshit DwivediAhmedabadApr 2021HYUNDAI ELITE I20  4.5User rating“I had a great experience buying my carfrom CARS24. The process was verysmooth, and the staff was v... read more... read moreValue for money : Experience :Ease of process :Akash DwivediAhmedabadApr 2021MARUTI SUZUKI DZIRE  4.5User rating“The best thing about buying a car fromCARS24 is that you can be sure of itshistory and condition. The t... read more... read moreValue for money : Experience :Ease of process :Akshit AggarwalAhmedabadApr 2021HYUNDAI I10  5User rating“I bought a HYUNDAI I10 from CARS24and I'm very happy with it. The processwas smooth and the car is i... read more... read moreValue for money : Experience :Ease of process :Selvamani PillaiAhmedabadMar 2021MAHINDRA XYLO  5User rating“Buying a car from CARS24 was a greatdecision. The selection was great, andthe staff was very helpful. I ... read more... read moreValue for money : Experience :Ease of process :Induja NaickerAhmedabadMar 2021TATA SAFARI STORME  5User rating“I had a great experience buying myTATA SAFARI STORME from CARS24. Thestaff was knowledgeable a... read more... read moreValue for money : Experience :Ease of process :Meena MudaliarAhmedabadMar 2021TATA XENON XT  4User rating“I am very happy with my purchase ofthe TATA XENON XT from CARS24. Theselection was great, and th... read more... read moreValue for money : Experience :Ease of process :Deepak ChopraAhmedabadMar 2021MITSUBISHI LANCER  4User rating“I am thoroughly happy with the car Ibought from CARS24. It is a MITSUBISHILANCER, and the condition i... read more... read moreValue for money : Experience :Ease of process :Eklavya KapadiaAhmedabadMar 2021MITSUBISHI LANCER  5User rating“I'm very happy with the MitsubishiLancer I bought from CARS24. Theprocess was very easy, and... read more... read moreValue for money : Experience :Ease of process :Fateh ChabraAhmedabadMar 2021MAHINDRA Marshal  5User rating“I was a little hesitant to buy a caronline, but I'm glad I did. The team atCARS24 was excellent, and I... read more... read moreValue for money : Experience :Ease of process :Arjun ThevarAhmedabadMar 2021HYUNDAI VERNA  4.5User rating“The CARS24 team was great! They weresuper helpful, and I love my newHYUNDAI VERNA. The proces... read more... read moreValue for money : Experience :Ease of process :Maheshwari TalapalaAhmedabadMar 2021AUDI A4  4.5User rating“The team at CARS24 were really helpfulin finding me the perfect car. I'm veryhappy with my AUDI A4. The... read more... read moreValue for money : Experience :Ease of process :Revati KaushikAhmedabadMar 2021HYUNDAI VERNA  5User rating“I am so happy with my purchase fromCARS24! The HYUNDAI VERNA is a greatcar and the process was re... read more... read moreValue for money : Experience :Ease of process : NextFREQUENTLY ASKED QUESTIONS FOR USED CARS IN AHMEDABADHow many second hand cars are available in Ahmedabad?392 used cars are available in Ahmedabad of popular brands like Maruti Suzuki, Hyundai, Honda & moreWhat are the most popular brands available for 2nd hand cars in Ahmedabad?CARS24 has a wide inventory of all brands including Maruti Suzuki, Hyundai, Honda & more. Find the best second hand car in Ahmedabad of your choice on CARS24.What will be the starting price of an old car in Ahmedabad?The starting price of a used car in Ahmedabad is Rs. ₹1,00,000.What body types are available for 2nd hand cars in Ahmedabad?Used cars in Ahmedabad are available from every segment, be it Hatchback, Sedan, SUV.Can I buy used cars online at CARS24 in Ahmedabad?Of Course yes, you can buy used cars online in Ahmedabad from CARS24. You can find thousands of quality second hand cars for sale on our website/app that can be bought at the click of a button & delivered to your doorstep anywhere in AhmedabadWhat to check before buying a second hand car in Ahmedabad?Important things to check  before buying a second hand car in Ahmedabad are:Source: Buying a car from a trusted source is important to make sure the car is in the exact condition as stated & also to deal with any post sale related issues.Condition: Ensure the car is non-accidental & does not have any structural damage. We use a 140 point check to make sure every car we sell is in top condition.Age: Buying a used car that is very old can lead to problems like expensive maintenance costs and scarcity of spare parts. A three to five year old car should be an ideal buy,Car Documents: Verification of vehicle documents like Registration Certificate (RC), Insurance & PUC is very important. Also ensure the car is not under loan (hypothecated), there are no traffic challans or any legal issues with it.Certified or Not: Certified used cars come with warranty and are refurbished to as good as new to protect buyers from unforeseen repair & maintenance cost.Where can I buy used cars in Ahmedabad?You can buy used cars in Ahmedabad from Cars24. Visit our website, book the car of your choice & get it delivered to your home.How can I check a second hand car in Ahmedabad?You can check second hand cars in Ahmedabad using conventional & time consuming buying methods like classified, dealers etc. CARS24 brings you a virtual showroom experience at your fingertips using 360 view. You can check multiple cars for sale in minutes and buy one from the comfort of your couch. We’ll deliver the car anywhere in AhmedabadKEEP IN TOUCHEXPERIENCE CARS24 APP ON MOBILEPowered by CARS24® 2022 www.cars24.comAll rights reservedUSEFUL LINKSContact UsAbout UsPrivacy PolicyTerms and ConditionsFAQSitemapTestimonialsBlogBranchesWe're Hiring!Become Our PartnerNeed a LoanRC Transfer StatusCARS24 FinanceCARS24 Franchise PartnersInvestorsTop BrandsMaruti SuzukiHyundaiHondaTataToyotaChevroletFordMahindraSkodaVolkswagenNissanRenaultFiatMercedes BenzAudiTOP CITIESNew DelhiNoidaGurgaonMumbaiPuneBengaluruHyderabadChennaiKolkataAhmedabadPOPULAR SEARCHESCARS24 PricingSell Used CarVehicle Ownership TransferUsed Car ValuationNeed Help?\\n\\n\\n\\n\\n\\n\\n\\n\\n\\n\\n\\n\\n\\n\\n\\n\\n\\n\\n\\n\\n\\n\\n\\n\\nHey! How can I help you today? \""
      ]
     },
     "execution_count": 3,
     "metadata": {},
     "output_type": "execute_result"
    }
   ],
   "source": [
    "soup.text"
   ]
  },
  {
   "cell_type": "markdown",
   "id": "bb53349c",
   "metadata": {},
   "source": [
    "**Creating a list of the names of cars and prices of cars**"
   ]
  },
  {
   "cell_type": "code",
   "execution_count": 4,
   "id": "250c3a64",
   "metadata": {},
   "outputs": [],
   "source": [
    "car_name =[]\n",
    "car_price=[]"
   ]
  },
  {
   "cell_type": "markdown",
   "id": "a72c0d11",
   "metadata": {},
   "source": [
    "**Extracting the container of each car and then extracting each name and price of the car**"
   ]
  },
  {
   "cell_type": "code",
   "execution_count": 5,
   "id": "3edccb79",
   "metadata": {},
   "outputs": [
    {
     "name": "stdout",
     "output_type": "stream",
     "text": [
      "Extracted Successfully\n"
     ]
    }
   ],
   "source": [
    "for car_tag in soup.find_all('div', class_='col-4'):  \n",
    "\n",
    "    \n",
    "    car_name=[score.get_text()for score in soup.find_all(name=\"h2\", class_=\"_3FpCg\")]\n",
    "    \n",
    "    car_price=[score.get_text() for score in soup.find_all(name=\"div\", class_=\"_7udZZ\")]\n",
    "\n",
    "print(\"Extracted Successfully\")"
   ]
  },
  {
   "cell_type": "code",
   "execution_count": 6,
   "id": "8aa1b115",
   "metadata": {},
   "outputs": [],
   "source": [
    "#car_model=[]\n",
    "#car_info=[]\n",
    "\n",
    "#for car_tag in soup.find_all('div', class_='col-4'):  \n",
    "\n",
    "    # car_model=[score.get_text() for score in soup.find_all(name=\"p\", class_=\"cvakB\")]\n",
    "    \n",
    "    #car_info=[score.get_text() for score in soup.find_all(name=\"ul\", class_=\"bVR0c\") ]"
   ]
  },
  {
   "cell_type": "markdown",
   "id": "ce550348",
   "metadata": {},
   "source": [
    "**Extracting wheather the car is Manual Or Automatic**"
   ]
  },
  {
   "cell_type": "code",
   "execution_count": 7,
   "id": "5fff8c82",
   "metadata": {},
   "outputs": [
    {
     "name": "stdout",
     "output_type": "stream",
     "text": [
      "Extracted Successfully\n"
     ]
    }
   ],
   "source": [
    "car_model_tag = soup.find_all(name=\"p\", class_=\"cvakB\")\n",
    "\n",
    "car_model = [ma.find_all(name='span')[0].text for ma in car_model_tag]  #  ma stand for manual automatic\n",
    "\n",
    "car_model = [nan if nan.replace(' ','') else None for nan in car_model ] # nan stands for None values in list\n",
    "\n",
    "print(\"Extracted Successfully\")"
   ]
  },
  {
   "cell_type": "markdown",
   "id": "5f19035b",
   "metadata": {},
   "source": [
    "**Extracting the car's link**"
   ]
  },
  {
   "cell_type": "code",
   "execution_count": 8,
   "id": "6caf9fdf",
   "metadata": {},
   "outputs": [
    {
     "name": "stdout",
     "output_type": "stream",
     "text": [
      "Extracted Successfully\n"
     ]
    }
   ],
   "source": [
    "car_link=[]\n",
    "car_tag=soup.find_all(name=\"a\", class_=\"_9Ue0B\")\n",
    "for i in car_tag:\n",
    "    link=i.get(\"href\")\n",
    "    car_link.append(link)   \n",
    "    \n",
    "print(\"Extracted Successfully\")"
   ]
  },
  {
   "cell_type": "markdown",
   "id": "3d303981",
   "metadata": {},
   "source": [
    "**Extracting the car's Kilometers, How many km the car has already covered**"
   ]
  },
  {
   "cell_type": "code",
   "execution_count": 9,
   "id": "42f41e33",
   "metadata": {},
   "outputs": [
    {
     "name": "stdout",
     "output_type": "stream",
     "text": [
      "Extracted Successfully\n"
     ]
    }
   ],
   "source": [
    "km=[]\n",
    "for car_tag in soup.find_all('ul', class_='bVR0c'): \n",
    "    for i in car_tag.find_all(name=\"li\")[0]:\n",
    "        km.append(i)\n",
    "        \n",
    "print(\"Extracted Successfully\")"
   ]
  },
  {
   "cell_type": "markdown",
   "id": "72bc54d7",
   "metadata": {},
   "source": [
    "**Extracting the car's Owner, is the owner 1'st or 2'nd**"
   ]
  },
  {
   "cell_type": "code",
   "execution_count": 10,
   "id": "d94671cf",
   "metadata": {},
   "outputs": [
    {
     "name": "stdout",
     "output_type": "stream",
     "text": [
      "Extracted Successfully\n"
     ]
    }
   ],
   "source": [
    "owner=[]\n",
    "for car_tag in soup.find_all('ul', class_='bVR0c'): \n",
    "    for i in car_tag.find_all(name=\"li\")[1]:\n",
    "        owner.append(i)\n",
    "    \n",
    "print(\"Extracted Successfully\")"
   ]
  },
  {
   "cell_type": "markdown",
   "id": "2b10fec7",
   "metadata": {},
   "source": [
    "**Extracting the car's type, is the car Petrol or Diesal**"
   ]
  },
  {
   "cell_type": "code",
   "execution_count": 11,
   "id": "57581958",
   "metadata": {},
   "outputs": [
    {
     "name": "stdout",
     "output_type": "stream",
     "text": [
      "Extracted Successfully\n"
     ]
    }
   ],
   "source": [
    "ctype=[]\n",
    "for car_tag in soup.find_all('ul', class_='bVR0c'): \n",
    "    for i in car_tag.find_all(name=\"li\")[2]:\n",
    "        ctype.append(i)\n",
    "    \n",
    "print(\"Extracted Successfully\")"
   ]
  },
  {
   "cell_type": "markdown",
   "id": "26ef6595",
   "metadata": {},
   "source": [
    "**Checking the length of all list**"
   ]
  },
  {
   "cell_type": "code",
   "execution_count": 12,
   "id": "6d40fc5d",
   "metadata": {},
   "outputs": [
    {
     "name": "stdout",
     "output_type": "stream",
     "text": [
      "392\n",
      "392\n",
      "392\n",
      "392\n",
      "392\n",
      "392\n",
      "392\n"
     ]
    }
   ],
   "source": [
    "print(len(car_link))\n",
    "print(len(car_name))\n",
    "print(len(car_model))\n",
    "print(len(car_price))\n",
    "print(len(km))\n",
    "print(len(owner))\n",
    "print(len(ctype))\n",
    "#print(len(car_info))"
   ]
  },
  {
   "cell_type": "markdown",
   "id": "49c8f035",
   "metadata": {},
   "source": [
    "**Creating a Dictionary with the lists we have created above**"
   ]
  },
  {
   "cell_type": "code",
   "execution_count": 13,
   "id": "f4a9594e",
   "metadata": {},
   "outputs": [],
   "source": [
    "d={'Car Name':car_name,'Car model':car_model,'Car Price':car_price,'KM':km,'Owner':owner,'Car Type':ctype,'Car link':car_link}"
   ]
  },
  {
   "cell_type": "markdown",
   "id": "5bce7e3c",
   "metadata": {},
   "source": [
    "<h2>Creating a Dataframe using Pandas</h2>"
   ]
  },
  {
   "cell_type": "code",
   "execution_count": 14,
   "id": "ba4a6e71",
   "metadata": {
    "scrolled": true
   },
   "outputs": [
    {
     "data": {
      "text/html": [
       "<div>\n",
       "<style scoped>\n",
       "    .dataframe tbody tr th:only-of-type {\n",
       "        vertical-align: middle;\n",
       "    }\n",
       "\n",
       "    .dataframe tbody tr th {\n",
       "        vertical-align: top;\n",
       "    }\n",
       "\n",
       "    .dataframe thead th {\n",
       "        text-align: right;\n",
       "    }\n",
       "</style>\n",
       "<table border=\"1\" class=\"dataframe\">\n",
       "  <thead>\n",
       "    <tr style=\"text-align: right;\">\n",
       "      <th></th>\n",
       "      <th>Car Name</th>\n",
       "      <th>Car model</th>\n",
       "      <th>Car Price</th>\n",
       "      <th>KM</th>\n",
       "      <th>Owner</th>\n",
       "      <th>Car Type</th>\n",
       "      <th>Car link</th>\n",
       "    </tr>\n",
       "  </thead>\n",
       "  <tbody>\n",
       "    <tr>\n",
       "      <th>0</th>\n",
       "      <td>2020 Maruti Ertiga</td>\n",
       "      <td>Manual</td>\n",
       "      <td>₹10,39,099</td>\n",
       "      <td>21,596 km</td>\n",
       "      <td>2nd Owner</td>\n",
       "      <td>Petrol</td>\n",
       "      <td>https://www.cars24.com/buy-used-maruti-ertiga-...</td>\n",
       "    </tr>\n",
       "    <tr>\n",
       "      <th>1</th>\n",
       "      <td>2020 Maruti New  Wagon-R</td>\n",
       "      <td>Manual</td>\n",
       "      <td>₹5,80,599</td>\n",
       "      <td>3,586 km</td>\n",
       "      <td>1st Owner</td>\n",
       "      <td>Petrol</td>\n",
       "      <td>https://www.cars24.com/buy-used-maruti-new--wa...</td>\n",
       "    </tr>\n",
       "    <tr>\n",
       "      <th>2</th>\n",
       "      <td>2020 Maruti Swift</td>\n",
       "      <td>Manual</td>\n",
       "      <td>₹5,89,699</td>\n",
       "      <td>36,866 km</td>\n",
       "      <td>1st Owner</td>\n",
       "      <td>Petrol</td>\n",
       "      <td>https://www.cars24.com/buy-used-maruti-swift-2...</td>\n",
       "    </tr>\n",
       "    <tr>\n",
       "      <th>3</th>\n",
       "      <td>2014 Maruti Wagon R 1.0</td>\n",
       "      <td>Manual</td>\n",
       "      <td>₹3,24,199</td>\n",
       "      <td>17,625 km</td>\n",
       "      <td>1st Owner</td>\n",
       "      <td>Petrol</td>\n",
       "      <td>https://www.cars24.com/buy-used-maruti-wagon-r...</td>\n",
       "    </tr>\n",
       "    <tr>\n",
       "      <th>4</th>\n",
       "      <td>2020 KIA SELTOS</td>\n",
       "      <td>Manual</td>\n",
       "      <td>₹11,96,799</td>\n",
       "      <td>20,061 km</td>\n",
       "      <td>1st Owner</td>\n",
       "      <td>Petrol</td>\n",
       "      <td>https://www.cars24.com/buy-used-kia-seltos-202...</td>\n",
       "    </tr>\n",
       "  </tbody>\n",
       "</table>\n",
       "</div>"
      ],
      "text/plain": [
       "                   Car Name Car model   Car Price         KM      Owner  \\\n",
       "0        2020 Maruti Ertiga    Manual  ₹10,39,099  21,596 km  2nd Owner   \n",
       "1  2020 Maruti New  Wagon-R    Manual   ₹5,80,599   3,586 km  1st Owner   \n",
       "2         2020 Maruti Swift    Manual   ₹5,89,699  36,866 km  1st Owner   \n",
       "3   2014 Maruti Wagon R 1.0    Manual   ₹3,24,199  17,625 km  1st Owner   \n",
       "4           2020 KIA SELTOS    Manual  ₹11,96,799  20,061 km  1st Owner   \n",
       "\n",
       "  Car Type                                           Car link  \n",
       "0   Petrol  https://www.cars24.com/buy-used-maruti-ertiga-...  \n",
       "1   Petrol  https://www.cars24.com/buy-used-maruti-new--wa...  \n",
       "2   Petrol  https://www.cars24.com/buy-used-maruti-swift-2...  \n",
       "3   Petrol  https://www.cars24.com/buy-used-maruti-wagon-r...  \n",
       "4   Petrol  https://www.cars24.com/buy-used-kia-seltos-202...  "
      ]
     },
     "execution_count": 14,
     "metadata": {},
     "output_type": "execute_result"
    }
   ],
   "source": [
    "df = pd.DataFrame(d)\n",
    "df.head()"
   ]
  },
  {
   "cell_type": "markdown",
   "id": "5439af23",
   "metadata": {},
   "source": [
    "**The 'Car Name' column has year, brand, car name so splitting the column car name and extracting year from it and storing 'Year' as a new column in Dataframe df**"
   ]
  },
  {
   "cell_type": "code",
   "execution_count": 15,
   "id": "de9f07d5",
   "metadata": {},
   "outputs": [
    {
     "data": {
      "text/plain": [
       "0    2020\n",
       "1    2020\n",
       "2    2020\n",
       "3    2014\n",
       "4    2020\n",
       "Name: Year, dtype: object"
      ]
     },
     "execution_count": 15,
     "metadata": {},
     "output_type": "execute_result"
    }
   ],
   "source": [
    "df['Car Name'].str.split(expand=True)\n",
    "Cyear=df['Car Name'].str.extract(r'(?P<Year>\\w+)', expand=True)\n",
    "df['Year']=Cyear\n",
    "df['Year'].head()"
   ]
  },
  {
   "cell_type": "markdown",
   "id": "5454b0dc",
   "metadata": {},
   "source": [
    "**Splitting the Column 'Car Name' and extracting brand from it and storing 'Brand' as a new column in Dataframe df**"
   ]
  },
  {
   "cell_type": "code",
   "execution_count": 16,
   "id": "7df2c8e7",
   "metadata": {},
   "outputs": [
    {
     "data": {
      "text/plain": [
       "0    Maruti\n",
       "1    Maruti\n",
       "2    Maruti\n",
       "3    Maruti\n",
       "4       KIA\n",
       "Name: Brand, dtype: object"
      ]
     },
     "execution_count": 16,
     "metadata": {},
     "output_type": "execute_result"
    }
   ],
   "source": [
    "s=df['Car Name'].str.split(expand=True)\n",
    "s.drop(columns=s.columns[0], axis=1, inplace=True)\n",
    "df['Brand']=s[1]\n",
    "df['Brand'].head()"
   ]
  },
  {
   "cell_type": "markdown",
   "id": "b1fbcd38",
   "metadata": {},
   "source": [
    "**Splitting the Column 'Car Name' and extracting Car Name itself from it and storing 'Car Name' as a new column in Dataframe df**"
   ]
  },
  {
   "cell_type": "code",
   "execution_count": 17,
   "id": "aee797cf",
   "metadata": {},
   "outputs": [],
   "source": [
    "a=df['Car Name'].str.split(expand=True)\n",
    "\n",
    "b=a.drop([0, 1], axis = 1)\n",
    "\n",
    "c=b.fillna(\"\")\n",
    "\n",
    "d= c[2]+ \" \" + c[3]+ \" \" +c[4] \n",
    "df['Car Name'] =d"
   ]
  },
  {
   "cell_type": "code",
   "execution_count": 18,
   "id": "c5fe6385",
   "metadata": {},
   "outputs": [
    {
     "data": {
      "text/html": [
       "<div>\n",
       "<style scoped>\n",
       "    .dataframe tbody tr th:only-of-type {\n",
       "        vertical-align: middle;\n",
       "    }\n",
       "\n",
       "    .dataframe tbody tr th {\n",
       "        vertical-align: top;\n",
       "    }\n",
       "\n",
       "    .dataframe thead th {\n",
       "        text-align: right;\n",
       "    }\n",
       "</style>\n",
       "<table border=\"1\" class=\"dataframe\">\n",
       "  <thead>\n",
       "    <tr style=\"text-align: right;\">\n",
       "      <th></th>\n",
       "      <th>Car Name</th>\n",
       "      <th>Car model</th>\n",
       "      <th>Car Price</th>\n",
       "      <th>KM</th>\n",
       "      <th>Owner</th>\n",
       "      <th>Car Type</th>\n",
       "      <th>Car link</th>\n",
       "      <th>Year</th>\n",
       "      <th>Brand</th>\n",
       "    </tr>\n",
       "  </thead>\n",
       "  <tbody>\n",
       "    <tr>\n",
       "      <th>0</th>\n",
       "      <td>Ertiga</td>\n",
       "      <td>Manual</td>\n",
       "      <td>₹10,39,099</td>\n",
       "      <td>21,596 km</td>\n",
       "      <td>2nd Owner</td>\n",
       "      <td>Petrol</td>\n",
       "      <td>https://www.cars24.com/buy-used-maruti-ertiga-...</td>\n",
       "      <td>2020</td>\n",
       "      <td>Maruti</td>\n",
       "    </tr>\n",
       "    <tr>\n",
       "      <th>1</th>\n",
       "      <td>New Wagon-R</td>\n",
       "      <td>Manual</td>\n",
       "      <td>₹5,80,599</td>\n",
       "      <td>3,586 km</td>\n",
       "      <td>1st Owner</td>\n",
       "      <td>Petrol</td>\n",
       "      <td>https://www.cars24.com/buy-used-maruti-new--wa...</td>\n",
       "      <td>2020</td>\n",
       "      <td>Maruti</td>\n",
       "    </tr>\n",
       "    <tr>\n",
       "      <th>2</th>\n",
       "      <td>Swift</td>\n",
       "      <td>Manual</td>\n",
       "      <td>₹5,89,699</td>\n",
       "      <td>36,866 km</td>\n",
       "      <td>1st Owner</td>\n",
       "      <td>Petrol</td>\n",
       "      <td>https://www.cars24.com/buy-used-maruti-swift-2...</td>\n",
       "      <td>2020</td>\n",
       "      <td>Maruti</td>\n",
       "    </tr>\n",
       "    <tr>\n",
       "      <th>3</th>\n",
       "      <td>Wagon R 1.0</td>\n",
       "      <td>Manual</td>\n",
       "      <td>₹3,24,199</td>\n",
       "      <td>17,625 km</td>\n",
       "      <td>1st Owner</td>\n",
       "      <td>Petrol</td>\n",
       "      <td>https://www.cars24.com/buy-used-maruti-wagon-r...</td>\n",
       "      <td>2014</td>\n",
       "      <td>Maruti</td>\n",
       "    </tr>\n",
       "    <tr>\n",
       "      <th>4</th>\n",
       "      <td>SELTOS</td>\n",
       "      <td>Manual</td>\n",
       "      <td>₹11,96,799</td>\n",
       "      <td>20,061 km</td>\n",
       "      <td>1st Owner</td>\n",
       "      <td>Petrol</td>\n",
       "      <td>https://www.cars24.com/buy-used-kia-seltos-202...</td>\n",
       "      <td>2020</td>\n",
       "      <td>KIA</td>\n",
       "    </tr>\n",
       "  </tbody>\n",
       "</table>\n",
       "</div>"
      ],
      "text/plain": [
       "       Car Name Car model   Car Price         KM      Owner Car Type  \\\n",
       "0      Ertiga      Manual  ₹10,39,099  21,596 km  2nd Owner   Petrol   \n",
       "1  New Wagon-R     Manual   ₹5,80,599   3,586 km  1st Owner   Petrol   \n",
       "2       Swift      Manual   ₹5,89,699  36,866 km  1st Owner   Petrol   \n",
       "3   Wagon R 1.0    Manual   ₹3,24,199  17,625 km  1st Owner   Petrol   \n",
       "4      SELTOS      Manual  ₹11,96,799  20,061 km  1st Owner   Petrol   \n",
       "\n",
       "                                            Car link  Year   Brand  \n",
       "0  https://www.cars24.com/buy-used-maruti-ertiga-...  2020  Maruti  \n",
       "1  https://www.cars24.com/buy-used-maruti-new--wa...  2020  Maruti  \n",
       "2  https://www.cars24.com/buy-used-maruti-swift-2...  2020  Maruti  \n",
       "3  https://www.cars24.com/buy-used-maruti-wagon-r...  2014  Maruti  \n",
       "4  https://www.cars24.com/buy-used-kia-seltos-202...  2020     KIA  "
      ]
     },
     "execution_count": 18,
     "metadata": {},
     "output_type": "execute_result"
    }
   ],
   "source": [
    "df.head()"
   ]
  },
  {
   "cell_type": "markdown",
   "id": "aca64c21",
   "metadata": {},
   "source": [
    "**Adding City Column with City as Ahmedabad**"
   ]
  },
  {
   "cell_type": "code",
   "execution_count": 19,
   "id": "176bf80c",
   "metadata": {},
   "outputs": [
    {
     "data": {
      "text/plain": [
       "392"
      ]
     },
     "execution_count": 19,
     "metadata": {},
     "output_type": "execute_result"
    }
   ],
   "source": [
    "df['City']='Ahmedabad'\n",
    "\n",
    "len(df['City'])"
   ]
  },
  {
   "cell_type": "code",
   "execution_count": 20,
   "id": "1fa84523",
   "metadata": {},
   "outputs": [
    {
     "data": {
      "text/html": [
       "<div>\n",
       "<style scoped>\n",
       "    .dataframe tbody tr th:only-of-type {\n",
       "        vertical-align: middle;\n",
       "    }\n",
       "\n",
       "    .dataframe tbody tr th {\n",
       "        vertical-align: top;\n",
       "    }\n",
       "\n",
       "    .dataframe thead th {\n",
       "        text-align: right;\n",
       "    }\n",
       "</style>\n",
       "<table border=\"1\" class=\"dataframe\">\n",
       "  <thead>\n",
       "    <tr style=\"text-align: right;\">\n",
       "      <th></th>\n",
       "      <th>Car Name</th>\n",
       "      <th>Car model</th>\n",
       "      <th>Car Price</th>\n",
       "      <th>KM</th>\n",
       "      <th>Owner</th>\n",
       "      <th>Car Type</th>\n",
       "      <th>Car link</th>\n",
       "      <th>Year</th>\n",
       "      <th>Brand</th>\n",
       "      <th>City</th>\n",
       "    </tr>\n",
       "  </thead>\n",
       "  <tbody>\n",
       "    <tr>\n",
       "      <th>0</th>\n",
       "      <td>Ertiga</td>\n",
       "      <td>Manual</td>\n",
       "      <td>₹10,39,099</td>\n",
       "      <td>21,596 km</td>\n",
       "      <td>2nd Owner</td>\n",
       "      <td>Petrol</td>\n",
       "      <td>https://www.cars24.com/buy-used-maruti-ertiga-...</td>\n",
       "      <td>2020</td>\n",
       "      <td>Maruti</td>\n",
       "      <td>Ahmedabad</td>\n",
       "    </tr>\n",
       "    <tr>\n",
       "      <th>1</th>\n",
       "      <td>New Wagon-R</td>\n",
       "      <td>Manual</td>\n",
       "      <td>₹5,80,599</td>\n",
       "      <td>3,586 km</td>\n",
       "      <td>1st Owner</td>\n",
       "      <td>Petrol</td>\n",
       "      <td>https://www.cars24.com/buy-used-maruti-new--wa...</td>\n",
       "      <td>2020</td>\n",
       "      <td>Maruti</td>\n",
       "      <td>Ahmedabad</td>\n",
       "    </tr>\n",
       "    <tr>\n",
       "      <th>2</th>\n",
       "      <td>Swift</td>\n",
       "      <td>Manual</td>\n",
       "      <td>₹5,89,699</td>\n",
       "      <td>36,866 km</td>\n",
       "      <td>1st Owner</td>\n",
       "      <td>Petrol</td>\n",
       "      <td>https://www.cars24.com/buy-used-maruti-swift-2...</td>\n",
       "      <td>2020</td>\n",
       "      <td>Maruti</td>\n",
       "      <td>Ahmedabad</td>\n",
       "    </tr>\n",
       "    <tr>\n",
       "      <th>3</th>\n",
       "      <td>Wagon R 1.0</td>\n",
       "      <td>Manual</td>\n",
       "      <td>₹3,24,199</td>\n",
       "      <td>17,625 km</td>\n",
       "      <td>1st Owner</td>\n",
       "      <td>Petrol</td>\n",
       "      <td>https://www.cars24.com/buy-used-maruti-wagon-r...</td>\n",
       "      <td>2014</td>\n",
       "      <td>Maruti</td>\n",
       "      <td>Ahmedabad</td>\n",
       "    </tr>\n",
       "    <tr>\n",
       "      <th>4</th>\n",
       "      <td>SELTOS</td>\n",
       "      <td>Manual</td>\n",
       "      <td>₹11,96,799</td>\n",
       "      <td>20,061 km</td>\n",
       "      <td>1st Owner</td>\n",
       "      <td>Petrol</td>\n",
       "      <td>https://www.cars24.com/buy-used-kia-seltos-202...</td>\n",
       "      <td>2020</td>\n",
       "      <td>KIA</td>\n",
       "      <td>Ahmedabad</td>\n",
       "    </tr>\n",
       "    <tr>\n",
       "      <th>...</th>\n",
       "      <td>...</td>\n",
       "      <td>...</td>\n",
       "      <td>...</td>\n",
       "      <td>...</td>\n",
       "      <td>...</td>\n",
       "      <td>...</td>\n",
       "      <td>...</td>\n",
       "      <td>...</td>\n",
       "      <td>...</td>\n",
       "      <td>...</td>\n",
       "    </tr>\n",
       "    <tr>\n",
       "      <th>387</th>\n",
       "      <td>XL6</td>\n",
       "      <td>Manual</td>\n",
       "      <td>₹9,36,999</td>\n",
       "      <td>25,242 km</td>\n",
       "      <td>1st Owner</td>\n",
       "      <td>Petrol</td>\n",
       "      <td>https://www.cars24.com/buy-used-maruti-xl6-201...</td>\n",
       "      <td>2019</td>\n",
       "      <td>Maruti</td>\n",
       "      <td>Ahmedabad</td>\n",
       "    </tr>\n",
       "    <tr>\n",
       "      <th>388</th>\n",
       "      <td>NEW I20</td>\n",
       "      <td>None</td>\n",
       "      <td>₹6,73,199</td>\n",
       "      <td>11,284 km</td>\n",
       "      <td>1st Owner</td>\n",
       "      <td>Petrol</td>\n",
       "      <td>https://www.cars24.com/buy-used-hyundai-new-i2...</td>\n",
       "      <td>2021</td>\n",
       "      <td>Hyundai</td>\n",
       "      <td>Ahmedabad</td>\n",
       "    </tr>\n",
       "    <tr>\n",
       "      <th>389</th>\n",
       "      <td>S Cross</td>\n",
       "      <td>Manual</td>\n",
       "      <td>₹8,88,099</td>\n",
       "      <td>20,043 km</td>\n",
       "      <td>1st Owner</td>\n",
       "      <td>Diesel</td>\n",
       "      <td>https://www.cars24.com/buy-used-maruti-s-cross...</td>\n",
       "      <td>2018</td>\n",
       "      <td>Maruti</td>\n",
       "      <td>Ahmedabad</td>\n",
       "    </tr>\n",
       "    <tr>\n",
       "      <th>390</th>\n",
       "      <td>Redi Go</td>\n",
       "      <td>Manual</td>\n",
       "      <td>₹2,84,599</td>\n",
       "      <td>23,875 km</td>\n",
       "      <td>2nd Owner</td>\n",
       "      <td>Petrol</td>\n",
       "      <td>https://www.cars24.com/buy-used-datsun-redi-go...</td>\n",
       "      <td>2018</td>\n",
       "      <td>Datsun</td>\n",
       "      <td>Ahmedabad</td>\n",
       "    </tr>\n",
       "    <tr>\n",
       "      <th>391</th>\n",
       "      <td>Alto 800</td>\n",
       "      <td>Manual</td>\n",
       "      <td>₹3,52,899</td>\n",
       "      <td>78,986 km</td>\n",
       "      <td>1st Owner</td>\n",
       "      <td>Petrol + CNG</td>\n",
       "      <td>https://www.cars24.com/buy-used-maruti-alto-80...</td>\n",
       "      <td>2019</td>\n",
       "      <td>Maruti</td>\n",
       "      <td>Ahmedabad</td>\n",
       "    </tr>\n",
       "  </tbody>\n",
       "</table>\n",
       "<p>392 rows × 10 columns</p>\n",
       "</div>"
      ],
      "text/plain": [
       "         Car Name Car model   Car Price         KM      Owner      Car Type  \\\n",
       "0        Ertiga      Manual  ₹10,39,099  21,596 km  2nd Owner        Petrol   \n",
       "1    New Wagon-R     Manual   ₹5,80,599   3,586 km  1st Owner        Petrol   \n",
       "2         Swift      Manual   ₹5,89,699  36,866 km  1st Owner        Petrol   \n",
       "3     Wagon R 1.0    Manual   ₹3,24,199  17,625 km  1st Owner        Petrol   \n",
       "4        SELTOS      Manual  ₹11,96,799  20,061 km  1st Owner        Petrol   \n",
       "..            ...       ...         ...        ...        ...           ...   \n",
       "387         XL6      Manual   ₹9,36,999  25,242 km  1st Owner        Petrol   \n",
       "388      NEW I20       None   ₹6,73,199  11,284 km  1st Owner        Petrol   \n",
       "389      S Cross     Manual   ₹8,88,099  20,043 km  1st Owner        Diesel   \n",
       "390      Redi Go     Manual   ₹2,84,599  23,875 km  2nd Owner        Petrol   \n",
       "391     Alto 800     Manual   ₹3,52,899  78,986 km  1st Owner  Petrol + CNG   \n",
       "\n",
       "                                              Car link  Year    Brand  \\\n",
       "0    https://www.cars24.com/buy-used-maruti-ertiga-...  2020   Maruti   \n",
       "1    https://www.cars24.com/buy-used-maruti-new--wa...  2020   Maruti   \n",
       "2    https://www.cars24.com/buy-used-maruti-swift-2...  2020   Maruti   \n",
       "3    https://www.cars24.com/buy-used-maruti-wagon-r...  2014   Maruti   \n",
       "4    https://www.cars24.com/buy-used-kia-seltos-202...  2020      KIA   \n",
       "..                                                 ...   ...      ...   \n",
       "387  https://www.cars24.com/buy-used-maruti-xl6-201...  2019   Maruti   \n",
       "388  https://www.cars24.com/buy-used-hyundai-new-i2...  2021  Hyundai   \n",
       "389  https://www.cars24.com/buy-used-maruti-s-cross...  2018   Maruti   \n",
       "390  https://www.cars24.com/buy-used-datsun-redi-go...  2018   Datsun   \n",
       "391  https://www.cars24.com/buy-used-maruti-alto-80...  2019   Maruti   \n",
       "\n",
       "          City  \n",
       "0    Ahmedabad  \n",
       "1    Ahmedabad  \n",
       "2    Ahmedabad  \n",
       "3    Ahmedabad  \n",
       "4    Ahmedabad  \n",
       "..         ...  \n",
       "387  Ahmedabad  \n",
       "388  Ahmedabad  \n",
       "389  Ahmedabad  \n",
       "390  Ahmedabad  \n",
       "391  Ahmedabad  \n",
       "\n",
       "[392 rows x 10 columns]"
      ]
     },
     "execution_count": 20,
     "metadata": {},
     "output_type": "execute_result"
    }
   ],
   "source": [
    "df"
   ]
  },
  {
   "cell_type": "markdown",
   "id": "0bea7218",
   "metadata": {},
   "source": [
    "**Re-arranging the order of Columns**"
   ]
  },
  {
   "cell_type": "code",
   "execution_count": 21,
   "id": "8477a262",
   "metadata": {
    "scrolled": false
   },
   "outputs": [],
   "source": [
    "data=df.reindex(columns=['City','Year','Brand','Car Name','Car model','Car Price','KM','Owner','Car Type','Car link'])"
   ]
  },
  {
   "cell_type": "code",
   "execution_count": 22,
   "id": "665b8313",
   "metadata": {},
   "outputs": [
    {
     "data": {
      "text/html": [
       "<div>\n",
       "<style scoped>\n",
       "    .dataframe tbody tr th:only-of-type {\n",
       "        vertical-align: middle;\n",
       "    }\n",
       "\n",
       "    .dataframe tbody tr th {\n",
       "        vertical-align: top;\n",
       "    }\n",
       "\n",
       "    .dataframe thead th {\n",
       "        text-align: right;\n",
       "    }\n",
       "</style>\n",
       "<table border=\"1\" class=\"dataframe\">\n",
       "  <thead>\n",
       "    <tr style=\"text-align: right;\">\n",
       "      <th></th>\n",
       "      <th>City</th>\n",
       "      <th>Year</th>\n",
       "      <th>Brand</th>\n",
       "      <th>Car Name</th>\n",
       "      <th>Car model</th>\n",
       "      <th>Car Price</th>\n",
       "      <th>KM</th>\n",
       "      <th>Owner</th>\n",
       "      <th>Car Type</th>\n",
       "      <th>Car link</th>\n",
       "    </tr>\n",
       "  </thead>\n",
       "  <tbody>\n",
       "    <tr>\n",
       "      <th>0</th>\n",
       "      <td>Ahmedabad</td>\n",
       "      <td>2020</td>\n",
       "      <td>Maruti</td>\n",
       "      <td>Ertiga</td>\n",
       "      <td>Manual</td>\n",
       "      <td>₹10,39,099</td>\n",
       "      <td>21,596 km</td>\n",
       "      <td>2nd Owner</td>\n",
       "      <td>Petrol</td>\n",
       "      <td>https://www.cars24.com/buy-used-maruti-ertiga-...</td>\n",
       "    </tr>\n",
       "    <tr>\n",
       "      <th>1</th>\n",
       "      <td>Ahmedabad</td>\n",
       "      <td>2020</td>\n",
       "      <td>Maruti</td>\n",
       "      <td>New Wagon-R</td>\n",
       "      <td>Manual</td>\n",
       "      <td>₹5,80,599</td>\n",
       "      <td>3,586 km</td>\n",
       "      <td>1st Owner</td>\n",
       "      <td>Petrol</td>\n",
       "      <td>https://www.cars24.com/buy-used-maruti-new--wa...</td>\n",
       "    </tr>\n",
       "    <tr>\n",
       "      <th>2</th>\n",
       "      <td>Ahmedabad</td>\n",
       "      <td>2020</td>\n",
       "      <td>Maruti</td>\n",
       "      <td>Swift</td>\n",
       "      <td>Manual</td>\n",
       "      <td>₹5,89,699</td>\n",
       "      <td>36,866 km</td>\n",
       "      <td>1st Owner</td>\n",
       "      <td>Petrol</td>\n",
       "      <td>https://www.cars24.com/buy-used-maruti-swift-2...</td>\n",
       "    </tr>\n",
       "    <tr>\n",
       "      <th>3</th>\n",
       "      <td>Ahmedabad</td>\n",
       "      <td>2014</td>\n",
       "      <td>Maruti</td>\n",
       "      <td>Wagon R 1.0</td>\n",
       "      <td>Manual</td>\n",
       "      <td>₹3,24,199</td>\n",
       "      <td>17,625 km</td>\n",
       "      <td>1st Owner</td>\n",
       "      <td>Petrol</td>\n",
       "      <td>https://www.cars24.com/buy-used-maruti-wagon-r...</td>\n",
       "    </tr>\n",
       "    <tr>\n",
       "      <th>4</th>\n",
       "      <td>Ahmedabad</td>\n",
       "      <td>2020</td>\n",
       "      <td>KIA</td>\n",
       "      <td>SELTOS</td>\n",
       "      <td>Manual</td>\n",
       "      <td>₹11,96,799</td>\n",
       "      <td>20,061 km</td>\n",
       "      <td>1st Owner</td>\n",
       "      <td>Petrol</td>\n",
       "      <td>https://www.cars24.com/buy-used-kia-seltos-202...</td>\n",
       "    </tr>\n",
       "  </tbody>\n",
       "</table>\n",
       "</div>"
      ],
      "text/plain": [
       "        City  Year   Brand      Car Name Car model   Car Price         KM  \\\n",
       "0  Ahmedabad  2020  Maruti      Ertiga      Manual  ₹10,39,099  21,596 km   \n",
       "1  Ahmedabad  2020  Maruti  New Wagon-R     Manual   ₹5,80,599   3,586 km   \n",
       "2  Ahmedabad  2020  Maruti       Swift      Manual   ₹5,89,699  36,866 km   \n",
       "3  Ahmedabad  2014  Maruti   Wagon R 1.0    Manual   ₹3,24,199  17,625 km   \n",
       "4  Ahmedabad  2020     KIA      SELTOS      Manual  ₹11,96,799  20,061 km   \n",
       "\n",
       "       Owner Car Type                                           Car link  \n",
       "0  2nd Owner   Petrol  https://www.cars24.com/buy-used-maruti-ertiga-...  \n",
       "1  1st Owner   Petrol  https://www.cars24.com/buy-used-maruti-new--wa...  \n",
       "2  1st Owner   Petrol  https://www.cars24.com/buy-used-maruti-swift-2...  \n",
       "3  1st Owner   Petrol  https://www.cars24.com/buy-used-maruti-wagon-r...  \n",
       "4  1st Owner   Petrol  https://www.cars24.com/buy-used-kia-seltos-202...  "
      ]
     },
     "execution_count": 22,
     "metadata": {},
     "output_type": "execute_result"
    }
   ],
   "source": [
    "data.head()"
   ]
  },
  {
   "cell_type": "markdown",
   "id": "6d6c2814",
   "metadata": {},
   "source": [
    "**Storing the data as CSV in Given Path**"
   ]
  },
  {
   "cell_type": "code",
   "execution_count": 23,
   "id": "dd780771",
   "metadata": {
    "scrolled": true
   },
   "outputs": [],
   "source": [
    "path=\"D:\\Malhar H Jadhav\\Zep Intern\\Task 2\\Code and data\\Data\\Cars24_Ahmedabad.csv\"\n",
    "data.to_csv(path, index=False)"
   ]
  },
  {
   "cell_type": "code",
   "execution_count": null,
   "id": "adb62bb4",
   "metadata": {},
   "outputs": [],
   "source": []
  }
 ],
 "metadata": {
  "kernelspec": {
   "display_name": "Python 3 (ipykernel)",
   "language": "python",
   "name": "python3"
  },
  "language_info": {
   "codemirror_mode": {
    "name": "ipython",
    "version": 3
   },
   "file_extension": ".py",
   "mimetype": "text/x-python",
   "name": "python",
   "nbconvert_exporter": "python",
   "pygments_lexer": "ipython3",
   "version": "3.9.7"
  }
 },
 "nbformat": 4,
 "nbformat_minor": 5
}
